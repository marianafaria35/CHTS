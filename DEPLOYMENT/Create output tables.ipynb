{
 "cells": [
  {
   "cell_type": "code",
   "execution_count": 1,
   "metadata": {},
   "outputs": [],
   "source": [
    "file2 = open(\"ligacao.txt\",'r')\n",
    "file1=file2.read()\n",
    "\n",
    "lista=[]\n",
    "texto1=file1.split('\\n')[0].split(':')[0].replace(' ','')\n",
    "texto2=file1.split('\\n')[1].split(':')[0].replace(' ','')\n",
    "texto3=file1.split('\\n')[2].split(':')[0].replace(' ','')\n",
    "lista.append(texto1)\n",
    "lista.append(texto2)\n",
    "lista.append(texto3)\n",
    "\n",
    "for x in lista:\n",
    "    if x == 'username':\n",
    "        user=file1.split('\\n')[0].split(':')[1].replace(' ','')\n",
    "    if x =='dsn':\n",
    "        dsn=file1.split('\\n')[1]\n",
    "        dsn1=dsn.split(':')[1]\n",
    "        dsn2=dsn.split(':')[2]\n",
    "        dsn=(dsn1+':'+dsn2).replace(' ','')\n",
    "    if x =='password':\n",
    "        password=file1.split('\\n')[2].split(':')[1].replace(' ','')\n",
    "file2.close()"
   ]
  },
  {
   "cell_type": "code",
   "execution_count": 2,
   "metadata": {},
   "outputs": [],
   "source": [
    "import pandas as pd\n",
    "import numpy as np\n",
    "import os\n",
    "import cx_Oracle"
   ]
  },
  {
   "cell_type": "code",
   "execution_count": 3,
   "metadata": {},
   "outputs": [],
   "source": [
    "cx_Oracle.init_oracle_client(lib_dir=os.environ.get(\"HOME\")+\"/Downloads/instantclient_19_8\")"
   ]
  },
  {
   "cell_type": "code",
   "execution_count": 4,
   "metadata": {},
   "outputs": [],
   "source": [
    "connection = cx_Oracle.connect(\n",
    "    user=user,\n",
    "    password=password,\n",
    "    dsn=dsn)"
   ]
  },
  {
   "cell_type": "code",
   "execution_count": 5,
   "metadata": {},
   "outputs": [],
   "source": [
    "cursor = connection.cursor()"
   ]
  },
  {
   "cell_type": "code",
   "execution_count": 15,
   "metadata": {},
   "outputs": [],
   "source": [
    "# TABELA OUTPUT REGRESSAO\n",
    "\n",
    "cursor.execute(\"\"\"\n",
    "    begin\n",
    "        execute immediate 'drop table OUTPUT_REGRESSAO';\n",
    "        exception when others then if sqlcode <> -942 then raise; end if;\n",
    "    end;\"\"\")\n",
    "\n",
    "cursor.execute(\"\"\"\n",
    "    create table OUTPUT_REGRESSAO (\n",
    "        id_processo number generated always as identity,\n",
    "        urg_episodio number,\n",
    "        target varchar2(4000),\n",
    "        técnica varchar2(4000),\n",
    "        valor_previsto number,\n",
    "        max_valor_previsto number,\n",
    "        min_valor_previsto number,\n",
    "        ultimo number,\n",
    "        timestamp timestamp with time zone default current_timestamp,\n",
    "        primary key (id_processo))\"\"\")\n",
    "\n",
    "# TABELA OUTPUT CLASSIFICACAO\n",
    "\n",
    "cursor.execute(\"\"\"\n",
    "    begin\n",
    "        execute immediate 'drop table OUTPUT_CLASSIFICACAO';\n",
    "        exception when others then if sqlcode <> -942 then raise; end if;\n",
    "    end;\"\"\")\n",
    "\n",
    "cursor.execute(\"\"\"\n",
    "    create table OUTPUT_CLASSIFICACAO (\n",
    "        id_processo number generated always as identity,\n",
    "        urg_episodio number,\n",
    "        target varchar2(4000),\n",
    "        técnica varchar2(4000),\n",
    "        valor_previsto number,\n",
    "        grau_confianca number,\n",
    "        ultimo number,\n",
    "        timestamp timestamp with time zone default current_timestamp,\n",
    "        primary key (id_processo))\"\"\")"
   ]
  },
  {
   "cell_type": "code",
   "execution_count": 13,
   "metadata": {},
   "outputs": [],
   "source": [
    "# TABELA MODELOS\n",
    "\n",
    "cursor.execute(\"\"\"\n",
    "    begin\n",
    "        execute immediate 'drop table MODELOS';\n",
    "        exception when others then if sqlcode <> -942 then raise; end if;\n",
    "    end;\"\"\")\n",
    "\n",
    "cursor.execute(\"\"\"\n",
    "    create table MODELOS (\n",
    "        id_processo number generated always as identity,\n",
    "        target varchar2(4000),\n",
    "        técnica varchar2(4000),\n",
    "        nome_ficheiro varchar2(4000),\n",
    "        path varchar2(4000),\n",
    "        atual number,\n",
    "        timestamp timestamp with time zone default current_timestamp,\n",
    "        primary key (id_processo))\"\"\")"
   ]
  },
  {
   "cell_type": "code",
   "execution_count": null,
   "metadata": {},
   "outputs": [],
   "source": []
  }
 ],
 "metadata": {
  "kernelspec": {
   "display_name": "Python 3 (ipykernel)",
   "language": "python",
   "name": "python3"
  },
  "language_info": {
   "codemirror_mode": {
    "name": "ipython",
    "version": 3
   },
   "file_extension": ".py",
   "mimetype": "text/x-python",
   "name": "python",
   "nbconvert_exporter": "python",
   "pygments_lexer": "ipython3",
   "version": "3.10.5"
  }
 },
 "nbformat": 4,
 "nbformat_minor": 4
}
