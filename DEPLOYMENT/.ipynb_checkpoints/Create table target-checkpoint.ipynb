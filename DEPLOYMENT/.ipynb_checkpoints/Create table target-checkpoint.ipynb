{
 "cells": [
  {
   "cell_type": "code",
   "execution_count": 1,
   "metadata": {},
   "outputs": [],
   "source": [
    "file2 = open(\"ligacao.txt\",'r')\n",
    "file1=file2.read()\n",
    "\n",
    "lista=[]\n",
    "texto1=file1.split('\\n')[0].split(':')[0].replace(' ','')\n",
    "texto2=file1.split('\\n')[1].split(':')[0].replace(' ','')\n",
    "texto3=file1.split('\\n')[2].split(':')[0].replace(' ','')\n",
    "lista.append(texto1)\n",
    "lista.append(texto2)\n",
    "lista.append(texto3)\n",
    "\n",
    "for x in lista:\n",
    "    if x == 'username':\n",
    "        user=file1.split('\\n')[0].split(':')[1].replace(' ','')\n",
    "    if x =='dsn':\n",
    "        dsn=file1.split('\\n')[1]\n",
    "        dsn1=dsn.split(':')[1]\n",
    "        dsn2=dsn.split(':')[2]\n",
    "        dsn=(dsn1+':'+dsn2).replace(' ','')\n",
    "    if x =='password':\n",
    "        password=file1.split('\\n')[2].split(':')[1].replace(' ','')\n",
    "file2.close()"
   ]
  },
  {
   "cell_type": "code",
   "execution_count": 2,
   "metadata": {},
   "outputs": [],
   "source": [
    "import pandas as pd\n",
    "import numpy as np\n",
    "import os\n",
    "import cx_Oracle"
   ]
  },
  {
   "cell_type": "code",
   "execution_count": 3,
   "metadata": {},
   "outputs": [],
   "source": [
    "cx_Oracle.init_oracle_client(lib_dir=os.environ.get(\"HOME\")+\"/Downloads/instantclient_19_8\")"
   ]
  },
  {
   "cell_type": "code",
   "execution_count": 4,
   "metadata": {},
   "outputs": [],
   "source": [
    "connection = cx_Oracle.connect(\n",
    "    user=user,\n",
    "    password=password,\n",
    "    dsn=dsn)"
   ]
  },
  {
   "cell_type": "code",
   "execution_count": 5,
   "metadata": {},
   "outputs": [],
   "source": [
    "cursor = connection.cursor()"
   ]
  },
  {
   "cell_type": "code",
   "execution_count": 6,
   "metadata": {},
   "outputs": [],
   "source": [
    "# TABELA DESCRICAO TARGET\n",
    "\n",
    "cursor.execute(\"\"\"\n",
    "    begin\n",
    "        execute immediate 'drop table DESCRICAO_TARGET';\n",
    "        exception when others then if sqlcode <> -942 then raise; end if;\n",
    "    end;\"\"\")\n",
    "\n",
    "cursor.execute(\"\"\"\n",
    "    create table DESCRICAO_TARGET (\n",
    "        id_processo number generated always as identity,\n",
    "        target varchar2(4000),\n",
    "        descrição varchar2(4000),\n",
    "        primary key (id_processo))\"\"\")"
   ]
  },
  {
   "cell_type": "code",
   "execution_count": 7,
   "metadata": {},
   "outputs": [],
   "source": [
    "rows = [(\"Internamento\", \"Necessidade de internamento do paciente. (1 - Internamento, 0 - Caso Contrário)\"),\n",
    "        (\"LOS\", \"Tempo de permanência restante do paciente no serviço até ao momento de alta (em dias para o Serviço de Internamento e em horas para o Serviço de Urgência).\"),\n",
    "        (\"Próxima_Especialidade\", \"Referente a qual o caminho a ser tomado pelo paciente, uma outra especialidade ou alta hospitalar (valor 0).\"),\n",
    "        (\"Afluência\", \"Numero de pacientes a darem entrada no Serviço de Urgência, por dia.\")]\n",
    "\n",
    "cursor.executemany(\"insert into DESCRICAO_TARGET (target, descrição) values(:1, :2)\", rows)\n",
    "\n",
    "connection.commit()"
   ]
  },
  {
   "cell_type": "code",
   "execution_count": null,
   "metadata": {},
   "outputs": [],
   "source": []
  }
 ],
 "metadata": {
  "kernelspec": {
   "display_name": "Python 3",
   "language": "python",
   "name": "python3"
  },
  "language_info": {
   "codemirror_mode": {
    "name": "ipython",
    "version": 3
   },
   "file_extension": ".py",
   "mimetype": "text/x-python",
   "name": "python",
   "nbconvert_exporter": "python",
   "pygments_lexer": "ipython3",
   "version": "3.8.8"
  }
 },
 "nbformat": 4,
 "nbformat_minor": 4
}
