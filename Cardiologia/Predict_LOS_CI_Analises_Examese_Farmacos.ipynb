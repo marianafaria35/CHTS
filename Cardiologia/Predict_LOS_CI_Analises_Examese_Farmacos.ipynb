{
 "cells": [
  {
   "cell_type": "code",
   "execution_count": 104,
   "metadata": {},
   "outputs": [],
   "source": [
    "import datetime\n",
    "import math\n",
    "import numpy as np\n",
    "import pandas as pd"
   ]
  },
  {
   "cell_type": "code",
   "execution_count": 105,
   "metadata": {},
   "outputs": [],
   "source": [
    "dados=pd.read_csv('Datastes_Criados/Predict_lOS_CI_ex_an_fa.csv', sep='\\t')"
   ]
  },
  {
   "cell_type": "code",
   "execution_count": 106,
   "metadata": {},
   "outputs": [
    {
     "name": "stdout",
     "output_type": "stream",
     "text": [
      "<class 'pandas.core.frame.DataFrame'>\n",
      "RangeIndex: 8566 entries, 0 to 8565\n",
      "Data columns (total 48 columns):\n",
      " #   Column               Non-Null Count  Dtype  \n",
      "---  ------               --------------  -----  \n",
      " 0   INT_EPISODIO         8566 non-null   int64  \n",
      " 1   DTA_NASCIMENTO       8566 non-null   object \n",
      " 2   SEXO                 8566 non-null   int64  \n",
      " 3   NUM_TRANSFERENCIA    8566 non-null   int64  \n",
      " 4   COD_ESPECIALIDADE    8566 non-null   int64  \n",
      " 5   DES_ESPECIALIDADE    8566 non-null   object \n",
      " 6   MOTIVO_ENTRADA       8566 non-null   object \n",
      " 7   COD_DIAGNOSTICO_ADM  8566 non-null   object \n",
      " 8   DTA_ENTRADA          8566 non-null   object \n",
      " 9   HORA_ENTRADA         8566 non-null   int64  \n",
      " 10  DTA_SAIDA            8566 non-null   object \n",
      " 11  HORA_SAIDA           8566 non-null   float64\n",
      " 12  sequencia            8566 non-null   object \n",
      " 13  proximo              8566 non-null   int64  \n",
      " 14  des_sequencia        8566 non-null   object \n",
      " 15  des_proximo          8566 non-null   object \n",
      " 16  LOS                  8566 non-null   float64\n",
      " 17  IDADE                8566 non-null   int64  \n",
      " 18  afluencia            8566 non-null   int64  \n",
      " 19  DTA_INTERNAMENTO     8566 non-null   object \n",
      " 20  HORA_INTERNAMENTO    8566 non-null   int64  \n",
      " 21  TIPO_ADMISSAO        8566 non-null   object \n",
      " 22  COD_PROVENIENCIA     8566 non-null   int64  \n",
      " 23  HORAS_INT            8566 non-null   int64  \n",
      " 24  DIAS_INT             8566 non-null   float64\n",
      " 25  LOS_ANTERIOR         8566 non-null   float64\n",
      " 26  teste                8566 non-null   object \n",
      " 27  DTA_ACTO_MEDICO      2348 non-null   object \n",
      " 28  QTD_EXAMES           2348 non-null   float64\n",
      " 29  seq_exames           2348 non-null   object \n",
      " 30  Novos Exames         2348 non-null   float64\n",
      " 31  Exames Repetidos     2348 non-null   float64\n",
      " 32  ACC_EXAMES           8566 non-null   float64\n",
      " 33  Data_Uso_x           2348 non-null   object \n",
      " 34  DTA_ANALISE          6724 non-null   object \n",
      " 35  QTD_ANALISES         6724 non-null   float64\n",
      " 36  seq_analises         6724 non-null   object \n",
      " 37  Novas Analises       6724 non-null   float64\n",
      " 38  Analises Repetidas   6724 non-null   float64\n",
      " 39  ACC_ANALISES         8566 non-null   float64\n",
      " 40  Data_Uso_y           6724 non-null   object \n",
      " 41  DATAINICIO           7 non-null      object \n",
      " 42  FARMACO              7 non-null      float64\n",
      " 43  seq_farmacos         7 non-null      object \n",
      " 44  Novos Farmacos       7 non-null      float64\n",
      " 45  Farmacos Repetidos   7 non-null      float64\n",
      " 46  ACC_Farmacos         8566 non-null   float64\n",
      " 47  Data_Uso             7 non-null      object \n",
      "dtypes: float64(16), int64(11), object(21)\n",
      "memory usage: 3.1+ MB\n"
     ]
    }
   ],
   "source": [
    "dados.info()"
   ]
  },
  {
   "cell_type": "code",
   "execution_count": 107,
   "metadata": {},
   "outputs": [],
   "source": [
    "dados = dados.sort_values([\"INT_EPISODIO\", \"teste\"])"
   ]
  },
  {
   "cell_type": "code",
   "execution_count": 108,
   "metadata": {},
   "outputs": [
    {
     "data": {
      "text/plain": [
       "Index(['INT_EPISODIO', 'DTA_NASCIMENTO', 'SEXO', 'NUM_TRANSFERENCIA',\n",
       "       'COD_ESPECIALIDADE', 'DES_ESPECIALIDADE', 'MOTIVO_ENTRADA',\n",
       "       'COD_DIAGNOSTICO_ADM', 'DTA_ENTRADA', 'HORA_ENTRADA', 'DTA_SAIDA',\n",
       "       'HORA_SAIDA', 'sequencia', 'proximo', 'des_sequencia', 'des_proximo',\n",
       "       'LOS', 'IDADE', 'afluencia', 'DTA_INTERNAMENTO', 'HORA_INTERNAMENTO',\n",
       "       'TIPO_ADMISSAO', 'COD_PROVENIENCIA', 'HORAS_INT', 'DIAS_INT',\n",
       "       'LOS_ANTERIOR', 'teste', 'DTA_ACTO_MEDICO', 'QTD_EXAMES', 'seq_exames',\n",
       "       'Novos Exames', 'Exames Repetidos', 'ACC_EXAMES', 'Data_Uso_x',\n",
       "       'DTA_ANALISE', 'QTD_ANALISES', 'seq_analises', 'Novas Analises',\n",
       "       'Analises Repetidas', 'ACC_ANALISES', 'Data_Uso_y', 'DATAINICIO',\n",
       "       'FARMACO', 'seq_farmacos', 'Novos Farmacos', 'Farmacos Repetidos',\n",
       "       'ACC_Farmacos', 'Data_Uso'],\n",
       "      dtype='object')"
      ]
     },
     "execution_count": 108,
     "metadata": {},
     "output_type": "execute_result"
    }
   ],
   "source": [
    "dados.columns"
   ]
  },
  {
   "cell_type": "code",
   "execution_count": 109,
   "metadata": {},
   "outputs": [],
   "source": [
    "final=dados"
   ]
  },
  {
   "cell_type": "code",
   "execution_count": 110,
   "metadata": {},
   "outputs": [],
   "source": [
    "final=final[final.LOS.notnull()]\n",
    "h=final['LOS']"
   ]
  },
  {
   "cell_type": "code",
   "execution_count": 111,
   "metadata": {},
   "outputs": [],
   "source": [
    "from sklearn.ensemble import IsolationForest\n",
    "h=h.values.reshape(-1,1)\n",
    "clf = IsolationForest(random_state=0).fit(h)"
   ]
  },
  {
   "cell_type": "code",
   "execution_count": 112,
   "metadata": {},
   "outputs": [],
   "source": [
    "final['Outlier']=clf.predict(h)"
   ]
  },
  {
   "cell_type": "code",
   "execution_count": 113,
   "metadata": {},
   "outputs": [
    {
     "data": {
      "text/plain": [
       " 1    7189\n",
       "-1    1377\n",
       "Name: Outlier, dtype: int64"
      ]
     },
     "execution_count": 113,
     "metadata": {},
     "output_type": "execute_result"
    }
   ],
   "source": [
    "final['Outlier'].value_counts()"
   ]
  },
  {
   "cell_type": "code",
   "execution_count": 114,
   "metadata": {},
   "outputs": [
    {
     "data": {
      "text/plain": [
       "71        67140.0\n",
       "72        67140.0\n",
       "110        2640.0\n",
       "115       57960.0\n",
       "116       57960.0\n",
       "          ...    \n",
       "8549    2947260.0\n",
       "8550    2947260.0\n",
       "8551    2947260.0\n",
       "8559      52980.0\n",
       "8560      52980.0\n",
       "Name: LOS, Length: 1377, dtype: float64"
      ]
     },
     "execution_count": 114,
     "metadata": {},
     "output_type": "execute_result"
    }
   ],
   "source": [
    "final[final['Outlier']==-1]['LOS']"
   ]
  },
  {
   "cell_type": "code",
   "execution_count": 115,
   "metadata": {},
   "outputs": [],
   "source": [
    "import math\n",
    "\n",
    "def arrendondar(t):\n",
    "    return math.ceil(t/3600/24)\n",
    "\n",
    "final['LOS Dia']=final['LOS'].apply(arrendondar)"
   ]
  },
  {
   "cell_type": "code",
   "execution_count": 116,
   "metadata": {},
   "outputs": [
    {
     "data": {
      "text/plain": [
       "2     874\n",
       "4     650\n",
       "3     630\n",
       "8     522\n",
       "5     510\n",
       "6     499\n",
       "9     407\n",
       "7     405\n",
       "1     386\n",
       "15    292\n",
       "17    282\n",
       "13    271\n",
       "14    258\n",
       "10    243\n",
       "18    221\n",
       "12    221\n",
       "11    217\n",
       "16    198\n",
       "20    165\n",
       "42    127\n",
       "19     97\n",
       "22     89\n",
       "21     85\n",
       "27     81\n",
       "25     78\n",
       "78     78\n",
       "32     64\n",
       "30     62\n",
       "61     61\n",
       "28     58\n",
       "53     54\n",
       "54     54\n",
       "51     52\n",
       "23     48\n",
       "37     37\n",
       "34     35\n",
       "35     35\n",
       "33     33\n",
       "31     31\n",
       "29     30\n",
       "26     26\n",
       "Name: LOS Dia, dtype: int64"
      ]
     },
     "execution_count": 116,
     "metadata": {},
     "output_type": "execute_result"
    }
   ],
   "source": [
    "final['LOS Dia'].value_counts()"
   ]
  },
  {
   "cell_type": "code",
   "execution_count": 118,
   "metadata": {},
   "outputs": [],
   "source": [
    "final['DTA_SAIDA']=pd.to_datetime(final['DTA_SAIDA'])\n",
    "final['teste']=pd.to_datetime(final['teste'])"
   ]
  },
  {
   "cell_type": "code",
   "execution_count": 119,
   "metadata": {},
   "outputs": [],
   "source": [
    "final['LOS_res']=(final['DTA_SAIDA']-final['teste']).apply(lambda x: x.total_seconds())\n",
    "final['LOS_res']=final['LOS_res']/3600/24+1"
   ]
  },
  {
   "cell_type": "code",
   "execution_count": 120,
   "metadata": {},
   "outputs": [
    {
     "data": {
      "text/plain": [
       "1.0     1456\n",
       "2.0     1414\n",
       "3.0      985\n",
       "4.0      771\n",
       "5.0      609\n",
       "        ... \n",
       "70.0       1\n",
       "76.0       1\n",
       "74.0       1\n",
       "67.0       1\n",
       "75.0       1\n",
       "Name: LOS_res, Length: 78, dtype: int64"
      ]
     },
     "execution_count": 120,
     "metadata": {},
     "output_type": "execute_result"
    }
   ],
   "source": [
    "final['LOS_res'].value_counts()"
   ]
  },
  {
   "cell_type": "code",
   "execution_count": 121,
   "metadata": {},
   "outputs": [],
   "source": [
    "final=final[final['Outlier']==1]"
   ]
  },
  {
   "cell_type": "code",
   "execution_count": 122,
   "metadata": {},
   "outputs": [
    {
     "name": "stderr",
     "output_type": "stream",
     "text": [
      "<ipython-input-122-6271b6b5fba7>:7: SettingWithCopyWarning: \n",
      "A value is trying to be set on a copy of a slice from a DataFrame.\n",
      "Try using .loc[row_indexer,col_indexer] = value instead\n",
      "\n",
      "See the caveats in the documentation: https://pandas.pydata.org/pandas-docs/stable/user_guide/indexing.html#returning-a-view-versus-a-copy\n",
      "  final['Classe_LOS_RES']=final['LOS_res'].apply(classe_target)\n"
     ]
    }
   ],
   "source": [
    "def classe_target(x):\n",
    "    if x <=3:\n",
    "        return 1\n",
    "    else:\n",
    "        return x\n",
    "\n",
    "final['Classe_LOS_RES']=final['LOS_res'].apply(classe_target)"
   ]
  },
  {
   "cell_type": "code",
   "execution_count": 123,
   "metadata": {},
   "outputs": [
    {
     "name": "stderr",
     "output_type": "stream",
     "text": [
      "<ipython-input-123-71f9e8fda89f>:13: SettingWithCopyWarning: \n",
      "A value is trying to be set on a copy of a slice from a DataFrame.\n",
      "Try using .loc[row_indexer,col_indexer] = value instead\n",
      "\n",
      "See the caveats in the documentation: https://pandas.pydata.org/pandas-docs/stable/user_guide/indexing.html#returning-a-view-versus-a-copy\n",
      "  final['AFL']=afl\n"
     ]
    }
   ],
   "source": [
    "dataset=pd.read_csv('Datastes_Criados/INT_CI_Afluencias_LOS.csv', sep=',')\n",
    "datas=[]\n",
    "for x in dataset.iloc:\n",
    "    e=pd.date_range(start =x['DTA_ENTRADA'], \n",
    "            end =x['DTA_SAIDA'])\n",
    "    datas.append(e)\n",
    "dataset['teste']=datas\n",
    "dataset=dataset.explode('teste')\n",
    "afl=[]\n",
    "for x in final['teste'].iloc:\n",
    "    z=len(dataset[dataset['teste']==x])\n",
    "    afl.append(z)\n",
    "final['AFL']=afl"
   ]
  },
  {
   "cell_type": "code",
   "execution_count": 124,
   "metadata": {},
   "outputs": [
    {
     "name": "stdout",
     "output_type": "stream",
     "text": [
      "<class 'pandas.core.frame.DataFrame'>\n",
      "Int64Index: 7189 entries, 0 to 8565\n",
      "Data columns (total 53 columns):\n",
      " #   Column               Non-Null Count  Dtype         \n",
      "---  ------               --------------  -----         \n",
      " 0   INT_EPISODIO         7189 non-null   int64         \n",
      " 1   DTA_NASCIMENTO       7189 non-null   object        \n",
      " 2   SEXO                 7189 non-null   int64         \n",
      " 3   NUM_TRANSFERENCIA    7189 non-null   int64         \n",
      " 4   COD_ESPECIALIDADE    7189 non-null   int64         \n",
      " 5   DES_ESPECIALIDADE    7189 non-null   object        \n",
      " 6   MOTIVO_ENTRADA       7189 non-null   object        \n",
      " 7   COD_DIAGNOSTICO_ADM  7189 non-null   object        \n",
      " 8   DTA_ENTRADA          7189 non-null   object        \n",
      " 9   HORA_ENTRADA         7189 non-null   int64         \n",
      " 10  DTA_SAIDA            7189 non-null   datetime64[ns]\n",
      " 11  HORA_SAIDA           7189 non-null   float64       \n",
      " 12  sequencia            7189 non-null   object        \n",
      " 13  proximo              7189 non-null   int64         \n",
      " 14  des_sequencia        7189 non-null   object        \n",
      " 15  des_proximo          7189 non-null   object        \n",
      " 16  LOS                  7189 non-null   float64       \n",
      " 17  IDADE                7189 non-null   int64         \n",
      " 18  afluencia            7189 non-null   int64         \n",
      " 19  DTA_INTERNAMENTO     7189 non-null   object        \n",
      " 20  HORA_INTERNAMENTO    7189 non-null   int64         \n",
      " 21  TIPO_ADMISSAO        7189 non-null   object        \n",
      " 22  COD_PROVENIENCIA     7189 non-null   int64         \n",
      " 23  HORAS_INT            7189 non-null   int64         \n",
      " 24  DIAS_INT             7189 non-null   float64       \n",
      " 25  LOS_ANTERIOR         7189 non-null   float64       \n",
      " 26  teste                7189 non-null   datetime64[ns]\n",
      " 27  DTA_ACTO_MEDICO      1778 non-null   object        \n",
      " 28  QTD_EXAMES           1778 non-null   float64       \n",
      " 29  seq_exames           1778 non-null   object        \n",
      " 30  Novos Exames         1778 non-null   float64       \n",
      " 31  Exames Repetidos     1778 non-null   float64       \n",
      " 32  ACC_EXAMES           7189 non-null   float64       \n",
      " 33  Data_Uso_x           1778 non-null   object        \n",
      " 34  DTA_ANALISE          5502 non-null   object        \n",
      " 35  QTD_ANALISES         5502 non-null   float64       \n",
      " 36  seq_analises         5502 non-null   object        \n",
      " 37  Novas Analises       5502 non-null   float64       \n",
      " 38  Analises Repetidas   5502 non-null   float64       \n",
      " 39  ACC_ANALISES         7189 non-null   float64       \n",
      " 40  Data_Uso_y           5502 non-null   object        \n",
      " 41  DATAINICIO           6 non-null      object        \n",
      " 42  FARMACO              6 non-null      float64       \n",
      " 43  seq_farmacos         6 non-null      object        \n",
      " 44  Novos Farmacos       6 non-null      float64       \n",
      " 45  Farmacos Repetidos   6 non-null      float64       \n",
      " 46  ACC_Farmacos         7189 non-null   float64       \n",
      " 47  Data_Uso             6 non-null      object        \n",
      " 48  Outlier              7189 non-null   int64         \n",
      " 49  LOS Dia              7189 non-null   int64         \n",
      " 50  LOS_res              7189 non-null   float64       \n",
      " 51  Classe_LOS_RES       7189 non-null   float64       \n",
      " 52  AFL                  7189 non-null   int64         \n",
      "dtypes: datetime64[ns](2), float64(18), int64(14), object(19)\n",
      "memory usage: 3.0+ MB\n"
     ]
    }
   ],
   "source": [
    "final.info()"
   ]
  },
  {
   "cell_type": "code",
   "execution_count": 125,
   "metadata": {},
   "outputs": [
    {
     "name": "stderr",
     "output_type": "stream",
     "text": [
      "<ipython-input-125-c74c0a67746a>:10: SettingWithCopyWarning: \n",
      "A value is trying to be set on a copy of a slice from a DataFrame.\n",
      "Try using .loc[row_indexer,col_indexer] = value instead\n",
      "\n",
      "See the caveats in the documentation: https://pandas.pydata.org/pandas-docs/stable/user_guide/indexing.html#returning-a-view-versus-a-copy\n",
      "  final['MOTIVO']=mot\n"
     ]
    }
   ],
   "source": [
    "mot=[]\n",
    "for x in final.iloc:\n",
    "    if x['MOTIVO_ENTRADA']=='U':\n",
    "        mot.append('1')\n",
    "    else:\n",
    "        if x['MOTIVO_ENTRADA']=='T':\n",
    "            mot.append('2')\n",
    "        else:\n",
    "            mot.append('3')\n",
    "final['MOTIVO']=mot"
   ]
  },
  {
   "cell_type": "code",
   "execution_count": 127,
   "metadata": {},
   "outputs": [],
   "source": [
    "d_s = final['COD_DIAGNOSTICO_ADM'].unique()\n",
    "contador = 0\n",
    "id_dig = []\n",
    "\n",
    "for y in range(final['COD_DIAGNOSTICO_ADM'].nunique()):\n",
    "    contador = contador + 1\n",
    "    id_dig.append(contador)\n",
    "    y = y + 1\n",
    "    \n",
    "seq_dig=pd.DataFrame({'COD_DIAGNOSTICO_ADM':d_s, 'ID_DIG':id_dig})\n",
    "final = pd.merge(final, seq_dig, on = 'COD_DIAGNOSTICO_ADM', how='left')"
   ]
  },
  {
   "cell_type": "code",
   "execution_count": 128,
   "metadata": {},
   "outputs": [],
   "source": [
    "#classificação\n",
    "X = final[['IDADE','AFL','ID_DIG','SEXO',\n",
    "        'TIPO_ADMISSAO','MOTIVO','COD_PROVENIENCIA','LOS_ANTERIOR','QTD_EXAMES','QTD_ANALISES','FARMACO',\n",
    "        'Novos Exames','Novos Farmacos','Novas Analises','Exames Repetidos','Analises Repetidas','Farmacos Repetidos','ACC_EXAMES',\n",
    "        'ACC_ANALISES','ACC_Farmacos']]\n",
    "y_med = final['Classe_LOS_RES']"
   ]
  },
  {
   "cell_type": "code",
   "execution_count": 129,
   "metadata": {},
   "outputs": [
    {
     "name": "stderr",
     "output_type": "stream",
     "text": [
      "<ipython-input-129-814a350ee41f>:1: SettingWithCopyWarning: \n",
      "A value is trying to be set on a copy of a slice from a DataFrame.\n",
      "Try using .loc[row_indexer,col_indexer] = value instead\n",
      "\n",
      "See the caveats in the documentation: https://pandas.pydata.org/pandas-docs/stable/user_guide/indexing.html#returning-a-view-versus-a-copy\n",
      "  X['Novos Exames']=X['Novos Exames'].replace(np.nan,0)\n",
      "<ipython-input-129-814a350ee41f>:2: SettingWithCopyWarning: \n",
      "A value is trying to be set on a copy of a slice from a DataFrame.\n",
      "Try using .loc[row_indexer,col_indexer] = value instead\n",
      "\n",
      "See the caveats in the documentation: https://pandas.pydata.org/pandas-docs/stable/user_guide/indexing.html#returning-a-view-versus-a-copy\n",
      "  X['Novos Farmacos']=X['Novos Farmacos'].replace(np.nan,0)\n",
      "<ipython-input-129-814a350ee41f>:3: SettingWithCopyWarning: \n",
      "A value is trying to be set on a copy of a slice from a DataFrame.\n",
      "Try using .loc[row_indexer,col_indexer] = value instead\n",
      "\n",
      "See the caveats in the documentation: https://pandas.pydata.org/pandas-docs/stable/user_guide/indexing.html#returning-a-view-versus-a-copy\n",
      "  X['Novas Analises']=X['Novas Analises'].replace(np.nan,0)\n",
      "<ipython-input-129-814a350ee41f>:5: SettingWithCopyWarning: \n",
      "A value is trying to be set on a copy of a slice from a DataFrame.\n",
      "Try using .loc[row_indexer,col_indexer] = value instead\n",
      "\n",
      "See the caveats in the documentation: https://pandas.pydata.org/pandas-docs/stable/user_guide/indexing.html#returning-a-view-versus-a-copy\n",
      "  X['Exames Repetidos']=X['Exames Repetidos'].replace(np.nan,0)\n",
      "<ipython-input-129-814a350ee41f>:6: SettingWithCopyWarning: \n",
      "A value is trying to be set on a copy of a slice from a DataFrame.\n",
      "Try using .loc[row_indexer,col_indexer] = value instead\n",
      "\n",
      "See the caveats in the documentation: https://pandas.pydata.org/pandas-docs/stable/user_guide/indexing.html#returning-a-view-versus-a-copy\n",
      "  X['Analises Repetidas']=X['Analises Repetidas'].replace(np.nan,0)\n",
      "<ipython-input-129-814a350ee41f>:7: SettingWithCopyWarning: \n",
      "A value is trying to be set on a copy of a slice from a DataFrame.\n",
      "Try using .loc[row_indexer,col_indexer] = value instead\n",
      "\n",
      "See the caveats in the documentation: https://pandas.pydata.org/pandas-docs/stable/user_guide/indexing.html#returning-a-view-versus-a-copy\n",
      "  X['Farmacos Repetidos']=X['Farmacos Repetidos'].replace(np.nan,0)\n",
      "<ipython-input-129-814a350ee41f>:9: SettingWithCopyWarning: \n",
      "A value is trying to be set on a copy of a slice from a DataFrame.\n",
      "Try using .loc[row_indexer,col_indexer] = value instead\n",
      "\n",
      "See the caveats in the documentation: https://pandas.pydata.org/pandas-docs/stable/user_guide/indexing.html#returning-a-view-versus-a-copy\n",
      "  X['ACC_EXAMES']=X['ACC_EXAMES'].replace(np.nan,0)\n",
      "<ipython-input-129-814a350ee41f>:10: SettingWithCopyWarning: \n",
      "A value is trying to be set on a copy of a slice from a DataFrame.\n",
      "Try using .loc[row_indexer,col_indexer] = value instead\n",
      "\n",
      "See the caveats in the documentation: https://pandas.pydata.org/pandas-docs/stable/user_guide/indexing.html#returning-a-view-versus-a-copy\n",
      "  X['ACC_ANALISES']=X['ACC_ANALISES'].replace(np.nan,0)\n",
      "<ipython-input-129-814a350ee41f>:11: SettingWithCopyWarning: \n",
      "A value is trying to be set on a copy of a slice from a DataFrame.\n",
      "Try using .loc[row_indexer,col_indexer] = value instead\n",
      "\n",
      "See the caveats in the documentation: https://pandas.pydata.org/pandas-docs/stable/user_guide/indexing.html#returning-a-view-versus-a-copy\n",
      "  X['ACC_Farmacos']=X['ACC_Farmacos'].replace(np.nan,0)\n"
     ]
    }
   ],
   "source": [
    "X['Novos Exames']=X['Novos Exames'].replace(np.nan,0)\n",
    "X['Novos Farmacos']=X['Novos Farmacos'].replace(np.nan,0)                   \n",
    "X['Novas Analises']=X['Novas Analises'].replace(np.nan,0)\n",
    "                      \n",
    "X['Exames Repetidos']=X['Exames Repetidos'].replace(np.nan,0)\n",
    "X['Analises Repetidas']=X['Analises Repetidas'].replace(np.nan,0)\n",
    "X['Farmacos Repetidos']=X['Farmacos Repetidos'].replace(np.nan,0)\n",
    "\n",
    "X['ACC_EXAMES']=X['ACC_EXAMES'].replace(np.nan,0)\n",
    "X['ACC_ANALISES']=X['ACC_ANALISES'].replace(np.nan,0)\n",
    "X['ACC_Farmacos']=X['ACC_Farmacos'].replace(np.nan,0)"
   ]
  },
  {
   "cell_type": "code",
   "execution_count": 130,
   "metadata": {},
   "outputs": [
    {
     "name": "stderr",
     "output_type": "stream",
     "text": [
      "<ipython-input-130-11e8fd363777>:3: SettingWithCopyWarning: \n",
      "A value is trying to be set on a copy of a slice from a DataFrame.\n",
      "Try using .loc[row_indexer,col_indexer] = value instead\n",
      "\n",
      "See the caveats in the documentation: https://pandas.pydata.org/pandas-docs/stable/user_guide/indexing.html#returning-a-view-versus-a-copy\n",
      "  X['TIPO_ADMISSAO'] = [temp[ele] for ele in X['TIPO_ADMISSAO']]\n"
     ]
    }
   ],
   "source": [
    "from collections import defaultdict\n",
    "temp = defaultdict(lambda: len(temp))\n",
    "X['TIPO_ADMISSAO'] = [temp[ele] for ele in X['TIPO_ADMISSAO']]"
   ]
  },
  {
   "cell_type": "code",
   "execution_count": 131,
   "metadata": {},
   "outputs": [],
   "source": [
    "X=X.replace(np.nan,-1)"
   ]
  },
  {
   "cell_type": "code",
   "execution_count": 132,
   "metadata": {},
   "outputs": [],
   "source": [
    "X_med=X\n",
    "X_quartil=X"
   ]
  },
  {
   "cell_type": "code",
   "execution_count": 133,
   "metadata": {},
   "outputs": [],
   "source": [
    "from imblearn.over_sampling import RandomOverSampler \n",
    "over_sampler = RandomOverSampler() \n",
    "X_med, y_med = over_sampler.fit_resample(X_med, y_med) "
   ]
  },
  {
   "cell_type": "code",
   "execution_count": 134,
   "metadata": {},
   "outputs": [
    {
     "data": {
      "text/html": [
       "<div>\n",
       "<style scoped>\n",
       "    .dataframe tbody tr th:only-of-type {\n",
       "        vertical-align: middle;\n",
       "    }\n",
       "\n",
       "    .dataframe tbody tr th {\n",
       "        vertical-align: top;\n",
       "    }\n",
       "\n",
       "    .dataframe thead th {\n",
       "        text-align: right;\n",
       "    }\n",
       "</style>\n",
       "<table border=\"1\" class=\"dataframe\">\n",
       "  <thead>\n",
       "    <tr style=\"text-align: right;\">\n",
       "      <th></th>\n",
       "      <th>IDADE</th>\n",
       "      <th>AFL</th>\n",
       "      <th>ID_DIG</th>\n",
       "      <th>SEXO</th>\n",
       "      <th>TIPO_ADMISSAO</th>\n",
       "      <th>MOTIVO</th>\n",
       "      <th>COD_PROVENIENCIA</th>\n",
       "      <th>LOS_ANTERIOR</th>\n",
       "      <th>QTD_EXAMES</th>\n",
       "      <th>QTD_ANALISES</th>\n",
       "      <th>FARMACO</th>\n",
       "      <th>Novos Exames</th>\n",
       "      <th>Novos Farmacos</th>\n",
       "      <th>Novas Analises</th>\n",
       "      <th>Exames Repetidos</th>\n",
       "      <th>Analises Repetidas</th>\n",
       "      <th>Farmacos Repetidos</th>\n",
       "      <th>ACC_EXAMES</th>\n",
       "      <th>ACC_ANALISES</th>\n",
       "      <th>ACC_Farmacos</th>\n",
       "    </tr>\n",
       "  </thead>\n",
       "  <tbody>\n",
       "    <tr>\n",
       "      <th>0</th>\n",
       "      <td>86</td>\n",
       "      <td>6</td>\n",
       "      <td>1</td>\n",
       "      <td>2</td>\n",
       "      <td>0</td>\n",
       "      <td>2</td>\n",
       "      <td>2</td>\n",
       "      <td>717000.0</td>\n",
       "      <td>-1.0</td>\n",
       "      <td>-1.0</td>\n",
       "      <td>-1.0</td>\n",
       "      <td>0.0</td>\n",
       "      <td>0.0</td>\n",
       "      <td>0.0</td>\n",
       "      <td>0.0</td>\n",
       "      <td>0.0</td>\n",
       "      <td>0.0</td>\n",
       "      <td>0.0</td>\n",
       "      <td>0.0</td>\n",
       "      <td>0.0</td>\n",
       "    </tr>\n",
       "    <tr>\n",
       "      <th>1</th>\n",
       "      <td>86</td>\n",
       "      <td>8</td>\n",
       "      <td>1</td>\n",
       "      <td>2</td>\n",
       "      <td>0</td>\n",
       "      <td>2</td>\n",
       "      <td>2</td>\n",
       "      <td>717000.0</td>\n",
       "      <td>-1.0</td>\n",
       "      <td>-1.0</td>\n",
       "      <td>-1.0</td>\n",
       "      <td>0.0</td>\n",
       "      <td>0.0</td>\n",
       "      <td>0.0</td>\n",
       "      <td>0.0</td>\n",
       "      <td>0.0</td>\n",
       "      <td>0.0</td>\n",
       "      <td>0.0</td>\n",
       "      <td>0.0</td>\n",
       "      <td>0.0</td>\n",
       "    </tr>\n",
       "    <tr>\n",
       "      <th>2</th>\n",
       "      <td>86</td>\n",
       "      <td>8</td>\n",
       "      <td>1</td>\n",
       "      <td>2</td>\n",
       "      <td>0</td>\n",
       "      <td>2</td>\n",
       "      <td>2</td>\n",
       "      <td>717000.0</td>\n",
       "      <td>-1.0</td>\n",
       "      <td>-1.0</td>\n",
       "      <td>-1.0</td>\n",
       "      <td>0.0</td>\n",
       "      <td>0.0</td>\n",
       "      <td>0.0</td>\n",
       "      <td>0.0</td>\n",
       "      <td>0.0</td>\n",
       "      <td>0.0</td>\n",
       "      <td>0.0</td>\n",
       "      <td>0.0</td>\n",
       "      <td>0.0</td>\n",
       "    </tr>\n",
       "    <tr>\n",
       "      <th>3</th>\n",
       "      <td>86</td>\n",
       "      <td>6</td>\n",
       "      <td>1</td>\n",
       "      <td>2</td>\n",
       "      <td>0</td>\n",
       "      <td>2</td>\n",
       "      <td>2</td>\n",
       "      <td>717000.0</td>\n",
       "      <td>-1.0</td>\n",
       "      <td>-1.0</td>\n",
       "      <td>-1.0</td>\n",
       "      <td>0.0</td>\n",
       "      <td>0.0</td>\n",
       "      <td>0.0</td>\n",
       "      <td>0.0</td>\n",
       "      <td>0.0</td>\n",
       "      <td>0.0</td>\n",
       "      <td>0.0</td>\n",
       "      <td>0.0</td>\n",
       "      <td>0.0</td>\n",
       "    </tr>\n",
       "    <tr>\n",
       "      <th>4</th>\n",
       "      <td>86</td>\n",
       "      <td>5</td>\n",
       "      <td>1</td>\n",
       "      <td>2</td>\n",
       "      <td>0</td>\n",
       "      <td>2</td>\n",
       "      <td>2</td>\n",
       "      <td>717000.0</td>\n",
       "      <td>-1.0</td>\n",
       "      <td>-1.0</td>\n",
       "      <td>-1.0</td>\n",
       "      <td>0.0</td>\n",
       "      <td>0.0</td>\n",
       "      <td>0.0</td>\n",
       "      <td>0.0</td>\n",
       "      <td>0.0</td>\n",
       "      <td>0.0</td>\n",
       "      <td>0.0</td>\n",
       "      <td>0.0</td>\n",
       "      <td>0.0</td>\n",
       "    </tr>\n",
       "    <tr>\n",
       "      <th>...</th>\n",
       "      <td>...</td>\n",
       "      <td>...</td>\n",
       "      <td>...</td>\n",
       "      <td>...</td>\n",
       "      <td>...</td>\n",
       "      <td>...</td>\n",
       "      <td>...</td>\n",
       "      <td>...</td>\n",
       "      <td>...</td>\n",
       "      <td>...</td>\n",
       "      <td>...</td>\n",
       "      <td>...</td>\n",
       "      <td>...</td>\n",
       "      <td>...</td>\n",
       "      <td>...</td>\n",
       "      <td>...</td>\n",
       "      <td>...</td>\n",
       "      <td>...</td>\n",
       "      <td>...</td>\n",
       "      <td>...</td>\n",
       "    </tr>\n",
       "    <tr>\n",
       "      <th>68110</th>\n",
       "      <td>68</td>\n",
       "      <td>7</td>\n",
       "      <td>1</td>\n",
       "      <td>1</td>\n",
       "      <td>1</td>\n",
       "      <td>2</td>\n",
       "      <td>1</td>\n",
       "      <td>323062.0</td>\n",
       "      <td>-1.0</td>\n",
       "      <td>-1.0</td>\n",
       "      <td>-1.0</td>\n",
       "      <td>0.0</td>\n",
       "      <td>0.0</td>\n",
       "      <td>0.0</td>\n",
       "      <td>0.0</td>\n",
       "      <td>0.0</td>\n",
       "      <td>0.0</td>\n",
       "      <td>0.0</td>\n",
       "      <td>0.0</td>\n",
       "      <td>0.0</td>\n",
       "    </tr>\n",
       "    <tr>\n",
       "      <th>68111</th>\n",
       "      <td>68</td>\n",
       "      <td>7</td>\n",
       "      <td>1</td>\n",
       "      <td>1</td>\n",
       "      <td>1</td>\n",
       "      <td>2</td>\n",
       "      <td>1</td>\n",
       "      <td>323062.0</td>\n",
       "      <td>-1.0</td>\n",
       "      <td>-1.0</td>\n",
       "      <td>-1.0</td>\n",
       "      <td>0.0</td>\n",
       "      <td>0.0</td>\n",
       "      <td>0.0</td>\n",
       "      <td>0.0</td>\n",
       "      <td>0.0</td>\n",
       "      <td>0.0</td>\n",
       "      <td>0.0</td>\n",
       "      <td>0.0</td>\n",
       "      <td>0.0</td>\n",
       "    </tr>\n",
       "    <tr>\n",
       "      <th>68112</th>\n",
       "      <td>65</td>\n",
       "      <td>9</td>\n",
       "      <td>1</td>\n",
       "      <td>1</td>\n",
       "      <td>1</td>\n",
       "      <td>1</td>\n",
       "      <td>1</td>\n",
       "      <td>0.0</td>\n",
       "      <td>-1.0</td>\n",
       "      <td>-1.0</td>\n",
       "      <td>-1.0</td>\n",
       "      <td>0.0</td>\n",
       "      <td>0.0</td>\n",
       "      <td>0.0</td>\n",
       "      <td>0.0</td>\n",
       "      <td>0.0</td>\n",
       "      <td>0.0</td>\n",
       "      <td>0.0</td>\n",
       "      <td>0.0</td>\n",
       "      <td>0.0</td>\n",
       "    </tr>\n",
       "    <tr>\n",
       "      <th>68113</th>\n",
       "      <td>73</td>\n",
       "      <td>8</td>\n",
       "      <td>1</td>\n",
       "      <td>1</td>\n",
       "      <td>1</td>\n",
       "      <td>2</td>\n",
       "      <td>1</td>\n",
       "      <td>655800.0</td>\n",
       "      <td>-1.0</td>\n",
       "      <td>-1.0</td>\n",
       "      <td>-1.0</td>\n",
       "      <td>0.0</td>\n",
       "      <td>0.0</td>\n",
       "      <td>0.0</td>\n",
       "      <td>0.0</td>\n",
       "      <td>0.0</td>\n",
       "      <td>0.0</td>\n",
       "      <td>0.0</td>\n",
       "      <td>0.0</td>\n",
       "      <td>0.0</td>\n",
       "    </tr>\n",
       "    <tr>\n",
       "      <th>68114</th>\n",
       "      <td>63</td>\n",
       "      <td>8</td>\n",
       "      <td>1</td>\n",
       "      <td>2</td>\n",
       "      <td>1</td>\n",
       "      <td>2</td>\n",
       "      <td>1</td>\n",
       "      <td>105039.0</td>\n",
       "      <td>-1.0</td>\n",
       "      <td>-1.0</td>\n",
       "      <td>-1.0</td>\n",
       "      <td>0.0</td>\n",
       "      <td>0.0</td>\n",
       "      <td>0.0</td>\n",
       "      <td>0.0</td>\n",
       "      <td>0.0</td>\n",
       "      <td>0.0</td>\n",
       "      <td>0.0</td>\n",
       "      <td>0.0</td>\n",
       "      <td>0.0</td>\n",
       "    </tr>\n",
       "  </tbody>\n",
       "</table>\n",
       "<p>68115 rows × 20 columns</p>\n",
       "</div>"
      ],
      "text/plain": [
       "       IDADE  AFL  ID_DIG  SEXO  TIPO_ADMISSAO MOTIVO  COD_PROVENIENCIA  \\\n",
       "0         86    6       1     2              0      2                 2   \n",
       "1         86    8       1     2              0      2                 2   \n",
       "2         86    8       1     2              0      2                 2   \n",
       "3         86    6       1     2              0      2                 2   \n",
       "4         86    5       1     2              0      2                 2   \n",
       "...      ...  ...     ...   ...            ...    ...               ...   \n",
       "68110     68    7       1     1              1      2                 1   \n",
       "68111     68    7       1     1              1      2                 1   \n",
       "68112     65    9       1     1              1      1                 1   \n",
       "68113     73    8       1     1              1      2                 1   \n",
       "68114     63    8       1     2              1      2                 1   \n",
       "\n",
       "       LOS_ANTERIOR  QTD_EXAMES  QTD_ANALISES  FARMACO  Novos Exames  \\\n",
       "0          717000.0        -1.0          -1.0     -1.0           0.0   \n",
       "1          717000.0        -1.0          -1.0     -1.0           0.0   \n",
       "2          717000.0        -1.0          -1.0     -1.0           0.0   \n",
       "3          717000.0        -1.0          -1.0     -1.0           0.0   \n",
       "4          717000.0        -1.0          -1.0     -1.0           0.0   \n",
       "...             ...         ...           ...      ...           ...   \n",
       "68110      323062.0        -1.0          -1.0     -1.0           0.0   \n",
       "68111      323062.0        -1.0          -1.0     -1.0           0.0   \n",
       "68112           0.0        -1.0          -1.0     -1.0           0.0   \n",
       "68113      655800.0        -1.0          -1.0     -1.0           0.0   \n",
       "68114      105039.0        -1.0          -1.0     -1.0           0.0   \n",
       "\n",
       "       Novos Farmacos  Novas Analises  Exames Repetidos  Analises Repetidas  \\\n",
       "0                 0.0             0.0               0.0                 0.0   \n",
       "1                 0.0             0.0               0.0                 0.0   \n",
       "2                 0.0             0.0               0.0                 0.0   \n",
       "3                 0.0             0.0               0.0                 0.0   \n",
       "4                 0.0             0.0               0.0                 0.0   \n",
       "...               ...             ...               ...                 ...   \n",
       "68110             0.0             0.0               0.0                 0.0   \n",
       "68111             0.0             0.0               0.0                 0.0   \n",
       "68112             0.0             0.0               0.0                 0.0   \n",
       "68113             0.0             0.0               0.0                 0.0   \n",
       "68114             0.0             0.0               0.0                 0.0   \n",
       "\n",
       "       Farmacos Repetidos  ACC_EXAMES  ACC_ANALISES  ACC_Farmacos  \n",
       "0                     0.0         0.0           0.0           0.0  \n",
       "1                     0.0         0.0           0.0           0.0  \n",
       "2                     0.0         0.0           0.0           0.0  \n",
       "3                     0.0         0.0           0.0           0.0  \n",
       "4                     0.0         0.0           0.0           0.0  \n",
       "...                   ...         ...           ...           ...  \n",
       "68110                 0.0         0.0           0.0           0.0  \n",
       "68111                 0.0         0.0           0.0           0.0  \n",
       "68112                 0.0         0.0           0.0           0.0  \n",
       "68113                 0.0         0.0           0.0           0.0  \n",
       "68114                 0.0         0.0           0.0           0.0  \n",
       "\n",
       "[68115 rows x 20 columns]"
      ]
     },
     "execution_count": 134,
     "metadata": {},
     "output_type": "execute_result"
    }
   ],
   "source": [
    "X_med"
   ]
  },
  {
   "cell_type": "code",
   "execution_count": 135,
   "metadata": {},
   "outputs": [
    {
     "data": {
      "text/plain": [
       "4.0     3585\n",
       "12.0    3585\n",
       "6.0     3585\n",
       "19.0    3585\n",
       "9.0     3585\n",
       "5.0     3585\n",
       "7.0     3585\n",
       "16.0    3585\n",
       "13.0    3585\n",
       "1.0     3585\n",
       "8.0     3585\n",
       "11.0    3585\n",
       "17.0    3585\n",
       "18.0    3585\n",
       "14.0    3585\n",
       "21.0    3585\n",
       "20.0    3585\n",
       "15.0    3585\n",
       "10.0    3585\n",
       "Name: Classe_LOS_RES, dtype: int64"
      ]
     },
     "execution_count": 135,
     "metadata": {},
     "output_type": "execute_result"
    }
   ],
   "source": [
    "y_med.value_counts()"
   ]
  },
  {
   "cell_type": "code",
   "execution_count": 136,
   "metadata": {},
   "outputs": [
    {
     "data": {
      "text/plain": [
       "4.0     3585\n",
       "12.0    3585\n",
       "6.0     3585\n",
       "19.0    3585\n",
       "9.0     3585\n",
       "5.0     3585\n",
       "7.0     3585\n",
       "16.0    3585\n",
       "13.0    3585\n",
       "1.0     3585\n",
       "8.0     3585\n",
       "11.0    3585\n",
       "17.0    3585\n",
       "18.0    3585\n",
       "14.0    3585\n",
       "21.0    3585\n",
       "20.0    3585\n",
       "15.0    3585\n",
       "10.0    3585\n",
       "Name: Classe_LOS_RES, dtype: int64"
      ]
     },
     "execution_count": 136,
     "metadata": {},
     "output_type": "execute_result"
    }
   ],
   "source": [
    "y_med.value_counts()"
   ]
  },
  {
   "cell_type": "code",
   "execution_count": 137,
   "metadata": {},
   "outputs": [],
   "source": [
    "from sklearn.model_selection import train_test_split\n",
    "from sklearn.model_selection import KFold\n",
    "from sklearn.model_selection import cross_val_score\n",
    "from sklearn.ensemble import RandomForestClassifier\n",
    "from sklearn.ensemble import RandomForestRegressor\n",
    "from sklearn.linear_model import LogisticRegression\n",
    "from sklearn.tree import DecisionTreeClassifier\n",
    "from sklearn.svm import SVC\n",
    "from sklearn.ensemble import GradientBoostingClassifier\n",
    "\n",
    "from numpy import mean\n",
    "from numpy import absolute\n",
    "from numpy import sqrt\n",
    "from numpy import std\n",
    "\n",
    "from sklearn.metrics import accuracy_score\n",
    "from sklearn.metrics import roc_auc_score\n",
    "from sklearn.metrics import f1_score\n",
    "from sklearn.metrics import precision_score\n",
    "from sklearn.metrics import confusion_matrix\n",
    "from sklearn.metrics import balanced_accuracy_score\n",
    "from sklearn.metrics import classification_report\n",
    "from sklearn.metrics import cohen_kappa_score"
   ]
  },
  {
   "cell_type": "markdown",
   "metadata": {},
   "source": [
    "# CLASSIFICAÇÃO"
   ]
  },
  {
   "cell_type": "code",
   "execution_count": 138,
   "metadata": {},
   "outputs": [],
   "source": [
    "model = DecisionTreeClassifier(max_depth=45, random_state=101)\n",
    "model2 = RandomForestClassifier(max_depth=40,random_state=42)\n",
    "model4= GradientBoostingClassifier(n_estimators=100, learning_rate=1.0, random_state=0)"
   ]
  },
  {
   "cell_type": "code",
   "execution_count": 139,
   "metadata": {},
   "outputs": [],
   "source": [
    "from sklearn.model_selection import cross_val_predict\n",
    "\n",
    "predicted = cross_val_predict(model, X_med, y_med, cv=cv)"
   ]
  },
  {
   "cell_type": "code",
   "execution_count": 140,
   "metadata": {},
   "outputs": [],
   "source": [
    "predicted2 = cross_val_predict(model2, X_med, y_med, cv=cv)"
   ]
  },
  {
   "cell_type": "code",
   "execution_count": 141,
   "metadata": {},
   "outputs": [
    {
     "data": {
      "text/plain": [
       "0.9260344026034403"
      ]
     },
     "execution_count": 141,
     "metadata": {},
     "output_type": "execute_result"
    }
   ],
   "source": [
    "cohen_kappa_score(y_med, predicted)"
   ]
  },
  {
   "cell_type": "code",
   "execution_count": 142,
   "metadata": {},
   "outputs": [
    {
     "data": {
      "text/plain": [
       "0.9411901441190144"
      ]
     },
     "execution_count": 142,
     "metadata": {},
     "output_type": "execute_result"
    }
   ],
   "source": [
    "cohen_kappa_score(y_med, predicted2)"
   ]
  },
  {
   "cell_type": "code",
   "execution_count": 143,
   "metadata": {},
   "outputs": [
    {
     "data": {
      "text/plain": [
       "0.9299273287822065"
      ]
     },
     "execution_count": 143,
     "metadata": {},
     "output_type": "execute_result"
    }
   ],
   "source": [
    "accuracy_score(y_med, predicted)"
   ]
  },
  {
   "cell_type": "code",
   "execution_count": 144,
   "metadata": {},
   "outputs": [
    {
     "data": {
      "text/plain": [
       "0.9442853996916979"
      ]
     },
     "execution_count": 144,
     "metadata": {},
     "output_type": "execute_result"
    }
   ],
   "source": [
    "accuracy_score(y_med, predicted2)"
   ]
  },
  {
   "cell_type": "code",
   "execution_count": 145,
   "metadata": {},
   "outputs": [
    {
     "data": {
      "text/plain": [
       "0.925870786128295"
      ]
     },
     "execution_count": 145,
     "metadata": {},
     "output_type": "execute_result"
    }
   ],
   "source": [
    "f1_score(y_med, predicted, average='macro')"
   ]
  },
  {
   "cell_type": "code",
   "execution_count": 146,
   "metadata": {},
   "outputs": [
    {
     "data": {
      "text/plain": [
       "0.9437469855725743"
      ]
     },
     "execution_count": 146,
     "metadata": {},
     "output_type": "execute_result"
    }
   ],
   "source": [
    "f1_score(y_med, predicted2, average='macro')"
   ]
  },
  {
   "cell_type": "code",
   "execution_count": 87,
   "metadata": {},
   "outputs": [
    {
     "name": "stdout",
     "output_type": "stream",
     "text": [
      "              precision    recall  f1-score   support\n",
      "\n",
      "         1.0       0.98      0.48      0.65      3585\n",
      "         4.0       0.87      0.94      0.90      3585\n",
      "         5.0       0.91      0.96      0.93      3585\n",
      "         6.0       0.93      0.96      0.94      3585\n",
      "         7.0       0.91      0.95      0.93      3585\n",
      "         8.0       0.93      0.95      0.94      3585\n",
      "         9.0       0.94      0.96      0.95      3585\n",
      "        10.0       0.95      0.95      0.95      3585\n",
      "        11.0       0.91      0.98      0.94      3585\n",
      "        12.0       0.93      0.96      0.95      3585\n",
      "        13.0       0.96      0.95      0.96      3585\n",
      "        14.0       0.94      0.94      0.94      3585\n",
      "        15.0       0.96      0.95      0.95      3585\n",
      "        16.0       0.99      0.94      0.96      3585\n",
      "        17.0       0.95      0.92      0.93      3585\n",
      "        18.0       0.84      0.97      0.90      3585\n",
      "        19.0       0.98      1.00      0.99      3585\n",
      "        20.0       0.93      0.90      0.91      3585\n",
      "        21.0       0.91      1.00      0.95      3585\n",
      "\n",
      "    accuracy                           0.93     68115\n",
      "   macro avg       0.93      0.93      0.93     68115\n",
      "weighted avg       0.93      0.93      0.93     68115\n",
      "\n"
     ]
    }
   ],
   "source": [
    "print(classification_report(y_med, predicted))"
   ]
  },
  {
   "cell_type": "code",
   "execution_count": 92,
   "metadata": {},
   "outputs": [
    {
     "name": "stdout",
     "output_type": "stream",
     "text": [
      "              precision    recall  f1-score   support\n",
      "\n",
      "         1.0       0.97      0.74      0.84      3585\n",
      "         4.0       0.92      0.93      0.92      3585\n",
      "         5.0       0.94      0.96      0.95      3585\n",
      "         6.0       0.96      0.96      0.96      3585\n",
      "         7.0       0.94      0.95      0.94      3585\n",
      "         8.0       0.96      0.95      0.95      3585\n",
      "         9.0       0.96      0.96      0.96      3585\n",
      "        10.0       0.97      0.96      0.96      3585\n",
      "        11.0       0.92      0.97      0.95      3585\n",
      "        12.0       0.95      0.96      0.95      3585\n",
      "        13.0       0.96      0.96      0.96      3585\n",
      "        14.0       0.95      0.94      0.95      3585\n",
      "        15.0       0.96      0.95      0.95      3585\n",
      "        16.0       0.99      0.94      0.97      3585\n",
      "        17.0       0.95      0.92      0.93      3585\n",
      "        18.0       0.84      0.97      0.90      3585\n",
      "        19.0       0.98      1.00      0.99      3585\n",
      "        20.0       0.93      0.90      0.92      3585\n",
      "        21.0       0.91      1.00      0.95      3585\n",
      "\n",
      "    accuracy                           0.94     68115\n",
      "   macro avg       0.94      0.94      0.94     68115\n",
      "weighted avg       0.94      0.94      0.94     68115\n",
      "\n"
     ]
    }
   ],
   "source": [
    "print(classification_report(y_med, predicted2))"
   ]
  },
  {
   "cell_type": "code",
   "execution_count": 93,
   "metadata": {},
   "outputs": [
    {
     "data": {
      "text/plain": [
       "array([0.23594105, 0.11986228, 0.00518497, 0.03179791, 0.00615733,\n",
       "       0.02503724, 0.00797427, 0.16120701, 0.02276531, 0.055756  ,\n",
       "       0.        , 0.02370777, 0.        , 0.04525676, 0.01297333,\n",
       "       0.04561622, 0.        , 0.0623626 , 0.13839993, 0.        ])"
      ]
     },
     "execution_count": 93,
     "metadata": {},
     "output_type": "execute_result"
    }
   ],
   "source": [
    "model.fit(X_med, y_med)\n",
    "model.feature_importances_"
   ]
  },
  {
   "cell_type": "code",
   "execution_count": 147,
   "metadata": {},
   "outputs": [
    {
     "data": {
      "text/plain": [
       "array([1.99588198e-01, 1.40677167e-01, 4.67823516e-03, 3.29200172e-02,\n",
       "       6.04665040e-03, 2.60121485e-02, 8.97882115e-03, 1.36827446e-01,\n",
       "       2.59469616e-02, 7.96308791e-02, 1.91885302e-06, 2.04404192e-02,\n",
       "       2.83464258e-06, 5.29580236e-02, 1.19224667e-02, 5.89689195e-02,\n",
       "       0.00000000e+00, 5.94509421e-02, 1.34935753e-01, 1.21985850e-05])"
      ]
     },
     "execution_count": 147,
     "metadata": {},
     "output_type": "execute_result"
    }
   ],
   "source": [
    "model2.fit(X_med, y_med)\n",
    "model2.feature_importances_"
   ]
  },
  {
   "cell_type": "code",
   "execution_count": 94,
   "metadata": {},
   "outputs": [
    {
     "data": {
      "text/plain": [
       "<BarContainer object of 20 artists>"
      ]
     },
     "execution_count": 94,
     "metadata": {},
     "output_type": "execute_result"
    },
    {
     "data": {
      "image/png": "[encoded data removed]",
      "text/plain": [
       "<Figure size 432x360 with 1 Axes>"
      ]
     },
     "metadata": {
      "needs_background": "light"
     },
     "output_type": "display_data"
    }
   ],
   "source": [
    "from matplotlib import pyplot as plt\n",
    "\n",
    "plt.figure(figsize=(6,5))\n",
    "plt.barh(X.columns, model.feature_importances_)\n"
   ]
  },
  {
   "cell_type": "code",
   "execution_count": 148,
   "metadata": {},
   "outputs": [
    {
     "data": {
      "text/plain": [
       "<BarContainer object of 20 artists>"
      ]
     },
     "execution_count": 148,
     "metadata": {},
     "output_type": "execute_result"
    },
    {
     "data": {
      "image/png": "[encoded data removed]",
      "text/plain": [
       "<Figure size 432x360 with 1 Axes>"
      ]
     },
     "metadata": {
      "needs_background": "light"
     },
     "output_type": "display_data"
    }
   ],
   "source": [
    "from matplotlib import pyplot as plt\n",
    "\n",
    "plt.figure(figsize=(6,5))\n",
    "plt.barh(X.columns, model2.feature_importances_)"
   ]
  },
  {
   "cell_type": "code",
   "execution_count": 98,
   "metadata": {},
   "outputs": [],
   "source": [
    "t=X_med"
   ]
  },
  {
   "cell_type": "code",
   "execution_count": 99,
   "metadata": {},
   "outputs": [],
   "source": [
    "#predict=cross_val_predict(model, X_med, y_med, cv=cv)\n",
    "t['predict']=predicted\n",
    "t['real']=y_med"
   ]
  },
  {
   "cell_type": "code",
   "execution_count": 100,
   "metadata": {},
   "outputs": [
    {
     "data": {
      "text/html": [
       "<div>\n",
       "<style scoped>\n",
       "    .dataframe tbody tr th:only-of-type {\n",
       "        vertical-align: middle;\n",
       "    }\n",
       "\n",
       "    .dataframe tbody tr th {\n",
       "        vertical-align: top;\n",
       "    }\n",
       "\n",
       "    .dataframe thead th {\n",
       "        text-align: right;\n",
       "    }\n",
       "</style>\n",
       "<table border=\"1\" class=\"dataframe\">\n",
       "  <thead>\n",
       "    <tr style=\"text-align: right;\">\n",
       "      <th></th>\n",
       "      <th>IDADE</th>\n",
       "      <th>AFL</th>\n",
       "      <th>ID_DIG</th>\n",
       "      <th>SEXO</th>\n",
       "      <th>TIPO_ADMISSAO</th>\n",
       "      <th>MOTIVO</th>\n",
       "      <th>COD_PROVENIENCIA</th>\n",
       "      <th>LOS_ANTERIOR</th>\n",
       "      <th>QTD_EXAMES</th>\n",
       "      <th>QTD_ANALISES</th>\n",
       "      <th>...</th>\n",
       "      <th>Novos Farmacos</th>\n",
       "      <th>Novas Analises</th>\n",
       "      <th>Exames Repetidos</th>\n",
       "      <th>Analises Repetidas</th>\n",
       "      <th>Farmacos Repetidos</th>\n",
       "      <th>ACC_EXAMES</th>\n",
       "      <th>ACC_ANALISES</th>\n",
       "      <th>ACC_Farmacos</th>\n",
       "      <th>predict</th>\n",
       "      <th>real</th>\n",
       "    </tr>\n",
       "  </thead>\n",
       "  <tbody>\n",
       "    <tr>\n",
       "      <th>0</th>\n",
       "      <td>86</td>\n",
       "      <td>6</td>\n",
       "      <td>1</td>\n",
       "      <td>2</td>\n",
       "      <td>0</td>\n",
       "      <td>2</td>\n",
       "      <td>2</td>\n",
       "      <td>717000.0</td>\n",
       "      <td>-1.0</td>\n",
       "      <td>-1.0</td>\n",
       "      <td>...</td>\n",
       "      <td>0.0</td>\n",
       "      <td>0.0</td>\n",
       "      <td>0.0</td>\n",
       "      <td>0.0</td>\n",
       "      <td>0.0</td>\n",
       "      <td>0.0</td>\n",
       "      <td>0.0</td>\n",
       "      <td>0.0</td>\n",
       "      <td>6.0</td>\n",
       "      <td>6.0</td>\n",
       "    </tr>\n",
       "    <tr>\n",
       "      <th>1</th>\n",
       "      <td>86</td>\n",
       "      <td>8</td>\n",
       "      <td>1</td>\n",
       "      <td>2</td>\n",
       "      <td>0</td>\n",
       "      <td>2</td>\n",
       "      <td>2</td>\n",
       "      <td>717000.0</td>\n",
       "      <td>-1.0</td>\n",
       "      <td>-1.0</td>\n",
       "      <td>...</td>\n",
       "      <td>0.0</td>\n",
       "      <td>0.0</td>\n",
       "      <td>0.0</td>\n",
       "      <td>0.0</td>\n",
       "      <td>0.0</td>\n",
       "      <td>0.0</td>\n",
       "      <td>0.0</td>\n",
       "      <td>0.0</td>\n",
       "      <td>5.0</td>\n",
       "      <td>5.0</td>\n",
       "    </tr>\n",
       "    <tr>\n",
       "      <th>2</th>\n",
       "      <td>86</td>\n",
       "      <td>8</td>\n",
       "      <td>1</td>\n",
       "      <td>2</td>\n",
       "      <td>0</td>\n",
       "      <td>2</td>\n",
       "      <td>2</td>\n",
       "      <td>717000.0</td>\n",
       "      <td>-1.0</td>\n",
       "      <td>-1.0</td>\n",
       "      <td>...</td>\n",
       "      <td>0.0</td>\n",
       "      <td>0.0</td>\n",
       "      <td>0.0</td>\n",
       "      <td>0.0</td>\n",
       "      <td>0.0</td>\n",
       "      <td>0.0</td>\n",
       "      <td>0.0</td>\n",
       "      <td>0.0</td>\n",
       "      <td>5.0</td>\n",
       "      <td>4.0</td>\n",
       "    </tr>\n",
       "    <tr>\n",
       "      <th>3</th>\n",
       "      <td>86</td>\n",
       "      <td>6</td>\n",
       "      <td>1</td>\n",
       "      <td>2</td>\n",
       "      <td>0</td>\n",
       "      <td>2</td>\n",
       "      <td>2</td>\n",
       "      <td>717000.0</td>\n",
       "      <td>-1.0</td>\n",
       "      <td>-1.0</td>\n",
       "      <td>...</td>\n",
       "      <td>0.0</td>\n",
       "      <td>0.0</td>\n",
       "      <td>0.0</td>\n",
       "      <td>0.0</td>\n",
       "      <td>0.0</td>\n",
       "      <td>0.0</td>\n",
       "      <td>0.0</td>\n",
       "      <td>0.0</td>\n",
       "      <td>6.0</td>\n",
       "      <td>1.0</td>\n",
       "    </tr>\n",
       "    <tr>\n",
       "      <th>4</th>\n",
       "      <td>86</td>\n",
       "      <td>5</td>\n",
       "      <td>1</td>\n",
       "      <td>2</td>\n",
       "      <td>0</td>\n",
       "      <td>2</td>\n",
       "      <td>2</td>\n",
       "      <td>717000.0</td>\n",
       "      <td>-1.0</td>\n",
       "      <td>-1.0</td>\n",
       "      <td>...</td>\n",
       "      <td>0.0</td>\n",
       "      <td>0.0</td>\n",
       "      <td>0.0</td>\n",
       "      <td>0.0</td>\n",
       "      <td>0.0</td>\n",
       "      <td>0.0</td>\n",
       "      <td>0.0</td>\n",
       "      <td>0.0</td>\n",
       "      <td>10.0</td>\n",
       "      <td>1.0</td>\n",
       "    </tr>\n",
       "    <tr>\n",
       "      <th>...</th>\n",
       "      <td>...</td>\n",
       "      <td>...</td>\n",
       "      <td>...</td>\n",
       "      <td>...</td>\n",
       "      <td>...</td>\n",
       "      <td>...</td>\n",
       "      <td>...</td>\n",
       "      <td>...</td>\n",
       "      <td>...</td>\n",
       "      <td>...</td>\n",
       "      <td>...</td>\n",
       "      <td>...</td>\n",
       "      <td>...</td>\n",
       "      <td>...</td>\n",
       "      <td>...</td>\n",
       "      <td>...</td>\n",
       "      <td>...</td>\n",
       "      <td>...</td>\n",
       "      <td>...</td>\n",
       "      <td>...</td>\n",
       "      <td>...</td>\n",
       "    </tr>\n",
       "    <tr>\n",
       "      <th>68110</th>\n",
       "      <td>63</td>\n",
       "      <td>8</td>\n",
       "      <td>1</td>\n",
       "      <td>2</td>\n",
       "      <td>1</td>\n",
       "      <td>2</td>\n",
       "      <td>1</td>\n",
       "      <td>105039.0</td>\n",
       "      <td>-1.0</td>\n",
       "      <td>-1.0</td>\n",
       "      <td>...</td>\n",
       "      <td>0.0</td>\n",
       "      <td>0.0</td>\n",
       "      <td>0.0</td>\n",
       "      <td>0.0</td>\n",
       "      <td>0.0</td>\n",
       "      <td>0.0</td>\n",
       "      <td>0.0</td>\n",
       "      <td>0.0</td>\n",
       "      <td>21.0</td>\n",
       "      <td>21.0</td>\n",
       "    </tr>\n",
       "    <tr>\n",
       "      <th>68111</th>\n",
       "      <td>68</td>\n",
       "      <td>7</td>\n",
       "      <td>1</td>\n",
       "      <td>1</td>\n",
       "      <td>1</td>\n",
       "      <td>2</td>\n",
       "      <td>1</td>\n",
       "      <td>323062.0</td>\n",
       "      <td>-1.0</td>\n",
       "      <td>-1.0</td>\n",
       "      <td>...</td>\n",
       "      <td>0.0</td>\n",
       "      <td>0.0</td>\n",
       "      <td>0.0</td>\n",
       "      <td>0.0</td>\n",
       "      <td>0.0</td>\n",
       "      <td>0.0</td>\n",
       "      <td>0.0</td>\n",
       "      <td>0.0</td>\n",
       "      <td>21.0</td>\n",
       "      <td>21.0</td>\n",
       "    </tr>\n",
       "    <tr>\n",
       "      <th>68112</th>\n",
       "      <td>65</td>\n",
       "      <td>9</td>\n",
       "      <td>1</td>\n",
       "      <td>1</td>\n",
       "      <td>1</td>\n",
       "      <td>1</td>\n",
       "      <td>1</td>\n",
       "      <td>0.0</td>\n",
       "      <td>-1.0</td>\n",
       "      <td>-1.0</td>\n",
       "      <td>...</td>\n",
       "      <td>0.0</td>\n",
       "      <td>0.0</td>\n",
       "      <td>0.0</td>\n",
       "      <td>0.0</td>\n",
       "      <td>0.0</td>\n",
       "      <td>0.0</td>\n",
       "      <td>0.0</td>\n",
       "      <td>0.0</td>\n",
       "      <td>21.0</td>\n",
       "      <td>21.0</td>\n",
       "    </tr>\n",
       "    <tr>\n",
       "      <th>68113</th>\n",
       "      <td>73</td>\n",
       "      <td>8</td>\n",
       "      <td>1</td>\n",
       "      <td>1</td>\n",
       "      <td>1</td>\n",
       "      <td>2</td>\n",
       "      <td>1</td>\n",
       "      <td>655800.0</td>\n",
       "      <td>-1.0</td>\n",
       "      <td>-1.0</td>\n",
       "      <td>...</td>\n",
       "      <td>0.0</td>\n",
       "      <td>0.0</td>\n",
       "      <td>0.0</td>\n",
       "      <td>0.0</td>\n",
       "      <td>0.0</td>\n",
       "      <td>0.0</td>\n",
       "      <td>0.0</td>\n",
       "      <td>0.0</td>\n",
       "      <td>21.0</td>\n",
       "      <td>21.0</td>\n",
       "    </tr>\n",
       "    <tr>\n",
       "      <th>68114</th>\n",
       "      <td>77</td>\n",
       "      <td>5</td>\n",
       "      <td>1</td>\n",
       "      <td>1</td>\n",
       "      <td>0</td>\n",
       "      <td>3</td>\n",
       "      <td>9</td>\n",
       "      <td>0.0</td>\n",
       "      <td>-1.0</td>\n",
       "      <td>-1.0</td>\n",
       "      <td>...</td>\n",
       "      <td>0.0</td>\n",
       "      <td>0.0</td>\n",
       "      <td>0.0</td>\n",
       "      <td>0.0</td>\n",
       "      <td>0.0</td>\n",
       "      <td>0.0</td>\n",
       "      <td>0.0</td>\n",
       "      <td>0.0</td>\n",
       "      <td>21.0</td>\n",
       "      <td>21.0</td>\n",
       "    </tr>\n",
       "  </tbody>\n",
       "</table>\n",
       "<p>68115 rows × 22 columns</p>\n",
       "</div>"
      ],
      "text/plain": [
       "       IDADE  AFL  ID_DIG  SEXO  TIPO_ADMISSAO MOTIVO  COD_PROVENIENCIA  \\\n",
       "0         86    6       1     2              0      2                 2   \n",
       "1         86    8       1     2              0      2                 2   \n",
       "2         86    8       1     2              0      2                 2   \n",
       "3         86    6       1     2              0      2                 2   \n",
       "4         86    5       1     2              0      2                 2   \n",
       "...      ...  ...     ...   ...            ...    ...               ...   \n",
       "68110     63    8       1     2              1      2                 1   \n",
       "68111     68    7       1     1              1      2                 1   \n",
       "68112     65    9       1     1              1      1                 1   \n",
       "68113     73    8       1     1              1      2                 1   \n",
       "68114     77    5       1     1              0      3                 9   \n",
       "\n",
       "       LOS_ANTERIOR  QTD_EXAMES  QTD_ANALISES  ...  Novos Farmacos  \\\n",
       "0          717000.0        -1.0          -1.0  ...             0.0   \n",
       "1          717000.0        -1.0          -1.0  ...             0.0   \n",
       "2          717000.0        -1.0          -1.0  ...             0.0   \n",
       "3          717000.0        -1.0          -1.0  ...             0.0   \n",
       "4          717000.0        -1.0          -1.0  ...             0.0   \n",
       "...             ...         ...           ...  ...             ...   \n",
       "68110      105039.0        -1.0          -1.0  ...             0.0   \n",
       "68111      323062.0        -1.0          -1.0  ...             0.0   \n",
       "68112           0.0        -1.0          -1.0  ...             0.0   \n",
       "68113      655800.0        -1.0          -1.0  ...             0.0   \n",
       "68114           0.0        -1.0          -1.0  ...             0.0   \n",
       "\n",
       "       Novas Analises  Exames Repetidos  Analises Repetidas  \\\n",
       "0                 0.0               0.0                 0.0   \n",
       "1                 0.0               0.0                 0.0   \n",
       "2                 0.0               0.0                 0.0   \n",
       "3                 0.0               0.0                 0.0   \n",
       "4                 0.0               0.0                 0.0   \n",
       "...               ...               ...                 ...   \n",
       "68110             0.0               0.0                 0.0   \n",
       "68111             0.0               0.0                 0.0   \n",
       "68112             0.0               0.0                 0.0   \n",
       "68113             0.0               0.0                 0.0   \n",
       "68114             0.0               0.0                 0.0   \n",
       "\n",
       "       Farmacos Repetidos  ACC_EXAMES  ACC_ANALISES  ACC_Farmacos  predict  \\\n",
       "0                     0.0         0.0           0.0           0.0      6.0   \n",
       "1                     0.0         0.0           0.0           0.0      5.0   \n",
       "2                     0.0         0.0           0.0           0.0      5.0   \n",
       "3                     0.0         0.0           0.0           0.0      6.0   \n",
       "4                     0.0         0.0           0.0           0.0     10.0   \n",
       "...                   ...         ...           ...           ...      ...   \n",
       "68110                 0.0         0.0           0.0           0.0     21.0   \n",
       "68111                 0.0         0.0           0.0           0.0     21.0   \n",
       "68112                 0.0         0.0           0.0           0.0     21.0   \n",
       "68113                 0.0         0.0           0.0           0.0     21.0   \n",
       "68114                 0.0         0.0           0.0           0.0     21.0   \n",
       "\n",
       "       real  \n",
       "0       6.0  \n",
       "1       5.0  \n",
       "2       4.0  \n",
       "3       1.0  \n",
       "4       1.0  \n",
       "...     ...  \n",
       "68110  21.0  \n",
       "68111  21.0  \n",
       "68112  21.0  \n",
       "68113  21.0  \n",
       "68114  21.0  \n",
       "\n",
       "[68115 rows x 22 columns]"
      ]
     },
     "execution_count": 100,
     "metadata": {},
     "output_type": "execute_result"
    }
   ],
   "source": [
    "t"
   ]
  },
  {
   "cell_type": "code",
   "execution_count": 95,
   "metadata": {},
   "outputs": [
    {
     "name": "stdout",
     "output_type": "stream",
     "text": [
      "[[0.1        0.         0.         ... 0.         0.         0.        ]\n",
      " [0.         0.38461538 0.61538462 ... 0.         0.         0.        ]\n",
      " [0.         0.38461538 0.61538462 ... 0.         0.         0.        ]\n",
      " ...\n",
      " [0.         0.         0.         ... 0.         0.         1.        ]\n",
      " [0.         0.         0.         ... 0.         0.33742911 0.66257089]\n",
      " [0.         0.         0.         ... 0.         0.         1.        ]]\n"
     ]
    }
   ],
   "source": [
    "predictions = model.predict_proba(X_med)\n",
    "print(predictions)"
   ]
  },
  {
   "cell_type": "code",
   "execution_count": 96,
   "metadata": {},
   "outputs": [
    {
     "data": {
      "text/plain": [
       "0.999651467043519"
      ]
     },
     "execution_count": 96,
     "metadata": {},
     "output_type": "execute_result"
    }
   ],
   "source": [
    "roc_auc_score(y_med, predictions, multi_class='ovo')"
   ]
  },
  {
   "cell_type": "code",
   "execution_count": 97,
   "metadata": {},
   "outputs": [],
   "source": [
    "prob=[]\n",
    "\n",
    "for d in predictions:\n",
    "    maior_prob=0\n",
    "    for y in d: \n",
    "        if y>maior_prob:\n",
    "            maior_prob=y\n",
    "    prob.append(maior_prob)"
   ]
  },
  {
   "cell_type": "code",
   "execution_count": 101,
   "metadata": {},
   "outputs": [],
   "source": [
    "t['Grau Confiança']= prob"
   ]
  },
  {
   "cell_type": "code",
   "execution_count": 103,
   "metadata": {},
   "outputs": [
    {
     "data": {
      "text/html": [
       "<div>\n",
       "<style scoped>\n",
       "    .dataframe tbody tr th:only-of-type {\n",
       "        vertical-align: middle;\n",
       "    }\n",
       "\n",
       "    .dataframe tbody tr th {\n",
       "        vertical-align: top;\n",
       "    }\n",
       "\n",
       "    .dataframe thead th {\n",
       "        text-align: right;\n",
       "    }\n",
       "</style>\n",
       "<table border=\"1\" class=\"dataframe\">\n",
       "  <thead>\n",
       "    <tr style=\"text-align: right;\">\n",
       "      <th></th>\n",
       "      <th>predict</th>\n",
       "      <th>real</th>\n",
       "      <th>Grau Confiança</th>\n",
       "    </tr>\n",
       "  </thead>\n",
       "  <tbody>\n",
       "    <tr>\n",
       "      <th>0</th>\n",
       "      <td>6.0</td>\n",
       "      <td>6.0</td>\n",
       "      <td>0.900000</td>\n",
       "    </tr>\n",
       "    <tr>\n",
       "      <th>1</th>\n",
       "      <td>5.0</td>\n",
       "      <td>5.0</td>\n",
       "      <td>0.615385</td>\n",
       "    </tr>\n",
       "    <tr>\n",
       "      <th>2</th>\n",
       "      <td>5.0</td>\n",
       "      <td>4.0</td>\n",
       "      <td>0.615385</td>\n",
       "    </tr>\n",
       "    <tr>\n",
       "      <th>3</th>\n",
       "      <td>6.0</td>\n",
       "      <td>1.0</td>\n",
       "      <td>0.900000</td>\n",
       "    </tr>\n",
       "    <tr>\n",
       "      <th>4</th>\n",
       "      <td>10.0</td>\n",
       "      <td>1.0</td>\n",
       "      <td>1.000000</td>\n",
       "    </tr>\n",
       "    <tr>\n",
       "      <th>...</th>\n",
       "      <td>...</td>\n",
       "      <td>...</td>\n",
       "      <td>...</td>\n",
       "    </tr>\n",
       "    <tr>\n",
       "      <th>68110</th>\n",
       "      <td>21.0</td>\n",
       "      <td>21.0</td>\n",
       "      <td>1.000000</td>\n",
       "    </tr>\n",
       "    <tr>\n",
       "      <th>68111</th>\n",
       "      <td>21.0</td>\n",
       "      <td>21.0</td>\n",
       "      <td>1.000000</td>\n",
       "    </tr>\n",
       "    <tr>\n",
       "      <th>68112</th>\n",
       "      <td>21.0</td>\n",
       "      <td>21.0</td>\n",
       "      <td>1.000000</td>\n",
       "    </tr>\n",
       "    <tr>\n",
       "      <th>68113</th>\n",
       "      <td>21.0</td>\n",
       "      <td>21.0</td>\n",
       "      <td>0.662571</td>\n",
       "    </tr>\n",
       "    <tr>\n",
       "      <th>68114</th>\n",
       "      <td>21.0</td>\n",
       "      <td>21.0</td>\n",
       "      <td>1.000000</td>\n",
       "    </tr>\n",
       "  </tbody>\n",
       "</table>\n",
       "<p>68115 rows × 3 columns</p>\n",
       "</div>"
      ],
      "text/plain": [
       "       predict  real  Grau Confiança\n",
       "0          6.0   6.0        0.900000\n",
       "1          5.0   5.0        0.615385\n",
       "2          5.0   4.0        0.615385\n",
       "3          6.0   1.0        0.900000\n",
       "4         10.0   1.0        1.000000\n",
       "...        ...   ...             ...\n",
       "68110     21.0  21.0        1.000000\n",
       "68111     21.0  21.0        1.000000\n",
       "68112     21.0  21.0        1.000000\n",
       "68113     21.0  21.0        0.662571\n",
       "68114     21.0  21.0        1.000000\n",
       "\n",
       "[68115 rows x 3 columns]"
      ]
     },
     "execution_count": 103,
     "metadata": {},
     "output_type": "execute_result"
    }
   ],
   "source": [
    "t[['predict','real','Grau Confiança']]"
   ]
  },
  {
   "cell_type": "code",
   "execution_count": null,
   "metadata": {},
   "outputs": [],
   "source": []
  }
 ],
 "metadata": {
  "kernelspec": {
   "display_name": "Python 3 (ipykernel)",
   "language": "python",
   "name": "python3"
  },
  "language_info": {
   "codemirror_mode": {
    "name": "ipython",
    "version": 3
   },
   "file_extension": ".py",
   "mimetype": "text/x-python",
   "name": "python",
   "nbconvert_exporter": "python",
   "pygments_lexer": "ipython3",
   "version": "3.10.5"
  }
 },
 "nbformat": 4,
 "nbformat_minor": 4
}
