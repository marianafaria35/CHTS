{
 "cells": [
  {
   "cell_type": "code",
   "execution_count": 87,
   "metadata": {},
   "outputs": [],
   "source": [
    "import pandas as pd\n",
    "import numpy as np"
   ]
  },
  {
   "cell_type": "code",
   "execution_count": 88,
   "metadata": {},
   "outputs": [],
   "source": [
    "adm16_21=pd.read_excel('Datasets/2016_21.xlsx')"
   ]
  },
  {
   "cell_type": "code",
   "execution_count": 89,
   "metadata": {},
   "outputs": [],
   "source": [
    "adm21_22=pd.read_excel('Datasets/urg_altas_1.xlsx')"
   ]
  },
  {
   "cell_type": "code",
   "execution_count": 90,
   "metadata": {},
   "outputs": [],
   "source": [
    "adm16_21=adm16_21.sort_values('DTA_ADMISSAO', ascending=False)"
   ]
  },
  {
   "cell_type": "code",
   "execution_count": 91,
   "metadata": {},
   "outputs": [
    {
     "name": "stdout",
     "output_type": "stream",
     "text": [
      "<class 'pandas.core.frame.DataFrame'>\n",
      "Int64Index: 1048575 entries, 839494 to 853046\n",
      "Data columns (total 25 columns):\n",
      " #   Column               Non-Null Count    Dtype  \n",
      "---  ------               --------------    -----  \n",
      " 0   URG_EPISODIO         1048575 non-null  int64  \n",
      " 1   NUM_SEQUENCIAL       1048575 non-null  int64  \n",
      " 2   NUM_MECANOGRAFICO    1048575 non-null  int64  \n",
      " 3   COD_LOCAL            1048575 non-null  int64  \n",
      " 4   DTA_ADMISSAO         1048575 non-null  object \n",
      " 5   HORA_ADMISSAO        1048575 non-null  int64  \n",
      " 6   COD_CAUSA            1048483 non-null  float64\n",
      " 7   COD_PROVENIENCIA     1048013 non-null  float64\n",
      " 8   COD_UNIDADE_PROV     108270 non-null   float64\n",
      " 9   COD_SUBSISTEMA_RESP  1048575 non-null  int64  \n",
      " 10  NUM_TAXA             1048575 non-null  int64  \n",
      " 11  OBSERV               210743 non-null   object \n",
      " 12  NUM_AVISO            160 non-null      float64\n",
      " 13  COD_PRIORIDADE       636291 non-null   float64\n",
      " 14  COD_SALA             697160 non-null   float64\n",
      " 15  COD_VIA_VERDE        13430 non-null    float64\n",
      " 16  DTA_TRIAGEM          636675 non-null   object \n",
      " 17  CODU                 43783 non-null    object \n",
      " 18  DTA_NASCIMENTO       1048575 non-null  object \n",
      " 19  SEXO                 1048575 non-null  int64  \n",
      " 20  COD_DESTINO          1048374 non-null  float64\n",
      " 21  DTA_ALTA             1048375 non-null  object \n",
      " 22  HORA_ALTA            1048373 non-null  float64\n",
      " 23  COD_CONCELHO         1048575 non-null  int64  \n",
      " 24  DESIGNACAO           1048575 non-null  object \n",
      "dtypes: float64(9), int64(9), object(7)\n",
      "memory usage: 208.0+ MB\n"
     ]
    }
   ],
   "source": [
    "adm16_21.info()"
   ]
  },
  {
   "cell_type": "code",
   "execution_count": 92,
   "metadata": {},
   "outputs": [],
   "source": [
    "adm16_21['DTA_ADMISSAO']=pd.to_datetime(adm16_21['DTA_ADMISSAO'])"
   ]
  },
  {
   "cell_type": "code",
   "execution_count": 93,
   "metadata": {},
   "outputs": [],
   "source": [
    "adm18_20=adm16_21[(adm16_21['DTA_ADMISSAO'].dt.year!=2021)&(adm16_21['DTA_ADMISSAO'].dt.year!=2017)&(adm16_21['DTA_ADMISSAO'].dt.year!=2016)]"
   ]
  },
  {
   "cell_type": "code",
   "execution_count": 94,
   "metadata": {},
   "outputs": [],
   "source": [
    "adm21_22=adm21_22.sort_values('DTA_ADMISSAO', ascending=False)"
   ]
  },
  {
   "cell_type": "code",
   "execution_count": 95,
   "metadata": {},
   "outputs": [],
   "source": [
    "adm18_20=adm18_20[['URG_EPISODIO','COD_LOCAL','DTA_ADMISSAO','COD_PRIORIDADE']]"
   ]
  },
  {
   "cell_type": "code",
   "execution_count": 96,
   "metadata": {},
   "outputs": [],
   "source": [
    "adm21_22=adm21_22[['URG_EPISODIO','COD_LOCAL','DTA_ADMISSAO','COD_PRIORIDADE']]"
   ]
  },
  {
   "cell_type": "code",
   "execution_count": 97,
   "metadata": {},
   "outputs": [
    {
     "data": {
      "text/html": [
       "<div>\n",
       "<style scoped>\n",
       "    .dataframe tbody tr th:only-of-type {\n",
       "        vertical-align: middle;\n",
       "    }\n",
       "\n",
       "    .dataframe tbody tr th {\n",
       "        vertical-align: top;\n",
       "    }\n",
       "\n",
       "    .dataframe thead th {\n",
       "        text-align: right;\n",
       "    }\n",
       "</style>\n",
       "<table border=\"1\" class=\"dataframe\">\n",
       "  <thead>\n",
       "    <tr style=\"text-align: right;\">\n",
       "      <th></th>\n",
       "      <th>URG_EPISODIO</th>\n",
       "      <th>COD_LOCAL</th>\n",
       "      <th>DTA_ADMISSAO</th>\n",
       "      <th>COD_PRIORIDADE</th>\n",
       "    </tr>\n",
       "  </thead>\n",
       "  <tbody>\n",
       "    <tr>\n",
       "      <th>584333</th>\n",
       "      <td>445787132916</td>\n",
       "      <td>1</td>\n",
       "      <td>2020-12-31</td>\n",
       "      <td>4.0</td>\n",
       "    </tr>\n",
       "    <tr>\n",
       "      <th>426089</th>\n",
       "      <td>445786582377</td>\n",
       "      <td>1</td>\n",
       "      <td>2020-12-31</td>\n",
       "      <td>3.0</td>\n",
       "    </tr>\n",
       "    <tr>\n",
       "      <th>260499</th>\n",
       "      <td>445785981789</td>\n",
       "      <td>4</td>\n",
       "      <td>2020-12-31</td>\n",
       "      <td>NaN</td>\n",
       "    </tr>\n",
       "    <tr>\n",
       "      <th>27828</th>\n",
       "      <td>445787066184</td>\n",
       "      <td>1</td>\n",
       "      <td>2020-12-31</td>\n",
       "      <td>2.0</td>\n",
       "    </tr>\n",
       "    <tr>\n",
       "      <th>11663</th>\n",
       "      <td>445786954964</td>\n",
       "      <td>1</td>\n",
       "      <td>2020-12-31</td>\n",
       "      <td>2.0</td>\n",
       "    </tr>\n",
       "    <tr>\n",
       "      <th>...</th>\n",
       "      <td>...</td>\n",
       "      <td>...</td>\n",
       "      <td>...</td>\n",
       "      <td>...</td>\n",
       "    </tr>\n",
       "    <tr>\n",
       "      <th>5737</th>\n",
       "      <td>100100085727</td>\n",
       "      <td>1</td>\n",
       "      <td>2018-01-01</td>\n",
       "      <td>3.0</td>\n",
       "    </tr>\n",
       "    <tr>\n",
       "      <th>1767</th>\n",
       "      <td>100098884551</td>\n",
       "      <td>1</td>\n",
       "      <td>2018-01-01</td>\n",
       "      <td>4.0</td>\n",
       "    </tr>\n",
       "    <tr>\n",
       "      <th>956587</th>\n",
       "      <td>100099918897</td>\n",
       "      <td>4</td>\n",
       "      <td>2018-01-01</td>\n",
       "      <td>NaN</td>\n",
       "    </tr>\n",
       "    <tr>\n",
       "      <th>559449</th>\n",
       "      <td>100098206109</td>\n",
       "      <td>1</td>\n",
       "      <td>2018-01-01</td>\n",
       "      <td>2.0</td>\n",
       "    </tr>\n",
       "    <tr>\n",
       "      <th>696131</th>\n",
       "      <td>100099796555</td>\n",
       "      <td>1</td>\n",
       "      <td>2018-01-01</td>\n",
       "      <td>3.0</td>\n",
       "    </tr>\n",
       "  </tbody>\n",
       "</table>\n",
       "<p>532066 rows × 4 columns</p>\n",
       "</div>"
      ],
      "text/plain": [
       "        URG_EPISODIO  COD_LOCAL DTA_ADMISSAO  COD_PRIORIDADE\n",
       "584333  445787132916          1   2020-12-31             4.0\n",
       "426089  445786582377          1   2020-12-31             3.0\n",
       "260499  445785981789          4   2020-12-31             NaN\n",
       "27828   445787066184          1   2020-12-31             2.0\n",
       "11663   445786954964          1   2020-12-31             2.0\n",
       "...              ...        ...          ...             ...\n",
       "5737    100100085727          1   2018-01-01             3.0\n",
       "1767    100098884551          1   2018-01-01             4.0\n",
       "956587  100099918897          4   2018-01-01             NaN\n",
       "559449  100098206109          1   2018-01-01             2.0\n",
       "696131  100099796555          1   2018-01-01             3.0\n",
       "\n",
       "[532066 rows x 4 columns]"
      ]
     },
     "execution_count": 97,
     "metadata": {},
     "output_type": "execute_result"
    }
   ],
   "source": [
    "adm18_20"
   ]
  },
  {
   "cell_type": "code",
   "execution_count": 98,
   "metadata": {},
   "outputs": [
    {
     "data": {
      "text/html": [
       "<div>\n",
       "<style scoped>\n",
       "    .dataframe tbody tr th:only-of-type {\n",
       "        vertical-align: middle;\n",
       "    }\n",
       "\n",
       "    .dataframe tbody tr th {\n",
       "        vertical-align: top;\n",
       "    }\n",
       "\n",
       "    .dataframe thead th {\n",
       "        text-align: right;\n",
       "    }\n",
       "</style>\n",
       "<table border=\"1\" class=\"dataframe\">\n",
       "  <thead>\n",
       "    <tr style=\"text-align: right;\">\n",
       "      <th></th>\n",
       "      <th>URG_EPISODIO</th>\n",
       "      <th>COD_LOCAL</th>\n",
       "      <th>DTA_ADMISSAO</th>\n",
       "      <th>COD_PRIORIDADE</th>\n",
       "    </tr>\n",
       "  </thead>\n",
       "  <tbody>\n",
       "    <tr>\n",
       "      <th>348688</th>\n",
       "      <td>22167457</td>\n",
       "      <td>9</td>\n",
       "      <td>2022-10-26</td>\n",
       "      <td>2.0</td>\n",
       "    </tr>\n",
       "    <tr>\n",
       "      <th>7909</th>\n",
       "      <td>22167125</td>\n",
       "      <td>1</td>\n",
       "      <td>2022-10-26</td>\n",
       "      <td>4.0</td>\n",
       "    </tr>\n",
       "    <tr>\n",
       "      <th>136257</th>\n",
       "      <td>22167310</td>\n",
       "      <td>9</td>\n",
       "      <td>2022-10-26</td>\n",
       "      <td>1.0</td>\n",
       "    </tr>\n",
       "    <tr>\n",
       "      <th>340411</th>\n",
       "      <td>22167467</td>\n",
       "      <td>1</td>\n",
       "      <td>2022-10-26</td>\n",
       "      <td>3.0</td>\n",
       "    </tr>\n",
       "    <tr>\n",
       "      <th>340351</th>\n",
       "      <td>22167452</td>\n",
       "      <td>4</td>\n",
       "      <td>2022-10-26</td>\n",
       "      <td>NaN</td>\n",
       "    </tr>\n",
       "    <tr>\n",
       "      <th>...</th>\n",
       "      <td>...</td>\n",
       "      <td>...</td>\n",
       "      <td>...</td>\n",
       "      <td>...</td>\n",
       "    </tr>\n",
       "    <tr>\n",
       "      <th>97164</th>\n",
       "      <td>21000163</td>\n",
       "      <td>1</td>\n",
       "      <td>2021-01-01</td>\n",
       "      <td>4.0</td>\n",
       "    </tr>\n",
       "    <tr>\n",
       "      <th>157460</th>\n",
       "      <td>21000005</td>\n",
       "      <td>1</td>\n",
       "      <td>2021-01-01</td>\n",
       "      <td>2.0</td>\n",
       "    </tr>\n",
       "    <tr>\n",
       "      <th>199806</th>\n",
       "      <td>21000161</td>\n",
       "      <td>1</td>\n",
       "      <td>2021-01-01</td>\n",
       "      <td>4.0</td>\n",
       "    </tr>\n",
       "    <tr>\n",
       "      <th>189606</th>\n",
       "      <td>21000240</td>\n",
       "      <td>1</td>\n",
       "      <td>2021-01-01</td>\n",
       "      <td>2.0</td>\n",
       "    </tr>\n",
       "    <tr>\n",
       "      <th>170631</th>\n",
       "      <td>21000004</td>\n",
       "      <td>1</td>\n",
       "      <td>2021-01-01</td>\n",
       "      <td>3.0</td>\n",
       "    </tr>\n",
       "  </tbody>\n",
       "</table>\n",
       "<p>348689 rows × 4 columns</p>\n",
       "</div>"
      ],
      "text/plain": [
       "        URG_EPISODIO  COD_LOCAL DTA_ADMISSAO  COD_PRIORIDADE\n",
       "348688      22167457          9   2022-10-26             2.0\n",
       "7909        22167125          1   2022-10-26             4.0\n",
       "136257      22167310          9   2022-10-26             1.0\n",
       "340411      22167467          1   2022-10-26             3.0\n",
       "340351      22167452          4   2022-10-26             NaN\n",
       "...              ...        ...          ...             ...\n",
       "97164       21000163          1   2021-01-01             4.0\n",
       "157460      21000005          1   2021-01-01             2.0\n",
       "199806      21000161          1   2021-01-01             4.0\n",
       "189606      21000240          1   2021-01-01             2.0\n",
       "170631      21000004          1   2021-01-01             3.0\n",
       "\n",
       "[348689 rows x 4 columns]"
      ]
     },
     "execution_count": 98,
     "metadata": {},
     "output_type": "execute_result"
    }
   ],
   "source": [
    "adm21_22"
   ]
  },
  {
   "cell_type": "code",
   "execution_count": 99,
   "metadata": {},
   "outputs": [],
   "source": [
    "adm=[adm18_20,adm21_22]"
   ]
  },
  {
   "cell_type": "code",
   "execution_count": 100,
   "metadata": {},
   "outputs": [],
   "source": [
    "adm=pd.concat(adm)"
   ]
  },
  {
   "cell_type": "code",
   "execution_count": 101,
   "metadata": {},
   "outputs": [],
   "source": [
    "adm['DTA_ADMISSAO']=pd.to_datetime(adm['DTA_ADMISSAO'])"
   ]
  },
  {
   "cell_type": "code",
   "execution_count": 102,
   "metadata": {},
   "outputs": [
    {
     "data": {
      "text/html": [
       "<div>\n",
       "<style scoped>\n",
       "    .dataframe tbody tr th:only-of-type {\n",
       "        vertical-align: middle;\n",
       "    }\n",
       "\n",
       "    .dataframe tbody tr th {\n",
       "        vertical-align: top;\n",
       "    }\n",
       "\n",
       "    .dataframe thead th {\n",
       "        text-align: right;\n",
       "    }\n",
       "</style>\n",
       "<table border=\"1\" class=\"dataframe\">\n",
       "  <thead>\n",
       "    <tr style=\"text-align: right;\">\n",
       "      <th></th>\n",
       "      <th>URG_EPISODIO</th>\n",
       "      <th>COD_LOCAL</th>\n",
       "      <th>DTA_ADMISSAO</th>\n",
       "      <th>COD_PRIORIDADE</th>\n",
       "    </tr>\n",
       "  </thead>\n",
       "  <tbody>\n",
       "    <tr>\n",
       "      <th>332514</th>\n",
       "      <td>100100463875</td>\n",
       "      <td>1</td>\n",
       "      <td>2018-01-01</td>\n",
       "      <td>4.0</td>\n",
       "    </tr>\n",
       "    <tr>\n",
       "      <th>763842</th>\n",
       "      <td>100099879970</td>\n",
       "      <td>1</td>\n",
       "      <td>2018-01-01</td>\n",
       "      <td>3.0</td>\n",
       "    </tr>\n",
       "    <tr>\n",
       "      <th>755086</th>\n",
       "      <td>100099440651</td>\n",
       "      <td>1</td>\n",
       "      <td>2018-01-01</td>\n",
       "      <td>3.0</td>\n",
       "    </tr>\n",
       "    <tr>\n",
       "      <th>947583</th>\n",
       "      <td>100098712160</td>\n",
       "      <td>1</td>\n",
       "      <td>2018-01-01</td>\n",
       "      <td>3.0</td>\n",
       "    </tr>\n",
       "    <tr>\n",
       "      <th>956511</th>\n",
       "      <td>100099663091</td>\n",
       "      <td>1</td>\n",
       "      <td>2018-01-01</td>\n",
       "      <td>98.0</td>\n",
       "    </tr>\n",
       "    <tr>\n",
       "      <th>...</th>\n",
       "      <td>...</td>\n",
       "      <td>...</td>\n",
       "      <td>...</td>\n",
       "      <td>...</td>\n",
       "    </tr>\n",
       "    <tr>\n",
       "      <th>202074</th>\n",
       "      <td>22167393</td>\n",
       "      <td>3</td>\n",
       "      <td>2022-10-26</td>\n",
       "      <td>3.0</td>\n",
       "    </tr>\n",
       "    <tr>\n",
       "      <th>218560</th>\n",
       "      <td>22167465</td>\n",
       "      <td>3</td>\n",
       "      <td>2022-10-26</td>\n",
       "      <td>4.0</td>\n",
       "    </tr>\n",
       "    <tr>\n",
       "      <th>229218</th>\n",
       "      <td>22167121</td>\n",
       "      <td>9</td>\n",
       "      <td>2022-10-26</td>\n",
       "      <td>2.0</td>\n",
       "    </tr>\n",
       "    <tr>\n",
       "      <th>343643</th>\n",
       "      <td>22167436</td>\n",
       "      <td>1</td>\n",
       "      <td>2022-10-26</td>\n",
       "      <td>4.0</td>\n",
       "    </tr>\n",
       "    <tr>\n",
       "      <th>348673</th>\n",
       "      <td>22167257</td>\n",
       "      <td>3</td>\n",
       "      <td>2022-10-26</td>\n",
       "      <td>4.0</td>\n",
       "    </tr>\n",
       "  </tbody>\n",
       "</table>\n",
       "<p>880755 rows × 4 columns</p>\n",
       "</div>"
      ],
      "text/plain": [
       "        URG_EPISODIO  COD_LOCAL DTA_ADMISSAO  COD_PRIORIDADE\n",
       "332514  100100463875          1   2018-01-01             4.0\n",
       "763842  100099879970          1   2018-01-01             3.0\n",
       "755086  100099440651          1   2018-01-01             3.0\n",
       "947583  100098712160          1   2018-01-01             3.0\n",
       "956511  100099663091          1   2018-01-01            98.0\n",
       "...              ...        ...          ...             ...\n",
       "202074      22167393          3   2022-10-26             3.0\n",
       "218560      22167465          3   2022-10-26             4.0\n",
       "229218      22167121          9   2022-10-26             2.0\n",
       "343643      22167436          1   2022-10-26             4.0\n",
       "348673      22167257          3   2022-10-26             4.0\n",
       "\n",
       "[880755 rows x 4 columns]"
      ]
     },
     "execution_count": 102,
     "metadata": {},
     "output_type": "execute_result"
    }
   ],
   "source": [
    "adm.sort_values('DTA_ADMISSAO', ascending=True)"
   ]
  },
  {
   "cell_type": "code",
   "execution_count": 103,
   "metadata": {},
   "outputs": [
    {
     "name": "stdout",
     "output_type": "stream",
     "text": [
      "<class 'pandas.core.frame.DataFrame'>\n",
      "Int64Index: 880755 entries, 584333 to 170631\n",
      "Data columns (total 4 columns):\n",
      " #   Column          Non-Null Count   Dtype         \n",
      "---  ------          --------------   -----         \n",
      " 0   URG_EPISODIO    880755 non-null  int64         \n",
      " 1   COD_LOCAL       880755 non-null  int64         \n",
      " 2   DTA_ADMISSAO    880755 non-null  datetime64[ns]\n",
      " 3   COD_PRIORIDADE  812755 non-null  float64       \n",
      "dtypes: datetime64[ns](1), float64(1), int64(2)\n",
      "memory usage: 33.6 MB\n"
     ]
    }
   ],
   "source": [
    "adm.info()"
   ]
  },
  {
   "cell_type": "code",
   "execution_count": 104,
   "metadata": {},
   "outputs": [],
   "source": [
    "amarelos=adm[(adm['COD_PRIORIDADE']==3)&(adm['COD_LOCAL']==1)]"
   ]
  },
  {
   "cell_type": "code",
   "execution_count": 105,
   "metadata": {},
   "outputs": [
    {
     "data": {
      "text/plain": [
       "267455"
      ]
     },
     "execution_count": 105,
     "metadata": {},
     "output_type": "execute_result"
    }
   ],
   "source": [
    "amarelos['URG_EPISODIO'].nunique()"
   ]
  },
  {
   "cell_type": "code",
   "execution_count": 106,
   "metadata": {},
   "outputs": [],
   "source": [
    "amarelos=amarelos[['URG_EPISODIO','DTA_ADMISSAO']]"
   ]
  },
  {
   "cell_type": "code",
   "execution_count": 107,
   "metadata": {},
   "outputs": [],
   "source": [
    "amarelos[\"DTA_ADMISSAO\"]=pd.to_datetime(amarelos[\"DTA_ADMISSAO\"])"
   ]
  },
  {
   "cell_type": "code",
   "execution_count": 108,
   "metadata": {},
   "outputs": [],
   "source": [
    "amarelos=amarelos.groupby('DTA_ADMISSAO')['URG_EPISODIO'].count().reset_index()"
   ]
  },
  {
   "cell_type": "code",
   "execution_count": 109,
   "metadata": {},
   "outputs": [
    {
     "data": {
      "text/html": [
       "<div>\n",
       "<style scoped>\n",
       "    .dataframe tbody tr th:only-of-type {\n",
       "        vertical-align: middle;\n",
       "    }\n",
       "\n",
       "    .dataframe tbody tr th {\n",
       "        vertical-align: top;\n",
       "    }\n",
       "\n",
       "    .dataframe thead th {\n",
       "        text-align: right;\n",
       "    }\n",
       "</style>\n",
       "<table border=\"1\" class=\"dataframe\">\n",
       "  <thead>\n",
       "    <tr style=\"text-align: right;\">\n",
       "      <th></th>\n",
       "      <th>DTA_ADMISSAO</th>\n",
       "      <th>URG_EPISODIO</th>\n",
       "    </tr>\n",
       "  </thead>\n",
       "  <tbody>\n",
       "    <tr>\n",
       "      <th>0</th>\n",
       "      <td>2018-01-01</td>\n",
       "      <td>136</td>\n",
       "    </tr>\n",
       "    <tr>\n",
       "      <th>1</th>\n",
       "      <td>2018-01-02</td>\n",
       "      <td>117</td>\n",
       "    </tr>\n",
       "    <tr>\n",
       "      <th>2</th>\n",
       "      <td>2018-01-03</td>\n",
       "      <td>176</td>\n",
       "    </tr>\n",
       "    <tr>\n",
       "      <th>3</th>\n",
       "      <td>2018-01-04</td>\n",
       "      <td>162</td>\n",
       "    </tr>\n",
       "    <tr>\n",
       "      <th>4</th>\n",
       "      <td>2018-01-05</td>\n",
       "      <td>133</td>\n",
       "    </tr>\n",
       "    <tr>\n",
       "      <th>...</th>\n",
       "      <td>...</td>\n",
       "      <td>...</td>\n",
       "    </tr>\n",
       "    <tr>\n",
       "      <th>1755</th>\n",
       "      <td>2022-10-22</td>\n",
       "      <td>162</td>\n",
       "    </tr>\n",
       "    <tr>\n",
       "      <th>1756</th>\n",
       "      <td>2022-10-23</td>\n",
       "      <td>171</td>\n",
       "    </tr>\n",
       "    <tr>\n",
       "      <th>1757</th>\n",
       "      <td>2022-10-24</td>\n",
       "      <td>203</td>\n",
       "    </tr>\n",
       "    <tr>\n",
       "      <th>1758</th>\n",
       "      <td>2022-10-25</td>\n",
       "      <td>166</td>\n",
       "    </tr>\n",
       "    <tr>\n",
       "      <th>1759</th>\n",
       "      <td>2022-10-26</td>\n",
       "      <td>119</td>\n",
       "    </tr>\n",
       "  </tbody>\n",
       "</table>\n",
       "<p>1760 rows × 2 columns</p>\n",
       "</div>"
      ],
      "text/plain": [
       "     DTA_ADMISSAO  URG_EPISODIO\n",
       "0      2018-01-01           136\n",
       "1      2018-01-02           117\n",
       "2      2018-01-03           176\n",
       "3      2018-01-04           162\n",
       "4      2018-01-05           133\n",
       "...           ...           ...\n",
       "1755   2022-10-22           162\n",
       "1756   2022-10-23           171\n",
       "1757   2022-10-24           203\n",
       "1758   2022-10-25           166\n",
       "1759   2022-10-26           119\n",
       "\n",
       "[1760 rows x 2 columns]"
      ]
     },
     "execution_count": 109,
     "metadata": {},
     "output_type": "execute_result"
    }
   ],
   "source": [
    "amarelos.sort_values('DTA_ADMISSAO', ascending=True)"
   ]
  },
  {
   "cell_type": "code",
   "execution_count": 110,
   "metadata": {},
   "outputs": [],
   "source": [
    "amarelos=amarelos.sort_values(\"DTA_ADMISSAO\")"
   ]
  },
  {
   "cell_type": "code",
   "execution_count": 111,
   "metadata": {},
   "outputs": [],
   "source": [
    "amarelos[\"DTA_ADMISSAO\"]=amarelos[\"DTA_ADMISSAO\"].astype(str)"
   ]
  },
  {
   "cell_type": "code",
   "execution_count": 112,
   "metadata": {},
   "outputs": [],
   "source": [
    "amarelos['Ano']=amarelos['DTA_ADMISSAO'].apply(lambda x: x.split('-')[0])"
   ]
  },
  {
   "cell_type": "code",
   "execution_count": 113,
   "metadata": {},
   "outputs": [],
   "source": [
    "amarelos['Mes']=amarelos['DTA_ADMISSAO'].apply(lambda x: x.split('-')[1])"
   ]
  },
  {
   "cell_type": "code",
   "execution_count": 114,
   "metadata": {},
   "outputs": [],
   "source": [
    "amarelos['Mes']=amarelos['Mes'].astype(int)"
   ]
  },
  {
   "cell_type": "code",
   "execution_count": 115,
   "metadata": {},
   "outputs": [],
   "source": [
    "calendario=pd.read_csv('Datasets/calendario18_22final.csv')"
   ]
  },
  {
   "cell_type": "code",
   "execution_count": 116,
   "metadata": {},
   "outputs": [],
   "source": [
    "calendario['data']=pd.to_datetime(calendario['data'])"
   ]
  },
  {
   "cell_type": "code",
   "execution_count": 117,
   "metadata": {},
   "outputs": [],
   "source": [
    "calendario=calendario.drop('Unnamed: 0', axis=1)"
   ]
  },
  {
   "cell_type": "code",
   "execution_count": 118,
   "metadata": {},
   "outputs": [],
   "source": [
    "amarelos['DTA_ADMISSAO']=pd.to_datetime(amarelos['DTA_ADMISSAO'])"
   ]
  },
  {
   "cell_type": "code",
   "execution_count": 119,
   "metadata": {},
   "outputs": [],
   "source": [
    "amarelos=pd.merge(amarelos, calendario, left_on='DTA_ADMISSAO',right_on='data')"
   ]
  },
  {
   "cell_type": "code",
   "execution_count": 120,
   "metadata": {},
   "outputs": [
    {
     "data": {
      "text/plain": [
       "Index(['DTA_ADMISSAO', 'URG_EPISODIO', 'Ano', 'Mes', 'data', 'dia_semana',\n",
       "       'feriado', 'festas', 'feriado - dia anterior',\n",
       "       'feriado - 2 dias anteriores', 'feriado - dia seguinte',\n",
       "       'feriado - daqui a 2 dias', 'festas - dia anterior',\n",
       "       'festas - 2 dias anteriores', 'festas - dia seguinte',\n",
       "       'festas - daqui a 2 dias'],\n",
       "      dtype='object')"
      ]
     },
     "execution_count": 120,
     "metadata": {},
     "output_type": "execute_result"
    }
   ],
   "source": [
    "amarelos.columns"
   ]
  },
  {
   "cell_type": "code",
   "execution_count": 121,
   "metadata": {},
   "outputs": [],
   "source": [
    "amarelos_adm=amarelos[['DTA_ADMISSAO','URG_EPISODIO','dia_semana','feriado','feriado - dia anterior',\n",
    "       'feriado - 2 dias anteriores', 'feriado - dia seguinte','feriado - daqui a 2 dias','festas','festas - dia anterior',\n",
    "       'festas - 2 dias anteriores', 'festas - dia seguinte','festas - daqui a 2 dias']]"
   ]
  },
  {
   "cell_type": "code",
   "execution_count": 122,
   "metadata": {},
   "outputs": [
    {
     "data": {
      "text/html": [
       "<div>\n",
       "<style scoped>\n",
       "    .dataframe tbody tr th:only-of-type {\n",
       "        vertical-align: middle;\n",
       "    }\n",
       "\n",
       "    .dataframe tbody tr th {\n",
       "        vertical-align: top;\n",
       "    }\n",
       "\n",
       "    .dataframe thead th {\n",
       "        text-align: right;\n",
       "    }\n",
       "</style>\n",
       "<table border=\"1\" class=\"dataframe\">\n",
       "  <thead>\n",
       "    <tr style=\"text-align: right;\">\n",
       "      <th></th>\n",
       "      <th>DTA_ADMISSAO</th>\n",
       "      <th>URG_EPISODIO</th>\n",
       "      <th>dia_semana</th>\n",
       "      <th>feriado</th>\n",
       "      <th>feriado - dia anterior</th>\n",
       "      <th>feriado - 2 dias anteriores</th>\n",
       "      <th>feriado - dia seguinte</th>\n",
       "      <th>feriado - daqui a 2 dias</th>\n",
       "      <th>festas</th>\n",
       "      <th>festas - dia anterior</th>\n",
       "      <th>festas - 2 dias anteriores</th>\n",
       "      <th>festas - dia seguinte</th>\n",
       "      <th>festas - daqui a 2 dias</th>\n",
       "    </tr>\n",
       "  </thead>\n",
       "  <tbody>\n",
       "    <tr>\n",
       "      <th>0</th>\n",
       "      <td>2018-01-01</td>\n",
       "      <td>136</td>\n",
       "      <td>Monday</td>\n",
       "      <td>Ano Novo</td>\n",
       "      <td>n</td>\n",
       "      <td>n</td>\n",
       "      <td>NaN</td>\n",
       "      <td>NaN</td>\n",
       "      <td>NaN</td>\n",
       "      <td>n</td>\n",
       "      <td>n</td>\n",
       "      <td>NaN</td>\n",
       "      <td>NaN</td>\n",
       "    </tr>\n",
       "    <tr>\n",
       "      <th>1</th>\n",
       "      <td>2018-01-02</td>\n",
       "      <td>117</td>\n",
       "      <td>Tuesday</td>\n",
       "      <td>NaN</td>\n",
       "      <td>Ano Novo</td>\n",
       "      <td>n</td>\n",
       "      <td>NaN</td>\n",
       "      <td>NaN</td>\n",
       "      <td>NaN</td>\n",
       "      <td>NaN</td>\n",
       "      <td>n</td>\n",
       "      <td>NaN</td>\n",
       "      <td>NaN</td>\n",
       "    </tr>\n",
       "    <tr>\n",
       "      <th>2</th>\n",
       "      <td>2018-01-03</td>\n",
       "      <td>176</td>\n",
       "      <td>Wednesday</td>\n",
       "      <td>NaN</td>\n",
       "      <td>NaN</td>\n",
       "      <td>Ano Novo</td>\n",
       "      <td>NaN</td>\n",
       "      <td>NaN</td>\n",
       "      <td>NaN</td>\n",
       "      <td>NaN</td>\n",
       "      <td>NaN</td>\n",
       "      <td>NaN</td>\n",
       "      <td>NaN</td>\n",
       "    </tr>\n",
       "    <tr>\n",
       "      <th>3</th>\n",
       "      <td>2018-01-04</td>\n",
       "      <td>162</td>\n",
       "      <td>Thursday</td>\n",
       "      <td>NaN</td>\n",
       "      <td>NaN</td>\n",
       "      <td>NaN</td>\n",
       "      <td>NaN</td>\n",
       "      <td>NaN</td>\n",
       "      <td>NaN</td>\n",
       "      <td>NaN</td>\n",
       "      <td>NaN</td>\n",
       "      <td>NaN</td>\n",
       "      <td>NaN</td>\n",
       "    </tr>\n",
       "    <tr>\n",
       "      <th>4</th>\n",
       "      <td>2018-01-05</td>\n",
       "      <td>133</td>\n",
       "      <td>Friday</td>\n",
       "      <td>NaN</td>\n",
       "      <td>NaN</td>\n",
       "      <td>NaN</td>\n",
       "      <td>NaN</td>\n",
       "      <td>NaN</td>\n",
       "      <td>NaN</td>\n",
       "      <td>NaN</td>\n",
       "      <td>NaN</td>\n",
       "      <td>NaN</td>\n",
       "      <td>NaN</td>\n",
       "    </tr>\n",
       "    <tr>\n",
       "      <th>...</th>\n",
       "      <td>...</td>\n",
       "      <td>...</td>\n",
       "      <td>...</td>\n",
       "      <td>...</td>\n",
       "      <td>...</td>\n",
       "      <td>...</td>\n",
       "      <td>...</td>\n",
       "      <td>...</td>\n",
       "      <td>...</td>\n",
       "      <td>...</td>\n",
       "      <td>...</td>\n",
       "      <td>...</td>\n",
       "      <td>...</td>\n",
       "    </tr>\n",
       "    <tr>\n",
       "      <th>1755</th>\n",
       "      <td>2022-10-22</td>\n",
       "      <td>162</td>\n",
       "      <td>Saturday</td>\n",
       "      <td>NaN</td>\n",
       "      <td>NaN</td>\n",
       "      <td>NaN</td>\n",
       "      <td>NaN</td>\n",
       "      <td>NaN</td>\n",
       "      <td>NaN</td>\n",
       "      <td>NaN</td>\n",
       "      <td>NaN</td>\n",
       "      <td>NaN</td>\n",
       "      <td>NaN</td>\n",
       "    </tr>\n",
       "    <tr>\n",
       "      <th>1756</th>\n",
       "      <td>2022-10-23</td>\n",
       "      <td>171</td>\n",
       "      <td>Sunday</td>\n",
       "      <td>NaN</td>\n",
       "      <td>NaN</td>\n",
       "      <td>NaN</td>\n",
       "      <td>NaN</td>\n",
       "      <td>NaN</td>\n",
       "      <td>NaN</td>\n",
       "      <td>NaN</td>\n",
       "      <td>NaN</td>\n",
       "      <td>NaN</td>\n",
       "      <td>NaN</td>\n",
       "    </tr>\n",
       "    <tr>\n",
       "      <th>1757</th>\n",
       "      <td>2022-10-24</td>\n",
       "      <td>203</td>\n",
       "      <td>Monday</td>\n",
       "      <td>NaN</td>\n",
       "      <td>NaN</td>\n",
       "      <td>NaN</td>\n",
       "      <td>NaN</td>\n",
       "      <td>NaN</td>\n",
       "      <td>NaN</td>\n",
       "      <td>NaN</td>\n",
       "      <td>NaN</td>\n",
       "      <td>NaN</td>\n",
       "      <td>NaN</td>\n",
       "    </tr>\n",
       "    <tr>\n",
       "      <th>1758</th>\n",
       "      <td>2022-10-25</td>\n",
       "      <td>166</td>\n",
       "      <td>Tuesday</td>\n",
       "      <td>NaN</td>\n",
       "      <td>NaN</td>\n",
       "      <td>NaN</td>\n",
       "      <td>NaN</td>\n",
       "      <td>NaN</td>\n",
       "      <td>NaN</td>\n",
       "      <td>NaN</td>\n",
       "      <td>NaN</td>\n",
       "      <td>NaN</td>\n",
       "      <td>NaN</td>\n",
       "    </tr>\n",
       "    <tr>\n",
       "      <th>1759</th>\n",
       "      <td>2022-10-26</td>\n",
       "      <td>119</td>\n",
       "      <td>Wednesday</td>\n",
       "      <td>NaN</td>\n",
       "      <td>NaN</td>\n",
       "      <td>NaN</td>\n",
       "      <td>NaN</td>\n",
       "      <td>NaN</td>\n",
       "      <td>NaN</td>\n",
       "      <td>NaN</td>\n",
       "      <td>NaN</td>\n",
       "      <td>NaN</td>\n",
       "      <td>NaN</td>\n",
       "    </tr>\n",
       "  </tbody>\n",
       "</table>\n",
       "<p>1760 rows × 13 columns</p>\n",
       "</div>"
      ],
      "text/plain": [
       "     DTA_ADMISSAO  URG_EPISODIO dia_semana   feriado feriado - dia anterior  \\\n",
       "0      2018-01-01           136     Monday  Ano Novo                      n   \n",
       "1      2018-01-02           117    Tuesday       NaN               Ano Novo   \n",
       "2      2018-01-03           176  Wednesday       NaN                    NaN   \n",
       "3      2018-01-04           162   Thursday       NaN                    NaN   \n",
       "4      2018-01-05           133     Friday       NaN                    NaN   \n",
       "...           ...           ...        ...       ...                    ...   \n",
       "1755   2022-10-22           162   Saturday       NaN                    NaN   \n",
       "1756   2022-10-23           171     Sunday       NaN                    NaN   \n",
       "1757   2022-10-24           203     Monday       NaN                    NaN   \n",
       "1758   2022-10-25           166    Tuesday       NaN                    NaN   \n",
       "1759   2022-10-26           119  Wednesday       NaN                    NaN   \n",
       "\n",
       "     feriado - 2 dias anteriores feriado - dia seguinte  \\\n",
       "0                              n                    NaN   \n",
       "1                              n                    NaN   \n",
       "2                       Ano Novo                    NaN   \n",
       "3                            NaN                    NaN   \n",
       "4                            NaN                    NaN   \n",
       "...                          ...                    ...   \n",
       "1755                         NaN                    NaN   \n",
       "1756                         NaN                    NaN   \n",
       "1757                         NaN                    NaN   \n",
       "1758                         NaN                    NaN   \n",
       "1759                         NaN                    NaN   \n",
       "\n",
       "     feriado - daqui a 2 dias festas festas - dia anterior  \\\n",
       "0                         NaN    NaN                     n   \n",
       "1                         NaN    NaN                   NaN   \n",
       "2                         NaN    NaN                   NaN   \n",
       "3                         NaN    NaN                   NaN   \n",
       "4                         NaN    NaN                   NaN   \n",
       "...                       ...    ...                   ...   \n",
       "1755                      NaN    NaN                   NaN   \n",
       "1756                      NaN    NaN                   NaN   \n",
       "1757                      NaN    NaN                   NaN   \n",
       "1758                      NaN    NaN                   NaN   \n",
       "1759                      NaN    NaN                   NaN   \n",
       "\n",
       "     festas - 2 dias anteriores festas - dia seguinte festas - daqui a 2 dias  \n",
       "0                             n                   NaN                     NaN  \n",
       "1                             n                   NaN                     NaN  \n",
       "2                           NaN                   NaN                     NaN  \n",
       "3                           NaN                   NaN                     NaN  \n",
       "4                           NaN                   NaN                     NaN  \n",
       "...                         ...                   ...                     ...  \n",
       "1755                        NaN                   NaN                     NaN  \n",
       "1756                        NaN                   NaN                     NaN  \n",
       "1757                        NaN                   NaN                     NaN  \n",
       "1758                        NaN                   NaN                     NaN  \n",
       "1759                        NaN                   NaN                     NaN  \n",
       "\n",
       "[1760 rows x 13 columns]"
      ]
     },
     "execution_count": 122,
     "metadata": {},
     "output_type": "execute_result"
    }
   ],
   "source": [
    "amarelos_adm"
   ]
  },
  {
   "cell_type": "code",
   "execution_count": 52,
   "metadata": {},
   "outputs": [],
   "source": [
    "import plotly"
   ]
  },
  {
   "cell_type": "code",
   "execution_count": 50,
   "metadata": {},
   "outputs": [
    {
     "data": {
      "text/plain": [
       "<AxesSubplot:xlabel='DTA_ADMISSAO'>"
      ]
     },
     "execution_count": 50,
     "metadata": {},
     "output_type": "execute_result"
    },
    {
     "data": {
      "image/png": "[encoded data removed]",
      "text/plain": [
       "<Figure size 432x288 with 1 Axes>"
      ]
     },
     "metadata": {
      "needs_background": "light"
     },
     "output_type": "display_data"
    }
   ],
   "source": [
    "amarelos_adm.plot(kind='line', x='DTA_ADMISSAO', y='URG_EPISODIO')"
   ]
  },
  {
   "cell_type": "code",
   "execution_count": 201,
   "metadata": {
    "scrolled": true
   },
   "outputs": [
    {
     "name": "stdout",
     "output_type": "stream",
     "text": [
      "SARIMAX (0, 0, 0) x (0, 0, 0, 7)7 : BIC Calculated =20176.924921368307\n",
      "SARIMAX (0, 0, 0) x (0, 0, 1, 7)7 : BIC Calculated =18671.63561693026\n",
      "SARIMAX (0, 0, 0) x (0, 0, 2, 7)7 : BIC Calculated =17753.052082119873\n",
      "SARIMAX (0, 0, 0) x (0, 1, 0, 7)7 : BIC Calculated =15404.654115038411\n",
      "SARIMAX (0, 0, 0) x (0, 1, 1, 7)7 : BIC Calculated =14894.34354426225\n",
      "SARIMAX (0, 0, 0) x (0, 1, 2, 7)7 : BIC Calculated =14891.64433610213\n",
      "SARIMAX (0, 0, 0) x (0, 2, 0, 7)7 : BIC Calculated =17091.642944917327\n"
     ]
    },
    {
     "name": "stderr",
     "output_type": "stream",
     "text": [
      "/Users/marianafaria/opt/anaconda3/lib/python3.8/site-packages/statsmodels/tsa/statespace/sarimax.py:1009: UserWarning:\n",
      "\n",
      "Non-invertible starting seasonal moving average Using zeros as starting parameters.\n",
      "\n"
     ]
    },
    {
     "name": "stdout",
     "output_type": "stream",
     "text": [
      "SARIMAX (0, 0, 0) x (0, 2, 1, 7)7 : BIC Calculated =15394.023690558852\n",
      "SARIMAX (0, 0, 0) x (0, 2, 2, 7)7 : BIC Calculated =14900.251947209288\n",
      "SARIMAX (0, 0, 0) x (1, 0, 0, 7)7 : BIC Calculated =15471.643633646945\n",
      "SARIMAX (0, 0, 0) x (1, 0, 1, 7)7 : BIC Calculated =14982.989006619504\n"
     ]
    },
    {
     "name": "stderr",
     "output_type": "stream",
     "text": [
      "/Users/marianafaria/opt/anaconda3/lib/python3.8/site-packages/statsmodels/base/model.py:566: ConvergenceWarning:\n",
      "\n",
      "Maximum Likelihood optimization failed to converge. Check mle_retvals\n",
      "\n"
     ]
    },
    {
     "name": "stdout",
     "output_type": "stream",
     "text": [
      "SARIMAX (0, 0, 0) x (1, 0, 2, 7)7 : BIC Calculated =14980.931479238894\n",
      "SARIMAX (0, 0, 0) x (1, 1, 0, 7)7 : BIC Calculated =15102.023153682407\n",
      "SARIMAX (0, 0, 0) x (1, 1, 1, 7)7 : BIC Calculated =14891.13109923048\n"
     ]
    },
    {
     "name": "stderr",
     "output_type": "stream",
     "text": [
      "/Users/marianafaria/opt/anaconda3/lib/python3.8/site-packages/statsmodels/base/model.py:566: ConvergenceWarning:\n",
      "\n",
      "Maximum Likelihood optimization failed to converge. Check mle_retvals\n",
      "\n"
     ]
    },
    {
     "name": "stdout",
     "output_type": "stream",
     "text": [
      "SARIMAX (0, 0, 0) x (1, 1, 2, 7)7 : BIC Calculated =14869.480017855223\n",
      "SARIMAX (0, 0, 0) x (1, 2, 0, 7)7 : BIC Calculated =16266.907020813745\n",
      "SARIMAX (0, 0, 0) x (1, 2, 1, 7)7 : BIC Calculated =15097.417479149628\n",
      "SARIMAX (0, 0, 0) x (1, 2, 2, 7)7 : BIC Calculated =14898.702840504096\n",
      "SARIMAX (0, 0, 0) x (2, 0, 0, 7)7 : BIC Calculated =15182.64590096967\n"
     ]
    },
    {
     "name": "stderr",
     "output_type": "stream",
     "text": [
      "/Users/marianafaria/opt/anaconda3/lib/python3.8/site-packages/statsmodels/base/model.py:566: ConvergenceWarning:\n",
      "\n",
      "Maximum Likelihood optimization failed to converge. Check mle_retvals\n",
      "\n"
     ]
    },
    {
     "name": "stdout",
     "output_type": "stream",
     "text": [
      "SARIMAX (0, 0, 0) x (2, 0, 1, 7)7 : BIC Calculated =14980.554404277877\n"
     ]
    },
    {
     "name": "stderr",
     "output_type": "stream",
     "text": [
      "/Users/marianafaria/opt/anaconda3/lib/python3.8/site-packages/statsmodels/base/model.py:566: ConvergenceWarning:\n",
      "\n",
      "Maximum Likelihood optimization failed to converge. Check mle_retvals\n",
      "\n"
     ]
    },
    {
     "name": "stdout",
     "output_type": "stream",
     "text": [
      "SARIMAX (0, 0, 0) x (2, 0, 2, 7)7 : BIC Calculated =14985.92225861245\n",
      "SARIMAX (0, 0, 0) x (2, 1, 0, 7)7 : BIC Calculated =14980.070591695088\n",
      "SARIMAX (0, 0, 0) x (2, 1, 1, 7)7 : BIC Calculated =14897.962291272017\n"
     ]
    },
    {
     "name": "stderr",
     "output_type": "stream",
     "text": [
      "/Users/marianafaria/opt/anaconda3/lib/python3.8/site-packages/statsmodels/base/model.py:566: ConvergenceWarning:\n",
      "\n",
      "Maximum Likelihood optimization failed to converge. Check mle_retvals\n",
      "\n"
     ]
    },
    {
     "name": "stdout",
     "output_type": "stream",
     "text": [
      "SARIMAX (0, 0, 0) x (2, 1, 2, 7)7 : BIC Calculated =14884.943192544017\n",
      "SARIMAX (0, 0, 0) x (2, 2, 0, 7)7 : BIC Calculated =15822.979798200915\n",
      "SARIMAX (0, 0, 0) x (2, 2, 1, 7)7 : BIC Calculated =14979.333044961115\n"
     ]
    },
    {
     "name": "stderr",
     "output_type": "stream",
     "text": [
      "/Users/marianafaria/opt/anaconda3/lib/python3.8/site-packages/statsmodels/base/model.py:566: ConvergenceWarning:\n",
      "\n",
      "Maximum Likelihood optimization failed to converge. Check mle_retvals\n",
      "\n"
     ]
    },
    {
     "name": "stdout",
     "output_type": "stream",
     "text": [
      "SARIMAX (0, 0, 0) x (2, 2, 2, 7)7 : BIC Calculated =14906.254148346354\n",
      "SARIMAX (0, 0, 1) x (0, 0, 0, 7)7 : BIC Calculated =19667.404385256345\n"
     ]
    },
    {
     "name": "stderr",
     "output_type": "stream",
     "text": [
      "/Users/marianafaria/opt/anaconda3/lib/python3.8/site-packages/statsmodels/base/model.py:566: ConvergenceWarning:\n",
      "\n",
      "Maximum Likelihood optimization failed to converge. Check mle_retvals\n",
      "\n"
     ]
    },
    {
     "name": "stdout",
     "output_type": "stream",
     "text": [
      "SARIMAX (0, 0, 1) x (0, 0, 1, 7)7 : BIC Calculated =18297.399250415416\n",
      "SARIMAX (0, 0, 1) x (0, 0, 2, 7)7 : BIC Calculated =17549.663467605467\n",
      "SARIMAX (0, 0, 1) x (0, 1, 0, 7)7 : BIC Calculated =15392.309653330734\n",
      "SARIMAX (0, 0, 1) x (0, 1, 1, 7)7 : BIC Calculated =14810.34957854266\n",
      "SARIMAX (0, 0, 1) x (0, 1, 2, 7)7 : BIC Calculated =14808.484803198004\n",
      "SARIMAX (0, 0, 1) x (0, 2, 0, 7)7 : BIC Calculated =17088.23762683356\n",
      "SARIMAX (0, 0, 1) x (0, 2, 1, 7)7 : BIC Calculated =15381.802185142044\n"
     ]
    },
    {
     "name": "stderr",
     "output_type": "stream",
     "text": [
      "/Users/marianafaria/opt/anaconda3/lib/python3.8/site-packages/statsmodels/base/model.py:566: ConvergenceWarning:\n",
      "\n",
      "Maximum Likelihood optimization failed to converge. Check mle_retvals\n",
      "\n"
     ]
    },
    {
     "name": "stdout",
     "output_type": "stream",
     "text": [
      "SARIMAX (0, 0, 1) x (0, 2, 2, 7)7 : BIC Calculated =14819.461280937929\n"
     ]
    },
    {
     "name": "stderr",
     "output_type": "stream",
     "text": [
      "/Users/marianafaria/opt/anaconda3/lib/python3.8/site-packages/statsmodels/base/model.py:566: ConvergenceWarning:\n",
      "\n",
      "Maximum Likelihood optimization failed to converge. Check mle_retvals\n",
      "\n"
     ]
    },
    {
     "name": "stdout",
     "output_type": "stream",
     "text": [
      "SARIMAX (0, 0, 1) x (1, 0, 0, 7)7 : BIC Calculated =15456.79802651859\n",
      "SARIMAX (0, 0, 1) x (1, 0, 1, 7)7 : BIC Calculated =14898.70227135313\n",
      "SARIMAX (0, 0, 1) x (1, 0, 2, 7)7 : BIC Calculated =14897.114037077505\n",
      "SARIMAX (0, 0, 1) x (1, 1, 0, 7)7 : BIC Calculated =15073.764888586476\n",
      "SARIMAX (0, 0, 1) x (1, 1, 1, 7)7 : BIC Calculated =14808.426708975772\n",
      "SARIMAX (0, 0, 1) x (1, 1, 2, 7)7 : BIC Calculated =14815.480770023774\n",
      "SARIMAX (0, 0, 1) x (1, 2, 0, 7)7 : BIC Calculated =16262.238450484712\n"
     ]
    },
    {
     "name": "stderr",
     "output_type": "stream",
     "text": [
      "/Users/marianafaria/opt/anaconda3/lib/python3.8/site-packages/statsmodels/base/model.py:566: ConvergenceWarning:\n",
      "\n",
      "Maximum Likelihood optimization failed to converge. Check mle_retvals\n",
      "\n"
     ]
    },
    {
     "name": "stdout",
     "output_type": "stream",
     "text": [
      "SARIMAX (0, 0, 1) x (1, 2, 1, 7)7 : BIC Calculated =15069.409515511303\n"
     ]
    },
    {
     "name": "stderr",
     "output_type": "stream",
     "text": [
      "/Users/marianafaria/opt/anaconda3/lib/python3.8/site-packages/statsmodels/base/model.py:566: ConvergenceWarning:\n",
      "\n",
      "Maximum Likelihood optimization failed to converge. Check mle_retvals\n",
      "\n"
     ]
    },
    {
     "name": "stdout",
     "output_type": "stream",
     "text": [
      "SARIMAX (0, 0, 1) x (1, 2, 2, 7)7 : BIC Calculated =14820.269714452925\n"
     ]
    },
    {
     "name": "stderr",
     "output_type": "stream",
     "text": [
      "/Users/marianafaria/opt/anaconda3/lib/python3.8/site-packages/statsmodels/base/model.py:566: ConvergenceWarning:\n",
      "\n",
      "Maximum Likelihood optimization failed to converge. Check mle_retvals\n",
      "\n"
     ]
    },
    {
     "name": "stdout",
     "output_type": "stream",
     "text": [
      "SARIMAX (0, 0, 1) x (2, 0, 0, 7)7 : BIC Calculated =15153.076812237945\n"
     ]
    },
    {
     "name": "stderr",
     "output_type": "stream",
     "text": [
      "/Users/marianafaria/opt/anaconda3/lib/python3.8/site-packages/statsmodels/base/model.py:566: ConvergenceWarning:\n",
      "\n",
      "Maximum Likelihood optimization failed to converge. Check mle_retvals\n",
      "\n"
     ]
    },
    {
     "name": "stdout",
     "output_type": "stream",
     "text": [
      "SARIMAX (0, 0, 1) x (2, 0, 1, 7)7 : BIC Calculated =14897.372321555862\n"
     ]
    },
    {
     "name": "stderr",
     "output_type": "stream",
     "text": [
      "/Users/marianafaria/opt/anaconda3/lib/python3.8/site-packages/statsmodels/base/model.py:566: ConvergenceWarning:\n",
      "\n",
      "Maximum Likelihood optimization failed to converge. Check mle_retvals\n",
      "\n"
     ]
    },
    {
     "name": "stdout",
     "output_type": "stream",
     "text": [
      "SARIMAX (0, 0, 1) x (2, 0, 2, 7)7 : BIC Calculated =14913.939167763512\n",
      "SARIMAX (0, 0, 1) x (2, 1, 0, 7)7 : BIC Calculated =14925.384738597706\n",
      "SARIMAX (0, 0, 1) x (2, 1, 1, 7)7 : BIC Calculated =14815.806926286205\n"
     ]
    },
    {
     "name": "stderr",
     "output_type": "stream",
     "text": [
      "/Users/marianafaria/opt/anaconda3/lib/python3.8/site-packages/statsmodels/base/model.py:566: ConvergenceWarning:\n",
      "\n",
      "Maximum Likelihood optimization failed to converge. Check mle_retvals\n",
      "\n"
     ]
    },
    {
     "name": "stdout",
     "output_type": "stream",
     "text": [
      "SARIMAX (0, 0, 1) x (2, 1, 2, 7)7 : BIC Calculated =14821.095379591015\n",
      "SARIMAX (0, 0, 1) x (2, 2, 0, 7)7 : BIC Calculated =15797.562476268227\n",
      "SARIMAX (0, 0, 1) x (2, 2, 1, 7)7 : BIC Calculated =14925.409003078717\n"
     ]
    },
    {
     "name": "stderr",
     "output_type": "stream",
     "text": [
      "/Users/marianafaria/opt/anaconda3/lib/python3.8/site-packages/statsmodels/base/model.py:566: ConvergenceWarning:\n",
      "\n",
      "Maximum Likelihood optimization failed to converge. Check mle_retvals\n",
      "\n"
     ]
    },
    {
     "name": "stdout",
     "output_type": "stream",
     "text": [
      "SARIMAX (0, 0, 1) x (2, 2, 2, 7)7 : BIC Calculated =15083.343614577469\n"
     ]
    },
    {
     "name": "stderr",
     "output_type": "stream",
     "text": [
      "/Users/marianafaria/opt/anaconda3/lib/python3.8/site-packages/statsmodels/base/model.py:566: ConvergenceWarning:\n",
      "\n",
      "Maximum Likelihood optimization failed to converge. Check mle_retvals\n",
      "\n"
     ]
    },
    {
     "name": "stdout",
     "output_type": "stream",
     "text": [
      "SARIMAX (0, 0, 2) x (0, 0, 0, 7)7 : BIC Calculated =18894.860169882286\n"
     ]
    },
    {
     "name": "stderr",
     "output_type": "stream",
     "text": [
      "/Users/marianafaria/opt/anaconda3/lib/python3.8/site-packages/statsmodels/base/model.py:566: ConvergenceWarning:\n",
      "\n",
      "Maximum Likelihood optimization failed to converge. Check mle_retvals\n",
      "\n"
     ]
    },
    {
     "name": "stdout",
     "output_type": "stream",
     "text": [
      "SARIMAX (0, 0, 2) x (0, 0, 1, 7)7 : BIC Calculated =18010.92989503644\n"
     ]
    },
    {
     "name": "stderr",
     "output_type": "stream",
     "text": [
      "/Users/marianafaria/opt/anaconda3/lib/python3.8/site-packages/statsmodels/base/model.py:566: ConvergenceWarning:\n",
      "\n",
      "Maximum Likelihood optimization failed to converge. Check mle_retvals\n",
      "\n"
     ]
    },
    {
     "name": "stdout",
     "output_type": "stream",
     "text": [
      "SARIMAX (0, 0, 2) x (0, 0, 2, 7)7 : BIC Calculated =17401.693739720147\n",
      "SARIMAX (0, 0, 2) x (0, 1, 0, 7)7 : BIC Calculated =15390.13187344534\n",
      "SARIMAX (0, 0, 2) x (0, 1, 1, 7)7 : BIC Calculated =14779.335142788115\n",
      "SARIMAX (0, 0, 2) x (0, 1, 2, 7)7 : BIC Calculated =14775.535505570044\n",
      "SARIMAX (0, 0, 2) x (0, 2, 0, 7)7 : BIC Calculated =17089.747812176047\n"
     ]
    },
    {
     "name": "stderr",
     "output_type": "stream",
     "text": [
      "/Users/marianafaria/opt/anaconda3/lib/python3.8/site-packages/statsmodels/base/model.py:566: ConvergenceWarning:\n",
      "\n",
      "Maximum Likelihood optimization failed to converge. Check mle_retvals\n",
      "\n"
     ]
    },
    {
     "name": "stdout",
     "output_type": "stream",
     "text": [
      "SARIMAX (0, 0, 2) x (0, 2, 1, 7)7 : BIC Calculated =15379.604077964475\n"
     ]
    },
    {
     "name": "stderr",
     "output_type": "stream",
     "text": [
      "/Users/marianafaria/opt/anaconda3/lib/python3.8/site-packages/statsmodels/base/model.py:566: ConvergenceWarning:\n",
      "\n",
      "Maximum Likelihood optimization failed to converge. Check mle_retvals\n",
      "\n"
     ]
    },
    {
     "name": "stdout",
     "output_type": "stream",
     "text": [
      "SARIMAX (0, 0, 2) x (0, 2, 2, 7)7 : BIC Calculated =14790.025032037256\n",
      "SARIMAX (0, 0, 2) x (1, 0, 0, 7)7 : BIC Calculated =15453.992362751726\n",
      "SARIMAX (0, 0, 2) x (1, 0, 1, 7)7 : BIC Calculated =14867.428434272288\n"
     ]
    },
    {
     "name": "stderr",
     "output_type": "stream",
     "text": [
      "/Users/marianafaria/opt/anaconda3/lib/python3.8/site-packages/statsmodels/base/model.py:566: ConvergenceWarning:\n",
      "\n",
      "Maximum Likelihood optimization failed to converge. Check mle_retvals\n",
      "\n"
     ]
    },
    {
     "name": "stdout",
     "output_type": "stream",
     "text": [
      "SARIMAX (0, 0, 2) x (1, 0, 2, 7)7 : BIC Calculated =14865.115632839232\n",
      "SARIMAX (0, 0, 2) x (1, 1, 0, 7)7 : BIC Calculated =15065.915533121897\n",
      "SARIMAX (0, 0, 2) x (1, 1, 1, 7)7 : BIC Calculated =14775.299000172647\n"
     ]
    },
    {
     "name": "stderr",
     "output_type": "stream",
     "text": [
      "/Users/marianafaria/opt/anaconda3/lib/python3.8/site-packages/statsmodels/base/model.py:566: ConvergenceWarning:\n",
      "\n",
      "Maximum Likelihood optimization failed to converge. Check mle_retvals\n",
      "\n"
     ]
    },
    {
     "name": "stdout",
     "output_type": "stream",
     "text": [
      "SARIMAX (0, 0, 2) x (1, 1, 2, 7)7 : BIC Calculated =14773.079386117299\n",
      "SARIMAX (0, 0, 2) x (1, 2, 0, 7)7 : BIC Calculated =16260.824849853692\n",
      "SARIMAX (0, 0, 2) x (1, 2, 1, 7)7 : BIC Calculated =15062.251945863934\n"
     ]
    },
    {
     "name": "stderr",
     "output_type": "stream",
     "text": [
      "/Users/marianafaria/opt/anaconda3/lib/python3.8/site-packages/statsmodels/base/model.py:566: ConvergenceWarning:\n",
      "\n",
      "Maximum Likelihood optimization failed to converge. Check mle_retvals\n",
      "\n"
     ]
    },
    {
     "name": "stdout",
     "output_type": "stream",
     "text": [
      "SARIMAX (0, 0, 2) x (1, 2, 2, 7)7 : BIC Calculated =14791.23305812872\n"
     ]
    },
    {
     "name": "stderr",
     "output_type": "stream",
     "text": [
      "/Users/marianafaria/opt/anaconda3/lib/python3.8/site-packages/statsmodels/base/model.py:566: ConvergenceWarning:\n",
      "\n",
      "Maximum Likelihood optimization failed to converge. Check mle_retvals\n",
      "\n"
     ]
    },
    {
     "name": "stdout",
     "output_type": "stream",
     "text": [
      "SARIMAX (0, 0, 2) x (2, 0, 0, 7)7 : BIC Calculated =15144.667731672316\n"
     ]
    },
    {
     "name": "stderr",
     "output_type": "stream",
     "text": [
      "/Users/marianafaria/opt/anaconda3/lib/python3.8/site-packages/statsmodels/base/model.py:566: ConvergenceWarning:\n",
      "\n",
      "Maximum Likelihood optimization failed to converge. Check mle_retvals\n",
      "\n"
     ]
    },
    {
     "name": "stdout",
     "output_type": "stream",
     "text": [
      "SARIMAX (0, 0, 2) x (2, 0, 1, 7)7 : BIC Calculated =14864.272307888228\n"
     ]
    },
    {
     "name": "stderr",
     "output_type": "stream",
     "text": [
      "/Users/marianafaria/opt/anaconda3/lib/python3.8/site-packages/statsmodels/base/model.py:566: ConvergenceWarning:\n",
      "\n",
      "Maximum Likelihood optimization failed to converge. Check mle_retvals\n",
      "\n"
     ]
    },
    {
     "name": "stdout",
     "output_type": "stream",
     "text": [
      "SARIMAX (0, 0, 2) x (2, 0, 2, 7)7 : BIC Calculated =14885.840590522455\n",
      "SARIMAX (0, 0, 2) x (2, 1, 0, 7)7 : BIC Calculated =14913.727966843433\n",
      "SARIMAX (0, 0, 2) x (2, 1, 1, 7)7 : BIC Calculated =14782.533454356799\n"
     ]
    },
    {
     "name": "stderr",
     "output_type": "stream",
     "text": [
      "/Users/marianafaria/opt/anaconda3/lib/python3.8/site-packages/statsmodels/base/model.py:566: ConvergenceWarning:\n",
      "\n",
      "Maximum Likelihood optimization failed to converge. Check mle_retvals\n",
      "\n"
     ]
    },
    {
     "name": "stdout",
     "output_type": "stream",
     "text": [
      "SARIMAX (0, 0, 2) x (2, 1, 2, 7)7 : BIC Calculated =14788.982260171168\n",
      "SARIMAX (0, 0, 2) x (2, 2, 0, 7)7 : BIC Calculated =15795.093233151545\n",
      "SARIMAX (0, 0, 2) x (2, 2, 1, 7)7 : BIC Calculated =14913.876445869952\n"
     ]
    },
    {
     "name": "stderr",
     "output_type": "stream",
     "text": [
      "/Users/marianafaria/opt/anaconda3/lib/python3.8/site-packages/statsmodels/base/model.py:566: ConvergenceWarning:\n",
      "\n",
      "Maximum Likelihood optimization failed to converge. Check mle_retvals\n",
      "\n"
     ]
    },
    {
     "name": "stdout",
     "output_type": "stream",
     "text": [
      "SARIMAX (0, 0, 2) x (2, 2, 2, 7)7 : BIC Calculated =15075.557685903483\n",
      "SARIMAX (0, 1, 0) x (0, 0, 0, 7)7 : BIC Calculated =15440.924397406257\n",
      "SARIMAX (0, 1, 0) x (0, 0, 1, 7)7 : BIC Calculated =15429.404163527031\n",
      "SARIMAX (0, 1, 0) x (0, 0, 2, 7)7 : BIC Calculated =15436.677715651123\n",
      "SARIMAX (0, 1, 0) x (0, 1, 0, 7)7 : BIC Calculated =16357.823344948465\n",
      "SARIMAX (0, 1, 0) x (0, 1, 1, 7)7 : BIC Calculated =15326.21913777699\n",
      "SARIMAX (0, 1, 0) x (0, 1, 2, 7)7 : BIC Calculated =15329.030826200928\n",
      "SARIMAX (0, 1, 0) x (0, 2, 0, 7)7 : BIC Calculated =18098.94160779948\n",
      "SARIMAX (0, 1, 0) x (0, 2, 1, 7)7 : BIC Calculated =16343.177931242608\n",
      "SARIMAX (0, 1, 0) x (0, 2, 2, 7)7 : BIC Calculated =15365.577867343993\n",
      "SARIMAX (0, 1, 0) x (1, 0, 0, 7)7 : BIC Calculated =15428.805655937145\n",
      "SARIMAX (0, 1, 0) x (1, 0, 1, 7)7 : BIC Calculated =15377.56819869509\n",
      "SARIMAX (0, 1, 0) x (1, 0, 2, 7)7 : BIC Calculated =15380.293498709661\n",
      "SARIMAX (0, 1, 0) x (1, 1, 0, 7)7 : BIC Calculated =15968.638655811312\n",
      "SARIMAX (0, 1, 0) x (1, 1, 1, 7)7 : BIC Calculated =15329.33856901306\n",
      "SARIMAX (0, 1, 0) x (1, 1, 2, 7)7 : BIC Calculated =15331.162993249378\n",
      "SARIMAX (0, 1, 0) x (1, 2, 0, 7)7 : BIC Calculated =17262.173163473115\n",
      "SARIMAX (0, 1, 0) x (1, 2, 1, 7)7 : BIC Calculated =15960.849333524886\n"
     ]
    },
    {
     "name": "stderr",
     "output_type": "stream",
     "text": [
      "/Users/marianafaria/opt/anaconda3/lib/python3.8/site-packages/statsmodels/base/model.py:566: ConvergenceWarning:\n",
      "\n",
      "Maximum Likelihood optimization failed to converge. Check mle_retvals\n",
      "\n"
     ]
    },
    {
     "name": "stdout",
     "output_type": "stream",
     "text": [
      "SARIMAX (0, 1, 0) x (1, 2, 2, 7)7 : BIC Calculated =15369.145476310321\n",
      "SARIMAX (0, 1, 0) x (2, 0, 0, 7)7 : BIC Calculated =15435.468823254918\n",
      "SARIMAX (0, 1, 0) x (2, 0, 1, 7)7 : BIC Calculated =15380.607958563332\n"
     ]
    },
    {
     "name": "stderr",
     "output_type": "stream",
     "text": [
      "/Users/marianafaria/opt/anaconda3/lib/python3.8/site-packages/statsmodels/base/model.py:566: ConvergenceWarning:\n",
      "\n",
      "Maximum Likelihood optimization failed to converge. Check mle_retvals\n",
      "\n"
     ]
    },
    {
     "name": "stdout",
     "output_type": "stream",
     "text": [
      "SARIMAX (0, 1, 0) x (2, 0, 2, 7)7 : BIC Calculated =15382.465001918194\n",
      "SARIMAX (0, 1, 0) x (2, 1, 0, 7)7 : BIC Calculated =15721.442565103021\n",
      "SARIMAX (0, 1, 0) x (2, 1, 1, 7)7 : BIC Calculated =15335.204141544775\n"
     ]
    },
    {
     "name": "stderr",
     "output_type": "stream",
     "text": [
      "/Users/marianafaria/opt/anaconda3/lib/python3.8/site-packages/statsmodels/base/model.py:566: ConvergenceWarning:\n",
      "\n",
      "Maximum Likelihood optimization failed to converge. Check mle_retvals\n",
      "\n"
     ]
    },
    {
     "name": "stdout",
     "output_type": "stream",
     "text": [
      "SARIMAX (0, 1, 0) x (2, 1, 2, 7)7 : BIC Calculated =15338.418439749976\n",
      "SARIMAX (0, 1, 0) x (2, 2, 0, 7)7 : BIC Calculated =16704.432943474436\n",
      "SARIMAX (0, 1, 0) x (2, 2, 1, 7)7 : BIC Calculated =15719.349464276938\n"
     ]
    },
    {
     "name": "stderr",
     "output_type": "stream",
     "text": [
      "/Users/marianafaria/opt/anaconda3/lib/python3.8/site-packages/statsmodels/base/model.py:566: ConvergenceWarning:\n",
      "\n",
      "Maximum Likelihood optimization failed to converge. Check mle_retvals\n",
      "\n"
     ]
    },
    {
     "name": "stdout",
     "output_type": "stream",
     "text": [
      "SARIMAX (0, 1, 0) x (2, 2, 2, 7)7 : BIC Calculated =15375.406923588367\n",
      "SARIMAX (0, 1, 1) x (0, 0, 0, 7)7 : BIC Calculated =14607.233597404875\n",
      "SARIMAX (0, 1, 1) x (0, 0, 1, 7)7 : BIC Calculated =14592.571977807247\n",
      "SARIMAX (0, 1, 1) x (0, 0, 2, 7)7 : BIC Calculated =14598.184384114995\n",
      "SARIMAX (0, 1, 1) x (0, 1, 0, 7)7 : BIC Calculated =15411.470758551655\n",
      "SARIMAX (0, 1, 1) x (0, 1, 1, 7)7 : BIC Calculated =14471.615757979678\n",
      "SARIMAX (0, 1, 1) x (0, 1, 2, 7)7 : BIC Calculated =14475.047916907259\n",
      "SARIMAX (0, 1, 1) x (0, 2, 0, 7)7 : BIC Calculated =17097.426436910366\n",
      "SARIMAX (0, 1, 1) x (0, 2, 1, 7)7 : BIC Calculated =15409.281257995384\n",
      "SARIMAX (0, 1, 1) x (0, 2, 2, 7)7 : BIC Calculated =14517.030021340568\n",
      "SARIMAX (0, 1, 1) x (1, 0, 0, 7)7 : BIC Calculated =14590.928617106421\n",
      "SARIMAX (0, 1, 1) x (1, 0, 1, 7)7 : BIC Calculated =14520.28719425556\n"
     ]
    },
    {
     "name": "stderr",
     "output_type": "stream",
     "text": [
      "/Users/marianafaria/opt/anaconda3/lib/python3.8/site-packages/statsmodels/base/model.py:566: ConvergenceWarning:\n",
      "\n",
      "Maximum Likelihood optimization failed to converge. Check mle_retvals\n",
      "\n"
     ]
    },
    {
     "name": "stdout",
     "output_type": "stream",
     "text": [
      "SARIMAX (0, 1, 1) x (1, 0, 2, 7)7 : BIC Calculated =14523.590523530862\n",
      "SARIMAX (0, 1, 1) x (1, 1, 0, 7)7 : BIC Calculated =15107.137306812741\n",
      "SARIMAX (0, 1, 1) x (1, 1, 1, 7)7 : BIC Calculated =14475.23035369247\n",
      "SARIMAX (0, 1, 1) x (1, 1, 2, 7)7 : BIC Calculated =14480.42767286153\n",
      "SARIMAX (0, 1, 1) x (1, 2, 0, 7)7 : BIC Calculated =16274.099320908605\n",
      "SARIMAX (0, 1, 1) x (1, 2, 1, 7)7 : BIC Calculated =15113.518763611715\n"
     ]
    },
    {
     "name": "stderr",
     "output_type": "stream",
     "text": [
      "/Users/marianafaria/opt/anaconda3/lib/python3.8/site-packages/statsmodels/base/model.py:566: ConvergenceWarning:\n",
      "\n",
      "Maximum Likelihood optimization failed to converge. Check mle_retvals\n",
      "\n"
     ]
    },
    {
     "name": "stdout",
     "output_type": "stream",
     "text": [
      "SARIMAX (0, 1, 1) x (1, 2, 2, 7)7 : BIC Calculated =14521.783909123194\n",
      "SARIMAX (0, 1, 1) x (2, 0, 0, 7)7 : BIC Calculated =14595.907305521192\n"
     ]
    },
    {
     "name": "stderr",
     "output_type": "stream",
     "text": [
      "/Users/marianafaria/opt/anaconda3/lib/python3.8/site-packages/statsmodels/base/model.py:566: ConvergenceWarning:\n",
      "\n",
      "Maximum Likelihood optimization failed to converge. Check mle_retvals\n",
      "\n"
     ]
    },
    {
     "name": "stdout",
     "output_type": "stream",
     "text": [
      "SARIMAX (0, 1, 1) x (2, 0, 1, 7)7 : BIC Calculated =14523.84107032366\n"
     ]
    },
    {
     "name": "stderr",
     "output_type": "stream",
     "text": [
      "/Users/marianafaria/opt/anaconda3/lib/python3.8/site-packages/statsmodels/base/model.py:566: ConvergenceWarning:\n",
      "\n",
      "Maximum Likelihood optimization failed to converge. Check mle_retvals\n",
      "\n"
     ]
    },
    {
     "name": "stdout",
     "output_type": "stream",
     "text": [
      "SARIMAX (0, 1, 1) x (2, 0, 2, 7)7 : BIC Calculated =14529.011155015363\n",
      "SARIMAX (0, 1, 1) x (2, 1, 0, 7)7 : BIC Calculated =14900.741967676659\n",
      "SARIMAX (0, 1, 1) x (2, 1, 1, 7)7 : BIC Calculated =14481.883415766204\n",
      "SARIMAX (0, 1, 1) x (2, 1, 2, 7)7 : BIC Calculated =14487.392670812114\n"
     ]
    },
    {
     "name": "stderr",
     "output_type": "stream",
     "text": [
      "/Users/marianafaria/opt/anaconda3/lib/python3.8/site-packages/statsmodels/base/model.py:566: ConvergenceWarning:\n",
      "\n",
      "Maximum Likelihood optimization failed to converge. Check mle_retvals\n",
      "\n"
     ]
    },
    {
     "name": "stdout",
     "output_type": "stream",
     "text": [
      "SARIMAX (0, 1, 1) x (2, 2, 0, 7)7 : BIC Calculated =15831.191604478658\n",
      "SARIMAX (0, 1, 1) x (2, 2, 1, 7)7 : BIC Calculated =14902.325727785223\n"
     ]
    },
    {
     "name": "stderr",
     "output_type": "stream",
     "text": [
      "/Users/marianafaria/opt/anaconda3/lib/python3.8/site-packages/statsmodels/base/model.py:566: ConvergenceWarning:\n",
      "\n",
      "Maximum Likelihood optimization failed to converge. Check mle_retvals\n",
      "\n"
     ]
    },
    {
     "name": "stdout",
     "output_type": "stream",
     "text": [
      "SARIMAX (0, 1, 1) x (2, 2, 2, 7)7 : BIC Calculated =14535.723440433869\n",
      "SARIMAX (0, 1, 2) x (0, 0, 0, 7)7 : BIC Calculated =14613.068976758675\n",
      "SARIMAX (0, 1, 2) x (0, 0, 1, 7)7 : BIC Calculated =14597.059101574037\n",
      "SARIMAX (0, 1, 2) x (0, 0, 2, 7)7 : BIC Calculated =14602.782317963673\n",
      "SARIMAX (0, 1, 2) x (0, 1, 0, 7)7 : BIC Calculated =15398.9374756363\n",
      "SARIMAX (0, 1, 2) x (0, 1, 1, 7)7 : BIC Calculated =14478.778022629704\n",
      "SARIMAX (0, 1, 2) x (0, 1, 2, 7)7 : BIC Calculated =14481.88300517258\n",
      "SARIMAX (0, 1, 2) x (0, 2, 0, 7)7 : BIC Calculated =17093.857920839346\n",
      "SARIMAX (0, 1, 2) x (0, 2, 1, 7)7 : BIC Calculated =15396.827925014586\n"
     ]
    },
    {
     "name": "stderr",
     "output_type": "stream",
     "text": [
      "/Users/marianafaria/opt/anaconda3/lib/python3.8/site-packages/statsmodels/base/model.py:566: ConvergenceWarning:\n",
      "\n",
      "Maximum Likelihood optimization failed to converge. Check mle_retvals\n",
      "\n"
     ]
    },
    {
     "name": "stdout",
     "output_type": "stream",
     "text": [
      "SARIMAX (0, 1, 2) x (0, 2, 2, 7)7 : BIC Calculated =14524.678516117961\n",
      "SARIMAX (0, 1, 2) x (1, 0, 0, 7)7 : BIC Calculated =14595.34134050782\n"
     ]
    },
    {
     "name": "stderr",
     "output_type": "stream",
     "text": [
      "/Users/marianafaria/opt/anaconda3/lib/python3.8/site-packages/statsmodels/base/model.py:566: ConvergenceWarning:\n",
      "\n",
      "Maximum Likelihood optimization failed to converge. Check mle_retvals\n",
      "\n"
     ]
    },
    {
     "name": "stdout",
     "output_type": "stream",
     "text": [
      "SARIMAX (0, 1, 2) x (1, 0, 1, 7)7 : BIC Calculated =14527.436038868027\n"
     ]
    },
    {
     "name": "stderr",
     "output_type": "stream",
     "text": [
      "/Users/marianafaria/opt/anaconda3/lib/python3.8/site-packages/statsmodels/base/model.py:566: ConvergenceWarning:\n",
      "\n",
      "Maximum Likelihood optimization failed to converge. Check mle_retvals\n",
      "\n"
     ]
    },
    {
     "name": "stdout",
     "output_type": "stream",
     "text": [
      "SARIMAX (0, 1, 2) x (1, 0, 2, 7)7 : BIC Calculated =14531.33253024338\n"
     ]
    },
    {
     "name": "stderr",
     "output_type": "stream",
     "text": [
      "/Users/marianafaria/opt/anaconda3/lib/python3.8/site-packages/statsmodels/base/model.py:566: ConvergenceWarning:\n",
      "\n",
      "Maximum Likelihood optimization failed to converge. Check mle_retvals\n",
      "\n"
     ]
    },
    {
     "name": "stdout",
     "output_type": "stream",
     "text": [
      "SARIMAX (0, 1, 2) x (1, 1, 0, 7)7 : BIC Calculated =15081.205838265634\n",
      "SARIMAX (0, 1, 2) x (1, 1, 1, 7)7 : BIC Calculated =14482.086621961664\n"
     ]
    },
    {
     "name": "stderr",
     "output_type": "stream",
     "text": [
      "/Users/marianafaria/opt/anaconda3/lib/python3.8/site-packages/statsmodels/base/model.py:566: ConvergenceWarning:\n",
      "\n",
      "Maximum Likelihood optimization failed to converge. Check mle_retvals\n",
      "\n"
     ]
    },
    {
     "name": "stdout",
     "output_type": "stream",
     "text": [
      "SARIMAX (0, 1, 2) x (1, 1, 2, 7)7 : BIC Calculated =14487.34655578152\n",
      "SARIMAX (0, 1, 2) x (1, 2, 0, 7)7 : BIC Calculated =16269.287395032927\n"
     ]
    },
    {
     "name": "stderr",
     "output_type": "stream",
     "text": [
      "/Users/marianafaria/opt/anaconda3/lib/python3.8/site-packages/statsmodels/base/model.py:566: ConvergenceWarning:\n",
      "\n",
      "Maximum Likelihood optimization failed to converge. Check mle_retvals\n",
      "\n"
     ]
    },
    {
     "name": "stdout",
     "output_type": "stream",
     "text": [
      "SARIMAX (0, 1, 2) x (1, 2, 1, 7)7 : BIC Calculated =15085.3048742616\n"
     ]
    },
    {
     "name": "stderr",
     "output_type": "stream",
     "text": [
      "/Users/marianafaria/opt/anaconda3/lib/python3.8/site-packages/statsmodels/base/model.py:566: ConvergenceWarning:\n",
      "\n",
      "Maximum Likelihood optimization failed to converge. Check mle_retvals\n",
      "\n"
     ]
    },
    {
     "name": "stdout",
     "output_type": "stream",
     "text": [
      "SARIMAX (0, 1, 2) x (1, 2, 2, 7)7 : BIC Calculated =14838.522449112384\n",
      "SARIMAX (0, 1, 2) x (2, 0, 0, 7)7 : BIC Calculated =14600.460546535256\n"
     ]
    },
    {
     "name": "stderr",
     "output_type": "stream",
     "text": [
      "/Users/marianafaria/opt/anaconda3/lib/python3.8/site-packages/statsmodels/base/model.py:566: ConvergenceWarning:\n",
      "\n",
      "Maximum Likelihood optimization failed to converge. Check mle_retvals\n",
      "\n"
     ]
    },
    {
     "name": "stdout",
     "output_type": "stream",
     "text": [
      "SARIMAX (0, 1, 2) x (2, 0, 1, 7)7 : BIC Calculated =14532.229029373262\n"
     ]
    },
    {
     "name": "stderr",
     "output_type": "stream",
     "text": [
      "/Users/marianafaria/opt/anaconda3/lib/python3.8/site-packages/statsmodels/base/model.py:566: ConvergenceWarning:\n",
      "\n",
      "Maximum Likelihood optimization failed to converge. Check mle_retvals\n",
      "\n"
     ]
    },
    {
     "name": "stdout",
     "output_type": "stream",
     "text": [
      "SARIMAX (0, 1, 2) x (2, 0, 2, 7)7 : BIC Calculated =14536.159310696778\n",
      "SARIMAX (0, 1, 2) x (2, 1, 0, 7)7 : BIC Calculated =14903.750802259106\n",
      "SARIMAX (0, 1, 2) x (2, 1, 1, 7)7 : BIC Calculated =14488.73013474274\n"
     ]
    },
    {
     "name": "stderr",
     "output_type": "stream",
     "text": [
      "/Users/marianafaria/opt/anaconda3/lib/python3.8/site-packages/statsmodels/base/model.py:566: ConvergenceWarning:\n",
      "\n",
      "Maximum Likelihood optimization failed to converge. Check mle_retvals\n",
      "\n"
     ]
    },
    {
     "name": "stdout",
     "output_type": "stream",
     "text": [
      "SARIMAX (0, 1, 2) x (2, 1, 2, 7)7 : BIC Calculated =14494.229692472556\n"
     ]
    },
    {
     "name": "stderr",
     "output_type": "stream",
     "text": [
      "/Users/marianafaria/opt/anaconda3/lib/python3.8/site-packages/statsmodels/base/model.py:566: ConvergenceWarning:\n",
      "\n",
      "Maximum Likelihood optimization failed to converge. Check mle_retvals\n",
      "\n"
     ]
    },
    {
     "name": "stdout",
     "output_type": "stream",
     "text": [
      "SARIMAX (0, 1, 2) x (2, 2, 0, 7)7 : BIC Calculated =15805.576419565015\n"
     ]
    },
    {
     "name": "stderr",
     "output_type": "stream",
     "text": [
      "/Users/marianafaria/opt/anaconda3/lib/python3.8/site-packages/statsmodels/base/model.py:566: ConvergenceWarning:\n",
      "\n",
      "Maximum Likelihood optimization failed to converge. Check mle_retvals\n",
      "\n"
     ]
    },
    {
     "name": "stdout",
     "output_type": "stream",
     "text": [
      "SARIMAX (0, 1, 2) x (2, 2, 1, 7)7 : BIC Calculated =14905.458431535166\n"
     ]
    },
    {
     "name": "stderr",
     "output_type": "stream",
     "text": [
      "/Users/marianafaria/opt/anaconda3/lib/python3.8/site-packages/statsmodels/base/model.py:566: ConvergenceWarning:\n",
      "\n",
      "Maximum Likelihood optimization failed to converge. Check mle_retvals\n",
      "\n"
     ]
    },
    {
     "name": "stdout",
     "output_type": "stream",
     "text": [
      "SARIMAX (0, 1, 2) x (2, 2, 2, 7)7 : BIC Calculated =14575.27687714367\n",
      "SARIMAX (0, 2, 0) x (0, 0, 0, 7)7 : BIC Calculated =17224.417737987562\n",
      "SARIMAX (0, 2, 0) x (0, 0, 1, 7)7 : BIC Calculated =17222.18713715706\n",
      "SARIMAX (0, 2, 0) x (0, 0, 2, 7)7 : BIC Calculated =17229.256513071578\n",
      "SARIMAX (0, 2, 0) x (0, 1, 0, 7)7 : BIC Calculated =18194.346407913108\n",
      "SARIMAX (0, 2, 0) x (0, 1, 1, 7)7 : BIC Calculated =17148.88940236828\n",
      "SARIMAX (0, 2, 0) x (0, 1, 2, 7)7 : BIC Calculated =17153.164215862547\n",
      "SARIMAX (0, 2, 0) x (0, 2, 0, 7)7 : BIC Calculated =19929.816023929314\n",
      "SARIMAX (0, 2, 0) x (0, 2, 1, 7)7 : BIC Calculated =18172.076744880396\n",
      "SARIMAX (0, 2, 0) x (0, 2, 2, 7)7 : BIC Calculated =17180.09847868235\n",
      "SARIMAX (0, 2, 0) x (1, 0, 0, 7)7 : BIC Calculated =17222.37731722036\n",
      "SARIMAX (0, 2, 0) x (1, 0, 1, 7)7 : BIC Calculated =17203.220212523793\n"
     ]
    },
    {
     "name": "stderr",
     "output_type": "stream",
     "text": [
      "/Users/marianafaria/opt/anaconda3/lib/python3.8/site-packages/statsmodels/base/model.py:566: ConvergenceWarning:\n",
      "\n",
      "Maximum Likelihood optimization failed to converge. Check mle_retvals\n",
      "\n"
     ]
    },
    {
     "name": "stdout",
     "output_type": "stream",
     "text": [
      "SARIMAX (0, 2, 0) x (1, 0, 2, 7)7 : BIC Calculated =17232.139841262448\n",
      "SARIMAX (0, 2, 0) x (1, 1, 0, 7)7 : BIC Calculated =17802.072521860093\n",
      "SARIMAX (0, 2, 0) x (1, 1, 1, 7)7 : BIC Calculated =17153.409036974397\n",
      "SARIMAX (0, 2, 0) x (1, 1, 2, 7)7 : BIC Calculated =17153.549338013483\n",
      "SARIMAX (0, 2, 0) x (1, 2, 0, 7)7 : BIC Calculated =19100.55637808616\n",
      "SARIMAX (0, 2, 0) x (1, 2, 1, 7)7 : BIC Calculated =17786.611518142712\n",
      "SARIMAX (0, 2, 0) x (1, 2, 2, 7)7 : BIC Calculated =17184.754112304512\n",
      "SARIMAX (0, 2, 0) x (2, 0, 0, 7)7 : BIC Calculated =17229.779391604294\n",
      "SARIMAX (0, 2, 0) x (2, 0, 1, 7)7 : BIC Calculated =17232.10380727382\n",
      "SARIMAX (0, 2, 0) x (2, 0, 2, 7)7 : BIC Calculated =17207.957631528247\n",
      "SARIMAX (0, 2, 0) x (2, 1, 0, 7)7 : BIC Calculated =17534.774342590532\n",
      "SARIMAX (0, 2, 0) x (2, 1, 1, 7)7 : BIC Calculated =17158.588900869585\n",
      "SARIMAX (0, 2, 0) x (2, 1, 2, 7)7 : BIC Calculated =17160.06698581988\n",
      "SARIMAX (0, 2, 0) x (2, 2, 0, 7)7 : BIC Calculated =18518.223498163483\n",
      "SARIMAX (0, 2, 0) x (2, 2, 1, 7)7 : BIC Calculated =17525.012947301453\n"
     ]
    },
    {
     "name": "stderr",
     "output_type": "stream",
     "text": [
      "/Users/marianafaria/opt/anaconda3/lib/python3.8/site-packages/statsmodels/base/model.py:566: ConvergenceWarning:\n",
      "\n",
      "Maximum Likelihood optimization failed to converge. Check mle_retvals\n",
      "\n"
     ]
    },
    {
     "name": "stdout",
     "output_type": "stream",
     "text": [
      "SARIMAX (0, 2, 0) x (2, 2, 2, 7)7 : BIC Calculated =17190.52406189194\n"
     ]
    },
    {
     "name": "stderr",
     "output_type": "stream",
     "text": [
      "/Users/marianafaria/opt/anaconda3/lib/python3.8/site-packages/statsmodels/tsa/statespace/sarimax.py:978: UserWarning:\n",
      "\n",
      "Non-invertible starting MA parameters found. Using zeros as starting parameters.\n",
      "\n"
     ]
    },
    {
     "name": "stdout",
     "output_type": "stream",
     "text": [
      "SARIMAX (0, 2, 1) x (0, 0, 0, 7)7 : BIC Calculated =15447.756061505608\n",
      "SARIMAX (0, 2, 1) x (0, 0, 1, 7)7 : BIC Calculated =15436.039963615658\n"
     ]
    },
    {
     "name": "stderr",
     "output_type": "stream",
     "text": [
      "/Users/marianafaria/opt/anaconda3/lib/python3.8/site-packages/statsmodels/base/model.py:566: ConvergenceWarning:\n",
      "\n",
      "Maximum Likelihood optimization failed to converge. Check mle_retvals\n",
      "\n"
     ]
    },
    {
     "name": "stdout",
     "output_type": "stream",
     "text": [
      "SARIMAX (0, 2, 1) x (0, 0, 2, 7)7 : BIC Calculated =15443.295182412674\n",
      "SARIMAX (0, 2, 1) x (0, 1, 0, 7)7 : BIC Calculated =16364.101931499865\n",
      "SARIMAX (0, 2, 1) x (0, 1, 1, 7)7 : BIC Calculated =15340.835488281991\n",
      "SARIMAX (0, 2, 1) x (0, 1, 2, 7)7 : BIC Calculated =15343.768073332609\n",
      "SARIMAX (0, 2, 1) x (0, 2, 0, 7)7 : BIC Calculated =18104.132875217038\n",
      "SARIMAX (0, 2, 1) x (0, 2, 1, 7)7 : BIC Calculated =16357.850293517164\n",
      "SARIMAX (0, 2, 1) x (0, 2, 2, 7)7 : BIC Calculated =15407.951054736937\n",
      "SARIMAX (0, 2, 1) x (1, 0, 0, 7)7 : BIC Calculated =15435.413640189005\n",
      "SARIMAX (0, 2, 1) x (1, 0, 1, 7)7 : BIC Calculated =15382.771644556204\n",
      "SARIMAX (0, 2, 1) x (1, 0, 2, 7)7 : BIC Calculated =15387.332479730843\n",
      "SARIMAX (0, 2, 1) x (1, 1, 0, 7)7 : BIC Calculated =15975.855679655047\n",
      "SARIMAX (0, 2, 1) x (1, 1, 1, 7)7 : BIC Calculated =15345.609255557007\n"
     ]
    },
    {
     "name": "stderr",
     "output_type": "stream",
     "text": [
      "/Users/marianafaria/opt/anaconda3/lib/python3.8/site-packages/statsmodels/base/model.py:566: ConvergenceWarning:\n",
      "\n",
      "Maximum Likelihood optimization failed to converge. Check mle_retvals\n",
      "\n"
     ]
    },
    {
     "name": "stdout",
     "output_type": "stream",
     "text": [
      "SARIMAX (0, 2, 1) x (1, 1, 2, 7)7 : BIC Calculated =15345.878926656953\n",
      "SARIMAX (0, 2, 1) x (1, 2, 0, 7)7 : BIC Calculated =17268.77750845048\n",
      "SARIMAX (0, 2, 1) x (1, 2, 1, 7)7 : BIC Calculated =15976.955527450938\n"
     ]
    },
    {
     "name": "stderr",
     "output_type": "stream",
     "text": [
      "/Users/marianafaria/opt/anaconda3/lib/python3.8/site-packages/statsmodels/base/model.py:566: ConvergenceWarning:\n",
      "\n",
      "Maximum Likelihood optimization failed to converge. Check mle_retvals\n",
      "\n"
     ]
    },
    {
     "name": "stdout",
     "output_type": "stream",
     "text": [
      "SARIMAX (0, 2, 1) x (1, 2, 2, 7)7 : BIC Calculated =14372.083378116975\n"
     ]
    },
    {
     "name": "stderr",
     "output_type": "stream",
     "text": [
      "/Users/marianafaria/opt/anaconda3/lib/python3.8/site-packages/statsmodels/base/model.py:566: ConvergenceWarning:\n",
      "\n",
      "Maximum Likelihood optimization failed to converge. Check mle_retvals\n",
      "\n"
     ]
    },
    {
     "name": "stdout",
     "output_type": "stream",
     "text": [
      "SARIMAX (0, 2, 1) x (2, 0, 0, 7)7 : BIC Calculated =15442.045190832765\n",
      "SARIMAX (0, 2, 1) x (2, 0, 1, 7)7 : BIC Calculated =15386.472792434719\n",
      "SARIMAX (0, 2, 1) x (2, 0, 2, 7)7 : BIC Calculated =15387.892619042419\n"
     ]
    },
    {
     "name": "stderr",
     "output_type": "stream",
     "text": [
      "/Users/marianafaria/opt/anaconda3/lib/python3.8/site-packages/statsmodels/base/model.py:566: ConvergenceWarning:\n",
      "\n",
      "Maximum Likelihood optimization failed to converge. Check mle_retvals\n",
      "\n"
     ]
    },
    {
     "name": "stdout",
     "output_type": "stream",
     "text": [
      "SARIMAX (0, 2, 1) x (2, 1, 0, 7)7 : BIC Calculated =15729.44383233147\n"
     ]
    },
    {
     "name": "stderr",
     "output_type": "stream",
     "text": [
      "/Users/marianafaria/opt/anaconda3/lib/python3.8/site-packages/statsmodels/base/model.py:566: ConvergenceWarning:\n",
      "\n",
      "Maximum Likelihood optimization failed to converge. Check mle_retvals\n",
      "\n"
     ]
    },
    {
     "name": "stdout",
     "output_type": "stream",
     "text": [
      "SARIMAX (0, 2, 1) x (2, 1, 1, 7)7 : BIC Calculated =15350.64801439072\n"
     ]
    },
    {
     "name": "stderr",
     "output_type": "stream",
     "text": [
      "/Users/marianafaria/opt/anaconda3/lib/python3.8/site-packages/statsmodels/base/model.py:566: ConvergenceWarning:\n",
      "\n",
      "Maximum Likelihood optimization failed to converge. Check mle_retvals\n",
      "\n"
     ]
    },
    {
     "name": "stdout",
     "output_type": "stream",
     "text": [
      "SARIMAX (0, 2, 1) x (2, 1, 2, 7)7 : BIC Calculated =15355.032749913185\n",
      "SARIMAX (0, 2, 1) x (2, 2, 0, 7)7 : BIC Calculated =16712.276687178837\n",
      "SARIMAX (0, 2, 1) x (2, 2, 1, 7)7 : BIC Calculated =15735.713073822142\n",
      "SARIMAX (0, 2, 1) x (2, 2, 2, 7)7 : BIC Calculated =15418.643128527312\n",
      "SARIMAX (0, 2, 2) x (0, 0, 0, 7)7 : BIC Calculated =14618.186135835502\n",
      "SARIMAX (0, 2, 2) x (0, 0, 1, 7)7 : BIC Calculated =14603.43604088827\n"
     ]
    },
    {
     "name": "stderr",
     "output_type": "stream",
     "text": [
      "/Users/marianafaria/opt/anaconda3/lib/python3.8/site-packages/statsmodels/base/model.py:566: ConvergenceWarning:\n",
      "\n",
      "Maximum Likelihood optimization failed to converge. Check mle_retvals\n",
      "\n"
     ]
    },
    {
     "name": "stdout",
     "output_type": "stream",
     "text": [
      "SARIMAX (0, 2, 2) x (0, 0, 2, 7)7 : BIC Calculated =14609.666846690716\n",
      "SARIMAX (0, 2, 2) x (0, 1, 0, 7)7 : BIC Calculated =15431.567392925532\n",
      "SARIMAX (0, 2, 2) x (0, 1, 1, 7)7 : BIC Calculated =14493.127592074434\n",
      "SARIMAX (0, 2, 2) x (0, 1, 2, 7)7 : BIC Calculated =14496.78779886713\n",
      "SARIMAX (0, 2, 2) x (0, 2, 0, 7)7 : BIC Calculated =17112.649434179246\n",
      "SARIMAX (0, 2, 2) x (0, 2, 1, 7)7 : BIC Calculated =15454.208755639074\n",
      "SARIMAX (0, 2, 2) x (0, 2, 2, 7)7 : BIC Calculated =14583.335657353127\n"
     ]
    },
    {
     "name": "stderr",
     "output_type": "stream",
     "text": [
      "/Users/marianafaria/opt/anaconda3/lib/python3.8/site-packages/statsmodels/base/model.py:566: ConvergenceWarning:\n",
      "\n",
      "Maximum Likelihood optimization failed to converge. Check mle_retvals\n",
      "\n"
     ]
    },
    {
     "name": "stdout",
     "output_type": "stream",
     "text": [
      "SARIMAX (0, 2, 2) x (1, 0, 0, 7)7 : BIC Calculated =14601.766317033853\n",
      "SARIMAX (0, 2, 2) x (1, 0, 1, 7)7 : BIC Calculated =14542.601741011336\n",
      "SARIMAX (0, 2, 2) x (1, 0, 2, 7)7 : BIC Calculated =14545.900176755149\n"
     ]
    },
    {
     "name": "stderr",
     "output_type": "stream",
     "text": [
      "/Users/marianafaria/opt/anaconda3/lib/python3.8/site-packages/statsmodels/base/model.py:566: ConvergenceWarning:\n",
      "\n",
      "Maximum Likelihood optimization failed to converge. Check mle_retvals\n",
      "\n"
     ]
    },
    {
     "name": "stdout",
     "output_type": "stream",
     "text": [
      "SARIMAX (0, 2, 2) x (1, 1, 0, 7)7 : BIC Calculated =15119.059623278208\n",
      "SARIMAX (0, 2, 2) x (1, 1, 1, 7)7 : BIC Calculated =14496.517227236862\n",
      "SARIMAX (0, 2, 2) x (1, 1, 2, 7)7 : BIC Calculated =14500.406781018695\n",
      "SARIMAX (0, 2, 2) x (1, 2, 0, 7)7 : BIC Calculated =16291.389094482467\n"
     ]
    },
    {
     "name": "stderr",
     "output_type": "stream",
     "text": [
      "/Users/marianafaria/opt/anaconda3/lib/python3.8/site-packages/statsmodels/base/model.py:566: ConvergenceWarning:\n",
      "\n",
      "Maximum Likelihood optimization failed to converge. Check mle_retvals\n",
      "\n"
     ]
    },
    {
     "name": "stdout",
     "output_type": "stream",
     "text": [
      "SARIMAX (0, 2, 2) x (1, 2, 1, 7)7 : BIC Calculated =15127.810400205337\n"
     ]
    },
    {
     "name": "stderr",
     "output_type": "stream",
     "text": [
      "/Users/marianafaria/opt/anaconda3/lib/python3.8/site-packages/statsmodels/base/model.py:566: ConvergenceWarning:\n",
      "\n",
      "Maximum Likelihood optimization failed to converge. Check mle_retvals\n",
      "\n"
     ]
    },
    {
     "name": "stdout",
     "output_type": "stream",
     "text": [
      "SARIMAX (0, 2, 2) x (1, 2, 2, 7)7 : BIC Calculated =14685.44298199328\n"
     ]
    },
    {
     "name": "stderr",
     "output_type": "stream",
     "text": [
      "/Users/marianafaria/opt/anaconda3/lib/python3.8/site-packages/statsmodels/base/model.py:566: ConvergenceWarning:\n",
      "\n",
      "Maximum Likelihood optimization failed to converge. Check mle_retvals\n",
      "\n"
     ]
    },
    {
     "name": "stdout",
     "output_type": "stream",
     "text": [
      "SARIMAX (0, 2, 2) x (2, 0, 0, 7)7 : BIC Calculated =14606.938128182876\n",
      "SARIMAX (0, 2, 2) x (2, 0, 1, 7)7 : BIC Calculated =14548.501227762326\n",
      "SARIMAX (0, 2, 2) x (2, 0, 2, 7)7 : BIC Calculated =14557.019472778684\n"
     ]
    },
    {
     "name": "stderr",
     "output_type": "stream",
     "text": [
      "/Users/marianafaria/opt/anaconda3/lib/python3.8/site-packages/statsmodels/base/model.py:566: ConvergenceWarning:\n",
      "\n",
      "Maximum Likelihood optimization failed to converge. Check mle_retvals\n",
      "\n"
     ]
    },
    {
     "name": "stdout",
     "output_type": "stream",
     "text": [
      "SARIMAX (0, 2, 2) x (2, 1, 0, 7)7 : BIC Calculated =14912.813369431378\n",
      "SARIMAX (0, 2, 2) x (2, 1, 1, 7)7 : BIC Calculated =14505.6181012823\n",
      "SARIMAX (0, 2, 2) x (2, 1, 2, 7)7 : BIC Calculated =14510.01561101969\n"
     ]
    },
    {
     "name": "stderr",
     "output_type": "stream",
     "text": [
      "/Users/marianafaria/opt/anaconda3/lib/python3.8/site-packages/statsmodels/base/model.py:566: ConvergenceWarning:\n",
      "\n",
      "Maximum Likelihood optimization failed to converge. Check mle_retvals\n",
      "\n"
     ]
    },
    {
     "name": "stdout",
     "output_type": "stream",
     "text": [
      "SARIMAX (0, 2, 2) x (2, 2, 0, 7)7 : BIC Calculated =15850.456397415663\n"
     ]
    },
    {
     "name": "stderr",
     "output_type": "stream",
     "text": [
      "/Users/marianafaria/opt/anaconda3/lib/python3.8/site-packages/statsmodels/base/model.py:566: ConvergenceWarning:\n",
      "\n",
      "Maximum Likelihood optimization failed to converge. Check mle_retvals\n",
      "\n"
     ]
    },
    {
     "name": "stdout",
     "output_type": "stream",
     "text": [
      "SARIMAX (0, 2, 2) x (2, 2, 1, 7)7 : BIC Calculated =14927.449679299169\n",
      "SARIMAX (0, 2, 2) x (2, 2, 2, 7)7 : BIC Calculated =14616.109228122285\n",
      "SARIMAX (1, 0, 0) x (0, 0, 0, 7)7 : BIC Calculated =15454.007195467519\n"
     ]
    },
    {
     "name": "stderr",
     "output_type": "stream",
     "text": [
      "/Users/marianafaria/opt/anaconda3/lib/python3.8/site-packages/statsmodels/base/model.py:566: ConvergenceWarning:\n",
      "\n",
      "Maximum Likelihood optimization failed to converge. Check mle_retvals\n",
      "\n"
     ]
    },
    {
     "name": "stdout",
     "output_type": "stream",
     "text": [
      "SARIMAX (1, 0, 0) x (0, 0, 1, 7)7 : BIC Calculated =15440.963126903445\n"
     ]
    },
    {
     "name": "stderr",
     "output_type": "stream",
     "text": [
      "/Users/marianafaria/opt/anaconda3/lib/python3.8/site-packages/statsmodels/base/model.py:566: ConvergenceWarning:\n",
      "\n",
      "Maximum Likelihood optimization failed to converge. Check mle_retvals\n",
      "\n"
     ]
    },
    {
     "name": "stdout",
     "output_type": "stream",
     "text": [
      "SARIMAX (1, 0, 0) x (0, 0, 2, 7)7 : BIC Calculated =15450.90350484936\n",
      "SARIMAX (1, 0, 0) x (0, 1, 0, 7)7 : BIC Calculated =15389.167814640958\n",
      "SARIMAX (1, 0, 0) x (0, 1, 1, 7)7 : BIC Calculated =14770.018151365442\n",
      "SARIMAX (1, 0, 0) x (0, 1, 2, 7)7 : BIC Calculated =14768.012151572848\n",
      "SARIMAX (1, 0, 0) x (0, 2, 0, 7)7 : BIC Calculated =17086.93898389614\n",
      "SARIMAX (1, 0, 0) x (0, 2, 1, 7)7 : BIC Calculated =15378.682263879642\n",
      "SARIMAX (1, 0, 0) x (0, 2, 2, 7)7 : BIC Calculated =14781.938532190052\n",
      "SARIMAX (1, 0, 0) x (1, 0, 0, 7)7 : BIC Calculated =15453.090167705184\n",
      "SARIMAX (1, 0, 0) x (1, 0, 1, 7)7 : BIC Calculated =14857.825494544515\n"
     ]
    },
    {
     "name": "stderr",
     "output_type": "stream",
     "text": [
      "/Users/marianafaria/opt/anaconda3/lib/python3.8/site-packages/statsmodels/base/model.py:566: ConvergenceWarning:\n",
      "\n",
      "Maximum Likelihood optimization failed to converge. Check mle_retvals\n",
      "\n"
     ]
    },
    {
     "name": "stdout",
     "output_type": "stream",
     "text": [
      "SARIMAX (1, 0, 0) x (1, 0, 2, 7)7 : BIC Calculated =14856.176202634428\n",
      "SARIMAX (1, 0, 0) x (1, 1, 0, 7)7 : BIC Calculated =15066.20632195754\n",
      "SARIMAX (1, 0, 0) x (1, 1, 1, 7)7 : BIC Calculated =14768.040182932149\n",
      "SARIMAX (1, 0, 0) x (1, 1, 2, 7)7 : BIC Calculated =14774.452374343606\n",
      "SARIMAX (1, 0, 0) x (1, 2, 0, 7)7 : BIC Calculated =16260.394223125473\n"
     ]
    },
    {
     "name": "stderr",
     "output_type": "stream",
     "text": [
      "/Users/marianafaria/opt/anaconda3/lib/python3.8/site-packages/statsmodels/base/model.py:566: ConvergenceWarning:\n",
      "\n",
      "Maximum Likelihood optimization failed to converge. Check mle_retvals\n",
      "\n"
     ]
    },
    {
     "name": "stdout",
     "output_type": "stream",
     "text": [
      "SARIMAX (1, 0, 0) x (1, 2, 1, 7)7 : BIC Calculated =15061.91026166761\n"
     ]
    },
    {
     "name": "stderr",
     "output_type": "stream",
     "text": [
      "/Users/marianafaria/opt/anaconda3/lib/python3.8/site-packages/statsmodels/base/model.py:566: ConvergenceWarning:\n",
      "\n",
      "Maximum Likelihood optimization failed to converge. Check mle_retvals\n",
      "\n"
     ]
    },
    {
     "name": "stdout",
     "output_type": "stream",
     "text": [
      "SARIMAX (1, 0, 0) x (1, 2, 2, 7)7 : BIC Calculated =14781.613981329338\n"
     ]
    },
    {
     "name": "stderr",
     "output_type": "stream",
     "text": [
      "/Users/marianafaria/opt/anaconda3/lib/python3.8/site-packages/statsmodels/base/model.py:566: ConvergenceWarning:\n",
      "\n",
      "Maximum Likelihood optimization failed to converge. Check mle_retvals\n",
      "\n"
     ]
    },
    {
     "name": "stdout",
     "output_type": "stream",
     "text": [
      "SARIMAX (1, 0, 0) x (2, 0, 0, 7)7 : BIC Calculated =15144.864644559299\n"
     ]
    },
    {
     "name": "stderr",
     "output_type": "stream",
     "text": [
      "/Users/marianafaria/opt/anaconda3/lib/python3.8/site-packages/statsmodels/base/model.py:566: ConvergenceWarning:\n",
      "\n",
      "Maximum Likelihood optimization failed to converge. Check mle_retvals\n",
      "\n"
     ]
    },
    {
     "name": "stdout",
     "output_type": "stream",
     "text": [
      "SARIMAX (1, 0, 0) x (2, 0, 1, 7)7 : BIC Calculated =14857.35103888223\n"
     ]
    },
    {
     "name": "stderr",
     "output_type": "stream",
     "text": [
      "/Users/marianafaria/opt/anaconda3/lib/python3.8/site-packages/statsmodels/base/model.py:566: ConvergenceWarning:\n",
      "\n",
      "Maximum Likelihood optimization failed to converge. Check mle_retvals\n",
      "\n"
     ]
    },
    {
     "name": "stdout",
     "output_type": "stream",
     "text": [
      "SARIMAX (1, 0, 0) x (2, 0, 2, 7)7 : BIC Calculated =14881.732493557089\n",
      "SARIMAX (1, 0, 0) x (2, 1, 0, 7)7 : BIC Calculated =14909.654324401889\n",
      "SARIMAX (1, 0, 0) x (2, 1, 1, 7)7 : BIC Calculated =14775.465177078293\n"
     ]
    },
    {
     "name": "stderr",
     "output_type": "stream",
     "text": [
      "/Users/marianafaria/opt/anaconda3/lib/python3.8/site-packages/statsmodels/base/model.py:566: ConvergenceWarning:\n",
      "\n",
      "Maximum Likelihood optimization failed to converge. Check mle_retvals\n",
      "\n"
     ]
    },
    {
     "name": "stdout",
     "output_type": "stream",
     "text": [
      "SARIMAX (1, 0, 0) x (2, 1, 2, 7)7 : BIC Calculated =14780.59026485739\n",
      "SARIMAX (1, 0, 0) x (2, 2, 0, 7)7 : BIC Calculated =15792.069627042521\n",
      "SARIMAX (1, 0, 0) x (2, 2, 1, 7)7 : BIC Calculated =14909.883287247028\n"
     ]
    },
    {
     "name": "stderr",
     "output_type": "stream",
     "text": [
      "/Users/marianafaria/opt/anaconda3/lib/python3.8/site-packages/statsmodels/base/model.py:566: ConvergenceWarning:\n",
      "\n",
      "Maximum Likelihood optimization failed to converge. Check mle_retvals\n",
      "\n"
     ]
    },
    {
     "name": "stdout",
     "output_type": "stream",
     "text": [
      "SARIMAX (1, 0, 0) x (2, 2, 2, 7)7 : BIC Calculated =14807.790087028805\n",
      "SARIMAX (1, 0, 1) x (0, 0, 0, 7)7 : BIC Calculated =14627.553491987797\n",
      "SARIMAX (1, 0, 1) x (0, 0, 1, 7)7 : BIC Calculated =14612.909463083432\n"
     ]
    },
    {
     "name": "stderr",
     "output_type": "stream",
     "text": [
      "/Users/marianafaria/opt/anaconda3/lib/python3.8/site-packages/statsmodels/base/model.py:566: ConvergenceWarning:\n",
      "\n",
      "Maximum Likelihood optimization failed to converge. Check mle_retvals\n",
      "\n"
     ]
    },
    {
     "name": "stdout",
     "output_type": "stream",
     "text": [
      "SARIMAX (1, 0, 1) x (0, 0, 2, 7)7 : BIC Calculated =14622.746375546349\n",
      "SARIMAX (1, 0, 1) x (0, 1, 0, 7)7 : BIC Calculated =15382.392351996321\n",
      "SARIMAX (1, 0, 1) x (0, 1, 1, 7)7 : BIC Calculated =14472.080734897461\n",
      "SARIMAX (1, 0, 1) x (0, 1, 2, 7)7 : BIC Calculated =14475.31367957219\n",
      "SARIMAX (1, 0, 1) x (0, 2, 0, 7)7 : BIC Calculated =17089.042909967135\n",
      "SARIMAX (1, 0, 1) x (0, 2, 1, 7)7 : BIC Calculated =15371.845503199202\n"
     ]
    },
    {
     "name": "stderr",
     "output_type": "stream",
     "text": [
      "/Users/marianafaria/opt/anaconda3/lib/python3.8/site-packages/statsmodels/base/model.py:566: ConvergenceWarning:\n",
      "\n",
      "Maximum Likelihood optimization failed to converge. Check mle_retvals\n",
      "\n"
     ]
    },
    {
     "name": "stdout",
     "output_type": "stream",
     "text": [
      "SARIMAX (1, 0, 1) x (0, 2, 2, 7)7 : BIC Calculated =14511.57311482668\n"
     ]
    },
    {
     "name": "stderr",
     "output_type": "stream",
     "text": [
      "/Users/marianafaria/opt/anaconda3/lib/python3.8/site-packages/statsmodels/base/model.py:566: ConvergenceWarning:\n",
      "\n",
      "Maximum Likelihood optimization failed to converge. Check mle_retvals\n",
      "\n"
     ]
    },
    {
     "name": "stdout",
     "output_type": "stream",
     "text": [
      "SARIMAX (1, 0, 1) x (1, 0, 0, 7)7 : BIC Calculated =15481.87783813626\n"
     ]
    },
    {
     "name": "stderr",
     "output_type": "stream",
     "text": [
      "/Users/marianafaria/opt/anaconda3/lib/python3.8/site-packages/statsmodels/base/model.py:566: ConvergenceWarning:\n",
      "\n",
      "Maximum Likelihood optimization failed to converge. Check mle_retvals\n",
      "\n"
     ]
    },
    {
     "name": "stdout",
     "output_type": "stream",
     "text": [
      "SARIMAX (1, 0, 1) x (1, 0, 1, 7)7 : BIC Calculated =14539.21757496115\n"
     ]
    },
    {
     "name": "stderr",
     "output_type": "stream",
     "text": [
      "/Users/marianafaria/opt/anaconda3/lib/python3.8/site-packages/statsmodels/base/model.py:566: ConvergenceWarning:\n",
      "\n",
      "Maximum Likelihood optimization failed to converge. Check mle_retvals\n",
      "\n"
     ]
    },
    {
     "name": "stdout",
     "output_type": "stream",
     "text": [
      "SARIMAX (1, 0, 1) x (1, 0, 2, 7)7 : BIC Calculated =14641.8009925493\n",
      "SARIMAX (1, 0, 1) x (1, 1, 0, 7)7 : BIC Calculated =15031.180467985565\n",
      "SARIMAX (1, 0, 1) x (1, 1, 1, 7)7 : BIC Calculated =14475.47759692144\n",
      "SARIMAX (1, 0, 1) x (1, 1, 2, 7)7 : BIC Calculated =14480.862649984756\n",
      "SARIMAX (1, 0, 1) x (1, 2, 0, 7)7 : BIC Calculated =16255.92627796685\n"
     ]
    },
    {
     "name": "stderr",
     "output_type": "stream",
     "text": [
      "/Users/marianafaria/opt/anaconda3/lib/python3.8/site-packages/statsmodels/base/model.py:566: ConvergenceWarning:\n",
      "\n",
      "Maximum Likelihood optimization failed to converge. Check mle_retvals\n",
      "\n"
     ]
    },
    {
     "name": "stdout",
     "output_type": "stream",
     "text": [
      "SARIMAX (1, 0, 1) x (1, 2, 1, 7)7 : BIC Calculated =15026.9391643635\n"
     ]
    },
    {
     "name": "stderr",
     "output_type": "stream",
     "text": [
      "/Users/marianafaria/opt/anaconda3/lib/python3.8/site-packages/statsmodels/base/model.py:566: ConvergenceWarning:\n",
      "\n",
      "Maximum Likelihood optimization failed to converge. Check mle_retvals\n",
      "\n"
     ]
    },
    {
     "name": "stdout",
     "output_type": "stream",
     "text": [
      "SARIMAX (1, 0, 1) x (1, 2, 2, 7)7 : BIC Calculated =14516.314597378212\n"
     ]
    },
    {
     "name": "stderr",
     "output_type": "stream",
     "text": [
      "/Users/marianafaria/opt/anaconda3/lib/python3.8/site-packages/statsmodels/base/model.py:566: ConvergenceWarning:\n",
      "\n",
      "Maximum Likelihood optimization failed to converge. Check mle_retvals\n",
      "\n"
     ]
    },
    {
     "name": "stdout",
     "output_type": "stream",
     "text": [
      "SARIMAX (1, 0, 1) x (2, 0, 0, 7)7 : BIC Calculated =15107.227301089371\n"
     ]
    },
    {
     "name": "stderr",
     "output_type": "stream",
     "text": [
      "/Users/marianafaria/opt/anaconda3/lib/python3.8/site-packages/statsmodels/base/model.py:566: ConvergenceWarning:\n",
      "\n",
      "Maximum Likelihood optimization failed to converge. Check mle_retvals\n",
      "\n"
     ]
    },
    {
     "name": "stdout",
     "output_type": "stream",
     "text": [
      "SARIMAX (1, 0, 1) x (2, 0, 1, 7)7 : BIC Calculated =14579.579151598247\n"
     ]
    },
    {
     "name": "stderr",
     "output_type": "stream",
     "text": [
      "/Users/marianafaria/opt/anaconda3/lib/python3.8/site-packages/statsmodels/base/model.py:566: ConvergenceWarning:\n",
      "\n",
      "Maximum Likelihood optimization failed to converge. Check mle_retvals\n",
      "\n"
     ]
    },
    {
     "name": "stdout",
     "output_type": "stream",
     "text": [
      "SARIMAX (1, 0, 1) x (2, 0, 2, 7)7 : BIC Calculated =14560.227102239778\n",
      "SARIMAX (1, 0, 1) x (2, 1, 0, 7)7 : BIC Calculated =14842.914895002297\n"
     ]
    },
    {
     "name": "stderr",
     "output_type": "stream",
     "text": [
      "/Users/marianafaria/opt/anaconda3/lib/python3.8/site-packages/statsmodels/base/model.py:566: ConvergenceWarning:\n",
      "\n",
      "Maximum Likelihood optimization failed to converge. Check mle_retvals\n",
      "\n"
     ]
    },
    {
     "name": "stdout",
     "output_type": "stream",
     "text": [
      "SARIMAX (1, 0, 1) x (2, 1, 1, 7)7 : BIC Calculated =14482.345169606007\n"
     ]
    },
    {
     "name": "stderr",
     "output_type": "stream",
     "text": [
      "/Users/marianafaria/opt/anaconda3/lib/python3.8/site-packages/statsmodels/base/model.py:566: ConvergenceWarning:\n",
      "\n",
      "Maximum Likelihood optimization failed to converge. Check mle_retvals\n",
      "\n"
     ]
    },
    {
     "name": "stdout",
     "output_type": "stream",
     "text": [
      "SARIMAX (1, 0, 1) x (2, 1, 2, 7)7 : BIC Calculated =14487.867777525673\n",
      "SARIMAX (1, 0, 1) x (2, 2, 0, 7)7 : BIC Calculated =15776.23231239935\n",
      "SARIMAX (1, 0, 1) x (2, 2, 1, 7)7 : BIC Calculated =14843.32626405215\n"
     ]
    },
    {
     "name": "stderr",
     "output_type": "stream",
     "text": [
      "/Users/marianafaria/opt/anaconda3/lib/python3.8/site-packages/statsmodels/base/model.py:566: ConvergenceWarning:\n",
      "\n",
      "Maximum Likelihood optimization failed to converge. Check mle_retvals\n",
      "\n"
     ]
    },
    {
     "name": "stdout",
     "output_type": "stream",
     "text": [
      "SARIMAX (1, 0, 1) x (2, 2, 2, 7)7 : BIC Calculated =14763.912322995388\n"
     ]
    },
    {
     "name": "stderr",
     "output_type": "stream",
     "text": [
      "/Users/marianafaria/opt/anaconda3/lib/python3.8/site-packages/statsmodels/base/model.py:566: ConvergenceWarning:\n",
      "\n",
      "Maximum Likelihood optimization failed to converge. Check mle_retvals\n",
      "\n"
     ]
    },
    {
     "name": "stdout",
     "output_type": "stream",
     "text": [
      "SARIMAX (1, 0, 2) x (0, 0, 0, 7)7 : BIC Calculated =14633.788727844192\n",
      "SARIMAX (1, 0, 2) x (0, 0, 1, 7)7 : BIC Calculated =14617.399694250566\n"
     ]
    },
    {
     "name": "stderr",
     "output_type": "stream",
     "text": [
      "/Users/marianafaria/opt/anaconda3/lib/python3.8/site-packages/statsmodels/base/model.py:566: ConvergenceWarning:\n",
      "\n",
      "Maximum Likelihood optimization failed to converge. Check mle_retvals\n",
      "\n"
     ]
    },
    {
     "name": "stdout",
     "output_type": "stream",
     "text": [
      "SARIMAX (1, 0, 2) x (0, 0, 2, 7)7 : BIC Calculated =14623.348191932599\n",
      "SARIMAX (1, 0, 2) x (0, 1, 0, 7)7 : BIC Calculated =15387.025964460781\n",
      "SARIMAX (1, 0, 2) x (0, 1, 1, 7)7 : BIC Calculated =14479.419057592744\n",
      "SARIMAX (1, 0, 2) x (0, 1, 2, 7)7 : BIC Calculated =14482.455564550946\n",
      "SARIMAX (1, 0, 2) x (0, 2, 0, 7)7 : BIC Calculated =17094.400585443764\n",
      "SARIMAX (1, 0, 2) x (0, 2, 1, 7)7 : BIC Calculated =15376.54933858277\n"
     ]
    },
    {
     "name": "stderr",
     "output_type": "stream",
     "text": [
      "/Users/marianafaria/opt/anaconda3/lib/python3.8/site-packages/statsmodels/base/model.py:566: ConvergenceWarning:\n",
      "\n",
      "Maximum Likelihood optimization failed to converge. Check mle_retvals\n",
      "\n"
     ]
    },
    {
     "name": "stdout",
     "output_type": "stream",
     "text": [
      "SARIMAX (1, 0, 2) x (0, 2, 2, 7)7 : BIC Calculated =14518.960834187641\n"
     ]
    },
    {
     "name": "stderr",
     "output_type": "stream",
     "text": [
      "/Users/marianafaria/opt/anaconda3/lib/python3.8/site-packages/statsmodels/base/model.py:566: ConvergenceWarning:\n",
      "\n",
      "Maximum Likelihood optimization failed to converge. Check mle_retvals\n",
      "\n"
     ]
    },
    {
     "name": "stdout",
     "output_type": "stream",
     "text": [
      "SARIMAX (1, 0, 2) x (1, 0, 0, 7)7 : BIC Calculated =15443.611990331325\n"
     ]
    },
    {
     "name": "stderr",
     "output_type": "stream",
     "text": [
      "/Users/marianafaria/opt/anaconda3/lib/python3.8/site-packages/statsmodels/base/model.py:566: ConvergenceWarning:\n",
      "\n",
      "Maximum Likelihood optimization failed to converge. Check mle_retvals\n",
      "\n"
     ]
    },
    {
     "name": "stdout",
     "output_type": "stream",
     "text": [
      "SARIMAX (1, 0, 2) x (1, 0, 1, 7)7 : BIC Calculated =14651.449355621675\n"
     ]
    },
    {
     "name": "stderr",
     "output_type": "stream",
     "text": [
      "/Users/marianafaria/opt/anaconda3/lib/python3.8/site-packages/statsmodels/base/model.py:566: ConvergenceWarning:\n",
      "\n",
      "Maximum Likelihood optimization failed to converge. Check mle_retvals\n",
      "\n"
     ]
    },
    {
     "name": "stdout",
     "output_type": "stream",
     "text": [
      "SARIMAX (1, 0, 2) x (1, 0, 2, 7)7 : BIC Calculated =14586.407169822725\n",
      "SARIMAX (1, 0, 2) x (1, 1, 0, 7)7 : BIC Calculated =15037.173715728753\n",
      "SARIMAX (1, 0, 2) x (1, 1, 1, 7)7 : BIC Calculated =14482.637673474444\n"
     ]
    },
    {
     "name": "stderr",
     "output_type": "stream",
     "text": [
      "/Users/marianafaria/opt/anaconda3/lib/python3.8/site-packages/statsmodels/base/model.py:566: ConvergenceWarning:\n",
      "\n",
      "Maximum Likelihood optimization failed to converge. Check mle_retvals\n",
      "\n"
     ]
    },
    {
     "name": "stdout",
     "output_type": "stream",
     "text": [
      "SARIMAX (1, 0, 2) x (1, 1, 2, 7)7 : BIC Calculated =14488.229328749068\n",
      "SARIMAX (1, 0, 2) x (1, 2, 0, 7)7 : BIC Calculated =16260.366704072558\n"
     ]
    },
    {
     "name": "stderr",
     "output_type": "stream",
     "text": [
      "/Users/marianafaria/opt/anaconda3/lib/python3.8/site-packages/statsmodels/base/model.py:566: ConvergenceWarning:\n",
      "\n",
      "Maximum Likelihood optimization failed to converge. Check mle_retvals\n",
      "\n"
     ]
    },
    {
     "name": "stdout",
     "output_type": "stream",
     "text": [
      "SARIMAX (1, 0, 2) x (1, 2, 1, 7)7 : BIC Calculated =15033.537880842483\n"
     ]
    },
    {
     "name": "stderr",
     "output_type": "stream",
     "text": [
      "/Users/marianafaria/opt/anaconda3/lib/python3.8/site-packages/statsmodels/base/model.py:566: ConvergenceWarning:\n",
      "\n",
      "Maximum Likelihood optimization failed to converge. Check mle_retvals\n",
      "\n"
     ]
    },
    {
     "name": "stdout",
     "output_type": "stream",
     "text": [
      "SARIMAX (1, 0, 2) x (1, 2, 2, 7)7 : BIC Calculated =14531.523740137427\n"
     ]
    },
    {
     "name": "stderr",
     "output_type": "stream",
     "text": [
      "/Users/marianafaria/opt/anaconda3/lib/python3.8/site-packages/statsmodels/base/model.py:566: ConvergenceWarning:\n",
      "\n",
      "Maximum Likelihood optimization failed to converge. Check mle_retvals\n",
      "\n"
     ]
    },
    {
     "name": "stdout",
     "output_type": "stream",
     "text": [
      "SARIMAX (1, 0, 2) x (2, 0, 0, 7)7 : BIC Calculated =15166.767009801932\n"
     ]
    },
    {
     "name": "stderr",
     "output_type": "stream",
     "text": [
      "/Users/marianafaria/opt/anaconda3/lib/python3.8/site-packages/statsmodels/base/model.py:566: ConvergenceWarning:\n",
      "\n",
      "Maximum Likelihood optimization failed to converge. Check mle_retvals\n",
      "\n"
     ]
    },
    {
     "name": "stdout",
     "output_type": "stream",
     "text": [
      "SARIMAX (1, 0, 2) x (2, 0, 1, 7)7 : BIC Calculated =15391.527919035632\n",
      "SARIMAX (1, 0, 2) x (2, 0, 2, 7)7 : BIC Calculated =14597.918845292392\n",
      "SARIMAX (1, 0, 2) x (2, 1, 0, 7)7 : BIC Calculated =14850.291367380898\n",
      "SARIMAX (1, 0, 2) x (2, 1, 1, 7)7 : BIC Calculated =14489.48987775266\n"
     ]
    },
    {
     "name": "stderr",
     "output_type": "stream",
     "text": [
      "/Users/marianafaria/opt/anaconda3/lib/python3.8/site-packages/statsmodels/base/model.py:566: ConvergenceWarning:\n",
      "\n",
      "Maximum Likelihood optimization failed to converge. Check mle_retvals\n",
      "\n"
     ]
    },
    {
     "name": "stdout",
     "output_type": "stream",
     "text": [
      "SARIMAX (1, 0, 2) x (2, 1, 2, 7)7 : BIC Calculated =14495.039299904547\n"
     ]
    },
    {
     "name": "stderr",
     "output_type": "stream",
     "text": [
      "/Users/marianafaria/opt/anaconda3/lib/python3.8/site-packages/statsmodels/base/model.py:566: ConvergenceWarning:\n",
      "\n",
      "Maximum Likelihood optimization failed to converge. Check mle_retvals\n",
      "\n"
     ]
    },
    {
     "name": "stdout",
     "output_type": "stream",
     "text": [
      "SARIMAX (1, 0, 2) x (2, 2, 0, 7)7 : BIC Calculated =15772.078951981059\n",
      "SARIMAX (1, 0, 2) x (2, 2, 1, 7)7 : BIC Calculated =14850.66414879911\n"
     ]
    },
    {
     "name": "stderr",
     "output_type": "stream",
     "text": [
      "/Users/marianafaria/opt/anaconda3/lib/python3.8/site-packages/statsmodels/base/model.py:566: ConvergenceWarning:\n",
      "\n",
      "Maximum Likelihood optimization failed to converge. Check mle_retvals\n",
      "\n"
     ]
    },
    {
     "name": "stdout",
     "output_type": "stream",
     "text": [
      "SARIMAX (1, 0, 2) x (2, 2, 2, 7)7 : BIC Calculated =14858.240035934534\n",
      "SARIMAX (1, 1, 0) x (0, 0, 0, 7)7 : BIC Calculated =15074.204905340079\n",
      "SARIMAX (1, 1, 0) x (0, 0, 1, 7)7 : BIC Calculated =15047.333135314115\n",
      "SARIMAX (1, 1, 0) x (0, 0, 2, 7)7 : BIC Calculated =15051.776565631486\n",
      "SARIMAX (1, 1, 0) x (0, 1, 0, 7)7 : BIC Calculated =15909.199962986384\n",
      "SARIMAX (1, 1, 0) x (0, 1, 1, 7)7 : BIC Calculated =14903.61316833456\n",
      "SARIMAX (1, 1, 0) x (0, 1, 2, 7)7 : BIC Calculated =14903.242622103633\n",
      "SARIMAX (1, 1, 0) x (0, 2, 0, 7)7 : BIC Calculated =17646.29565301913\n",
      "SARIMAX (1, 1, 0) x (0, 2, 1, 7)7 : BIC Calculated =15896.80495024288\n"
     ]
    },
    {
     "name": "stderr",
     "output_type": "stream",
     "text": [
      "/Users/marianafaria/opt/anaconda3/lib/python3.8/site-packages/statsmodels/base/model.py:566: ConvergenceWarning:\n",
      "\n",
      "Maximum Likelihood optimization failed to converge. Check mle_retvals\n",
      "\n"
     ]
    },
    {
     "name": "stdout",
     "output_type": "stream",
     "text": [
      "SARIMAX (1, 1, 0) x (0, 2, 2, 7)7 : BIC Calculated =14945.619158671812\n",
      "SARIMAX (1, 1, 0) x (1, 0, 0, 7)7 : BIC Calculated =15044.034521542304\n",
      "SARIMAX (1, 1, 0) x (1, 0, 1, 7)7 : BIC Calculated =14956.443568569795\n"
     ]
    },
    {
     "name": "stderr",
     "output_type": "stream",
     "text": [
      "/Users/marianafaria/opt/anaconda3/lib/python3.8/site-packages/statsmodels/base/model.py:566: ConvergenceWarning:\n",
      "\n",
      "Maximum Likelihood optimization failed to converge. Check mle_retvals\n",
      "\n"
     ]
    },
    {
     "name": "stdout",
     "output_type": "stream",
     "text": [
      "SARIMAX (1, 1, 0) x (1, 0, 2, 7)7 : BIC Calculated =14956.83159563233\n",
      "SARIMAX (1, 1, 0) x (1, 1, 0, 7)7 : BIC Calculated =15526.515770469983\n",
      "SARIMAX (1, 1, 0) x (1, 1, 1, 7)7 : BIC Calculated =14903.607814222836\n",
      "SARIMAX (1, 1, 0) x (1, 1, 2, 7)7 : BIC Calculated =14908.557533446552\n",
      "SARIMAX (1, 1, 0) x (1, 2, 0, 7)7 : BIC Calculated =16794.92433686561\n",
      "SARIMAX (1, 1, 0) x (1, 2, 1, 7)7 : BIC Calculated =15520.611482498061\n"
     ]
    },
    {
     "name": "stderr",
     "output_type": "stream",
     "text": [
      "/Users/marianafaria/opt/anaconda3/lib/python3.8/site-packages/statsmodels/base/model.py:566: ConvergenceWarning:\n",
      "\n",
      "Maximum Likelihood optimization failed to converge. Check mle_retvals\n",
      "\n"
     ]
    },
    {
     "name": "stdout",
     "output_type": "stream",
     "text": [
      "SARIMAX (1, 1, 0) x (1, 2, 2, 7)7 : BIC Calculated =14957.422807753854\n",
      "SARIMAX (1, 1, 0) x (2, 0, 0, 7)7 : BIC Calculated =15046.946112772499\n"
     ]
    },
    {
     "name": "stderr",
     "output_type": "stream",
     "text": [
      "/Users/marianafaria/opt/anaconda3/lib/python3.8/site-packages/statsmodels/base/model.py:566: ConvergenceWarning:\n",
      "\n",
      "Maximum Likelihood optimization failed to converge. Check mle_retvals\n",
      "\n"
     ]
    },
    {
     "name": "stdout",
     "output_type": "stream",
     "text": [
      "SARIMAX (1, 1, 0) x (2, 0, 1, 7)7 : BIC Calculated =14956.627755841362\n"
     ]
    },
    {
     "name": "stderr",
     "output_type": "stream",
     "text": [
      "/Users/marianafaria/opt/anaconda3/lib/python3.8/site-packages/statsmodels/base/model.py:566: ConvergenceWarning:\n",
      "\n",
      "Maximum Likelihood optimization failed to converge. Check mle_retvals\n",
      "\n"
     ]
    },
    {
     "name": "stdout",
     "output_type": "stream",
     "text": [
      "SARIMAX (1, 1, 0) x (2, 0, 2, 7)7 : BIC Calculated =14963.10134329644\n",
      "SARIMAX (1, 1, 0) x (2, 1, 0, 7)7 : BIC Calculated =15312.917145132167\n",
      "SARIMAX (1, 1, 0) x (2, 1, 1, 7)7 : BIC Calculated =14910.342985063018\n"
     ]
    },
    {
     "name": "stderr",
     "output_type": "stream",
     "text": [
      "/Users/marianafaria/opt/anaconda3/lib/python3.8/site-packages/statsmodels/base/model.py:566: ConvergenceWarning:\n",
      "\n",
      "Maximum Likelihood optimization failed to converge. Check mle_retvals\n",
      "\n"
     ]
    },
    {
     "name": "stdout",
     "output_type": "stream",
     "text": [
      "SARIMAX (1, 1, 0) x (2, 1, 2, 7)7 : BIC Calculated =14915.817413268112\n",
      "SARIMAX (1, 1, 0) x (2, 2, 0, 7)7 : BIC Calculated =16283.635242633896\n",
      "SARIMAX (1, 1, 0) x (2, 2, 1, 7)7 : BIC Calculated =15312.041944475373\n"
     ]
    },
    {
     "name": "stderr",
     "output_type": "stream",
     "text": [
      "/Users/marianafaria/opt/anaconda3/lib/python3.8/site-packages/statsmodels/base/model.py:566: ConvergenceWarning:\n",
      "\n",
      "Maximum Likelihood optimization failed to converge. Check mle_retvals\n",
      "\n"
     ]
    },
    {
     "name": "stdout",
     "output_type": "stream",
     "text": [
      "SARIMAX (1, 1, 0) x (2, 2, 2, 7)7 : BIC Calculated =14969.614715278405\n",
      "SARIMAX (1, 1, 1) x (0, 0, 0, 7)7 : BIC Calculated =14613.283085471308\n",
      "SARIMAX (1, 1, 1) x (0, 0, 1, 7)7 : BIC Calculated =14597.250121166684\n",
      "SARIMAX (1, 1, 1) x (0, 0, 2, 7)7 : BIC Calculated =14602.948022089371\n",
      "SARIMAX (1, 1, 1) x (0, 1, 0, 7)7 : BIC Calculated =15395.741255732422\n",
      "SARIMAX (1, 1, 1) x (0, 1, 1, 7)7 : BIC Calculated =14478.794962941316\n"
     ]
    },
    {
     "name": "stderr",
     "output_type": "stream",
     "text": [
      "/Users/marianafaria/opt/anaconda3/lib/python3.8/site-packages/statsmodels/base/model.py:566: ConvergenceWarning:\n",
      "\n",
      "Maximum Likelihood optimization failed to converge. Check mle_retvals\n",
      "\n"
     ]
    },
    {
     "name": "stdout",
     "output_type": "stream",
     "text": [
      "SARIMAX (1, 1, 1) x (0, 1, 2, 7)7 : BIC Calculated =14481.90483574292\n",
      "SARIMAX (1, 1, 1) x (0, 2, 0, 7)7 : BIC Calculated =17092.52761137007\n",
      "SARIMAX (1, 1, 1) x (0, 2, 1, 7)7 : BIC Calculated =15393.641503215691\n"
     ]
    },
    {
     "name": "stderr",
     "output_type": "stream",
     "text": [
      "/Users/marianafaria/opt/anaconda3/lib/python3.8/site-packages/statsmodels/base/model.py:566: ConvergenceWarning:\n",
      "\n",
      "Maximum Likelihood optimization failed to converge. Check mle_retvals\n",
      "\n"
     ]
    },
    {
     "name": "stdout",
     "output_type": "stream",
     "text": [
      "SARIMAX (1, 1, 1) x (0, 2, 2, 7)7 : BIC Calculated =14524.399787302287\n",
      "SARIMAX (1, 1, 1) x (1, 0, 0, 7)7 : BIC Calculated =14595.512579351429\n",
      "SARIMAX (1, 1, 1) x (1, 0, 1, 7)7 : BIC Calculated =14527.400845026857\n"
     ]
    },
    {
     "name": "stderr",
     "output_type": "stream",
     "text": [
      "/Users/marianafaria/opt/anaconda3/lib/python3.8/site-packages/statsmodels/base/model.py:566: ConvergenceWarning:\n",
      "\n",
      "Maximum Likelihood optimization failed to converge. Check mle_retvals\n",
      "\n"
     ]
    },
    {
     "name": "stdout",
     "output_type": "stream",
     "text": [
      "SARIMAX (1, 1, 1) x (1, 0, 2, 7)7 : BIC Calculated =14531.121467516936\n"
     ]
    },
    {
     "name": "stderr",
     "output_type": "stream",
     "text": [
      "/Users/marianafaria/opt/anaconda3/lib/python3.8/site-packages/statsmodels/base/model.py:566: ConvergenceWarning:\n",
      "\n",
      "Maximum Likelihood optimization failed to converge. Check mle_retvals\n",
      "\n"
     ]
    },
    {
     "name": "stdout",
     "output_type": "stream",
     "text": [
      "SARIMAX (1, 1, 1) x (1, 1, 0, 7)7 : BIC Calculated =15073.56060654929\n",
      "SARIMAX (1, 1, 1) x (1, 1, 1, 7)7 : BIC Calculated =14482.117659215652\n",
      "SARIMAX (1, 1, 1) x (1, 1, 2, 7)7 : BIC Calculated =14487.351814942642\n"
     ]
    },
    {
     "name": "stderr",
     "output_type": "stream",
     "text": [
      "/Users/marianafaria/opt/anaconda3/lib/python3.8/site-packages/statsmodels/base/model.py:566: ConvergenceWarning:\n",
      "\n",
      "Maximum Likelihood optimization failed to converge. Check mle_retvals\n",
      "\n"
     ]
    },
    {
     "name": "stdout",
     "output_type": "stream",
     "text": [
      "SARIMAX (1, 1, 1) x (1, 2, 0, 7)7 : BIC Calculated =16267.406359385066\n",
      "SARIMAX (1, 1, 1) x (1, 2, 1, 7)7 : BIC Calculated =15077.757128182604\n"
     ]
    },
    {
     "name": "stderr",
     "output_type": "stream",
     "text": [
      "/Users/marianafaria/opt/anaconda3/lib/python3.8/site-packages/statsmodels/base/model.py:566: ConvergenceWarning:\n",
      "\n",
      "Maximum Likelihood optimization failed to converge. Check mle_retvals\n",
      "\n"
     ]
    },
    {
     "name": "stdout",
     "output_type": "stream",
     "text": [
      "SARIMAX (1, 1, 1) x (1, 2, 2, 7)7 : BIC Calculated =14556.337613465023\n",
      "SARIMAX (1, 1, 1) x (2, 0, 0, 7)7 : BIC Calculated =14600.606638150703\n"
     ]
    },
    {
     "name": "stderr",
     "output_type": "stream",
     "text": [
      "/Users/marianafaria/opt/anaconda3/lib/python3.8/site-packages/statsmodels/base/model.py:566: ConvergenceWarning:\n",
      "\n",
      "Maximum Likelihood optimization failed to converge. Check mle_retvals\n",
      "\n"
     ]
    },
    {
     "name": "stdout",
     "output_type": "stream",
     "text": [
      "SARIMAX (1, 1, 1) x (2, 0, 1, 7)7 : BIC Calculated =14531.529383816394\n"
     ]
    },
    {
     "name": "stderr",
     "output_type": "stream",
     "text": [
      "/Users/marianafaria/opt/anaconda3/lib/python3.8/site-packages/statsmodels/base/model.py:566: ConvergenceWarning:\n",
      "\n",
      "Maximum Likelihood optimization failed to converge. Check mle_retvals\n",
      "\n"
     ]
    },
    {
     "name": "stdout",
     "output_type": "stream",
     "text": [
      "SARIMAX (1, 1, 1) x (2, 0, 2, 7)7 : BIC Calculated =14535.940066055606\n"
     ]
    },
    {
     "name": "stderr",
     "output_type": "stream",
     "text": [
      "/Users/marianafaria/opt/anaconda3/lib/python3.8/site-packages/statsmodels/base/model.py:566: ConvergenceWarning:\n",
      "\n",
      "Maximum Likelihood optimization failed to converge. Check mle_retvals\n",
      "\n"
     ]
    },
    {
     "name": "stdout",
     "output_type": "stream",
     "text": [
      "SARIMAX (1, 1, 1) x (2, 1, 0, 7)7 : BIC Calculated =14903.525415951028\n",
      "SARIMAX (1, 1, 1) x (2, 1, 1, 7)7 : BIC Calculated =14488.752641448262\n"
     ]
    },
    {
     "name": "stderr",
     "output_type": "stream",
     "text": [
      "/Users/marianafaria/opt/anaconda3/lib/python3.8/site-packages/statsmodels/base/model.py:566: ConvergenceWarning:\n",
      "\n",
      "Maximum Likelihood optimization failed to converge. Check mle_retvals\n",
      "\n"
     ]
    },
    {
     "name": "stdout",
     "output_type": "stream",
     "text": [
      "SARIMAX (1, 1, 1) x (2, 1, 2, 7)7 : BIC Calculated =14494.293557454652\n"
     ]
    },
    {
     "name": "stderr",
     "output_type": "stream",
     "text": [
      "/Users/marianafaria/opt/anaconda3/lib/python3.8/site-packages/statsmodels/base/model.py:566: ConvergenceWarning:\n",
      "\n",
      "Maximum Likelihood optimization failed to converge. Check mle_retvals\n",
      "\n"
     ]
    },
    {
     "name": "stdout",
     "output_type": "stream",
     "text": [
      "SARIMAX (1, 1, 1) x (2, 2, 0, 7)7 : BIC Calculated =15800.009588857318\n"
     ]
    },
    {
     "name": "stderr",
     "output_type": "stream",
     "text": [
      "/Users/marianafaria/opt/anaconda3/lib/python3.8/site-packages/statsmodels/base/model.py:566: ConvergenceWarning:\n",
      "\n",
      "Maximum Likelihood optimization failed to converge. Check mle_retvals\n",
      "\n"
     ]
    },
    {
     "name": "stdout",
     "output_type": "stream",
     "text": [
      "SARIMAX (1, 1, 1) x (2, 2, 1, 7)7 : BIC Calculated =14905.261850129964\n"
     ]
    },
    {
     "name": "stderr",
     "output_type": "stream",
     "text": [
      "/Users/marianafaria/opt/anaconda3/lib/python3.8/site-packages/statsmodels/base/model.py:566: ConvergenceWarning:\n",
      "\n",
      "Maximum Likelihood optimization failed to converge. Check mle_retvals\n",
      "\n"
     ]
    },
    {
     "name": "stdout",
     "output_type": "stream",
     "text": [
      "SARIMAX (1, 1, 1) x (2, 2, 2, 7)7 : BIC Calculated =1027.6207583918538\n"
     ]
    },
    {
     "name": "stderr",
     "output_type": "stream",
     "text": [
      "/Users/marianafaria/opt/anaconda3/lib/python3.8/site-packages/statsmodels/tsa/statespace/sarimax.py:966: UserWarning:\n",
      "\n",
      "Non-stationary starting autoregressive parameters found. Using zeros as starting parameters.\n",
      "\n"
     ]
    },
    {
     "name": "stdout",
     "output_type": "stream",
     "text": [
      "SARIMAX (1, 1, 2) x (0, 0, 0, 7)7 : BIC Calculated =14617.20925430268\n",
      "SARIMAX (1, 1, 2) x (0, 0, 1, 7)7 : BIC Calculated =14602.97444716879\n",
      "SARIMAX (1, 1, 2) x (0, 0, 2, 7)7 : BIC Calculated =14608.86211718705\n",
      "SARIMAX (1, 1, 2) x (0, 1, 0, 7)7 : BIC Calculated =15424.121662423298\n",
      "SARIMAX (1, 1, 2) x (0, 1, 1, 7)7 : BIC Calculated =14485.123056234066\n"
     ]
    },
    {
     "name": "stderr",
     "output_type": "stream",
     "text": [
      "/Users/marianafaria/opt/anaconda3/lib/python3.8/site-packages/statsmodels/base/model.py:566: ConvergenceWarning:\n",
      "\n",
      "Maximum Likelihood optimization failed to converge. Check mle_retvals\n",
      "\n"
     ]
    },
    {
     "name": "stdout",
     "output_type": "stream",
     "text": [
      "SARIMAX (1, 1, 2) x (0, 1, 2, 7)7 : BIC Calculated =14488.638778659662\n",
      "SARIMAX (1, 1, 2) x (0, 2, 0, 7)7 : BIC Calculated =17101.759687221584\n",
      "SARIMAX (1, 1, 2) x (0, 2, 1, 7)7 : BIC Calculated =15421.981177340132\n",
      "SARIMAX (1, 1, 2) x (0, 2, 2, 7)7 : BIC Calculated =14523.694242697973\n",
      "SARIMAX (1, 1, 2) x (1, 0, 0, 7)7 : BIC Calculated =14601.434284505985\n"
     ]
    },
    {
     "name": "stderr",
     "output_type": "stream",
     "text": [
      "/Users/marianafaria/opt/anaconda3/lib/python3.8/site-packages/statsmodels/base/model.py:566: ConvergenceWarning:\n",
      "\n",
      "Maximum Likelihood optimization failed to converge. Check mle_retvals\n",
      "\n"
     ]
    },
    {
     "name": "stdout",
     "output_type": "stream",
     "text": [
      "SARIMAX (1, 1, 2) x (1, 0, 1, 7)7 : BIC Calculated =14533.74823558805\n"
     ]
    },
    {
     "name": "stderr",
     "output_type": "stream",
     "text": [
      "/Users/marianafaria/opt/anaconda3/lib/python3.8/site-packages/statsmodels/base/model.py:566: ConvergenceWarning:\n",
      "\n",
      "Maximum Likelihood optimization failed to converge. Check mle_retvals\n",
      "\n"
     ]
    },
    {
     "name": "stdout",
     "output_type": "stream",
     "text": [
      "SARIMAX (1, 1, 2) x (1, 0, 2, 7)7 : BIC Calculated =14539.195100274603\n"
     ]
    },
    {
     "name": "stderr",
     "output_type": "stream",
     "text": [
      "/Users/marianafaria/opt/anaconda3/lib/python3.8/site-packages/statsmodels/base/model.py:566: ConvergenceWarning:\n",
      "\n",
      "Maximum Likelihood optimization failed to converge. Check mle_retvals\n",
      "\n"
     ]
    },
    {
     "name": "stdout",
     "output_type": "stream",
     "text": [
      "SARIMAX (1, 1, 2) x (1, 1, 0, 7)7 : BIC Calculated =15037.961005652704\n"
     ]
    },
    {
     "name": "stderr",
     "output_type": "stream",
     "text": [
      "/Users/marianafaria/opt/anaconda3/lib/python3.8/site-packages/statsmodels/base/model.py:566: ConvergenceWarning:\n",
      "\n",
      "Maximum Likelihood optimization failed to converge. Check mle_retvals\n",
      "\n"
     ]
    },
    {
     "name": "stdout",
     "output_type": "stream",
     "text": [
      "SARIMAX (1, 1, 2) x (1, 1, 1, 7)7 : BIC Calculated =14488.821032681075\n"
     ]
    },
    {
     "name": "stderr",
     "output_type": "stream",
     "text": [
      "/Users/marianafaria/opt/anaconda3/lib/python3.8/site-packages/statsmodels/base/model.py:566: ConvergenceWarning:\n",
      "\n",
      "Maximum Likelihood optimization failed to converge. Check mle_retvals\n",
      "\n"
     ]
    },
    {
     "name": "stdout",
     "output_type": "stream",
     "text": [
      "SARIMAX (1, 1, 2) x (1, 1, 2, 7)7 : BIC Calculated =14493.798735244995\n"
     ]
    },
    {
     "name": "stderr",
     "output_type": "stream",
     "text": [
      "/Users/marianafaria/opt/anaconda3/lib/python3.8/site-packages/statsmodels/base/model.py:566: ConvergenceWarning:\n",
      "\n",
      "Maximum Likelihood optimization failed to converge. Check mle_retvals\n",
      "\n"
     ]
    },
    {
     "name": "stdout",
     "output_type": "stream",
     "text": [
      "SARIMAX (1, 1, 2) x (1, 2, 0, 7)7 : BIC Calculated =16275.186362901224\n",
      "SARIMAX (1, 1, 2) x (1, 2, 1, 7)7 : BIC Calculated =15115.935145747895\n"
     ]
    },
    {
     "name": "stderr",
     "output_type": "stream",
     "text": [
      "/Users/marianafaria/opt/anaconda3/lib/python3.8/site-packages/statsmodels/base/model.py:566: ConvergenceWarning:\n",
      "\n",
      "Maximum Likelihood optimization failed to converge. Check mle_retvals\n",
      "\n"
     ]
    },
    {
     "name": "stdout",
     "output_type": "stream",
     "text": [
      "SARIMAX (1, 1, 2) x (1, 2, 2, 7)7 : BIC Calculated =14536.942052302436\n",
      "SARIMAX (1, 1, 2) x (2, 0, 0, 7)7 : BIC Calculated =14606.68983894078\n"
     ]
    },
    {
     "name": "stderr",
     "output_type": "stream",
     "text": [
      "/Users/marianafaria/opt/anaconda3/lib/python3.8/site-packages/statsmodels/base/model.py:566: ConvergenceWarning:\n",
      "\n",
      "Maximum Likelihood optimization failed to converge. Check mle_retvals\n",
      "\n"
     ]
    },
    {
     "name": "stdout",
     "output_type": "stream",
     "text": [
      "SARIMAX (1, 1, 2) x (2, 0, 1, 7)7 : BIC Calculated =14538.378299949047\n"
     ]
    },
    {
     "name": "stderr",
     "output_type": "stream",
     "text": [
      "/Users/marianafaria/opt/anaconda3/lib/python3.8/site-packages/statsmodels/base/model.py:566: ConvergenceWarning:\n",
      "\n",
      "Maximum Likelihood optimization failed to converge. Check mle_retvals\n",
      "\n"
     ]
    },
    {
     "name": "stdout",
     "output_type": "stream",
     "text": [
      "SARIMAX (1, 1, 2) x (2, 0, 2, 7)7 : BIC Calculated =14545.062483532633\n"
     ]
    },
    {
     "name": "stderr",
     "output_type": "stream",
     "text": [
      "/Users/marianafaria/opt/anaconda3/lib/python3.8/site-packages/statsmodels/base/model.py:566: ConvergenceWarning:\n",
      "\n",
      "Maximum Likelihood optimization failed to converge. Check mle_retvals\n",
      "\n"
     ]
    },
    {
     "name": "stdout",
     "output_type": "stream",
     "text": [
      "SARIMAX (1, 1, 2) x (2, 1, 0, 7)7 : BIC Calculated =14911.162807429662\n"
     ]
    },
    {
     "name": "stderr",
     "output_type": "stream",
     "text": [
      "/Users/marianafaria/opt/anaconda3/lib/python3.8/site-packages/statsmodels/base/model.py:566: ConvergenceWarning:\n",
      "\n",
      "Maximum Likelihood optimization failed to converge. Check mle_retvals\n",
      "\n"
     ]
    },
    {
     "name": "stdout",
     "output_type": "stream",
     "text": [
      "SARIMAX (1, 1, 2) x (2, 1, 1, 7)7 : BIC Calculated =14495.445784601598\n"
     ]
    },
    {
     "name": "stderr",
     "output_type": "stream",
     "text": [
      "/Users/marianafaria/opt/anaconda3/lib/python3.8/site-packages/statsmodels/base/model.py:566: ConvergenceWarning:\n",
      "\n",
      "Maximum Likelihood optimization failed to converge. Check mle_retvals\n",
      "\n"
     ]
    },
    {
     "name": "stdout",
     "output_type": "stream",
     "text": [
      "SARIMAX (1, 1, 2) x (2, 1, 2, 7)7 : BIC Calculated =14501.612104202504\n"
     ]
    },
    {
     "name": "stderr",
     "output_type": "stream",
     "text": [
      "/Users/marianafaria/opt/anaconda3/lib/python3.8/site-packages/statsmodels/base/model.py:566: ConvergenceWarning:\n",
      "\n",
      "Maximum Likelihood optimization failed to converge. Check mle_retvals\n",
      "\n"
     ]
    },
    {
     "name": "stdout",
     "output_type": "stream",
     "text": [
      "SARIMAX (1, 1, 2) x (2, 2, 0, 7)7 : BIC Calculated =15840.576104030077\n"
     ]
    },
    {
     "name": "stderr",
     "output_type": "stream",
     "text": [
      "/Users/marianafaria/opt/anaconda3/lib/python3.8/site-packages/statsmodels/base/model.py:566: ConvergenceWarning:\n",
      "\n",
      "Maximum Likelihood optimization failed to converge. Check mle_retvals\n",
      "\n"
     ]
    },
    {
     "name": "stdout",
     "output_type": "stream",
     "text": [
      "SARIMAX (1, 1, 2) x (2, 2, 1, 7)7 : BIC Calculated =14913.030145890642\n"
     ]
    },
    {
     "name": "stderr",
     "output_type": "stream",
     "text": [
      "/Users/marianafaria/opt/anaconda3/lib/python3.8/site-packages/statsmodels/base/model.py:566: ConvergenceWarning:\n",
      "\n",
      "Maximum Likelihood optimization failed to converge. Check mle_retvals\n",
      "\n"
     ]
    },
    {
     "name": "stdout",
     "output_type": "stream",
     "text": [
      "SARIMAX (1, 1, 2) x (2, 2, 2, 7)7 : BIC Calculated =14560.970082761836\n",
      "SARIMAX (1, 2, 0) x (0, 0, 0, 7)7 : BIC Calculated =16384.38143316632\n",
      "SARIMAX (1, 2, 0) x (0, 0, 1, 7)7 : BIC Calculated =16359.956600589469\n",
      "SARIMAX (1, 2, 0) x (0, 0, 2, 7)7 : BIC Calculated =16365.81206303189\n",
      "SARIMAX (1, 2, 0) x (0, 1, 0, 7)7 : BIC Calculated =17227.18157765329\n",
      "SARIMAX (1, 2, 0) x (0, 1, 1, 7)7 : BIC Calculated =16239.513704111663\n",
      "SARIMAX (1, 2, 0) x (0, 1, 2, 7)7 : BIC Calculated =16236.655694107545\n",
      "SARIMAX (1, 2, 0) x (0, 2, 0, 7)7 : BIC Calculated =18953.20231761504\n",
      "SARIMAX (1, 2, 0) x (0, 2, 1, 7)7 : BIC Calculated =17209.09201980273\n"
     ]
    },
    {
     "name": "stderr",
     "output_type": "stream",
     "text": [
      "/Users/marianafaria/opt/anaconda3/lib/python3.8/site-packages/statsmodels/base/model.py:566: ConvergenceWarning:\n",
      "\n",
      "Maximum Likelihood optimization failed to converge. Check mle_retvals\n",
      "\n"
     ]
    },
    {
     "name": "stdout",
     "output_type": "stream",
     "text": [
      "SARIMAX (1, 2, 0) x (0, 2, 2, 7)7 : BIC Calculated =16276.592089196796\n",
      "SARIMAX (1, 2, 0) x (1, 0, 0, 7)7 : BIC Calculated =16357.729736971296\n",
      "SARIMAX (1, 2, 0) x (1, 0, 1, 7)7 : BIC Calculated =16296.224750121219\n"
     ]
    },
    {
     "name": "stderr",
     "output_type": "stream",
     "text": [
      "/Users/marianafaria/opt/anaconda3/lib/python3.8/site-packages/statsmodels/base/model.py:566: ConvergenceWarning:\n",
      "\n",
      "Maximum Likelihood optimization failed to converge. Check mle_retvals\n",
      "\n"
     ]
    },
    {
     "name": "stdout",
     "output_type": "stream",
     "text": [
      "SARIMAX (1, 2, 0) x (1, 0, 2, 7)7 : BIC Calculated =16293.536825426176\n",
      "SARIMAX (1, 2, 0) x (1, 1, 0, 7)7 : BIC Calculated =16854.888118229766\n",
      "SARIMAX (1, 2, 0) x (1, 1, 1, 7)7 : BIC Calculated =16237.090125798539\n"
     ]
    },
    {
     "name": "stderr",
     "output_type": "stream",
     "text": [
      "/Users/marianafaria/opt/anaconda3/lib/python3.8/site-packages/statsmodels/base/model.py:566: ConvergenceWarning:\n",
      "\n",
      "Maximum Likelihood optimization failed to converge. Check mle_retvals\n",
      "\n"
     ]
    },
    {
     "name": "stdout",
     "output_type": "stream",
     "text": [
      "SARIMAX (1, 2, 0) x (1, 1, 2, 7)7 : BIC Calculated =16242.416148546943\n",
      "SARIMAX (1, 2, 0) x (1, 2, 0, 7)7 : BIC Calculated =18111.441815974817\n",
      "SARIMAX (1, 2, 0) x (1, 2, 1, 7)7 : BIC Calculated =16843.375804725616\n"
     ]
    },
    {
     "name": "stderr",
     "output_type": "stream",
     "text": [
      "/Users/marianafaria/opt/anaconda3/lib/python3.8/site-packages/statsmodels/base/model.py:566: ConvergenceWarning:\n",
      "\n",
      "Maximum Likelihood optimization failed to converge. Check mle_retvals\n",
      "\n"
     ]
    },
    {
     "name": "stdout",
     "output_type": "stream",
     "text": [
      "SARIMAX (1, 2, 0) x (1, 2, 2, 7)7 : BIC Calculated =16275.612759885827\n",
      "SARIMAX (1, 2, 0) x (2, 0, 0, 7)7 : BIC Calculated =16362.7830154993\n"
     ]
    },
    {
     "name": "stderr",
     "output_type": "stream",
     "text": [
      "/Users/marianafaria/opt/anaconda3/lib/python3.8/site-packages/statsmodels/base/model.py:566: ConvergenceWarning:\n",
      "\n",
      "Maximum Likelihood optimization failed to converge. Check mle_retvals\n",
      "\n"
     ]
    },
    {
     "name": "stdout",
     "output_type": "stream",
     "text": [
      "SARIMAX (1, 2, 0) x (2, 0, 1, 7)7 : BIC Calculated =16293.856019605222\n"
     ]
    },
    {
     "name": "stderr",
     "output_type": "stream",
     "text": [
      "/Users/marianafaria/opt/anaconda3/lib/python3.8/site-packages/statsmodels/base/model.py:566: ConvergenceWarning:\n",
      "\n",
      "Maximum Likelihood optimization failed to converge. Check mle_retvals\n",
      "\n"
     ]
    },
    {
     "name": "stdout",
     "output_type": "stream",
     "text": [
      "SARIMAX (1, 2, 0) x (2, 0, 2, 7)7 : BIC Calculated =16299.564531452306\n",
      "SARIMAX (1, 2, 0) x (2, 1, 0, 7)7 : BIC Calculated =16643.393943080166\n",
      "SARIMAX (1, 2, 0) x (2, 1, 1, 7)7 : BIC Calculated =16243.87307970533\n"
     ]
    },
    {
     "name": "stderr",
     "output_type": "stream",
     "text": [
      "/Users/marianafaria/opt/anaconda3/lib/python3.8/site-packages/statsmodels/base/model.py:566: ConvergenceWarning:\n",
      "\n",
      "Maximum Likelihood optimization failed to converge. Check mle_retvals\n",
      "\n"
     ]
    },
    {
     "name": "stdout",
     "output_type": "stream",
     "text": [
      "SARIMAX (1, 2, 0) x (2, 1, 2, 7)7 : BIC Calculated =16251.149792779324\n",
      "SARIMAX (1, 2, 0) x (2, 2, 0, 7)7 : BIC Calculated =17601.02102953028\n",
      "SARIMAX (1, 2, 0) x (2, 2, 1, 7)7 : BIC Calculated =16636.947918531085\n"
     ]
    },
    {
     "name": "stderr",
     "output_type": "stream",
     "text": [
      "/Users/marianafaria/opt/anaconda3/lib/python3.8/site-packages/statsmodels/base/model.py:566: ConvergenceWarning:\n",
      "\n",
      "Maximum Likelihood optimization failed to converge. Check mle_retvals\n",
      "\n"
     ]
    },
    {
     "name": "stdout",
     "output_type": "stream",
     "text": [
      "SARIMAX (1, 2, 0) x (2, 2, 2, 7)7 : BIC Calculated =16294.416699061852\n"
     ]
    },
    {
     "name": "stderr",
     "output_type": "stream",
     "text": [
      "/Users/marianafaria/opt/anaconda3/lib/python3.8/site-packages/statsmodels/base/model.py:566: ConvergenceWarning:\n",
      "\n",
      "Maximum Likelihood optimization failed to converge. Check mle_retvals\n",
      "\n"
     ]
    },
    {
     "name": "stdout",
     "output_type": "stream",
     "text": [
      "SARIMAX (1, 2, 1) x (0, 0, 0, 7)7 : BIC Calculated =15081.986909780495\n"
     ]
    },
    {
     "name": "stderr",
     "output_type": "stream",
     "text": [
      "/Users/marianafaria/opt/anaconda3/lib/python3.8/site-packages/statsmodels/base/model.py:566: ConvergenceWarning:\n",
      "\n",
      "Maximum Likelihood optimization failed to converge. Check mle_retvals\n",
      "\n"
     ]
    },
    {
     "name": "stdout",
     "output_type": "stream",
     "text": [
      "SARIMAX (1, 2, 1) x (0, 0, 1, 7)7 : BIC Calculated =15054.917553450203\n"
     ]
    },
    {
     "name": "stderr",
     "output_type": "stream",
     "text": [
      "/Users/marianafaria/opt/anaconda3/lib/python3.8/site-packages/statsmodels/base/model.py:566: ConvergenceWarning:\n",
      "\n",
      "Maximum Likelihood optimization failed to converge. Check mle_retvals\n",
      "\n"
     ]
    },
    {
     "name": "stdout",
     "output_type": "stream",
     "text": [
      "SARIMAX (1, 2, 1) x (0, 0, 2, 7)7 : BIC Calculated =15060.23688375492\n",
      "SARIMAX (1, 2, 1) x (0, 1, 0, 7)7 : BIC Calculated =15916.543858651065\n",
      "SARIMAX (1, 2, 1) x (0, 1, 1, 7)7 : BIC Calculated =14920.713907191028\n"
     ]
    },
    {
     "name": "stderr",
     "output_type": "stream",
     "text": [
      "/Users/marianafaria/opt/anaconda3/lib/python3.8/site-packages/statsmodels/base/model.py:566: ConvergenceWarning:\n",
      "\n",
      "Maximum Likelihood optimization failed to converge. Check mle_retvals\n",
      "\n"
     ]
    },
    {
     "name": "stdout",
     "output_type": "stream",
     "text": [
      "SARIMAX (1, 2, 1) x (0, 1, 2, 7)7 : BIC Calculated =14919.62078533568\n",
      "SARIMAX (1, 2, 1) x (0, 2, 0, 7)7 : BIC Calculated =17652.4805065515\n",
      "SARIMAX (1, 2, 1) x (0, 2, 1, 7)7 : BIC Calculated =15912.180736006705\n",
      "SARIMAX (1, 2, 1) x (0, 2, 2, 7)7 : BIC Calculated =14993.757912956762\n"
     ]
    },
    {
     "name": "stderr",
     "output_type": "stream",
     "text": [
      "/Users/marianafaria/opt/anaconda3/lib/python3.8/site-packages/statsmodels/base/model.py:566: ConvergenceWarning:\n",
      "\n",
      "Maximum Likelihood optimization failed to converge. Check mle_retvals\n",
      "\n"
     ]
    },
    {
     "name": "stdout",
     "output_type": "stream",
     "text": [
      "SARIMAX (1, 2, 1) x (1, 0, 0, 7)7 : BIC Calculated =15051.538084051512\n",
      "SARIMAX (1, 2, 1) x (1, 0, 1, 7)7 : BIC Calculated =14966.782169649236\n"
     ]
    },
    {
     "name": "stderr",
     "output_type": "stream",
     "text": [
      "/Users/marianafaria/opt/anaconda3/lib/python3.8/site-packages/statsmodels/base/model.py:566: ConvergenceWarning:\n",
      "\n",
      "Maximum Likelihood optimization failed to converge. Check mle_retvals\n",
      "\n"
     ]
    },
    {
     "name": "stdout",
     "output_type": "stream",
     "text": [
      "SARIMAX (1, 2, 1) x (1, 0, 2, 7)7 : BIC Calculated =14966.361330449861\n"
     ]
    },
    {
     "name": "stderr",
     "output_type": "stream",
     "text": [
      "/Users/marianafaria/opt/anaconda3/lib/python3.8/site-packages/statsmodels/base/model.py:566: ConvergenceWarning:\n",
      "\n",
      "Maximum Likelihood optimization failed to converge. Check mle_retvals\n",
      "\n"
     ]
    },
    {
     "name": "stdout",
     "output_type": "stream",
     "text": [
      "SARIMAX (1, 2, 1) x (1, 1, 0, 7)7 : BIC Calculated =15534.775419919362\n",
      "SARIMAX (1, 2, 1) x (1, 1, 1, 7)7 : BIC Calculated =14919.915840939188\n"
     ]
    },
    {
     "name": "stderr",
     "output_type": "stream",
     "text": [
      "/Users/marianafaria/opt/anaconda3/lib/python3.8/site-packages/statsmodels/base/model.py:566: ConvergenceWarning:\n",
      "\n",
      "Maximum Likelihood optimization failed to converge. Check mle_retvals\n",
      "\n"
     ]
    },
    {
     "name": "stdout",
     "output_type": "stream",
     "text": [
      "SARIMAX (1, 2, 1) x (1, 1, 2, 7)7 : BIC Calculated =14924.66000597469\n"
     ]
    },
    {
     "name": "stderr",
     "output_type": "stream",
     "text": [
      "/Users/marianafaria/opt/anaconda3/lib/python3.8/site-packages/statsmodels/base/model.py:566: ConvergenceWarning:\n",
      "\n",
      "Maximum Likelihood optimization failed to converge. Check mle_retvals\n",
      "\n"
     ]
    },
    {
     "name": "stdout",
     "output_type": "stream",
     "text": [
      "SARIMAX (1, 2, 1) x (1, 2, 0, 7)7 : BIC Calculated =16802.58770308032\n",
      "SARIMAX (1, 2, 1) x (1, 2, 1, 7)7 : BIC Calculated =15537.316508120995\n",
      "SARIMAX (1, 2, 1) x (1, 2, 2, 7)7 : BIC Calculated =14999.665008492002\n"
     ]
    },
    {
     "name": "stderr",
     "output_type": "stream",
     "text": [
      "/Users/marianafaria/opt/anaconda3/lib/python3.8/site-packages/statsmodels/base/model.py:566: ConvergenceWarning:\n",
      "\n",
      "Maximum Likelihood optimization failed to converge. Check mle_retvals\n",
      "\n"
     ]
    },
    {
     "name": "stdout",
     "output_type": "stream",
     "text": [
      "SARIMAX (1, 2, 1) x (2, 0, 0, 7)7 : BIC Calculated =15055.535424325108\n",
      "SARIMAX (1, 2, 1) x (2, 0, 1, 7)7 : BIC Calculated =14966.892991005763\n"
     ]
    },
    {
     "name": "stderr",
     "output_type": "stream",
     "text": [
      "/Users/marianafaria/opt/anaconda3/lib/python3.8/site-packages/statsmodels/base/model.py:566: ConvergenceWarning:\n",
      "\n",
      "Maximum Likelihood optimization failed to converge. Check mle_retvals\n",
      "\n"
     ]
    },
    {
     "name": "stdout",
     "output_type": "stream",
     "text": [
      "SARIMAX (1, 2, 1) x (2, 0, 2, 7)7 : BIC Calculated =14970.694165591241\n"
     ]
    },
    {
     "name": "stderr",
     "output_type": "stream",
     "text": [
      "/Users/marianafaria/opt/anaconda3/lib/python3.8/site-packages/statsmodels/base/model.py:566: ConvergenceWarning:\n",
      "\n",
      "Maximum Likelihood optimization failed to converge. Check mle_retvals\n",
      "\n"
     ]
    },
    {
     "name": "stdout",
     "output_type": "stream",
     "text": [
      "SARIMAX (1, 2, 1) x (2, 1, 0, 7)7 : BIC Calculated =15321.893861089387\n"
     ]
    },
    {
     "name": "stderr",
     "output_type": "stream",
     "text": [
      "/Users/marianafaria/opt/anaconda3/lib/python3.8/site-packages/statsmodels/base/model.py:566: ConvergenceWarning:\n",
      "\n",
      "Maximum Likelihood optimization failed to converge. Check mle_retvals\n",
      "\n"
     ]
    },
    {
     "name": "stdout",
     "output_type": "stream",
     "text": [
      "SARIMAX (1, 2, 1) x (2, 1, 1, 7)7 : BIC Calculated =14926.894985198931\n"
     ]
    },
    {
     "name": "stderr",
     "output_type": "stream",
     "text": [
      "/Users/marianafaria/opt/anaconda3/lib/python3.8/site-packages/statsmodels/base/model.py:566: ConvergenceWarning:\n",
      "\n",
      "Maximum Likelihood optimization failed to converge. Check mle_retvals\n",
      "\n"
     ]
    },
    {
     "name": "stdout",
     "output_type": "stream",
     "text": [
      "SARIMAX (1, 2, 1) x (2, 1, 2, 7)7 : BIC Calculated =14934.285379211347\n",
      "SARIMAX (1, 2, 1) x (2, 2, 0, 7)7 : BIC Calculated =16293.054690173885\n"
     ]
    },
    {
     "name": "stderr",
     "output_type": "stream",
     "text": [
      "/Users/marianafaria/opt/anaconda3/lib/python3.8/site-packages/statsmodels/base/model.py:566: ConvergenceWarning:\n",
      "\n",
      "Maximum Likelihood optimization failed to converge. Check mle_retvals\n",
      "\n"
     ]
    },
    {
     "name": "stdout",
     "output_type": "stream",
     "text": [
      "SARIMAX (1, 2, 1) x (2, 2, 1, 7)7 : BIC Calculated =15329.665993115914\n"
     ]
    },
    {
     "name": "stderr",
     "output_type": "stream",
     "text": [
      "/Users/marianafaria/opt/anaconda3/lib/python3.8/site-packages/statsmodels/base/model.py:566: ConvergenceWarning:\n",
      "\n",
      "Maximum Likelihood optimization failed to converge. Check mle_retvals\n",
      "\n"
     ]
    },
    {
     "name": "stdout",
     "output_type": "stream",
     "text": [
      "SARIMAX (1, 2, 2) x (0, 0, 0, 7)7 : BIC Calculated =14624.340522371276\n"
     ]
    },
    {
     "name": "stderr",
     "output_type": "stream",
     "text": [
      "/Users/marianafaria/opt/anaconda3/lib/python3.8/site-packages/statsmodels/base/model.py:566: ConvergenceWarning:\n",
      "\n",
      "Maximum Likelihood optimization failed to converge. Check mle_retvals\n",
      "\n"
     ]
    },
    {
     "name": "stdout",
     "output_type": "stream",
     "text": [
      "SARIMAX (1, 2, 2) x (0, 0, 1, 7)7 : BIC Calculated =14608.281616591494\n"
     ]
    },
    {
     "name": "stderr",
     "output_type": "stream",
     "text": [
      "/Users/marianafaria/opt/anaconda3/lib/python3.8/site-packages/statsmodels/base/model.py:566: ConvergenceWarning:\n",
      "\n",
      "Maximum Likelihood optimization failed to converge. Check mle_retvals\n",
      "\n"
     ]
    },
    {
     "name": "stdout",
     "output_type": "stream",
     "text": [
      "SARIMAX (1, 2, 2) x (0, 0, 2, 7)7 : BIC Calculated =14619.270206100518\n",
      "SARIMAX (1, 2, 2) x (0, 1, 0, 7)7 : BIC Calculated =15414.731141285029\n",
      "SARIMAX (1, 2, 2) x (0, 1, 1, 7)7 : BIC Calculated =14504.19644728831\n"
     ]
    },
    {
     "name": "stderr",
     "output_type": "stream",
     "text": [
      "/Users/marianafaria/opt/anaconda3/lib/python3.8/site-packages/statsmodels/base/model.py:566: ConvergenceWarning:\n",
      "\n",
      "Maximum Likelihood optimization failed to converge. Check mle_retvals\n",
      "\n"
     ]
    },
    {
     "name": "stdout",
     "output_type": "stream",
     "text": [
      "SARIMAX (1, 2, 2) x (0, 1, 2, 7)7 : BIC Calculated =14502.266686770781\n",
      "SARIMAX (1, 2, 2) x (0, 2, 0, 7)7 : BIC Calculated =17107.479324586817\n",
      "SARIMAX (1, 2, 2) x (0, 2, 1, 7)7 : BIC Calculated =15436.781307312342\n"
     ]
    },
    {
     "name": "stderr",
     "output_type": "stream",
     "text": [
      "/Users/marianafaria/opt/anaconda3/lib/python3.8/site-packages/statsmodels/base/model.py:566: ConvergenceWarning:\n",
      "\n",
      "Maximum Likelihood optimization failed to converge. Check mle_retvals\n",
      "\n"
     ]
    },
    {
     "name": "stdout",
     "output_type": "stream",
     "text": [
      "SARIMAX (1, 2, 2) x (0, 2, 2, 7)7 : BIC Calculated =14595.838355746806\n"
     ]
    },
    {
     "name": "stderr",
     "output_type": "stream",
     "text": [
      "/Users/marianafaria/opt/anaconda3/lib/python3.8/site-packages/statsmodels/base/model.py:566: ConvergenceWarning:\n",
      "\n",
      "Maximum Likelihood optimization failed to converge. Check mle_retvals\n",
      "\n"
     ]
    },
    {
     "name": "stdout",
     "output_type": "stream",
     "text": [
      "SARIMAX (1, 2, 2) x (1, 0, 0, 7)7 : BIC Calculated =14607.302519955161\n"
     ]
    },
    {
     "name": "stderr",
     "output_type": "stream",
     "text": [
      "/Users/marianafaria/opt/anaconda3/lib/python3.8/site-packages/statsmodels/base/model.py:566: ConvergenceWarning:\n",
      "\n",
      "Maximum Likelihood optimization failed to converge. Check mle_retvals\n",
      "\n"
     ]
    },
    {
     "name": "stdout",
     "output_type": "stream",
     "text": [
      "SARIMAX (1, 2, 2) x (1, 0, 1, 7)7 : BIC Calculated =14550.177858023795\n",
      "SARIMAX (1, 2, 2) x (1, 0, 2, 7)7 : BIC Calculated =14553.471177781705\n"
     ]
    },
    {
     "name": "stderr",
     "output_type": "stream",
     "text": [
      "/Users/marianafaria/opt/anaconda3/lib/python3.8/site-packages/statsmodels/base/model.py:566: ConvergenceWarning:\n",
      "\n",
      "Maximum Likelihood optimization failed to converge. Check mle_retvals\n",
      "\n"
     ]
    },
    {
     "name": "stdout",
     "output_type": "stream",
     "text": [
      "SARIMAX (1, 2, 2) x (1, 1, 0, 7)7 : BIC Calculated =15094.631452468959\n",
      "SARIMAX (1, 2, 2) x (1, 1, 1, 7)7 : BIC Calculated =14502.871572632588\n",
      "SARIMAX (1, 2, 2) x (1, 1, 2, 7)7 : BIC Calculated =14513.882824089722\n",
      "SARIMAX (1, 2, 2) x (1, 2, 0, 7)7 : BIC Calculated =16284.487253735573\n",
      "SARIMAX (1, 2, 2) x (1, 2, 1, 7)7 : BIC Calculated =15126.33112160508\n",
      "SARIMAX (1, 2, 2) x (1, 2, 2, 7)7 : BIC Calculated =14956.456725039861\n"
     ]
    },
    {
     "name": "stderr",
     "output_type": "stream",
     "text": [
      "/Users/marianafaria/opt/anaconda3/lib/python3.8/site-packages/statsmodels/base/model.py:566: ConvergenceWarning:\n",
      "\n",
      "Maximum Likelihood optimization failed to converge. Check mle_retvals\n",
      "\n"
     ]
    },
    {
     "name": "stdout",
     "output_type": "stream",
     "text": [
      "SARIMAX (1, 2, 2) x (2, 0, 0, 7)7 : BIC Calculated =14613.417860765687\n",
      "SARIMAX (1, 2, 2) x (2, 0, 1, 7)7 : BIC Calculated =14552.706227524888\n"
     ]
    },
    {
     "name": "stderr",
     "output_type": "stream",
     "text": [
      "/Users/marianafaria/opt/anaconda3/lib/python3.8/site-packages/statsmodels/base/model.py:566: ConvergenceWarning:\n",
      "\n",
      "Maximum Likelihood optimization failed to converge. Check mle_retvals\n",
      "\n"
     ]
    },
    {
     "name": "stdout",
     "output_type": "stream",
     "text": [
      "SARIMAX (1, 2, 2) x (2, 0, 2, 7)7 : BIC Calculated =14563.850479545583\n"
     ]
    },
    {
     "name": "stderr",
     "output_type": "stream",
     "text": [
      "/Users/marianafaria/opt/anaconda3/lib/python3.8/site-packages/statsmodels/base/model.py:566: ConvergenceWarning:\n",
      "\n",
      "Maximum Likelihood optimization failed to converge. Check mle_retvals\n",
      "\n"
     ]
    },
    {
     "name": "stdout",
     "output_type": "stream",
     "text": [
      "SARIMAX (1, 2, 2) x (2, 1, 0, 7)7 : BIC Calculated =14918.008427950967\n"
     ]
    },
    {
     "name": "stderr",
     "output_type": "stream",
     "text": [
      "/Users/marianafaria/opt/anaconda3/lib/python3.8/site-packages/statsmodels/base/model.py:566: ConvergenceWarning:\n",
      "\n",
      "Maximum Likelihood optimization failed to converge. Check mle_retvals\n",
      "\n"
     ]
    },
    {
     "name": "stdout",
     "output_type": "stream",
     "text": [
      "SARIMAX (1, 2, 2) x (2, 1, 1, 7)7 : BIC Calculated =14511.64776207055\n",
      "SARIMAX (1, 2, 2) x (2, 1, 2, 7)7 : BIC Calculated =14517.233648972091\n"
     ]
    },
    {
     "name": "stderr",
     "output_type": "stream",
     "text": [
      "/Users/marianafaria/opt/anaconda3/lib/python3.8/site-packages/statsmodels/base/model.py:566: ConvergenceWarning:\n",
      "\n",
      "Maximum Likelihood optimization failed to converge. Check mle_retvals\n",
      "\n"
     ]
    },
    {
     "name": "stdout",
     "output_type": "stream",
     "text": [
      "SARIMAX (1, 2, 2) x (2, 2, 0, 7)7 : BIC Calculated =15818.603407100569\n",
      "SARIMAX (1, 2, 2) x (2, 2, 1, 7)7 : BIC Calculated =14931.57775401908\n"
     ]
    },
    {
     "name": "stderr",
     "output_type": "stream",
     "text": [
      "/Users/marianafaria/opt/anaconda3/lib/python3.8/site-packages/statsmodels/base/model.py:566: ConvergenceWarning:\n",
      "\n",
      "Maximum Likelihood optimization failed to converge. Check mle_retvals\n",
      "\n"
     ]
    },
    {
     "name": "stdout",
     "output_type": "stream",
     "text": [
      "SARIMAX (1, 2, 2) x (2, 2, 2, 7)7 : BIC Calculated =14669.496490485653\n",
      "SARIMAX (2, 0, 0) x (0, 0, 0, 7)7 : BIC Calculated =15091.62718191031\n"
     ]
    },
    {
     "name": "stderr",
     "output_type": "stream",
     "text": [
      "/Users/marianafaria/opt/anaconda3/lib/python3.8/site-packages/statsmodels/base/model.py:566: ConvergenceWarning:\n",
      "\n",
      "Maximum Likelihood optimization failed to converge. Check mle_retvals\n",
      "\n"
     ]
    },
    {
     "name": "stdout",
     "output_type": "stream",
     "text": [
      "SARIMAX (2, 0, 0) x (0, 0, 1, 7)7 : BIC Calculated =15066.477280458863\n"
     ]
    },
    {
     "name": "stderr",
     "output_type": "stream",
     "text": [
      "/Users/marianafaria/opt/anaconda3/lib/python3.8/site-packages/statsmodels/base/model.py:566: ConvergenceWarning:\n",
      "\n",
      "Maximum Likelihood optimization failed to converge. Check mle_retvals\n",
      "\n"
     ]
    },
    {
     "name": "stdout",
     "output_type": "stream",
     "text": [
      "SARIMAX (2, 0, 0) x (0, 0, 2, 7)7 : BIC Calculated =15069.665856387714\n",
      "SARIMAX (2, 0, 0) x (0, 1, 0, 7)7 : BIC Calculated =15385.806941211444\n",
      "SARIMAX (2, 0, 0) x (0, 1, 1, 7)7 : BIC Calculated =14700.492204040418\n",
      "SARIMAX (2, 0, 0) x (0, 1, 2, 7)7 : BIC Calculated =14696.054369755258\n",
      "SARIMAX (2, 0, 0) x (0, 2, 0, 7)7 : BIC Calculated =17088.496610009304\n",
      "SARIMAX (2, 0, 0) x (0, 2, 1, 7)7 : BIC Calculated =15375.356476544215\n"
     ]
    },
    {
     "name": "stderr",
     "output_type": "stream",
     "text": [
      "/Users/marianafaria/opt/anaconda3/lib/python3.8/site-packages/statsmodels/base/model.py:566: ConvergenceWarning:\n",
      "\n",
      "Maximum Likelihood optimization failed to converge. Check mle_retvals\n",
      "\n"
     ]
    },
    {
     "name": "stdout",
     "output_type": "stream",
     "text": [
      "SARIMAX (2, 0, 0) x (0, 2, 2, 7)7 : BIC Calculated =14718.269005817121\n"
     ]
    },
    {
     "name": "stderr",
     "output_type": "stream",
     "text": [
      "/Users/marianafaria/opt/anaconda3/lib/python3.8/site-packages/statsmodels/base/model.py:566: ConvergenceWarning:\n",
      "\n",
      "Maximum Likelihood optimization failed to converge. Check mle_retvals\n",
      "\n"
     ]
    },
    {
     "name": "stdout",
     "output_type": "stream",
     "text": [
      "SARIMAX (2, 0, 0) x (1, 0, 0, 7)7 : BIC Calculated =15448.791810836192\n"
     ]
    },
    {
     "name": "stderr",
     "output_type": "stream",
     "text": [
      "/Users/marianafaria/opt/anaconda3/lib/python3.8/site-packages/statsmodels/base/model.py:566: ConvergenceWarning:\n",
      "\n",
      "Maximum Likelihood optimization failed to converge. Check mle_retvals\n",
      "\n"
     ]
    },
    {
     "name": "stdout",
     "output_type": "stream",
     "text": [
      "SARIMAX (2, 0, 0) x (1, 0, 1, 7)7 : BIC Calculated =14787.461017325886\n"
     ]
    },
    {
     "name": "stderr",
     "output_type": "stream",
     "text": [
      "/Users/marianafaria/opt/anaconda3/lib/python3.8/site-packages/statsmodels/base/model.py:566: ConvergenceWarning:\n",
      "\n",
      "Maximum Likelihood optimization failed to converge. Check mle_retvals\n",
      "\n"
     ]
    },
    {
     "name": "stdout",
     "output_type": "stream",
     "text": [
      "SARIMAX (2, 0, 0) x (1, 0, 2, 7)7 : BIC Calculated =14784.58026293403\n",
      "SARIMAX (2, 0, 0) x (1, 1, 0, 7)7 : BIC Calculated =15053.704647018736\n",
      "SARIMAX (2, 0, 0) x (1, 1, 1, 7)7 : BIC Calculated =14695.877637301202\n",
      "SARIMAX (2, 0, 0) x (1, 1, 2, 7)7 : BIC Calculated =14703.458500304905\n",
      "SARIMAX (2, 0, 0) x (1, 2, 0, 7)7 : BIC Calculated =16257.975862510686\n"
     ]
    },
    {
     "name": "stderr",
     "output_type": "stream",
     "text": [
      "/Users/marianafaria/opt/anaconda3/lib/python3.8/site-packages/statsmodels/base/model.py:566: ConvergenceWarning:\n",
      "\n",
      "Maximum Likelihood optimization failed to converge. Check mle_retvals\n",
      "\n"
     ]
    },
    {
     "name": "stdout",
     "output_type": "stream",
     "text": [
      "SARIMAX (2, 0, 0) x (1, 2, 1, 7)7 : BIC Calculated =15049.54084506638\n"
     ]
    },
    {
     "name": "stderr",
     "output_type": "stream",
     "text": [
      "/Users/marianafaria/opt/anaconda3/lib/python3.8/site-packages/statsmodels/base/model.py:566: ConvergenceWarning:\n",
      "\n",
      "Maximum Likelihood optimization failed to converge. Check mle_retvals\n",
      "\n"
     ]
    },
    {
     "name": "stdout",
     "output_type": "stream",
     "text": [
      "SARIMAX (2, 0, 0) x (1, 2, 2, 7)7 : BIC Calculated =14722.369196095719\n"
     ]
    },
    {
     "name": "stderr",
     "output_type": "stream",
     "text": [
      "/Users/marianafaria/opt/anaconda3/lib/python3.8/site-packages/statsmodels/base/model.py:566: ConvergenceWarning:\n",
      "\n",
      "Maximum Likelihood optimization failed to converge. Check mle_retvals\n",
      "\n"
     ]
    },
    {
     "name": "stdout",
     "output_type": "stream",
     "text": [
      "SARIMAX (2, 0, 0) x (2, 0, 0, 7)7 : BIC Calculated =15156.925519050974\n"
     ]
    },
    {
     "name": "stderr",
     "output_type": "stream",
     "text": [
      "/Users/marianafaria/opt/anaconda3/lib/python3.8/site-packages/statsmodels/base/model.py:566: ConvergenceWarning:\n",
      "\n",
      "Maximum Likelihood optimization failed to converge. Check mle_retvals\n",
      "\n"
     ]
    },
    {
     "name": "stdout",
     "output_type": "stream",
     "text": [
      "SARIMAX (2, 0, 0) x (2, 0, 1, 7)7 : BIC Calculated =14784.11141064818\n"
     ]
    },
    {
     "name": "stderr",
     "output_type": "stream",
     "text": [
      "/Users/marianafaria/opt/anaconda3/lib/python3.8/site-packages/statsmodels/base/model.py:566: ConvergenceWarning:\n",
      "\n",
      "Maximum Likelihood optimization failed to converge. Check mle_retvals\n",
      "\n"
     ]
    },
    {
     "name": "stdout",
     "output_type": "stream",
     "text": [
      "SARIMAX (2, 0, 0) x (2, 0, 2, 7)7 : BIC Calculated =14827.57919256362\n",
      "SARIMAX (2, 0, 0) x (2, 1, 0, 7)7 : BIC Calculated =14889.438629860337\n",
      "SARIMAX (2, 0, 0) x (2, 1, 1, 7)7 : BIC Calculated =14703.181907717868\n"
     ]
    },
    {
     "name": "stderr",
     "output_type": "stream",
     "text": [
      "/Users/marianafaria/opt/anaconda3/lib/python3.8/site-packages/statsmodels/base/model.py:566: ConvergenceWarning:\n",
      "\n",
      "Maximum Likelihood optimization failed to converge. Check mle_retvals\n",
      "\n"
     ]
    },
    {
     "name": "stdout",
     "output_type": "stream",
     "text": [
      "SARIMAX (2, 0, 0) x (2, 1, 2, 7)7 : BIC Calculated =14709.370563219549\n",
      "SARIMAX (2, 0, 0) x (2, 2, 0, 7)7 : BIC Calculated =15787.218167681998\n",
      "SARIMAX (2, 0, 0) x (2, 2, 1, 7)7 : BIC Calculated =14889.900740903857\n"
     ]
    },
    {
     "name": "stderr",
     "output_type": "stream",
     "text": [
      "/Users/marianafaria/opt/anaconda3/lib/python3.8/site-packages/statsmodels/base/model.py:566: ConvergenceWarning:\n",
      "\n",
      "Maximum Likelihood optimization failed to converge. Check mle_retvals\n",
      "\n"
     ]
    },
    {
     "name": "stdout",
     "output_type": "stream",
     "text": [
      "SARIMAX (2, 0, 0) x (2, 2, 2, 7)7 : BIC Calculated =14748.181700787454\n",
      "SARIMAX (2, 0, 1) x (0, 0, 0, 7)7 : BIC Calculated =15464.6767569619\n"
     ]
    },
    {
     "name": "stderr",
     "output_type": "stream",
     "text": [
      "/Users/marianafaria/opt/anaconda3/lib/python3.8/site-packages/statsmodels/base/model.py:566: ConvergenceWarning:\n",
      "\n",
      "Maximum Likelihood optimization failed to converge. Check mle_retvals\n",
      "\n"
     ]
    },
    {
     "name": "stdout",
     "output_type": "stream",
     "text": [
      "SARIMAX (2, 0, 1) x (0, 0, 1, 7)7 : BIC Calculated =15462.605712757193\n",
      "SARIMAX (2, 0, 1) x (0, 0, 2, 7)7 : BIC Calculated =15465.43509903037\n",
      "SARIMAX (2, 0, 1) x (0, 1, 0, 7)7 : BIC Calculated =15393.532451034696\n",
      "SARIMAX (2, 0, 1) x (0, 1, 1, 7)7 : BIC Calculated =14479.42663838708\n",
      "SARIMAX (2, 0, 1) x (0, 1, 2, 7)7 : BIC Calculated =14482.47396181638\n",
      "SARIMAX (2, 0, 1) x (0, 2, 0, 7)7 : BIC Calculated =17094.726311355473\n",
      "SARIMAX (2, 0, 1) x (0, 2, 1, 7)7 : BIC Calculated =15377.108917996384\n"
     ]
    },
    {
     "name": "stderr",
     "output_type": "stream",
     "text": [
      "/Users/marianafaria/opt/anaconda3/lib/python3.8/site-packages/statsmodels/base/model.py:566: ConvergenceWarning:\n",
      "\n",
      "Maximum Likelihood optimization failed to converge. Check mle_retvals\n",
      "\n"
     ]
    },
    {
     "name": "stdout",
     "output_type": "stream",
     "text": [
      "SARIMAX (2, 0, 1) x (0, 2, 2, 7)7 : BIC Calculated =14519.243104779045\n"
     ]
    },
    {
     "name": "stderr",
     "output_type": "stream",
     "text": [
      "/Users/marianafaria/opt/anaconda3/lib/python3.8/site-packages/statsmodels/base/model.py:566: ConvergenceWarning:\n",
      "\n",
      "Maximum Likelihood optimization failed to converge. Check mle_retvals\n",
      "\n"
     ]
    },
    {
     "name": "stdout",
     "output_type": "stream",
     "text": [
      "SARIMAX (2, 0, 1) x (1, 0, 0, 7)7 : BIC Calculated =15465.535430547463\n"
     ]
    },
    {
     "name": "stderr",
     "output_type": "stream",
     "text": [
      "/Users/marianafaria/opt/anaconda3/lib/python3.8/site-packages/statsmodels/base/model.py:566: ConvergenceWarning:\n",
      "\n",
      "Maximum Likelihood optimization failed to converge. Check mle_retvals\n",
      "\n"
     ]
    },
    {
     "name": "stdout",
     "output_type": "stream",
     "text": [
      "SARIMAX (2, 0, 1) x (1, 0, 1, 7)7 : BIC Calculated =14869.921911673453\n"
     ]
    },
    {
     "name": "stderr",
     "output_type": "stream",
     "text": [
      "/Users/marianafaria/opt/anaconda3/lib/python3.8/site-packages/statsmodels/base/model.py:566: ConvergenceWarning:\n",
      "\n",
      "Maximum Likelihood optimization failed to converge. Check mle_retvals\n",
      "\n"
     ]
    },
    {
     "name": "stdout",
     "output_type": "stream",
     "text": [
      "SARIMAX (2, 0, 1) x (1, 0, 2, 7)7 : BIC Calculated =14870.898928070494\n",
      "SARIMAX (2, 0, 1) x (1, 1, 0, 7)7 : BIC Calculated =15037.401726829883\n",
      "SARIMAX (2, 0, 1) x (1, 1, 1, 7)7 : BIC Calculated =14482.647507024081\n"
     ]
    },
    {
     "name": "stderr",
     "output_type": "stream",
     "text": [
      "/Users/marianafaria/opt/anaconda3/lib/python3.8/site-packages/statsmodels/base/model.py:566: ConvergenceWarning:\n",
      "\n",
      "Maximum Likelihood optimization failed to converge. Check mle_retvals\n",
      "\n"
     ]
    },
    {
     "name": "stdout",
     "output_type": "stream",
     "text": [
      "SARIMAX (2, 0, 1) x (1, 1, 2, 7)7 : BIC Calculated =14488.185910300892\n",
      "SARIMAX (2, 0, 1) x (1, 2, 0, 7)7 : BIC Calculated =16260.792783565616\n"
     ]
    },
    {
     "name": "stderr",
     "output_type": "stream",
     "text": [
      "/Users/marianafaria/opt/anaconda3/lib/python3.8/site-packages/statsmodels/base/model.py:566: ConvergenceWarning:\n",
      "\n",
      "Maximum Likelihood optimization failed to converge. Check mle_retvals\n",
      "\n"
     ]
    },
    {
     "name": "stdout",
     "output_type": "stream",
     "text": [
      "SARIMAX (2, 0, 1) x (1, 2, 1, 7)7 : BIC Calculated =15033.774860734251\n"
     ]
    },
    {
     "name": "stderr",
     "output_type": "stream",
     "text": [
      "/Users/marianafaria/opt/anaconda3/lib/python3.8/site-packages/statsmodels/base/model.py:566: ConvergenceWarning:\n",
      "\n",
      "Maximum Likelihood optimization failed to converge. Check mle_retvals\n",
      "\n"
     ]
    },
    {
     "name": "stdout",
     "output_type": "stream",
     "text": [
      "SARIMAX (2, 0, 1) x (1, 2, 2, 7)7 : BIC Calculated =14536.676850967087\n"
     ]
    },
    {
     "name": "stderr",
     "output_type": "stream",
     "text": [
      "/Users/marianafaria/opt/anaconda3/lib/python3.8/site-packages/statsmodels/base/model.py:566: ConvergenceWarning:\n",
      "\n",
      "Maximum Likelihood optimization failed to converge. Check mle_retvals\n",
      "\n"
     ]
    },
    {
     "name": "stdout",
     "output_type": "stream",
     "text": [
      "SARIMAX (2, 0, 1) x (2, 0, 2, 7)7 : BIC Calculated =14891.265463537127\n",
      "SARIMAX (2, 0, 1) x (2, 1, 0, 7)7 : BIC Calculated =14850.300961457186\n"
     ]
    },
    {
     "name": "stderr",
     "output_type": "stream",
     "text": [
      "/Users/marianafaria/opt/anaconda3/lib/python3.8/site-packages/statsmodels/base/model.py:566: ConvergenceWarning:\n",
      "\n",
      "Maximum Likelihood optimization failed to converge. Check mle_retvals\n",
      "\n"
     ]
    },
    {
     "name": "stdout",
     "output_type": "stream",
     "text": [
      "SARIMAX (2, 0, 1) x (2, 1, 1, 7)7 : BIC Calculated =14489.504364691558\n"
     ]
    },
    {
     "name": "stderr",
     "output_type": "stream",
     "text": [
      "/Users/marianafaria/opt/anaconda3/lib/python3.8/site-packages/statsmodels/base/model.py:566: ConvergenceWarning:\n",
      "\n",
      "Maximum Likelihood optimization failed to converge. Check mle_retvals\n",
      "\n"
     ]
    },
    {
     "name": "stdout",
     "output_type": "stream",
     "text": [
      "SARIMAX (2, 0, 1) x (2, 1, 2, 7)7 : BIC Calculated =14495.03572902404\n",
      "SARIMAX (2, 0, 1) x (2, 2, 0, 7)7 : BIC Calculated =15782.826185052269\n",
      "SARIMAX (2, 0, 1) x (2, 2, 1, 7)7 : BIC Calculated =14850.684746826599\n"
     ]
    },
    {
     "name": "stderr",
     "output_type": "stream",
     "text": [
      "/Users/marianafaria/opt/anaconda3/lib/python3.8/site-packages/statsmodels/base/model.py:566: ConvergenceWarning:\n",
      "\n",
      "Maximum Likelihood optimization failed to converge. Check mle_retvals\n",
      "\n"
     ]
    },
    {
     "name": "stdout",
     "output_type": "stream",
     "text": [
      "SARIMAX (2, 0, 1) x (2, 2, 2, 7)7 : BIC Calculated =14809.050175384233\n"
     ]
    },
    {
     "name": "stderr",
     "output_type": "stream",
     "text": [
      "/Users/marianafaria/opt/anaconda3/lib/python3.8/site-packages/statsmodels/base/model.py:566: ConvergenceWarning:\n",
      "\n",
      "Maximum Likelihood optimization failed to converge. Check mle_retvals\n",
      "\n"
     ]
    },
    {
     "name": "stdout",
     "output_type": "stream",
     "text": [
      "SARIMAX (2, 0, 2) x (0, 0, 0, 7)7 : BIC Calculated =14631.57276368116\n"
     ]
    },
    {
     "name": "stderr",
     "output_type": "stream",
     "text": [
      "/Users/marianafaria/opt/anaconda3/lib/python3.8/site-packages/statsmodels/base/model.py:566: ConvergenceWarning:\n",
      "\n",
      "Maximum Likelihood optimization failed to converge. Check mle_retvals\n",
      "\n"
     ]
    },
    {
     "name": "stdout",
     "output_type": "stream",
     "text": [
      "SARIMAX (2, 0, 2) x (0, 0, 1, 7)7 : BIC Calculated =14626.166874463897\n"
     ]
    },
    {
     "name": "stderr",
     "output_type": "stream",
     "text": [
      "/Users/marianafaria/opt/anaconda3/lib/python3.8/site-packages/statsmodels/base/model.py:566: ConvergenceWarning:\n",
      "\n",
      "Maximum Likelihood optimization failed to converge. Check mle_retvals\n",
      "\n"
     ]
    },
    {
     "name": "stdout",
     "output_type": "stream",
     "text": [
      "SARIMAX (2, 0, 2) x (0, 0, 2, 7)7 : BIC Calculated =14637.364849518404\n"
     ]
    },
    {
     "name": "stderr",
     "output_type": "stream",
     "text": [
      "/Users/marianafaria/opt/anaconda3/lib/python3.8/site-packages/statsmodels/base/model.py:566: ConvergenceWarning:\n",
      "\n",
      "Maximum Likelihood optimization failed to converge. Check mle_retvals\n",
      "\n"
     ]
    },
    {
     "name": "stdout",
     "output_type": "stream",
     "text": [
      "SARIMAX (2, 0, 2) x (0, 1, 0, 7)7 : BIC Calculated =15158.56613727793\n"
     ]
    },
    {
     "name": "stderr",
     "output_type": "stream",
     "text": [
      "/Users/marianafaria/opt/anaconda3/lib/python3.8/site-packages/statsmodels/base/model.py:566: ConvergenceWarning:\n",
      "\n",
      "Maximum Likelihood optimization failed to converge. Check mle_retvals\n",
      "\n"
     ]
    },
    {
     "name": "stdout",
     "output_type": "stream",
     "text": [
      "SARIMAX (2, 0, 2) x (0, 1, 1, 7)7 : BIC Calculated =14485.782676258463\n"
     ]
    },
    {
     "name": "stderr",
     "output_type": "stream",
     "text": [
      "/Users/marianafaria/opt/anaconda3/lib/python3.8/site-packages/statsmodels/base/model.py:566: ConvergenceWarning:\n",
      "\n",
      "Maximum Likelihood optimization failed to converge. Check mle_retvals\n",
      "\n"
     ]
    },
    {
     "name": "stdout",
     "output_type": "stream",
     "text": [
      "SARIMAX (2, 0, 2) x (0, 1, 2, 7)7 : BIC Calculated =14489.158045814092\n"
     ]
    },
    {
     "name": "stderr",
     "output_type": "stream",
     "text": [
      "/Users/marianafaria/opt/anaconda3/lib/python3.8/site-packages/statsmodels/base/model.py:566: ConvergenceWarning:\n",
      "\n",
      "Maximum Likelihood optimization failed to converge. Check mle_retvals\n",
      "\n"
     ]
    },
    {
     "name": "stdout",
     "output_type": "stream",
     "text": [
      "SARIMAX (2, 0, 2) x (0, 2, 0, 7)7 : BIC Calculated =16864.034550323984\n"
     ]
    },
    {
     "name": "stderr",
     "output_type": "stream",
     "text": [
      "/Users/marianafaria/opt/anaconda3/lib/python3.8/site-packages/statsmodels/base/model.py:566: ConvergenceWarning:\n",
      "\n",
      "Maximum Likelihood optimization failed to converge. Check mle_retvals\n",
      "\n"
     ]
    },
    {
     "name": "stdout",
     "output_type": "stream",
     "text": [
      "SARIMAX (2, 0, 2) x (0, 2, 1, 7)7 : BIC Calculated =15163.29376185812\n"
     ]
    },
    {
     "name": "stderr",
     "output_type": "stream",
     "text": [
      "/Users/marianafaria/opt/anaconda3/lib/python3.8/site-packages/statsmodels/base/model.py:566: ConvergenceWarning:\n",
      "\n",
      "Maximum Likelihood optimization failed to converge. Check mle_retvals\n",
      "\n"
     ]
    },
    {
     "name": "stdout",
     "output_type": "stream",
     "text": [
      "SARIMAX (2, 0, 2) x (0, 2, 2, 7)7 : BIC Calculated =14534.179761321948\n",
      "SARIMAX (2, 0, 2) x (1, 0, 0, 7)7 : BIC Calculated =15401.975196072008\n"
     ]
    },
    {
     "name": "stderr",
     "output_type": "stream",
     "text": [
      "/Users/marianafaria/opt/anaconda3/lib/python3.8/site-packages/statsmodels/base/model.py:566: ConvergenceWarning:\n",
      "\n",
      "Maximum Likelihood optimization failed to converge. Check mle_retvals\n",
      "\n"
     ]
    },
    {
     "name": "stdout",
     "output_type": "stream",
     "text": [
      "SARIMAX (2, 0, 2) x (1, 0, 1, 7)7 : BIC Calculated =14560.488653422508\n"
     ]
    },
    {
     "name": "stderr",
     "output_type": "stream",
     "text": [
      "/Users/marianafaria/opt/anaconda3/lib/python3.8/site-packages/statsmodels/base/model.py:566: ConvergenceWarning:\n",
      "\n",
      "Maximum Likelihood optimization failed to converge. Check mle_retvals\n",
      "\n"
     ]
    },
    {
     "name": "stdout",
     "output_type": "stream",
     "text": [
      "SARIMAX (2, 0, 2) x (1, 0, 2, 7)7 : BIC Calculated =14623.211450778941\n"
     ]
    },
    {
     "name": "stderr",
     "output_type": "stream",
     "text": [
      "/Users/marianafaria/opt/anaconda3/lib/python3.8/site-packages/statsmodels/base/model.py:566: ConvergenceWarning:\n",
      "\n",
      "Maximum Likelihood optimization failed to converge. Check mle_retvals\n",
      "\n"
     ]
    },
    {
     "name": "stdout",
     "output_type": "stream",
     "text": [
      "SARIMAX (2, 0, 2) x (1, 1, 0, 7)7 : BIC Calculated =15036.041393741161\n",
      "SARIMAX (2, 0, 2) x (1, 1, 1, 7)7 : BIC Calculated =14489.324152048823\n"
     ]
    },
    {
     "name": "stderr",
     "output_type": "stream",
     "text": [
      "/Users/marianafaria/opt/anaconda3/lib/python3.8/site-packages/statsmodels/base/model.py:566: ConvergenceWarning:\n",
      "\n",
      "Maximum Likelihood optimization failed to converge. Check mle_retvals\n",
      "\n"
     ]
    },
    {
     "name": "stdout",
     "output_type": "stream",
     "text": [
      "SARIMAX (2, 0, 2) x (1, 1, 2, 7)7 : BIC Calculated =14494.76719858946\n"
     ]
    },
    {
     "name": "stderr",
     "output_type": "stream",
     "text": [
      "/Users/marianafaria/opt/anaconda3/lib/python3.8/site-packages/statsmodels/base/model.py:566: ConvergenceWarning:\n",
      "\n",
      "Maximum Likelihood optimization failed to converge. Check mle_retvals\n",
      "\n"
     ]
    },
    {
     "name": "stdout",
     "output_type": "stream",
     "text": [
      "SARIMAX (2, 0, 2) x (1, 2, 0, 7)7 : BIC Calculated =16139.089447517668\n"
     ]
    },
    {
     "name": "stderr",
     "output_type": "stream",
     "text": [
      "/Users/marianafaria/opt/anaconda3/lib/python3.8/site-packages/statsmodels/base/model.py:566: ConvergenceWarning:\n",
      "\n",
      "Maximum Likelihood optimization failed to converge. Check mle_retvals\n",
      "\n"
     ]
    },
    {
     "name": "stdout",
     "output_type": "stream",
     "text": [
      "SARIMAX (2, 0, 2) x (1, 2, 1, 7)7 : BIC Calculated =15032.854410701402\n"
     ]
    },
    {
     "name": "stderr",
     "output_type": "stream",
     "text": [
      "/Users/marianafaria/opt/anaconda3/lib/python3.8/site-packages/statsmodels/base/model.py:566: ConvergenceWarning:\n",
      "\n",
      "Maximum Likelihood optimization failed to converge. Check mle_retvals\n",
      "\n"
     ]
    },
    {
     "name": "stdout",
     "output_type": "stream",
     "text": [
      "SARIMAX (2, 0, 2) x (1, 2, 2, 7)7 : BIC Calculated =14535.985171193572\n"
     ]
    },
    {
     "name": "stderr",
     "output_type": "stream",
     "text": [
      "/Users/marianafaria/opt/anaconda3/lib/python3.8/site-packages/statsmodels/base/model.py:566: ConvergenceWarning:\n",
      "\n",
      "Maximum Likelihood optimization failed to converge. Check mle_retvals\n",
      "\n"
     ]
    },
    {
     "name": "stdout",
     "output_type": "stream",
     "text": [
      "SARIMAX (2, 0, 2) x (2, 0, 0, 7)7 : BIC Calculated =15201.128984208559\n",
      "SARIMAX (2, 0, 2) x (2, 0, 1, 7)7 : BIC Calculated =14586.925366845164\n"
     ]
    },
    {
     "name": "stderr",
     "output_type": "stream",
     "text": [
      "/Users/marianafaria/opt/anaconda3/lib/python3.8/site-packages/statsmodels/base/model.py:566: ConvergenceWarning:\n",
      "\n",
      "Maximum Likelihood optimization failed to converge. Check mle_retvals\n",
      "\n"
     ]
    },
    {
     "name": "stdout",
     "output_type": "stream",
     "text": [
      "SARIMAX (2, 0, 2) x (2, 1, 0, 7)7 : BIC Calculated =14856.234749037054\n"
     ]
    },
    {
     "name": "stderr",
     "output_type": "stream",
     "text": [
      "/Users/marianafaria/opt/anaconda3/lib/python3.8/site-packages/statsmodels/base/model.py:566: ConvergenceWarning:\n",
      "\n",
      "Maximum Likelihood optimization failed to converge. Check mle_retvals\n",
      "\n"
     ]
    },
    {
     "name": "stdout",
     "output_type": "stream",
     "text": [
      "SARIMAX (2, 0, 2) x (2, 1, 1, 7)7 : BIC Calculated =14497.926007991875\n"
     ]
    },
    {
     "name": "stderr",
     "output_type": "stream",
     "text": [
      "/Users/marianafaria/opt/anaconda3/lib/python3.8/site-packages/statsmodels/base/model.py:566: ConvergenceWarning:\n",
      "\n",
      "Maximum Likelihood optimization failed to converge. Check mle_retvals\n",
      "\n"
     ]
    },
    {
     "name": "stdout",
     "output_type": "stream",
     "text": [
      "SARIMAX (2, 0, 2) x (2, 1, 2, 7)7 : BIC Calculated =14504.526322350031\n"
     ]
    },
    {
     "name": "stderr",
     "output_type": "stream",
     "text": [
      "/Users/marianafaria/opt/anaconda3/lib/python3.8/site-packages/statsmodels/base/model.py:566: ConvergenceWarning:\n",
      "\n",
      "Maximum Likelihood optimization failed to converge. Check mle_retvals\n",
      "\n"
     ]
    },
    {
     "name": "stdout",
     "output_type": "stream",
     "text": [
      "SARIMAX (2, 0, 2) x (2, 2, 0, 7)7 : BIC Calculated =15702.502596002607\n"
     ]
    },
    {
     "name": "stderr",
     "output_type": "stream",
     "text": [
      "/Users/marianafaria/opt/anaconda3/lib/python3.8/site-packages/statsmodels/base/model.py:566: ConvergenceWarning:\n",
      "\n",
      "Maximum Likelihood optimization failed to converge. Check mle_retvals\n",
      "\n"
     ]
    },
    {
     "name": "stdout",
     "output_type": "stream",
     "text": [
      "SARIMAX (2, 0, 2) x (2, 2, 1, 7)7 : BIC Calculated =14853.258579233398\n"
     ]
    },
    {
     "name": "stderr",
     "output_type": "stream",
     "text": [
      "/Users/marianafaria/opt/anaconda3/lib/python3.8/site-packages/statsmodels/base/model.py:566: ConvergenceWarning:\n",
      "\n",
      "Maximum Likelihood optimization failed to converge. Check mle_retvals\n",
      "\n"
     ]
    },
    {
     "name": "stdout",
     "output_type": "stream",
     "text": [
      "SARIMAX (2, 0, 2) x (2, 2, 2, 7)7 : BIC Calculated =14608.441709666293\n",
      "SARIMAX (2, 1, 0) x (0, 0, 0, 7)7 : BIC Calculated =14843.8578380269\n",
      "SARIMAX (2, 1, 0) x (0, 0, 1, 7)7 : BIC Calculated =14828.80828072408\n",
      "SARIMAX (2, 1, 0) x (0, 0, 2, 7)7 : BIC Calculated =14834.667434858506\n",
      "SARIMAX (2, 1, 0) x (0, 1, 0, 7)7 : BIC Calculated =15733.415811205396\n",
      "SARIMAX (2, 1, 0) x (0, 1, 1, 7)7 : BIC Calculated =14696.05484747427\n",
      "SARIMAX (2, 1, 0) x (0, 1, 2, 7)7 : BIC Calculated =14698.596525102008\n",
      "SARIMAX (2, 1, 0) x (0, 2, 0, 7)7 : BIC Calculated =17480.28723427197\n",
      "SARIMAX (2, 1, 0) x (0, 2, 1, 7)7 : BIC Calculated =15721.511092483957\n",
      "SARIMAX (2, 1, 0) x (0, 2, 2, 7)7 : BIC Calculated =14736.94723979926\n",
      "SARIMAX (2, 1, 0) x (1, 0, 0, 7)7 : BIC Calculated =14827.122198968798\n"
     ]
    },
    {
     "name": "stderr",
     "output_type": "stream",
     "text": [
      "/Users/marianafaria/opt/anaconda3/lib/python3.8/site-packages/statsmodels/base/model.py:566: ConvergenceWarning:\n",
      "\n",
      "Maximum Likelihood optimization failed to converge. Check mle_retvals\n",
      "\n"
     ]
    },
    {
     "name": "stdout",
     "output_type": "stream",
     "text": [
      "SARIMAX (2, 1, 0) x (1, 0, 1, 7)7 : BIC Calculated =14746.08961271154\n"
     ]
    },
    {
     "name": "stderr",
     "output_type": "stream",
     "text": [
      "/Users/marianafaria/opt/anaconda3/lib/python3.8/site-packages/statsmodels/base/model.py:566: ConvergenceWarning:\n",
      "\n",
      "Maximum Likelihood optimization failed to converge. Check mle_retvals\n",
      "\n"
     ]
    },
    {
     "name": "stdout",
     "output_type": "stream",
     "text": [
      "SARIMAX (2, 1, 0) x (1, 0, 2, 7)7 : BIC Calculated =14751.746167039135\n",
      "SARIMAX (2, 1, 0) x (1, 1, 0, 7)7 : BIC Calculated =15335.193744423954\n",
      "SARIMAX (2, 1, 0) x (1, 1, 1, 7)7 : BIC Calculated =14699.213406619485\n"
     ]
    },
    {
     "name": "stderr",
     "output_type": "stream",
     "text": [
      "/Users/marianafaria/opt/anaconda3/lib/python3.8/site-packages/statsmodels/base/model.py:566: ConvergenceWarning:\n",
      "\n",
      "Maximum Likelihood optimization failed to converge. Check mle_retvals\n",
      "\n"
     ]
    },
    {
     "name": "stdout",
     "output_type": "stream",
     "text": [
      "SARIMAX (2, 1, 0) x (1, 1, 2, 7)7 : BIC Calculated =14701.597617601452\n",
      "SARIMAX (2, 1, 0) x (1, 2, 0, 7)7 : BIC Calculated =16622.11308902572\n",
      "SARIMAX (2, 1, 0) x (1, 2, 1, 7)7 : BIC Calculated =15330.212600530047\n"
     ]
    },
    {
     "name": "stderr",
     "output_type": "stream",
     "text": [
      "/Users/marianafaria/opt/anaconda3/lib/python3.8/site-packages/statsmodels/base/model.py:566: ConvergenceWarning:\n",
      "\n",
      "Maximum Likelihood optimization failed to converge. Check mle_retvals\n",
      "\n"
     ]
    },
    {
     "name": "stdout",
     "output_type": "stream",
     "text": [
      "SARIMAX (2, 1, 0) x (1, 2, 2, 7)7 : BIC Calculated =14754.395803366044\n",
      "SARIMAX (2, 1, 0) x (2, 0, 0, 7)7 : BIC Calculated =14831.507113437436\n"
     ]
    },
    {
     "name": "stderr",
     "output_type": "stream",
     "text": [
      "/Users/marianafaria/opt/anaconda3/lib/python3.8/site-packages/statsmodels/base/model.py:566: ConvergenceWarning:\n",
      "\n",
      "Maximum Likelihood optimization failed to converge. Check mle_retvals\n",
      "\n"
     ]
    },
    {
     "name": "stdout",
     "output_type": "stream",
     "text": [
      "SARIMAX (2, 1, 0) x (2, 0, 1, 7)7 : BIC Calculated =14751.579623740501\n"
     ]
    },
    {
     "name": "stderr",
     "output_type": "stream",
     "text": [
      "/Users/marianafaria/opt/anaconda3/lib/python3.8/site-packages/statsmodels/base/model.py:566: ConvergenceWarning:\n",
      "\n",
      "Maximum Likelihood optimization failed to converge. Check mle_retvals\n",
      "\n"
     ]
    },
    {
     "name": "stdout",
     "output_type": "stream",
     "text": [
      "SARIMAX (2, 1, 0) x (2, 0, 2, 7)7 : BIC Calculated =14753.028509318641\n",
      "SARIMAX (2, 1, 0) x (2, 1, 0, 7)7 : BIC Calculated =15104.702978662965\n",
      "SARIMAX (2, 1, 0) x (2, 1, 1, 7)7 : BIC Calculated =14705.820351672535\n"
     ]
    },
    {
     "name": "stderr",
     "output_type": "stream",
     "text": [
      "/Users/marianafaria/opt/anaconda3/lib/python3.8/site-packages/statsmodels/base/model.py:566: ConvergenceWarning:\n",
      "\n",
      "Maximum Likelihood optimization failed to converge. Check mle_retvals\n",
      "\n"
     ]
    },
    {
     "name": "stdout",
     "output_type": "stream",
     "text": [
      "SARIMAX (2, 1, 0) x (2, 1, 2, 7)7 : BIC Calculated =14708.896916639593\n",
      "SARIMAX (2, 1, 0) x (2, 2, 0, 7)7 : BIC Calculated =16093.359813772726\n",
      "SARIMAX (2, 1, 0) x (2, 2, 1, 7)7 : BIC Calculated =15104.975645017184\n"
     ]
    },
    {
     "name": "stderr",
     "output_type": "stream",
     "text": [
      "/Users/marianafaria/opt/anaconda3/lib/python3.8/site-packages/statsmodels/base/model.py:566: ConvergenceWarning:\n",
      "\n",
      "Maximum Likelihood optimization failed to converge. Check mle_retvals\n",
      "\n"
     ]
    },
    {
     "name": "stdout",
     "output_type": "stream",
     "text": [
      "SARIMAX (2, 1, 0) x (2, 2, 2, 7)7 : BIC Calculated =14761.829975055096\n",
      "SARIMAX (2, 1, 1) x (0, 0, 0, 7)7 : BIC Calculated =14615.684529807062\n",
      "SARIMAX (2, 1, 1) x (0, 0, 1, 7)7 : BIC Calculated =14603.58087952488\n",
      "SARIMAX (2, 1, 1) x (0, 0, 2, 7)7 : BIC Calculated =14609.497709270196\n",
      "SARIMAX (2, 1, 1) x (0, 1, 0, 7)7 : BIC Calculated =15392.222213009001\n",
      "SARIMAX (2, 1, 1) x (0, 1, 1, 7)7 : BIC Calculated =14485.203963067843\n"
     ]
    },
    {
     "name": "stderr",
     "output_type": "stream",
     "text": [
      "/Users/marianafaria/opt/anaconda3/lib/python3.8/site-packages/statsmodels/base/model.py:566: ConvergenceWarning:\n",
      "\n",
      "Maximum Likelihood optimization failed to converge. Check mle_retvals\n",
      "\n"
     ]
    },
    {
     "name": "stdout",
     "output_type": "stream",
     "text": [
      "SARIMAX (2, 1, 1) x (0, 1, 2, 7)7 : BIC Calculated =14489.017191793264\n"
     ]
    },
    {
     "name": "stderr",
     "output_type": "stream",
     "text": [
      "/Users/marianafaria/opt/anaconda3/lib/python3.8/site-packages/statsmodels/base/model.py:566: ConvergenceWarning:\n",
      "\n",
      "Maximum Likelihood optimization failed to converge. Check mle_retvals\n",
      "\n"
     ]
    },
    {
     "name": "stdout",
     "output_type": "stream",
     "text": [
      "SARIMAX (2, 1, 1) x (0, 2, 0, 7)7 : BIC Calculated =17093.96950806338\n",
      "SARIMAX (2, 1, 1) x (0, 2, 1, 7)7 : BIC Calculated =15390.16582843298\n"
     ]
    },
    {
     "name": "stderr",
     "output_type": "stream",
     "text": [
      "/Users/marianafaria/opt/anaconda3/lib/python3.8/site-packages/statsmodels/base/model.py:566: ConvergenceWarning:\n",
      "\n",
      "Maximum Likelihood optimization failed to converge. Check mle_retvals\n",
      "\n"
     ]
    },
    {
     "name": "stdout",
     "output_type": "stream",
     "text": [
      "SARIMAX (2, 1, 1) x (0, 2, 2, 7)7 : BIC Calculated =14533.892860897247\n",
      "SARIMAX (2, 1, 1) x (1, 0, 0, 7)7 : BIC Calculated =14602.116420753102\n"
     ]
    },
    {
     "name": "stderr",
     "output_type": "stream",
     "text": [
      "/Users/marianafaria/opt/anaconda3/lib/python3.8/site-packages/statsmodels/base/model.py:566: ConvergenceWarning:\n",
      "\n",
      "Maximum Likelihood optimization failed to converge. Check mle_retvals\n",
      "\n"
     ]
    },
    {
     "name": "stdout",
     "output_type": "stream",
     "text": [
      "SARIMAX (2, 1, 1) x (1, 0, 1, 7)7 : BIC Calculated =14534.750223704745\n"
     ]
    },
    {
     "name": "stderr",
     "output_type": "stream",
     "text": [
      "/Users/marianafaria/opt/anaconda3/lib/python3.8/site-packages/statsmodels/base/model.py:566: ConvergenceWarning:\n",
      "\n",
      "Maximum Likelihood optimization failed to converge. Check mle_retvals\n",
      "\n"
     ]
    },
    {
     "name": "stdout",
     "output_type": "stream",
     "text": [
      "SARIMAX (2, 1, 1) x (1, 0, 2, 7)7 : BIC Calculated =14540.187133473184\n"
     ]
    },
    {
     "name": "stderr",
     "output_type": "stream",
     "text": [
      "/Users/marianafaria/opt/anaconda3/lib/python3.8/site-packages/statsmodels/base/model.py:566: ConvergenceWarning:\n",
      "\n",
      "Maximum Likelihood optimization failed to converge. Check mle_retvals\n",
      "\n"
     ]
    },
    {
     "name": "stdout",
     "output_type": "stream",
     "text": [
      "SARIMAX (2, 1, 1) x (1, 1, 0, 7)7 : BIC Calculated =15060.855706408105\n",
      "SARIMAX (2, 1, 1) x (1, 1, 1, 7)7 : BIC Calculated =14489.193397043524\n",
      "SARIMAX (2, 1, 1) x (1, 1, 2, 7)7 : BIC Calculated =14494.20345708921\n"
     ]
    },
    {
     "name": "stderr",
     "output_type": "stream",
     "text": [
      "/Users/marianafaria/opt/anaconda3/lib/python3.8/site-packages/statsmodels/base/model.py:566: ConvergenceWarning:\n",
      "\n",
      "Maximum Likelihood optimization failed to converge. Check mle_retvals\n",
      "\n"
     ]
    },
    {
     "name": "stdout",
     "output_type": "stream",
     "text": [
      "SARIMAX (2, 1, 1) x (1, 2, 0, 7)7 : BIC Calculated =16264.846570708236\n",
      "SARIMAX (2, 1, 1) x (1, 2, 1, 7)7 : BIC Calculated =15065.195860587775\n"
     ]
    },
    {
     "name": "stderr",
     "output_type": "stream",
     "text": [
      "/Users/marianafaria/opt/anaconda3/lib/python3.8/site-packages/statsmodels/base/model.py:566: ConvergenceWarning:\n",
      "\n",
      "Maximum Likelihood optimization failed to converge. Check mle_retvals\n",
      "\n"
     ]
    },
    {
     "name": "stdout",
     "output_type": "stream",
     "text": [
      "SARIMAX (2, 1, 1) x (1, 2, 2, 7)7 : BIC Calculated =14557.506885955248\n",
      "SARIMAX (2, 1, 1) x (2, 0, 0, 7)7 : BIC Calculated =14607.394585614404\n"
     ]
    },
    {
     "name": "stderr",
     "output_type": "stream",
     "text": [
      "/Users/marianafaria/opt/anaconda3/lib/python3.8/site-packages/statsmodels/base/model.py:566: ConvergenceWarning:\n",
      "\n",
      "Maximum Likelihood optimization failed to converge. Check mle_retvals\n",
      "\n"
     ]
    },
    {
     "name": "stdout",
     "output_type": "stream",
     "text": [
      "SARIMAX (2, 1, 1) x (2, 0, 1, 7)7 : BIC Calculated =14541.256607298119\n"
     ]
    },
    {
     "name": "stderr",
     "output_type": "stream",
     "text": [
      "/Users/marianafaria/opt/anaconda3/lib/python3.8/site-packages/statsmodels/base/model.py:566: ConvergenceWarning:\n",
      "\n",
      "Maximum Likelihood optimization failed to converge. Check mle_retvals\n",
      "\n"
     ]
    },
    {
     "name": "stdout",
     "output_type": "stream",
     "text": [
      "SARIMAX (2, 1, 1) x (2, 0, 2, 7)7 : BIC Calculated =14545.930044832134\n"
     ]
    },
    {
     "name": "stderr",
     "output_type": "stream",
     "text": [
      "/Users/marianafaria/opt/anaconda3/lib/python3.8/site-packages/statsmodels/base/model.py:566: ConvergenceWarning:\n",
      "\n",
      "Maximum Likelihood optimization failed to converge. Check mle_retvals\n",
      "\n"
     ]
    },
    {
     "name": "stdout",
     "output_type": "stream",
     "text": [
      "SARIMAX (2, 1, 1) x (2, 1, 0, 7)7 : BIC Calculated =14897.18977943154\n",
      "SARIMAX (2, 1, 1) x (2, 1, 1, 7)7 : BIC Calculated =14495.822063118203\n"
     ]
    },
    {
     "name": "stderr",
     "output_type": "stream",
     "text": [
      "/Users/marianafaria/opt/anaconda3/lib/python3.8/site-packages/statsmodels/base/model.py:566: ConvergenceWarning:\n",
      "\n",
      "Maximum Likelihood optimization failed to converge. Check mle_retvals\n",
      "\n"
     ]
    },
    {
     "name": "stdout",
     "output_type": "stream",
     "text": [
      "SARIMAX (2, 1, 1) x (2, 1, 2, 7)7 : BIC Calculated =14503.659559288139\n"
     ]
    },
    {
     "name": "stderr",
     "output_type": "stream",
     "text": [
      "/Users/marianafaria/opt/anaconda3/lib/python3.8/site-packages/statsmodels/base/model.py:566: ConvergenceWarning:\n",
      "\n",
      "Maximum Likelihood optimization failed to converge. Check mle_retvals\n",
      "\n"
     ]
    },
    {
     "name": "stdout",
     "output_type": "stream",
     "text": [
      "SARIMAX (2, 1, 1) x (2, 2, 0, 7)7 : BIC Calculated =15796.60538499144\n"
     ]
    },
    {
     "name": "stderr",
     "output_type": "stream",
     "text": [
      "/Users/marianafaria/opt/anaconda3/lib/python3.8/site-packages/statsmodels/base/model.py:566: ConvergenceWarning:\n",
      "\n",
      "Maximum Likelihood optimization failed to converge. Check mle_retvals\n",
      "\n"
     ]
    },
    {
     "name": "stdout",
     "output_type": "stream",
     "text": [
      "SARIMAX (2, 1, 1) x (2, 2, 1, 7)7 : BIC Calculated =14907.09998252431\n"
     ]
    },
    {
     "name": "stderr",
     "output_type": "stream",
     "text": [
      "/Users/marianafaria/opt/anaconda3/lib/python3.8/site-packages/statsmodels/base/model.py:566: ConvergenceWarning:\n",
      "\n",
      "Maximum Likelihood optimization failed to converge. Check mle_retvals\n",
      "\n"
     ]
    },
    {
     "name": "stdout",
     "output_type": "stream",
     "text": [
      "SARIMAX (2, 1, 1) x (2, 2, 2, 7)7 : BIC Calculated =14570.368410018968\n",
      "SARIMAX (2, 1, 2) x (0, 0, 0, 7)7 : BIC Calculated =14622.176096202396\n",
      "SARIMAX (2, 1, 2) x (0, 0, 1, 7)7 : BIC Calculated =14609.978605607736\n",
      "SARIMAX (2, 1, 2) x (0, 0, 2, 7)7 : BIC Calculated =14615.954243783552\n"
     ]
    },
    {
     "name": "stderr",
     "output_type": "stream",
     "text": [
      "/Users/marianafaria/opt/anaconda3/lib/python3.8/site-packages/statsmodels/base/model.py:566: ConvergenceWarning:\n",
      "\n",
      "Maximum Likelihood optimization failed to converge. Check mle_retvals\n",
      "\n"
     ]
    },
    {
     "name": "stdout",
     "output_type": "stream",
     "text": [
      "SARIMAX (2, 1, 2) x (0, 1, 0, 7)7 : BIC Calculated =15390.764522297512\n"
     ]
    },
    {
     "name": "stderr",
     "output_type": "stream",
     "text": [
      "/Users/marianafaria/opt/anaconda3/lib/python3.8/site-packages/statsmodels/base/model.py:566: ConvergenceWarning:\n",
      "\n",
      "Maximum Likelihood optimization failed to converge. Check mle_retvals\n",
      "\n"
     ]
    },
    {
     "name": "stdout",
     "output_type": "stream",
     "text": [
      "SARIMAX (2, 1, 2) x (0, 1, 1, 7)7 : BIC Calculated =14491.947019182566\n"
     ]
    },
    {
     "name": "stderr",
     "output_type": "stream",
     "text": [
      "/Users/marianafaria/opt/anaconda3/lib/python3.8/site-packages/statsmodels/base/model.py:566: ConvergenceWarning:\n",
      "\n",
      "Maximum Likelihood optimization failed to converge. Check mle_retvals\n",
      "\n"
     ]
    },
    {
     "name": "stdout",
     "output_type": "stream",
     "text": [
      "SARIMAX (2, 1, 2) x (0, 1, 2, 7)7 : BIC Calculated =14496.013330625416\n"
     ]
    },
    {
     "name": "stderr",
     "output_type": "stream",
     "text": [
      "/Users/marianafaria/opt/anaconda3/lib/python3.8/site-packages/statsmodels/base/model.py:566: ConvergenceWarning:\n",
      "\n",
      "Maximum Likelihood optimization failed to converge. Check mle_retvals\n",
      "\n"
     ]
    },
    {
     "name": "stdout",
     "output_type": "stream",
     "text": [
      "SARIMAX (2, 1, 2) x (0, 2, 0, 7)7 : BIC Calculated =17075.393591309108\n"
     ]
    },
    {
     "name": "stderr",
     "output_type": "stream",
     "text": [
      "/Users/marianafaria/opt/anaconda3/lib/python3.8/site-packages/statsmodels/base/model.py:566: ConvergenceWarning:\n",
      "\n",
      "Maximum Likelihood optimization failed to converge. Check mle_retvals\n",
      "\n"
     ]
    },
    {
     "name": "stdout",
     "output_type": "stream",
     "text": [
      "SARIMAX (2, 1, 2) x (0, 2, 1, 7)7 : BIC Calculated =15389.040312850791\n"
     ]
    },
    {
     "name": "stderr",
     "output_type": "stream",
     "text": [
      "/Users/marianafaria/opt/anaconda3/lib/python3.8/site-packages/statsmodels/base/model.py:566: ConvergenceWarning:\n",
      "\n",
      "Maximum Likelihood optimization failed to converge. Check mle_retvals\n",
      "\n"
     ]
    },
    {
     "name": "stdout",
     "output_type": "stream",
     "text": [
      "SARIMAX (2, 1, 2) x (0, 2, 2, 7)7 : BIC Calculated =14532.513000426941\n",
      "SARIMAX (2, 1, 2) x (1, 0, 0, 7)7 : BIC Calculated =14608.562646356666\n"
     ]
    },
    {
     "name": "stderr",
     "output_type": "stream",
     "text": [
      "/Users/marianafaria/opt/anaconda3/lib/python3.8/site-packages/statsmodels/base/model.py:566: ConvergenceWarning:\n",
      "\n",
      "Maximum Likelihood optimization failed to converge. Check mle_retvals\n",
      "\n"
     ]
    },
    {
     "name": "stdout",
     "output_type": "stream",
     "text": [
      "SARIMAX (2, 1, 2) x (1, 0, 1, 7)7 : BIC Calculated =14541.969417753204\n"
     ]
    },
    {
     "name": "stderr",
     "output_type": "stream",
     "text": [
      "/Users/marianafaria/opt/anaconda3/lib/python3.8/site-packages/statsmodels/base/model.py:566: ConvergenceWarning:\n",
      "\n",
      "Maximum Likelihood optimization failed to converge. Check mle_retvals\n",
      "\n"
     ]
    },
    {
     "name": "stdout",
     "output_type": "stream",
     "text": [
      "SARIMAX (2, 1, 2) x (1, 0, 2, 7)7 : BIC Calculated =14546.450338915329\n"
     ]
    },
    {
     "name": "stderr",
     "output_type": "stream",
     "text": [
      "/Users/marianafaria/opt/anaconda3/lib/python3.8/site-packages/statsmodels/base/model.py:566: ConvergenceWarning:\n",
      "\n",
      "Maximum Likelihood optimization failed to converge. Check mle_retvals\n",
      "\n"
     ]
    },
    {
     "name": "stdout",
     "output_type": "stream",
     "text": [
      "SARIMAX (2, 1, 2) x (1, 1, 0, 7)7 : BIC Calculated =15081.859060071989\n"
     ]
    },
    {
     "name": "stderr",
     "output_type": "stream",
     "text": [
      "/Users/marianafaria/opt/anaconda3/lib/python3.8/site-packages/statsmodels/base/model.py:566: ConvergenceWarning:\n",
      "\n",
      "Maximum Likelihood optimization failed to converge. Check mle_retvals\n",
      "\n"
     ]
    },
    {
     "name": "stdout",
     "output_type": "stream",
     "text": [
      "SARIMAX (2, 1, 2) x (1, 1, 1, 7)7 : BIC Calculated =14490.86769738822\n"
     ]
    },
    {
     "name": "stderr",
     "output_type": "stream",
     "text": [
      "/Users/marianafaria/opt/anaconda3/lib/python3.8/site-packages/statsmodels/base/model.py:566: ConvergenceWarning:\n",
      "\n",
      "Maximum Likelihood optimization failed to converge. Check mle_retvals\n",
      "\n"
     ]
    },
    {
     "name": "stdout",
     "output_type": "stream",
     "text": [
      "SARIMAX (2, 1, 2) x (1, 1, 2, 7)7 : BIC Calculated =14500.922054025563\n"
     ]
    },
    {
     "name": "stderr",
     "output_type": "stream",
     "text": [
      "/Users/marianafaria/opt/anaconda3/lib/python3.8/site-packages/statsmodels/base/model.py:566: ConvergenceWarning:\n",
      "\n",
      "Maximum Likelihood optimization failed to converge. Check mle_retvals\n",
      "\n"
     ]
    },
    {
     "name": "stdout",
     "output_type": "stream",
     "text": [
      "SARIMAX (2, 1, 2) x (1, 2, 0, 7)7 : BIC Calculated =16271.39210007752\n"
     ]
    },
    {
     "name": "stderr",
     "output_type": "stream",
     "text": [
      "/Users/marianafaria/opt/anaconda3/lib/python3.8/site-packages/statsmodels/base/model.py:566: ConvergenceWarning:\n",
      "\n",
      "Maximum Likelihood optimization failed to converge. Check mle_retvals\n",
      "\n"
     ]
    },
    {
     "name": "stdout",
     "output_type": "stream",
     "text": [
      "SARIMAX (2, 1, 2) x (1, 2, 1, 7)7 : BIC Calculated =15083.958443915\n"
     ]
    },
    {
     "name": "stderr",
     "output_type": "stream",
     "text": [
      "/Users/marianafaria/opt/anaconda3/lib/python3.8/site-packages/statsmodels/base/model.py:566: ConvergenceWarning:\n",
      "\n",
      "Maximum Likelihood optimization failed to converge. Check mle_retvals\n",
      "\n"
     ]
    },
    {
     "name": "stdout",
     "output_type": "stream",
     "text": [
      "SARIMAX (2, 1, 2) x (1, 2, 2, 7)7 : BIC Calculated =14815.08933264418\n"
     ]
    },
    {
     "name": "stderr",
     "output_type": "stream",
     "text": [
      "/Users/marianafaria/opt/anaconda3/lib/python3.8/site-packages/statsmodels/base/model.py:566: ConvergenceWarning:\n",
      "\n",
      "Maximum Likelihood optimization failed to converge. Check mle_retvals\n",
      "\n"
     ]
    },
    {
     "name": "stdout",
     "output_type": "stream",
     "text": [
      "SARIMAX (2, 1, 2) x (2, 0, 0, 7)7 : BIC Calculated =14613.892187668358\n"
     ]
    },
    {
     "name": "stderr",
     "output_type": "stream",
     "text": [
      "/Users/marianafaria/opt/anaconda3/lib/python3.8/site-packages/statsmodels/base/model.py:566: ConvergenceWarning:\n",
      "\n",
      "Maximum Likelihood optimization failed to converge. Check mle_retvals\n",
      "\n"
     ]
    },
    {
     "name": "stdout",
     "output_type": "stream",
     "text": [
      "SARIMAX (2, 1, 2) x (2, 0, 1, 7)7 : BIC Calculated =14548.861283490223\n"
     ]
    },
    {
     "name": "stderr",
     "output_type": "stream",
     "text": [
      "/Users/marianafaria/opt/anaconda3/lib/python3.8/site-packages/statsmodels/base/model.py:566: ConvergenceWarning:\n",
      "\n",
      "Maximum Likelihood optimization failed to converge. Check mle_retvals\n",
      "\n"
     ]
    },
    {
     "name": "stdout",
     "output_type": "stream",
     "text": [
      "SARIMAX (2, 1, 2) x (2, 0, 2, 7)7 : BIC Calculated =14552.899684712851\n"
     ]
    },
    {
     "name": "stderr",
     "output_type": "stream",
     "text": [
      "/Users/marianafaria/opt/anaconda3/lib/python3.8/site-packages/statsmodels/base/model.py:566: ConvergenceWarning:\n",
      "\n",
      "Maximum Likelihood optimization failed to converge. Check mle_retvals\n",
      "\n"
     ]
    },
    {
     "name": "stdout",
     "output_type": "stream",
     "text": [
      "SARIMAX (2, 1, 2) x (2, 1, 0, 7)7 : BIC Calculated =14918.251112866388\n"
     ]
    },
    {
     "name": "stderr",
     "output_type": "stream",
     "text": [
      "/Users/marianafaria/opt/anaconda3/lib/python3.8/site-packages/statsmodels/base/model.py:566: ConvergenceWarning:\n",
      "\n",
      "Maximum Likelihood optimization failed to converge. Check mle_retvals\n",
      "\n"
     ]
    },
    {
     "name": "stdout",
     "output_type": "stream",
     "text": [
      "SARIMAX (2, 1, 2) x (2, 1, 1, 7)7 : BIC Calculated =14497.746491948583\n"
     ]
    },
    {
     "name": "stderr",
     "output_type": "stream",
     "text": [
      "/Users/marianafaria/opt/anaconda3/lib/python3.8/site-packages/statsmodels/base/model.py:566: ConvergenceWarning:\n",
      "\n",
      "Maximum Likelihood optimization failed to converge. Check mle_retvals\n",
      "\n"
     ]
    },
    {
     "name": "stdout",
     "output_type": "stream",
     "text": [
      "SARIMAX (2, 1, 2) x (2, 1, 2, 7)7 : BIC Calculated =14510.12629819805\n",
      "SARIMAX (2, 1, 2) x (2, 2, 0, 7)7 : BIC Calculated =15814.8802614084\n"
     ]
    },
    {
     "name": "stderr",
     "output_type": "stream",
     "text": [
      "/Users/marianafaria/opt/anaconda3/lib/python3.8/site-packages/statsmodels/base/model.py:566: ConvergenceWarning:\n",
      "\n",
      "Maximum Likelihood optimization failed to converge. Check mle_retvals\n",
      "\n"
     ]
    },
    {
     "name": "stdout",
     "output_type": "stream",
     "text": [
      "SARIMAX (2, 1, 2) x (2, 2, 1, 7)7 : BIC Calculated =14919.511568022263\n"
     ]
    },
    {
     "name": "stderr",
     "output_type": "stream",
     "text": [
      "/Users/marianafaria/opt/anaconda3/lib/python3.8/site-packages/statsmodels/base/model.py:566: ConvergenceWarning:\n",
      "\n",
      "Maximum Likelihood optimization failed to converge. Check mle_retvals\n",
      "\n"
     ]
    },
    {
     "name": "stdout",
     "output_type": "stream",
     "text": [
      "SARIMAX (2, 1, 2) x (2, 2, 2, 7)7 : BIC Calculated =14571.38109436025\n",
      "SARIMAX (2, 2, 0) x (0, 0, 0, 7)7 : BIC Calculated =15894.915105048565\n",
      "SARIMAX (2, 2, 0) x (0, 0, 1, 7)7 : BIC Calculated =15873.212829620665\n",
      "SARIMAX (2, 2, 0) x (0, 0, 2, 7)7 : BIC Calculated =15879.082386967408\n",
      "SARIMAX (2, 2, 0) x (0, 1, 0, 7)7 : BIC Calculated =16746.754060173735\n",
      "SARIMAX (2, 2, 0) x (0, 1, 1, 7)7 : BIC Calculated =15729.238504392633\n",
      "SARIMAX (2, 2, 0) x (0, 1, 2, 7)7 : BIC Calculated =15729.894831122334\n",
      "SARIMAX (2, 2, 0) x (0, 2, 0, 7)7 : BIC Calculated =18481.003523590593\n",
      "SARIMAX (2, 2, 0) x (0, 2, 1, 7)7 : BIC Calculated =16730.719800625393\n"
     ]
    },
    {
     "name": "stderr",
     "output_type": "stream",
     "text": [
      "/Users/marianafaria/opt/anaconda3/lib/python3.8/site-packages/statsmodels/base/model.py:566: ConvergenceWarning:\n",
      "\n",
      "Maximum Likelihood optimization failed to converge. Check mle_retvals\n",
      "\n"
     ]
    },
    {
     "name": "stdout",
     "output_type": "stream",
     "text": [
      "SARIMAX (2, 2, 0) x (0, 2, 2, 7)7 : BIC Calculated =15767.011736286853\n",
      "SARIMAX (2, 2, 0) x (1, 0, 0, 7)7 : BIC Calculated =15870.925308215752\n"
     ]
    },
    {
     "name": "stderr",
     "output_type": "stream",
     "text": [
      "/Users/marianafaria/opt/anaconda3/lib/python3.8/site-packages/statsmodels/base/model.py:566: ConvergenceWarning:\n",
      "\n",
      "Maximum Likelihood optimization failed to converge. Check mle_retvals\n",
      "\n"
     ]
    },
    {
     "name": "stdout",
     "output_type": "stream",
     "text": [
      "SARIMAX (2, 2, 0) x (1, 0, 1, 7)7 : BIC Calculated =15784.773654489954\n"
     ]
    },
    {
     "name": "stderr",
     "output_type": "stream",
     "text": [
      "/Users/marianafaria/opt/anaconda3/lib/python3.8/site-packages/statsmodels/base/model.py:566: ConvergenceWarning:\n",
      "\n",
      "Maximum Likelihood optimization failed to converge. Check mle_retvals\n",
      "\n"
     ]
    },
    {
     "name": "stdout",
     "output_type": "stream",
     "text": [
      "SARIMAX (2, 2, 0) x (1, 0, 2, 7)7 : BIC Calculated =15788.12640112298\n",
      "SARIMAX (2, 2, 0) x (1, 1, 0, 7)7 : BIC Calculated =16360.544277776808\n",
      "SARIMAX (2, 2, 0) x (1, 1, 1, 7)7 : BIC Calculated =15730.4152156399\n",
      "SARIMAX (2, 2, 0) x (1, 1, 2, 7)7 : BIC Calculated =15730.252285010956\n",
      "SARIMAX (2, 2, 0) x (1, 2, 0, 7)7 : BIC Calculated =17640.487035707298\n",
      "SARIMAX (2, 2, 0) x (1, 2, 1, 7)7 : BIC Calculated =16351.354185494227\n"
     ]
    },
    {
     "name": "stderr",
     "output_type": "stream",
     "text": [
      "/Users/marianafaria/opt/anaconda3/lib/python3.8/site-packages/statsmodels/base/model.py:566: ConvergenceWarning:\n",
      "\n",
      "Maximum Likelihood optimization failed to converge. Check mle_retvals\n",
      "\n"
     ]
    },
    {
     "name": "stdout",
     "output_type": "stream",
     "text": [
      "SARIMAX (2, 2, 0) x (1, 2, 2, 7)7 : BIC Calculated =15770.638011753215\n",
      "SARIMAX (2, 2, 0) x (2, 0, 0, 7)7 : BIC Calculated =15874.766916537557\n"
     ]
    },
    {
     "name": "stderr",
     "output_type": "stream",
     "text": [
      "/Users/marianafaria/opt/anaconda3/lib/python3.8/site-packages/statsmodels/base/model.py:566: ConvergenceWarning:\n",
      "\n",
      "Maximum Likelihood optimization failed to converge. Check mle_retvals\n",
      "\n"
     ]
    },
    {
     "name": "stdout",
     "output_type": "stream",
     "text": [
      "SARIMAX (2, 2, 0) x (2, 0, 1, 7)7 : BIC Calculated =15787.448484096507\n"
     ]
    },
    {
     "name": "stderr",
     "output_type": "stream",
     "text": [
      "/Users/marianafaria/opt/anaconda3/lib/python3.8/site-packages/statsmodels/base/model.py:566: ConvergenceWarning:\n",
      "\n",
      "Maximum Likelihood optimization failed to converge. Check mle_retvals\n",
      "\n"
     ]
    },
    {
     "name": "stdout",
     "output_type": "stream",
     "text": [
      "SARIMAX (2, 2, 0) x (2, 0, 2, 7)7 : BIC Calculated =15787.306866494626\n",
      "SARIMAX (2, 2, 0) x (2, 1, 0, 7)7 : BIC Calculated =16122.266329683245\n",
      "SARIMAX (2, 2, 0) x (2, 1, 1, 7)7 : BIC Calculated =15737.005689679125\n"
     ]
    },
    {
     "name": "stderr",
     "output_type": "stream",
     "text": [
      "/Users/marianafaria/opt/anaconda3/lib/python3.8/site-packages/statsmodels/base/model.py:566: ConvergenceWarning:\n",
      "\n",
      "Maximum Likelihood optimization failed to converge. Check mle_retvals\n",
      "\n"
     ]
    },
    {
     "name": "stdout",
     "output_type": "stream",
     "text": [
      "SARIMAX (2, 2, 0) x (2, 1, 2, 7)7 : BIC Calculated =15743.812527020522\n",
      "SARIMAX (2, 2, 0) x (2, 2, 0, 7)7 : BIC Calculated =17094.930478597555\n",
      "SARIMAX (2, 2, 0) x (2, 2, 1, 7)7 : BIC Calculated =16118.526244418039\n"
     ]
    },
    {
     "name": "stderr",
     "output_type": "stream",
     "text": [
      "/Users/marianafaria/opt/anaconda3/lib/python3.8/site-packages/statsmodels/base/model.py:566: ConvergenceWarning:\n",
      "\n",
      "Maximum Likelihood optimization failed to converge. Check mle_retvals\n",
      "\n"
     ]
    },
    {
     "name": "stdout",
     "output_type": "stream",
     "text": [
      "SARIMAX (2, 2, 0) x (2, 2, 2, 7)7 : BIC Calculated =15781.302773988096\n"
     ]
    },
    {
     "name": "stderr",
     "output_type": "stream",
     "text": [
      "/Users/marianafaria/opt/anaconda3/lib/python3.8/site-packages/statsmodels/base/model.py:566: ConvergenceWarning:\n",
      "\n",
      "Maximum Likelihood optimization failed to converge. Check mle_retvals\n",
      "\n"
     ]
    },
    {
     "name": "stdout",
     "output_type": "stream",
     "text": [
      "SARIMAX (2, 2, 1) x (0, 0, 0, 7)7 : BIC Calculated =14852.424209732511\n"
     ]
    },
    {
     "name": "stderr",
     "output_type": "stream",
     "text": [
      "/Users/marianafaria/opt/anaconda3/lib/python3.8/site-packages/statsmodels/base/model.py:566: ConvergenceWarning:\n",
      "\n",
      "Maximum Likelihood optimization failed to converge. Check mle_retvals\n",
      "\n"
     ]
    },
    {
     "name": "stdout",
     "output_type": "stream",
     "text": [
      "SARIMAX (2, 2, 1) x (0, 0, 1, 7)7 : BIC Calculated =14839.028838819277\n"
     ]
    },
    {
     "name": "stderr",
     "output_type": "stream",
     "text": [
      "/Users/marianafaria/opt/anaconda3/lib/python3.8/site-packages/statsmodels/base/model.py:566: ConvergenceWarning:\n",
      "\n",
      "Maximum Likelihood optimization failed to converge. Check mle_retvals\n",
      "\n"
     ]
    },
    {
     "name": "stdout",
     "output_type": "stream",
     "text": [
      "SARIMAX (2, 2, 1) x (0, 0, 2, 7)7 : BIC Calculated =14844.24368871523\n"
     ]
    },
    {
     "name": "stderr",
     "output_type": "stream",
     "text": [
      "/Users/marianafaria/opt/anaconda3/lib/python3.8/site-packages/statsmodels/base/model.py:566: ConvergenceWarning:\n",
      "\n",
      "Maximum Likelihood optimization failed to converge. Check mle_retvals\n",
      "\n"
     ]
    },
    {
     "name": "stdout",
     "output_type": "stream",
     "text": [
      "SARIMAX (2, 2, 1) x (0, 1, 0, 7)7 : BIC Calculated =15741.367992942745\n",
      "SARIMAX (2, 2, 1) x (0, 1, 1, 7)7 : BIC Calculated =14711.449487640599\n"
     ]
    },
    {
     "name": "stderr",
     "output_type": "stream",
     "text": [
      "/Users/marianafaria/opt/anaconda3/lib/python3.8/site-packages/statsmodels/base/model.py:566: ConvergenceWarning:\n",
      "\n",
      "Maximum Likelihood optimization failed to converge. Check mle_retvals\n",
      "\n"
     ]
    },
    {
     "name": "stdout",
     "output_type": "stream",
     "text": [
      "SARIMAX (2, 2, 1) x (0, 1, 2, 7)7 : BIC Calculated =14715.893284799062\n"
     ]
    },
    {
     "name": "stderr",
     "output_type": "stream",
     "text": [
      "/Users/marianafaria/opt/anaconda3/lib/python3.8/site-packages/statsmodels/base/model.py:566: ConvergenceWarning:\n",
      "\n",
      "Maximum Likelihood optimization failed to converge. Check mle_retvals\n",
      "\n"
     ]
    },
    {
     "name": "stdout",
     "output_type": "stream",
     "text": [
      "SARIMAX (2, 2, 1) x (0, 2, 0, 7)7 : BIC Calculated =17486.664947191894\n",
      "SARIMAX (2, 2, 1) x (0, 2, 1, 7)7 : BIC Calculated =15738.000755197361\n",
      "SARIMAX (2, 2, 1) x (0, 2, 2, 7)7 : BIC Calculated =14794.250282287481\n"
     ]
    },
    {
     "name": "stderr",
     "output_type": "stream",
     "text": [
      "/Users/marianafaria/opt/anaconda3/lib/python3.8/site-packages/statsmodels/base/model.py:566: ConvergenceWarning:\n",
      "\n",
      "Maximum Likelihood optimization failed to converge. Check mle_retvals\n",
      "\n"
     ]
    },
    {
     "name": "stdout",
     "output_type": "stream",
     "text": [
      "SARIMAX (2, 2, 1) x (1, 0, 0, 7)7 : BIC Calculated =14837.175783004232\n"
     ]
    },
    {
     "name": "stderr",
     "output_type": "stream",
     "text": [
      "/Users/marianafaria/opt/anaconda3/lib/python3.8/site-packages/statsmodels/base/model.py:566: ConvergenceWarning:\n",
      "\n",
      "Maximum Likelihood optimization failed to converge. Check mle_retvals\n",
      "\n"
     ]
    },
    {
     "name": "stdout",
     "output_type": "stream",
     "text": [
      "SARIMAX (2, 2, 1) x (1, 0, 1, 7)7 : BIC Calculated =14755.336444608498\n"
     ]
    },
    {
     "name": "stderr",
     "output_type": "stream",
     "text": [
      "/Users/marianafaria/opt/anaconda3/lib/python3.8/site-packages/statsmodels/base/model.py:566: ConvergenceWarning:\n",
      "\n",
      "Maximum Likelihood optimization failed to converge. Check mle_retvals\n",
      "\n"
     ]
    },
    {
     "name": "stdout",
     "output_type": "stream",
     "text": [
      "SARIMAX (2, 2, 1) x (1, 0, 2, 7)7 : BIC Calculated =14758.983759788098\n"
     ]
    },
    {
     "name": "stderr",
     "output_type": "stream",
     "text": [
      "/Users/marianafaria/opt/anaconda3/lib/python3.8/site-packages/statsmodels/base/model.py:566: ConvergenceWarning:\n",
      "\n",
      "Maximum Likelihood optimization failed to converge. Check mle_retvals\n",
      "\n"
     ]
    },
    {
     "name": "stdout",
     "output_type": "stream",
     "text": [
      "SARIMAX (2, 2, 1) x (1, 1, 0, 7)7 : BIC Calculated =15344.172521487732\n"
     ]
    },
    {
     "name": "stderr",
     "output_type": "stream",
     "text": [
      "/Users/marianafaria/opt/anaconda3/lib/python3.8/site-packages/statsmodels/base/model.py:566: ConvergenceWarning:\n",
      "\n",
      "Maximum Likelihood optimization failed to converge. Check mle_retvals\n",
      "\n"
     ]
    },
    {
     "name": "stdout",
     "output_type": "stream",
     "text": [
      "SARIMAX (2, 2, 1) x (1, 1, 1, 7)7 : BIC Calculated =14716.368879143016\n"
     ]
    },
    {
     "name": "stderr",
     "output_type": "stream",
     "text": [
      "/Users/marianafaria/opt/anaconda3/lib/python3.8/site-packages/statsmodels/base/model.py:566: ConvergenceWarning:\n",
      "\n",
      "Maximum Likelihood optimization failed to converge. Check mle_retvals\n",
      "\n"
     ]
    },
    {
     "name": "stdout",
     "output_type": "stream",
     "text": [
      "SARIMAX (2, 2, 1) x (1, 1, 2, 7)7 : BIC Calculated =14718.391167066346\n",
      "SARIMAX (2, 2, 1) x (1, 2, 0, 7)7 : BIC Calculated =16630.626071819894\n",
      "SARIMAX (2, 2, 1) x (1, 2, 1, 7)7 : BIC Calculated =15347.721825755414\n",
      "SARIMAX (2, 2, 1) x (1, 2, 2, 7)7 : BIC Calculated =74.31299675155903\n"
     ]
    },
    {
     "name": "stderr",
     "output_type": "stream",
     "text": [
      "/Users/marianafaria/opt/anaconda3/lib/python3.8/site-packages/statsmodels/base/model.py:566: ConvergenceWarning:\n",
      "\n",
      "Maximum Likelihood optimization failed to converge. Check mle_retvals\n",
      "\n"
     ]
    },
    {
     "name": "stdout",
     "output_type": "stream",
     "text": [
      "SARIMAX (2, 2, 1) x (2, 0, 0, 7)7 : BIC Calculated =14841.445540920902\n"
     ]
    },
    {
     "name": "stderr",
     "output_type": "stream",
     "text": [
      "/Users/marianafaria/opt/anaconda3/lib/python3.8/site-packages/statsmodels/base/model.py:566: ConvergenceWarning:\n",
      "\n",
      "Maximum Likelihood optimization failed to converge. Check mle_retvals\n",
      "\n"
     ]
    },
    {
     "name": "stdout",
     "output_type": "stream",
     "text": [
      "SARIMAX (2, 2, 1) x (2, 0, 1, 7)7 : BIC Calculated =14761.119794981027\n"
     ]
    },
    {
     "name": "stderr",
     "output_type": "stream",
     "text": [
      "/Users/marianafaria/opt/anaconda3/lib/python3.8/site-packages/statsmodels/base/model.py:566: ConvergenceWarning:\n",
      "\n",
      "Maximum Likelihood optimization failed to converge. Check mle_retvals\n",
      "\n"
     ]
    },
    {
     "name": "stdout",
     "output_type": "stream",
     "text": [
      "SARIMAX (2, 2, 1) x (2, 0, 2, 7)7 : BIC Calculated =14761.510020518946\n"
     ]
    },
    {
     "name": "stderr",
     "output_type": "stream",
     "text": [
      "/Users/marianafaria/opt/anaconda3/lib/python3.8/site-packages/statsmodels/base/model.py:566: ConvergenceWarning:\n",
      "\n",
      "Maximum Likelihood optimization failed to converge. Check mle_retvals\n",
      "\n"
     ]
    },
    {
     "name": "stdout",
     "output_type": "stream",
     "text": [
      "SARIMAX (2, 2, 1) x (2, 1, 0, 7)7 : BIC Calculated =15114.787564274437\n",
      "SARIMAX (2, 2, 1) x (2, 1, 1, 7)7 : BIC Calculated =14723.418117888234\n"
     ]
    },
    {
     "name": "stderr",
     "output_type": "stream",
     "text": [
      "/Users/marianafaria/opt/anaconda3/lib/python3.8/site-packages/statsmodels/base/model.py:566: ConvergenceWarning:\n",
      "\n",
      "Maximum Likelihood optimization failed to converge. Check mle_retvals\n",
      "\n"
     ]
    },
    {
     "name": "stdout",
     "output_type": "stream",
     "text": [
      "SARIMAX (2, 2, 1) x (2, 1, 2, 7)7 : BIC Calculated =14731.748625467077\n",
      "SARIMAX (2, 2, 1) x (2, 2, 0, 7)7 : BIC Calculated =16102.940588324882\n",
      "SARIMAX (2, 2, 1) x (2, 2, 1, 7)7 : BIC Calculated =15123.33841021462\n"
     ]
    },
    {
     "name": "stderr",
     "output_type": "stream",
     "text": [
      "/Users/marianafaria/opt/anaconda3/lib/python3.8/site-packages/statsmodels/base/model.py:566: ConvergenceWarning:\n",
      "\n",
      "Maximum Likelihood optimization failed to converge. Check mle_retvals\n",
      "\n"
     ]
    },
    {
     "name": "stdout",
     "output_type": "stream",
     "text": [
      "SARIMAX (2, 2, 2) x (0, 0, 0, 7)7 : BIC Calculated =14632.818112159379\n"
     ]
    },
    {
     "name": "stderr",
     "output_type": "stream",
     "text": [
      "/Users/marianafaria/opt/anaconda3/lib/python3.8/site-packages/statsmodels/base/model.py:566: ConvergenceWarning:\n",
      "\n",
      "Maximum Likelihood optimization failed to converge. Check mle_retvals\n",
      "\n"
     ]
    },
    {
     "name": "stdout",
     "output_type": "stream",
     "text": [
      "SARIMAX (2, 2, 2) x (0, 0, 1, 7)7 : BIC Calculated =14667.238667300237\n"
     ]
    },
    {
     "name": "stderr",
     "output_type": "stream",
     "text": [
      "/Users/marianafaria/opt/anaconda3/lib/python3.8/site-packages/statsmodels/base/model.py:566: ConvergenceWarning:\n",
      "\n",
      "Maximum Likelihood optimization failed to converge. Check mle_retvals\n",
      "\n"
     ]
    },
    {
     "name": "stdout",
     "output_type": "stream",
     "text": [
      "SARIMAX (2, 2, 2) x (0, 0, 2, 7)7 : BIC Calculated =14846.116870328115\n"
     ]
    },
    {
     "name": "stderr",
     "output_type": "stream",
     "text": [
      "/Users/marianafaria/opt/anaconda3/lib/python3.8/site-packages/statsmodels/base/model.py:566: ConvergenceWarning:\n",
      "\n",
      "Maximum Likelihood optimization failed to converge. Check mle_retvals\n",
      "\n"
     ]
    },
    {
     "name": "stdout",
     "output_type": "stream",
     "text": [
      "SARIMAX (2, 2, 2) x (0, 1, 0, 7)7 : BIC Calculated =15411.041823357848\n",
      "SARIMAX (2, 2, 2) x (0, 1, 1, 7)7 : BIC Calculated =14506.121200584204\n"
     ]
    },
    {
     "name": "stderr",
     "output_type": "stream",
     "text": [
      "/Users/marianafaria/opt/anaconda3/lib/python3.8/site-packages/statsmodels/base/model.py:566: ConvergenceWarning:\n",
      "\n",
      "Maximum Likelihood optimization failed to converge. Check mle_retvals\n",
      "\n"
     ]
    },
    {
     "name": "stdout",
     "output_type": "stream",
     "text": [
      "SARIMAX (2, 2, 2) x (0, 1, 2, 7)7 : BIC Calculated =14510.350806597222\n"
     ]
    },
    {
     "name": "stderr",
     "output_type": "stream",
     "text": [
      "/Users/marianafaria/opt/anaconda3/lib/python3.8/site-packages/statsmodels/base/model.py:566: ConvergenceWarning:\n",
      "\n",
      "Maximum Likelihood optimization failed to converge. Check mle_retvals\n",
      "\n"
     ]
    },
    {
     "name": "stdout",
     "output_type": "stream",
     "text": [
      "SARIMAX (2, 2, 2) x (0, 2, 0, 7)7 : BIC Calculated =17108.56784969801\n"
     ]
    },
    {
     "name": "stderr",
     "output_type": "stream",
     "text": [
      "/Users/marianafaria/opt/anaconda3/lib/python3.8/site-packages/statsmodels/base/model.py:566: ConvergenceWarning:\n",
      "\n",
      "Maximum Likelihood optimization failed to converge. Check mle_retvals\n",
      "\n"
     ]
    },
    {
     "name": "stdout",
     "output_type": "stream",
     "text": [
      "SARIMAX (2, 2, 2) x (0, 2, 1, 7)7 : BIC Calculated =15488.478751157743\n",
      "SARIMAX (2, 2, 2) x (0, 2, 2, 7)7 : BIC Calculated =14622.388814314894\n"
     ]
    },
    {
     "name": "stderr",
     "output_type": "stream",
     "text": [
      "/Users/marianafaria/opt/anaconda3/lib/python3.8/site-packages/statsmodels/base/model.py:566: ConvergenceWarning:\n",
      "\n",
      "Maximum Likelihood optimization failed to converge. Check mle_retvals\n",
      "\n"
     ]
    },
    {
     "name": "stdout",
     "output_type": "stream",
     "text": [
      "SARIMAX (2, 2, 2) x (1, 0, 0, 7)7 : BIC Calculated =14655.912970145517\n"
     ]
    },
    {
     "name": "stderr",
     "output_type": "stream",
     "text": [
      "/Users/marianafaria/opt/anaconda3/lib/python3.8/site-packages/statsmodels/base/model.py:566: ConvergenceWarning:\n",
      "\n",
      "Maximum Likelihood optimization failed to converge. Check mle_retvals\n",
      "\n"
     ]
    },
    {
     "name": "stdout",
     "output_type": "stream",
     "text": [
      "SARIMAX (2, 2, 2) x (1, 0, 1, 7)7 : BIC Calculated =14963.812989493406\n"
     ]
    },
    {
     "name": "stderr",
     "output_type": "stream",
     "text": [
      "/Users/marianafaria/opt/anaconda3/lib/python3.8/site-packages/statsmodels/base/model.py:566: ConvergenceWarning:\n",
      "\n",
      "Maximum Likelihood optimization failed to converge. Check mle_retvals\n",
      "\n"
     ]
    },
    {
     "name": "stdout",
     "output_type": "stream",
     "text": [
      "SARIMAX (2, 2, 2) x (1, 0, 2, 7)7 : BIC Calculated =14966.992606237824\n"
     ]
    },
    {
     "name": "stderr",
     "output_type": "stream",
     "text": [
      "/Users/marianafaria/opt/anaconda3/lib/python3.8/site-packages/statsmodels/base/model.py:566: ConvergenceWarning:\n",
      "\n",
      "Maximum Likelihood optimization failed to converge. Check mle_retvals\n",
      "\n"
     ]
    },
    {
     "name": "stdout",
     "output_type": "stream",
     "text": [
      "SARIMAX (2, 2, 2) x (1, 1, 0, 7)7 : BIC Calculated =15087.822596425089\n"
     ]
    },
    {
     "name": "stderr",
     "output_type": "stream",
     "text": [
      "/Users/marianafaria/opt/anaconda3/lib/python3.8/site-packages/statsmodels/base/model.py:566: ConvergenceWarning:\n",
      "\n",
      "Maximum Likelihood optimization failed to converge. Check mle_retvals\n",
      "\n"
     ]
    },
    {
     "name": "stdout",
     "output_type": "stream",
     "text": [
      "SARIMAX (2, 2, 2) x (1, 1, 1, 7)7 : BIC Calculated =14512.793261570709\n"
     ]
    },
    {
     "name": "stderr",
     "output_type": "stream",
     "text": [
      "/Users/marianafaria/opt/anaconda3/lib/python3.8/site-packages/statsmodels/base/model.py:566: ConvergenceWarning:\n",
      "\n",
      "Maximum Likelihood optimization failed to converge. Check mle_retvals\n",
      "\n"
     ]
    },
    {
     "name": "stdout",
     "output_type": "stream",
     "text": [
      "SARIMAX (2, 2, 2) x (1, 1, 2, 7)7 : BIC Calculated =14516.067858019394\n"
     ]
    },
    {
     "name": "stderr",
     "output_type": "stream",
     "text": [
      "/Users/marianafaria/opt/anaconda3/lib/python3.8/site-packages/statsmodels/base/model.py:566: ConvergenceWarning:\n",
      "\n",
      "Maximum Likelihood optimization failed to converge. Check mle_retvals\n",
      "\n"
     ]
    },
    {
     "name": "stdout",
     "output_type": "stream",
     "text": [
      "SARIMAX (2, 2, 2) x (1, 2, 0, 7)7 : BIC Calculated =16281.841841749034\n"
     ]
    },
    {
     "name": "stderr",
     "output_type": "stream",
     "text": [
      "/Users/marianafaria/opt/anaconda3/lib/python3.8/site-packages/statsmodels/base/model.py:566: ConvergenceWarning:\n",
      "\n",
      "Maximum Likelihood optimization failed to converge. Check mle_retvals\n",
      "\n"
     ]
    },
    {
     "name": "stdout",
     "output_type": "stream",
     "text": [
      "SARIMAX (2, 2, 2) x (1, 2, 1, 7)7 : BIC Calculated =15122.540642656979\n"
     ]
    },
    {
     "name": "stderr",
     "output_type": "stream",
     "text": [
      "/Users/marianafaria/opt/anaconda3/lib/python3.8/site-packages/statsmodels/base/model.py:566: ConvergenceWarning:\n",
      "\n",
      "Maximum Likelihood optimization failed to converge. Check mle_retvals\n",
      "\n"
     ]
    },
    {
     "name": "stdout",
     "output_type": "stream",
     "text": [
      "SARIMAX (2, 2, 2) x (1, 2, 2, 7)7 : BIC Calculated =14621.18343603219\n",
      "SARIMAX (2, 2, 2) x (2, 0, 0, 7)7 : BIC Calculated =14819.829854861731\n"
     ]
    },
    {
     "name": "stderr",
     "output_type": "stream",
     "text": [
      "/Users/marianafaria/opt/anaconda3/lib/python3.8/site-packages/statsmodels/base/model.py:566: ConvergenceWarning:\n",
      "\n",
      "Maximum Likelihood optimization failed to converge. Check mle_retvals\n",
      "\n"
     ]
    },
    {
     "name": "stdout",
     "output_type": "stream",
     "text": [
      "SARIMAX (2, 2, 2) x (2, 0, 1, 7)7 : BIC Calculated =14967.004875668752\n"
     ]
    },
    {
     "name": "stderr",
     "output_type": "stream",
     "text": [
      "/Users/marianafaria/opt/anaconda3/lib/python3.8/site-packages/statsmodels/base/model.py:566: ConvergenceWarning:\n",
      "\n",
      "Maximum Likelihood optimization failed to converge. Check mle_retvals\n",
      "\n"
     ]
    },
    {
     "name": "stdout",
     "output_type": "stream",
     "text": [
      "SARIMAX (2, 2, 2) x (2, 0, 2, 7)7 : BIC Calculated =14736.526702001174\n"
     ]
    },
    {
     "name": "stderr",
     "output_type": "stream",
     "text": [
      "/Users/marianafaria/opt/anaconda3/lib/python3.8/site-packages/statsmodels/base/model.py:566: ConvergenceWarning:\n",
      "\n",
      "Maximum Likelihood optimization failed to converge. Check mle_retvals\n",
      "\n"
     ]
    },
    {
     "name": "stdout",
     "output_type": "stream",
     "text": [
      "SARIMAX (2, 2, 2) x (2, 1, 0, 7)7 : BIC Calculated =14924.860381073346\n"
     ]
    },
    {
     "name": "stderr",
     "output_type": "stream",
     "text": [
      "/Users/marianafaria/opt/anaconda3/lib/python3.8/site-packages/statsmodels/base/model.py:566: ConvergenceWarning:\n",
      "\n",
      "Maximum Likelihood optimization failed to converge. Check mle_retvals\n",
      "\n"
     ]
    },
    {
     "name": "stdout",
     "output_type": "stream",
     "text": [
      "SARIMAX (2, 2, 2) x (2, 1, 1, 7)7 : BIC Calculated =14528.208480563404\n"
     ]
    },
    {
     "name": "stderr",
     "output_type": "stream",
     "text": [
      "/Users/marianafaria/opt/anaconda3/lib/python3.8/site-packages/statsmodels/base/model.py:566: ConvergenceWarning:\n",
      "\n",
      "Maximum Likelihood optimization failed to converge. Check mle_retvals\n",
      "\n"
     ]
    },
    {
     "name": "stdout",
     "output_type": "stream",
     "text": [
      "SARIMAX (2, 2, 2) x (2, 1, 2, 7)7 : BIC Calculated =14537.335296824298\n"
     ]
    },
    {
     "name": "stderr",
     "output_type": "stream",
     "text": [
      "/Users/marianafaria/opt/anaconda3/lib/python3.8/site-packages/statsmodels/base/model.py:566: ConvergenceWarning:\n",
      "\n",
      "Maximum Likelihood optimization failed to converge. Check mle_retvals\n",
      "\n"
     ]
    },
    {
     "name": "stdout",
     "output_type": "stream",
     "text": [
      "SARIMAX (2, 2, 2) x (2, 2, 0, 7)7 : BIC Calculated =15818.025456084648\n"
     ]
    },
    {
     "name": "stderr",
     "output_type": "stream",
     "text": [
      "/Users/marianafaria/opt/anaconda3/lib/python3.8/site-packages/statsmodels/base/model.py:566: ConvergenceWarning:\n",
      "\n",
      "Maximum Likelihood optimization failed to converge. Check mle_retvals\n",
      "\n"
     ]
    },
    {
     "name": "stdout",
     "output_type": "stream",
     "text": [
      "SARIMAX (2, 2, 2) x (2, 2, 1, 7)7 : BIC Calculated =14945.02804577987\n"
     ]
    },
    {
     "name": "stderr",
     "output_type": "stream",
     "text": [
      "/Users/marianafaria/opt/anaconda3/lib/python3.8/site-packages/statsmodels/base/model.py:566: ConvergenceWarning:\n",
      "\n",
      "Maximum Likelihood optimization failed to converge. Check mle_retvals\n",
      "\n"
     ]
    },
    {
     "name": "stdout",
     "output_type": "stream",
     "text": [
      "SARIMAX (2, 2, 2) x (2, 2, 2, 7)7 : BIC Calculated =14655.184625322428\n"
     ]
    },
    {
     "data": {
      "text/html": [
       "<div>\n",
       "<style scoped>\n",
       "    .dataframe tbody tr th:only-of-type {\n",
       "        vertical-align: middle;\n",
       "    }\n",
       "\n",
       "    .dataframe tbody tr th {\n",
       "        vertical-align: top;\n",
       "    }\n",
       "\n",
       "    .dataframe thead th {\n",
       "        text-align: right;\n",
       "    }\n",
       "</style>\n",
       "<table border=\"1\" class=\"dataframe\">\n",
       "  <thead>\n",
       "    <tr style=\"text-align: right;\">\n",
       "      <th></th>\n",
       "      <th>pdq</th>\n",
       "      <th>pdqs</th>\n",
       "      <th>bic</th>\n",
       "    </tr>\n",
       "  </thead>\n",
       "  <tbody>\n",
       "    <tr>\n",
       "      <th>688</th>\n",
       "      <td>(2, 2, 1)</td>\n",
       "      <td>(1, 2, 2, 7)</td>\n",
       "      <td>74.312997</td>\n",
       "    </tr>\n",
       "    <tr>\n",
       "      <th>377</th>\n",
       "      <td>(1, 1, 1)</td>\n",
       "      <td>(2, 2, 2, 7)</td>\n",
       "      <td>1027.620758</td>\n",
       "    </tr>\n",
       "    <tr>\n",
       "      <th>206</th>\n",
       "      <td>(0, 2, 1)</td>\n",
       "      <td>(1, 2, 2, 7)</td>\n",
       "      <td>14372.083378</td>\n",
       "    </tr>\n",
       "    <tr>\n",
       "      <th>112</th>\n",
       "      <td>(0, 1, 1)</td>\n",
       "      <td>(0, 1, 1, 7)</td>\n",
       "      <td>14471.615758</td>\n",
       "    </tr>\n",
       "    <tr>\n",
       "      <th>274</th>\n",
       "      <td>(1, 0, 1)</td>\n",
       "      <td>(0, 1, 1, 7)</td>\n",
       "      <td>14472.080735</td>\n",
       "    </tr>\n",
       "  </tbody>\n",
       "</table>\n",
       "</div>"
      ],
      "text/plain": [
       "           pdq          pdqs           bic\n",
       "688  (2, 2, 1)  (1, 2, 2, 7)     74.312997\n",
       "377  (1, 1, 1)  (2, 2, 2, 7)   1027.620758\n",
       "206  (0, 2, 1)  (1, 2, 2, 7)  14372.083378\n",
       "112  (0, 1, 1)  (0, 1, 1, 7)  14471.615758\n",
       "274  (1, 0, 1)  (0, 1, 1, 7)  14472.080735"
      ]
     },
     "execution_count": 201,
     "metadata": {},
     "output_type": "execute_result"
    }
   ],
   "source": [
    "ts=amarelos_adm['URG_EPISODIO']\n",
    "exog=amarelos_adm[['dia_semana','feriado','festas']]\n",
    "\n",
    "### Import Packages ###\n",
    "\n",
    "import itertools\n",
    "import statsmodels.api as sm\n",
    "\n",
    "### Define Parameter Ranges to Test ###\n",
    "\n",
    "# Note: higher numbers will result in code taking much longer to run\n",
    "# Here we have it set to test p,d,q each = 0, 1 & 2\n",
    "\n",
    "# Define the p, d and q parameters to take any value between 0 and 3 (exclusive)\n",
    "p = d = q = range(0, 3)\n",
    "\n",
    "# Generate all different combinations of p, q and q triplets\n",
    "pdq = list(itertools.product(p, d, q))\n",
    "\n",
    "# Generate all different combinations of seasonal p, q and q triplets\n",
    "# Note: here we have 12 in the 's' position as we have monthly data\n",
    "# You'll want to change this according to your time series' frequency\n",
    "pdqs = [(x[0], x[1], x[2], 7) for x in list(itertools.product(p, d, q))]\n",
    "\n",
    "### Run Grid Search ###\n",
    "\n",
    "# Note: this code will take a while to run\n",
    "\n",
    "# Define function\n",
    "def sarimax_gridsearch(ts, exog, pdq, pdqs, maxiter=50, freq='M'):\n",
    "   # '''\n",
    "    #Input: \n",
    "     #   ts : your time series data\n",
    "      #  pdq : ARIMA combinations from above\n",
    "       # pdqs : seasonal ARIMA combinations from above\n",
    "       # maxiter : number of iterations, increase if your model isn't converging\n",
    "       # frequency : default='M' for month. Change to suit your time series frequency\n",
    "        #    e.g. 'D' for day, 'H' for hour, 'Y' for year. \n",
    "        \n",
    "    #Return:\n",
    "     #   Prints out top 5 parameter combinations\n",
    "      #  Returns dataframe of parameter combinations ranked by BIC\n",
    "    #'''\n",
    "\n",
    "    # Run a grid search with pdq and seasonal pdq parameters and get the best BIC value\n",
    "    ans = []\n",
    "    for comb in pdq:\n",
    "        for combs in pdqs:\n",
    "            try:\n",
    "                \n",
    "                mod = sm.tsa.statespace.SARIMAX(ts,\n",
    "                                                exog=exog,\n",
    "                                                order=comb,\n",
    "                                                seasonal_order=combs)\n",
    "\n",
    "                output = mod.fit(maxiter=maxiter) \n",
    "                ans.append([comb, combs, output.bic])\n",
    "                print('SARIMAX {} x {}7 : BIC Calculated ={}'.format(comb, combs, output.bic))\n",
    "            except:\n",
    "                continue\n",
    "            \n",
    "    # Find the parameters with minimal BIC value\n",
    "\n",
    "    # Convert into dataframe\n",
    "    ans_df = pd.DataFrame(ans, columns=['pdq', 'pdqs', 'bic'])\n",
    "\n",
    "    # Sort and return top 5 combinations\n",
    "    ans_df = ans_df.sort_values(by=['bic'],ascending=True)[0:5]\n",
    "    \n",
    "    return ans_df\n",
    "    \n",
    "### Apply function to your time series data ###\n",
    "\n",
    "# Remember to change frequency to match your time series data\n",
    "sarimax_gridsearch(ts,exog, pdq, pdqs, freq='M')"
   ]
  },
  {
   "cell_type": "code",
   "execution_count": 202,
   "metadata": {
    "scrolled": true
   },
   "outputs": [
    {
     "name": "stdout",
     "output_type": "stream",
     "text": [
      "SARIMAX (0, 0, 0) x (0, 0, 0, 30)30 : BIC Calculated =20176.924921368307\n",
      "SARIMAX (0, 0, 0) x (0, 0, 1, 30)30 : BIC Calculated =19974.153040765064\n",
      "SARIMAX (0, 0, 0) x (0, 0, 2, 30)30 : BIC Calculated =19220.91071811867\n",
      "SARIMAX (0, 0, 0) x (0, 1, 0, 30)30 : BIC Calculated =15823.168008277476\n",
      "SARIMAX (0, 0, 0) x (0, 1, 1, 30)30 : BIC Calculated =15432.110760009513\n",
      "SARIMAX (0, 0, 0) x (0, 1, 2, 30)30 : BIC Calculated =15391.910705297496\n",
      "SARIMAX (0, 0, 0) x (0, 2, 0, 30)30 : BIC Calculated =17190.4945776425\n"
     ]
    },
    {
     "name": "stderr",
     "output_type": "stream",
     "text": [
      "/Users/marianafaria/opt/anaconda3/lib/python3.8/site-packages/statsmodels/tsa/statespace/sarimax.py:1009: UserWarning:\n",
      "\n",
      "Non-invertible starting seasonal moving average Using zeros as starting parameters.\n",
      "\n"
     ]
    },
    {
     "name": "stdout",
     "output_type": "stream",
     "text": [
      "SARIMAX (0, 0, 0) x (0, 2, 1, 30)30 : BIC Calculated =15697.251034208555\n",
      "SARIMAX (0, 0, 0) x (0, 2, 2, 30)30 : BIC Calculated =15366.264686623821\n",
      "SARIMAX (0, 0, 0) x (1, 0, 0, 30)30 : BIC Calculated =16214.16745114771\n",
      "SARIMAX (0, 0, 0) x (1, 0, 1, 30)30 : BIC Calculated =15833.790544157162\n"
     ]
    },
    {
     "name": "stderr",
     "output_type": "stream",
     "text": [
      "/Users/marianafaria/opt/anaconda3/lib/python3.8/site-packages/statsmodels/base/model.py:566: ConvergenceWarning:\n",
      "\n",
      "Maximum Likelihood optimization failed to converge. Check mle_retvals\n",
      "\n"
     ]
    },
    {
     "name": "stdout",
     "output_type": "stream",
     "text": [
      "SARIMAX (0, 0, 0) x (1, 0, 2, 30)30 : BIC Calculated =15802.204012613522\n",
      "SARIMAX (0, 0, 0) x (1, 1, 0, 30)30 : BIC Calculated =15585.741082203\n",
      "SARIMAX (0, 0, 0) x (1, 1, 1, 30)30 : BIC Calculated =15377.024857887127\n",
      "SARIMAX (0, 0, 0) x (1, 1, 2, 30)30 : BIC Calculated =15355.088433545674\n",
      "SARIMAX (0, 0, 0) x (1, 2, 0, 30)30 : BIC Calculated =16446.811123717667\n",
      "SARIMAX (0, 0, 0) x (1, 2, 1, 30)30 : BIC Calculated =15482.455749150526\n"
     ]
    },
    {
     "name": "stderr",
     "output_type": "stream",
     "text": [
      "/Users/marianafaria/opt/anaconda3/lib/python3.8/site-packages/statsmodels/base/model.py:566: ConvergenceWarning:\n",
      "\n",
      "Maximum Likelihood optimization failed to converge. Check mle_retvals\n",
      "\n"
     ]
    },
    {
     "name": "stdout",
     "output_type": "stream",
     "text": [
      "SARIMAX (0, 0, 0) x (1, 2, 2, 30)30 : BIC Calculated =15334.711366681902\n",
      "SARIMAX (0, 0, 0) x (2, 0, 0, 30)30 : BIC Calculated =15982.530971763472\n"
     ]
    },
    {
     "name": "stderr",
     "output_type": "stream",
     "text": [
      "/Users/marianafaria/opt/anaconda3/lib/python3.8/site-packages/statsmodels/base/model.py:566: ConvergenceWarning:\n",
      "\n",
      "Maximum Likelihood optimization failed to converge. Check mle_retvals\n",
      "\n"
     ]
    },
    {
     "name": "stdout",
     "output_type": "stream",
     "text": [
      "SARIMAX (0, 0, 0) x (2, 0, 1, 30)30 : BIC Calculated =15779.797689428773\n",
      "SARIMAX (0, 0, 0) x (2, 1, 0, 30)30 : BIC Calculated =15506.996540564045\n"
     ]
    },
    {
     "name": "stderr",
     "output_type": "stream",
     "text": [
      "/Users/marianafaria/opt/anaconda3/lib/python3.8/site-packages/statsmodels/base/model.py:566: ConvergenceWarning:\n",
      "\n",
      "Maximum Likelihood optimization failed to converge. Check mle_retvals\n",
      "\n"
     ]
    },
    {
     "name": "stdout",
     "output_type": "stream",
     "text": [
      "SARIMAX (0, 0, 0) x (2, 1, 1, 30)30 : BIC Calculated =15361.804294105652\n"
     ]
    },
    {
     "name": "stderr",
     "output_type": "stream",
     "text": [
      "/Users/marianafaria/opt/anaconda3/lib/python3.8/site-packages/statsmodels/base/model.py:566: ConvergenceWarning:\n",
      "\n",
      "Maximum Likelihood optimization failed to converge. Check mle_retvals\n",
      "\n"
     ]
    },
    {
     "name": "stdout",
     "output_type": "stream",
     "text": [
      "SARIMAX (0, 0, 0) x (2, 1, 2, 30)30 : BIC Calculated =15362.004723091695\n",
      "SARIMAX (0, 0, 0) x (2, 2, 0, 30)30 : BIC Calculated =16049.992958126662\n",
      "SARIMAX (0, 0, 0) x (2, 2, 1, 30)30 : BIC Calculated =15416.722758394575\n"
     ]
    },
    {
     "name": "stderr",
     "output_type": "stream",
     "text": [
      "/Users/marianafaria/opt/anaconda3/lib/python3.8/site-packages/statsmodels/base/model.py:566: ConvergenceWarning:\n",
      "\n",
      "Maximum Likelihood optimization failed to converge. Check mle_retvals\n",
      "\n"
     ]
    },
    {
     "name": "stdout",
     "output_type": "stream",
     "text": [
      "SARIMAX (0, 0, 0) x (2, 2, 2, 30)30 : BIC Calculated =15337.91489887246\n",
      "SARIMAX (0, 0, 1) x (0, 0, 0, 30)30 : BIC Calculated =19667.404385256345\n",
      "SARIMAX (0, 0, 1) x (0, 0, 1, 30)30 : BIC Calculated =18907.40647169807\n"
     ]
    },
    {
     "name": "stderr",
     "output_type": "stream",
     "text": [
      "/Users/marianafaria/opt/anaconda3/lib/python3.8/site-packages/statsmodels/base/model.py:566: ConvergenceWarning:\n",
      "\n",
      "Maximum Likelihood optimization failed to converge. Check mle_retvals\n",
      "\n"
     ]
    },
    {
     "name": "stdout",
     "output_type": "stream",
     "text": [
      "SARIMAX (0, 0, 1) x (0, 0, 2, 30)30 : BIC Calculated =18278.22451235055\n",
      "SARIMAX (0, 0, 1) x (0, 1, 0, 30)30 : BIC Calculated =15696.999562640813\n",
      "SARIMAX (0, 0, 1) x (0, 1, 1, 30)30 : BIC Calculated =15169.75194895418\n",
      "SARIMAX (0, 0, 1) x (0, 1, 2, 30)30 : BIC Calculated =15140.05999554984\n",
      "SARIMAX (0, 0, 1) x (0, 2, 0, 30)30 : BIC Calculated =17101.636362871795\n",
      "SARIMAX (0, 0, 1) x (0, 2, 1, 30)30 : BIC Calculated =15573.476158812355\n",
      "SARIMAX (0, 0, 1) x (0, 2, 2, 30)30 : BIC Calculated =15128.770573588994\n",
      "SARIMAX (0, 0, 1) x (1, 0, 0, 30)30 : BIC Calculated =16069.342299309988\n",
      "SARIMAX (0, 0, 1) x (1, 0, 1, 30)30 : BIC Calculated =18030.869694826026\n"
     ]
    },
    {
     "name": "stderr",
     "output_type": "stream",
     "text": [
      "/Users/marianafaria/opt/anaconda3/lib/python3.8/site-packages/statsmodels/base/model.py:566: ConvergenceWarning:\n",
      "\n",
      "Maximum Likelihood optimization failed to converge. Check mle_retvals\n",
      "\n"
     ]
    },
    {
     "name": "stdout",
     "output_type": "stream",
     "text": [
      "SARIMAX (0, 0, 1) x (1, 0, 2, 30)30 : BIC Calculated =15534.046965241738\n",
      "SARIMAX (0, 0, 1) x (1, 1, 0, 30)30 : BIC Calculated =15407.87178466729\n"
     ]
    },
    {
     "name": "stderr",
     "output_type": "stream",
     "text": [
      "/Users/marianafaria/opt/anaconda3/lib/python3.8/site-packages/statsmodels/base/model.py:566: ConvergenceWarning:\n",
      "\n",
      "Maximum Likelihood optimization failed to converge. Check mle_retvals\n",
      "\n"
     ]
    },
    {
     "name": "stdout",
     "output_type": "stream",
     "text": [
      "SARIMAX (0, 0, 1) x (1, 1, 1, 30)30 : BIC Calculated =15131.744638640477\n"
     ]
    },
    {
     "name": "stderr",
     "output_type": "stream",
     "text": [
      "/Users/marianafaria/opt/anaconda3/lib/python3.8/site-packages/statsmodels/base/model.py:566: ConvergenceWarning:\n",
      "\n",
      "Maximum Likelihood optimization failed to converge. Check mle_retvals\n",
      "\n"
     ]
    },
    {
     "name": "stdout",
     "output_type": "stream",
     "text": [
      "SARIMAX (0, 0, 1) x (1, 1, 2, 30)30 : BIC Calculated =15115.61512213497\n",
      "SARIMAX (0, 0, 1) x (1, 2, 0, 30)30 : BIC Calculated =16317.038162486493\n",
      "SARIMAX (0, 0, 1) x (1, 2, 1, 30)30 : BIC Calculated =15309.550848112449\n"
     ]
    },
    {
     "name": "stderr",
     "output_type": "stream",
     "text": [
      "/Users/marianafaria/opt/anaconda3/lib/python3.8/site-packages/statsmodels/base/model.py:566: ConvergenceWarning:\n",
      "\n",
      "Maximum Likelihood optimization failed to converge. Check mle_retvals\n",
      "\n"
     ]
    },
    {
     "name": "stdout",
     "output_type": "stream",
     "text": [
      "SARIMAX (0, 0, 1) x (1, 2, 2, 30)30 : BIC Calculated =15108.37298198714\n"
     ]
    },
    {
     "name": "stderr",
     "output_type": "stream",
     "text": [
      "/Users/marianafaria/opt/anaconda3/lib/python3.8/site-packages/statsmodels/base/model.py:566: ConvergenceWarning:\n",
      "\n",
      "Maximum Likelihood optimization failed to converge. Check mle_retvals\n",
      "\n"
     ]
    },
    {
     "name": "stdout",
     "output_type": "stream",
     "text": [
      "SARIMAX (0, 0, 1) x (2, 0, 0, 30)30 : BIC Calculated =15798.43305861402\n"
     ]
    },
    {
     "name": "stderr",
     "output_type": "stream",
     "text": [
      "/Users/marianafaria/opt/anaconda3/lib/python3.8/site-packages/statsmodels/base/model.py:566: ConvergenceWarning:\n",
      "\n",
      "Maximum Likelihood optimization failed to converge. Check mle_retvals\n",
      "\n"
     ]
    },
    {
     "name": "stdout",
     "output_type": "stream",
     "text": [
      "SARIMAX (0, 0, 1) x (2, 0, 2, 30)30 : BIC Calculated =15784.751076854607\n",
      "SARIMAX (0, 0, 1) x (2, 1, 0, 30)30 : BIC Calculated =15304.5389407825\n"
     ]
    },
    {
     "name": "stderr",
     "output_type": "stream",
     "text": [
      "/Users/marianafaria/opt/anaconda3/lib/python3.8/site-packages/statsmodels/base/model.py:566: ConvergenceWarning:\n",
      "\n",
      "Maximum Likelihood optimization failed to converge. Check mle_retvals\n",
      "\n"
     ]
    },
    {
     "name": "stdout",
     "output_type": "stream",
     "text": [
      "SARIMAX (0, 0, 1) x (2, 1, 1, 30)30 : BIC Calculated =15122.860354374128\n",
      "SARIMAX (0, 0, 1) x (2, 1, 2, 30)30 : BIC Calculated =15151.585612676145\n",
      "SARIMAX (0, 0, 1) x (2, 2, 0, 30)30 : BIC Calculated =15899.610155149963\n",
      "SARIMAX (0, 0, 1) x (2, 2, 1, 30)30 : BIC Calculated =15221.157565664029\n"
     ]
    },
    {
     "name": "stderr",
     "output_type": "stream",
     "text": [
      "/Users/marianafaria/opt/anaconda3/lib/python3.8/site-packages/statsmodels/base/model.py:566: ConvergenceWarning:\n",
      "\n",
      "Maximum Likelihood optimization failed to converge. Check mle_retvals\n",
      "\n"
     ]
    },
    {
     "name": "stdout",
     "output_type": "stream",
     "text": [
      "SARIMAX (0, 0, 1) x (2, 2, 2, 30)30 : BIC Calculated =15113.43751292474\n"
     ]
    },
    {
     "name": "stderr",
     "output_type": "stream",
     "text": [
      "/Users/marianafaria/opt/anaconda3/lib/python3.8/site-packages/statsmodels/base/model.py:566: ConvergenceWarning:\n",
      "\n",
      "Maximum Likelihood optimization failed to converge. Check mle_retvals\n",
      "\n"
     ]
    },
    {
     "name": "stdout",
     "output_type": "stream",
     "text": [
      "SARIMAX (0, 0, 2) x (0, 0, 0, 30)30 : BIC Calculated =18894.860169882286\n",
      "SARIMAX (0, 0, 2) x (0, 0, 1, 30)30 : BIC Calculated =18255.311733834278\n"
     ]
    },
    {
     "name": "stderr",
     "output_type": "stream",
     "text": [
      "/Users/marianafaria/opt/anaconda3/lib/python3.8/site-packages/statsmodels/base/model.py:566: ConvergenceWarning:\n",
      "\n",
      "Maximum Likelihood optimization failed to converge. Check mle_retvals\n",
      "\n"
     ]
    },
    {
     "name": "stdout",
     "output_type": "stream",
     "text": [
      "SARIMAX (0, 0, 2) x (0, 0, 2, 30)30 : BIC Calculated =17772.211523431743\n",
      "SARIMAX (0, 0, 2) x (0, 1, 0, 30)30 : BIC Calculated =15681.598423916586\n",
      "SARIMAX (0, 0, 2) x (0, 1, 1, 30)30 : BIC Calculated =15086.167527358977\n"
     ]
    },
    {
     "name": "stderr",
     "output_type": "stream",
     "text": [
      "/Users/marianafaria/opt/anaconda3/lib/python3.8/site-packages/statsmodels/base/model.py:566: ConvergenceWarning:\n",
      "\n",
      "Maximum Likelihood optimization failed to converge. Check mle_retvals\n",
      "\n"
     ]
    },
    {
     "name": "stdout",
     "output_type": "stream",
     "text": [
      "SARIMAX (0, 0, 2) x (0, 1, 2, 30)30 : BIC Calculated =15064.65016694954\n",
      "SARIMAX (0, 0, 2) x (0, 2, 0, 30)30 : BIC Calculated =17097.04075211461\n",
      "SARIMAX (0, 0, 2) x (0, 2, 1, 30)30 : BIC Calculated =15558.458925090126\n",
      "SARIMAX (0, 0, 2) x (0, 2, 2, 30)30 : BIC Calculated =15057.83472111493\n"
     ]
    },
    {
     "name": "stderr",
     "output_type": "stream",
     "text": [
      "/Users/marianafaria/opt/anaconda3/lib/python3.8/site-packages/statsmodels/base/model.py:566: ConvergenceWarning:\n",
      "\n",
      "Maximum Likelihood optimization failed to converge. Check mle_retvals\n",
      "\n"
     ]
    },
    {
     "name": "stdout",
     "output_type": "stream",
     "text": [
      "SARIMAX (0, 0, 2) x (1, 0, 0, 30)30 : BIC Calculated =16069.034507153241\n"
     ]
    },
    {
     "name": "stderr",
     "output_type": "stream",
     "text": [
      "/Users/marianafaria/opt/anaconda3/lib/python3.8/site-packages/statsmodels/base/model.py:566: ConvergenceWarning:\n",
      "\n",
      "Maximum Likelihood optimization failed to converge. Check mle_retvals\n",
      "\n"
     ]
    },
    {
     "name": "stdout",
     "output_type": "stream",
     "text": [
      "SARIMAX (0, 0, 2) x (1, 0, 1, 30)30 : BIC Calculated =15461.599410248027\n"
     ]
    },
    {
     "name": "stderr",
     "output_type": "stream",
     "text": [
      "/Users/marianafaria/opt/anaconda3/lib/python3.8/site-packages/statsmodels/base/model.py:566: ConvergenceWarning:\n",
      "\n",
      "Maximum Likelihood optimization failed to converge. Check mle_retvals\n",
      "\n"
     ]
    },
    {
     "name": "stdout",
     "output_type": "stream",
     "text": [
      "SARIMAX (0, 0, 2) x (1, 0, 2, 30)30 : BIC Calculated =15439.894414393608\n",
      "SARIMAX (0, 0, 2) x (1, 1, 0, 30)30 : BIC Calculated =15364.664643780625\n",
      "SARIMAX (0, 0, 2) x (1, 1, 1, 30)30 : BIC Calculated =15060.549736751347\n"
     ]
    },
    {
     "name": "stderr",
     "output_type": "stream",
     "text": [
      "/Users/marianafaria/opt/anaconda3/lib/python3.8/site-packages/statsmodels/base/model.py:566: ConvergenceWarning:\n",
      "\n",
      "Maximum Likelihood optimization failed to converge. Check mle_retvals\n",
      "\n"
     ]
    },
    {
     "name": "stdout",
     "output_type": "stream",
     "text": [
      "SARIMAX (0, 0, 2) x (1, 1, 2, 30)30 : BIC Calculated =15044.800138922606\n",
      "SARIMAX (0, 0, 2) x (1, 2, 0, 30)30 : BIC Calculated =16292.034462611333\n",
      "SARIMAX (0, 0, 2) x (1, 2, 1, 30)30 : BIC Calculated =15268.205151219507\n",
      "SARIMAX (0, 0, 2) x (1, 2, 2, 30)30 : BIC Calculated =15045.247007800743\n"
     ]
    },
    {
     "name": "stderr",
     "output_type": "stream",
     "text": [
      "/Users/marianafaria/opt/anaconda3/lib/python3.8/site-packages/statsmodels/base/model.py:566: ConvergenceWarning:\n",
      "\n",
      "Maximum Likelihood optimization failed to converge. Check mle_retvals\n",
      "\n"
     ]
    },
    {
     "name": "stdout",
     "output_type": "stream",
     "text": [
      "SARIMAX (0, 0, 2) x (2, 0, 0, 30)30 : BIC Calculated =15788.747191947432\n"
     ]
    },
    {
     "name": "stderr",
     "output_type": "stream",
     "text": [
      "/Users/marianafaria/opt/anaconda3/lib/python3.8/site-packages/statsmodels/base/model.py:566: ConvergenceWarning:\n",
      "\n",
      "Maximum Likelihood optimization failed to converge. Check mle_retvals\n",
      "\n"
     ]
    },
    {
     "name": "stdout",
     "output_type": "stream",
     "text": [
      "SARIMAX (0, 0, 2) x (2, 0, 1, 30)30 : BIC Calculated =15436.13248691266\n"
     ]
    },
    {
     "name": "stderr",
     "output_type": "stream",
     "text": [
      "/Users/marianafaria/opt/anaconda3/lib/python3.8/site-packages/statsmodels/base/model.py:566: ConvergenceWarning:\n",
      "\n",
      "Maximum Likelihood optimization failed to converge. Check mle_retvals\n",
      "\n"
     ]
    },
    {
     "name": "stdout",
     "output_type": "stream",
     "text": [
      "SARIMAX (0, 0, 2) x (2, 0, 2, 30)30 : BIC Calculated =15524.162383862347\n",
      "SARIMAX (0, 0, 2) x (2, 1, 0, 30)30 : BIC Calculated =15254.676025021758\n"
     ]
    },
    {
     "name": "stderr",
     "output_type": "stream",
     "text": [
      "/Users/marianafaria/opt/anaconda3/lib/python3.8/site-packages/statsmodels/base/model.py:566: ConvergenceWarning:\n",
      "\n",
      "Maximum Likelihood optimization failed to converge. Check mle_retvals\n",
      "\n"
     ]
    },
    {
     "name": "stdout",
     "output_type": "stream",
     "text": [
      "SARIMAX (0, 0, 2) x (2, 1, 1, 30)30 : BIC Calculated =15049.57721819562\n"
     ]
    },
    {
     "name": "stderr",
     "output_type": "stream",
     "text": [
      "/Users/marianafaria/opt/anaconda3/lib/python3.8/site-packages/statsmodels/base/model.py:566: ConvergenceWarning:\n",
      "\n",
      "Maximum Likelihood optimization failed to converge. Check mle_retvals\n",
      "\n"
     ]
    },
    {
     "name": "stdout",
     "output_type": "stream",
     "text": [
      "SARIMAX (0, 0, 2) x (2, 1, 2, 30)30 : BIC Calculated =15074.13491982905\n",
      "SARIMAX (0, 0, 2) x (2, 2, 0, 30)30 : BIC Calculated =15868.727742217792\n",
      "SARIMAX (0, 0, 2) x (2, 2, 1, 30)30 : BIC Calculated =15173.619634076374\n"
     ]
    },
    {
     "name": "stderr",
     "output_type": "stream",
     "text": [
      "/Users/marianafaria/opt/anaconda3/lib/python3.8/site-packages/statsmodels/base/model.py:566: ConvergenceWarning:\n",
      "\n",
      "Maximum Likelihood optimization failed to converge. Check mle_retvals\n",
      "\n"
     ]
    },
    {
     "name": "stdout",
     "output_type": "stream",
     "text": [
      "SARIMAX (0, 0, 2) x (2, 2, 2, 30)30 : BIC Calculated =15049.8518926213\n",
      "SARIMAX (0, 1, 0) x (0, 0, 0, 30)30 : BIC Calculated =15440.924397406257\n",
      "SARIMAX (0, 1, 0) x (0, 0, 1, 30)30 : BIC Calculated =15448.360863781092\n",
      "SARIMAX (0, 1, 0) x (0, 0, 2, 30)30 : BIC Calculated =15452.20560846582\n",
      "SARIMAX (0, 1, 0) x (0, 1, 0, 30)30 : BIC Calculated =16327.438122616719\n",
      "SARIMAX (0, 1, 0) x (0, 1, 1, 30)30 : BIC Calculated =15305.576141627416\n",
      "SARIMAX (0, 1, 0) x (0, 1, 2, 30)30 : BIC Calculated =15312.948772302507\n",
      "SARIMAX (0, 1, 0) x (0, 2, 0, 30)30 : BIC Calculated =17800.900196409177\n",
      "SARIMAX (0, 1, 0) x (0, 2, 1, 30)30 : BIC Calculated =16192.235698459588\n",
      "SARIMAX (0, 1, 0) x (0, 2, 2, 30)30 : BIC Calculated =15332.977373586675\n",
      "SARIMAX (0, 1, 0) x (1, 0, 0, 30)30 : BIC Calculated =15448.361185270109\n",
      "SARIMAX (0, 1, 0) x (1, 0, 1, 30)30 : BIC Calculated =15455.802984502627\n",
      "SARIMAX (0, 1, 0) x (1, 0, 2, 30)30 : BIC Calculated =15445.507974145174\n",
      "SARIMAX (0, 1, 0) x (1, 1, 0, 30)30 : BIC Calculated =15902.862106885565\n",
      "SARIMAX (0, 1, 0) x (1, 1, 1, 30)30 : BIC Calculated =15312.95213404298\n",
      "SARIMAX (0, 1, 0) x (1, 1, 2, 30)30 : BIC Calculated =15313.106849058151\n",
      "SARIMAX (0, 1, 0) x (1, 2, 0, 30)30 : BIC Calculated =16912.86096231444\n",
      "SARIMAX (0, 1, 0) x (1, 2, 1, 30)30 : BIC Calculated =15798.588469808617\n"
     ]
    },
    {
     "name": "stderr",
     "output_type": "stream",
     "text": [
      "/Users/marianafaria/opt/anaconda3/lib/python3.8/site-packages/statsmodels/base/model.py:566: ConvergenceWarning:\n",
      "\n",
      "Maximum Likelihood optimization failed to converge. Check mle_retvals\n",
      "\n"
     ]
    },
    {
     "name": "stdout",
     "output_type": "stream",
     "text": [
      "SARIMAX (0, 1, 0) x (1, 2, 2, 30)30 : BIC Calculated =15338.602797141062\n",
      "SARIMAX (0, 1, 0) x (2, 0, 0, 30)30 : BIC Calculated =15452.9233116099\n",
      "SARIMAX (0, 1, 0) x (2, 0, 1, 30)30 : BIC Calculated =15445.188892115993\n",
      "SARIMAX (0, 1, 0) x (2, 0, 2, 30)30 : BIC Calculated =15447.014299866234\n",
      "SARIMAX (0, 1, 0) x (2, 1, 0, 30)30 : BIC Calculated =15733.456490357714\n",
      "SARIMAX (0, 1, 0) x (2, 1, 1, 30)30 : BIC Calculated =15318.114962977603\n"
     ]
    },
    {
     "name": "stderr",
     "output_type": "stream",
     "text": [
      "/Users/marianafaria/opt/anaconda3/lib/python3.8/site-packages/statsmodels/base/model.py:566: ConvergenceWarning:\n",
      "\n",
      "Maximum Likelihood optimization failed to converge. Check mle_retvals\n",
      "\n"
     ]
    },
    {
     "name": "stdout",
     "output_type": "stream",
     "text": [
      "SARIMAX (0, 1, 0) x (2, 1, 2, 30)30 : BIC Calculated =15318.22902420431\n",
      "SARIMAX (0, 1, 0) x (2, 2, 0, 30)30 : BIC Calculated =16440.254616372265\n",
      "SARIMAX (0, 1, 0) x (2, 2, 1, 30)30 : BIC Calculated =15648.277586539445\n"
     ]
    },
    {
     "name": "stderr",
     "output_type": "stream",
     "text": [
      "/Users/marianafaria/opt/anaconda3/lib/python3.8/site-packages/statsmodels/base/model.py:566: ConvergenceWarning:\n",
      "\n",
      "Maximum Likelihood optimization failed to converge. Check mle_retvals\n",
      "\n"
     ]
    },
    {
     "name": "stdout",
     "output_type": "stream",
     "text": [
      "SARIMAX (0, 1, 0) x (2, 2, 2, 30)30 : BIC Calculated =15346.189821504771\n",
      "SARIMAX (0, 1, 1) x (0, 0, 0, 30)30 : BIC Calculated =14607.233597404875\n",
      "SARIMAX (0, 1, 1) x (0, 0, 1, 30)30 : BIC Calculated =14614.632977697596\n",
      "SARIMAX (0, 1, 1) x (0, 0, 2, 30)30 : BIC Calculated =14618.438549406588\n",
      "SARIMAX (0, 1, 1) x (0, 1, 0, 30)30 : BIC Calculated =15519.26431145084\n",
      "SARIMAX (0, 1, 1) x (0, 1, 1, 30)30 : BIC Calculated =14489.596922107094\n"
     ]
    },
    {
     "name": "stderr",
     "output_type": "stream",
     "text": [
      "/Users/marianafaria/opt/anaconda3/lib/python3.8/site-packages/statsmodels/base/model.py:566: ConvergenceWarning:\n",
      "\n",
      "Maximum Likelihood optimization failed to converge. Check mle_retvals\n",
      "\n"
     ]
    },
    {
     "name": "stdout",
     "output_type": "stream",
     "text": [
      "SARIMAX (0, 1, 1) x (0, 1, 2, 30)30 : BIC Calculated =14497.01763220852\n",
      "SARIMAX (0, 1, 1) x (0, 2, 0, 30)30 : BIC Calculated =17009.55221522681\n",
      "SARIMAX (0, 1, 1) x (0, 2, 1, 30)30 : BIC Calculated =15398.654619526633\n",
      "SARIMAX (0, 1, 1) x (0, 2, 2, 30)30 : BIC Calculated =14527.682856658008\n",
      "SARIMAX (0, 1, 1) x (1, 0, 0, 30)30 : BIC Calculated =14614.636276540457\n",
      "SARIMAX (0, 1, 1) x (1, 0, 1, 30)30 : BIC Calculated =14612.733636376475\n",
      "SARIMAX (0, 1, 1) x (1, 0, 2, 30)30 : BIC Calculated =14617.198460175558\n",
      "SARIMAX (0, 1, 1) x (1, 1, 0, 30)30 : BIC Calculated =15087.368899491894\n",
      "SARIMAX (0, 1, 1) x (1, 1, 1, 30)30 : BIC Calculated =14497.14530119147\n"
     ]
    },
    {
     "name": "stderr",
     "output_type": "stream",
     "text": [
      "/Users/marianafaria/opt/anaconda3/lib/python3.8/site-packages/statsmodels/base/model.py:566: ConvergenceWarning:\n",
      "\n",
      "Maximum Likelihood optimization failed to converge. Check mle_retvals\n",
      "\n"
     ]
    },
    {
     "name": "stdout",
     "output_type": "stream",
     "text": [
      "SARIMAX (0, 1, 1) x (1, 1, 2, 30)30 : BIC Calculated =14496.302104193011\n",
      "SARIMAX (0, 1, 1) x (1, 2, 0, 30)30 : BIC Calculated =16121.47106650908\n",
      "SARIMAX (0, 1, 1) x (1, 2, 1, 30)30 : BIC Calculated =14997.930657229146\n",
      "SARIMAX (0, 1, 1) x (1, 2, 2, 30)30 : BIC Calculated =14534.144669659878\n",
      "SARIMAX (0, 1, 1) x (2, 0, 0, 30)30 : BIC Calculated =14619.086279831661\n",
      "SARIMAX (0, 1, 1) x (2, 0, 1, 30)30 : BIC Calculated =14617.109763207302\n",
      "SARIMAX (0, 1, 1) x (2, 0, 2, 30)30 : BIC Calculated =14616.533404563177\n",
      "SARIMAX (0, 1, 1) x (2, 1, 0, 30)30 : BIC Calculated =14908.643971796782\n"
     ]
    },
    {
     "name": "stderr",
     "output_type": "stream",
     "text": [
      "/Users/marianafaria/opt/anaconda3/lib/python3.8/site-packages/statsmodels/base/model.py:566: ConvergenceWarning:\n",
      "\n",
      "Maximum Likelihood optimization failed to converge. Check mle_retvals\n",
      "\n"
     ]
    },
    {
     "name": "stdout",
     "output_type": "stream",
     "text": [
      "SARIMAX (0, 1, 1) x (2, 1, 1, 30)30 : BIC Calculated =14502.365117055402\n"
     ]
    },
    {
     "name": "stderr",
     "output_type": "stream",
     "text": [
      "/Users/marianafaria/opt/anaconda3/lib/python3.8/site-packages/statsmodels/base/model.py:566: ConvergenceWarning:\n",
      "\n",
      "Maximum Likelihood optimization failed to converge. Check mle_retvals\n",
      "\n"
     ]
    },
    {
     "name": "stdout",
     "output_type": "stream",
     "text": [
      "SARIMAX (0, 1, 1) x (2, 1, 2, 30)30 : BIC Calculated =14500.990060065838\n",
      "SARIMAX (0, 1, 1) x (2, 2, 0, 30)30 : BIC Calculated =15648.088347494657\n",
      "SARIMAX (0, 1, 1) x (2, 2, 1, 30)30 : BIC Calculated =14838.947001782923\n"
     ]
    },
    {
     "name": "stderr",
     "output_type": "stream",
     "text": [
      "/Users/marianafaria/opt/anaconda3/lib/python3.8/site-packages/statsmodels/base/model.py:566: ConvergenceWarning:\n",
      "\n",
      "Maximum Likelihood optimization failed to converge. Check mle_retvals\n",
      "\n"
     ]
    },
    {
     "name": "stdout",
     "output_type": "stream",
     "text": [
      "SARIMAX (0, 1, 1) x (2, 2, 2, 30)30 : BIC Calculated =14541.318019897726\n",
      "SARIMAX (0, 1, 2) x (0, 0, 0, 30)30 : BIC Calculated =14613.068976758675\n",
      "SARIMAX (0, 1, 2) x (0, 0, 1, 30)30 : BIC Calculated =14620.468285978595\n",
      "SARIMAX (0, 1, 2) x (0, 0, 2, 30)30 : BIC Calculated =14624.074148831449\n",
      "SARIMAX (0, 1, 2) x (0, 1, 0, 30)30 : BIC Calculated =15525.127413936903\n"
     ]
    },
    {
     "name": "stderr",
     "output_type": "stream",
     "text": [
      "/Users/marianafaria/opt/anaconda3/lib/python3.8/site-packages/statsmodels/base/model.py:566: ConvergenceWarning:\n",
      "\n",
      "Maximum Likelihood optimization failed to converge. Check mle_retvals\n",
      "\n"
     ]
    },
    {
     "name": "stdout",
     "output_type": "stream",
     "text": [
      "SARIMAX (0, 1, 2) x (0, 1, 1, 30)30 : BIC Calculated =14495.40908471925\n"
     ]
    },
    {
     "name": "stderr",
     "output_type": "stream",
     "text": [
      "/Users/marianafaria/opt/anaconda3/lib/python3.8/site-packages/statsmodels/base/model.py:566: ConvergenceWarning:\n",
      "\n",
      "Maximum Likelihood optimization failed to converge. Check mle_retvals\n",
      "\n"
     ]
    },
    {
     "name": "stdout",
     "output_type": "stream",
     "text": [
      "SARIMAX (0, 1, 2) x (0, 1, 2, 30)30 : BIC Calculated =14502.838520056777\n",
      "SARIMAX (0, 1, 2) x (0, 2, 0, 30)30 : BIC Calculated =17015.137617741704\n",
      "SARIMAX (0, 1, 2) x (0, 2, 1, 30)30 : BIC Calculated =15404.5991042583\n",
      "SARIMAX (0, 1, 2) x (0, 2, 2, 30)30 : BIC Calculated =14533.66420840962\n",
      "SARIMAX (0, 1, 2) x (1, 0, 0, 30)30 : BIC Calculated =14620.471667591624\n",
      "SARIMAX (0, 1, 2) x (1, 0, 1, 30)30 : BIC Calculated =14618.185356219406\n",
      "SARIMAX (0, 1, 2) x (1, 0, 2, 30)30 : BIC Calculated =14622.494986180038\n",
      "SARIMAX (0, 1, 2) x (1, 1, 0, 30)30 : BIC Calculated =15093.998628613452\n",
      "SARIMAX (0, 1, 2) x (1, 1, 1, 30)30 : BIC Calculated =14502.869393656543\n",
      "SARIMAX (0, 1, 2) x (1, 1, 2, 30)30 : BIC Calculated =14502.154205870778\n",
      "SARIMAX (0, 1, 2) x (1, 2, 0, 30)30 : BIC Calculated =16127.934792611399\n",
      "SARIMAX (0, 1, 2) x (1, 2, 1, 30)30 : BIC Calculated =15004.475778638756\n"
     ]
    },
    {
     "name": "stderr",
     "output_type": "stream",
     "text": [
      "/Users/marianafaria/opt/anaconda3/lib/python3.8/site-packages/statsmodels/base/model.py:566: ConvergenceWarning:\n",
      "\n",
      "Maximum Likelihood optimization failed to converge. Check mle_retvals\n",
      "\n"
     ]
    },
    {
     "name": "stdout",
     "output_type": "stream",
     "text": [
      "SARIMAX (0, 1, 2) x (1, 2, 2, 30)30 : BIC Calculated =14540.140228422648\n",
      "SARIMAX (0, 1, 2) x (2, 0, 0, 30)30 : BIC Calculated =14624.76972774166\n",
      "SARIMAX (0, 1, 2) x (2, 0, 1, 30)30 : BIC Calculated =14622.402159304655\n",
      "SARIMAX (0, 1, 2) x (2, 0, 2, 30)30 : BIC Calculated =14621.896867995267\n",
      "SARIMAX (0, 1, 2) x (2, 1, 0, 30)30 : BIC Calculated =14915.02887114244\n"
     ]
    },
    {
     "name": "stderr",
     "output_type": "stream",
     "text": [
      "/Users/marianafaria/opt/anaconda3/lib/python3.8/site-packages/statsmodels/base/model.py:566: ConvergenceWarning:\n",
      "\n",
      "Maximum Likelihood optimization failed to converge. Check mle_retvals\n",
      "\n"
     ]
    },
    {
     "name": "stdout",
     "output_type": "stream",
     "text": [
      "SARIMAX (0, 1, 2) x (2, 1, 1, 30)30 : BIC Calculated =14508.06434177489\n"
     ]
    },
    {
     "name": "stderr",
     "output_type": "stream",
     "text": [
      "/Users/marianafaria/opt/anaconda3/lib/python3.8/site-packages/statsmodels/base/model.py:566: ConvergenceWarning:\n",
      "\n",
      "Maximum Likelihood optimization failed to converge. Check mle_retvals\n",
      "\n"
     ]
    },
    {
     "name": "stdout",
     "output_type": "stream",
     "text": [
      "SARIMAX (0, 1, 2) x (2, 1, 2, 30)30 : BIC Calculated =14508.145321365077\n",
      "SARIMAX (0, 1, 2) x (2, 2, 0, 30)30 : BIC Calculated =15654.004132549266\n",
      "SARIMAX (0, 1, 2) x (2, 2, 1, 30)30 : BIC Calculated =14845.232441896354\n"
     ]
    },
    {
     "name": "stderr",
     "output_type": "stream",
     "text": [
      "/Users/marianafaria/opt/anaconda3/lib/python3.8/site-packages/statsmodels/base/model.py:566: ConvergenceWarning:\n",
      "\n",
      "Maximum Likelihood optimization failed to converge. Check mle_retvals\n",
      "\n"
     ]
    },
    {
     "name": "stdout",
     "output_type": "stream",
     "text": [
      "SARIMAX (0, 1, 2) x (2, 2, 2, 30)30 : BIC Calculated =14547.92705197821\n",
      "SARIMAX (0, 2, 0) x (0, 0, 0, 30)30 : BIC Calculated =17224.417737987562\n",
      "SARIMAX (0, 2, 0) x (0, 0, 1, 30)30 : BIC Calculated =17231.565918753888\n",
      "SARIMAX (0, 2, 0) x (0, 0, 2, 30)30 : BIC Calculated =17235.9633284378\n",
      "SARIMAX (0, 2, 0) x (0, 1, 0, 30)30 : BIC Calculated =18060.983386787393\n",
      "SARIMAX (0, 2, 0) x (0, 1, 1, 30)30 : BIC Calculated =17055.855086417807\n",
      "SARIMAX (0, 2, 0) x (0, 1, 2, 30)30 : BIC Calculated =17062.94000077183\n",
      "SARIMAX (0, 2, 0) x (0, 2, 0, 30)30 : BIC Calculated =19501.52812685023\n",
      "SARIMAX (0, 2, 0) x (0, 2, 1, 30)30 : BIC Calculated =17894.22280491458\n",
      "SARIMAX (0, 2, 0) x (0, 2, 2, 30)30 : BIC Calculated =17052.28644240347\n",
      "SARIMAX (0, 2, 0) x (1, 0, 0, 30)30 : BIC Calculated =17231.58763986327\n",
      "SARIMAX (0, 2, 0) x (1, 0, 1, 30)30 : BIC Calculated =17232.16345353538\n",
      "SARIMAX (0, 2, 0) x (1, 0, 2, 30)30 : BIC Calculated =17227.48655352853\n",
      "SARIMAX (0, 2, 0) x (1, 1, 0, 30)30 : BIC Calculated =17651.655156912842\n",
      "SARIMAX (0, 2, 0) x (1, 1, 1, 30)30 : BIC Calculated =17062.86617107584\n"
     ]
    },
    {
     "name": "stderr",
     "output_type": "stream",
     "text": [
      "/Users/marianafaria/opt/anaconda3/lib/python3.8/site-packages/statsmodels/base/model.py:566: ConvergenceWarning:\n",
      "\n",
      "Maximum Likelihood optimization failed to converge. Check mle_retvals\n",
      "\n"
     ]
    },
    {
     "name": "stdout",
     "output_type": "stream",
     "text": [
      "SARIMAX (0, 2, 0) x (1, 1, 2, 30)30 : BIC Calculated =17063.472508459312\n",
      "SARIMAX (0, 2, 0) x (1, 2, 0, 30)30 : BIC Calculated =18626.01910754074\n",
      "SARIMAX (0, 2, 0) x (1, 2, 1, 30)30 : BIC Calculated =17515.105377697524\n"
     ]
    },
    {
     "name": "stderr",
     "output_type": "stream",
     "text": [
      "/Users/marianafaria/opt/anaconda3/lib/python3.8/site-packages/statsmodels/base/model.py:566: ConvergenceWarning:\n",
      "\n",
      "Maximum Likelihood optimization failed to converge. Check mle_retvals\n",
      "\n"
     ]
    },
    {
     "name": "stdout",
     "output_type": "stream",
     "text": [
      "SARIMAX (0, 2, 0) x (1, 2, 2, 30)30 : BIC Calculated =17056.51425456788\n",
      "SARIMAX (0, 2, 0) x (2, 0, 0, 30)30 : BIC Calculated =17236.516881981526\n",
      "SARIMAX (0, 2, 0) x (2, 0, 1, 30)30 : BIC Calculated =17226.876066176534\n",
      "SARIMAX (0, 2, 0) x (2, 0, 2, 30)30 : BIC Calculated =17231.23422011994\n",
      "SARIMAX (0, 2, 0) x (2, 1, 0, 30)30 : BIC Calculated =17487.022353117416\n",
      "SARIMAX (0, 2, 0) x (2, 1, 1, 30)30 : BIC Calculated =17068.26361697262\n"
     ]
    },
    {
     "name": "stderr",
     "output_type": "stream",
     "text": [
      "/Users/marianafaria/opt/anaconda3/lib/python3.8/site-packages/statsmodels/base/model.py:566: ConvergenceWarning:\n",
      "\n",
      "Maximum Likelihood optimization failed to converge. Check mle_retvals\n",
      "\n"
     ]
    },
    {
     "name": "stdout",
     "output_type": "stream",
     "text": [
      "SARIMAX (0, 2, 0) x (2, 1, 2, 30)30 : BIC Calculated =17069.8746280953\n",
      "SARIMAX (0, 2, 0) x (2, 2, 0, 30)30 : BIC Calculated =18150.977432609725\n",
      "SARIMAX (0, 2, 0) x (2, 2, 1, 30)30 : BIC Calculated =17369.234402327205\n"
     ]
    },
    {
     "name": "stderr",
     "output_type": "stream",
     "text": [
      "/Users/marianafaria/opt/anaconda3/lib/python3.8/site-packages/statsmodels/base/model.py:566: ConvergenceWarning:\n",
      "\n",
      "Maximum Likelihood optimization failed to converge. Check mle_retvals\n",
      "\n"
     ]
    },
    {
     "name": "stdout",
     "output_type": "stream",
     "text": [
      "SARIMAX (0, 2, 0) x (2, 2, 2, 30)30 : BIC Calculated =17063.841938780064\n"
     ]
    },
    {
     "name": "stderr",
     "output_type": "stream",
     "text": [
      "/Users/marianafaria/opt/anaconda3/lib/python3.8/site-packages/statsmodels/tsa/statespace/sarimax.py:978: UserWarning:\n",
      "\n",
      "Non-invertible starting MA parameters found. Using zeros as starting parameters.\n",
      "\n"
     ]
    },
    {
     "name": "stdout",
     "output_type": "stream",
     "text": [
      "SARIMAX (0, 2, 1) x (0, 0, 0, 30)30 : BIC Calculated =15447.756061505608\n",
      "SARIMAX (0, 2, 1) x (0, 0, 1, 30)30 : BIC Calculated =15455.181150730943\n"
     ]
    },
    {
     "name": "stderr",
     "output_type": "stream",
     "text": [
      "/Users/marianafaria/opt/anaconda3/lib/python3.8/site-packages/statsmodels/base/model.py:566: ConvergenceWarning:\n",
      "\n",
      "Maximum Likelihood optimization failed to converge. Check mle_retvals\n",
      "\n"
     ]
    },
    {
     "name": "stdout",
     "output_type": "stream",
     "text": [
      "SARIMAX (0, 2, 1) x (0, 0, 2, 30)30 : BIC Calculated =15459.140874695053\n",
      "SARIMAX (0, 2, 1) x (0, 1, 0, 30)30 : BIC Calculated =16333.52254248726\n",
      "SARIMAX (0, 2, 1) x (0, 1, 1, 30)30 : BIC Calculated =15317.910280593409\n"
     ]
    },
    {
     "name": "stderr",
     "output_type": "stream",
     "text": [
      "/Users/marianafaria/opt/anaconda3/lib/python3.8/site-packages/statsmodels/base/model.py:566: ConvergenceWarning:\n",
      "\n",
      "Maximum Likelihood optimization failed to converge. Check mle_retvals\n",
      "\n"
     ]
    },
    {
     "name": "stdout",
     "output_type": "stream",
     "text": [
      "SARIMAX (0, 2, 1) x (0, 1, 2, 30)30 : BIC Calculated =15325.27817932122\n",
      "SARIMAX (0, 2, 1) x (0, 2, 0, 30)30 : BIC Calculated =17805.846905249215\n",
      "SARIMAX (0, 2, 1) x (0, 2, 1, 30)30 : BIC Calculated =16203.525286863505\n",
      "SARIMAX (0, 2, 1) x (0, 2, 2, 30)30 : BIC Calculated =15349.627192981456\n",
      "SARIMAX (0, 2, 1) x (1, 0, 0, 30)30 : BIC Calculated =15455.181743404868\n",
      "SARIMAX (0, 2, 1) x (1, 0, 1, 30)30 : BIC Calculated =15450.623320242368\n"
     ]
    },
    {
     "name": "stderr",
     "output_type": "stream",
     "text": [
      "/Users/marianafaria/opt/anaconda3/lib/python3.8/site-packages/statsmodels/base/model.py:566: ConvergenceWarning:\n",
      "\n",
      "Maximum Likelihood optimization failed to converge. Check mle_retvals\n",
      "\n"
     ]
    },
    {
     "name": "stdout",
     "output_type": "stream",
     "text": [
      "SARIMAX (0, 2, 1) x (1, 0, 2, 30)30 : BIC Calculated =15452.946122280273\n",
      "SARIMAX (0, 2, 1) x (1, 1, 0, 30)30 : BIC Calculated =15909.974943334953\n"
     ]
    },
    {
     "name": "stderr",
     "output_type": "stream",
     "text": [
      "/Users/marianafaria/opt/anaconda3/lib/python3.8/site-packages/statsmodels/base/model.py:566: ConvergenceWarning:\n",
      "\n",
      "Maximum Likelihood optimization failed to converge. Check mle_retvals\n",
      "\n"
     ]
    },
    {
     "name": "stdout",
     "output_type": "stream",
     "text": [
      "SARIMAX (0, 2, 1) x (1, 1, 1, 30)30 : BIC Calculated =15325.275319072654\n"
     ]
    },
    {
     "name": "stderr",
     "output_type": "stream",
     "text": [
      "/Users/marianafaria/opt/anaconda3/lib/python3.8/site-packages/statsmodels/base/model.py:566: ConvergenceWarning:\n",
      "\n",
      "Maximum Likelihood optimization failed to converge. Check mle_retvals\n",
      "\n"
     ]
    },
    {
     "name": "stdout",
     "output_type": "stream",
     "text": [
      "SARIMAX (0, 2, 1) x (1, 1, 2, 30)30 : BIC Calculated =15325.40846121987\n",
      "SARIMAX (0, 2, 1) x (1, 2, 0, 30)30 : BIC Calculated =16919.147584090235\n",
      "SARIMAX (0, 2, 1) x (1, 2, 1, 30)30 : BIC Calculated =15811.002718366582\n",
      "SARIMAX (0, 2, 1) x (1, 2, 2, 30)30 : BIC Calculated =15355.171391242418\n"
     ]
    },
    {
     "name": "stderr",
     "output_type": "stream",
     "text": [
      "/Users/marianafaria/opt/anaconda3/lib/python3.8/site-packages/statsmodels/base/model.py:566: ConvergenceWarning:\n",
      "\n",
      "Maximum Likelihood optimization failed to converge. Check mle_retvals\n",
      "\n"
     ]
    },
    {
     "name": "stdout",
     "output_type": "stream",
     "text": [
      "SARIMAX (0, 2, 1) x (2, 0, 0, 30)30 : BIC Calculated =15459.825133545859\n"
     ]
    },
    {
     "name": "stderr",
     "output_type": "stream",
     "text": [
      "/Users/marianafaria/opt/anaconda3/lib/python3.8/site-packages/statsmodels/base/model.py:566: ConvergenceWarning:\n",
      "\n",
      "Maximum Likelihood optimization failed to converge. Check mle_retvals\n",
      "\n"
     ]
    },
    {
     "name": "stdout",
     "output_type": "stream",
     "text": [
      "SARIMAX (0, 2, 1) x (2, 0, 1, 30)30 : BIC Calculated =15452.662175714124\n"
     ]
    },
    {
     "name": "stderr",
     "output_type": "stream",
     "text": [
      "/Users/marianafaria/opt/anaconda3/lib/python3.8/site-packages/statsmodels/base/model.py:566: ConvergenceWarning:\n",
      "\n",
      "Maximum Likelihood optimization failed to converge. Check mle_retvals\n",
      "\n"
     ]
    },
    {
     "name": "stdout",
     "output_type": "stream",
     "text": [
      "SARIMAX (0, 2, 1) x (2, 0, 2, 30)30 : BIC Calculated =15454.497645685768\n"
     ]
    },
    {
     "name": "stderr",
     "output_type": "stream",
     "text": [
      "/Users/marianafaria/opt/anaconda3/lib/python3.8/site-packages/statsmodels/base/model.py:566: ConvergenceWarning:\n",
      "\n",
      "Maximum Likelihood optimization failed to converge. Check mle_retvals\n",
      "\n"
     ]
    },
    {
     "name": "stdout",
     "output_type": "stream",
     "text": [
      "SARIMAX (0, 2, 1) x (2, 1, 0, 30)30 : BIC Calculated =15741.28645147185\n",
      "SARIMAX (0, 2, 1) x (2, 1, 1, 30)30 : BIC Calculated =15330.666622815215\n"
     ]
    },
    {
     "name": "stderr",
     "output_type": "stream",
     "text": [
      "/Users/marianafaria/opt/anaconda3/lib/python3.8/site-packages/statsmodels/base/model.py:566: ConvergenceWarning:\n",
      "\n",
      "Maximum Likelihood optimization failed to converge. Check mle_retvals\n",
      "\n"
     ]
    },
    {
     "name": "stdout",
     "output_type": "stream",
     "text": [
      "SARIMAX (0, 2, 1) x (2, 1, 2, 30)30 : BIC Calculated =15330.78857529003\n",
      "SARIMAX (0, 2, 1) x (2, 2, 0, 30)30 : BIC Calculated =16447.663777266032\n",
      "SARIMAX (0, 2, 1) x (2, 2, 1, 30)30 : BIC Calculated =15661.163885116397\n",
      "SARIMAX (0, 2, 1) x (2, 2, 2, 30)30 : BIC Calculated =15362.034663116649\n",
      "SARIMAX (0, 2, 2) x (0, 0, 0, 30)30 : BIC Calculated =14618.186135835502\n",
      "SARIMAX (0, 2, 2) x (0, 0, 1, 30)30 : BIC Calculated =14625.604831328777\n"
     ]
    },
    {
     "name": "stderr",
     "output_type": "stream",
     "text": [
      "/Users/marianafaria/opt/anaconda3/lib/python3.8/site-packages/statsmodels/base/model.py:566: ConvergenceWarning:\n",
      "\n",
      "Maximum Likelihood optimization failed to converge. Check mle_retvals\n",
      "\n"
     ]
    },
    {
     "name": "stdout",
     "output_type": "stream",
     "text": [
      "SARIMAX (0, 2, 2) x (0, 0, 2, 30)30 : BIC Calculated =14629.567832875271\n",
      "SARIMAX (0, 2, 2) x (0, 1, 0, 30)30 : BIC Calculated =15529.36402282442\n",
      "SARIMAX (0, 2, 2) x (0, 1, 1, 30)30 : BIC Calculated =14506.338442589538\n",
      "SARIMAX (0, 2, 2) x (0, 1, 2, 30)30 : BIC Calculated =14513.618508514839\n",
      "SARIMAX (0, 2, 2) x (0, 2, 0, 30)30 : BIC Calculated =17018.538752024935\n",
      "SARIMAX (0, 2, 2) x (0, 2, 1, 30)30 : BIC Calculated =15414.488794818673\n",
      "SARIMAX (0, 2, 2) x (0, 2, 2, 30)30 : BIC Calculated =14550.880807667132\n"
     ]
    },
    {
     "name": "stderr",
     "output_type": "stream",
     "text": [
      "/Users/marianafaria/opt/anaconda3/lib/python3.8/site-packages/statsmodels/base/model.py:566: ConvergenceWarning:\n",
      "\n",
      "Maximum Likelihood optimization failed to converge. Check mle_retvals\n",
      "\n"
     ]
    },
    {
     "name": "stdout",
     "output_type": "stream",
     "text": [
      "SARIMAX (0, 2, 2) x (1, 0, 0, 30)30 : BIC Calculated =14625.600018540574\n"
     ]
    },
    {
     "name": "stderr",
     "output_type": "stream",
     "text": [
      "/Users/marianafaria/opt/anaconda3/lib/python3.8/site-packages/statsmodels/base/model.py:566: ConvergenceWarning:\n",
      "\n",
      "Maximum Likelihood optimization failed to converge. Check mle_retvals\n",
      "\n"
     ]
    },
    {
     "name": "stdout",
     "output_type": "stream",
     "text": [
      "SARIMAX (0, 2, 2) x (1, 0, 1, 30)30 : BIC Calculated =14625.182728352303\n"
     ]
    },
    {
     "name": "stderr",
     "output_type": "stream",
     "text": [
      "/Users/marianafaria/opt/anaconda3/lib/python3.8/site-packages/statsmodels/base/model.py:566: ConvergenceWarning:\n",
      "\n",
      "Maximum Likelihood optimization failed to converge. Check mle_retvals\n",
      "\n"
     ]
    },
    {
     "name": "stdout",
     "output_type": "stream",
     "text": [
      "SARIMAX (0, 2, 2) x (1, 0, 2, 30)30 : BIC Calculated =14630.072830876366\n",
      "SARIMAX (0, 2, 2) x (1, 1, 0, 30)30 : BIC Calculated =15098.447549536217\n",
      "SARIMAX (0, 2, 2) x (1, 1, 1, 30)30 : BIC Calculated =14513.715162537315\n",
      "SARIMAX (0, 2, 2) x (1, 1, 2, 30)30 : BIC Calculated =14512.803766270144\n"
     ]
    },
    {
     "name": "stderr",
     "output_type": "stream",
     "text": [
      "/Users/marianafaria/opt/anaconda3/lib/python3.8/site-packages/statsmodels/base/model.py:566: ConvergenceWarning:\n",
      "\n",
      "Maximum Likelihood optimization failed to converge. Check mle_retvals\n",
      "\n"
     ]
    },
    {
     "name": "stdout",
     "output_type": "stream",
     "text": [
      "SARIMAX (0, 2, 2) x (1, 2, 0, 30)30 : BIC Calculated =16131.625351853383\n"
     ]
    },
    {
     "name": "stderr",
     "output_type": "stream",
     "text": [
      "/Users/marianafaria/opt/anaconda3/lib/python3.8/site-packages/statsmodels/base/model.py:566: ConvergenceWarning:\n",
      "\n",
      "Maximum Likelihood optimization failed to converge. Check mle_retvals\n",
      "\n"
     ]
    },
    {
     "name": "stdout",
     "output_type": "stream",
     "text": [
      "SARIMAX (0, 2, 2) x (1, 2, 1, 30)30 : BIC Calculated =15014.341060038074\n"
     ]
    },
    {
     "name": "stderr",
     "output_type": "stream",
     "text": [
      "/Users/marianafaria/opt/anaconda3/lib/python3.8/site-packages/statsmodels/base/model.py:566: ConvergenceWarning:\n",
      "\n",
      "Maximum Likelihood optimization failed to converge. Check mle_retvals\n",
      "\n"
     ]
    },
    {
     "name": "stdout",
     "output_type": "stream",
     "text": [
      "SARIMAX (0, 2, 2) x (1, 2, 2, 30)30 : BIC Calculated =14558.141971391353\n"
     ]
    },
    {
     "name": "stderr",
     "output_type": "stream",
     "text": [
      "/Users/marianafaria/opt/anaconda3/lib/python3.8/site-packages/statsmodels/base/model.py:566: ConvergenceWarning:\n",
      "\n",
      "Maximum Likelihood optimization failed to converge. Check mle_retvals\n",
      "\n"
     ]
    },
    {
     "name": "stdout",
     "output_type": "stream",
     "text": [
      "SARIMAX (0, 2, 2) x (2, 0, 0, 30)30 : BIC Calculated =14630.431718474543\n"
     ]
    },
    {
     "name": "stderr",
     "output_type": "stream",
     "text": [
      "/Users/marianafaria/opt/anaconda3/lib/python3.8/site-packages/statsmodels/base/model.py:566: ConvergenceWarning:\n",
      "\n",
      "Maximum Likelihood optimization failed to converge. Check mle_retvals\n",
      "\n"
     ]
    },
    {
     "name": "stdout",
     "output_type": "stream",
     "text": [
      "SARIMAX (0, 2, 2) x (2, 0, 1, 30)30 : BIC Calculated =14632.108829029417\n"
     ]
    },
    {
     "name": "stderr",
     "output_type": "stream",
     "text": [
      "/Users/marianafaria/opt/anaconda3/lib/python3.8/site-packages/statsmodels/base/model.py:566: ConvergenceWarning:\n",
      "\n",
      "Maximum Likelihood optimization failed to converge. Check mle_retvals\n",
      "\n"
     ]
    },
    {
     "name": "stdout",
     "output_type": "stream",
     "text": [
      "SARIMAX (0, 2, 2) x (2, 0, 2, 30)30 : BIC Calculated =14629.509517762068\n"
     ]
    },
    {
     "name": "stderr",
     "output_type": "stream",
     "text": [
      "/Users/marianafaria/opt/anaconda3/lib/python3.8/site-packages/statsmodels/base/model.py:566: ConvergenceWarning:\n",
      "\n",
      "Maximum Likelihood optimization failed to converge. Check mle_retvals\n",
      "\n"
     ]
    },
    {
     "name": "stdout",
     "output_type": "stream",
     "text": [
      "SARIMAX (0, 2, 2) x (2, 1, 0, 30)30 : BIC Calculated =14920.539440329716\n"
     ]
    },
    {
     "name": "stderr",
     "output_type": "stream",
     "text": [
      "/Users/marianafaria/opt/anaconda3/lib/python3.8/site-packages/statsmodels/base/model.py:566: ConvergenceWarning:\n",
      "\n",
      "Maximum Likelihood optimization failed to converge. Check mle_retvals\n",
      "\n"
     ]
    },
    {
     "name": "stdout",
     "output_type": "stream",
     "text": [
      "SARIMAX (0, 2, 2) x (2, 1, 1, 30)30 : BIC Calculated =14519.199376318002\n"
     ]
    },
    {
     "name": "stderr",
     "output_type": "stream",
     "text": [
      "/Users/marianafaria/opt/anaconda3/lib/python3.8/site-packages/statsmodels/base/model.py:566: ConvergenceWarning:\n",
      "\n",
      "Maximum Likelihood optimization failed to converge. Check mle_retvals\n",
      "\n"
     ]
    },
    {
     "name": "stdout",
     "output_type": "stream",
     "text": [
      "SARIMAX (0, 2, 2) x (2, 1, 2, 30)30 : BIC Calculated =14517.841745014566\n"
     ]
    },
    {
     "name": "stderr",
     "output_type": "stream",
     "text": [
      "/Users/marianafaria/opt/anaconda3/lib/python3.8/site-packages/statsmodels/base/model.py:566: ConvergenceWarning:\n",
      "\n",
      "Maximum Likelihood optimization failed to converge. Check mle_retvals\n",
      "\n"
     ]
    },
    {
     "name": "stdout",
     "output_type": "stream",
     "text": [
      "SARIMAX (0, 2, 2) x (2, 2, 0, 30)30 : BIC Calculated =15659.883722998007\n"
     ]
    },
    {
     "name": "stderr",
     "output_type": "stream",
     "text": [
      "/Users/marianafaria/opt/anaconda3/lib/python3.8/site-packages/statsmodels/base/model.py:566: ConvergenceWarning:\n",
      "\n",
      "Maximum Likelihood optimization failed to converge. Check mle_retvals\n",
      "\n"
     ]
    },
    {
     "name": "stdout",
     "output_type": "stream",
     "text": [
      "SARIMAX (0, 2, 2) x (2, 2, 1, 30)30 : BIC Calculated =14857.645966291167\n",
      "SARIMAX (0, 2, 2) x (2, 2, 2, 30)30 : BIC Calculated =14561.768145593764\n",
      "SARIMAX (1, 0, 0) x (0, 0, 0, 30)30 : BIC Calculated =15454.007195467519\n",
      "SARIMAX (1, 0, 0) x (0, 0, 1, 30)30 : BIC Calculated =15461.386457660557\n"
     ]
    },
    {
     "name": "stderr",
     "output_type": "stream",
     "text": [
      "/Users/marianafaria/opt/anaconda3/lib/python3.8/site-packages/statsmodels/base/model.py:566: ConvergenceWarning:\n",
      "\n",
      "Maximum Likelihood optimization failed to converge. Check mle_retvals\n",
      "\n"
     ]
    },
    {
     "name": "stdout",
     "output_type": "stream",
     "text": [
      "SARIMAX (1, 0, 0) x (0, 0, 2, 30)30 : BIC Calculated =15466.050486556844\n",
      "SARIMAX (1, 0, 0) x (0, 1, 0, 30)30 : BIC Calculated =15658.787030895986\n",
      "SARIMAX (1, 0, 0) x (0, 1, 1, 30)30 : BIC Calculated =14965.548592662055\n",
      "SARIMAX (1, 0, 0) x (0, 1, 2, 30)30 : BIC Calculated =14952.077540778022\n",
      "SARIMAX (1, 0, 0) x (0, 2, 0, 30)30 : BIC Calculated =17081.621044216547\n",
      "SARIMAX (1, 0, 0) x (0, 2, 1, 30)30 : BIC Calculated =15536.023718375778\n"
     ]
    },
    {
     "name": "stderr",
     "output_type": "stream",
     "text": [
      "/Users/marianafaria/opt/anaconda3/lib/python3.8/site-packages/statsmodels/base/model.py:566: ConvergenceWarning:\n",
      "\n",
      "Maximum Likelihood optimization failed to converge. Check mle_retvals\n",
      "\n"
     ]
    },
    {
     "name": "stdout",
     "output_type": "stream",
     "text": [
      "SARIMAX (1, 0, 0) x (0, 2, 2, 30)30 : BIC Calculated =14969.666208402698\n"
     ]
    },
    {
     "name": "stderr",
     "output_type": "stream",
     "text": [
      "/Users/marianafaria/opt/anaconda3/lib/python3.8/site-packages/statsmodels/base/model.py:566: ConvergenceWarning:\n",
      "\n",
      "Maximum Likelihood optimization failed to converge. Check mle_retvals\n",
      "\n"
     ]
    },
    {
     "name": "stdout",
     "output_type": "stream",
     "text": [
      "SARIMAX (1, 0, 0) x (1, 0, 0, 30)30 : BIC Calculated =15461.392349064557\n",
      "SARIMAX (1, 0, 0) x (1, 0, 1, 30)30 : BIC Calculated =15468.872488185647\n"
     ]
    },
    {
     "name": "stderr",
     "output_type": "stream",
     "text": [
      "/Users/marianafaria/opt/anaconda3/lib/python3.8/site-packages/statsmodels/base/model.py:566: ConvergenceWarning:\n",
      "\n",
      "Maximum Likelihood optimization failed to converge. Check mle_retvals\n",
      "\n"
     ]
    },
    {
     "name": "stdout",
     "output_type": "stream",
     "text": [
      "SARIMAX (1, 0, 0) x (1, 0, 2, 30)30 : BIC Calculated =15474.056302088606\n",
      "SARIMAX (1, 0, 0) x (1, 1, 0, 30)30 : BIC Calculated =15327.171689907469\n",
      "SARIMAX (1, 0, 0) x (1, 1, 1, 30)30 : BIC Calculated =14949.20301652426\n"
     ]
    },
    {
     "name": "stderr",
     "output_type": "stream",
     "text": [
      "/Users/marianafaria/opt/anaconda3/lib/python3.8/site-packages/statsmodels/base/model.py:566: ConvergenceWarning:\n",
      "\n",
      "Maximum Likelihood optimization failed to converge. Check mle_retvals\n",
      "\n"
     ]
    },
    {
     "name": "stdout",
     "output_type": "stream",
     "text": [
      "SARIMAX (1, 0, 0) x (1, 1, 2, 30)30 : BIC Calculated =14961.686111406318\n",
      "SARIMAX (1, 0, 0) x (1, 2, 0, 30)30 : BIC Calculated =16270.112465717928\n",
      "SARIMAX (1, 0, 0) x (1, 2, 1, 30)30 : BIC Calculated =15231.656166739056\n",
      "SARIMAX (1, 0, 0) x (1, 2, 2, 30)30 : BIC Calculated =14964.529953213732\n",
      "SARIMAX (1, 0, 0) x (2, 0, 0, 30)30 : BIC Calculated =15466.55295954497\n"
     ]
    },
    {
     "name": "stderr",
     "output_type": "stream",
     "text": [
      "/Users/marianafaria/opt/anaconda3/lib/python3.8/site-packages/statsmodels/base/model.py:566: ConvergenceWarning:\n",
      "\n",
      "Maximum Likelihood optimization failed to converge. Check mle_retvals\n",
      "\n"
     ]
    },
    {
     "name": "stdout",
     "output_type": "stream",
     "text": [
      "SARIMAX (1, 0, 0) x (2, 0, 1, 30)30 : BIC Calculated =15473.992735804257\n"
     ]
    },
    {
     "name": "stderr",
     "output_type": "stream",
     "text": [
      "/Users/marianafaria/opt/anaconda3/lib/python3.8/site-packages/statsmodels/base/model.py:566: ConvergenceWarning:\n",
      "\n",
      "Maximum Likelihood optimization failed to converge. Check mle_retvals\n",
      "\n"
     ]
    },
    {
     "name": "stdout",
     "output_type": "stream",
     "text": [
      "SARIMAX (1, 0, 0) x (2, 0, 2, 30)30 : BIC Calculated =15478.427438598606\n",
      "SARIMAX (1, 0, 0) x (2, 1, 0, 30)30 : BIC Calculated =15203.750717644269\n"
     ]
    },
    {
     "name": "stderr",
     "output_type": "stream",
     "text": [
      "/Users/marianafaria/opt/anaconda3/lib/python3.8/site-packages/statsmodels/base/model.py:566: ConvergenceWarning:\n",
      "\n",
      "Maximum Likelihood optimization failed to converge. Check mle_retvals\n",
      "\n"
     ]
    },
    {
     "name": "stdout",
     "output_type": "stream",
     "text": [
      "SARIMAX (1, 0, 0) x (2, 1, 1, 30)30 : BIC Calculated =14951.830729013236\n",
      "SARIMAX (1, 0, 0) x (2, 1, 2, 30)30 : BIC Calculated =14960.185497722585\n",
      "SARIMAX (1, 0, 0) x (2, 2, 0, 30)30 : BIC Calculated =15839.568148228384\n",
      "SARIMAX (1, 0, 0) x (2, 2, 1, 30)30 : BIC Calculated =15124.800258243733\n"
     ]
    },
    {
     "name": "stderr",
     "output_type": "stream",
     "text": [
      "/Users/marianafaria/opt/anaconda3/lib/python3.8/site-packages/statsmodels/base/model.py:566: ConvergenceWarning:\n",
      "\n",
      "Maximum Likelihood optimization failed to converge. Check mle_retvals\n",
      "\n"
     ]
    },
    {
     "name": "stdout",
     "output_type": "stream",
     "text": [
      "SARIMAX (1, 0, 0) x (2, 2, 2, 30)30 : BIC Calculated =14970.605902149733\n",
      "SARIMAX (1, 0, 1) x (0, 0, 0, 30)30 : BIC Calculated =14627.553491987797\n",
      "SARIMAX (1, 0, 1) x (0, 0, 1, 30)30 : BIC Calculated =14635.091961806822\n",
      "SARIMAX (1, 0, 1) x (0, 0, 2, 30)30 : BIC Calculated =14639.267218026931\n",
      "SARIMAX (1, 0, 1) x (0, 1, 0, 30)30 : BIC Calculated =15498.888612715838\n",
      "SARIMAX (1, 0, 1) x (0, 1, 1, 30)30 : BIC Calculated =14493.52981539997\n"
     ]
    },
    {
     "name": "stderr",
     "output_type": "stream",
     "text": [
      "/Users/marianafaria/opt/anaconda3/lib/python3.8/site-packages/statsmodels/base/model.py:566: ConvergenceWarning:\n",
      "\n",
      "Maximum Likelihood optimization failed to converge. Check mle_retvals\n",
      "\n"
     ]
    },
    {
     "name": "stdout",
     "output_type": "stream",
     "text": [
      "SARIMAX (1, 0, 1) x (0, 1, 2, 30)30 : BIC Calculated =14500.929322200564\n",
      "SARIMAX (1, 0, 1) x (0, 2, 0, 30)30 : BIC Calculated =16978.810939335963\n",
      "SARIMAX (1, 0, 1) x (0, 2, 1, 30)30 : BIC Calculated =15378.712940668956\n",
      "SARIMAX (1, 0, 1) x (0, 2, 2, 30)30 : BIC Calculated =14530.128109656409\n"
     ]
    },
    {
     "name": "stderr",
     "output_type": "stream",
     "text": [
      "/Users/marianafaria/opt/anaconda3/lib/python3.8/site-packages/statsmodels/base/model.py:566: ConvergenceWarning:\n",
      "\n",
      "Maximum Likelihood optimization failed to converge. Check mle_retvals\n",
      "\n"
     ]
    },
    {
     "name": "stdout",
     "output_type": "stream",
     "text": [
      "SARIMAX (1, 0, 1) x (1, 0, 0, 30)30 : BIC Calculated =16168.757968694092\n"
     ]
    },
    {
     "name": "stderr",
     "output_type": "stream",
     "text": [
      "/Users/marianafaria/opt/anaconda3/lib/python3.8/site-packages/statsmodels/base/model.py:566: ConvergenceWarning:\n",
      "\n",
      "Maximum Likelihood optimization failed to converge. Check mle_retvals\n",
      "\n"
     ]
    },
    {
     "name": "stdout",
     "output_type": "stream",
     "text": [
      "SARIMAX (1, 0, 1) x (1, 0, 1, 30)30 : BIC Calculated =15852.215553600106\n"
     ]
    },
    {
     "name": "stderr",
     "output_type": "stream",
     "text": [
      "/Users/marianafaria/opt/anaconda3/lib/python3.8/site-packages/statsmodels/base/model.py:566: ConvergenceWarning:\n",
      "\n",
      "Maximum Likelihood optimization failed to converge. Check mle_retvals\n",
      "\n"
     ]
    },
    {
     "name": "stdout",
     "output_type": "stream",
     "text": [
      "SARIMAX (1, 0, 1) x (1, 0, 2, 30)30 : BIC Calculated =15846.15671429051\n",
      "SARIMAX (1, 0, 1) x (1, 1, 0, 30)30 : BIC Calculated =15077.042671377623\n"
     ]
    },
    {
     "name": "stderr",
     "output_type": "stream",
     "text": [
      "/Users/marianafaria/opt/anaconda3/lib/python3.8/site-packages/statsmodels/base/model.py:566: ConvergenceWarning:\n",
      "\n",
      "Maximum Likelihood optimization failed to converge. Check mle_retvals\n",
      "\n"
     ]
    },
    {
     "name": "stdout",
     "output_type": "stream",
     "text": [
      "SARIMAX (1, 0, 1) x (1, 1, 1, 30)30 : BIC Calculated =14500.922154614655\n",
      "SARIMAX (1, 0, 1) x (1, 1, 2, 30)30 : BIC Calculated =14500.032855868149\n",
      "SARIMAX (1, 0, 1) x (1, 2, 0, 30)30 : BIC Calculated =16099.197694312816\n",
      "SARIMAX (1, 0, 1) x (1, 2, 1, 30)30 : BIC Calculated =14987.201524749911\n"
     ]
    },
    {
     "name": "stderr",
     "output_type": "stream",
     "text": [
      "/Users/marianafaria/opt/anaconda3/lib/python3.8/site-packages/statsmodels/base/model.py:566: ConvergenceWarning:\n",
      "\n",
      "Maximum Likelihood optimization failed to converge. Check mle_retvals\n",
      "\n"
     ]
    },
    {
     "name": "stdout",
     "output_type": "stream",
     "text": [
      "SARIMAX (1, 0, 1) x (1, 2, 2, 30)30 : BIC Calculated =14536.393749892031\n"
     ]
    },
    {
     "name": "stderr",
     "output_type": "stream",
     "text": [
      "/Users/marianafaria/opt/anaconda3/lib/python3.8/site-packages/statsmodels/base/model.py:566: ConvergenceWarning:\n",
      "\n",
      "Maximum Likelihood optimization failed to converge. Check mle_retvals\n",
      "\n"
     ]
    },
    {
     "name": "stdout",
     "output_type": "stream",
     "text": [
      "SARIMAX (1, 0, 1) x (2, 0, 1, 30)30 : BIC Calculated =16356.166084921892\n",
      "SARIMAX (1, 0, 1) x (2, 1, 0, 30)30 : BIC Calculated =14905.369514709606\n",
      "SARIMAX (1, 0, 1) x (2, 1, 1, 30)30 : BIC Calculated =14506.638233686796\n"
     ]
    },
    {
     "name": "stderr",
     "output_type": "stream",
     "text": [
      "/Users/marianafaria/opt/anaconda3/lib/python3.8/site-packages/statsmodels/base/model.py:566: ConvergenceWarning:\n",
      "\n",
      "Maximum Likelihood optimization failed to converge. Check mle_retvals\n",
      "\n"
     ]
    },
    {
     "name": "stdout",
     "output_type": "stream",
     "text": [
      "SARIMAX (1, 0, 1) x (2, 1, 2, 30)30 : BIC Calculated =14505.134831773781\n",
      "SARIMAX (1, 0, 1) x (2, 2, 0, 30)30 : BIC Calculated =15633.855069750534\n"
     ]
    },
    {
     "name": "stderr",
     "output_type": "stream",
     "text": [
      "/Users/marianafaria/opt/anaconda3/lib/python3.8/site-packages/statsmodels/base/model.py:566: ConvergenceWarning:\n",
      "\n",
      "Maximum Likelihood optimization failed to converge. Check mle_retvals\n",
      "\n"
     ]
    },
    {
     "name": "stdout",
     "output_type": "stream",
     "text": [
      "SARIMAX (1, 0, 1) x (2, 2, 1, 30)30 : BIC Calculated =14834.563866812923\n"
     ]
    },
    {
     "name": "stderr",
     "output_type": "stream",
     "text": [
      "/Users/marianafaria/opt/anaconda3/lib/python3.8/site-packages/statsmodels/base/model.py:566: ConvergenceWarning:\n",
      "\n",
      "Maximum Likelihood optimization failed to converge. Check mle_retvals\n",
      "\n"
     ]
    },
    {
     "name": "stdout",
     "output_type": "stream",
     "text": [
      "SARIMAX (1, 0, 1) x (2, 2, 2, 30)30 : BIC Calculated =14545.791751814948\n"
     ]
    },
    {
     "name": "stderr",
     "output_type": "stream",
     "text": [
      "/Users/marianafaria/opt/anaconda3/lib/python3.8/site-packages/statsmodels/base/model.py:566: ConvergenceWarning:\n",
      "\n",
      "Maximum Likelihood optimization failed to converge. Check mle_retvals\n",
      "\n"
     ]
    },
    {
     "name": "stdout",
     "output_type": "stream",
     "text": [
      "SARIMAX (1, 0, 2) x (0, 0, 0, 30)30 : BIC Calculated =14633.788727844192\n"
     ]
    },
    {
     "name": "stderr",
     "output_type": "stream",
     "text": [
      "/Users/marianafaria/opt/anaconda3/lib/python3.8/site-packages/statsmodels/base/model.py:566: ConvergenceWarning:\n",
      "\n",
      "Maximum Likelihood optimization failed to converge. Check mle_retvals\n",
      "\n"
     ]
    },
    {
     "name": "stdout",
     "output_type": "stream",
     "text": [
      "SARIMAX (1, 0, 2) x (0, 0, 1, 30)30 : BIC Calculated =14641.364000475753\n"
     ]
    },
    {
     "name": "stderr",
     "output_type": "stream",
     "text": [
      "/Users/marianafaria/opt/anaconda3/lib/python3.8/site-packages/statsmodels/base/model.py:566: ConvergenceWarning:\n",
      "\n",
      "Maximum Likelihood optimization failed to converge. Check mle_retvals\n",
      "\n"
     ]
    },
    {
     "name": "stdout",
     "output_type": "stream",
     "text": [
      "SARIMAX (1, 0, 2) x (0, 0, 2, 30)30 : BIC Calculated =14644.531581897674\n",
      "SARIMAX (1, 0, 2) x (0, 1, 0, 30)30 : BIC Calculated =15505.774020448092\n"
     ]
    },
    {
     "name": "stderr",
     "output_type": "stream",
     "text": [
      "/Users/marianafaria/opt/anaconda3/lib/python3.8/site-packages/statsmodels/base/model.py:566: ConvergenceWarning:\n",
      "\n",
      "Maximum Likelihood optimization failed to converge. Check mle_retvals\n",
      "\n"
     ]
    },
    {
     "name": "stdout",
     "output_type": "stream",
     "text": [
      "SARIMAX (1, 0, 2) x (0, 1, 1, 30)30 : BIC Calculated =14499.896971744376\n"
     ]
    },
    {
     "name": "stderr",
     "output_type": "stream",
     "text": [
      "/Users/marianafaria/opt/anaconda3/lib/python3.8/site-packages/statsmodels/base/model.py:566: ConvergenceWarning:\n",
      "\n",
      "Maximum Likelihood optimization failed to converge. Check mle_retvals\n",
      "\n"
     ]
    },
    {
     "name": "stdout",
     "output_type": "stream",
     "text": [
      "SARIMAX (1, 0, 2) x (0, 1, 2, 30)30 : BIC Calculated =14507.300959853163\n",
      "SARIMAX (1, 0, 2) x (0, 2, 0, 30)30 : BIC Calculated =16985.493377430208\n",
      "SARIMAX (1, 0, 2) x (0, 2, 1, 30)30 : BIC Calculated =15385.503523967647\n"
     ]
    },
    {
     "name": "stderr",
     "output_type": "stream",
     "text": [
      "/Users/marianafaria/opt/anaconda3/lib/python3.8/site-packages/statsmodels/base/model.py:566: ConvergenceWarning:\n",
      "\n",
      "Maximum Likelihood optimization failed to converge. Check mle_retvals\n",
      "\n"
     ]
    },
    {
     "name": "stdout",
     "output_type": "stream",
     "text": [
      "SARIMAX (1, 0, 2) x (0, 2, 2, 30)30 : BIC Calculated =14536.288303432131\n"
     ]
    },
    {
     "name": "stderr",
     "output_type": "stream",
     "text": [
      "/Users/marianafaria/opt/anaconda3/lib/python3.8/site-packages/statsmodels/base/model.py:566: ConvergenceWarning:\n",
      "\n",
      "Maximum Likelihood optimization failed to converge. Check mle_retvals\n",
      "\n"
     ]
    },
    {
     "name": "stdout",
     "output_type": "stream",
     "text": [
      "SARIMAX (1, 0, 2) x (1, 0, 0, 30)30 : BIC Calculated =14645.769816640222\n"
     ]
    },
    {
     "name": "stderr",
     "output_type": "stream",
     "text": [
      "/Users/marianafaria/opt/anaconda3/lib/python3.8/site-packages/statsmodels/base/model.py:566: ConvergenceWarning:\n",
      "\n",
      "Maximum Likelihood optimization failed to converge. Check mle_retvals\n",
      "\n"
     ]
    },
    {
     "name": "stdout",
     "output_type": "stream",
     "text": [
      "SARIMAX (1, 0, 2) x (1, 0, 1, 30)30 : BIC Calculated =15598.53056966347\n"
     ]
    },
    {
     "name": "stderr",
     "output_type": "stream",
     "text": [
      "/Users/marianafaria/opt/anaconda3/lib/python3.8/site-packages/statsmodels/base/model.py:566: ConvergenceWarning:\n",
      "\n",
      "Maximum Likelihood optimization failed to converge. Check mle_retvals\n",
      "\n"
     ]
    },
    {
     "name": "stdout",
     "output_type": "stream",
     "text": [
      "SARIMAX (1, 0, 2) x (1, 0, 2, 30)30 : BIC Calculated =14655.918431586508\n",
      "SARIMAX (1, 0, 2) x (1, 1, 0, 30)30 : BIC Calculated =15084.307111087273\n",
      "SARIMAX (1, 0, 2) x (1, 1, 1, 30)30 : BIC Calculated =14507.228457923897\n"
     ]
    },
    {
     "name": "stderr",
     "output_type": "stream",
     "text": [
      "/Users/marianafaria/opt/anaconda3/lib/python3.8/site-packages/statsmodels/base/model.py:566: ConvergenceWarning:\n",
      "\n",
      "Maximum Likelihood optimization failed to converge. Check mle_retvals\n",
      "\n"
     ]
    },
    {
     "name": "stdout",
     "output_type": "stream",
     "text": [
      "SARIMAX (1, 0, 2) x (1, 1, 2, 30)30 : BIC Calculated =14506.294974036875\n",
      "SARIMAX (1, 0, 2) x (1, 2, 0, 30)30 : BIC Calculated =16106.45229606399\n",
      "SARIMAX (1, 0, 2) x (1, 2, 1, 30)30 : BIC Calculated =14994.431416807085\n"
     ]
    },
    {
     "name": "stderr",
     "output_type": "stream",
     "text": [
      "/Users/marianafaria/opt/anaconda3/lib/python3.8/site-packages/statsmodels/base/model.py:566: ConvergenceWarning:\n",
      "\n",
      "Maximum Likelihood optimization failed to converge. Check mle_retvals\n",
      "\n"
     ]
    },
    {
     "name": "stdout",
     "output_type": "stream",
     "text": [
      "SARIMAX (1, 0, 2) x (1, 2, 2, 30)30 : BIC Calculated =14542.695935949127\n"
     ]
    },
    {
     "name": "stderr",
     "output_type": "stream",
     "text": [
      "/Users/marianafaria/opt/anaconda3/lib/python3.8/site-packages/statsmodels/base/model.py:566: ConvergenceWarning:\n",
      "\n",
      "Maximum Likelihood optimization failed to converge. Check mle_retvals\n",
      "\n"
     ]
    },
    {
     "name": "stdout",
     "output_type": "stream",
     "text": [
      "SARIMAX (1, 0, 2) x (2, 0, 0, 30)30 : BIC Calculated =14986.741870018555\n"
     ]
    },
    {
     "name": "stderr",
     "output_type": "stream",
     "text": [
      "/Users/marianafaria/opt/anaconda3/lib/python3.8/site-packages/statsmodels/base/model.py:566: ConvergenceWarning:\n",
      "\n",
      "Maximum Likelihood optimization failed to converge. Check mle_retvals\n",
      "\n"
     ]
    },
    {
     "name": "stdout",
     "output_type": "stream",
     "text": [
      "SARIMAX (1, 0, 2) x (2, 0, 1, 30)30 : BIC Calculated =14656.45370864928\n"
     ]
    },
    {
     "name": "stderr",
     "output_type": "stream",
     "text": [
      "/Users/marianafaria/opt/anaconda3/lib/python3.8/site-packages/statsmodels/base/model.py:566: ConvergenceWarning:\n",
      "\n",
      "Maximum Likelihood optimization failed to converge. Check mle_retvals\n",
      "\n"
     ]
    },
    {
     "name": "stdout",
     "output_type": "stream",
     "text": [
      "SARIMAX (1, 0, 2) x (2, 0, 2, 30)30 : BIC Calculated =17765.846669632443\n"
     ]
    },
    {
     "name": "stderr",
     "output_type": "stream",
     "text": [
      "/Users/marianafaria/opt/anaconda3/lib/python3.8/site-packages/statsmodels/base/model.py:566: ConvergenceWarning:\n",
      "\n",
      "Maximum Likelihood optimization failed to converge. Check mle_retvals\n",
      "\n"
     ]
    },
    {
     "name": "stdout",
     "output_type": "stream",
     "text": [
      "SARIMAX (1, 0, 2) x (2, 1, 0, 30)30 : BIC Calculated =14912.387214021923\n"
     ]
    },
    {
     "name": "stderr",
     "output_type": "stream",
     "text": [
      "/Users/marianafaria/opt/anaconda3/lib/python3.8/site-packages/statsmodels/base/model.py:566: ConvergenceWarning:\n",
      "\n",
      "Maximum Likelihood optimization failed to converge. Check mle_retvals\n",
      "\n"
     ]
    },
    {
     "name": "stdout",
     "output_type": "stream",
     "text": [
      "SARIMAX (1, 0, 2) x (2, 1, 1, 30)30 : BIC Calculated =14512.785025413446\n"
     ]
    },
    {
     "name": "stderr",
     "output_type": "stream",
     "text": [
      "/Users/marianafaria/opt/anaconda3/lib/python3.8/site-packages/statsmodels/base/model.py:566: ConvergenceWarning:\n",
      "\n",
      "Maximum Likelihood optimization failed to converge. Check mle_retvals\n",
      "\n"
     ]
    },
    {
     "name": "stdout",
     "output_type": "stream",
     "text": [
      "SARIMAX (1, 0, 2) x (2, 1, 2, 30)30 : BIC Calculated =14513.916258422165\n"
     ]
    },
    {
     "name": "stderr",
     "output_type": "stream",
     "text": [
      "/Users/marianafaria/opt/anaconda3/lib/python3.8/site-packages/statsmodels/base/model.py:566: ConvergenceWarning:\n",
      "\n",
      "Maximum Likelihood optimization failed to converge. Check mle_retvals\n",
      "\n"
     ]
    },
    {
     "name": "stdout",
     "output_type": "stream",
     "text": [
      "SARIMAX (1, 0, 2) x (2, 2, 0, 30)30 : BIC Calculated =15640.85019687218\n"
     ]
    },
    {
     "name": "stderr",
     "output_type": "stream",
     "text": [
      "/Users/marianafaria/opt/anaconda3/lib/python3.8/site-packages/statsmodels/base/model.py:566: ConvergenceWarning:\n",
      "\n",
      "Maximum Likelihood optimization failed to converge. Check mle_retvals\n",
      "\n"
     ]
    },
    {
     "name": "stdout",
     "output_type": "stream",
     "text": [
      "SARIMAX (1, 0, 2) x (2, 2, 1, 30)30 : BIC Calculated =14841.526383382548\n"
     ]
    },
    {
     "name": "stderr",
     "output_type": "stream",
     "text": [
      "/Users/marianafaria/opt/anaconda3/lib/python3.8/site-packages/statsmodels/base/model.py:566: ConvergenceWarning:\n",
      "\n",
      "Maximum Likelihood optimization failed to converge. Check mle_retvals\n",
      "\n"
     ]
    },
    {
     "name": "stdout",
     "output_type": "stream",
     "text": [
      "SARIMAX (1, 0, 2) x (2, 2, 2, 30)30 : BIC Calculated =14550.182415014144\n",
      "SARIMAX (1, 1, 0) x (0, 0, 0, 30)30 : BIC Calculated =15074.204905340079\n",
      "SARIMAX (1, 1, 0) x (0, 0, 1, 30)30 : BIC Calculated =15081.182259667148\n",
      "SARIMAX (1, 1, 0) x (0, 0, 2, 30)30 : BIC Calculated =15086.661653947589\n",
      "SARIMAX (1, 1, 0) x (0, 1, 0, 30)30 : BIC Calculated =15991.387507405027\n",
      "SARIMAX (1, 1, 0) x (0, 1, 1, 30)30 : BIC Calculated =14947.630721817288\n"
     ]
    },
    {
     "name": "stderr",
     "output_type": "stream",
     "text": [
      "/Users/marianafaria/opt/anaconda3/lib/python3.8/site-packages/statsmodels/base/model.py:566: ConvergenceWarning:\n",
      "\n",
      "Maximum Likelihood optimization failed to converge. Check mle_retvals\n",
      "\n"
     ]
    },
    {
     "name": "stdout",
     "output_type": "stream",
     "text": [
      "SARIMAX (1, 1, 0) x (0, 1, 2, 30)30 : BIC Calculated =14954.862065877287\n",
      "SARIMAX (1, 1, 0) x (0, 2, 0, 30)30 : BIC Calculated =17474.53725163793\n",
      "SARIMAX (1, 1, 0) x (0, 2, 1, 30)30 : BIC Calculated =15862.29009013712\n",
      "SARIMAX (1, 1, 0) x (0, 2, 2, 30)30 : BIC Calculated =14980.479394441529\n",
      "SARIMAX (1, 1, 0) x (1, 0, 0, 30)30 : BIC Calculated =15081.208826357857\n",
      "SARIMAX (1, 1, 0) x (1, 0, 1, 30)30 : BIC Calculated =15075.773822950685\n",
      "SARIMAX (1, 1, 0) x (1, 0, 2, 30)30 : BIC Calculated =15081.109761409232\n",
      "SARIMAX (1, 1, 0) x (1, 1, 0, 30)30 : BIC Calculated =15534.543481463306\n"
     ]
    },
    {
     "name": "stderr",
     "output_type": "stream",
     "text": [
      "/Users/marianafaria/opt/anaconda3/lib/python3.8/site-packages/statsmodels/base/model.py:566: ConvergenceWarning:\n",
      "\n",
      "Maximum Likelihood optimization failed to converge. Check mle_retvals\n",
      "\n"
     ]
    },
    {
     "name": "stdout",
     "output_type": "stream",
     "text": [
      "SARIMAX (1, 1, 0) x (1, 1, 1, 30)30 : BIC Calculated =14954.851889832213\n",
      "SARIMAX (1, 1, 0) x (1, 1, 2, 30)30 : BIC Calculated =14955.807341520702\n",
      "SARIMAX (1, 1, 0) x (1, 2, 0, 30)30 : BIC Calculated =16554.81372862664\n",
      "SARIMAX (1, 1, 0) x (1, 2, 1, 30)30 : BIC Calculated =15437.691495261888\n"
     ]
    },
    {
     "name": "stderr",
     "output_type": "stream",
     "text": [
      "/Users/marianafaria/opt/anaconda3/lib/python3.8/site-packages/statsmodels/base/model.py:566: ConvergenceWarning:\n",
      "\n",
      "Maximum Likelihood optimization failed to converge. Check mle_retvals\n",
      "\n"
     ]
    },
    {
     "name": "stdout",
     "output_type": "stream",
     "text": [
      "SARIMAX (1, 1, 0) x (1, 2, 2, 30)30 : BIC Calculated =14987.572139392134\n",
      "SARIMAX (1, 1, 0) x (2, 0, 0, 30)30 : BIC Calculated =15087.15605854528\n",
      "SARIMAX (1, 1, 0) x (2, 0, 1, 30)30 : BIC Calculated =15080.950700150779\n",
      "SARIMAX (1, 1, 0) x (2, 0, 2, 30)30 : BIC Calculated =15080.745117599246\n",
      "SARIMAX (1, 1, 0) x (2, 1, 0, 30)30 : BIC Calculated =15371.798124693541\n",
      "SARIMAX (1, 1, 0) x (2, 1, 1, 30)30 : BIC Calculated =14961.31019517262\n"
     ]
    },
    {
     "name": "stderr",
     "output_type": "stream",
     "text": [
      "/Users/marianafaria/opt/anaconda3/lib/python3.8/site-packages/statsmodels/base/model.py:566: ConvergenceWarning:\n",
      "\n",
      "Maximum Likelihood optimization failed to converge. Check mle_retvals\n",
      "\n"
     ]
    },
    {
     "name": "stdout",
     "output_type": "stream",
     "text": [
      "SARIMAX (1, 1, 0) x (2, 1, 2, 30)30 : BIC Calculated =14962.149793602632\n",
      "SARIMAX (1, 1, 0) x (2, 2, 0, 30)30 : BIC Calculated =16087.160832667796\n",
      "SARIMAX (1, 1, 0) x (2, 2, 1, 30)30 : BIC Calculated =15293.681107014203\n"
     ]
    },
    {
     "name": "stderr",
     "output_type": "stream",
     "text": [
      "/Users/marianafaria/opt/anaconda3/lib/python3.8/site-packages/statsmodels/base/model.py:566: ConvergenceWarning:\n",
      "\n",
      "Maximum Likelihood optimization failed to converge. Check mle_retvals\n",
      "\n"
     ]
    },
    {
     "name": "stdout",
     "output_type": "stream",
     "text": [
      "SARIMAX (1, 1, 0) x (2, 2, 2, 30)30 : BIC Calculated =14995.0844851266\n",
      "SARIMAX (1, 1, 1) x (0, 0, 0, 30)30 : BIC Calculated =14613.283085471308\n",
      "SARIMAX (1, 1, 1) x (0, 0, 1, 30)30 : BIC Calculated =14620.680870677214\n",
      "SARIMAX (1, 1, 1) x (0, 0, 2, 30)30 : BIC Calculated =14624.318282243275\n",
      "SARIMAX (1, 1, 1) x (0, 1, 0, 30)30 : BIC Calculated =15525.455415675951\n"
     ]
    },
    {
     "name": "stderr",
     "output_type": "stream",
     "text": [
      "/Users/marianafaria/opt/anaconda3/lib/python3.8/site-packages/statsmodels/base/model.py:566: ConvergenceWarning:\n",
      "\n",
      "Maximum Likelihood optimization failed to converge. Check mle_retvals\n",
      "\n"
     ]
    },
    {
     "name": "stdout",
     "output_type": "stream",
     "text": [
      "SARIMAX (1, 1, 1) x (0, 1, 1, 30)30 : BIC Calculated =14495.63548039418\n"
     ]
    },
    {
     "name": "stderr",
     "output_type": "stream",
     "text": [
      "/Users/marianafaria/opt/anaconda3/lib/python3.8/site-packages/statsmodels/base/model.py:566: ConvergenceWarning:\n",
      "\n",
      "Maximum Likelihood optimization failed to converge. Check mle_retvals\n",
      "\n"
     ]
    },
    {
     "name": "stdout",
     "output_type": "stream",
     "text": [
      "SARIMAX (1, 1, 1) x (0, 1, 2, 30)30 : BIC Calculated =14503.059081420599\n",
      "SARIMAX (1, 1, 1) x (0, 2, 0, 30)30 : BIC Calculated =17015.530421644224\n",
      "SARIMAX (1, 1, 1) x (0, 2, 1, 30)30 : BIC Calculated =15404.997335369728\n"
     ]
    },
    {
     "name": "stderr",
     "output_type": "stream",
     "text": [
      "/Users/marianafaria/opt/anaconda3/lib/python3.8/site-packages/statsmodels/base/model.py:566: ConvergenceWarning:\n",
      "\n",
      "Maximum Likelihood optimization failed to converge. Check mle_retvals\n",
      "\n"
     ]
    },
    {
     "name": "stdout",
     "output_type": "stream",
     "text": [
      "SARIMAX (1, 1, 1) x (0, 2, 2, 30)30 : BIC Calculated =14533.893344430573\n",
      "SARIMAX (1, 1, 1) x (1, 0, 0, 30)30 : BIC Calculated =14620.68436696939\n",
      "SARIMAX (1, 1, 1) x (1, 0, 1, 30)30 : BIC Calculated =14618.425777558992\n"
     ]
    },
    {
     "name": "stderr",
     "output_type": "stream",
     "text": [
      "/Users/marianafaria/opt/anaconda3/lib/python3.8/site-packages/statsmodels/base/model.py:566: ConvergenceWarning:\n",
      "\n",
      "Maximum Likelihood optimization failed to converge. Check mle_retvals\n",
      "\n"
     ]
    },
    {
     "name": "stdout",
     "output_type": "stream",
     "text": [
      "SARIMAX (1, 1, 1) x (1, 0, 2, 30)30 : BIC Calculated =14622.767100179331\n",
      "SARIMAX (1, 1, 1) x (1, 1, 0, 30)30 : BIC Calculated =15094.10524728995\n",
      "SARIMAX (1, 1, 1) x (1, 1, 1, 30)30 : BIC Calculated =14503.109613339326\n",
      "SARIMAX (1, 1, 1) x (1, 1, 2, 30)30 : BIC Calculated =14502.38606712284\n",
      "SARIMAX (1, 1, 1) x (1, 2, 0, 30)30 : BIC Calculated =16128.076396453276\n",
      "SARIMAX (1, 1, 1) x (1, 2, 1, 30)30 : BIC Calculated =15004.598697322614\n"
     ]
    },
    {
     "name": "stderr",
     "output_type": "stream",
     "text": [
      "/Users/marianafaria/opt/anaconda3/lib/python3.8/site-packages/statsmodels/base/model.py:566: ConvergenceWarning:\n",
      "\n",
      "Maximum Likelihood optimization failed to converge. Check mle_retvals\n",
      "\n"
     ]
    },
    {
     "name": "stdout",
     "output_type": "stream",
     "text": [
      "SARIMAX (1, 1, 1) x (1, 2, 2, 30)30 : BIC Calculated =14540.516251684621\n",
      "SARIMAX (1, 1, 1) x (2, 0, 0, 30)30 : BIC Calculated =14625.007579287643\n"
     ]
    },
    {
     "name": "stderr",
     "output_type": "stream",
     "text": [
      "/Users/marianafaria/opt/anaconda3/lib/python3.8/site-packages/statsmodels/base/model.py:566: ConvergenceWarning:\n",
      "\n",
      "Maximum Likelihood optimization failed to converge. Check mle_retvals\n",
      "\n"
     ]
    },
    {
     "name": "stdout",
     "output_type": "stream",
     "text": [
      "SARIMAX (1, 1, 1) x (2, 0, 1, 30)30 : BIC Calculated =14622.674088724089\n",
      "SARIMAX (1, 1, 1) x (2, 0, 2, 30)30 : BIC Calculated =14622.153641507499\n",
      "SARIMAX (1, 1, 1) x (2, 1, 0, 30)30 : BIC Calculated =14915.18186953279\n"
     ]
    },
    {
     "name": "stderr",
     "output_type": "stream",
     "text": [
      "/Users/marianafaria/opt/anaconda3/lib/python3.8/site-packages/statsmodels/base/model.py:566: ConvergenceWarning:\n",
      "\n",
      "Maximum Likelihood optimization failed to converge. Check mle_retvals\n",
      "\n"
     ]
    },
    {
     "name": "stdout",
     "output_type": "stream",
     "text": [
      "SARIMAX (1, 1, 1) x (2, 1, 1, 30)30 : BIC Calculated =14508.345761400822\n"
     ]
    },
    {
     "name": "stderr",
     "output_type": "stream",
     "text": [
      "/Users/marianafaria/opt/anaconda3/lib/python3.8/site-packages/statsmodels/base/model.py:566: ConvergenceWarning:\n",
      "\n",
      "Maximum Likelihood optimization failed to converge. Check mle_retvals\n",
      "\n"
     ]
    },
    {
     "name": "stdout",
     "output_type": "stream",
     "text": [
      "SARIMAX (1, 1, 1) x (2, 1, 2, 30)30 : BIC Calculated =14507.2618238228\n",
      "SARIMAX (1, 1, 1) x (2, 2, 0, 30)30 : BIC Calculated =15654.205740947573\n",
      "SARIMAX (1, 1, 1) x (2, 2, 1, 30)30 : BIC Calculated =14845.38653029798\n"
     ]
    },
    {
     "name": "stderr",
     "output_type": "stream",
     "text": [
      "/Users/marianafaria/opt/anaconda3/lib/python3.8/site-packages/statsmodels/base/model.py:566: ConvergenceWarning:\n",
      "\n",
      "Maximum Likelihood optimization failed to converge. Check mle_retvals\n",
      "\n"
     ]
    },
    {
     "name": "stdout",
     "output_type": "stream",
     "text": [
      "SARIMAX (1, 1, 1) x (2, 2, 2, 30)30 : BIC Calculated =14547.436616199586\n"
     ]
    },
    {
     "name": "stderr",
     "output_type": "stream",
     "text": [
      "/Users/marianafaria/opt/anaconda3/lib/python3.8/site-packages/statsmodels/tsa/statespace/sarimax.py:966: UserWarning:\n",
      "\n",
      "Non-stationary starting autoregressive parameters found. Using zeros as starting parameters.\n",
      "\n"
     ]
    },
    {
     "name": "stdout",
     "output_type": "stream",
     "text": [
      "SARIMAX (1, 1, 2) x (0, 0, 0, 30)30 : BIC Calculated =14617.20925430268\n",
      "SARIMAX (1, 1, 2) x (0, 0, 1, 30)30 : BIC Calculated =14624.626084561542\n",
      "SARIMAX (1, 1, 2) x (0, 0, 2, 30)30 : BIC Calculated =14628.045113220323\n",
      "SARIMAX (1, 1, 2) x (0, 1, 0, 30)30 : BIC Calculated =15527.348998717836\n"
     ]
    },
    {
     "name": "stderr",
     "output_type": "stream",
     "text": [
      "/Users/marianafaria/opt/anaconda3/lib/python3.8/site-packages/statsmodels/base/model.py:566: ConvergenceWarning:\n",
      "\n",
      "Maximum Likelihood optimization failed to converge. Check mle_retvals\n",
      "\n"
     ]
    },
    {
     "name": "stdout",
     "output_type": "stream",
     "text": [
      "SARIMAX (1, 1, 2) x (0, 1, 1, 30)30 : BIC Calculated =14499.429242187274\n"
     ]
    },
    {
     "name": "stderr",
     "output_type": "stream",
     "text": [
      "/Users/marianafaria/opt/anaconda3/lib/python3.8/site-packages/statsmodels/base/model.py:566: ConvergenceWarning:\n",
      "\n",
      "Maximum Likelihood optimization failed to converge. Check mle_retvals\n",
      "\n"
     ]
    },
    {
     "name": "stdout",
     "output_type": "stream",
     "text": [
      "SARIMAX (1, 1, 2) x (0, 1, 2, 30)30 : BIC Calculated =14506.89070377253\n",
      "SARIMAX (1, 1, 2) x (0, 2, 0, 30)30 : BIC Calculated =17017.237098664027\n",
      "SARIMAX (1, 1, 2) x (0, 2, 1, 30)30 : BIC Calculated =15384.46828017485\n"
     ]
    },
    {
     "name": "stderr",
     "output_type": "stream",
     "text": [
      "/Users/marianafaria/opt/anaconda3/lib/python3.8/site-packages/statsmodels/base/model.py:566: ConvergenceWarning:\n",
      "\n",
      "Maximum Likelihood optimization failed to converge. Check mle_retvals\n",
      "\n"
     ]
    },
    {
     "name": "stdout",
     "output_type": "stream",
     "text": [
      "SARIMAX (1, 1, 2) x (0, 2, 2, 30)30 : BIC Calculated =14536.741765062527\n",
      "SARIMAX (1, 1, 2) x (1, 0, 0, 30)30 : BIC Calculated =14624.628054574057\n"
     ]
    },
    {
     "name": "stderr",
     "output_type": "stream",
     "text": [
      "/Users/marianafaria/opt/anaconda3/lib/python3.8/site-packages/statsmodels/base/model.py:566: ConvergenceWarning:\n",
      "\n",
      "Maximum Likelihood optimization failed to converge. Check mle_retvals\n",
      "\n"
     ]
    },
    {
     "name": "stdout",
     "output_type": "stream",
     "text": [
      "SARIMAX (1, 1, 2) x (1, 0, 1, 30)30 : BIC Calculated =14622.68410714823\n"
     ]
    },
    {
     "name": "stderr",
     "output_type": "stream",
     "text": [
      "/Users/marianafaria/opt/anaconda3/lib/python3.8/site-packages/statsmodels/base/model.py:566: ConvergenceWarning:\n",
      "\n",
      "Maximum Likelihood optimization failed to converge. Check mle_retvals\n",
      "\n"
     ]
    },
    {
     "name": "stdout",
     "output_type": "stream",
     "text": [
      "SARIMAX (1, 1, 2) x (1, 0, 2, 30)30 : BIC Calculated =14626.822595407779\n",
      "SARIMAX (1, 1, 2) x (1, 1, 0, 30)30 : BIC Calculated =15098.843620101226\n",
      "SARIMAX (1, 1, 2) x (1, 1, 1, 30)30 : BIC Calculated =14507.809282959865\n",
      "SARIMAX (1, 1, 2) x (1, 1, 2, 30)30 : BIC Calculated =14505.784024457056\n"
     ]
    },
    {
     "name": "stderr",
     "output_type": "stream",
     "text": [
      "/Users/marianafaria/opt/anaconda3/lib/python3.8/site-packages/statsmodels/base/model.py:566: ConvergenceWarning:\n",
      "\n",
      "Maximum Likelihood optimization failed to converge. Check mle_retvals\n",
      "\n"
     ]
    },
    {
     "name": "stdout",
     "output_type": "stream",
     "text": [
      "SARIMAX (1, 1, 2) x (1, 2, 0, 30)30 : BIC Calculated =16132.692658960552\n"
     ]
    },
    {
     "name": "stderr",
     "output_type": "stream",
     "text": [
      "/Users/marianafaria/opt/anaconda3/lib/python3.8/site-packages/statsmodels/base/model.py:566: ConvergenceWarning:\n",
      "\n",
      "Maximum Likelihood optimization failed to converge. Check mle_retvals\n",
      "\n"
     ]
    },
    {
     "name": "stdout",
     "output_type": "stream",
     "text": [
      "SARIMAX (1, 1, 2) x (1, 2, 1, 30)30 : BIC Calculated =15009.577235254697\n"
     ]
    },
    {
     "name": "stderr",
     "output_type": "stream",
     "text": [
      "/Users/marianafaria/opt/anaconda3/lib/python3.8/site-packages/statsmodels/base/model.py:566: ConvergenceWarning:\n",
      "\n",
      "Maximum Likelihood optimization failed to converge. Check mle_retvals\n",
      "\n"
     ]
    },
    {
     "name": "stdout",
     "output_type": "stream",
     "text": [
      "SARIMAX (1, 1, 2) x (1, 2, 2, 30)30 : BIC Calculated =14542.817543984367\n",
      "SARIMAX (1, 1, 2) x (2, 0, 0, 30)30 : BIC Calculated =14628.757143863044\n"
     ]
    },
    {
     "name": "stderr",
     "output_type": "stream",
     "text": [
      "/Users/marianafaria/opt/anaconda3/lib/python3.8/site-packages/statsmodels/base/model.py:566: ConvergenceWarning:\n",
      "\n",
      "Maximum Likelihood optimization failed to converge. Check mle_retvals\n",
      "\n"
     ]
    },
    {
     "name": "stdout",
     "output_type": "stream",
     "text": [
      "SARIMAX (1, 1, 2) x (2, 0, 1, 30)30 : BIC Calculated =14626.749978811073\n"
     ]
    },
    {
     "name": "stderr",
     "output_type": "stream",
     "text": [
      "/Users/marianafaria/opt/anaconda3/lib/python3.8/site-packages/statsmodels/base/model.py:566: ConvergenceWarning:\n",
      "\n",
      "Maximum Likelihood optimization failed to converge. Check mle_retvals\n",
      "\n"
     ]
    },
    {
     "name": "stdout",
     "output_type": "stream",
     "text": [
      "SARIMAX (1, 1, 2) x (2, 0, 2, 30)30 : BIC Calculated =14626.004999138695\n",
      "SARIMAX (1, 1, 2) x (2, 1, 0, 30)30 : BIC Calculated =14918.99347905481\n"
     ]
    },
    {
     "name": "stderr",
     "output_type": "stream",
     "text": [
      "/Users/marianafaria/opt/anaconda3/lib/python3.8/site-packages/statsmodels/base/model.py:566: ConvergenceWarning:\n",
      "\n",
      "Maximum Likelihood optimization failed to converge. Check mle_retvals\n",
      "\n"
     ]
    },
    {
     "name": "stdout",
     "output_type": "stream",
     "text": [
      "SARIMAX (1, 1, 2) x (2, 1, 1, 30)30 : BIC Calculated =14509.919711881417\n"
     ]
    },
    {
     "name": "stderr",
     "output_type": "stream",
     "text": [
      "/Users/marianafaria/opt/anaconda3/lib/python3.8/site-packages/statsmodels/base/model.py:566: ConvergenceWarning:\n",
      "\n",
      "Maximum Likelihood optimization failed to converge. Check mle_retvals\n",
      "\n"
     ]
    },
    {
     "name": "stdout",
     "output_type": "stream",
     "text": [
      "SARIMAX (1, 1, 2) x (2, 1, 2, 30)30 : BIC Calculated =14510.432683524346\n",
      "SARIMAX (1, 1, 2) x (2, 2, 0, 30)30 : BIC Calculated =15658.627226486058\n"
     ]
    },
    {
     "name": "stderr",
     "output_type": "stream",
     "text": [
      "/Users/marianafaria/opt/anaconda3/lib/python3.8/site-packages/statsmodels/base/model.py:566: ConvergenceWarning:\n",
      "\n",
      "Maximum Likelihood optimization failed to converge. Check mle_retvals\n",
      "\n"
     ]
    },
    {
     "name": "stdout",
     "output_type": "stream",
     "text": [
      "SARIMAX (1, 1, 2) x (2, 2, 1, 30)30 : BIC Calculated =14838.52145479814\n"
     ]
    },
    {
     "name": "stderr",
     "output_type": "stream",
     "text": [
      "/Users/marianafaria/opt/anaconda3/lib/python3.8/site-packages/statsmodels/base/model.py:566: ConvergenceWarning:\n",
      "\n",
      "Maximum Likelihood optimization failed to converge. Check mle_retvals\n",
      "\n"
     ]
    },
    {
     "name": "stdout",
     "output_type": "stream",
     "text": [
      "SARIMAX (1, 1, 2) x (2, 2, 2, 30)30 : BIC Calculated =14550.95077781347\n",
      "SARIMAX (1, 2, 0) x (0, 0, 0, 30)30 : BIC Calculated =16384.38143316632\n",
      "SARIMAX (1, 2, 0) x (0, 0, 1, 30)30 : BIC Calculated =16391.6830575253\n",
      "SARIMAX (1, 2, 0) x (0, 0, 2, 30)30 : BIC Calculated =16396.921384665686\n",
      "SARIMAX (1, 2, 0) x (0, 1, 0, 30)30 : BIC Calculated =17267.50246365101\n",
      "SARIMAX (1, 2, 0) x (0, 1, 1, 30)30 : BIC Calculated =16233.99961400615\n"
     ]
    },
    {
     "name": "stderr",
     "output_type": "stream",
     "text": [
      "/Users/marianafaria/opt/anaconda3/lib/python3.8/site-packages/statsmodels/base/model.py:566: ConvergenceWarning:\n",
      "\n",
      "Maximum Likelihood optimization failed to converge. Check mle_retvals\n",
      "\n"
     ]
    },
    {
     "name": "stdout",
     "output_type": "stream",
     "text": [
      "SARIMAX (1, 2, 0) x (0, 1, 2, 30)30 : BIC Calculated =16241.395631477604\n",
      "SARIMAX (1, 2, 0) x (0, 2, 0, 30)30 : BIC Calculated =18724.608874862948\n",
      "SARIMAX (1, 2, 0) x (0, 2, 1, 30)30 : BIC Calculated =17114.986406967953\n",
      "SARIMAX (1, 2, 0) x (0, 2, 2, 30)30 : BIC Calculated =16245.13285371032\n",
      "SARIMAX (1, 2, 0) x (1, 0, 0, 30)30 : BIC Calculated =16391.691797987525\n",
      "SARIMAX (1, 2, 0) x (1, 0, 1, 30)30 : BIC Calculated =16382.640824894548\n",
      "SARIMAX (1, 2, 0) x (1, 0, 2, 30)30 : BIC Calculated =16386.09362789175\n",
      "SARIMAX (1, 2, 0) x (1, 1, 0, 30)30 : BIC Calculated =16824.87699319762\n",
      "SARIMAX (1, 2, 0) x (1, 1, 1, 30)30 : BIC Calculated =16241.401260128881\n",
      "SARIMAX (1, 2, 0) x (1, 1, 2, 30)30 : BIC Calculated =16243.295736443964\n",
      "SARIMAX (1, 2, 0) x (1, 2, 0, 30)30 : BIC Calculated =17816.641602164884\n",
      "SARIMAX (1, 2, 0) x (1, 2, 1, 30)30 : BIC Calculated =16704.17309284841\n"
     ]
    },
    {
     "name": "stderr",
     "output_type": "stream",
     "text": [
      "/Users/marianafaria/opt/anaconda3/lib/python3.8/site-packages/statsmodels/base/model.py:566: ConvergenceWarning:\n",
      "\n",
      "Maximum Likelihood optimization failed to converge. Check mle_retvals\n",
      "\n"
     ]
    },
    {
     "name": "stdout",
     "output_type": "stream",
     "text": [
      "SARIMAX (1, 2, 0) x (1, 2, 2, 30)30 : BIC Calculated =16256.697646368944\n",
      "SARIMAX (1, 2, 0) x (2, 0, 0, 30)30 : BIC Calculated =16397.48086871781\n",
      "SARIMAX (1, 2, 0) x (2, 0, 1, 30)30 : BIC Calculated =16385.70027531519\n",
      "SARIMAX (1, 2, 0) x (2, 0, 2, 30)30 : BIC Calculated =16388.37655584462\n",
      "SARIMAX (1, 2, 0) x (2, 1, 0, 30)30 : BIC Calculated =16662.78165410831\n",
      "SARIMAX (1, 2, 0) x (2, 1, 1, 30)30 : BIC Calculated =16247.711135493579\n"
     ]
    },
    {
     "name": "stderr",
     "output_type": "stream",
     "text": [
      "/Users/marianafaria/opt/anaconda3/lib/python3.8/site-packages/statsmodels/base/model.py:566: ConvergenceWarning:\n",
      "\n",
      "Maximum Likelihood optimization failed to converge. Check mle_retvals\n",
      "\n"
     ]
    },
    {
     "name": "stdout",
     "output_type": "stream",
     "text": [
      "SARIMAX (1, 2, 0) x (2, 1, 2, 30)30 : BIC Calculated =16248.17010178631\n",
      "SARIMAX (1, 2, 0) x (2, 2, 0, 30)30 : BIC Calculated =17348.526052552133\n"
     ]
    },
    {
     "name": "stderr",
     "output_type": "stream",
     "text": [
      "/Users/marianafaria/opt/anaconda3/lib/python3.8/site-packages/statsmodels/base/model.py:566: ConvergenceWarning:\n",
      "\n",
      "Maximum Likelihood optimization failed to converge. Check mle_retvals\n",
      "\n"
     ]
    },
    {
     "name": "stdout",
     "output_type": "stream",
     "text": [
      "SARIMAX (1, 2, 0) x (2, 2, 1, 30)30 : BIC Calculated =16560.756730930534\n",
      "SARIMAX (1, 2, 0) x (2, 2, 2, 30)30 : BIC Calculated =16259.191264822884\n"
     ]
    },
    {
     "name": "stderr",
     "output_type": "stream",
     "text": [
      "/Users/marianafaria/opt/anaconda3/lib/python3.8/site-packages/statsmodels/base/model.py:566: ConvergenceWarning:\n",
      "\n",
      "Maximum Likelihood optimization failed to converge. Check mle_retvals\n",
      "\n"
     ]
    },
    {
     "name": "stdout",
     "output_type": "stream",
     "text": [
      "SARIMAX (1, 2, 1) x (0, 0, 0, 30)30 : BIC Calculated =15081.986909780495\n"
     ]
    },
    {
     "name": "stderr",
     "output_type": "stream",
     "text": [
      "/Users/marianafaria/opt/anaconda3/lib/python3.8/site-packages/statsmodels/base/model.py:566: ConvergenceWarning:\n",
      "\n",
      "Maximum Likelihood optimization failed to converge. Check mle_retvals\n",
      "\n"
     ]
    },
    {
     "name": "stdout",
     "output_type": "stream",
     "text": [
      "SARIMAX (1, 2, 1) x (0, 0, 1, 30)30 : BIC Calculated =15089.000128347385\n"
     ]
    },
    {
     "name": "stderr",
     "output_type": "stream",
     "text": [
      "/Users/marianafaria/opt/anaconda3/lib/python3.8/site-packages/statsmodels/base/model.py:566: ConvergenceWarning:\n",
      "\n",
      "Maximum Likelihood optimization failed to converge. Check mle_retvals\n",
      "\n"
     ]
    },
    {
     "name": "stdout",
     "output_type": "stream",
     "text": [
      "SARIMAX (1, 2, 1) x (0, 0, 2, 30)30 : BIC Calculated =15095.153536871641\n",
      "SARIMAX (1, 2, 1) x (0, 1, 0, 30)30 : BIC Calculated =15998.393193580412\n",
      "SARIMAX (1, 2, 1) x (0, 1, 1, 30)30 : BIC Calculated =14960.89692740696\n",
      "SARIMAX (1, 2, 1) x (0, 1, 2, 30)30 : BIC Calculated =14968.12007683225\n",
      "SARIMAX (1, 2, 1) x (0, 2, 0, 30)30 : BIC Calculated =17480.430954200405\n",
      "SARIMAX (1, 2, 1) x (0, 2, 1, 30)30 : BIC Calculated =15874.410973166969\n"
     ]
    },
    {
     "name": "stderr",
     "output_type": "stream",
     "text": [
      "/Users/marianafaria/opt/anaconda3/lib/python3.8/site-packages/statsmodels/base/model.py:566: ConvergenceWarning:\n",
      "\n",
      "Maximum Likelihood optimization failed to converge. Check mle_retvals\n",
      "\n"
     ]
    },
    {
     "name": "stdout",
     "output_type": "stream",
     "text": [
      "SARIMAX (1, 2, 1) x (0, 2, 2, 30)30 : BIC Calculated =14997.798915696561\n"
     ]
    },
    {
     "name": "stderr",
     "output_type": "stream",
     "text": [
      "/Users/marianafaria/opt/anaconda3/lib/python3.8/site-packages/statsmodels/base/model.py:566: ConvergenceWarning:\n",
      "\n",
      "Maximum Likelihood optimization failed to converge. Check mle_retvals\n",
      "\n"
     ]
    },
    {
     "name": "stdout",
     "output_type": "stream",
     "text": [
      "SARIMAX (1, 2, 1) x (1, 0, 0, 30)30 : BIC Calculated =15089.03808431752\n"
     ]
    },
    {
     "name": "stderr",
     "output_type": "stream",
     "text": [
      "/Users/marianafaria/opt/anaconda3/lib/python3.8/site-packages/statsmodels/base/model.py:566: ConvergenceWarning:\n",
      "\n",
      "Maximum Likelihood optimization failed to converge. Check mle_retvals\n",
      "\n"
     ]
    },
    {
     "name": "stdout",
     "output_type": "stream",
     "text": [
      "SARIMAX (1, 2, 1) x (1, 0, 1, 30)30 : BIC Calculated =15084.167786053082\n"
     ]
    },
    {
     "name": "stderr",
     "output_type": "stream",
     "text": [
      "/Users/marianafaria/opt/anaconda3/lib/python3.8/site-packages/statsmodels/base/model.py:566: ConvergenceWarning:\n",
      "\n",
      "Maximum Likelihood optimization failed to converge. Check mle_retvals\n",
      "\n"
     ]
    },
    {
     "name": "stdout",
     "output_type": "stream",
     "text": [
      "SARIMAX (1, 2, 1) x (1, 0, 2, 30)30 : BIC Calculated =15089.800577568243\n"
     ]
    },
    {
     "name": "stderr",
     "output_type": "stream",
     "text": [
      "/Users/marianafaria/opt/anaconda3/lib/python3.8/site-packages/statsmodels/base/model.py:566: ConvergenceWarning:\n",
      "\n",
      "Maximum Likelihood optimization failed to converge. Check mle_retvals\n",
      "\n"
     ]
    },
    {
     "name": "stdout",
     "output_type": "stream",
     "text": [
      "SARIMAX (1, 2, 1) x (1, 1, 0, 30)30 : BIC Calculated =15542.643845137827\n"
     ]
    },
    {
     "name": "stderr",
     "output_type": "stream",
     "text": [
      "/Users/marianafaria/opt/anaconda3/lib/python3.8/site-packages/statsmodels/base/model.py:566: ConvergenceWarning:\n",
      "\n",
      "Maximum Likelihood optimization failed to converge. Check mle_retvals\n",
      "\n"
     ]
    },
    {
     "name": "stdout",
     "output_type": "stream",
     "text": [
      "SARIMAX (1, 2, 1) x (1, 1, 1, 30)30 : BIC Calculated =14968.136517183242\n"
     ]
    },
    {
     "name": "stderr",
     "output_type": "stream",
     "text": [
      "/Users/marianafaria/opt/anaconda3/lib/python3.8/site-packages/statsmodels/base/model.py:566: ConvergenceWarning:\n",
      "\n",
      "Maximum Likelihood optimization failed to converge. Check mle_retvals\n",
      "\n"
     ]
    },
    {
     "name": "stdout",
     "output_type": "stream",
     "text": [
      "SARIMAX (1, 2, 1) x (1, 1, 2, 30)30 : BIC Calculated =14969.144615918569\n"
     ]
    },
    {
     "name": "stderr",
     "output_type": "stream",
     "text": [
      "/Users/marianafaria/opt/anaconda3/lib/python3.8/site-packages/statsmodels/base/model.py:566: ConvergenceWarning:\n",
      "\n",
      "Maximum Likelihood optimization failed to converge. Check mle_retvals\n",
      "\n"
     ]
    },
    {
     "name": "stdout",
     "output_type": "stream",
     "text": [
      "SARIMAX (1, 2, 1) x (1, 2, 0, 30)30 : BIC Calculated =16562.08080685916\n"
     ]
    },
    {
     "name": "stderr",
     "output_type": "stream",
     "text": [
      "/Users/marianafaria/opt/anaconda3/lib/python3.8/site-packages/statsmodels/base/model.py:566: ConvergenceWarning:\n",
      "\n",
      "Maximum Likelihood optimization failed to converge. Check mle_retvals\n",
      "\n"
     ]
    },
    {
     "name": "stdout",
     "output_type": "stream",
     "text": [
      "SARIMAX (1, 2, 1) x (1, 2, 1, 30)30 : BIC Calculated =15450.83631700939\n"
     ]
    },
    {
     "name": "stderr",
     "output_type": "stream",
     "text": [
      "/Users/marianafaria/opt/anaconda3/lib/python3.8/site-packages/statsmodels/base/model.py:566: ConvergenceWarning:\n",
      "\n",
      "Maximum Likelihood optimization failed to converge. Check mle_retvals\n",
      "\n"
     ]
    },
    {
     "name": "stdout",
     "output_type": "stream",
     "text": [
      "SARIMAX (1, 2, 1) x (1, 2, 2, 30)30 : BIC Calculated =15005.189808725227\n"
     ]
    },
    {
     "name": "stderr",
     "output_type": "stream",
     "text": [
      "/Users/marianafaria/opt/anaconda3/lib/python3.8/site-packages/statsmodels/base/model.py:566: ConvergenceWarning:\n",
      "\n",
      "Maximum Likelihood optimization failed to converge. Check mle_retvals\n",
      "\n"
     ]
    },
    {
     "name": "stdout",
     "output_type": "stream",
     "text": [
      "SARIMAX (1, 2, 1) x (2, 0, 0, 30)30 : BIC Calculated =15095.065073707818\n"
     ]
    },
    {
     "name": "stderr",
     "output_type": "stream",
     "text": [
      "/Users/marianafaria/opt/anaconda3/lib/python3.8/site-packages/statsmodels/base/model.py:566: ConvergenceWarning:\n",
      "\n",
      "Maximum Likelihood optimization failed to converge. Check mle_retvals\n",
      "\n"
     ]
    },
    {
     "name": "stdout",
     "output_type": "stream",
     "text": [
      "SARIMAX (1, 2, 1) x (2, 0, 1, 30)30 : BIC Calculated =15089.925474840466\n"
     ]
    },
    {
     "name": "stderr",
     "output_type": "stream",
     "text": [
      "/Users/marianafaria/opt/anaconda3/lib/python3.8/site-packages/statsmodels/base/model.py:566: ConvergenceWarning:\n",
      "\n",
      "Maximum Likelihood optimization failed to converge. Check mle_retvals\n",
      "\n"
     ]
    },
    {
     "name": "stdout",
     "output_type": "stream",
     "text": [
      "SARIMAX (1, 2, 1) x (2, 0, 2, 30)30 : BIC Calculated =15089.861498045906\n"
     ]
    },
    {
     "name": "stderr",
     "output_type": "stream",
     "text": [
      "/Users/marianafaria/opt/anaconda3/lib/python3.8/site-packages/statsmodels/base/model.py:566: ConvergenceWarning:\n",
      "\n",
      "Maximum Likelihood optimization failed to converge. Check mle_retvals\n",
      "\n"
     ]
    },
    {
     "name": "stdout",
     "output_type": "stream",
     "text": [
      "SARIMAX (1, 2, 1) x (2, 1, 0, 30)30 : BIC Calculated =15380.715007804147\n"
     ]
    },
    {
     "name": "stderr",
     "output_type": "stream",
     "text": [
      "/Users/marianafaria/opt/anaconda3/lib/python3.8/site-packages/statsmodels/base/model.py:566: ConvergenceWarning:\n",
      "\n",
      "Maximum Likelihood optimization failed to converge. Check mle_retvals\n",
      "\n"
     ]
    },
    {
     "name": "stdout",
     "output_type": "stream",
     "text": [
      "SARIMAX (1, 2, 1) x (2, 1, 1, 30)30 : BIC Calculated =14975.123083836519\n"
     ]
    },
    {
     "name": "stderr",
     "output_type": "stream",
     "text": [
      "/Users/marianafaria/opt/anaconda3/lib/python3.8/site-packages/statsmodels/base/model.py:566: ConvergenceWarning:\n",
      "\n",
      "Maximum Likelihood optimization failed to converge. Check mle_retvals\n",
      "\n"
     ]
    },
    {
     "name": "stdout",
     "output_type": "stream",
     "text": [
      "SARIMAX (1, 2, 1) x (2, 1, 2, 30)30 : BIC Calculated =14981.635381085114\n"
     ]
    },
    {
     "name": "stderr",
     "output_type": "stream",
     "text": [
      "/Users/marianafaria/opt/anaconda3/lib/python3.8/site-packages/statsmodels/base/model.py:566: ConvergenceWarning:\n",
      "\n",
      "Maximum Likelihood optimization failed to converge. Check mle_retvals\n",
      "\n"
     ]
    },
    {
     "name": "stdout",
     "output_type": "stream",
     "text": [
      "SARIMAX (1, 2, 1) x (2, 2, 0, 30)30 : BIC Calculated =16095.981779934673\n"
     ]
    },
    {
     "name": "stderr",
     "output_type": "stream",
     "text": [
      "/Users/marianafaria/opt/anaconda3/lib/python3.8/site-packages/statsmodels/base/model.py:566: ConvergenceWarning:\n",
      "\n",
      "Maximum Likelihood optimization failed to converge. Check mle_retvals\n",
      "\n"
     ]
    },
    {
     "name": "stdout",
     "output_type": "stream",
     "text": [
      "SARIMAX (1, 2, 1) x (2, 2, 1, 30)30 : BIC Calculated =15308.066735982882\n"
     ]
    },
    {
     "name": "stderr",
     "output_type": "stream",
     "text": [
      "/Users/marianafaria/opt/anaconda3/lib/python3.8/site-packages/statsmodels/base/model.py:566: ConvergenceWarning:\n",
      "\n",
      "Maximum Likelihood optimization failed to converge. Check mle_retvals\n",
      "\n"
     ]
    },
    {
     "name": "stdout",
     "output_type": "stream",
     "text": [
      "SARIMAX (1, 2, 1) x (2, 2, 2, 30)30 : BIC Calculated =15012.958091955828\n"
     ]
    },
    {
     "name": "stderr",
     "output_type": "stream",
     "text": [
      "/Users/marianafaria/opt/anaconda3/lib/python3.8/site-packages/statsmodels/base/model.py:566: ConvergenceWarning:\n",
      "\n",
      "Maximum Likelihood optimization failed to converge. Check mle_retvals\n",
      "\n"
     ]
    },
    {
     "name": "stdout",
     "output_type": "stream",
     "text": [
      "SARIMAX (1, 2, 2) x (0, 0, 0, 30)30 : BIC Calculated =14624.340522371276\n"
     ]
    },
    {
     "name": "stderr",
     "output_type": "stream",
     "text": [
      "/Users/marianafaria/opt/anaconda3/lib/python3.8/site-packages/statsmodels/base/model.py:566: ConvergenceWarning:\n",
      "\n",
      "Maximum Likelihood optimization failed to converge. Check mle_retvals\n",
      "\n"
     ]
    },
    {
     "name": "stdout",
     "output_type": "stream",
     "text": [
      "SARIMAX (1, 2, 2) x (0, 0, 1, 30)30 : BIC Calculated =14631.991293478135\n"
     ]
    },
    {
     "name": "stderr",
     "output_type": "stream",
     "text": [
      "/Users/marianafaria/opt/anaconda3/lib/python3.8/site-packages/statsmodels/base/model.py:566: ConvergenceWarning:\n",
      "\n",
      "Maximum Likelihood optimization failed to converge. Check mle_retvals\n",
      "\n"
     ]
    },
    {
     "name": "stdout",
     "output_type": "stream",
     "text": [
      "SARIMAX (1, 2, 2) x (0, 0, 2, 30)30 : BIC Calculated =14636.400235939513\n"
     ]
    },
    {
     "name": "stderr",
     "output_type": "stream",
     "text": [
      "/Users/marianafaria/opt/anaconda3/lib/python3.8/site-packages/statsmodels/base/model.py:566: ConvergenceWarning:\n",
      "\n",
      "Maximum Likelihood optimization failed to converge. Check mle_retvals\n",
      "\n"
     ]
    },
    {
     "name": "stdout",
     "output_type": "stream",
     "text": [
      "SARIMAX (1, 2, 2) x (0, 1, 0, 30)30 : BIC Calculated =15535.615154146815\n",
      "SARIMAX (1, 2, 2) x (0, 1, 1, 30)30 : BIC Calculated =14512.478033676847\n"
     ]
    },
    {
     "name": "stderr",
     "output_type": "stream",
     "text": [
      "/Users/marianafaria/opt/anaconda3/lib/python3.8/site-packages/statsmodels/base/model.py:566: ConvergenceWarning:\n",
      "\n",
      "Maximum Likelihood optimization failed to converge. Check mle_retvals\n",
      "\n"
     ]
    },
    {
     "name": "stdout",
     "output_type": "stream",
     "text": [
      "SARIMAX (1, 2, 2) x (0, 1, 2, 30)30 : BIC Calculated =14521.505999083904\n"
     ]
    },
    {
     "name": "stderr",
     "output_type": "stream",
     "text": [
      "/Users/marianafaria/opt/anaconda3/lib/python3.8/site-packages/statsmodels/base/model.py:566: ConvergenceWarning:\n",
      "\n",
      "Maximum Likelihood optimization failed to converge. Check mle_retvals\n",
      "\n"
     ]
    },
    {
     "name": "stdout",
     "output_type": "stream",
     "text": [
      "SARIMAX (1, 2, 2) x (0, 2, 0, 30)30 : BIC Calculated =17024.572556677438\n"
     ]
    },
    {
     "name": "stderr",
     "output_type": "stream",
     "text": [
      "/Users/marianafaria/opt/anaconda3/lib/python3.8/site-packages/statsmodels/base/model.py:566: ConvergenceWarning:\n",
      "\n",
      "Maximum Likelihood optimization failed to converge. Check mle_retvals\n",
      "\n"
     ]
    },
    {
     "name": "stdout",
     "output_type": "stream",
     "text": [
      "SARIMAX (1, 2, 2) x (0, 2, 1, 30)30 : BIC Calculated =15420.377796097162\n"
     ]
    },
    {
     "name": "stderr",
     "output_type": "stream",
     "text": [
      "/Users/marianafaria/opt/anaconda3/lib/python3.8/site-packages/statsmodels/base/model.py:566: ConvergenceWarning:\n",
      "\n",
      "Maximum Likelihood optimization failed to converge. Check mle_retvals\n",
      "\n"
     ]
    },
    {
     "name": "stdout",
     "output_type": "stream",
     "text": [
      "SARIMAX (1, 2, 2) x (0, 2, 2, 30)30 : BIC Calculated =14561.201665349987\n"
     ]
    },
    {
     "name": "stderr",
     "output_type": "stream",
     "text": [
      "/Users/marianafaria/opt/anaconda3/lib/python3.8/site-packages/statsmodels/base/model.py:566: ConvergenceWarning:\n",
      "\n",
      "Maximum Likelihood optimization failed to converge. Check mle_retvals\n",
      "\n"
     ]
    },
    {
     "name": "stdout",
     "output_type": "stream",
     "text": [
      "SARIMAX (1, 2, 2) x (1, 0, 0, 30)30 : BIC Calculated =14631.772587568212\n"
     ]
    },
    {
     "name": "stderr",
     "output_type": "stream",
     "text": [
      "/Users/marianafaria/opt/anaconda3/lib/python3.8/site-packages/statsmodels/base/model.py:566: ConvergenceWarning:\n",
      "\n",
      "Maximum Likelihood optimization failed to converge. Check mle_retvals\n",
      "\n"
     ]
    },
    {
     "name": "stdout",
     "output_type": "stream",
     "text": [
      "SARIMAX (1, 2, 2) x (1, 0, 1, 30)30 : BIC Calculated =14633.434347492166\n"
     ]
    },
    {
     "name": "stderr",
     "output_type": "stream",
     "text": [
      "/Users/marianafaria/opt/anaconda3/lib/python3.8/site-packages/statsmodels/base/model.py:566: ConvergenceWarning:\n",
      "\n",
      "Maximum Likelihood optimization failed to converge. Check mle_retvals\n",
      "\n"
     ]
    },
    {
     "name": "stdout",
     "output_type": "stream",
     "text": [
      "SARIMAX (1, 2, 2) x (1, 0, 2, 30)30 : BIC Calculated =14641.246145396548\n"
     ]
    },
    {
     "name": "stderr",
     "output_type": "stream",
     "text": [
      "/Users/marianafaria/opt/anaconda3/lib/python3.8/site-packages/statsmodels/base/model.py:566: ConvergenceWarning:\n",
      "\n",
      "Maximum Likelihood optimization failed to converge. Check mle_retvals\n",
      "\n"
     ]
    },
    {
     "name": "stdout",
     "output_type": "stream",
     "text": [
      "SARIMAX (1, 2, 2) x (1, 1, 0, 30)30 : BIC Calculated =15105.28751911781\n"
     ]
    },
    {
     "name": "stderr",
     "output_type": "stream",
     "text": [
      "/Users/marianafaria/opt/anaconda3/lib/python3.8/site-packages/statsmodels/base/model.py:566: ConvergenceWarning:\n",
      "\n",
      "Maximum Likelihood optimization failed to converge. Check mle_retvals\n",
      "\n"
     ]
    },
    {
     "name": "stdout",
     "output_type": "stream",
     "text": [
      "SARIMAX (1, 2, 2) x (1, 1, 1, 30)30 : BIC Calculated =14520.553022348504\n",
      "SARIMAX (1, 2, 2) x (1, 1, 2, 30)30 : BIC Calculated =14524.397467031446\n"
     ]
    },
    {
     "name": "stderr",
     "output_type": "stream",
     "text": [
      "/Users/marianafaria/opt/anaconda3/lib/python3.8/site-packages/statsmodels/base/model.py:566: ConvergenceWarning:\n",
      "\n",
      "Maximum Likelihood optimization failed to converge. Check mle_retvals\n",
      "\n"
     ]
    },
    {
     "name": "stdout",
     "output_type": "stream",
     "text": [
      "SARIMAX (1, 2, 2) x (1, 2, 0, 30)30 : BIC Calculated =16138.332878697407\n"
     ]
    },
    {
     "name": "stderr",
     "output_type": "stream",
     "text": [
      "/Users/marianafaria/opt/anaconda3/lib/python3.8/site-packages/statsmodels/base/model.py:566: ConvergenceWarning:\n",
      "\n",
      "Maximum Likelihood optimization failed to converge. Check mle_retvals\n",
      "\n"
     ]
    },
    {
     "name": "stdout",
     "output_type": "stream",
     "text": [
      "SARIMAX (1, 2, 2) x (1, 2, 1, 30)30 : BIC Calculated =15022.825338165023\n",
      "SARIMAX (1, 2, 2) x (1, 2, 2, 30)30 : BIC Calculated =14566.711985292226\n"
     ]
    },
    {
     "name": "stderr",
     "output_type": "stream",
     "text": [
      "/Users/marianafaria/opt/anaconda3/lib/python3.8/site-packages/statsmodels/base/model.py:566: ConvergenceWarning:\n",
      "\n",
      "Maximum Likelihood optimization failed to converge. Check mle_retvals\n",
      "\n"
     ]
    },
    {
     "name": "stdout",
     "output_type": "stream",
     "text": [
      "SARIMAX (1, 2, 2) x (2, 0, 0, 30)30 : BIC Calculated =14638.08602803483\n"
     ]
    },
    {
     "name": "stderr",
     "output_type": "stream",
     "text": [
      "/Users/marianafaria/opt/anaconda3/lib/python3.8/site-packages/statsmodels/base/model.py:566: ConvergenceWarning:\n",
      "\n",
      "Maximum Likelihood optimization failed to converge. Check mle_retvals\n",
      "\n"
     ]
    },
    {
     "name": "stdout",
     "output_type": "stream",
     "text": [
      "SARIMAX (1, 2, 2) x (2, 0, 1, 30)30 : BIC Calculated =14638.197307406319\n"
     ]
    },
    {
     "name": "stderr",
     "output_type": "stream",
     "text": [
      "/Users/marianafaria/opt/anaconda3/lib/python3.8/site-packages/statsmodels/base/model.py:566: ConvergenceWarning:\n",
      "\n",
      "Maximum Likelihood optimization failed to converge. Check mle_retvals\n",
      "\n"
     ]
    },
    {
     "name": "stdout",
     "output_type": "stream",
     "text": [
      "SARIMAX (1, 2, 2) x (2, 0, 2, 30)30 : BIC Calculated =14638.400394389952\n"
     ]
    },
    {
     "name": "stderr",
     "output_type": "stream",
     "text": [
      "/Users/marianafaria/opt/anaconda3/lib/python3.8/site-packages/statsmodels/base/model.py:566: ConvergenceWarning:\n",
      "\n",
      "Maximum Likelihood optimization failed to converge. Check mle_retvals\n",
      "\n"
     ]
    },
    {
     "name": "stdout",
     "output_type": "stream",
     "text": [
      "SARIMAX (1, 2, 2) x (2, 1, 0, 30)30 : BIC Calculated =14936.34457490189\n"
     ]
    },
    {
     "name": "stderr",
     "output_type": "stream",
     "text": [
      "/Users/marianafaria/opt/anaconda3/lib/python3.8/site-packages/statsmodels/base/model.py:566: ConvergenceWarning:\n",
      "\n",
      "Maximum Likelihood optimization failed to converge. Check mle_retvals\n",
      "\n"
     ]
    },
    {
     "name": "stdout",
     "output_type": "stream",
     "text": [
      "SARIMAX (1, 2, 2) x (2, 1, 1, 30)30 : BIC Calculated =14529.400093339358\n"
     ]
    },
    {
     "name": "stderr",
     "output_type": "stream",
     "text": [
      "/Users/marianafaria/opt/anaconda3/lib/python3.8/site-packages/statsmodels/base/model.py:566: ConvergenceWarning:\n",
      "\n",
      "Maximum Likelihood optimization failed to converge. Check mle_retvals\n",
      "\n"
     ]
    },
    {
     "name": "stdout",
     "output_type": "stream",
     "text": [
      "SARIMAX (1, 2, 2) x (2, 1, 2, 30)30 : BIC Calculated =14533.65246867019\n"
     ]
    },
    {
     "name": "stderr",
     "output_type": "stream",
     "text": [
      "/Users/marianafaria/opt/anaconda3/lib/python3.8/site-packages/statsmodels/base/model.py:566: ConvergenceWarning:\n",
      "\n",
      "Maximum Likelihood optimization failed to converge. Check mle_retvals\n",
      "\n"
     ]
    },
    {
     "name": "stdout",
     "output_type": "stream",
     "text": [
      "SARIMAX (1, 2, 2) x (2, 2, 0, 30)30 : BIC Calculated =15675.804140579772\n"
     ]
    },
    {
     "name": "stderr",
     "output_type": "stream",
     "text": [
      "/Users/marianafaria/opt/anaconda3/lib/python3.8/site-packages/statsmodels/base/model.py:566: ConvergenceWarning:\n",
      "\n",
      "Maximum Likelihood optimization failed to converge. Check mle_retvals\n",
      "\n"
     ]
    },
    {
     "name": "stdout",
     "output_type": "stream",
     "text": [
      "SARIMAX (1, 2, 2) x (2, 2, 1, 30)30 : BIC Calculated =14867.49152684585\n"
     ]
    },
    {
     "name": "stderr",
     "output_type": "stream",
     "text": [
      "/Users/marianafaria/opt/anaconda3/lib/python3.8/site-packages/statsmodels/base/model.py:566: ConvergenceWarning:\n",
      "\n",
      "Maximum Likelihood optimization failed to converge. Check mle_retvals\n",
      "\n"
     ]
    },
    {
     "name": "stdout",
     "output_type": "stream",
     "text": [
      "SARIMAX (1, 2, 2) x (2, 2, 2, 30)30 : BIC Calculated =14730.566547965067\n",
      "SARIMAX (2, 0, 0) x (0, 0, 0, 30)30 : BIC Calculated =15091.62718191031\n"
     ]
    },
    {
     "name": "stderr",
     "output_type": "stream",
     "text": [
      "/Users/marianafaria/opt/anaconda3/lib/python3.8/site-packages/statsmodels/base/model.py:566: ConvergenceWarning:\n",
      "\n",
      "Maximum Likelihood optimization failed to converge. Check mle_retvals\n",
      "\n"
     ]
    },
    {
     "name": "stdout",
     "output_type": "stream",
     "text": [
      "SARIMAX (2, 0, 0) x (0, 0, 1, 30)30 : BIC Calculated =15098.704940120107\n"
     ]
    },
    {
     "name": "stderr",
     "output_type": "stream",
     "text": [
      "/Users/marianafaria/opt/anaconda3/lib/python3.8/site-packages/statsmodels/base/model.py:566: ConvergenceWarning:\n",
      "\n",
      "Maximum Likelihood optimization failed to converge. Check mle_retvals\n",
      "\n"
     ]
    },
    {
     "name": "stdout",
     "output_type": "stream",
     "text": [
      "SARIMAX (2, 0, 0) x (0, 0, 2, 30)30 : BIC Calculated =15130.251116649404\n",
      "SARIMAX (2, 0, 0) x (0, 1, 0, 30)30 : BIC Calculated =15632.000053606727\n"
     ]
    },
    {
     "name": "stderr",
     "output_type": "stream",
     "text": [
      "/Users/marianafaria/opt/anaconda3/lib/python3.8/site-packages/statsmodels/base/model.py:566: ConvergenceWarning:\n",
      "\n",
      "Maximum Likelihood optimization failed to converge. Check mle_retvals\n",
      "\n"
     ]
    },
    {
     "name": "stdout",
     "output_type": "stream",
     "text": [
      "SARIMAX (2, 0, 0) x (0, 1, 1, 30)30 : BIC Calculated =14804.350265271367\n",
      "SARIMAX (2, 0, 0) x (0, 1, 2, 30)30 : BIC Calculated =14807.6180715233\n",
      "SARIMAX (2, 0, 0) x (0, 2, 0, 30)30 : BIC Calculated =17070.77399927465\n",
      "SARIMAX (2, 0, 0) x (0, 2, 1, 30)30 : BIC Calculated =15509.727765566899\n",
      "SARIMAX (2, 0, 0) x (0, 2, 2, 30)30 : BIC Calculated =14841.75970595438\n"
     ]
    },
    {
     "name": "stderr",
     "output_type": "stream",
     "text": [
      "/Users/marianafaria/opt/anaconda3/lib/python3.8/site-packages/statsmodels/base/model.py:566: ConvergenceWarning:\n",
      "\n",
      "Maximum Likelihood optimization failed to converge. Check mle_retvals\n",
      "\n"
     ]
    },
    {
     "name": "stdout",
     "output_type": "stream",
     "text": [
      "SARIMAX (2, 0, 0) x (1, 0, 0, 30)30 : BIC Calculated =15098.756327141262\n"
     ]
    },
    {
     "name": "stderr",
     "output_type": "stream",
     "text": [
      "/Users/marianafaria/opt/anaconda3/lib/python3.8/site-packages/statsmodels/base/model.py:566: ConvergenceWarning:\n",
      "\n",
      "Maximum Likelihood optimization failed to converge. Check mle_retvals\n",
      "\n"
     ]
    },
    {
     "name": "stdout",
     "output_type": "stream",
     "text": [
      "SARIMAX (2, 0, 0) x (1, 0, 1, 30)30 : BIC Calculated =15099.969337545963\n"
     ]
    },
    {
     "name": "stderr",
     "output_type": "stream",
     "text": [
      "/Users/marianafaria/opt/anaconda3/lib/python3.8/site-packages/statsmodels/base/model.py:566: ConvergenceWarning:\n",
      "\n",
      "Maximum Likelihood optimization failed to converge. Check mle_retvals\n",
      "\n"
     ]
    },
    {
     "name": "stdout",
     "output_type": "stream",
     "text": [
      "SARIMAX (2, 0, 0) x (1, 0, 2, 30)30 : BIC Calculated =15111.735293612752\n",
      "SARIMAX (2, 0, 0) x (1, 1, 0, 30)30 : BIC Calculated =15258.564758032035\n",
      "SARIMAX (2, 0, 0) x (1, 1, 1, 30)30 : BIC Calculated =14807.315330187068\n",
      "SARIMAX (2, 0, 0) x (1, 1, 2, 30)30 : BIC Calculated =14807.780551258262\n",
      "SARIMAX (2, 0, 0) x (1, 2, 0, 30)30 : BIC Calculated =16228.830098003402\n",
      "SARIMAX (2, 0, 0) x (1, 2, 1, 30)30 : BIC Calculated =15165.536725733094\n"
     ]
    },
    {
     "name": "stderr",
     "output_type": "stream",
     "text": [
      "/Users/marianafaria/opt/anaconda3/lib/python3.8/site-packages/statsmodels/base/model.py:566: ConvergenceWarning:\n",
      "\n",
      "Maximum Likelihood optimization failed to converge. Check mle_retvals\n",
      "\n"
     ]
    },
    {
     "name": "stdout",
     "output_type": "stream",
     "text": [
      "SARIMAX (2, 0, 0) x (1, 2, 2, 30)30 : BIC Calculated =14844.6810323799\n",
      "SARIMAX (2, 0, 0) x (2, 1, 0, 30)30 : BIC Calculated =15123.741110160796\n",
      "SARIMAX (2, 0, 0) x (2, 1, 1, 30)30 : BIC Calculated =14814.053553552794\n"
     ]
    },
    {
     "name": "stderr",
     "output_type": "stream",
     "text": [
      "/Users/marianafaria/opt/anaconda3/lib/python3.8/site-packages/statsmodels/base/model.py:566: ConvergenceWarning:\n",
      "\n",
      "Maximum Likelihood optimization failed to converge. Check mle_retvals\n",
      "\n"
     ]
    },
    {
     "name": "stdout",
     "output_type": "stream",
     "text": [
      "SARIMAX (2, 0, 0) x (2, 1, 2, 30)30 : BIC Calculated =14815.012063476124\n",
      "SARIMAX (2, 0, 0) x (2, 2, 0, 30)30 : BIC Calculated =15789.006149364342\n",
      "SARIMAX (2, 0, 0) x (2, 2, 1, 30)30 : BIC Calculated =15048.037650229802\n"
     ]
    },
    {
     "name": "stderr",
     "output_type": "stream",
     "text": [
      "/Users/marianafaria/opt/anaconda3/lib/python3.8/site-packages/statsmodels/base/model.py:566: ConvergenceWarning:\n",
      "\n",
      "Maximum Likelihood optimization failed to converge. Check mle_retvals\n",
      "\n"
     ]
    },
    {
     "name": "stdout",
     "output_type": "stream",
     "text": [
      "SARIMAX (2, 0, 0) x (2, 2, 2, 30)30 : BIC Calculated =14880.097490709803\n",
      "SARIMAX (2, 0, 1) x (0, 0, 0, 30)30 : BIC Calculated =15464.6767569619\n",
      "SARIMAX (2, 0, 1) x (0, 0, 1, 30)30 : BIC Calculated =15472.0035527134\n"
     ]
    },
    {
     "name": "stderr",
     "output_type": "stream",
     "text": [
      "/Users/marianafaria/opt/anaconda3/lib/python3.8/site-packages/statsmodels/base/model.py:566: ConvergenceWarning:\n",
      "\n",
      "Maximum Likelihood optimization failed to converge. Check mle_retvals\n",
      "\n"
     ]
    },
    {
     "name": "stdout",
     "output_type": "stream",
     "text": [
      "SARIMAX (2, 0, 1) x (0, 0, 2, 30)30 : BIC Calculated =15490.713274411197\n",
      "SARIMAX (2, 0, 1) x (0, 1, 0, 30)30 : BIC Calculated =15505.906193241664\n"
     ]
    },
    {
     "name": "stderr",
     "output_type": "stream",
     "text": [
      "/Users/marianafaria/opt/anaconda3/lib/python3.8/site-packages/statsmodels/base/model.py:566: ConvergenceWarning:\n",
      "\n",
      "Maximum Likelihood optimization failed to converge. Check mle_retvals\n",
      "\n"
     ]
    },
    {
     "name": "stdout",
     "output_type": "stream",
     "text": [
      "SARIMAX (2, 0, 1) x (0, 1, 1, 30)30 : BIC Calculated =14500.030572567992\n"
     ]
    },
    {
     "name": "stderr",
     "output_type": "stream",
     "text": [
      "/Users/marianafaria/opt/anaconda3/lib/python3.8/site-packages/statsmodels/base/model.py:566: ConvergenceWarning:\n",
      "\n",
      "Maximum Likelihood optimization failed to converge. Check mle_retvals\n",
      "\n"
     ]
    },
    {
     "name": "stdout",
     "output_type": "stream",
     "text": [
      "SARIMAX (2, 0, 1) x (0, 1, 2, 30)30 : BIC Calculated =14507.587185967042\n",
      "SARIMAX (2, 0, 1) x (0, 2, 0, 30)30 : BIC Calculated =16985.674714955796\n",
      "SARIMAX (2, 0, 1) x (0, 2, 1, 30)30 : BIC Calculated =15385.647777071084\n"
     ]
    },
    {
     "name": "stderr",
     "output_type": "stream",
     "text": [
      "/Users/marianafaria/opt/anaconda3/lib/python3.8/site-packages/statsmodels/base/model.py:566: ConvergenceWarning:\n",
      "\n",
      "Maximum Likelihood optimization failed to converge. Check mle_retvals\n",
      "\n"
     ]
    },
    {
     "name": "stdout",
     "output_type": "stream",
     "text": [
      "SARIMAX (2, 0, 1) x (0, 2, 2, 30)30 : BIC Calculated =14536.569110395885\n"
     ]
    },
    {
     "name": "stderr",
     "output_type": "stream",
     "text": [
      "/Users/marianafaria/opt/anaconda3/lib/python3.8/site-packages/statsmodels/base/model.py:566: ConvergenceWarning:\n",
      "\n",
      "Maximum Likelihood optimization failed to converge. Check mle_retvals\n",
      "\n"
     ]
    },
    {
     "name": "stdout",
     "output_type": "stream",
     "text": [
      "SARIMAX (2, 0, 1) x (1, 0, 0, 30)30 : BIC Calculated =15999.851109133368\n"
     ]
    },
    {
     "name": "stderr",
     "output_type": "stream",
     "text": [
      "/Users/marianafaria/opt/anaconda3/lib/python3.8/site-packages/statsmodels/base/model.py:566: ConvergenceWarning:\n",
      "\n",
      "Maximum Likelihood optimization failed to converge. Check mle_retvals\n",
      "\n"
     ]
    },
    {
     "name": "stdout",
     "output_type": "stream",
     "text": [
      "SARIMAX (2, 0, 1) x (1, 0, 1, 30)30 : BIC Calculated =15472.148543360296\n"
     ]
    },
    {
     "name": "stderr",
     "output_type": "stream",
     "text": [
      "/Users/marianafaria/opt/anaconda3/lib/python3.8/site-packages/statsmodels/base/model.py:566: ConvergenceWarning:\n",
      "\n",
      "Maximum Likelihood optimization failed to converge. Check mle_retvals\n",
      "\n"
     ]
    },
    {
     "name": "stdout",
     "output_type": "stream",
     "text": [
      "SARIMAX (2, 0, 1) x (1, 0, 2, 30)30 : BIC Calculated =15491.094877247417\n",
      "SARIMAX (2, 0, 1) x (1, 1, 0, 30)30 : BIC Calculated =15084.333905300975\n"
     ]
    },
    {
     "name": "stderr",
     "output_type": "stream",
     "text": [
      "/Users/marianafaria/opt/anaconda3/lib/python3.8/site-packages/statsmodels/base/model.py:566: ConvergenceWarning:\n",
      "\n",
      "Maximum Likelihood optimization failed to converge. Check mle_retvals\n",
      "\n"
     ]
    },
    {
     "name": "stdout",
     "output_type": "stream",
     "text": [
      "SARIMAX (2, 0, 1) x (1, 1, 1, 30)30 : BIC Calculated =14507.444870210567\n"
     ]
    },
    {
     "name": "stderr",
     "output_type": "stream",
     "text": [
      "/Users/marianafaria/opt/anaconda3/lib/python3.8/site-packages/statsmodels/base/model.py:566: ConvergenceWarning:\n",
      "\n",
      "Maximum Likelihood optimization failed to converge. Check mle_retvals\n",
      "\n"
     ]
    },
    {
     "name": "stdout",
     "output_type": "stream",
     "text": [
      "SARIMAX (2, 0, 1) x (1, 1, 2, 30)30 : BIC Calculated =14508.615171315936\n",
      "SARIMAX (2, 0, 1) x (1, 2, 0, 30)30 : BIC Calculated =16106.4805453939\n",
      "SARIMAX (2, 0, 1) x (1, 2, 1, 30)30 : BIC Calculated =14994.486583251775\n"
     ]
    },
    {
     "name": "stderr",
     "output_type": "stream",
     "text": [
      "/Users/marianafaria/opt/anaconda3/lib/python3.8/site-packages/statsmodels/base/model.py:566: ConvergenceWarning:\n",
      "\n",
      "Maximum Likelihood optimization failed to converge. Check mle_retvals\n",
      "\n"
     ]
    },
    {
     "name": "stdout",
     "output_type": "stream",
     "text": [
      "SARIMAX (2, 0, 1) x (1, 2, 2, 30)30 : BIC Calculated =14543.872164499859\n"
     ]
    },
    {
     "name": "stderr",
     "output_type": "stream",
     "text": [
      "/Users/marianafaria/opt/anaconda3/lib/python3.8/site-packages/statsmodels/base/model.py:566: ConvergenceWarning:\n",
      "\n",
      "Maximum Likelihood optimization failed to converge. Check mle_retvals\n",
      "\n"
     ]
    },
    {
     "name": "stdout",
     "output_type": "stream",
     "text": [
      "SARIMAX (2, 0, 1) x (2, 0, 0, 30)30 : BIC Calculated =15490.379078854468\n"
     ]
    },
    {
     "name": "stderr",
     "output_type": "stream",
     "text": [
      "/Users/marianafaria/opt/anaconda3/lib/python3.8/site-packages/statsmodels/base/model.py:566: ConvergenceWarning:\n",
      "\n",
      "Maximum Likelihood optimization failed to converge. Check mle_retvals\n",
      "\n"
     ]
    },
    {
     "name": "stdout",
     "output_type": "stream",
     "text": [
      "SARIMAX (2, 0, 1) x (2, 0, 1, 30)30 : BIC Calculated =15490.864314851493\n",
      "SARIMAX (2, 0, 1) x (2, 0, 2, 30)30 : BIC Calculated =15501.480302828993\n"
     ]
    },
    {
     "name": "stderr",
     "output_type": "stream",
     "text": [
      "/Users/marianafaria/opt/anaconda3/lib/python3.8/site-packages/statsmodels/base/model.py:566: ConvergenceWarning:\n",
      "\n",
      "Maximum Likelihood optimization failed to converge. Check mle_retvals\n",
      "\n"
     ]
    },
    {
     "name": "stdout",
     "output_type": "stream",
     "text": [
      "SARIMAX (2, 0, 1) x (2, 1, 0, 30)30 : BIC Calculated =14912.457996911557\n"
     ]
    },
    {
     "name": "stderr",
     "output_type": "stream",
     "text": [
      "/Users/marianafaria/opt/anaconda3/lib/python3.8/site-packages/statsmodels/base/model.py:566: ConvergenceWarning:\n",
      "\n",
      "Maximum Likelihood optimization failed to converge. Check mle_retvals\n",
      "\n"
     ]
    },
    {
     "name": "stdout",
     "output_type": "stream",
     "text": [
      "SARIMAX (2, 0, 1) x (2, 1, 1, 30)30 : BIC Calculated =14512.978694065458\n"
     ]
    },
    {
     "name": "stderr",
     "output_type": "stream",
     "text": [
      "/Users/marianafaria/opt/anaconda3/lib/python3.8/site-packages/statsmodels/base/model.py:566: ConvergenceWarning:\n",
      "\n",
      "Maximum Likelihood optimization failed to converge. Check mle_retvals\n",
      "\n"
     ]
    },
    {
     "name": "stdout",
     "output_type": "stream",
     "text": [
      "SARIMAX (2, 0, 1) x (2, 1, 2, 30)30 : BIC Calculated =14517.951690504044\n"
     ]
    },
    {
     "name": "stderr",
     "output_type": "stream",
     "text": [
      "/Users/marianafaria/opt/anaconda3/lib/python3.8/site-packages/statsmodels/base/model.py:566: ConvergenceWarning:\n",
      "\n",
      "Maximum Likelihood optimization failed to converge. Check mle_retvals\n",
      "\n"
     ]
    },
    {
     "name": "stdout",
     "output_type": "stream",
     "text": [
      "SARIMAX (2, 0, 1) x (2, 2, 0, 30)30 : BIC Calculated =15640.922351929217\n"
     ]
    },
    {
     "name": "stderr",
     "output_type": "stream",
     "text": [
      "/Users/marianafaria/opt/anaconda3/lib/python3.8/site-packages/statsmodels/base/model.py:566: ConvergenceWarning:\n",
      "\n",
      "Maximum Likelihood optimization failed to converge. Check mle_retvals\n",
      "\n"
     ]
    },
    {
     "name": "stdout",
     "output_type": "stream",
     "text": [
      "SARIMAX (2, 0, 1) x (2, 2, 1, 30)30 : BIC Calculated =14850.514868576629\n"
     ]
    },
    {
     "name": "stderr",
     "output_type": "stream",
     "text": [
      "/Users/marianafaria/opt/anaconda3/lib/python3.8/site-packages/statsmodels/base/model.py:566: ConvergenceWarning:\n",
      "\n",
      "Maximum Likelihood optimization failed to converge. Check mle_retvals\n",
      "\n"
     ]
    },
    {
     "name": "stdout",
     "output_type": "stream",
     "text": [
      "SARIMAX (2, 0, 1) x (2, 2, 2, 30)30 : BIC Calculated =14551.489954371838\n"
     ]
    },
    {
     "name": "stderr",
     "output_type": "stream",
     "text": [
      "/Users/marianafaria/opt/anaconda3/lib/python3.8/site-packages/statsmodels/base/model.py:566: ConvergenceWarning:\n",
      "\n",
      "Maximum Likelihood optimization failed to converge. Check mle_retvals\n",
      "\n"
     ]
    },
    {
     "name": "stdout",
     "output_type": "stream",
     "text": [
      "SARIMAX (2, 0, 2) x (0, 0, 0, 30)30 : BIC Calculated =14631.57276368116\n"
     ]
    },
    {
     "name": "stderr",
     "output_type": "stream",
     "text": [
      "/Users/marianafaria/opt/anaconda3/lib/python3.8/site-packages/statsmodels/base/model.py:566: ConvergenceWarning:\n",
      "\n",
      "Maximum Likelihood optimization failed to converge. Check mle_retvals\n",
      "\n"
     ]
    },
    {
     "name": "stdout",
     "output_type": "stream",
     "text": [
      "SARIMAX (2, 0, 2) x (0, 0, 1, 30)30 : BIC Calculated =14653.554210871707\n"
     ]
    },
    {
     "name": "stderr",
     "output_type": "stream",
     "text": [
      "/Users/marianafaria/opt/anaconda3/lib/python3.8/site-packages/statsmodels/base/model.py:566: ConvergenceWarning:\n",
      "\n",
      "Maximum Likelihood optimization failed to converge. Check mle_retvals\n",
      "\n"
     ]
    },
    {
     "name": "stdout",
     "output_type": "stream",
     "text": [
      "SARIMAX (2, 0, 2) x (0, 0, 2, 30)30 : BIC Calculated =14644.507399812972\n",
      "SARIMAX (2, 0, 2) x (0, 1, 0, 30)30 : BIC Calculated =15508.23585526782\n"
     ]
    },
    {
     "name": "stderr",
     "output_type": "stream",
     "text": [
      "/Users/marianafaria/opt/anaconda3/lib/python3.8/site-packages/statsmodels/base/model.py:566: ConvergenceWarning:\n",
      "\n",
      "Maximum Likelihood optimization failed to converge. Check mle_retvals\n",
      "\n"
     ]
    },
    {
     "name": "stdout",
     "output_type": "stream",
     "text": [
      "SARIMAX (2, 0, 2) x (0, 1, 1, 30)30 : BIC Calculated =14500.984753991703\n"
     ]
    },
    {
     "name": "stderr",
     "output_type": "stream",
     "text": [
      "/Users/marianafaria/opt/anaconda3/lib/python3.8/site-packages/statsmodels/base/model.py:566: ConvergenceWarning:\n",
      "\n",
      "Maximum Likelihood optimization failed to converge. Check mle_retvals\n",
      "\n"
     ]
    },
    {
     "name": "stdout",
     "output_type": "stream",
     "text": [
      "SARIMAX (2, 0, 2) x (0, 1, 2, 30)30 : BIC Calculated =14508.356667949545\n",
      "SARIMAX (2, 0, 2) x (0, 2, 0, 30)30 : BIC Calculated =16987.847447647116\n"
     ]
    },
    {
     "name": "stderr",
     "output_type": "stream",
     "text": [
      "/Users/marianafaria/opt/anaconda3/lib/python3.8/site-packages/statsmodels/base/model.py:566: ConvergenceWarning:\n",
      "\n",
      "Maximum Likelihood optimization failed to converge. Check mle_retvals\n",
      "\n"
     ]
    },
    {
     "name": "stdout",
     "output_type": "stream",
     "text": [
      "SARIMAX (2, 0, 2) x (0, 2, 1, 30)30 : BIC Calculated =15364.93054713873\n"
     ]
    },
    {
     "name": "stderr",
     "output_type": "stream",
     "text": [
      "/Users/marianafaria/opt/anaconda3/lib/python3.8/site-packages/statsmodels/base/model.py:566: ConvergenceWarning:\n",
      "\n",
      "Maximum Likelihood optimization failed to converge. Check mle_retvals\n",
      "\n"
     ]
    },
    {
     "name": "stdout",
     "output_type": "stream",
     "text": [
      "SARIMAX (2, 0, 2) x (0, 2, 2, 30)30 : BIC Calculated =14539.191498923941\n"
     ]
    },
    {
     "name": "stderr",
     "output_type": "stream",
     "text": [
      "/Users/marianafaria/opt/anaconda3/lib/python3.8/site-packages/statsmodels/base/model.py:566: ConvergenceWarning:\n",
      "\n",
      "Maximum Likelihood optimization failed to converge. Check mle_retvals\n",
      "\n"
     ]
    },
    {
     "name": "stdout",
     "output_type": "stream",
     "text": [
      "SARIMAX (2, 0, 2) x (1, 0, 0, 30)30 : BIC Calculated =14639.330150442654\n"
     ]
    },
    {
     "name": "stderr",
     "output_type": "stream",
     "text": [
      "/Users/marianafaria/opt/anaconda3/lib/python3.8/site-packages/statsmodels/base/model.py:566: ConvergenceWarning:\n",
      "\n",
      "Maximum Likelihood optimization failed to converge. Check mle_retvals\n",
      "\n"
     ]
    },
    {
     "name": "stdout",
     "output_type": "stream",
     "text": [
      "SARIMAX (2, 0, 2) x (1, 0, 1, 30)30 : BIC Calculated =14646.24975638788\n"
     ]
    },
    {
     "name": "stderr",
     "output_type": "stream",
     "text": [
      "/Users/marianafaria/opt/anaconda3/lib/python3.8/site-packages/statsmodels/base/model.py:566: ConvergenceWarning:\n",
      "\n",
      "Maximum Likelihood optimization failed to converge. Check mle_retvals\n",
      "\n"
     ]
    },
    {
     "name": "stdout",
     "output_type": "stream",
     "text": [
      "SARIMAX (2, 0, 2) x (1, 0, 2, 30)30 : BIC Calculated =14651.809672514668\n",
      "SARIMAX (2, 0, 2) x (1, 1, 0, 30)30 : BIC Calculated =15089.293456356354\n"
     ]
    },
    {
     "name": "stderr",
     "output_type": "stream",
     "text": [
      "/Users/marianafaria/opt/anaconda3/lib/python3.8/site-packages/statsmodels/base/model.py:566: ConvergenceWarning:\n",
      "\n",
      "Maximum Likelihood optimization failed to converge. Check mle_retvals\n",
      "\n"
     ]
    },
    {
     "name": "stdout",
     "output_type": "stream",
     "text": [
      "SARIMAX (2, 0, 2) x (1, 1, 1, 30)30 : BIC Calculated =14508.362686287182\n",
      "SARIMAX (2, 0, 2) x (1, 1, 2, 30)30 : BIC Calculated =14506.972632849642\n"
     ]
    },
    {
     "name": "stderr",
     "output_type": "stream",
     "text": [
      "/Users/marianafaria/opt/anaconda3/lib/python3.8/site-packages/statsmodels/base/model.py:566: ConvergenceWarning:\n",
      "\n",
      "Maximum Likelihood optimization failed to converge. Check mle_retvals\n",
      "\n"
     ]
    },
    {
     "name": "stdout",
     "output_type": "stream",
     "text": [
      "SARIMAX (2, 0, 2) x (1, 2, 0, 30)30 : BIC Calculated =16111.468736474271\n"
     ]
    },
    {
     "name": "stderr",
     "output_type": "stream",
     "text": [
      "/Users/marianafaria/opt/anaconda3/lib/python3.8/site-packages/statsmodels/base/model.py:566: ConvergenceWarning:\n",
      "\n",
      "Maximum Likelihood optimization failed to converge. Check mle_retvals\n",
      "\n"
     ]
    },
    {
     "name": "stdout",
     "output_type": "stream",
     "text": [
      "SARIMAX (2, 0, 2) x (1, 2, 1, 30)30 : BIC Calculated =14985.278381844573\n"
     ]
    },
    {
     "name": "stderr",
     "output_type": "stream",
     "text": [
      "/Users/marianafaria/opt/anaconda3/lib/python3.8/site-packages/statsmodels/base/model.py:566: ConvergenceWarning:\n",
      "\n",
      "Maximum Likelihood optimization failed to converge. Check mle_retvals\n",
      "\n"
     ]
    },
    {
     "name": "stdout",
     "output_type": "stream",
     "text": [
      "SARIMAX (2, 0, 2) x (1, 2, 2, 30)30 : BIC Calculated =14545.760833207984\n"
     ]
    },
    {
     "name": "stderr",
     "output_type": "stream",
     "text": [
      "/Users/marianafaria/opt/anaconda3/lib/python3.8/site-packages/statsmodels/base/model.py:566: ConvergenceWarning:\n",
      "\n",
      "Maximum Likelihood optimization failed to converge. Check mle_retvals\n",
      "\n"
     ]
    },
    {
     "name": "stdout",
     "output_type": "stream",
     "text": [
      "SARIMAX (2, 0, 2) x (2, 0, 0, 30)30 : BIC Calculated =14655.30105580031\n"
     ]
    },
    {
     "name": "stderr",
     "output_type": "stream",
     "text": [
      "/Users/marianafaria/opt/anaconda3/lib/python3.8/site-packages/statsmodels/base/model.py:566: ConvergenceWarning:\n",
      "\n",
      "Maximum Likelihood optimization failed to converge. Check mle_retvals\n",
      "\n"
     ]
    },
    {
     "name": "stdout",
     "output_type": "stream",
     "text": [
      "SARIMAX (2, 0, 2) x (2, 0, 1, 30)30 : BIC Calculated =14652.55892106341\n"
     ]
    },
    {
     "name": "stderr",
     "output_type": "stream",
     "text": [
      "/Users/marianafaria/opt/anaconda3/lib/python3.8/site-packages/statsmodels/base/model.py:566: ConvergenceWarning:\n",
      "\n",
      "Maximum Likelihood optimization failed to converge. Check mle_retvals\n",
      "\n"
     ]
    },
    {
     "name": "stdout",
     "output_type": "stream",
     "text": [
      "SARIMAX (2, 0, 2) x (2, 1, 0, 30)30 : BIC Calculated =14916.941246590288\n"
     ]
    },
    {
     "name": "stderr",
     "output_type": "stream",
     "text": [
      "/Users/marianafaria/opt/anaconda3/lib/python3.8/site-packages/statsmodels/base/model.py:566: ConvergenceWarning:\n",
      "\n",
      "Maximum Likelihood optimization failed to converge. Check mle_retvals\n",
      "\n"
     ]
    },
    {
     "name": "stdout",
     "output_type": "stream",
     "text": [
      "SARIMAX (2, 0, 2) x (2, 1, 1, 30)30 : BIC Calculated =14518.420611809988\n"
     ]
    },
    {
     "name": "stderr",
     "output_type": "stream",
     "text": [
      "/Users/marianafaria/opt/anaconda3/lib/python3.8/site-packages/statsmodels/base/model.py:566: ConvergenceWarning:\n",
      "\n",
      "Maximum Likelihood optimization failed to converge. Check mle_retvals\n",
      "\n"
     ]
    },
    {
     "name": "stdout",
     "output_type": "stream",
     "text": [
      "SARIMAX (2, 0, 2) x (2, 1, 2, 30)30 : BIC Calculated =14512.628679884143\n"
     ]
    },
    {
     "name": "stderr",
     "output_type": "stream",
     "text": [
      "/Users/marianafaria/opt/anaconda3/lib/python3.8/site-packages/statsmodels/base/model.py:566: ConvergenceWarning:\n",
      "\n",
      "Maximum Likelihood optimization failed to converge. Check mle_retvals\n",
      "\n"
     ]
    },
    {
     "name": "stdout",
     "output_type": "stream",
     "text": [
      "SARIMAX (2, 0, 2) x (2, 2, 0, 30)30 : BIC Calculated =15623.684254955517\n"
     ]
    },
    {
     "name": "stderr",
     "output_type": "stream",
     "text": [
      "/Users/marianafaria/opt/anaconda3/lib/python3.8/site-packages/statsmodels/base/model.py:566: ConvergenceWarning:\n",
      "\n",
      "Maximum Likelihood optimization failed to converge. Check mle_retvals\n",
      "\n"
     ]
    },
    {
     "name": "stdout",
     "output_type": "stream",
     "text": [
      "SARIMAX (2, 0, 2) x (2, 2, 1, 30)30 : BIC Calculated =14847.73516209335\n"
     ]
    },
    {
     "name": "stderr",
     "output_type": "stream",
     "text": [
      "/Users/marianafaria/opt/anaconda3/lib/python3.8/site-packages/statsmodels/base/model.py:566: ConvergenceWarning:\n",
      "\n",
      "Maximum Likelihood optimization failed to converge. Check mle_retvals\n",
      "\n"
     ]
    },
    {
     "name": "stdout",
     "output_type": "stream",
     "text": [
      "SARIMAX (2, 0, 2) x (2, 2, 2, 30)30 : BIC Calculated =14561.621769364985\n",
      "SARIMAX (2, 1, 0) x (0, 0, 0, 30)30 : BIC Calculated =14843.8578380269\n",
      "SARIMAX (2, 1, 0) x (0, 0, 1, 30)30 : BIC Calculated =14851.296625164025\n",
      "SARIMAX (2, 1, 0) x (0, 0, 2, 30)30 : BIC Calculated =14855.654497491034\n",
      "SARIMAX (2, 1, 0) x (0, 1, 0, 30)30 : BIC Calculated =15741.134495984932\n",
      "SARIMAX (2, 1, 0) x (0, 1, 1, 30)30 : BIC Calculated =14719.858011986877\n"
     ]
    },
    {
     "name": "stderr",
     "output_type": "stream",
     "text": [
      "/Users/marianafaria/opt/anaconda3/lib/python3.8/site-packages/statsmodels/base/model.py:566: ConvergenceWarning:\n",
      "\n",
      "Maximum Likelihood optimization failed to converge. Check mle_retvals\n",
      "\n"
     ]
    },
    {
     "name": "stdout",
     "output_type": "stream",
     "text": [
      "SARIMAX (2, 1, 0) x (0, 1, 2, 30)30 : BIC Calculated =14727.40197539919\n",
      "SARIMAX (2, 1, 0) x (0, 2, 0, 30)30 : BIC Calculated =17229.475979834922\n",
      "SARIMAX (2, 1, 0) x (0, 2, 1, 30)30 : BIC Calculated =15616.613768511683\n"
     ]
    },
    {
     "name": "stderr",
     "output_type": "stream",
     "text": [
      "/Users/marianafaria/opt/anaconda3/lib/python3.8/site-packages/statsmodels/base/model.py:566: ConvergenceWarning:\n",
      "\n",
      "Maximum Likelihood optimization failed to converge. Check mle_retvals\n",
      "\n"
     ]
    },
    {
     "name": "stdout",
     "output_type": "stream",
     "text": [
      "SARIMAX (2, 1, 0) x (0, 2, 2, 30)30 : BIC Calculated =14756.196259741224\n",
      "SARIMAX (2, 1, 0) x (1, 0, 0, 30)30 : BIC Calculated =14851.29662694215\n"
     ]
    },
    {
     "name": "stderr",
     "output_type": "stream",
     "text": [
      "/Users/marianafaria/opt/anaconda3/lib/python3.8/site-packages/statsmodels/base/model.py:566: ConvergenceWarning:\n",
      "\n",
      "Maximum Likelihood optimization failed to converge. Check mle_retvals\n",
      "\n"
     ]
    },
    {
     "name": "stdout",
     "output_type": "stream",
     "text": [
      "SARIMAX (2, 1, 0) x (1, 0, 1, 30)30 : BIC Calculated =14851.089529978186\n"
     ]
    },
    {
     "name": "stderr",
     "output_type": "stream",
     "text": [
      "/Users/marianafaria/opt/anaconda3/lib/python3.8/site-packages/statsmodels/base/model.py:566: ConvergenceWarning:\n",
      "\n",
      "Maximum Likelihood optimization failed to converge. Check mle_retvals\n",
      "\n"
     ]
    },
    {
     "name": "stdout",
     "output_type": "stream",
     "text": [
      "SARIMAX (2, 1, 0) x (1, 0, 2, 30)30 : BIC Calculated =14855.604315479159\n",
      "SARIMAX (2, 1, 0) x (1, 1, 0, 30)30 : BIC Calculated =15312.219648533788\n",
      "SARIMAX (2, 1, 0) x (1, 1, 1, 30)30 : BIC Calculated =14727.247614700798\n",
      "SARIMAX (2, 1, 0) x (1, 1, 2, 30)30 : BIC Calculated =14724.414947718456\n",
      "SARIMAX (2, 1, 0) x (1, 2, 0, 30)30 : BIC Calculated =16336.361235751461\n",
      "SARIMAX (2, 1, 0) x (1, 2, 1, 30)30 : BIC Calculated =15218.53601006652\n"
     ]
    },
    {
     "name": "stderr",
     "output_type": "stream",
     "text": [
      "/Users/marianafaria/opt/anaconda3/lib/python3.8/site-packages/statsmodels/base/model.py:566: ConvergenceWarning:\n",
      "\n",
      "Maximum Likelihood optimization failed to converge. Check mle_retvals\n",
      "\n"
     ]
    },
    {
     "name": "stdout",
     "output_type": "stream",
     "text": [
      "SARIMAX (2, 1, 0) x (1, 2, 2, 30)30 : BIC Calculated =14762.04979395054\n",
      "SARIMAX (2, 1, 0) x (2, 0, 0, 30)30 : BIC Calculated =14856.156873830074\n"
     ]
    },
    {
     "name": "stderr",
     "output_type": "stream",
     "text": [
      "/Users/marianafaria/opt/anaconda3/lib/python3.8/site-packages/statsmodels/base/model.py:566: ConvergenceWarning:\n",
      "\n",
      "Maximum Likelihood optimization failed to converge. Check mle_retvals\n",
      "\n"
     ]
    },
    {
     "name": "stdout",
     "output_type": "stream",
     "text": [
      "SARIMAX (2, 1, 0) x (2, 0, 1, 30)30 : BIC Calculated =14855.530527240779\n"
     ]
    },
    {
     "name": "stderr",
     "output_type": "stream",
     "text": [
      "/Users/marianafaria/opt/anaconda3/lib/python3.8/site-packages/statsmodels/base/model.py:566: ConvergenceWarning:\n",
      "\n",
      "Maximum Likelihood optimization failed to converge. Check mle_retvals\n",
      "\n"
     ]
    },
    {
     "name": "stdout",
     "output_type": "stream",
     "text": [
      "SARIMAX (2, 1, 0) x (2, 0, 2, 30)30 : BIC Calculated =14852.812638716583\n",
      "SARIMAX (2, 1, 0) x (2, 1, 0, 30)30 : BIC Calculated =15138.606486627757\n",
      "SARIMAX (2, 1, 0) x (2, 1, 1, 30)30 : BIC Calculated =14732.694489908561\n"
     ]
    },
    {
     "name": "stderr",
     "output_type": "stream",
     "text": [
      "/Users/marianafaria/opt/anaconda3/lib/python3.8/site-packages/statsmodels/base/model.py:566: ConvergenceWarning:\n",
      "\n",
      "Maximum Likelihood optimization failed to converge. Check mle_retvals\n",
      "\n"
     ]
    },
    {
     "name": "stdout",
     "output_type": "stream",
     "text": [
      "SARIMAX (2, 1, 0) x (2, 1, 2, 30)30 : BIC Calculated =14730.758233345792\n",
      "SARIMAX (2, 1, 0) x (2, 2, 0, 30)30 : BIC Calculated =15867.39350248914\n",
      "SARIMAX (2, 1, 0) x (2, 2, 1, 30)30 : BIC Calculated =15064.383864969937\n"
     ]
    },
    {
     "name": "stderr",
     "output_type": "stream",
     "text": [
      "/Users/marianafaria/opt/anaconda3/lib/python3.8/site-packages/statsmodels/base/model.py:566: ConvergenceWarning:\n",
      "\n",
      "Maximum Likelihood optimization failed to converge. Check mle_retvals\n",
      "\n"
     ]
    },
    {
     "name": "stdout",
     "output_type": "stream",
     "text": [
      "SARIMAX (2, 1, 0) x (2, 2, 2, 30)30 : BIC Calculated =14769.970629515026\n",
      "SARIMAX (2, 1, 1) x (0, 0, 0, 30)30 : BIC Calculated =14615.684529807062\n",
      "SARIMAX (2, 1, 1) x (0, 0, 1, 30)30 : BIC Calculated =14623.124281191283\n",
      "SARIMAX (2, 1, 1) x (0, 0, 2, 30)30 : BIC Calculated =14626.52836430969\n",
      "SARIMAX (2, 1, 1) x (0, 1, 0, 30)30 : BIC Calculated =15519.69339707825\n"
     ]
    },
    {
     "name": "stderr",
     "output_type": "stream",
     "text": [
      "/Users/marianafaria/opt/anaconda3/lib/python3.8/site-packages/statsmodels/base/model.py:566: ConvergenceWarning:\n",
      "\n",
      "Maximum Likelihood optimization failed to converge. Check mle_retvals\n",
      "\n"
     ]
    },
    {
     "name": "stdout",
     "output_type": "stream",
     "text": [
      "SARIMAX (2, 1, 1) x (0, 1, 1, 30)30 : BIC Calculated =14497.727789216759\n"
     ]
    },
    {
     "name": "stderr",
     "output_type": "stream",
     "text": [
      "/Users/marianafaria/opt/anaconda3/lib/python3.8/site-packages/statsmodels/base/model.py:566: ConvergenceWarning:\n",
      "\n",
      "Maximum Likelihood optimization failed to converge. Check mle_retvals\n",
      "\n"
     ]
    },
    {
     "name": "stdout",
     "output_type": "stream",
     "text": [
      "SARIMAX (2, 1, 1) x (0, 1, 2, 30)30 : BIC Calculated =14505.922095158196\n",
      "SARIMAX (2, 1, 1) x (0, 2, 0, 30)30 : BIC Calculated =17009.010987035686\n"
     ]
    },
    {
     "name": "stderr",
     "output_type": "stream",
     "text": [
      "/Users/marianafaria/opt/anaconda3/lib/python3.8/site-packages/statsmodels/base/model.py:566: ConvergenceWarning:\n",
      "\n",
      "Maximum Likelihood optimization failed to converge. Check mle_retvals\n",
      "\n"
     ]
    },
    {
     "name": "stdout",
     "output_type": "stream",
     "text": [
      "SARIMAX (2, 1, 1) x (0, 2, 1, 30)30 : BIC Calculated =15399.424623079361\n"
     ]
    },
    {
     "name": "stderr",
     "output_type": "stream",
     "text": [
      "/Users/marianafaria/opt/anaconda3/lib/python3.8/site-packages/statsmodels/base/model.py:566: ConvergenceWarning:\n",
      "\n",
      "Maximum Likelihood optimization failed to converge. Check mle_retvals\n",
      "\n"
     ]
    },
    {
     "name": "stdout",
     "output_type": "stream",
     "text": [
      "SARIMAX (2, 1, 1) x (0, 2, 2, 30)30 : BIC Calculated =14536.387657479414\n",
      "SARIMAX (2, 1, 1) x (1, 0, 0, 30)30 : BIC Calculated =14623.12437297671\n"
     ]
    },
    {
     "name": "stderr",
     "output_type": "stream",
     "text": [
      "/Users/marianafaria/opt/anaconda3/lib/python3.8/site-packages/statsmodels/base/model.py:566: ConvergenceWarning:\n",
      "\n",
      "Maximum Likelihood optimization failed to converge. Check mle_retvals\n",
      "\n"
     ]
    },
    {
     "name": "stdout",
     "output_type": "stream",
     "text": [
      "SARIMAX (2, 1, 1) x (1, 0, 1, 30)30 : BIC Calculated =14622.75883831561\n"
     ]
    },
    {
     "name": "stderr",
     "output_type": "stream",
     "text": [
      "/Users/marianafaria/opt/anaconda3/lib/python3.8/site-packages/statsmodels/base/model.py:566: ConvergenceWarning:\n",
      "\n",
      "Maximum Likelihood optimization failed to converge. Check mle_retvals\n",
      "\n"
     ]
    },
    {
     "name": "stdout",
     "output_type": "stream",
     "text": [
      "SARIMAX (2, 1, 1) x (1, 0, 2, 30)30 : BIC Calculated =14625.64879512375\n",
      "SARIMAX (2, 1, 1) x (1, 1, 0, 30)30 : BIC Calculated =15096.456550976718\n"
     ]
    },
    {
     "name": "stderr",
     "output_type": "stream",
     "text": [
      "/Users/marianafaria/opt/anaconda3/lib/python3.8/site-packages/statsmodels/base/model.py:566: ConvergenceWarning:\n",
      "\n",
      "Maximum Likelihood optimization failed to converge. Check mle_retvals\n",
      "\n"
     ]
    },
    {
     "name": "stdout",
     "output_type": "stream",
     "text": [
      "SARIMAX (2, 1, 1) x (1, 1, 1, 30)30 : BIC Calculated =14505.15761953035\n"
     ]
    },
    {
     "name": "stderr",
     "output_type": "stream",
     "text": [
      "/Users/marianafaria/opt/anaconda3/lib/python3.8/site-packages/statsmodels/base/model.py:566: ConvergenceWarning:\n",
      "\n",
      "Maximum Likelihood optimization failed to converge. Check mle_retvals\n",
      "\n"
     ]
    },
    {
     "name": "stdout",
     "output_type": "stream",
     "text": [
      "SARIMAX (2, 1, 1) x (1, 1, 2, 30)30 : BIC Calculated =14504.22625940418\n",
      "SARIMAX (2, 1, 1) x (1, 2, 0, 30)30 : BIC Calculated =16129.139022695857\n"
     ]
    },
    {
     "name": "stderr",
     "output_type": "stream",
     "text": [
      "/Users/marianafaria/opt/anaconda3/lib/python3.8/site-packages/statsmodels/base/model.py:566: ConvergenceWarning:\n",
      "\n",
      "Maximum Likelihood optimization failed to converge. Check mle_retvals\n",
      "\n"
     ]
    },
    {
     "name": "stdout",
     "output_type": "stream",
     "text": [
      "SARIMAX (2, 1, 1) x (1, 2, 1, 30)30 : BIC Calculated =15006.903383182153\n"
     ]
    },
    {
     "name": "stderr",
     "output_type": "stream",
     "text": [
      "/Users/marianafaria/opt/anaconda3/lib/python3.8/site-packages/statsmodels/base/model.py:566: ConvergenceWarning:\n",
      "\n",
      "Maximum Likelihood optimization failed to converge. Check mle_retvals\n",
      "\n"
     ]
    },
    {
     "name": "stdout",
     "output_type": "stream",
     "text": [
      "SARIMAX (2, 1, 1) x (1, 2, 2, 30)30 : BIC Calculated =14542.366179311333\n",
      "SARIMAX (2, 1, 1) x (2, 0, 0, 30)30 : BIC Calculated =14627.20969097914\n"
     ]
    },
    {
     "name": "stderr",
     "output_type": "stream",
     "text": [
      "/Users/marianafaria/opt/anaconda3/lib/python3.8/site-packages/statsmodels/base/model.py:566: ConvergenceWarning:\n",
      "\n",
      "Maximum Likelihood optimization failed to converge. Check mle_retvals\n",
      "\n"
     ]
    },
    {
     "name": "stdout",
     "output_type": "stream",
     "text": [
      "SARIMAX (2, 1, 1) x (2, 0, 1, 30)30 : BIC Calculated =14625.582029075122\n"
     ]
    },
    {
     "name": "stderr",
     "output_type": "stream",
     "text": [
      "/Users/marianafaria/opt/anaconda3/lib/python3.8/site-packages/statsmodels/base/model.py:566: ConvergenceWarning:\n",
      "\n",
      "Maximum Likelihood optimization failed to converge. Check mle_retvals\n",
      "\n"
     ]
    },
    {
     "name": "stdout",
     "output_type": "stream",
     "text": [
      "SARIMAX (2, 1, 1) x (2, 0, 2, 30)30 : BIC Calculated =14625.274005055908\n",
      "SARIMAX (2, 1, 1) x (2, 1, 0, 30)30 : BIC Calculated =14916.531821428574\n"
     ]
    },
    {
     "name": "stderr",
     "output_type": "stream",
     "text": [
      "/Users/marianafaria/opt/anaconda3/lib/python3.8/site-packages/statsmodels/base/model.py:566: ConvergenceWarning:\n",
      "\n",
      "Maximum Likelihood optimization failed to converge. Check mle_retvals\n",
      "\n"
     ]
    },
    {
     "name": "stdout",
     "output_type": "stream",
     "text": [
      "SARIMAX (2, 1, 1) x (2, 1, 1, 30)30 : BIC Calculated =14510.278253037997\n"
     ]
    },
    {
     "name": "stderr",
     "output_type": "stream",
     "text": [
      "/Users/marianafaria/opt/anaconda3/lib/python3.8/site-packages/statsmodels/base/model.py:566: ConvergenceWarning:\n",
      "\n",
      "Maximum Likelihood optimization failed to converge. Check mle_retvals\n",
      "\n"
     ]
    },
    {
     "name": "stdout",
     "output_type": "stream",
     "text": [
      "SARIMAX (2, 1, 1) x (2, 1, 2, 30)30 : BIC Calculated =14511.251719130229\n",
      "SARIMAX (2, 1, 1) x (2, 2, 0, 30)30 : BIC Calculated =15656.57812993177\n"
     ]
    },
    {
     "name": "stderr",
     "output_type": "stream",
     "text": [
      "/Users/marianafaria/opt/anaconda3/lib/python3.8/site-packages/statsmodels/base/model.py:566: ConvergenceWarning:\n",
      "\n",
      "Maximum Likelihood optimization failed to converge. Check mle_retvals\n",
      "\n"
     ]
    },
    {
     "name": "stdout",
     "output_type": "stream",
     "text": [
      "SARIMAX (2, 1, 1) x (2, 2, 1, 30)30 : BIC Calculated =14850.138769883584\n"
     ]
    },
    {
     "name": "stderr",
     "output_type": "stream",
     "text": [
      "/Users/marianafaria/opt/anaconda3/lib/python3.8/site-packages/statsmodels/base/model.py:566: ConvergenceWarning:\n",
      "\n",
      "Maximum Likelihood optimization failed to converge. Check mle_retvals\n",
      "\n"
     ]
    },
    {
     "name": "stdout",
     "output_type": "stream",
     "text": [
      "SARIMAX (2, 1, 1) x (2, 2, 2, 30)30 : BIC Calculated =14556.301777094304\n",
      "SARIMAX (2, 1, 2) x (0, 0, 0, 30)30 : BIC Calculated =14622.176096202396\n",
      "SARIMAX (2, 1, 2) x (0, 0, 1, 30)30 : BIC Calculated =14629.615845060258\n",
      "SARIMAX (2, 1, 2) x (0, 0, 2, 30)30 : BIC Calculated =14632.96107684059\n",
      "SARIMAX (2, 1, 2) x (0, 1, 0, 30)30 : BIC Calculated =15525.991788981662\n"
     ]
    },
    {
     "name": "stderr",
     "output_type": "stream",
     "text": [
      "/Users/marianafaria/opt/anaconda3/lib/python3.8/site-packages/statsmodels/base/model.py:566: ConvergenceWarning:\n",
      "\n",
      "Maximum Likelihood optimization failed to converge. Check mle_retvals\n",
      "\n"
     ]
    },
    {
     "name": "stdout",
     "output_type": "stream",
     "text": [
      "SARIMAX (2, 1, 2) x (0, 1, 1, 30)30 : BIC Calculated =14503.907702706165\n"
     ]
    },
    {
     "name": "stderr",
     "output_type": "stream",
     "text": [
      "/Users/marianafaria/opt/anaconda3/lib/python3.8/site-packages/statsmodels/base/model.py:566: ConvergenceWarning:\n",
      "\n",
      "Maximum Likelihood optimization failed to converge. Check mle_retvals\n",
      "\n"
     ]
    },
    {
     "name": "stdout",
     "output_type": "stream",
     "text": [
      "SARIMAX (2, 1, 2) x (0, 1, 2, 30)30 : BIC Calculated =14511.84058265811\n",
      "SARIMAX (2, 1, 2) x (0, 2, 0, 30)30 : BIC Calculated =17015.391369241228\n"
     ]
    },
    {
     "name": "stderr",
     "output_type": "stream",
     "text": [
      "/Users/marianafaria/opt/anaconda3/lib/python3.8/site-packages/statsmodels/base/model.py:566: ConvergenceWarning:\n",
      "\n",
      "Maximum Likelihood optimization failed to converge. Check mle_retvals\n",
      "\n"
     ]
    },
    {
     "name": "stdout",
     "output_type": "stream",
     "text": [
      "SARIMAX (2, 1, 2) x (0, 2, 1, 30)30 : BIC Calculated =15391.84747500564\n"
     ]
    },
    {
     "name": "stderr",
     "output_type": "stream",
     "text": [
      "/Users/marianafaria/opt/anaconda3/lib/python3.8/site-packages/statsmodels/base/model.py:566: ConvergenceWarning:\n",
      "\n",
      "Maximum Likelihood optimization failed to converge. Check mle_retvals\n",
      "\n"
     ]
    },
    {
     "name": "stdout",
     "output_type": "stream",
     "text": [
      "SARIMAX (2, 1, 2) x (0, 2, 2, 30)30 : BIC Calculated =14544.74770329102\n",
      "SARIMAX (2, 1, 2) x (1, 0, 0, 30)30 : BIC Calculated =14629.616018816321\n"
     ]
    },
    {
     "name": "stderr",
     "output_type": "stream",
     "text": [
      "/Users/marianafaria/opt/anaconda3/lib/python3.8/site-packages/statsmodels/base/model.py:566: ConvergenceWarning:\n",
      "\n",
      "Maximum Likelihood optimization failed to converge. Check mle_retvals\n",
      "\n"
     ]
    },
    {
     "name": "stdout",
     "output_type": "stream",
     "text": [
      "SARIMAX (2, 1, 2) x (1, 0, 1, 30)30 : BIC Calculated =14635.752631782361\n"
     ]
    },
    {
     "name": "stderr",
     "output_type": "stream",
     "text": [
      "/Users/marianafaria/opt/anaconda3/lib/python3.8/site-packages/statsmodels/base/model.py:566: ConvergenceWarning:\n",
      "\n",
      "Maximum Likelihood optimization failed to converge. Check mle_retvals\n",
      "\n"
     ]
    },
    {
     "name": "stdout",
     "output_type": "stream",
     "text": [
      "SARIMAX (2, 1, 2) x (1, 0, 2, 30)30 : BIC Calculated =14632.246107928073\n"
     ]
    },
    {
     "name": "stderr",
     "output_type": "stream",
     "text": [
      "/Users/marianafaria/opt/anaconda3/lib/python3.8/site-packages/statsmodels/base/model.py:566: ConvergenceWarning:\n",
      "\n",
      "Maximum Likelihood optimization failed to converge. Check mle_retvals\n",
      "\n"
     ]
    },
    {
     "name": "stdout",
     "output_type": "stream",
     "text": [
      "SARIMAX (2, 1, 2) x (1, 1, 0, 30)30 : BIC Calculated =15103.19533723245\n"
     ]
    },
    {
     "name": "stderr",
     "output_type": "stream",
     "text": [
      "/Users/marianafaria/opt/anaconda3/lib/python3.8/site-packages/statsmodels/base/model.py:566: ConvergenceWarning:\n",
      "\n",
      "Maximum Likelihood optimization failed to converge. Check mle_retvals\n",
      "\n"
     ]
    },
    {
     "name": "stdout",
     "output_type": "stream",
     "text": [
      "SARIMAX (2, 1, 2) x (1, 1, 1, 30)30 : BIC Calculated =14511.311557004092\n"
     ]
    },
    {
     "name": "stderr",
     "output_type": "stream",
     "text": [
      "/Users/marianafaria/opt/anaconda3/lib/python3.8/site-packages/statsmodels/base/model.py:566: ConvergenceWarning:\n",
      "\n",
      "Maximum Likelihood optimization failed to converge. Check mle_retvals\n",
      "\n"
     ]
    },
    {
     "name": "stdout",
     "output_type": "stream",
     "text": [
      "SARIMAX (2, 1, 2) x (1, 1, 2, 30)30 : BIC Calculated =14510.375394936858\n",
      "SARIMAX (2, 1, 2) x (1, 2, 0, 30)30 : BIC Calculated =16136.030484326842\n"
     ]
    },
    {
     "name": "stderr",
     "output_type": "stream",
     "text": [
      "/Users/marianafaria/opt/anaconda3/lib/python3.8/site-packages/statsmodels/base/model.py:566: ConvergenceWarning:\n",
      "\n",
      "Maximum Likelihood optimization failed to converge. Check mle_retvals\n",
      "\n"
     ]
    },
    {
     "name": "stdout",
     "output_type": "stream",
     "text": [
      "SARIMAX (2, 1, 2) x (1, 2, 1, 30)30 : BIC Calculated =15001.034494238856\n"
     ]
    },
    {
     "name": "stderr",
     "output_type": "stream",
     "text": [
      "/Users/marianafaria/opt/anaconda3/lib/python3.8/site-packages/statsmodels/base/model.py:566: ConvergenceWarning:\n",
      "\n",
      "Maximum Likelihood optimization failed to converge. Check mle_retvals\n",
      "\n"
     ]
    },
    {
     "name": "stdout",
     "output_type": "stream",
     "text": [
      "SARIMAX (2, 1, 2) x (1, 2, 2, 30)30 : BIC Calculated =14550.238750656143\n",
      "SARIMAX (2, 1, 2) x (2, 0, 0, 30)30 : BIC Calculated =14633.648781887838\n"
     ]
    },
    {
     "name": "stderr",
     "output_type": "stream",
     "text": [
      "/Users/marianafaria/opt/anaconda3/lib/python3.8/site-packages/statsmodels/base/model.py:566: ConvergenceWarning:\n",
      "\n",
      "Maximum Likelihood optimization failed to converge. Check mle_retvals\n",
      "\n"
     ]
    },
    {
     "name": "stdout",
     "output_type": "stream",
     "text": [
      "SARIMAX (2, 1, 2) x (2, 0, 1, 30)30 : BIC Calculated =14632.143810784786\n"
     ]
    },
    {
     "name": "stderr",
     "output_type": "stream",
     "text": [
      "/Users/marianafaria/opt/anaconda3/lib/python3.8/site-packages/statsmodels/base/model.py:566: ConvergenceWarning:\n",
      "\n",
      "Maximum Likelihood optimization failed to converge. Check mle_retvals\n",
      "\n"
     ]
    },
    {
     "name": "stdout",
     "output_type": "stream",
     "text": [
      "SARIMAX (2, 1, 2) x (2, 0, 2, 30)30 : BIC Calculated =14631.662033154324\n"
     ]
    },
    {
     "name": "stderr",
     "output_type": "stream",
     "text": [
      "/Users/marianafaria/opt/anaconda3/lib/python3.8/site-packages/statsmodels/base/model.py:566: ConvergenceWarning:\n",
      "\n",
      "Maximum Likelihood optimization failed to converge. Check mle_retvals\n",
      "\n"
     ]
    },
    {
     "name": "stdout",
     "output_type": "stream",
     "text": [
      "SARIMAX (2, 1, 2) x (2, 1, 0, 30)30 : BIC Calculated =14922.854891155355\n"
     ]
    },
    {
     "name": "stderr",
     "output_type": "stream",
     "text": [
      "/Users/marianafaria/opt/anaconda3/lib/python3.8/site-packages/statsmodels/base/model.py:566: ConvergenceWarning:\n",
      "\n",
      "Maximum Likelihood optimization failed to converge. Check mle_retvals\n",
      "\n"
     ]
    },
    {
     "name": "stdout",
     "output_type": "stream",
     "text": [
      "SARIMAX (2, 1, 2) x (2, 1, 1, 30)30 : BIC Calculated =14517.127709253054\n"
     ]
    },
    {
     "name": "stderr",
     "output_type": "stream",
     "text": [
      "/Users/marianafaria/opt/anaconda3/lib/python3.8/site-packages/statsmodels/base/model.py:566: ConvergenceWarning:\n",
      "\n",
      "Maximum Likelihood optimization failed to converge. Check mle_retvals\n",
      "\n"
     ]
    },
    {
     "name": "stdout",
     "output_type": "stream",
     "text": [
      "SARIMAX (2, 1, 2) x (2, 1, 2, 30)30 : BIC Calculated =14515.865685569386\n"
     ]
    },
    {
     "name": "stderr",
     "output_type": "stream",
     "text": [
      "/Users/marianafaria/opt/anaconda3/lib/python3.8/site-packages/statsmodels/base/model.py:566: ConvergenceWarning:\n",
      "\n",
      "Maximum Likelihood optimization failed to converge. Check mle_retvals\n",
      "\n"
     ]
    },
    {
     "name": "stdout",
     "output_type": "stream",
     "text": [
      "SARIMAX (2, 1, 2) x (2, 2, 0, 30)30 : BIC Calculated =15645.232970764435\n"
     ]
    },
    {
     "name": "stderr",
     "output_type": "stream",
     "text": [
      "/Users/marianafaria/opt/anaconda3/lib/python3.8/site-packages/statsmodels/base/model.py:566: ConvergenceWarning:\n",
      "\n",
      "Maximum Likelihood optimization failed to converge. Check mle_retvals\n",
      "\n"
     ]
    },
    {
     "name": "stdout",
     "output_type": "stream",
     "text": [
      "SARIMAX (2, 1, 2) x (2, 2, 1, 30)30 : BIC Calculated =14846.021709215702\n"
     ]
    },
    {
     "name": "stderr",
     "output_type": "stream",
     "text": [
      "/Users/marianafaria/opt/anaconda3/lib/python3.8/site-packages/statsmodels/base/model.py:566: ConvergenceWarning:\n",
      "\n",
      "Maximum Likelihood optimization failed to converge. Check mle_retvals\n",
      "\n"
     ]
    },
    {
     "name": "stdout",
     "output_type": "stream",
     "text": [
      "SARIMAX (2, 1, 2) x (2, 2, 2, 30)30 : BIC Calculated =14559.514874415978\n",
      "SARIMAX (2, 2, 0) x (0, 0, 0, 30)30 : BIC Calculated =15894.915105048565\n",
      "SARIMAX (2, 2, 0) x (0, 0, 1, 30)30 : BIC Calculated =15902.088385554285\n",
      "SARIMAX (2, 2, 0) x (0, 0, 2, 30)30 : BIC Calculated =15907.140576130512\n",
      "SARIMAX (2, 2, 0) x (0, 1, 0, 30)30 : BIC Calculated =16787.84709745279\n",
      "SARIMAX (2, 2, 0) x (0, 1, 1, 30)30 : BIC Calculated =15751.246372369558\n"
     ]
    },
    {
     "name": "stderr",
     "output_type": "stream",
     "text": [
      "/Users/marianafaria/opt/anaconda3/lib/python3.8/site-packages/statsmodels/base/model.py:566: ConvergenceWarning:\n",
      "\n",
      "Maximum Likelihood optimization failed to converge. Check mle_retvals\n",
      "\n"
     ]
    },
    {
     "name": "stdout",
     "output_type": "stream",
     "text": [
      "SARIMAX (2, 2, 0) x (0, 1, 2, 30)30 : BIC Calculated =15758.555677416482\n",
      "SARIMAX (2, 2, 0) x (0, 2, 0, 30)30 : BIC Calculated =18254.736419213434\n",
      "SARIMAX (2, 2, 0) x (0, 2, 1, 30)30 : BIC Calculated =16643.958081010405\n"
     ]
    },
    {
     "name": "stderr",
     "output_type": "stream",
     "text": [
      "/Users/marianafaria/opt/anaconda3/lib/python3.8/site-packages/statsmodels/base/model.py:566: ConvergenceWarning:\n",
      "\n",
      "Maximum Likelihood optimization failed to converge. Check mle_retvals\n",
      "\n"
     ]
    },
    {
     "name": "stdout",
     "output_type": "stream",
     "text": [
      "SARIMAX (2, 2, 0) x (0, 2, 2, 30)30 : BIC Calculated =15772.834760049405\n",
      "SARIMAX (2, 2, 0) x (1, 0, 0, 30)30 : BIC Calculated =15902.105779865698\n"
     ]
    },
    {
     "name": "stderr",
     "output_type": "stream",
     "text": [
      "/Users/marianafaria/opt/anaconda3/lib/python3.8/site-packages/statsmodels/base/model.py:566: ConvergenceWarning:\n",
      "\n",
      "Maximum Likelihood optimization failed to converge. Check mle_retvals\n",
      "\n"
     ]
    },
    {
     "name": "stdout",
     "output_type": "stream",
     "text": [
      "SARIMAX (2, 2, 0) x (1, 0, 1, 30)30 : BIC Calculated =15899.147061083755\n",
      "SARIMAX (2, 2, 0) x (1, 0, 2, 30)30 : BIC Calculated =15904.682781896761\n",
      "SARIMAX (2, 2, 0) x (1, 1, 0, 30)30 : BIC Calculated =16340.95655942973\n",
      "SARIMAX (2, 2, 0) x (1, 1, 1, 30)30 : BIC Calculated =15758.4892070271\n"
     ]
    },
    {
     "name": "stderr",
     "output_type": "stream",
     "text": [
      "/Users/marianafaria/opt/anaconda3/lib/python3.8/site-packages/statsmodels/base/model.py:566: ConvergenceWarning:\n",
      "\n",
      "Maximum Likelihood optimization failed to converge. Check mle_retvals\n",
      "\n"
     ]
    },
    {
     "name": "stdout",
     "output_type": "stream",
     "text": [
      "SARIMAX (2, 2, 0) x (1, 1, 2, 30)30 : BIC Calculated =15756.970989429508\n",
      "SARIMAX (2, 2, 0) x (1, 2, 0, 30)30 : BIC Calculated =17345.77718304108\n",
      "SARIMAX (2, 2, 0) x (1, 2, 1, 30)30 : BIC Calculated =16228.808254587128\n"
     ]
    },
    {
     "name": "stderr",
     "output_type": "stream",
     "text": [
      "/Users/marianafaria/opt/anaconda3/lib/python3.8/site-packages/statsmodels/base/model.py:566: ConvergenceWarning:\n",
      "\n",
      "Maximum Likelihood optimization failed to converge. Check mle_retvals\n",
      "\n"
     ]
    },
    {
     "name": "stdout",
     "output_type": "stream",
     "text": [
      "SARIMAX (2, 2, 0) x (1, 2, 2, 30)30 : BIC Calculated =15778.151342775069\n",
      "SARIMAX (2, 2, 0) x (2, 0, 0, 30)30 : BIC Calculated =15907.619442179463\n",
      "SARIMAX (2, 2, 0) x (2, 0, 1, 30)30 : BIC Calculated =15904.597313439339\n",
      "SARIMAX (2, 2, 0) x (2, 0, 2, 30)30 : BIC Calculated =15901.199830332418\n"
     ]
    },
    {
     "name": "stderr",
     "output_type": "stream",
     "text": [
      "/Users/marianafaria/opt/anaconda3/lib/python3.8/site-packages/statsmodels/base/model.py:566: ConvergenceWarning:\n",
      "\n",
      "Maximum Likelihood optimization failed to converge. Check mle_retvals\n",
      "\n"
     ]
    },
    {
     "name": "stdout",
     "output_type": "stream",
     "text": [
      "SARIMAX (2, 2, 0) x (2, 1, 0, 30)30 : BIC Calculated =16172.989866951346\n",
      "SARIMAX (2, 2, 0) x (2, 1, 1, 30)30 : BIC Calculated =15764.433915512931\n"
     ]
    },
    {
     "name": "stderr",
     "output_type": "stream",
     "text": [
      "/Users/marianafaria/opt/anaconda3/lib/python3.8/site-packages/statsmodels/base/model.py:566: ConvergenceWarning:\n",
      "\n",
      "Maximum Likelihood optimization failed to converge. Check mle_retvals\n",
      "\n"
     ]
    },
    {
     "name": "stdout",
     "output_type": "stream",
     "text": [
      "SARIMAX (2, 2, 0) x (2, 1, 2, 30)30 : BIC Calculated =15766.796694376728\n",
      "SARIMAX (2, 2, 0) x (2, 2, 0, 30)30 : BIC Calculated =16878.75221071198\n",
      "SARIMAX (2, 2, 0) x (2, 2, 1, 30)30 : BIC Calculated =16079.877538754308\n"
     ]
    },
    {
     "name": "stderr",
     "output_type": "stream",
     "text": [
      "/Users/marianafaria/opt/anaconda3/lib/python3.8/site-packages/statsmodels/base/model.py:566: ConvergenceWarning:\n",
      "\n",
      "Maximum Likelihood optimization failed to converge. Check mle_retvals\n",
      "\n"
     ]
    },
    {
     "name": "stdout",
     "output_type": "stream",
     "text": [
      "SARIMAX (2, 2, 0) x (2, 2, 2, 30)30 : BIC Calculated =15785.665609019841\n"
     ]
    },
    {
     "name": "stderr",
     "output_type": "stream",
     "text": [
      "/Users/marianafaria/opt/anaconda3/lib/python3.8/site-packages/statsmodels/base/model.py:566: ConvergenceWarning:\n",
      "\n",
      "Maximum Likelihood optimization failed to converge. Check mle_retvals\n",
      "\n"
     ]
    },
    {
     "name": "stdout",
     "output_type": "stream",
     "text": [
      "SARIMAX (2, 2, 1) x (0, 0, 0, 30)30 : BIC Calculated =14852.424209732511\n"
     ]
    },
    {
     "name": "stderr",
     "output_type": "stream",
     "text": [
      "/Users/marianafaria/opt/anaconda3/lib/python3.8/site-packages/statsmodels/base/model.py:566: ConvergenceWarning:\n",
      "\n",
      "Maximum Likelihood optimization failed to converge. Check mle_retvals\n",
      "\n"
     ]
    },
    {
     "name": "stdout",
     "output_type": "stream",
     "text": [
      "SARIMAX (2, 2, 1) x (0, 0, 1, 30)30 : BIC Calculated =14860.086792438748\n"
     ]
    },
    {
     "name": "stderr",
     "output_type": "stream",
     "text": [
      "/Users/marianafaria/opt/anaconda3/lib/python3.8/site-packages/statsmodels/base/model.py:566: ConvergenceWarning:\n",
      "\n",
      "Maximum Likelihood optimization failed to converge. Check mle_retvals\n",
      "\n"
     ]
    },
    {
     "name": "stdout",
     "output_type": "stream",
     "text": [
      "SARIMAX (2, 2, 1) x (0, 0, 2, 30)30 : BIC Calculated =14864.669394650427\n"
     ]
    },
    {
     "name": "stderr",
     "output_type": "stream",
     "text": [
      "/Users/marianafaria/opt/anaconda3/lib/python3.8/site-packages/statsmodels/base/model.py:566: ConvergenceWarning:\n",
      "\n",
      "Maximum Likelihood optimization failed to converge. Check mle_retvals\n",
      "\n"
     ]
    },
    {
     "name": "stdout",
     "output_type": "stream",
     "text": [
      "SARIMAX (2, 2, 1) x (0, 1, 0, 30)30 : BIC Calculated =15749.032232362673\n"
     ]
    },
    {
     "name": "stderr",
     "output_type": "stream",
     "text": [
      "/Users/marianafaria/opt/anaconda3/lib/python3.8/site-packages/statsmodels/base/model.py:566: ConvergenceWarning:\n",
      "\n",
      "Maximum Likelihood optimization failed to converge. Check mle_retvals\n",
      "\n"
     ]
    },
    {
     "name": "stdout",
     "output_type": "stream",
     "text": [
      "SARIMAX (2, 2, 1) x (0, 1, 1, 30)30 : BIC Calculated =14733.879842086999\n"
     ]
    },
    {
     "name": "stderr",
     "output_type": "stream",
     "text": [
      "/Users/marianafaria/opt/anaconda3/lib/python3.8/site-packages/statsmodels/base/model.py:566: ConvergenceWarning:\n",
      "\n",
      "Maximum Likelihood optimization failed to converge. Check mle_retvals\n",
      "\n"
     ]
    },
    {
     "name": "stdout",
     "output_type": "stream",
     "text": [
      "SARIMAX (2, 2, 1) x (0, 1, 2, 30)30 : BIC Calculated =14741.389729706152\n"
     ]
    },
    {
     "name": "stderr",
     "output_type": "stream",
     "text": [
      "/Users/marianafaria/opt/anaconda3/lib/python3.8/site-packages/statsmodels/base/model.py:566: ConvergenceWarning:\n",
      "\n",
      "Maximum Likelihood optimization failed to converge. Check mle_retvals\n",
      "\n"
     ]
    },
    {
     "name": "stdout",
     "output_type": "stream",
     "text": [
      "SARIMAX (2, 2, 1) x (0, 2, 0, 30)30 : BIC Calculated =17236.163579693988\n",
      "SARIMAX (2, 2, 1) x (0, 2, 1, 30)30 : BIC Calculated =15629.872584456918\n"
     ]
    },
    {
     "name": "stderr",
     "output_type": "stream",
     "text": [
      "/Users/marianafaria/opt/anaconda3/lib/python3.8/site-packages/statsmodels/base/model.py:566: ConvergenceWarning:\n",
      "\n",
      "Maximum Likelihood optimization failed to converge. Check mle_retvals\n",
      "\n"
     ]
    },
    {
     "name": "stdout",
     "output_type": "stream",
     "text": [
      "SARIMAX (2, 2, 1) x (0, 2, 2, 30)30 : BIC Calculated =14774.431222569883\n"
     ]
    },
    {
     "name": "stderr",
     "output_type": "stream",
     "text": [
      "/Users/marianafaria/opt/anaconda3/lib/python3.8/site-packages/statsmodels/base/model.py:566: ConvergenceWarning:\n",
      "\n",
      "Maximum Likelihood optimization failed to converge. Check mle_retvals\n",
      "\n"
     ]
    },
    {
     "name": "stdout",
     "output_type": "stream",
     "text": [
      "SARIMAX (2, 2, 1) x (1, 0, 0, 30)30 : BIC Calculated =14861.779232468538\n"
     ]
    },
    {
     "name": "stderr",
     "output_type": "stream",
     "text": [
      "/Users/marianafaria/opt/anaconda3/lib/python3.8/site-packages/statsmodels/base/model.py:566: ConvergenceWarning:\n",
      "\n",
      "Maximum Likelihood optimization failed to converge. Check mle_retvals\n",
      "\n"
     ]
    },
    {
     "name": "stdout",
     "output_type": "stream",
     "text": [
      "SARIMAX (2, 2, 1) x (1, 0, 1, 30)30 : BIC Calculated =14861.987027064368\n"
     ]
    },
    {
     "name": "stderr",
     "output_type": "stream",
     "text": [
      "/Users/marianafaria/opt/anaconda3/lib/python3.8/site-packages/statsmodels/base/model.py:566: ConvergenceWarning:\n",
      "\n",
      "Maximum Likelihood optimization failed to converge. Check mle_retvals\n",
      "\n"
     ]
    },
    {
     "name": "stdout",
     "output_type": "stream",
     "text": [
      "SARIMAX (2, 2, 1) x (1, 0, 2, 30)30 : BIC Calculated =14866.286072120132\n"
     ]
    },
    {
     "name": "stderr",
     "output_type": "stream",
     "text": [
      "/Users/marianafaria/opt/anaconda3/lib/python3.8/site-packages/statsmodels/base/model.py:566: ConvergenceWarning:\n",
      "\n",
      "Maximum Likelihood optimization failed to converge. Check mle_retvals\n",
      "\n"
     ]
    },
    {
     "name": "stdout",
     "output_type": "stream",
     "text": [
      "SARIMAX (2, 2, 1) x (1, 1, 0, 30)30 : BIC Calculated =15321.153141909832\n"
     ]
    },
    {
     "name": "stderr",
     "output_type": "stream",
     "text": [
      "/Users/marianafaria/opt/anaconda3/lib/python3.8/site-packages/statsmodels/base/model.py:566: ConvergenceWarning:\n",
      "\n",
      "Maximum Likelihood optimization failed to converge. Check mle_retvals\n",
      "\n"
     ]
    },
    {
     "name": "stdout",
     "output_type": "stream",
     "text": [
      "SARIMAX (2, 2, 1) x (1, 1, 1, 30)30 : BIC Calculated =14741.67597432317\n"
     ]
    },
    {
     "name": "stderr",
     "output_type": "stream",
     "text": [
      "/Users/marianafaria/opt/anaconda3/lib/python3.8/site-packages/statsmodels/base/model.py:566: ConvergenceWarning:\n",
      "\n",
      "Maximum Likelihood optimization failed to converge. Check mle_retvals\n",
      "\n"
     ]
    },
    {
     "name": "stdout",
     "output_type": "stream",
     "text": [
      "SARIMAX (2, 2, 1) x (1, 1, 2, 30)30 : BIC Calculated =14738.989619310489\n"
     ]
    },
    {
     "name": "stderr",
     "output_type": "stream",
     "text": [
      "/Users/marianafaria/opt/anaconda3/lib/python3.8/site-packages/statsmodels/base/model.py:566: ConvergenceWarning:\n",
      "\n",
      "Maximum Likelihood optimization failed to converge. Check mle_retvals\n",
      "\n"
     ]
    },
    {
     "name": "stdout",
     "output_type": "stream",
     "text": [
      "SARIMAX (2, 2, 1) x (1, 2, 0, 30)30 : BIC Calculated =16344.3417099753\n",
      "SARIMAX (2, 2, 1) x (1, 2, 1, 30)30 : BIC Calculated =15232.652429082153\n",
      "SARIMAX (2, 2, 1) x (1, 2, 2, 30)30 : BIC Calculated =14780.411648360401\n"
     ]
    },
    {
     "name": "stderr",
     "output_type": "stream",
     "text": [
      "/Users/marianafaria/opt/anaconda3/lib/python3.8/site-packages/statsmodels/base/model.py:566: ConvergenceWarning:\n",
      "\n",
      "Maximum Likelihood optimization failed to converge. Check mle_retvals\n",
      "\n"
     ]
    },
    {
     "name": "stdout",
     "output_type": "stream",
     "text": [
      "SARIMAX (2, 2, 1) x (2, 0, 0, 30)30 : BIC Calculated =14867.101355651836\n"
     ]
    },
    {
     "name": "stderr",
     "output_type": "stream",
     "text": [
      "/Users/marianafaria/opt/anaconda3/lib/python3.8/site-packages/statsmodels/base/model.py:566: ConvergenceWarning:\n",
      "\n",
      "Maximum Likelihood optimization failed to converge. Check mle_retvals\n",
      "\n"
     ]
    },
    {
     "name": "stdout",
     "output_type": "stream",
     "text": [
      "SARIMAX (2, 2, 1) x (2, 0, 1, 30)30 : BIC Calculated =14862.587279393776\n"
     ]
    },
    {
     "name": "stderr",
     "output_type": "stream",
     "text": [
      "/Users/marianafaria/opt/anaconda3/lib/python3.8/site-packages/statsmodels/base/model.py:566: ConvergenceWarning:\n",
      "\n",
      "Maximum Likelihood optimization failed to converge. Check mle_retvals\n",
      "\n"
     ]
    },
    {
     "name": "stdout",
     "output_type": "stream",
     "text": [
      "SARIMAX (2, 2, 1) x (2, 0, 2, 30)30 : BIC Calculated =14863.88981192768\n"
     ]
    },
    {
     "name": "stderr",
     "output_type": "stream",
     "text": [
      "/Users/marianafaria/opt/anaconda3/lib/python3.8/site-packages/statsmodels/base/model.py:566: ConvergenceWarning:\n",
      "\n",
      "Maximum Likelihood optimization failed to converge. Check mle_retvals\n",
      "\n"
     ]
    },
    {
     "name": "stdout",
     "output_type": "stream",
     "text": [
      "SARIMAX (2, 2, 1) x (2, 1, 0, 30)30 : BIC Calculated =15148.417235866345\n"
     ]
    },
    {
     "name": "stderr",
     "output_type": "stream",
     "text": [
      "/Users/marianafaria/opt/anaconda3/lib/python3.8/site-packages/statsmodels/base/model.py:566: ConvergenceWarning:\n",
      "\n",
      "Maximum Likelihood optimization failed to converge. Check mle_retvals\n",
      "\n"
     ]
    },
    {
     "name": "stdout",
     "output_type": "stream",
     "text": [
      "SARIMAX (2, 2, 1) x (2, 1, 1, 30)30 : BIC Calculated =14747.229765583754\n"
     ]
    },
    {
     "name": "stderr",
     "output_type": "stream",
     "text": [
      "/Users/marianafaria/opt/anaconda3/lib/python3.8/site-packages/statsmodels/base/model.py:566: ConvergenceWarning:\n",
      "\n",
      "Maximum Likelihood optimization failed to converge. Check mle_retvals\n",
      "\n"
     ]
    },
    {
     "name": "stdout",
     "output_type": "stream",
     "text": [
      "SARIMAX (2, 2, 1) x (2, 1, 2, 30)30 : BIC Calculated =14747.270537917693\n",
      "SARIMAX (2, 2, 1) x (2, 2, 0, 30)30 : BIC Calculated =15876.595843680028\n",
      "SARIMAX (2, 2, 1) x (2, 2, 1, 30)30 : BIC Calculated =15078.97862899501\n"
     ]
    },
    {
     "name": "stderr",
     "output_type": "stream",
     "text": [
      "/Users/marianafaria/opt/anaconda3/lib/python3.8/site-packages/statsmodels/base/model.py:566: ConvergenceWarning:\n",
      "\n",
      "Maximum Likelihood optimization failed to converge. Check mle_retvals\n",
      "\n"
     ]
    },
    {
     "name": "stdout",
     "output_type": "stream",
     "text": [
      "SARIMAX (2, 2, 1) x (2, 2, 2, 30)30 : BIC Calculated =14787.189720328337\n"
     ]
    },
    {
     "name": "stderr",
     "output_type": "stream",
     "text": [
      "/Users/marianafaria/opt/anaconda3/lib/python3.8/site-packages/statsmodels/base/model.py:566: ConvergenceWarning:\n",
      "\n",
      "Maximum Likelihood optimization failed to converge. Check mle_retvals\n",
      "\n"
     ]
    },
    {
     "name": "stdout",
     "output_type": "stream",
     "text": [
      "SARIMAX (2, 2, 2) x (0, 0, 0, 30)30 : BIC Calculated =14632.818112159379\n"
     ]
    },
    {
     "name": "stderr",
     "output_type": "stream",
     "text": [
      "/Users/marianafaria/opt/anaconda3/lib/python3.8/site-packages/statsmodels/base/model.py:566: ConvergenceWarning:\n",
      "\n",
      "Maximum Likelihood optimization failed to converge. Check mle_retvals\n",
      "\n"
     ]
    },
    {
     "name": "stdout",
     "output_type": "stream",
     "text": [
      "SARIMAX (2, 2, 2) x (0, 0, 1, 30)30 : BIC Calculated =14652.083529092266\n"
     ]
    },
    {
     "name": "stderr",
     "output_type": "stream",
     "text": [
      "/Users/marianafaria/opt/anaconda3/lib/python3.8/site-packages/statsmodels/base/model.py:566: ConvergenceWarning:\n",
      "\n",
      "Maximum Likelihood optimization failed to converge. Check mle_retvals\n",
      "\n"
     ]
    },
    {
     "name": "stdout",
     "output_type": "stream",
     "text": [
      "SARIMAX (2, 2, 2) x (0, 0, 2, 30)30 : BIC Calculated =14653.248606688696\n"
     ]
    },
    {
     "name": "stderr",
     "output_type": "stream",
     "text": [
      "/Users/marianafaria/opt/anaconda3/lib/python3.8/site-packages/statsmodels/base/model.py:566: ConvergenceWarning:\n",
      "\n",
      "Maximum Likelihood optimization failed to converge. Check mle_retvals\n",
      "\n"
     ]
    },
    {
     "name": "stdout",
     "output_type": "stream",
     "text": [
      "SARIMAX (2, 2, 2) x (0, 1, 0, 30)30 : BIC Calculated =15532.846736911755\n"
     ]
    },
    {
     "name": "stderr",
     "output_type": "stream",
     "text": [
      "/Users/marianafaria/opt/anaconda3/lib/python3.8/site-packages/statsmodels/base/model.py:566: ConvergenceWarning:\n",
      "\n",
      "Maximum Likelihood optimization failed to converge. Check mle_retvals\n",
      "\n"
     ]
    },
    {
     "name": "stdout",
     "output_type": "stream",
     "text": [
      "SARIMAX (2, 2, 2) x (0, 1, 1, 30)30 : BIC Calculated =14514.252054431614\n"
     ]
    },
    {
     "name": "stderr",
     "output_type": "stream",
     "text": [
      "/Users/marianafaria/opt/anaconda3/lib/python3.8/site-packages/statsmodels/base/model.py:566: ConvergenceWarning:\n",
      "\n",
      "Maximum Likelihood optimization failed to converge. Check mle_retvals\n",
      "\n"
     ]
    },
    {
     "name": "stdout",
     "output_type": "stream",
     "text": [
      "SARIMAX (2, 2, 2) x (0, 1, 2, 30)30 : BIC Calculated =14523.972264737502\n",
      "SARIMAX (2, 2, 2) x (0, 2, 0, 30)30 : BIC Calculated =17439.61477860121\n"
     ]
    },
    {
     "name": "stderr",
     "output_type": "stream",
     "text": [
      "/Users/marianafaria/opt/anaconda3/lib/python3.8/site-packages/statsmodels/base/model.py:566: ConvergenceWarning:\n",
      "\n",
      "Maximum Likelihood optimization failed to converge. Check mle_retvals\n",
      "\n"
     ]
    },
    {
     "name": "stdout",
     "output_type": "stream",
     "text": [
      "SARIMAX (2, 2, 2) x (0, 2, 1, 30)30 : BIC Calculated =15849.97536863701\n"
     ]
    },
    {
     "name": "stderr",
     "output_type": "stream",
     "text": [
      "/Users/marianafaria/opt/anaconda3/lib/python3.8/site-packages/statsmodels/base/model.py:566: ConvergenceWarning:\n",
      "\n",
      "Maximum Likelihood optimization failed to converge. Check mle_retvals\n",
      "\n"
     ]
    },
    {
     "name": "stdout",
     "output_type": "stream",
     "text": [
      "SARIMAX (2, 2, 2) x (0, 2, 2, 30)30 : BIC Calculated =15004.373098846105\n"
     ]
    },
    {
     "name": "stderr",
     "output_type": "stream",
     "text": [
      "/Users/marianafaria/opt/anaconda3/lib/python3.8/site-packages/statsmodels/base/model.py:566: ConvergenceWarning:\n",
      "\n",
      "Maximum Likelihood optimization failed to converge. Check mle_retvals\n",
      "\n"
     ]
    },
    {
     "name": "stdout",
     "output_type": "stream",
     "text": [
      "SARIMAX (2, 2, 2) x (1, 0, 0, 30)30 : BIC Calculated =14659.068938865192\n"
     ]
    },
    {
     "name": "stderr",
     "output_type": "stream",
     "text": [
      "/Users/marianafaria/opt/anaconda3/lib/python3.8/site-packages/statsmodels/base/model.py:566: ConvergenceWarning:\n",
      "\n",
      "Maximum Likelihood optimization failed to converge. Check mle_retvals\n",
      "\n"
     ]
    },
    {
     "name": "stdout",
     "output_type": "stream",
     "text": [
      "SARIMAX (2, 2, 2) x (1, 0, 2, 30)30 : BIC Calculated =14763.455472320364\n"
     ]
    },
    {
     "name": "stderr",
     "output_type": "stream",
     "text": [
      "/Users/marianafaria/opt/anaconda3/lib/python3.8/site-packages/statsmodels/base/model.py:566: ConvergenceWarning:\n",
      "\n",
      "Maximum Likelihood optimization failed to converge. Check mle_retvals\n",
      "\n"
     ]
    },
    {
     "name": "stdout",
     "output_type": "stream",
     "text": [
      "SARIMAX (2, 2, 2) x (1, 1, 0, 30)30 : BIC Calculated =15111.288816872619\n"
     ]
    },
    {
     "name": "stderr",
     "output_type": "stream",
     "text": [
      "/Users/marianafaria/opt/anaconda3/lib/python3.8/site-packages/statsmodels/base/model.py:566: ConvergenceWarning:\n",
      "\n",
      "Maximum Likelihood optimization failed to converge. Check mle_retvals\n",
      "\n"
     ]
    },
    {
     "name": "stdout",
     "output_type": "stream",
     "text": [
      "SARIMAX (2, 2, 2) x (1, 1, 1, 30)30 : BIC Calculated =14524.71593287824\n"
     ]
    },
    {
     "name": "stderr",
     "output_type": "stream",
     "text": [
      "/Users/marianafaria/opt/anaconda3/lib/python3.8/site-packages/statsmodels/base/model.py:566: ConvergenceWarning:\n",
      "\n",
      "Maximum Likelihood optimization failed to converge. Check mle_retvals\n",
      "\n"
     ]
    },
    {
     "name": "stdout",
     "output_type": "stream",
     "text": [
      "SARIMAX (2, 2, 2) x (1, 1, 2, 30)30 : BIC Calculated =14526.40396714393\n"
     ]
    },
    {
     "name": "stderr",
     "output_type": "stream",
     "text": [
      "/Users/marianafaria/opt/anaconda3/lib/python3.8/site-packages/statsmodels/base/model.py:566: ConvergenceWarning:\n",
      "\n",
      "Maximum Likelihood optimization failed to converge. Check mle_retvals\n",
      "\n"
     ]
    },
    {
     "name": "stdout",
     "output_type": "stream",
     "text": [
      "SARIMAX (2, 2, 2) x (1, 2, 0, 30)30 : BIC Calculated =16533.555408133227\n"
     ]
    },
    {
     "name": "stderr",
     "output_type": "stream",
     "text": [
      "/Users/marianafaria/opt/anaconda3/lib/python3.8/site-packages/statsmodels/base/model.py:566: ConvergenceWarning:\n",
      "\n",
      "Maximum Likelihood optimization failed to converge. Check mle_retvals\n",
      "\n"
     ]
    },
    {
     "name": "stdout",
     "output_type": "stream",
     "text": [
      "SARIMAX (2, 2, 2) x (1, 2, 1, 30)30 : BIC Calculated =15438.21508353106\n"
     ]
    },
    {
     "name": "stderr",
     "output_type": "stream",
     "text": [
      "/Users/marianafaria/opt/anaconda3/lib/python3.8/site-packages/statsmodels/base/model.py:566: ConvergenceWarning:\n",
      "\n",
      "Maximum Likelihood optimization failed to converge. Check mle_retvals\n",
      "\n"
     ]
    },
    {
     "name": "stdout",
     "output_type": "stream",
     "text": [
      "SARIMAX (2, 2, 2) x (1, 2, 2, 30)30 : BIC Calculated =15013.104427540336\n"
     ]
    },
    {
     "name": "stderr",
     "output_type": "stream",
     "text": [
      "/Users/marianafaria/opt/anaconda3/lib/python3.8/site-packages/statsmodels/base/model.py:566: ConvergenceWarning:\n",
      "\n",
      "Maximum Likelihood optimization failed to converge. Check mle_retvals\n",
      "\n"
     ]
    },
    {
     "name": "stdout",
     "output_type": "stream",
     "text": [
      "SARIMAX (2, 2, 2) x (2, 0, 2, 30)30 : BIC Calculated =14712.28011739883\n"
     ]
    },
    {
     "name": "stderr",
     "output_type": "stream",
     "text": [
      "/Users/marianafaria/opt/anaconda3/lib/python3.8/site-packages/statsmodels/base/model.py:566: ConvergenceWarning:\n",
      "\n",
      "Maximum Likelihood optimization failed to converge. Check mle_retvals\n",
      "\n"
     ]
    },
    {
     "name": "stdout",
     "output_type": "stream",
     "text": [
      "SARIMAX (2, 2, 2) x (2, 1, 0, 30)30 : BIC Calculated =14935.796880926851\n"
     ]
    },
    {
     "name": "stderr",
     "output_type": "stream",
     "text": [
      "/Users/marianafaria/opt/anaconda3/lib/python3.8/site-packages/statsmodels/base/model.py:566: ConvergenceWarning:\n",
      "\n",
      "Maximum Likelihood optimization failed to converge. Check mle_retvals\n",
      "\n"
     ]
    },
    {
     "name": "stdout",
     "output_type": "stream",
     "text": [
      "SARIMAX (2, 2, 2) x (2, 1, 1, 30)30 : BIC Calculated =14535.851977588909\n"
     ]
    },
    {
     "name": "stderr",
     "output_type": "stream",
     "text": [
      "/Users/marianafaria/opt/anaconda3/lib/python3.8/site-packages/statsmodels/base/model.py:566: ConvergenceWarning:\n",
      "\n",
      "Maximum Likelihood optimization failed to converge. Check mle_retvals\n",
      "\n"
     ]
    },
    {
     "name": "stdout",
     "output_type": "stream",
     "text": [
      "SARIMAX (2, 2, 2) x (2, 1, 2, 30)30 : BIC Calculated =14546.402214371765\n"
     ]
    },
    {
     "name": "stderr",
     "output_type": "stream",
     "text": [
      "/Users/marianafaria/opt/anaconda3/lib/python3.8/site-packages/statsmodels/base/model.py:566: ConvergenceWarning:\n",
      "\n",
      "Maximum Likelihood optimization failed to converge. Check mle_retvals\n",
      "\n"
     ]
    },
    {
     "name": "stdout",
     "output_type": "stream",
     "text": [
      "SARIMAX (2, 2, 2) x (2, 2, 0, 30)30 : BIC Calculated =16076.136211214874\n"
     ]
    },
    {
     "name": "stderr",
     "output_type": "stream",
     "text": [
      "/Users/marianafaria/opt/anaconda3/lib/python3.8/site-packages/statsmodels/base/model.py:566: ConvergenceWarning:\n",
      "\n",
      "Maximum Likelihood optimization failed to converge. Check mle_retvals\n",
      "\n"
     ]
    },
    {
     "name": "stdout",
     "output_type": "stream",
     "text": [
      "SARIMAX (2, 2, 2) x (2, 2, 1, 30)30 : BIC Calculated =15300.331805624326\n"
     ]
    },
    {
     "name": "stderr",
     "output_type": "stream",
     "text": [
      "/Users/marianafaria/opt/anaconda3/lib/python3.8/site-packages/statsmodels/base/model.py:566: ConvergenceWarning:\n",
      "\n",
      "Maximum Likelihood optimization failed to converge. Check mle_retvals\n",
      "\n"
     ]
    },
    {
     "name": "stdout",
     "output_type": "stream",
     "text": [
      "SARIMAX (2, 2, 2) x (2, 2, 2, 30)30 : BIC Calculated =15023.662275954108\n"
     ]
    },
    {
     "data": {
      "text/html": [
       "<div>\n",
       "<style scoped>\n",
       "    .dataframe tbody tr th:only-of-type {\n",
       "        vertical-align: middle;\n",
       "    }\n",
       "\n",
       "    .dataframe tbody tr th {\n",
       "        vertical-align: top;\n",
       "    }\n",
       "\n",
       "    .dataframe thead th {\n",
       "        text-align: right;\n",
       "    }\n",
       "</style>\n",
       "<table border=\"1\" class=\"dataframe\">\n",
       "  <thead>\n",
       "    <tr style=\"text-align: right;\">\n",
       "      <th></th>\n",
       "      <th>pdq</th>\n",
       "      <th>pdqs</th>\n",
       "      <th>bic</th>\n",
       "    </tr>\n",
       "  </thead>\n",
       "  <tbody>\n",
       "    <tr>\n",
       "      <th>110</th>\n",
       "      <td>(0, 1, 1)</td>\n",
       "      <td>(0, 1, 1, 30)</td>\n",
       "      <td>14489.596922</td>\n",
       "    </tr>\n",
       "    <tr>\n",
       "      <th>272</th>\n",
       "      <td>(1, 0, 1)</td>\n",
       "      <td>(0, 1, 1, 30)</td>\n",
       "      <td>14493.529815</td>\n",
       "    </tr>\n",
       "    <tr>\n",
       "      <th>137</th>\n",
       "      <td>(0, 1, 2)</td>\n",
       "      <td>(0, 1, 1, 30)</td>\n",
       "      <td>14495.409085</td>\n",
       "    </tr>\n",
       "    <tr>\n",
       "      <th>351</th>\n",
       "      <td>(1, 1, 1)</td>\n",
       "      <td>(0, 1, 1, 30)</td>\n",
       "      <td>14495.635480</td>\n",
       "    </tr>\n",
       "    <tr>\n",
       "      <th>120</th>\n",
       "      <td>(0, 1, 1)</td>\n",
       "      <td>(1, 1, 2, 30)</td>\n",
       "      <td>14496.302104</td>\n",
       "    </tr>\n",
       "  </tbody>\n",
       "</table>\n",
       "</div>"
      ],
      "text/plain": [
       "           pdq           pdqs           bic\n",
       "110  (0, 1, 1)  (0, 1, 1, 30)  14489.596922\n",
       "272  (1, 0, 1)  (0, 1, 1, 30)  14493.529815\n",
       "137  (0, 1, 2)  (0, 1, 1, 30)  14495.409085\n",
       "351  (1, 1, 1)  (0, 1, 1, 30)  14495.635480\n",
       "120  (0, 1, 1)  (1, 1, 2, 30)  14496.302104"
      ]
     },
     "execution_count": 202,
     "metadata": {},
     "output_type": "execute_result"
    }
   ],
   "source": [
    "ts=amarelos_adm['URG_EPISODIO']\n",
    "exog=amarelos_adm[['dia_semana','feriado','festas']]\n",
    "\n",
    "### Import Packages ###\n",
    "\n",
    "import itertools\n",
    "import statsmodels.api as sm\n",
    "\n",
    "### Define Parameter Ranges to Test ###\n",
    "\n",
    "# Note: higher numbers will result in code taking much longer to run\n",
    "# Here we have it set to test p,d,q each = 0, 1 & 2\n",
    "\n",
    "# Define the p, d and q parameters to take any value between 0 and 3 (exclusive)\n",
    "p = d = q = range(0, 3)\n",
    "\n",
    "# Generate all different combinations of p, q and q triplets\n",
    "pdq = list(itertools.product(p, d, q))\n",
    "\n",
    "# Generate all different combinations of seasonal p, q and q triplets\n",
    "# Note: here we have 12 in the 's' position as we have monthly data\n",
    "# You'll want to change this according to your time series' frequency\n",
    "pdqs = [(x[0], x[1], x[2], 30) for x in list(itertools.product(p, d, q))]\n",
    "\n",
    "### Run Grid Search ###\n",
    "\n",
    "# Note: this code will take a while to run\n",
    "\n",
    "# Define function\n",
    "def sarimax_gridsearch(ts, exog, pdq, pdqs, maxiter=50, freq='M'):\n",
    "   # '''\n",
    "    #Input: \n",
    "     #   ts : your time series data\n",
    "      #  pdq : ARIMA combinations from above\n",
    "       # pdqs : seasonal ARIMA combinations from above\n",
    "       # maxiter : number of iterations, increase if your model isn't converging\n",
    "       # frequency : default='M' for month. Change to suit your time series frequency\n",
    "        #    e.g. 'D' for day, 'H' for hour, 'Y' for year. \n",
    "        \n",
    "    #Return:\n",
    "     #   Prints out top 5 parameter combinations\n",
    "      #  Returns dataframe of parameter combinations ranked by BIC\n",
    "    #'''\n",
    "\n",
    "    # Run a grid search with pdq and seasonal pdq parameters and get the best BIC value\n",
    "    ans = []\n",
    "    for comb in pdq:\n",
    "        for combs in pdqs:\n",
    "            try:\n",
    "                \n",
    "                mod = sm.tsa.statespace.SARIMAX(ts,\n",
    "                                                exog=exog,\n",
    "                                                order=comb,\n",
    "                                                seasonal_order=combs)\n",
    "\n",
    "                output = mod.fit(maxiter=maxiter) \n",
    "                ans.append([comb, combs, output.bic])\n",
    "                print('SARIMAX {} x {}30 : BIC Calculated ={}'.format(comb, combs, output.bic))\n",
    "            except:\n",
    "                continue\n",
    "            \n",
    "    # Find the parameters with minimal BIC value\n",
    "\n",
    "    # Convert into dataframe\n",
    "    ans_df = pd.DataFrame(ans, columns=['pdq', 'pdqs', 'bic'])\n",
    "\n",
    "    # Sort and return top 5 combinations\n",
    "    ans_df = ans_df.sort_values(by=['bic'],ascending=True)[0:5]\n",
    "    \n",
    "    return ans_df\n",
    "    \n",
    "### Apply function to your time series data ###\n",
    "\n",
    "# Remember to change frequency to match your time series data\n",
    "sarimax_gridsearch(ts,exog, pdq, pdqs, freq='M')"
   ]
  },
  {
   "cell_type": "code",
   "execution_count": null,
   "metadata": {},
   "outputs": [
    {
     "name": "stdout",
     "output_type": "stream",
     "text": [
      "SARIMAX (0, 0, 0) x (0, 0, 0, 365)365 : BIC Calculated =20176.924921368307\n",
      "SARIMAX (0, 0, 0) x (0, 0, 1, 365)365 : BIC Calculated =19867.03574349169\n"
     ]
    },
    {
     "name": "stderr",
     "output_type": "stream",
     "text": [
      "/Users/marianafaria/opt/anaconda3/lib/python3.8/site-packages/statsmodels/tsa/statespace/sarimax.py:866: UserWarning:\n",
      "\n",
      "Too few observations to estimate starting parameters for seasonal ARMA. All parameters except for variances will be set to zeros.\n",
      "\n",
      "/Users/marianafaria/opt/anaconda3/lib/python3.8/site-packages/statsmodels/tsa/statespace/sarimax.py:1009: UserWarning:\n",
      "\n",
      "Non-invertible starting seasonal moving average Using zeros as starting parameters.\n",
      "\n"
     ]
    }
   ],
   "source": [
    "ts=amarelos_adm['URG_EPISODIO']\n",
    "exog=amarelos_adm[['dia_semana','feriado','festas']]\n",
    "\n",
    "### Import Packages ###\n",
    "\n",
    "import itertools\n",
    "import statsmodels.api as sm\n",
    "\n",
    "### Define Parameter Ranges to Test ###\n",
    "\n",
    "# Note: higher numbers will result in code taking much longer to run\n",
    "# Here we have it set to test p,d,q each = 0, 1 & 2\n",
    "\n",
    "# Define the p, d and q parameters to take any value between 0 and 3 (exclusive)\n",
    "p = d = q = range(0, 3)\n",
    "\n",
    "# Generate all different combinations of p, q and q triplets\n",
    "pdq = list(itertools.product(p, d, q))\n",
    "\n",
    "# Generate all different combinations of seasonal p, q and q triplets\n",
    "# Note: here we have 12 in the 's' position as we have monthly data\n",
    "# You'll want to change this according to your time series' frequency\n",
    "pdqs = [(x[0], x[1], x[2], 365) for x in list(itertools.product(p, d, q))]\n",
    "\n",
    "### Run Grid Search ###\n",
    "\n",
    "# Note: this code will take a while to run\n",
    "\n",
    "# Define function\n",
    "def sarimax_gridsearch(ts, exog, pdq, pdqs, maxiter=50, freq='M'):\n",
    "   # '''\n",
    "    #Input: \n",
    "     #   ts : your time series data\n",
    "      #  pdq : ARIMA combinations from above\n",
    "       # pdqs : seasonal ARIMA combinations from above\n",
    "       # maxiter : number of iterations, increase if your model isn't converging\n",
    "       # frequency : default='M' for month. Change to suit your time series frequency\n",
    "        #    e.g. 'D' for day, 'H' for hour, 'Y' for year. \n",
    "        \n",
    "    #Return:\n",
    "     #   Prints out top 5 parameter combinations\n",
    "      #  Returns dataframe of parameter combinations ranked by BIC\n",
    "    #'''\n",
    "\n",
    "    # Run a grid search with pdq and seasonal pdq parameters and get the best BIC value\n",
    "    ans = []\n",
    "    for comb in pdq:\n",
    "        for combs in pdqs:\n",
    "            try:\n",
    "                \n",
    "                mod = sm.tsa.statespace.SARIMAX(ts,\n",
    "                                                exog=exog,\n",
    "                                                order=comb,\n",
    "                                                seasonal_order=combs)\n",
    "\n",
    "                output = mod.fit(maxiter=maxiter) \n",
    "                ans.append([comb, combs, output.bic])\n",
    "                print('SARIMAX {} x {}365 : BIC Calculated ={}'.format(comb, combs, output.bic))\n",
    "            except:\n",
    "                continue\n",
    "            \n",
    "    # Find the parameters with minimal BIC value\n",
    "\n",
    "    # Convert into dataframe\n",
    "    ans_df = pd.DataFrame(ans, columns=['pdq', 'pdqs', 'bic'])\n",
    "\n",
    "    # Sort and return top 5 combinations\n",
    "    ans_df = ans_df.sort_values(by=['bic'],ascending=True)[0:5]\n",
    "    \n",
    "    return ans_df\n",
    "    \n",
    "### Apply function to your time series data ###\n",
    "\n",
    "# Remember to change frequency to match your time series data\n",
    "sarimax_gridsearch(ts,exog, pdq, pdqs, freq='M')"
   ]
  },
  {
   "cell_type": "code",
   "execution_count": 48,
   "metadata": {},
   "outputs": [
    {
     "data": {
      "text/html": [
       "<div>\n",
       "<style scoped>\n",
       "    .dataframe tbody tr th:only-of-type {\n",
       "        vertical-align: middle;\n",
       "    }\n",
       "\n",
       "    .dataframe tbody tr th {\n",
       "        vertical-align: top;\n",
       "    }\n",
       "\n",
       "    .dataframe thead th {\n",
       "        text-align: right;\n",
       "    }\n",
       "</style>\n",
       "<table border=\"1\" class=\"dataframe\">\n",
       "  <thead>\n",
       "    <tr style=\"text-align: right;\">\n",
       "      <th></th>\n",
       "      <th>DTA_ADMISSAO</th>\n",
       "      <th>URG_EPISODIO</th>\n",
       "      <th>dia_semana</th>\n",
       "      <th>feriado</th>\n",
       "      <th>festas</th>\n",
       "    </tr>\n",
       "  </thead>\n",
       "  <tbody>\n",
       "    <tr>\n",
       "      <th>0</th>\n",
       "      <td>2022-09-01</td>\n",
       "      <td>171</td>\n",
       "      <td>Thursday</td>\n",
       "      <td>NaN</td>\n",
       "      <td>NaN</td>\n",
       "    </tr>\n",
       "    <tr>\n",
       "      <th>1</th>\n",
       "      <td>2022-09-02</td>\n",
       "      <td>146</td>\n",
       "      <td>Friday</td>\n",
       "      <td>NaN</td>\n",
       "      <td>NaN</td>\n",
       "    </tr>\n",
       "    <tr>\n",
       "      <th>2</th>\n",
       "      <td>2022-09-03</td>\n",
       "      <td>139</td>\n",
       "      <td>Saturday</td>\n",
       "      <td>NaN</td>\n",
       "      <td>NaN</td>\n",
       "    </tr>\n",
       "    <tr>\n",
       "      <th>3</th>\n",
       "      <td>2022-09-04</td>\n",
       "      <td>121</td>\n",
       "      <td>Sunday</td>\n",
       "      <td>NaN</td>\n",
       "      <td>NaN</td>\n",
       "    </tr>\n",
       "    <tr>\n",
       "      <th>4</th>\n",
       "      <td>2022-09-05</td>\n",
       "      <td>154</td>\n",
       "      <td>Monday</td>\n",
       "      <td>NaN</td>\n",
       "      <td>NaN</td>\n",
       "    </tr>\n",
       "    <tr>\n",
       "      <th>5</th>\n",
       "      <td>2022-09-06</td>\n",
       "      <td>121</td>\n",
       "      <td>Tuesday</td>\n",
       "      <td>NaN</td>\n",
       "      <td>NaN</td>\n",
       "    </tr>\n",
       "    <tr>\n",
       "      <th>6</th>\n",
       "      <td>2022-09-07</td>\n",
       "      <td>125</td>\n",
       "      <td>Wednesday</td>\n",
       "      <td>NaN</td>\n",
       "      <td>NaN</td>\n",
       "    </tr>\n",
       "    <tr>\n",
       "      <th>7</th>\n",
       "      <td>2022-09-08</td>\n",
       "      <td>154</td>\n",
       "      <td>Thursday</td>\n",
       "      <td>NaN</td>\n",
       "      <td>NaN</td>\n",
       "    </tr>\n",
       "    <tr>\n",
       "      <th>8</th>\n",
       "      <td>2022-09-09</td>\n",
       "      <td>163</td>\n",
       "      <td>Friday</td>\n",
       "      <td>NaN</td>\n",
       "      <td>NaN</td>\n",
       "    </tr>\n",
       "    <tr>\n",
       "      <th>9</th>\n",
       "      <td>2022-09-10</td>\n",
       "      <td>161</td>\n",
       "      <td>Saturday</td>\n",
       "      <td>NaN</td>\n",
       "      <td>NaN</td>\n",
       "    </tr>\n",
       "    <tr>\n",
       "      <th>10</th>\n",
       "      <td>2022-09-11</td>\n",
       "      <td>152</td>\n",
       "      <td>Sunday</td>\n",
       "      <td>NaN</td>\n",
       "      <td>NaN</td>\n",
       "    </tr>\n",
       "    <tr>\n",
       "      <th>11</th>\n",
       "      <td>2022-09-12</td>\n",
       "      <td>180</td>\n",
       "      <td>Monday</td>\n",
       "      <td>NaN</td>\n",
       "      <td>NaN</td>\n",
       "    </tr>\n",
       "    <tr>\n",
       "      <th>12</th>\n",
       "      <td>2022-09-13</td>\n",
       "      <td>167</td>\n",
       "      <td>Tuesday</td>\n",
       "      <td>NaN</td>\n",
       "      <td>NaN</td>\n",
       "    </tr>\n",
       "    <tr>\n",
       "      <th>13</th>\n",
       "      <td>2022-09-14</td>\n",
       "      <td>164</td>\n",
       "      <td>Wednesday</td>\n",
       "      <td>NaN</td>\n",
       "      <td>NaN</td>\n",
       "    </tr>\n",
       "    <tr>\n",
       "      <th>14</th>\n",
       "      <td>2022-09-15</td>\n",
       "      <td>155</td>\n",
       "      <td>Thursday</td>\n",
       "      <td>NaN</td>\n",
       "      <td>NaN</td>\n",
       "    </tr>\n",
       "    <tr>\n",
       "      <th>15</th>\n",
       "      <td>2022-09-16</td>\n",
       "      <td>179</td>\n",
       "      <td>Friday</td>\n",
       "      <td>NaN</td>\n",
       "      <td>NaN</td>\n",
       "    </tr>\n",
       "    <tr>\n",
       "      <th>16</th>\n",
       "      <td>2022-09-17</td>\n",
       "      <td>150</td>\n",
       "      <td>Saturday</td>\n",
       "      <td>NaN</td>\n",
       "      <td>NaN</td>\n",
       "    </tr>\n",
       "    <tr>\n",
       "      <th>17</th>\n",
       "      <td>2022-09-18</td>\n",
       "      <td>151</td>\n",
       "      <td>Sunday</td>\n",
       "      <td>NaN</td>\n",
       "      <td>NaN</td>\n",
       "    </tr>\n",
       "    <tr>\n",
       "      <th>18</th>\n",
       "      <td>2022-09-19</td>\n",
       "      <td>216</td>\n",
       "      <td>Monday</td>\n",
       "      <td>NaN</td>\n",
       "      <td>NaN</td>\n",
       "    </tr>\n",
       "    <tr>\n",
       "      <th>19</th>\n",
       "      <td>2022-09-20</td>\n",
       "      <td>201</td>\n",
       "      <td>Tuesday</td>\n",
       "      <td>NaN</td>\n",
       "      <td>NaN</td>\n",
       "    </tr>\n",
       "    <tr>\n",
       "      <th>20</th>\n",
       "      <td>2022-09-21</td>\n",
       "      <td>152</td>\n",
       "      <td>Wednesday</td>\n",
       "      <td>NaN</td>\n",
       "      <td>NaN</td>\n",
       "    </tr>\n",
       "    <tr>\n",
       "      <th>21</th>\n",
       "      <td>2022-09-22</td>\n",
       "      <td>152</td>\n",
       "      <td>Thursday</td>\n",
       "      <td>NaN</td>\n",
       "      <td>NaN</td>\n",
       "    </tr>\n",
       "    <tr>\n",
       "      <th>22</th>\n",
       "      <td>2022-09-23</td>\n",
       "      <td>201</td>\n",
       "      <td>Friday</td>\n",
       "      <td>NaN</td>\n",
       "      <td>NaN</td>\n",
       "    </tr>\n",
       "    <tr>\n",
       "      <th>23</th>\n",
       "      <td>2022-09-24</td>\n",
       "      <td>161</td>\n",
       "      <td>Saturday</td>\n",
       "      <td>NaN</td>\n",
       "      <td>NaN</td>\n",
       "    </tr>\n",
       "    <tr>\n",
       "      <th>24</th>\n",
       "      <td>2022-09-25</td>\n",
       "      <td>162</td>\n",
       "      <td>Sunday</td>\n",
       "      <td>NaN</td>\n",
       "      <td>NaN</td>\n",
       "    </tr>\n",
       "    <tr>\n",
       "      <th>25</th>\n",
       "      <td>2022-09-26</td>\n",
       "      <td>157</td>\n",
       "      <td>Monday</td>\n",
       "      <td>NaN</td>\n",
       "      <td>NaN</td>\n",
       "    </tr>\n",
       "    <tr>\n",
       "      <th>26</th>\n",
       "      <td>2022-09-27</td>\n",
       "      <td>164</td>\n",
       "      <td>Tuesday</td>\n",
       "      <td>NaN</td>\n",
       "      <td>NaN</td>\n",
       "    </tr>\n",
       "    <tr>\n",
       "      <th>27</th>\n",
       "      <td>2022-09-28</td>\n",
       "      <td>154</td>\n",
       "      <td>Wednesday</td>\n",
       "      <td>NaN</td>\n",
       "      <td>NaN</td>\n",
       "    </tr>\n",
       "    <tr>\n",
       "      <th>28</th>\n",
       "      <td>2022-09-29</td>\n",
       "      <td>148</td>\n",
       "      <td>Thursday</td>\n",
       "      <td>NaN</td>\n",
       "      <td>NaN</td>\n",
       "    </tr>\n",
       "    <tr>\n",
       "      <th>29</th>\n",
       "      <td>2022-09-30</td>\n",
       "      <td>141</td>\n",
       "      <td>Friday</td>\n",
       "      <td>NaN</td>\n",
       "      <td>NaN</td>\n",
       "    </tr>\n",
       "    <tr>\n",
       "      <th>30</th>\n",
       "      <td>2022-10-01</td>\n",
       "      <td>137</td>\n",
       "      <td>Saturday</td>\n",
       "      <td>NaN</td>\n",
       "      <td>NaN</td>\n",
       "    </tr>\n",
       "    <tr>\n",
       "      <th>31</th>\n",
       "      <td>2022-10-02</td>\n",
       "      <td>151</td>\n",
       "      <td>Sunday</td>\n",
       "      <td>NaN</td>\n",
       "      <td>NaN</td>\n",
       "    </tr>\n",
       "    <tr>\n",
       "      <th>32</th>\n",
       "      <td>2022-10-03</td>\n",
       "      <td>207</td>\n",
       "      <td>Monday</td>\n",
       "      <td>NaN</td>\n",
       "      <td>NaN</td>\n",
       "    </tr>\n",
       "    <tr>\n",
       "      <th>33</th>\n",
       "      <td>2022-10-04</td>\n",
       "      <td>177</td>\n",
       "      <td>Tuesday</td>\n",
       "      <td>NaN</td>\n",
       "      <td>NaN</td>\n",
       "    </tr>\n",
       "    <tr>\n",
       "      <th>34</th>\n",
       "      <td>2022-10-05</td>\n",
       "      <td>162</td>\n",
       "      <td>Wednesday</td>\n",
       "      <td>Implantacao da Republica</td>\n",
       "      <td>NaN</td>\n",
       "    </tr>\n",
       "    <tr>\n",
       "      <th>35</th>\n",
       "      <td>2022-10-06</td>\n",
       "      <td>176</td>\n",
       "      <td>Thursday</td>\n",
       "      <td>NaN</td>\n",
       "      <td>NaN</td>\n",
       "    </tr>\n",
       "    <tr>\n",
       "      <th>36</th>\n",
       "      <td>2022-10-07</td>\n",
       "      <td>161</td>\n",
       "      <td>Friday</td>\n",
       "      <td>NaN</td>\n",
       "      <td>NaN</td>\n",
       "    </tr>\n",
       "    <tr>\n",
       "      <th>37</th>\n",
       "      <td>2022-10-08</td>\n",
       "      <td>184</td>\n",
       "      <td>Saturday</td>\n",
       "      <td>NaN</td>\n",
       "      <td>NaN</td>\n",
       "    </tr>\n",
       "    <tr>\n",
       "      <th>38</th>\n",
       "      <td>2022-10-09</td>\n",
       "      <td>149</td>\n",
       "      <td>Sunday</td>\n",
       "      <td>NaN</td>\n",
       "      <td>NaN</td>\n",
       "    </tr>\n",
       "    <tr>\n",
       "      <th>39</th>\n",
       "      <td>2022-10-10</td>\n",
       "      <td>216</td>\n",
       "      <td>Monday</td>\n",
       "      <td>NaN</td>\n",
       "      <td>NaN</td>\n",
       "    </tr>\n",
       "    <tr>\n",
       "      <th>40</th>\n",
       "      <td>2022-10-11</td>\n",
       "      <td>191</td>\n",
       "      <td>Tuesday</td>\n",
       "      <td>NaN</td>\n",
       "      <td>NaN</td>\n",
       "    </tr>\n",
       "    <tr>\n",
       "      <th>41</th>\n",
       "      <td>2022-10-12</td>\n",
       "      <td>190</td>\n",
       "      <td>Wednesday</td>\n",
       "      <td>NaN</td>\n",
       "      <td>NaN</td>\n",
       "    </tr>\n",
       "    <tr>\n",
       "      <th>42</th>\n",
       "      <td>2022-10-13</td>\n",
       "      <td>195</td>\n",
       "      <td>Thursday</td>\n",
       "      <td>NaN</td>\n",
       "      <td>NaN</td>\n",
       "    </tr>\n",
       "    <tr>\n",
       "      <th>43</th>\n",
       "      <td>2022-10-14</td>\n",
       "      <td>175</td>\n",
       "      <td>Friday</td>\n",
       "      <td>NaN</td>\n",
       "      <td>NaN</td>\n",
       "    </tr>\n",
       "    <tr>\n",
       "      <th>44</th>\n",
       "      <td>2022-10-15</td>\n",
       "      <td>175</td>\n",
       "      <td>Saturday</td>\n",
       "      <td>NaN</td>\n",
       "      <td>NaN</td>\n",
       "    </tr>\n",
       "    <tr>\n",
       "      <th>45</th>\n",
       "      <td>2022-10-16</td>\n",
       "      <td>143</td>\n",
       "      <td>Sunday</td>\n",
       "      <td>NaN</td>\n",
       "      <td>NaN</td>\n",
       "    </tr>\n",
       "    <tr>\n",
       "      <th>46</th>\n",
       "      <td>2022-10-17</td>\n",
       "      <td>165</td>\n",
       "      <td>Monday</td>\n",
       "      <td>NaN</td>\n",
       "      <td>NaN</td>\n",
       "    </tr>\n",
       "    <tr>\n",
       "      <th>47</th>\n",
       "      <td>2022-10-18</td>\n",
       "      <td>195</td>\n",
       "      <td>Tuesday</td>\n",
       "      <td>NaN</td>\n",
       "      <td>NaN</td>\n",
       "    </tr>\n",
       "    <tr>\n",
       "      <th>48</th>\n",
       "      <td>2022-10-19</td>\n",
       "      <td>152</td>\n",
       "      <td>Wednesday</td>\n",
       "      <td>NaN</td>\n",
       "      <td>NaN</td>\n",
       "    </tr>\n",
       "    <tr>\n",
       "      <th>49</th>\n",
       "      <td>2022-10-20</td>\n",
       "      <td>187</td>\n",
       "      <td>Thursday</td>\n",
       "      <td>NaN</td>\n",
       "      <td>NaN</td>\n",
       "    </tr>\n",
       "    <tr>\n",
       "      <th>50</th>\n",
       "      <td>2022-10-21</td>\n",
       "      <td>174</td>\n",
       "      <td>Friday</td>\n",
       "      <td>NaN</td>\n",
       "      <td>NaN</td>\n",
       "    </tr>\n",
       "    <tr>\n",
       "      <th>51</th>\n",
       "      <td>2022-10-22</td>\n",
       "      <td>162</td>\n",
       "      <td>Saturday</td>\n",
       "      <td>NaN</td>\n",
       "      <td>NaN</td>\n",
       "    </tr>\n",
       "    <tr>\n",
       "      <th>52</th>\n",
       "      <td>2022-10-23</td>\n",
       "      <td>171</td>\n",
       "      <td>Sunday</td>\n",
       "      <td>NaN</td>\n",
       "      <td>NaN</td>\n",
       "    </tr>\n",
       "    <tr>\n",
       "      <th>53</th>\n",
       "      <td>2022-10-24</td>\n",
       "      <td>203</td>\n",
       "      <td>Monday</td>\n",
       "      <td>NaN</td>\n",
       "      <td>NaN</td>\n",
       "    </tr>\n",
       "    <tr>\n",
       "      <th>54</th>\n",
       "      <td>2022-10-25</td>\n",
       "      <td>166</td>\n",
       "      <td>Tuesday</td>\n",
       "      <td>NaN</td>\n",
       "      <td>NaN</td>\n",
       "    </tr>\n",
       "    <tr>\n",
       "      <th>55</th>\n",
       "      <td>2022-10-26</td>\n",
       "      <td>119</td>\n",
       "      <td>Wednesday</td>\n",
       "      <td>NaN</td>\n",
       "      <td>NaN</td>\n",
       "    </tr>\n",
       "  </tbody>\n",
       "</table>\n",
       "</div>"
      ],
      "text/plain": [
       "   DTA_ADMISSAO  URG_EPISODIO dia_semana                   feriado festas\n",
       "0    2022-09-01           171   Thursday                       NaN    NaN\n",
       "1    2022-09-02           146     Friday                       NaN    NaN\n",
       "2    2022-09-03           139   Saturday                       NaN    NaN\n",
       "3    2022-09-04           121     Sunday                       NaN    NaN\n",
       "4    2022-09-05           154     Monday                       NaN    NaN\n",
       "5    2022-09-06           121    Tuesday                       NaN    NaN\n",
       "6    2022-09-07           125  Wednesday                       NaN    NaN\n",
       "7    2022-09-08           154   Thursday                       NaN    NaN\n",
       "8    2022-09-09           163     Friday                       NaN    NaN\n",
       "9    2022-09-10           161   Saturday                       NaN    NaN\n",
       "10   2022-09-11           152     Sunday                       NaN    NaN\n",
       "11   2022-09-12           180     Monday                       NaN    NaN\n",
       "12   2022-09-13           167    Tuesday                       NaN    NaN\n",
       "13   2022-09-14           164  Wednesday                       NaN    NaN\n",
       "14   2022-09-15           155   Thursday                       NaN    NaN\n",
       "15   2022-09-16           179     Friday                       NaN    NaN\n",
       "16   2022-09-17           150   Saturday                       NaN    NaN\n",
       "17   2022-09-18           151     Sunday                       NaN    NaN\n",
       "18   2022-09-19           216     Monday                       NaN    NaN\n",
       "19   2022-09-20           201    Tuesday                       NaN    NaN\n",
       "20   2022-09-21           152  Wednesday                       NaN    NaN\n",
       "21   2022-09-22           152   Thursday                       NaN    NaN\n",
       "22   2022-09-23           201     Friday                       NaN    NaN\n",
       "23   2022-09-24           161   Saturday                       NaN    NaN\n",
       "24   2022-09-25           162     Sunday                       NaN    NaN\n",
       "25   2022-09-26           157     Monday                       NaN    NaN\n",
       "26   2022-09-27           164    Tuesday                       NaN    NaN\n",
       "27   2022-09-28           154  Wednesday                       NaN    NaN\n",
       "28   2022-09-29           148   Thursday                       NaN    NaN\n",
       "29   2022-09-30           141     Friday                       NaN    NaN\n",
       "30   2022-10-01           137   Saturday                       NaN    NaN\n",
       "31   2022-10-02           151     Sunday                       NaN    NaN\n",
       "32   2022-10-03           207     Monday                       NaN    NaN\n",
       "33   2022-10-04           177    Tuesday                       NaN    NaN\n",
       "34   2022-10-05           162  Wednesday  Implantacao da Republica    NaN\n",
       "35   2022-10-06           176   Thursday                       NaN    NaN\n",
       "36   2022-10-07           161     Friday                       NaN    NaN\n",
       "37   2022-10-08           184   Saturday                       NaN    NaN\n",
       "38   2022-10-09           149     Sunday                       NaN    NaN\n",
       "39   2022-10-10           216     Monday                       NaN    NaN\n",
       "40   2022-10-11           191    Tuesday                       NaN    NaN\n",
       "41   2022-10-12           190  Wednesday                       NaN    NaN\n",
       "42   2022-10-13           195   Thursday                       NaN    NaN\n",
       "43   2022-10-14           175     Friday                       NaN    NaN\n",
       "44   2022-10-15           175   Saturday                       NaN    NaN\n",
       "45   2022-10-16           143     Sunday                       NaN    NaN\n",
       "46   2022-10-17           165     Monday                       NaN    NaN\n",
       "47   2022-10-18           195    Tuesday                       NaN    NaN\n",
       "48   2022-10-19           152  Wednesday                       NaN    NaN\n",
       "49   2022-10-20           187   Thursday                       NaN    NaN\n",
       "50   2022-10-21           174     Friday                       NaN    NaN\n",
       "51   2022-10-22           162   Saturday                       NaN    NaN\n",
       "52   2022-10-23           171     Sunday                       NaN    NaN\n",
       "53   2022-10-24           203     Monday                       NaN    NaN\n",
       "54   2022-10-25           166    Tuesday                       NaN    NaN\n",
       "55   2022-10-26           119  Wednesday                       NaN    NaN"
      ]
     },
     "execution_count": 48,
     "metadata": {},
     "output_type": "execute_result"
    }
   ],
   "source": [
    "amarelos_Outubro"
   ]
  },
  {
   "cell_type": "code",
   "execution_count": 123,
   "metadata": {},
   "outputs": [],
   "source": [
    "amarelos_Outubro=amarelos[(amarelos['Ano']=='2022')&((amarelos['Mes']==9)|(amarelos['Mes']==10))].reset_index()"
   ]
  },
  {
   "cell_type": "code",
   "execution_count": 124,
   "metadata": {},
   "outputs": [],
   "source": [
    "amarelos_Outubro=amarelos_Outubro[['DTA_ADMISSAO','URG_EPISODIO','dia_semana','feriado','feriado - dia anterior',\n",
    "       'feriado - 2 dias anteriores', 'feriado - dia seguinte','feriado - daqui a 2 dias','festas','festas - dia anterior',\n",
    "       'festas - 2 dias anteriores', 'festas - dia seguinte','festas - daqui a 2 dias']]"
   ]
  },
  {
   "cell_type": "code",
   "execution_count": 125,
   "metadata": {},
   "outputs": [],
   "source": [
    "amarelos_Outubro['DTA_ADMISSAO']=pd.to_datetime(amarelos_Outubro['DTA_ADMISSAO'])"
   ]
  },
  {
   "cell_type": "code",
   "execution_count": 126,
   "metadata": {},
   "outputs": [
    {
     "data": {
      "text/html": [
       "<div>\n",
       "<style scoped>\n",
       "    .dataframe tbody tr th:only-of-type {\n",
       "        vertical-align: middle;\n",
       "    }\n",
       "\n",
       "    .dataframe tbody tr th {\n",
       "        vertical-align: top;\n",
       "    }\n",
       "\n",
       "    .dataframe thead th {\n",
       "        text-align: right;\n",
       "    }\n",
       "</style>\n",
       "<table border=\"1\" class=\"dataframe\">\n",
       "  <thead>\n",
       "    <tr style=\"text-align: right;\">\n",
       "      <th></th>\n",
       "      <th>DTA_ADMISSAO</th>\n",
       "      <th>URG_EPISODIO</th>\n",
       "      <th>dia_semana</th>\n",
       "      <th>feriado</th>\n",
       "      <th>feriado - dia anterior</th>\n",
       "      <th>feriado - 2 dias anteriores</th>\n",
       "      <th>feriado - dia seguinte</th>\n",
       "      <th>feriado - daqui a 2 dias</th>\n",
       "      <th>festas</th>\n",
       "      <th>festas - dia anterior</th>\n",
       "      <th>festas - 2 dias anteriores</th>\n",
       "      <th>festas - dia seguinte</th>\n",
       "      <th>festas - daqui a 2 dias</th>\n",
       "    </tr>\n",
       "  </thead>\n",
       "  <tbody>\n",
       "    <tr>\n",
       "      <th>0</th>\n",
       "      <td>2018-01-01</td>\n",
       "      <td>136</td>\n",
       "      <td>Monday</td>\n",
       "      <td>Ano Novo</td>\n",
       "      <td>n</td>\n",
       "      <td>n</td>\n",
       "      <td>NaN</td>\n",
       "      <td>NaN</td>\n",
       "      <td>NaN</td>\n",
       "      <td>n</td>\n",
       "      <td>n</td>\n",
       "      <td>NaN</td>\n",
       "      <td>NaN</td>\n",
       "    </tr>\n",
       "    <tr>\n",
       "      <th>1</th>\n",
       "      <td>2018-01-02</td>\n",
       "      <td>117</td>\n",
       "      <td>Tuesday</td>\n",
       "      <td>NaN</td>\n",
       "      <td>Ano Novo</td>\n",
       "      <td>n</td>\n",
       "      <td>NaN</td>\n",
       "      <td>NaN</td>\n",
       "      <td>NaN</td>\n",
       "      <td>NaN</td>\n",
       "      <td>n</td>\n",
       "      <td>NaN</td>\n",
       "      <td>NaN</td>\n",
       "    </tr>\n",
       "    <tr>\n",
       "      <th>2</th>\n",
       "      <td>2018-01-03</td>\n",
       "      <td>176</td>\n",
       "      <td>Wednesday</td>\n",
       "      <td>NaN</td>\n",
       "      <td>NaN</td>\n",
       "      <td>Ano Novo</td>\n",
       "      <td>NaN</td>\n",
       "      <td>NaN</td>\n",
       "      <td>NaN</td>\n",
       "      <td>NaN</td>\n",
       "      <td>NaN</td>\n",
       "      <td>NaN</td>\n",
       "      <td>NaN</td>\n",
       "    </tr>\n",
       "    <tr>\n",
       "      <th>3</th>\n",
       "      <td>2018-01-04</td>\n",
       "      <td>162</td>\n",
       "      <td>Thursday</td>\n",
       "      <td>NaN</td>\n",
       "      <td>NaN</td>\n",
       "      <td>NaN</td>\n",
       "      <td>NaN</td>\n",
       "      <td>NaN</td>\n",
       "      <td>NaN</td>\n",
       "      <td>NaN</td>\n",
       "      <td>NaN</td>\n",
       "      <td>NaN</td>\n",
       "      <td>NaN</td>\n",
       "    </tr>\n",
       "    <tr>\n",
       "      <th>4</th>\n",
       "      <td>2018-01-05</td>\n",
       "      <td>133</td>\n",
       "      <td>Friday</td>\n",
       "      <td>NaN</td>\n",
       "      <td>NaN</td>\n",
       "      <td>NaN</td>\n",
       "      <td>NaN</td>\n",
       "      <td>NaN</td>\n",
       "      <td>NaN</td>\n",
       "      <td>NaN</td>\n",
       "      <td>NaN</td>\n",
       "      <td>NaN</td>\n",
       "      <td>NaN</td>\n",
       "    </tr>\n",
       "    <tr>\n",
       "      <th>...</th>\n",
       "      <td>...</td>\n",
       "      <td>...</td>\n",
       "      <td>...</td>\n",
       "      <td>...</td>\n",
       "      <td>...</td>\n",
       "      <td>...</td>\n",
       "      <td>...</td>\n",
       "      <td>...</td>\n",
       "      <td>...</td>\n",
       "      <td>...</td>\n",
       "      <td>...</td>\n",
       "      <td>...</td>\n",
       "      <td>...</td>\n",
       "    </tr>\n",
       "    <tr>\n",
       "      <th>1755</th>\n",
       "      <td>2022-10-22</td>\n",
       "      <td>162</td>\n",
       "      <td>Saturday</td>\n",
       "      <td>NaN</td>\n",
       "      <td>NaN</td>\n",
       "      <td>NaN</td>\n",
       "      <td>NaN</td>\n",
       "      <td>NaN</td>\n",
       "      <td>NaN</td>\n",
       "      <td>NaN</td>\n",
       "      <td>NaN</td>\n",
       "      <td>NaN</td>\n",
       "      <td>NaN</td>\n",
       "    </tr>\n",
       "    <tr>\n",
       "      <th>1756</th>\n",
       "      <td>2022-10-23</td>\n",
       "      <td>171</td>\n",
       "      <td>Sunday</td>\n",
       "      <td>NaN</td>\n",
       "      <td>NaN</td>\n",
       "      <td>NaN</td>\n",
       "      <td>NaN</td>\n",
       "      <td>NaN</td>\n",
       "      <td>NaN</td>\n",
       "      <td>NaN</td>\n",
       "      <td>NaN</td>\n",
       "      <td>NaN</td>\n",
       "      <td>NaN</td>\n",
       "    </tr>\n",
       "    <tr>\n",
       "      <th>1757</th>\n",
       "      <td>2022-10-24</td>\n",
       "      <td>203</td>\n",
       "      <td>Monday</td>\n",
       "      <td>NaN</td>\n",
       "      <td>NaN</td>\n",
       "      <td>NaN</td>\n",
       "      <td>NaN</td>\n",
       "      <td>NaN</td>\n",
       "      <td>NaN</td>\n",
       "      <td>NaN</td>\n",
       "      <td>NaN</td>\n",
       "      <td>NaN</td>\n",
       "      <td>NaN</td>\n",
       "    </tr>\n",
       "    <tr>\n",
       "      <th>1758</th>\n",
       "      <td>2022-10-25</td>\n",
       "      <td>166</td>\n",
       "      <td>Tuesday</td>\n",
       "      <td>NaN</td>\n",
       "      <td>NaN</td>\n",
       "      <td>NaN</td>\n",
       "      <td>NaN</td>\n",
       "      <td>NaN</td>\n",
       "      <td>NaN</td>\n",
       "      <td>NaN</td>\n",
       "      <td>NaN</td>\n",
       "      <td>NaN</td>\n",
       "      <td>NaN</td>\n",
       "    </tr>\n",
       "    <tr>\n",
       "      <th>1759</th>\n",
       "      <td>2022-10-26</td>\n",
       "      <td>119</td>\n",
       "      <td>Wednesday</td>\n",
       "      <td>NaN</td>\n",
       "      <td>NaN</td>\n",
       "      <td>NaN</td>\n",
       "      <td>NaN</td>\n",
       "      <td>NaN</td>\n",
       "      <td>NaN</td>\n",
       "      <td>NaN</td>\n",
       "      <td>NaN</td>\n",
       "      <td>NaN</td>\n",
       "      <td>NaN</td>\n",
       "    </tr>\n",
       "  </tbody>\n",
       "</table>\n",
       "<p>1760 rows × 13 columns</p>\n",
       "</div>"
      ],
      "text/plain": [
       "     DTA_ADMISSAO  URG_EPISODIO dia_semana   feriado feriado - dia anterior  \\\n",
       "0      2018-01-01           136     Monday  Ano Novo                      n   \n",
       "1      2018-01-02           117    Tuesday       NaN               Ano Novo   \n",
       "2      2018-01-03           176  Wednesday       NaN                    NaN   \n",
       "3      2018-01-04           162   Thursday       NaN                    NaN   \n",
       "4      2018-01-05           133     Friday       NaN                    NaN   \n",
       "...           ...           ...        ...       ...                    ...   \n",
       "1755   2022-10-22           162   Saturday       NaN                    NaN   \n",
       "1756   2022-10-23           171     Sunday       NaN                    NaN   \n",
       "1757   2022-10-24           203     Monday       NaN                    NaN   \n",
       "1758   2022-10-25           166    Tuesday       NaN                    NaN   \n",
       "1759   2022-10-26           119  Wednesday       NaN                    NaN   \n",
       "\n",
       "     feriado - 2 dias anteriores feriado - dia seguinte  \\\n",
       "0                              n                    NaN   \n",
       "1                              n                    NaN   \n",
       "2                       Ano Novo                    NaN   \n",
       "3                            NaN                    NaN   \n",
       "4                            NaN                    NaN   \n",
       "...                          ...                    ...   \n",
       "1755                         NaN                    NaN   \n",
       "1756                         NaN                    NaN   \n",
       "1757                         NaN                    NaN   \n",
       "1758                         NaN                    NaN   \n",
       "1759                         NaN                    NaN   \n",
       "\n",
       "     feriado - daqui a 2 dias festas festas - dia anterior  \\\n",
       "0                         NaN    NaN                     n   \n",
       "1                         NaN    NaN                   NaN   \n",
       "2                         NaN    NaN                   NaN   \n",
       "3                         NaN    NaN                   NaN   \n",
       "4                         NaN    NaN                   NaN   \n",
       "...                       ...    ...                   ...   \n",
       "1755                      NaN    NaN                   NaN   \n",
       "1756                      NaN    NaN                   NaN   \n",
       "1757                      NaN    NaN                   NaN   \n",
       "1758                      NaN    NaN                   NaN   \n",
       "1759                      NaN    NaN                   NaN   \n",
       "\n",
       "     festas - 2 dias anteriores festas - dia seguinte festas - daqui a 2 dias  \n",
       "0                             n                   NaN                     NaN  \n",
       "1                             n                   NaN                     NaN  \n",
       "2                           NaN                   NaN                     NaN  \n",
       "3                           NaN                   NaN                     NaN  \n",
       "4                           NaN                   NaN                     NaN  \n",
       "...                         ...                   ...                     ...  \n",
       "1755                        NaN                   NaN                     NaN  \n",
       "1756                        NaN                   NaN                     NaN  \n",
       "1757                        NaN                   NaN                     NaN  \n",
       "1758                        NaN                   NaN                     NaN  \n",
       "1759                        NaN                   NaN                     NaN  \n",
       "\n",
       "[1760 rows x 13 columns]"
      ]
     },
     "execution_count": 126,
     "metadata": {},
     "output_type": "execute_result"
    }
   ],
   "source": [
    "amarelos_adm"
   ]
  },
  {
   "cell_type": "code",
   "execution_count": 127,
   "metadata": {},
   "outputs": [
    {
     "data": {
      "text/html": [
       "<div>\n",
       "<style scoped>\n",
       "    .dataframe tbody tr th:only-of-type {\n",
       "        vertical-align: middle;\n",
       "    }\n",
       "\n",
       "    .dataframe tbody tr th {\n",
       "        vertical-align: top;\n",
       "    }\n",
       "\n",
       "    .dataframe thead th {\n",
       "        text-align: right;\n",
       "    }\n",
       "</style>\n",
       "<table border=\"1\" class=\"dataframe\">\n",
       "  <thead>\n",
       "    <tr style=\"text-align: right;\">\n",
       "      <th></th>\n",
       "      <th>DTA_ADMISSAO</th>\n",
       "      <th>URG_EPISODIO</th>\n",
       "      <th>dia_semana</th>\n",
       "      <th>feriado</th>\n",
       "      <th>feriado - dia anterior</th>\n",
       "      <th>feriado - 2 dias anteriores</th>\n",
       "      <th>feriado - dia seguinte</th>\n",
       "      <th>feriado - daqui a 2 dias</th>\n",
       "      <th>festas</th>\n",
       "      <th>festas - dia anterior</th>\n",
       "      <th>festas - 2 dias anteriores</th>\n",
       "      <th>festas - dia seguinte</th>\n",
       "      <th>festas - daqui a 2 dias</th>\n",
       "    </tr>\n",
       "  </thead>\n",
       "  <tbody>\n",
       "    <tr>\n",
       "      <th>0</th>\n",
       "      <td>2022-09-01</td>\n",
       "      <td>171</td>\n",
       "      <td>Thursday</td>\n",
       "      <td>NaN</td>\n",
       "      <td>NaN</td>\n",
       "      <td>NaN</td>\n",
       "      <td>NaN</td>\n",
       "      <td>NaN</td>\n",
       "      <td>NaN</td>\n",
       "      <td>NaN</td>\n",
       "      <td>NaN</td>\n",
       "      <td>NaN</td>\n",
       "      <td>NaN</td>\n",
       "    </tr>\n",
       "    <tr>\n",
       "      <th>1</th>\n",
       "      <td>2022-09-02</td>\n",
       "      <td>146</td>\n",
       "      <td>Friday</td>\n",
       "      <td>NaN</td>\n",
       "      <td>NaN</td>\n",
       "      <td>NaN</td>\n",
       "      <td>NaN</td>\n",
       "      <td>NaN</td>\n",
       "      <td>NaN</td>\n",
       "      <td>NaN</td>\n",
       "      <td>NaN</td>\n",
       "      <td>NaN</td>\n",
       "      <td>NaN</td>\n",
       "    </tr>\n",
       "    <tr>\n",
       "      <th>2</th>\n",
       "      <td>2022-09-03</td>\n",
       "      <td>139</td>\n",
       "      <td>Saturday</td>\n",
       "      <td>NaN</td>\n",
       "      <td>NaN</td>\n",
       "      <td>NaN</td>\n",
       "      <td>NaN</td>\n",
       "      <td>NaN</td>\n",
       "      <td>NaN</td>\n",
       "      <td>NaN</td>\n",
       "      <td>NaN</td>\n",
       "      <td>NaN</td>\n",
       "      <td>NaN</td>\n",
       "    </tr>\n",
       "    <tr>\n",
       "      <th>3</th>\n",
       "      <td>2022-09-04</td>\n",
       "      <td>121</td>\n",
       "      <td>Sunday</td>\n",
       "      <td>NaN</td>\n",
       "      <td>NaN</td>\n",
       "      <td>NaN</td>\n",
       "      <td>NaN</td>\n",
       "      <td>NaN</td>\n",
       "      <td>NaN</td>\n",
       "      <td>NaN</td>\n",
       "      <td>NaN</td>\n",
       "      <td>NaN</td>\n",
       "      <td>NaN</td>\n",
       "    </tr>\n",
       "    <tr>\n",
       "      <th>4</th>\n",
       "      <td>2022-09-05</td>\n",
       "      <td>154</td>\n",
       "      <td>Monday</td>\n",
       "      <td>NaN</td>\n",
       "      <td>NaN</td>\n",
       "      <td>NaN</td>\n",
       "      <td>NaN</td>\n",
       "      <td>NaN</td>\n",
       "      <td>NaN</td>\n",
       "      <td>NaN</td>\n",
       "      <td>NaN</td>\n",
       "      <td>NaN</td>\n",
       "      <td>NaN</td>\n",
       "    </tr>\n",
       "    <tr>\n",
       "      <th>5</th>\n",
       "      <td>2022-09-06</td>\n",
       "      <td>121</td>\n",
       "      <td>Tuesday</td>\n",
       "      <td>NaN</td>\n",
       "      <td>NaN</td>\n",
       "      <td>NaN</td>\n",
       "      <td>NaN</td>\n",
       "      <td>NaN</td>\n",
       "      <td>NaN</td>\n",
       "      <td>NaN</td>\n",
       "      <td>NaN</td>\n",
       "      <td>NaN</td>\n",
       "      <td>NaN</td>\n",
       "    </tr>\n",
       "    <tr>\n",
       "      <th>6</th>\n",
       "      <td>2022-09-07</td>\n",
       "      <td>125</td>\n",
       "      <td>Wednesday</td>\n",
       "      <td>NaN</td>\n",
       "      <td>NaN</td>\n",
       "      <td>NaN</td>\n",
       "      <td>NaN</td>\n",
       "      <td>NaN</td>\n",
       "      <td>NaN</td>\n",
       "      <td>NaN</td>\n",
       "      <td>NaN</td>\n",
       "      <td>NaN</td>\n",
       "      <td>NaN</td>\n",
       "    </tr>\n",
       "    <tr>\n",
       "      <th>7</th>\n",
       "      <td>2022-09-08</td>\n",
       "      <td>154</td>\n",
       "      <td>Thursday</td>\n",
       "      <td>NaN</td>\n",
       "      <td>NaN</td>\n",
       "      <td>NaN</td>\n",
       "      <td>NaN</td>\n",
       "      <td>NaN</td>\n",
       "      <td>NaN</td>\n",
       "      <td>NaN</td>\n",
       "      <td>NaN</td>\n",
       "      <td>NaN</td>\n",
       "      <td>NaN</td>\n",
       "    </tr>\n",
       "    <tr>\n",
       "      <th>8</th>\n",
       "      <td>2022-09-09</td>\n",
       "      <td>163</td>\n",
       "      <td>Friday</td>\n",
       "      <td>NaN</td>\n",
       "      <td>NaN</td>\n",
       "      <td>NaN</td>\n",
       "      <td>NaN</td>\n",
       "      <td>NaN</td>\n",
       "      <td>NaN</td>\n",
       "      <td>NaN</td>\n",
       "      <td>NaN</td>\n",
       "      <td>NaN</td>\n",
       "      <td>NaN</td>\n",
       "    </tr>\n",
       "    <tr>\n",
       "      <th>9</th>\n",
       "      <td>2022-09-10</td>\n",
       "      <td>161</td>\n",
       "      <td>Saturday</td>\n",
       "      <td>NaN</td>\n",
       "      <td>NaN</td>\n",
       "      <td>NaN</td>\n",
       "      <td>NaN</td>\n",
       "      <td>NaN</td>\n",
       "      <td>NaN</td>\n",
       "      <td>NaN</td>\n",
       "      <td>NaN</td>\n",
       "      <td>NaN</td>\n",
       "      <td>NaN</td>\n",
       "    </tr>\n",
       "    <tr>\n",
       "      <th>10</th>\n",
       "      <td>2022-09-11</td>\n",
       "      <td>152</td>\n",
       "      <td>Sunday</td>\n",
       "      <td>NaN</td>\n",
       "      <td>NaN</td>\n",
       "      <td>NaN</td>\n",
       "      <td>NaN</td>\n",
       "      <td>NaN</td>\n",
       "      <td>NaN</td>\n",
       "      <td>NaN</td>\n",
       "      <td>NaN</td>\n",
       "      <td>NaN</td>\n",
       "      <td>NaN</td>\n",
       "    </tr>\n",
       "    <tr>\n",
       "      <th>11</th>\n",
       "      <td>2022-09-12</td>\n",
       "      <td>180</td>\n",
       "      <td>Monday</td>\n",
       "      <td>NaN</td>\n",
       "      <td>NaN</td>\n",
       "      <td>NaN</td>\n",
       "      <td>NaN</td>\n",
       "      <td>NaN</td>\n",
       "      <td>NaN</td>\n",
       "      <td>NaN</td>\n",
       "      <td>NaN</td>\n",
       "      <td>NaN</td>\n",
       "      <td>NaN</td>\n",
       "    </tr>\n",
       "    <tr>\n",
       "      <th>12</th>\n",
       "      <td>2022-09-13</td>\n",
       "      <td>167</td>\n",
       "      <td>Tuesday</td>\n",
       "      <td>NaN</td>\n",
       "      <td>NaN</td>\n",
       "      <td>NaN</td>\n",
       "      <td>NaN</td>\n",
       "      <td>NaN</td>\n",
       "      <td>NaN</td>\n",
       "      <td>NaN</td>\n",
       "      <td>NaN</td>\n",
       "      <td>NaN</td>\n",
       "      <td>NaN</td>\n",
       "    </tr>\n",
       "    <tr>\n",
       "      <th>13</th>\n",
       "      <td>2022-09-14</td>\n",
       "      <td>164</td>\n",
       "      <td>Wednesday</td>\n",
       "      <td>NaN</td>\n",
       "      <td>NaN</td>\n",
       "      <td>NaN</td>\n",
       "      <td>NaN</td>\n",
       "      <td>NaN</td>\n",
       "      <td>NaN</td>\n",
       "      <td>NaN</td>\n",
       "      <td>NaN</td>\n",
       "      <td>NaN</td>\n",
       "      <td>NaN</td>\n",
       "    </tr>\n",
       "    <tr>\n",
       "      <th>14</th>\n",
       "      <td>2022-09-15</td>\n",
       "      <td>155</td>\n",
       "      <td>Thursday</td>\n",
       "      <td>NaN</td>\n",
       "      <td>NaN</td>\n",
       "      <td>NaN</td>\n",
       "      <td>NaN</td>\n",
       "      <td>NaN</td>\n",
       "      <td>NaN</td>\n",
       "      <td>NaN</td>\n",
       "      <td>NaN</td>\n",
       "      <td>NaN</td>\n",
       "      <td>NaN</td>\n",
       "    </tr>\n",
       "    <tr>\n",
       "      <th>15</th>\n",
       "      <td>2022-09-16</td>\n",
       "      <td>179</td>\n",
       "      <td>Friday</td>\n",
       "      <td>NaN</td>\n",
       "      <td>NaN</td>\n",
       "      <td>NaN</td>\n",
       "      <td>NaN</td>\n",
       "      <td>NaN</td>\n",
       "      <td>NaN</td>\n",
       "      <td>NaN</td>\n",
       "      <td>NaN</td>\n",
       "      <td>NaN</td>\n",
       "      <td>NaN</td>\n",
       "    </tr>\n",
       "    <tr>\n",
       "      <th>16</th>\n",
       "      <td>2022-09-17</td>\n",
       "      <td>150</td>\n",
       "      <td>Saturday</td>\n",
       "      <td>NaN</td>\n",
       "      <td>NaN</td>\n",
       "      <td>NaN</td>\n",
       "      <td>NaN</td>\n",
       "      <td>NaN</td>\n",
       "      <td>NaN</td>\n",
       "      <td>NaN</td>\n",
       "      <td>NaN</td>\n",
       "      <td>NaN</td>\n",
       "      <td>NaN</td>\n",
       "    </tr>\n",
       "    <tr>\n",
       "      <th>17</th>\n",
       "      <td>2022-09-18</td>\n",
       "      <td>151</td>\n",
       "      <td>Sunday</td>\n",
       "      <td>NaN</td>\n",
       "      <td>NaN</td>\n",
       "      <td>NaN</td>\n",
       "      <td>NaN</td>\n",
       "      <td>NaN</td>\n",
       "      <td>NaN</td>\n",
       "      <td>NaN</td>\n",
       "      <td>NaN</td>\n",
       "      <td>NaN</td>\n",
       "      <td>NaN</td>\n",
       "    </tr>\n",
       "    <tr>\n",
       "      <th>18</th>\n",
       "      <td>2022-09-19</td>\n",
       "      <td>216</td>\n",
       "      <td>Monday</td>\n",
       "      <td>NaN</td>\n",
       "      <td>NaN</td>\n",
       "      <td>NaN</td>\n",
       "      <td>NaN</td>\n",
       "      <td>NaN</td>\n",
       "      <td>NaN</td>\n",
       "      <td>NaN</td>\n",
       "      <td>NaN</td>\n",
       "      <td>NaN</td>\n",
       "      <td>NaN</td>\n",
       "    </tr>\n",
       "    <tr>\n",
       "      <th>19</th>\n",
       "      <td>2022-09-20</td>\n",
       "      <td>201</td>\n",
       "      <td>Tuesday</td>\n",
       "      <td>NaN</td>\n",
       "      <td>NaN</td>\n",
       "      <td>NaN</td>\n",
       "      <td>NaN</td>\n",
       "      <td>NaN</td>\n",
       "      <td>NaN</td>\n",
       "      <td>NaN</td>\n",
       "      <td>NaN</td>\n",
       "      <td>NaN</td>\n",
       "      <td>NaN</td>\n",
       "    </tr>\n",
       "    <tr>\n",
       "      <th>20</th>\n",
       "      <td>2022-09-21</td>\n",
       "      <td>152</td>\n",
       "      <td>Wednesday</td>\n",
       "      <td>NaN</td>\n",
       "      <td>NaN</td>\n",
       "      <td>NaN</td>\n",
       "      <td>NaN</td>\n",
       "      <td>NaN</td>\n",
       "      <td>NaN</td>\n",
       "      <td>NaN</td>\n",
       "      <td>NaN</td>\n",
       "      <td>NaN</td>\n",
       "      <td>NaN</td>\n",
       "    </tr>\n",
       "    <tr>\n",
       "      <th>21</th>\n",
       "      <td>2022-09-22</td>\n",
       "      <td>152</td>\n",
       "      <td>Thursday</td>\n",
       "      <td>NaN</td>\n",
       "      <td>NaN</td>\n",
       "      <td>NaN</td>\n",
       "      <td>NaN</td>\n",
       "      <td>NaN</td>\n",
       "      <td>NaN</td>\n",
       "      <td>NaN</td>\n",
       "      <td>NaN</td>\n",
       "      <td>NaN</td>\n",
       "      <td>NaN</td>\n",
       "    </tr>\n",
       "    <tr>\n",
       "      <th>22</th>\n",
       "      <td>2022-09-23</td>\n",
       "      <td>201</td>\n",
       "      <td>Friday</td>\n",
       "      <td>NaN</td>\n",
       "      <td>NaN</td>\n",
       "      <td>NaN</td>\n",
       "      <td>NaN</td>\n",
       "      <td>NaN</td>\n",
       "      <td>NaN</td>\n",
       "      <td>NaN</td>\n",
       "      <td>NaN</td>\n",
       "      <td>NaN</td>\n",
       "      <td>NaN</td>\n",
       "    </tr>\n",
       "    <tr>\n",
       "      <th>23</th>\n",
       "      <td>2022-09-24</td>\n",
       "      <td>161</td>\n",
       "      <td>Saturday</td>\n",
       "      <td>NaN</td>\n",
       "      <td>NaN</td>\n",
       "      <td>NaN</td>\n",
       "      <td>NaN</td>\n",
       "      <td>NaN</td>\n",
       "      <td>NaN</td>\n",
       "      <td>NaN</td>\n",
       "      <td>NaN</td>\n",
       "      <td>NaN</td>\n",
       "      <td>NaN</td>\n",
       "    </tr>\n",
       "    <tr>\n",
       "      <th>24</th>\n",
       "      <td>2022-09-25</td>\n",
       "      <td>162</td>\n",
       "      <td>Sunday</td>\n",
       "      <td>NaN</td>\n",
       "      <td>NaN</td>\n",
       "      <td>NaN</td>\n",
       "      <td>NaN</td>\n",
       "      <td>NaN</td>\n",
       "      <td>NaN</td>\n",
       "      <td>NaN</td>\n",
       "      <td>NaN</td>\n",
       "      <td>NaN</td>\n",
       "      <td>NaN</td>\n",
       "    </tr>\n",
       "    <tr>\n",
       "      <th>25</th>\n",
       "      <td>2022-09-26</td>\n",
       "      <td>157</td>\n",
       "      <td>Monday</td>\n",
       "      <td>NaN</td>\n",
       "      <td>NaN</td>\n",
       "      <td>NaN</td>\n",
       "      <td>NaN</td>\n",
       "      <td>NaN</td>\n",
       "      <td>NaN</td>\n",
       "      <td>NaN</td>\n",
       "      <td>NaN</td>\n",
       "      <td>NaN</td>\n",
       "      <td>NaN</td>\n",
       "    </tr>\n",
       "    <tr>\n",
       "      <th>26</th>\n",
       "      <td>2022-09-27</td>\n",
       "      <td>164</td>\n",
       "      <td>Tuesday</td>\n",
       "      <td>NaN</td>\n",
       "      <td>NaN</td>\n",
       "      <td>NaN</td>\n",
       "      <td>NaN</td>\n",
       "      <td>NaN</td>\n",
       "      <td>NaN</td>\n",
       "      <td>NaN</td>\n",
       "      <td>NaN</td>\n",
       "      <td>NaN</td>\n",
       "      <td>NaN</td>\n",
       "    </tr>\n",
       "    <tr>\n",
       "      <th>27</th>\n",
       "      <td>2022-09-28</td>\n",
       "      <td>154</td>\n",
       "      <td>Wednesday</td>\n",
       "      <td>NaN</td>\n",
       "      <td>NaN</td>\n",
       "      <td>NaN</td>\n",
       "      <td>NaN</td>\n",
       "      <td>NaN</td>\n",
       "      <td>NaN</td>\n",
       "      <td>NaN</td>\n",
       "      <td>NaN</td>\n",
       "      <td>NaN</td>\n",
       "      <td>NaN</td>\n",
       "    </tr>\n",
       "    <tr>\n",
       "      <th>28</th>\n",
       "      <td>2022-09-29</td>\n",
       "      <td>148</td>\n",
       "      <td>Thursday</td>\n",
       "      <td>NaN</td>\n",
       "      <td>NaN</td>\n",
       "      <td>NaN</td>\n",
       "      <td>NaN</td>\n",
       "      <td>NaN</td>\n",
       "      <td>NaN</td>\n",
       "      <td>NaN</td>\n",
       "      <td>NaN</td>\n",
       "      <td>NaN</td>\n",
       "      <td>NaN</td>\n",
       "    </tr>\n",
       "    <tr>\n",
       "      <th>29</th>\n",
       "      <td>2022-09-30</td>\n",
       "      <td>141</td>\n",
       "      <td>Friday</td>\n",
       "      <td>NaN</td>\n",
       "      <td>NaN</td>\n",
       "      <td>NaN</td>\n",
       "      <td>NaN</td>\n",
       "      <td>NaN</td>\n",
       "      <td>NaN</td>\n",
       "      <td>NaN</td>\n",
       "      <td>NaN</td>\n",
       "      <td>NaN</td>\n",
       "      <td>NaN</td>\n",
       "    </tr>\n",
       "    <tr>\n",
       "      <th>30</th>\n",
       "      <td>2022-10-01</td>\n",
       "      <td>137</td>\n",
       "      <td>Saturday</td>\n",
       "      <td>NaN</td>\n",
       "      <td>NaN</td>\n",
       "      <td>NaN</td>\n",
       "      <td>NaN</td>\n",
       "      <td>NaN</td>\n",
       "      <td>NaN</td>\n",
       "      <td>NaN</td>\n",
       "      <td>NaN</td>\n",
       "      <td>NaN</td>\n",
       "      <td>NaN</td>\n",
       "    </tr>\n",
       "    <tr>\n",
       "      <th>31</th>\n",
       "      <td>2022-10-02</td>\n",
       "      <td>151</td>\n",
       "      <td>Sunday</td>\n",
       "      <td>NaN</td>\n",
       "      <td>NaN</td>\n",
       "      <td>NaN</td>\n",
       "      <td>NaN</td>\n",
       "      <td>NaN</td>\n",
       "      <td>NaN</td>\n",
       "      <td>NaN</td>\n",
       "      <td>NaN</td>\n",
       "      <td>NaN</td>\n",
       "      <td>NaN</td>\n",
       "    </tr>\n",
       "    <tr>\n",
       "      <th>32</th>\n",
       "      <td>2022-10-03</td>\n",
       "      <td>207</td>\n",
       "      <td>Monday</td>\n",
       "      <td>NaN</td>\n",
       "      <td>NaN</td>\n",
       "      <td>NaN</td>\n",
       "      <td>NaN</td>\n",
       "      <td>Implantacao da Republica</td>\n",
       "      <td>NaN</td>\n",
       "      <td>NaN</td>\n",
       "      <td>NaN</td>\n",
       "      <td>NaN</td>\n",
       "      <td>NaN</td>\n",
       "    </tr>\n",
       "    <tr>\n",
       "      <th>33</th>\n",
       "      <td>2022-10-04</td>\n",
       "      <td>177</td>\n",
       "      <td>Tuesday</td>\n",
       "      <td>NaN</td>\n",
       "      <td>NaN</td>\n",
       "      <td>NaN</td>\n",
       "      <td>Implantacao da Republica</td>\n",
       "      <td>NaN</td>\n",
       "      <td>NaN</td>\n",
       "      <td>NaN</td>\n",
       "      <td>NaN</td>\n",
       "      <td>NaN</td>\n",
       "      <td>NaN</td>\n",
       "    </tr>\n",
       "    <tr>\n",
       "      <th>34</th>\n",
       "      <td>2022-10-05</td>\n",
       "      <td>162</td>\n",
       "      <td>Wednesday</td>\n",
       "      <td>Implantacao da Republica</td>\n",
       "      <td>NaN</td>\n",
       "      <td>NaN</td>\n",
       "      <td>NaN</td>\n",
       "      <td>NaN</td>\n",
       "      <td>NaN</td>\n",
       "      <td>NaN</td>\n",
       "      <td>NaN</td>\n",
       "      <td>NaN</td>\n",
       "      <td>NaN</td>\n",
       "    </tr>\n",
       "    <tr>\n",
       "      <th>35</th>\n",
       "      <td>2022-10-06</td>\n",
       "      <td>176</td>\n",
       "      <td>Thursday</td>\n",
       "      <td>NaN</td>\n",
       "      <td>Implantacao da Republica</td>\n",
       "      <td>NaN</td>\n",
       "      <td>NaN</td>\n",
       "      <td>NaN</td>\n",
       "      <td>NaN</td>\n",
       "      <td>NaN</td>\n",
       "      <td>NaN</td>\n",
       "      <td>NaN</td>\n",
       "      <td>NaN</td>\n",
       "    </tr>\n",
       "    <tr>\n",
       "      <th>36</th>\n",
       "      <td>2022-10-07</td>\n",
       "      <td>161</td>\n",
       "      <td>Friday</td>\n",
       "      <td>NaN</td>\n",
       "      <td>NaN</td>\n",
       "      <td>Implantacao da Republica</td>\n",
       "      <td>NaN</td>\n",
       "      <td>NaN</td>\n",
       "      <td>NaN</td>\n",
       "      <td>NaN</td>\n",
       "      <td>NaN</td>\n",
       "      <td>NaN</td>\n",
       "      <td>NaN</td>\n",
       "    </tr>\n",
       "    <tr>\n",
       "      <th>37</th>\n",
       "      <td>2022-10-08</td>\n",
       "      <td>184</td>\n",
       "      <td>Saturday</td>\n",
       "      <td>NaN</td>\n",
       "      <td>NaN</td>\n",
       "      <td>NaN</td>\n",
       "      <td>NaN</td>\n",
       "      <td>NaN</td>\n",
       "      <td>NaN</td>\n",
       "      <td>NaN</td>\n",
       "      <td>NaN</td>\n",
       "      <td>NaN</td>\n",
       "      <td>NaN</td>\n",
       "    </tr>\n",
       "    <tr>\n",
       "      <th>38</th>\n",
       "      <td>2022-10-09</td>\n",
       "      <td>149</td>\n",
       "      <td>Sunday</td>\n",
       "      <td>NaN</td>\n",
       "      <td>NaN</td>\n",
       "      <td>NaN</td>\n",
       "      <td>NaN</td>\n",
       "      <td>NaN</td>\n",
       "      <td>NaN</td>\n",
       "      <td>NaN</td>\n",
       "      <td>NaN</td>\n",
       "      <td>NaN</td>\n",
       "      <td>NaN</td>\n",
       "    </tr>\n",
       "    <tr>\n",
       "      <th>39</th>\n",
       "      <td>2022-10-10</td>\n",
       "      <td>216</td>\n",
       "      <td>Monday</td>\n",
       "      <td>NaN</td>\n",
       "      <td>NaN</td>\n",
       "      <td>NaN</td>\n",
       "      <td>NaN</td>\n",
       "      <td>NaN</td>\n",
       "      <td>NaN</td>\n",
       "      <td>NaN</td>\n",
       "      <td>NaN</td>\n",
       "      <td>NaN</td>\n",
       "      <td>NaN</td>\n",
       "    </tr>\n",
       "    <tr>\n",
       "      <th>40</th>\n",
       "      <td>2022-10-11</td>\n",
       "      <td>191</td>\n",
       "      <td>Tuesday</td>\n",
       "      <td>NaN</td>\n",
       "      <td>NaN</td>\n",
       "      <td>NaN</td>\n",
       "      <td>NaN</td>\n",
       "      <td>NaN</td>\n",
       "      <td>NaN</td>\n",
       "      <td>NaN</td>\n",
       "      <td>NaN</td>\n",
       "      <td>NaN</td>\n",
       "      <td>NaN</td>\n",
       "    </tr>\n",
       "    <tr>\n",
       "      <th>41</th>\n",
       "      <td>2022-10-12</td>\n",
       "      <td>190</td>\n",
       "      <td>Wednesday</td>\n",
       "      <td>NaN</td>\n",
       "      <td>NaN</td>\n",
       "      <td>NaN</td>\n",
       "      <td>NaN</td>\n",
       "      <td>NaN</td>\n",
       "      <td>NaN</td>\n",
       "      <td>NaN</td>\n",
       "      <td>NaN</td>\n",
       "      <td>NaN</td>\n",
       "      <td>NaN</td>\n",
       "    </tr>\n",
       "    <tr>\n",
       "      <th>42</th>\n",
       "      <td>2022-10-13</td>\n",
       "      <td>195</td>\n",
       "      <td>Thursday</td>\n",
       "      <td>NaN</td>\n",
       "      <td>NaN</td>\n",
       "      <td>NaN</td>\n",
       "      <td>NaN</td>\n",
       "      <td>NaN</td>\n",
       "      <td>NaN</td>\n",
       "      <td>NaN</td>\n",
       "      <td>NaN</td>\n",
       "      <td>NaN</td>\n",
       "      <td>NaN</td>\n",
       "    </tr>\n",
       "    <tr>\n",
       "      <th>43</th>\n",
       "      <td>2022-10-14</td>\n",
       "      <td>175</td>\n",
       "      <td>Friday</td>\n",
       "      <td>NaN</td>\n",
       "      <td>NaN</td>\n",
       "      <td>NaN</td>\n",
       "      <td>NaN</td>\n",
       "      <td>NaN</td>\n",
       "      <td>NaN</td>\n",
       "      <td>NaN</td>\n",
       "      <td>NaN</td>\n",
       "      <td>NaN</td>\n",
       "      <td>NaN</td>\n",
       "    </tr>\n",
       "    <tr>\n",
       "      <th>44</th>\n",
       "      <td>2022-10-15</td>\n",
       "      <td>175</td>\n",
       "      <td>Saturday</td>\n",
       "      <td>NaN</td>\n",
       "      <td>NaN</td>\n",
       "      <td>NaN</td>\n",
       "      <td>NaN</td>\n",
       "      <td>NaN</td>\n",
       "      <td>NaN</td>\n",
       "      <td>NaN</td>\n",
       "      <td>NaN</td>\n",
       "      <td>NaN</td>\n",
       "      <td>NaN</td>\n",
       "    </tr>\n",
       "    <tr>\n",
       "      <th>45</th>\n",
       "      <td>2022-10-16</td>\n",
       "      <td>143</td>\n",
       "      <td>Sunday</td>\n",
       "      <td>NaN</td>\n",
       "      <td>NaN</td>\n",
       "      <td>NaN</td>\n",
       "      <td>NaN</td>\n",
       "      <td>NaN</td>\n",
       "      <td>NaN</td>\n",
       "      <td>NaN</td>\n",
       "      <td>NaN</td>\n",
       "      <td>NaN</td>\n",
       "      <td>NaN</td>\n",
       "    </tr>\n",
       "    <tr>\n",
       "      <th>46</th>\n",
       "      <td>2022-10-17</td>\n",
       "      <td>165</td>\n",
       "      <td>Monday</td>\n",
       "      <td>NaN</td>\n",
       "      <td>NaN</td>\n",
       "      <td>NaN</td>\n",
       "      <td>NaN</td>\n",
       "      <td>NaN</td>\n",
       "      <td>NaN</td>\n",
       "      <td>NaN</td>\n",
       "      <td>NaN</td>\n",
       "      <td>NaN</td>\n",
       "      <td>NaN</td>\n",
       "    </tr>\n",
       "    <tr>\n",
       "      <th>47</th>\n",
       "      <td>2022-10-18</td>\n",
       "      <td>195</td>\n",
       "      <td>Tuesday</td>\n",
       "      <td>NaN</td>\n",
       "      <td>NaN</td>\n",
       "      <td>NaN</td>\n",
       "      <td>NaN</td>\n",
       "      <td>NaN</td>\n",
       "      <td>NaN</td>\n",
       "      <td>NaN</td>\n",
       "      <td>NaN</td>\n",
       "      <td>NaN</td>\n",
       "      <td>NaN</td>\n",
       "    </tr>\n",
       "    <tr>\n",
       "      <th>48</th>\n",
       "      <td>2022-10-19</td>\n",
       "      <td>152</td>\n",
       "      <td>Wednesday</td>\n",
       "      <td>NaN</td>\n",
       "      <td>NaN</td>\n",
       "      <td>NaN</td>\n",
       "      <td>NaN</td>\n",
       "      <td>NaN</td>\n",
       "      <td>NaN</td>\n",
       "      <td>NaN</td>\n",
       "      <td>NaN</td>\n",
       "      <td>NaN</td>\n",
       "      <td>NaN</td>\n",
       "    </tr>\n",
       "    <tr>\n",
       "      <th>49</th>\n",
       "      <td>2022-10-20</td>\n",
       "      <td>187</td>\n",
       "      <td>Thursday</td>\n",
       "      <td>NaN</td>\n",
       "      <td>NaN</td>\n",
       "      <td>NaN</td>\n",
       "      <td>NaN</td>\n",
       "      <td>NaN</td>\n",
       "      <td>NaN</td>\n",
       "      <td>NaN</td>\n",
       "      <td>NaN</td>\n",
       "      <td>NaN</td>\n",
       "      <td>NaN</td>\n",
       "    </tr>\n",
       "    <tr>\n",
       "      <th>50</th>\n",
       "      <td>2022-10-21</td>\n",
       "      <td>174</td>\n",
       "      <td>Friday</td>\n",
       "      <td>NaN</td>\n",
       "      <td>NaN</td>\n",
       "      <td>NaN</td>\n",
       "      <td>NaN</td>\n",
       "      <td>NaN</td>\n",
       "      <td>NaN</td>\n",
       "      <td>NaN</td>\n",
       "      <td>NaN</td>\n",
       "      <td>NaN</td>\n",
       "      <td>NaN</td>\n",
       "    </tr>\n",
       "    <tr>\n",
       "      <th>51</th>\n",
       "      <td>2022-10-22</td>\n",
       "      <td>162</td>\n",
       "      <td>Saturday</td>\n",
       "      <td>NaN</td>\n",
       "      <td>NaN</td>\n",
       "      <td>NaN</td>\n",
       "      <td>NaN</td>\n",
       "      <td>NaN</td>\n",
       "      <td>NaN</td>\n",
       "      <td>NaN</td>\n",
       "      <td>NaN</td>\n",
       "      <td>NaN</td>\n",
       "      <td>NaN</td>\n",
       "    </tr>\n",
       "    <tr>\n",
       "      <th>52</th>\n",
       "      <td>2022-10-23</td>\n",
       "      <td>171</td>\n",
       "      <td>Sunday</td>\n",
       "      <td>NaN</td>\n",
       "      <td>NaN</td>\n",
       "      <td>NaN</td>\n",
       "      <td>NaN</td>\n",
       "      <td>NaN</td>\n",
       "      <td>NaN</td>\n",
       "      <td>NaN</td>\n",
       "      <td>NaN</td>\n",
       "      <td>NaN</td>\n",
       "      <td>NaN</td>\n",
       "    </tr>\n",
       "    <tr>\n",
       "      <th>53</th>\n",
       "      <td>2022-10-24</td>\n",
       "      <td>203</td>\n",
       "      <td>Monday</td>\n",
       "      <td>NaN</td>\n",
       "      <td>NaN</td>\n",
       "      <td>NaN</td>\n",
       "      <td>NaN</td>\n",
       "      <td>NaN</td>\n",
       "      <td>NaN</td>\n",
       "      <td>NaN</td>\n",
       "      <td>NaN</td>\n",
       "      <td>NaN</td>\n",
       "      <td>NaN</td>\n",
       "    </tr>\n",
       "    <tr>\n",
       "      <th>54</th>\n",
       "      <td>2022-10-25</td>\n",
       "      <td>166</td>\n",
       "      <td>Tuesday</td>\n",
       "      <td>NaN</td>\n",
       "      <td>NaN</td>\n",
       "      <td>NaN</td>\n",
       "      <td>NaN</td>\n",
       "      <td>NaN</td>\n",
       "      <td>NaN</td>\n",
       "      <td>NaN</td>\n",
       "      <td>NaN</td>\n",
       "      <td>NaN</td>\n",
       "      <td>NaN</td>\n",
       "    </tr>\n",
       "    <tr>\n",
       "      <th>55</th>\n",
       "      <td>2022-10-26</td>\n",
       "      <td>119</td>\n",
       "      <td>Wednesday</td>\n",
       "      <td>NaN</td>\n",
       "      <td>NaN</td>\n",
       "      <td>NaN</td>\n",
       "      <td>NaN</td>\n",
       "      <td>NaN</td>\n",
       "      <td>NaN</td>\n",
       "      <td>NaN</td>\n",
       "      <td>NaN</td>\n",
       "      <td>NaN</td>\n",
       "      <td>NaN</td>\n",
       "    </tr>\n",
       "  </tbody>\n",
       "</table>\n",
       "</div>"
      ],
      "text/plain": [
       "   DTA_ADMISSAO  URG_EPISODIO dia_semana                   feriado  \\\n",
       "0    2022-09-01           171   Thursday                       NaN   \n",
       "1    2022-09-02           146     Friday                       NaN   \n",
       "2    2022-09-03           139   Saturday                       NaN   \n",
       "3    2022-09-04           121     Sunday                       NaN   \n",
       "4    2022-09-05           154     Monday                       NaN   \n",
       "5    2022-09-06           121    Tuesday                       NaN   \n",
       "6    2022-09-07           125  Wednesday                       NaN   \n",
       "7    2022-09-08           154   Thursday                       NaN   \n",
       "8    2022-09-09           163     Friday                       NaN   \n",
       "9    2022-09-10           161   Saturday                       NaN   \n",
       "10   2022-09-11           152     Sunday                       NaN   \n",
       "11   2022-09-12           180     Monday                       NaN   \n",
       "12   2022-09-13           167    Tuesday                       NaN   \n",
       "13   2022-09-14           164  Wednesday                       NaN   \n",
       "14   2022-09-15           155   Thursday                       NaN   \n",
       "15   2022-09-16           179     Friday                       NaN   \n",
       "16   2022-09-17           150   Saturday                       NaN   \n",
       "17   2022-09-18           151     Sunday                       NaN   \n",
       "18   2022-09-19           216     Monday                       NaN   \n",
       "19   2022-09-20           201    Tuesday                       NaN   \n",
       "20   2022-09-21           152  Wednesday                       NaN   \n",
       "21   2022-09-22           152   Thursday                       NaN   \n",
       "22   2022-09-23           201     Friday                       NaN   \n",
       "23   2022-09-24           161   Saturday                       NaN   \n",
       "24   2022-09-25           162     Sunday                       NaN   \n",
       "25   2022-09-26           157     Monday                       NaN   \n",
       "26   2022-09-27           164    Tuesday                       NaN   \n",
       "27   2022-09-28           154  Wednesday                       NaN   \n",
       "28   2022-09-29           148   Thursday                       NaN   \n",
       "29   2022-09-30           141     Friday                       NaN   \n",
       "30   2022-10-01           137   Saturday                       NaN   \n",
       "31   2022-10-02           151     Sunday                       NaN   \n",
       "32   2022-10-03           207     Monday                       NaN   \n",
       "33   2022-10-04           177    Tuesday                       NaN   \n",
       "34   2022-10-05           162  Wednesday  Implantacao da Republica   \n",
       "35   2022-10-06           176   Thursday                       NaN   \n",
       "36   2022-10-07           161     Friday                       NaN   \n",
       "37   2022-10-08           184   Saturday                       NaN   \n",
       "38   2022-10-09           149     Sunday                       NaN   \n",
       "39   2022-10-10           216     Monday                       NaN   \n",
       "40   2022-10-11           191    Tuesday                       NaN   \n",
       "41   2022-10-12           190  Wednesday                       NaN   \n",
       "42   2022-10-13           195   Thursday                       NaN   \n",
       "43   2022-10-14           175     Friday                       NaN   \n",
       "44   2022-10-15           175   Saturday                       NaN   \n",
       "45   2022-10-16           143     Sunday                       NaN   \n",
       "46   2022-10-17           165     Monday                       NaN   \n",
       "47   2022-10-18           195    Tuesday                       NaN   \n",
       "48   2022-10-19           152  Wednesday                       NaN   \n",
       "49   2022-10-20           187   Thursday                       NaN   \n",
       "50   2022-10-21           174     Friday                       NaN   \n",
       "51   2022-10-22           162   Saturday                       NaN   \n",
       "52   2022-10-23           171     Sunday                       NaN   \n",
       "53   2022-10-24           203     Monday                       NaN   \n",
       "54   2022-10-25           166    Tuesday                       NaN   \n",
       "55   2022-10-26           119  Wednesday                       NaN   \n",
       "\n",
       "      feriado - dia anterior feriado - 2 dias anteriores  \\\n",
       "0                        NaN                         NaN   \n",
       "1                        NaN                         NaN   \n",
       "2                        NaN                         NaN   \n",
       "3                        NaN                         NaN   \n",
       "4                        NaN                         NaN   \n",
       "5                        NaN                         NaN   \n",
       "6                        NaN                         NaN   \n",
       "7                        NaN                         NaN   \n",
       "8                        NaN                         NaN   \n",
       "9                        NaN                         NaN   \n",
       "10                       NaN                         NaN   \n",
       "11                       NaN                         NaN   \n",
       "12                       NaN                         NaN   \n",
       "13                       NaN                         NaN   \n",
       "14                       NaN                         NaN   \n",
       "15                       NaN                         NaN   \n",
       "16                       NaN                         NaN   \n",
       "17                       NaN                         NaN   \n",
       "18                       NaN                         NaN   \n",
       "19                       NaN                         NaN   \n",
       "20                       NaN                         NaN   \n",
       "21                       NaN                         NaN   \n",
       "22                       NaN                         NaN   \n",
       "23                       NaN                         NaN   \n",
       "24                       NaN                         NaN   \n",
       "25                       NaN                         NaN   \n",
       "26                       NaN                         NaN   \n",
       "27                       NaN                         NaN   \n",
       "28                       NaN                         NaN   \n",
       "29                       NaN                         NaN   \n",
       "30                       NaN                         NaN   \n",
       "31                       NaN                         NaN   \n",
       "32                       NaN                         NaN   \n",
       "33                       NaN                         NaN   \n",
       "34                       NaN                         NaN   \n",
       "35  Implantacao da Republica                         NaN   \n",
       "36                       NaN    Implantacao da Republica   \n",
       "37                       NaN                         NaN   \n",
       "38                       NaN                         NaN   \n",
       "39                       NaN                         NaN   \n",
       "40                       NaN                         NaN   \n",
       "41                       NaN                         NaN   \n",
       "42                       NaN                         NaN   \n",
       "43                       NaN                         NaN   \n",
       "44                       NaN                         NaN   \n",
       "45                       NaN                         NaN   \n",
       "46                       NaN                         NaN   \n",
       "47                       NaN                         NaN   \n",
       "48                       NaN                         NaN   \n",
       "49                       NaN                         NaN   \n",
       "50                       NaN                         NaN   \n",
       "51                       NaN                         NaN   \n",
       "52                       NaN                         NaN   \n",
       "53                       NaN                         NaN   \n",
       "54                       NaN                         NaN   \n",
       "55                       NaN                         NaN   \n",
       "\n",
       "      feriado - dia seguinte  feriado - daqui a 2 dias festas  \\\n",
       "0                        NaN                       NaN    NaN   \n",
       "1                        NaN                       NaN    NaN   \n",
       "2                        NaN                       NaN    NaN   \n",
       "3                        NaN                       NaN    NaN   \n",
       "4                        NaN                       NaN    NaN   \n",
       "5                        NaN                       NaN    NaN   \n",
       "6                        NaN                       NaN    NaN   \n",
       "7                        NaN                       NaN    NaN   \n",
       "8                        NaN                       NaN    NaN   \n",
       "9                        NaN                       NaN    NaN   \n",
       "10                       NaN                       NaN    NaN   \n",
       "11                       NaN                       NaN    NaN   \n",
       "12                       NaN                       NaN    NaN   \n",
       "13                       NaN                       NaN    NaN   \n",
       "14                       NaN                       NaN    NaN   \n",
       "15                       NaN                       NaN    NaN   \n",
       "16                       NaN                       NaN    NaN   \n",
       "17                       NaN                       NaN    NaN   \n",
       "18                       NaN                       NaN    NaN   \n",
       "19                       NaN                       NaN    NaN   \n",
       "20                       NaN                       NaN    NaN   \n",
       "21                       NaN                       NaN    NaN   \n",
       "22                       NaN                       NaN    NaN   \n",
       "23                       NaN                       NaN    NaN   \n",
       "24                       NaN                       NaN    NaN   \n",
       "25                       NaN                       NaN    NaN   \n",
       "26                       NaN                       NaN    NaN   \n",
       "27                       NaN                       NaN    NaN   \n",
       "28                       NaN                       NaN    NaN   \n",
       "29                       NaN                       NaN    NaN   \n",
       "30                       NaN                       NaN    NaN   \n",
       "31                       NaN                       NaN    NaN   \n",
       "32                       NaN  Implantacao da Republica    NaN   \n",
       "33  Implantacao da Republica                       NaN    NaN   \n",
       "34                       NaN                       NaN    NaN   \n",
       "35                       NaN                       NaN    NaN   \n",
       "36                       NaN                       NaN    NaN   \n",
       "37                       NaN                       NaN    NaN   \n",
       "38                       NaN                       NaN    NaN   \n",
       "39                       NaN                       NaN    NaN   \n",
       "40                       NaN                       NaN    NaN   \n",
       "41                       NaN                       NaN    NaN   \n",
       "42                       NaN                       NaN    NaN   \n",
       "43                       NaN                       NaN    NaN   \n",
       "44                       NaN                       NaN    NaN   \n",
       "45                       NaN                       NaN    NaN   \n",
       "46                       NaN                       NaN    NaN   \n",
       "47                       NaN                       NaN    NaN   \n",
       "48                       NaN                       NaN    NaN   \n",
       "49                       NaN                       NaN    NaN   \n",
       "50                       NaN                       NaN    NaN   \n",
       "51                       NaN                       NaN    NaN   \n",
       "52                       NaN                       NaN    NaN   \n",
       "53                       NaN                       NaN    NaN   \n",
       "54                       NaN                       NaN    NaN   \n",
       "55                       NaN                       NaN    NaN   \n",
       "\n",
       "   festas - dia anterior festas - 2 dias anteriores festas - dia seguinte  \\\n",
       "0                    NaN                        NaN                   NaN   \n",
       "1                    NaN                        NaN                   NaN   \n",
       "2                    NaN                        NaN                   NaN   \n",
       "3                    NaN                        NaN                   NaN   \n",
       "4                    NaN                        NaN                   NaN   \n",
       "5                    NaN                        NaN                   NaN   \n",
       "6                    NaN                        NaN                   NaN   \n",
       "7                    NaN                        NaN                   NaN   \n",
       "8                    NaN                        NaN                   NaN   \n",
       "9                    NaN                        NaN                   NaN   \n",
       "10                   NaN                        NaN                   NaN   \n",
       "11                   NaN                        NaN                   NaN   \n",
       "12                   NaN                        NaN                   NaN   \n",
       "13                   NaN                        NaN                   NaN   \n",
       "14                   NaN                        NaN                   NaN   \n",
       "15                   NaN                        NaN                   NaN   \n",
       "16                   NaN                        NaN                   NaN   \n",
       "17                   NaN                        NaN                   NaN   \n",
       "18                   NaN                        NaN                   NaN   \n",
       "19                   NaN                        NaN                   NaN   \n",
       "20                   NaN                        NaN                   NaN   \n",
       "21                   NaN                        NaN                   NaN   \n",
       "22                   NaN                        NaN                   NaN   \n",
       "23                   NaN                        NaN                   NaN   \n",
       "24                   NaN                        NaN                   NaN   \n",
       "25                   NaN                        NaN                   NaN   \n",
       "26                   NaN                        NaN                   NaN   \n",
       "27                   NaN                        NaN                   NaN   \n",
       "28                   NaN                        NaN                   NaN   \n",
       "29                   NaN                        NaN                   NaN   \n",
       "30                   NaN                        NaN                   NaN   \n",
       "31                   NaN                        NaN                   NaN   \n",
       "32                   NaN                        NaN                   NaN   \n",
       "33                   NaN                        NaN                   NaN   \n",
       "34                   NaN                        NaN                   NaN   \n",
       "35                   NaN                        NaN                   NaN   \n",
       "36                   NaN                        NaN                   NaN   \n",
       "37                   NaN                        NaN                   NaN   \n",
       "38                   NaN                        NaN                   NaN   \n",
       "39                   NaN                        NaN                   NaN   \n",
       "40                   NaN                        NaN                   NaN   \n",
       "41                   NaN                        NaN                   NaN   \n",
       "42                   NaN                        NaN                   NaN   \n",
       "43                   NaN                        NaN                   NaN   \n",
       "44                   NaN                        NaN                   NaN   \n",
       "45                   NaN                        NaN                   NaN   \n",
       "46                   NaN                        NaN                   NaN   \n",
       "47                   NaN                        NaN                   NaN   \n",
       "48                   NaN                        NaN                   NaN   \n",
       "49                   NaN                        NaN                   NaN   \n",
       "50                   NaN                        NaN                   NaN   \n",
       "51                   NaN                        NaN                   NaN   \n",
       "52                   NaN                        NaN                   NaN   \n",
       "53                   NaN                        NaN                   NaN   \n",
       "54                   NaN                        NaN                   NaN   \n",
       "55                   NaN                        NaN                   NaN   \n",
       "\n",
       "   festas - daqui a 2 dias  \n",
       "0                      NaN  \n",
       "1                      NaN  \n",
       "2                      NaN  \n",
       "3                      NaN  \n",
       "4                      NaN  \n",
       "5                      NaN  \n",
       "6                      NaN  \n",
       "7                      NaN  \n",
       "8                      NaN  \n",
       "9                      NaN  \n",
       "10                     NaN  \n",
       "11                     NaN  \n",
       "12                     NaN  \n",
       "13                     NaN  \n",
       "14                     NaN  \n",
       "15                     NaN  \n",
       "16                     NaN  \n",
       "17                     NaN  \n",
       "18                     NaN  \n",
       "19                     NaN  \n",
       "20                     NaN  \n",
       "21                     NaN  \n",
       "22                     NaN  \n",
       "23                     NaN  \n",
       "24                     NaN  \n",
       "25                     NaN  \n",
       "26                     NaN  \n",
       "27                     NaN  \n",
       "28                     NaN  \n",
       "29                     NaN  \n",
       "30                     NaN  \n",
       "31                     NaN  \n",
       "32                     NaN  \n",
       "33                     NaN  \n",
       "34                     NaN  \n",
       "35                     NaN  \n",
       "36                     NaN  \n",
       "37                     NaN  \n",
       "38                     NaN  \n",
       "39                     NaN  \n",
       "40                     NaN  \n",
       "41                     NaN  \n",
       "42                     NaN  \n",
       "43                     NaN  \n",
       "44                     NaN  \n",
       "45                     NaN  \n",
       "46                     NaN  \n",
       "47                     NaN  \n",
       "48                     NaN  \n",
       "49                     NaN  \n",
       "50                     NaN  \n",
       "51                     NaN  \n",
       "52                     NaN  \n",
       "53                     NaN  \n",
       "54                     NaN  \n",
       "55                     NaN  "
      ]
     },
     "execution_count": 127,
     "metadata": {},
     "output_type": "execute_result"
    }
   ],
   "source": [
    "amarelos_Outubro"
   ]
  },
  {
   "cell_type": "code",
   "execution_count": 128,
   "metadata": {},
   "outputs": [],
   "source": [
    "amarelos_adm=amarelos_adm.replace(np.nan, -1)\n",
    "amarelos_adm=amarelos_adm.replace('n', -1)"
   ]
  },
  {
   "cell_type": "code",
   "execution_count": 129,
   "metadata": {},
   "outputs": [],
   "source": [
    "amarelos_Outubro=amarelos_Outubro.replace(np.nan, -1)\n",
    "amarelos_Outubro=amarelos_Outubro.replace('n', -1)"
   ]
  },
  {
   "cell_type": "code",
   "execution_count": 130,
   "metadata": {},
   "outputs": [
    {
     "data": {
      "text/plain": [
       "Index(['DTA_ADMISSAO', 'URG_EPISODIO', 'dia_semana', 'feriado',\n",
       "       'feriado - dia anterior', 'feriado - 2 dias anteriores',\n",
       "       'feriado - dia seguinte', 'feriado - daqui a 2 dias', 'festas',\n",
       "       'festas - dia anterior', 'festas - 2 dias anteriores',\n",
       "       'festas - dia seguinte', 'festas - daqui a 2 dias'],\n",
       "      dtype='object')"
      ]
     },
     "execution_count": 130,
     "metadata": {},
     "output_type": "execute_result"
    }
   ],
   "source": [
    "amarelos_adm.columns"
   ]
  },
  {
   "cell_type": "code",
   "execution_count": 131,
   "metadata": {},
   "outputs": [],
   "source": [
    "from collections import defaultdict\n",
    "temp = defaultdict(lambda: len(temp))\n",
    "amarelos_adm['dia_semana'] = [temp[ele] for ele in amarelos_adm['dia_semana']]\n",
    "\n",
    "temp = defaultdict(lambda: len(temp))\n",
    "amarelos_adm['feriado'] = [temp[ele] for ele in amarelos_adm['feriado']]\n",
    "\n",
    "temp = defaultdict(lambda: len(temp))\n",
    "amarelos_adm['feriado - dia anterior'] = [temp[ele] for ele in amarelos_adm['feriado - dia anterior']]\n",
    "\n",
    "temp = defaultdict(lambda: len(temp))\n",
    "amarelos_adm['feriado - 2 dias anteriores'] = [temp[ele] for ele in amarelos_adm['feriado - 2 dias anteriores']]\n",
    "\n",
    "temp = defaultdict(lambda: len(temp))\n",
    "amarelos_adm['feriado - dia seguinte'] = [temp[ele] for ele in amarelos_adm['feriado - dia seguinte']]\n",
    "\n",
    "temp = defaultdict(lambda: len(temp))\n",
    "amarelos_adm['feriado - daqui a 2 dias'] = [temp[ele] for ele in amarelos_adm['feriado - daqui a 2 dias']]\n",
    "\n",
    "temp = defaultdict(lambda: len(temp))\n",
    "amarelos_adm['festas'] = [temp[ele] for ele in amarelos_adm['festas']]\n",
    "\n",
    "temp = defaultdict(lambda: len(temp))\n",
    "amarelos_adm['festas - dia anterior'] = [temp[ele] for ele in amarelos_adm['festas - dia anterior']]\n",
    "\n",
    "temp = defaultdict(lambda: len(temp))\n",
    "amarelos_adm['festas - 2 dias anteriores'] = [temp[ele] for ele in amarelos_adm['festas - 2 dias anteriores']]\n",
    "\n",
    "temp = defaultdict(lambda: len(temp))\n",
    "amarelos_adm['festas - dia seguinte'] = [temp[ele] for ele in amarelos_adm['festas - dia seguinte']]\n",
    "\n",
    "temp = defaultdict(lambda: len(temp))\n",
    "amarelos_adm['festas - daqui a 2 dias'] = [temp[ele] for ele in amarelos_adm['festas - daqui a 2 dias']]\n",
    "\n",
    "temp = defaultdict(lambda: len(temp))\n",
    "amarelos_Outubro['dia_semana'] = [temp[ele] for ele in amarelos_Outubro['dia_semana']]\n",
    "\n",
    "temp = defaultdict(lambda: len(temp))\n",
    "amarelos_Outubro['feriado'] = [temp[ele] for ele in amarelos_Outubro['feriado']]\n",
    "\n",
    "temp = defaultdict(lambda: len(temp))\n",
    "amarelos_Outubro['feriado - dia anterior'] = [temp[ele] for ele in amarelos_Outubro['feriado - dia anterior']]\n",
    "\n",
    "temp = defaultdict(lambda: len(temp))\n",
    "amarelos_Outubro['feriado - 2 dias anteriores'] = [temp[ele] for ele in amarelos_Outubro['feriado - 2 dias anteriores']]\n",
    "\n",
    "temp = defaultdict(lambda: len(temp))\n",
    "amarelos_Outubro['feriado - dia seguinte'] = [temp[ele] for ele in amarelos_Outubro['feriado - dia seguinte']]\n",
    "\n",
    "temp = defaultdict(lambda: len(temp))\n",
    "amarelos_Outubro['feriado - daqui a 2 dias'] = [temp[ele] for ele in amarelos_Outubro['feriado - daqui a 2 dias']]\n",
    "\n",
    "temp = defaultdict(lambda: len(temp))\n",
    "amarelos_Outubro['festas'] = [temp[ele] for ele in amarelos_Outubro['festas']]\n",
    "\n",
    "temp = defaultdict(lambda: len(temp))\n",
    "amarelos_Outubro['festas - dia anterior'] = [temp[ele] for ele in amarelos_Outubro['festas - dia anterior']]\n",
    "\n",
    "temp = defaultdict(lambda: len(temp))\n",
    "amarelos_Outubro['festas - 2 dias anteriores'] = [temp[ele] for ele in amarelos_Outubro['festas - 2 dias anteriores']]\n",
    "\n",
    "temp = defaultdict(lambda: len(temp))\n",
    "amarelos_Outubro['festas - dia seguinte'] = [temp[ele] for ele in amarelos_Outubro['festas - dia seguinte']]\n",
    "\n",
    "temp = defaultdict(lambda: len(temp))\n",
    "amarelos_Outubro['festas - daqui a 2 dias'] = [temp[ele] for ele in amarelos_Outubro['festas - daqui a 2 dias']]"
   ]
  },
  {
   "cell_type": "code",
   "execution_count": 83,
   "metadata": {
    "scrolled": true
   },
   "outputs": [
    {
     "name": "stderr",
     "output_type": "stream",
     "text": [
      "/opt/conda/lib/python3.10/site-packages/statsmodels/tsa/statespace/sarimax.py:1009: UserWarning:\n",
      "\n",
      "Non-invertible starting seasonal moving average Using zeros as starting parameters.\n",
      "\n"
     ]
    },
    {
     "name": "stdout",
     "output_type": "stream",
     "text": [
      "RUNNING THE L-BFGS-B CODE\n",
      "\n",
      "           * * *\n",
      "\n",
      "Machine precision = 2.220D-16\n",
      " N =           18     M =           10\n",
      "\n",
      "At X0         0 variables are exactly at the bounds\n",
      "\n",
      "At iterate    0    f=  4.85138D+00    |proj g|=  1.43950D-01\n"
     ]
    },
    {
     "name": "stderr",
     "output_type": "stream",
     "text": [
      " This problem is unconstrained.\n"
     ]
    },
    {
     "name": "stdout",
     "output_type": "stream",
     "text": [
      "\n",
      "At iterate    5    f=  4.76090D+00    |proj g|=  1.72790D-02\n",
      "\n",
      "At iterate   10    f=  4.46071D+00    |proj g|=  2.50893D-02\n",
      "\n",
      "At iterate   15    f=  4.44356D+00    |proj g|=  1.07035D-03\n",
      "\n",
      "At iterate   20    f=  4.44304D+00    |proj g|=  5.13600D-04\n",
      "\n",
      "At iterate   25    f=  4.44272D+00    |proj g|=  1.01711D-03\n",
      "\n",
      "At iterate   30    f=  4.44268D+00    |proj g|=  3.45443D-04\n",
      "\n",
      "At iterate   35    f=  4.44257D+00    |proj g|=  9.26156D-04\n",
      "\n",
      "At iterate   40    f=  4.44253D+00    |proj g|=  3.26627D-04\n",
      "\n",
      "At iterate   45    f=  4.44240D+00    |proj g|=  1.25263D-03\n"
     ]
    },
    {
     "name": "stderr",
     "output_type": "stream",
     "text": [
      "/opt/conda/lib/python3.10/site-packages/statsmodels/base/model.py:604: ConvergenceWarning:\n",
      "\n",
      "Maximum Likelihood optimization failed to converge. Check mle_retvals\n",
      "\n"
     ]
    },
    {
     "name": "stdout",
     "output_type": "stream",
     "text": [
      "\n",
      "At iterate   50    f=  4.44235D+00    |proj g|=  1.15770D-03\n",
      "\n",
      "           * * *\n",
      "\n",
      "Tit   = total number of iterations\n",
      "Tnf   = total number of function evaluations\n",
      "Tnint = total number of segments explored during Cauchy searches\n",
      "Skip  = number of BFGS updates skipped\n",
      "Nact  = number of active bounds at final generalized Cauchy point\n",
      "Projg = norm of the final projected gradient\n",
      "F     = final function value\n",
      "\n",
      "           * * *\n",
      "\n",
      "   N    Tit     Tnf  Tnint  Skip  Nact     Projg        F\n",
      "   18     50     61      1     0     0   1.158D-03   4.442D+00\n",
      "  F =   4.4423457590207001     \n",
      "\n",
      "STOP: TOTAL NO. of ITERATIONS REACHED LIMIT                 \n"
     ]
    },
    {
     "name": "stderr",
     "output_type": "stream",
     "text": [
      "/opt/conda/lib/python3.10/site-packages/statsmodels/tsa/statespace/sarimax.py:1009: UserWarning:\n",
      "\n",
      "Non-invertible starting seasonal moving average Using zeros as starting parameters.\n",
      "\n",
      " This problem is unconstrained.\n"
     ]
    },
    {
     "name": "stdout",
     "output_type": "stream",
     "text": [
      "RUNNING THE L-BFGS-B CODE\n",
      "\n",
      "           * * *\n",
      "\n",
      "Machine precision = 2.220D-16\n",
      " N =           18     M =           10\n",
      "\n",
      "At X0         0 variables are exactly at the bounds\n",
      "\n",
      "At iterate    0    f=  4.85630D+00    |proj g|=  1.42483D-01\n",
      "\n",
      "At iterate    5    f=  4.76635D+00    |proj g|=  1.72037D-02\n",
      "\n",
      "At iterate   10    f=  4.46586D+00    |proj g|=  1.61239D-02\n",
      "\n",
      "At iterate   15    f=  4.44428D+00    |proj g|=  9.98497D-04\n",
      "\n",
      "At iterate   20    f=  4.44399D+00    |proj g|=  6.42271D-04\n",
      "\n",
      "At iterate   25    f=  4.44384D+00    |proj g|=  4.60400D-03\n",
      "\n",
      "At iterate   30    f=  4.44356D+00    |proj g|=  1.39912D-03\n",
      "\n",
      "At iterate   35    f=  4.44350D+00    |proj g|=  1.97961D-04\n",
      "\n",
      "At iterate   40    f=  4.44349D+00    |proj g|=  4.18716D-04\n",
      "\n",
      "At iterate   45    f=  4.44340D+00    |proj g|=  1.72028D-03\n"
     ]
    },
    {
     "name": "stderr",
     "output_type": "stream",
     "text": [
      "/opt/conda/lib/python3.10/site-packages/statsmodels/base/model.py:604: ConvergenceWarning:\n",
      "\n",
      "Maximum Likelihood optimization failed to converge. Check mle_retvals\n",
      "\n"
     ]
    },
    {
     "name": "stdout",
     "output_type": "stream",
     "text": [
      "\n",
      "At iterate   50    f=  4.44330D+00    |proj g|=  1.06841D-03\n",
      "\n",
      "           * * *\n",
      "\n",
      "Tit   = total number of iterations\n",
      "Tnf   = total number of function evaluations\n",
      "Tnint = total number of segments explored during Cauchy searches\n",
      "Skip  = number of BFGS updates skipped\n",
      "Nact  = number of active bounds at final generalized Cauchy point\n",
      "Projg = norm of the final projected gradient\n",
      "F     = final function value\n",
      "\n",
      "           * * *\n",
      "\n",
      "   N    Tit     Tnf  Tnint  Skip  Nact     Projg        F\n",
      "   18     50     60      1     0     0   1.068D-03   4.443D+00\n",
      "  F =   4.4433041733612360     \n",
      "\n",
      "STOP: TOTAL NO. of ITERATIONS REACHED LIMIT                 \n"
     ]
    },
    {
     "name": "stderr",
     "output_type": "stream",
     "text": [
      "/opt/conda/lib/python3.10/site-packages/statsmodels/tsa/statespace/sarimax.py:1009: UserWarning:\n",
      "\n",
      "Non-invertible starting seasonal moving average Using zeros as starting parameters.\n",
      "\n",
      " This problem is unconstrained.\n"
     ]
    },
    {
     "name": "stdout",
     "output_type": "stream",
     "text": [
      "RUNNING THE L-BFGS-B CODE\n",
      "\n",
      "           * * *\n",
      "\n",
      "Machine precision = 2.220D-16\n",
      " N =           18     M =           10\n",
      "\n",
      "At X0         0 variables are exactly at the bounds\n",
      "\n",
      "At iterate    0    f=  4.85649D+00    |proj g|=  1.44551D-01\n",
      "\n",
      "At iterate    5    f=  4.76589D+00    |proj g|=  1.72104D-02\n",
      "\n",
      "At iterate   10    f=  4.46624D+00    |proj g|=  1.46938D-02\n",
      "\n",
      "At iterate   15    f=  4.44381D+00    |proj g|=  4.01634D-03\n",
      "\n",
      "At iterate   20    f=  4.44350D+00    |proj g|=  3.20128D-03\n",
      "\n",
      "At iterate   25    f=  4.44343D+00    |proj g|=  1.52324D-03\n",
      "\n",
      "At iterate   30    f=  4.44313D+00    |proj g|=  1.57528D-03\n",
      "\n",
      "At iterate   35    f=  4.44288D+00    |proj g|=  3.87311D-04\n",
      "\n",
      "At iterate   40    f=  4.44283D+00    |proj g|=  5.77774D-04\n",
      "\n",
      "At iterate   45    f=  4.44265D+00    |proj g|=  2.41463D-03\n"
     ]
    },
    {
     "name": "stderr",
     "output_type": "stream",
     "text": [
      "/opt/conda/lib/python3.10/site-packages/statsmodels/base/model.py:604: ConvergenceWarning:\n",
      "\n",
      "Maximum Likelihood optimization failed to converge. Check mle_retvals\n",
      "\n"
     ]
    },
    {
     "name": "stdout",
     "output_type": "stream",
     "text": [
      "\n",
      "At iterate   50    f=  4.44256D+00    |proj g|=  7.08709D-04\n",
      "\n",
      "           * * *\n",
      "\n",
      "Tit   = total number of iterations\n",
      "Tnf   = total number of function evaluations\n",
      "Tnint = total number of segments explored during Cauchy searches\n",
      "Skip  = number of BFGS updates skipped\n",
      "Nact  = number of active bounds at final generalized Cauchy point\n",
      "Projg = norm of the final projected gradient\n",
      "F     = final function value\n",
      "\n",
      "           * * *\n",
      "\n",
      "   N    Tit     Tnf  Tnint  Skip  Nact     Projg        F\n",
      "   18     50     60      1     0     0   7.087D-04   4.443D+00\n",
      "  F =   4.4425640171470135     \n",
      "\n",
      "STOP: TOTAL NO. of ITERATIONS REACHED LIMIT                 \n"
     ]
    },
    {
     "name": "stderr",
     "output_type": "stream",
     "text": [
      "/opt/conda/lib/python3.10/site-packages/statsmodels/tsa/statespace/sarimax.py:1009: UserWarning:\n",
      "\n",
      "Non-invertible starting seasonal moving average Using zeros as starting parameters.\n",
      "\n",
      " This problem is unconstrained.\n"
     ]
    },
    {
     "name": "stdout",
     "output_type": "stream",
     "text": [
      "RUNNING THE L-BFGS-B CODE\n",
      "\n",
      "           * * *\n",
      "\n",
      "Machine precision = 2.220D-16\n",
      " N =           18     M =           10\n",
      "\n",
      "At X0         0 variables are exactly at the bounds\n",
      "\n",
      "At iterate    0    f=  4.86275D+00    |proj g|=  1.41260D-01\n",
      "\n",
      "At iterate    5    f=  4.77151D+00    |proj g|=  1.71311D-02\n",
      "\n",
      "At iterate   10    f=  4.47221D+00    |proj g|=  5.66414D-02\n",
      "\n",
      "At iterate   15    f=  4.44838D+00    |proj g|=  4.33933D-03\n",
      "\n",
      "At iterate   20    f=  4.44810D+00    |proj g|=  2.74021D-03\n",
      "\n",
      "At iterate   25    f=  4.44799D+00    |proj g|=  1.38839D-03\n",
      "\n",
      "At iterate   30    f=  4.44767D+00    |proj g|=  1.08519D-02\n",
      "\n",
      "At iterate   35    f=  4.44719D+00    |proj g|=  5.08913D-03\n",
      "\n",
      "At iterate   40    f=  4.44688D+00    |proj g|=  2.10819D-03\n",
      "\n",
      "At iterate   45    f=  4.44659D+00    |proj g|=  2.28019D-03\n"
     ]
    },
    {
     "name": "stderr",
     "output_type": "stream",
     "text": [
      "/opt/conda/lib/python3.10/site-packages/statsmodels/base/model.py:604: ConvergenceWarning:\n",
      "\n",
      "Maximum Likelihood optimization failed to converge. Check mle_retvals\n",
      "\n"
     ]
    },
    {
     "name": "stdout",
     "output_type": "stream",
     "text": [
      "\n",
      "At iterate   50    f=  4.44603D+00    |proj g|=  1.60677D-03\n",
      "\n",
      "           * * *\n",
      "\n",
      "Tit   = total number of iterations\n",
      "Tnf   = total number of function evaluations\n",
      "Tnint = total number of segments explored during Cauchy searches\n",
      "Skip  = number of BFGS updates skipped\n",
      "Nact  = number of active bounds at final generalized Cauchy point\n",
      "Projg = norm of the final projected gradient\n",
      "F     = final function value\n",
      "\n",
      "           * * *\n",
      "\n",
      "   N    Tit     Tnf  Tnint  Skip  Nact     Projg        F\n",
      "   18     50     61      1     0     0   1.607D-03   4.446D+00\n",
      "  F =   4.4460256292307383     \n",
      "\n",
      "STOP: TOTAL NO. of ITERATIONS REACHED LIMIT                 \n"
     ]
    },
    {
     "name": "stderr",
     "output_type": "stream",
     "text": [
      "/opt/conda/lib/python3.10/site-packages/statsmodels/tsa/statespace/sarimax.py:1009: UserWarning:\n",
      "\n",
      "Non-invertible starting seasonal moving average Using zeros as starting parameters.\n",
      "\n"
     ]
    },
    {
     "name": "stdout",
     "output_type": "stream",
     "text": [
      "RUNNING THE L-BFGS-B CODE\n",
      "\n",
      "           * * *\n",
      "\n",
      "Machine precision = 2.220D-16\n",
      " N =           18     M =           10\n",
      "\n",
      "At X0         0 variables are exactly at the bounds\n",
      "\n",
      "At iterate    0    f=  4.85850D+00    |proj g|=  1.43799D-01\n"
     ]
    },
    {
     "name": "stderr",
     "output_type": "stream",
     "text": [
      " This problem is unconstrained.\n"
     ]
    },
    {
     "name": "stdout",
     "output_type": "stream",
     "text": [
      "\n",
      "At iterate    5    f=  4.76739D+00    |proj g|=  1.71910D-02\n",
      "\n",
      "At iterate   10    f=  4.46404D+00    |proj g|=  5.51011D-02\n",
      "\n",
      "At iterate   15    f=  4.44507D+00    |proj g|=  2.40365D-03\n",
      "\n",
      "At iterate   20    f=  4.44484D+00    |proj g|=  1.21424D-03\n",
      "\n",
      "At iterate   25    f=  4.44447D+00    |proj g|=  2.33742D-03\n",
      "\n",
      "At iterate   30    f=  4.44439D+00    |proj g|=  5.48104D-04\n",
      "\n",
      "At iterate   35    f=  4.44431D+00    |proj g|=  1.33620D-03\n",
      "\n",
      "At iterate   40    f=  4.44414D+00    |proj g|=  9.39776D-04\n",
      "\n",
      "At iterate   45    f=  4.44408D+00    |proj g|=  1.92900D-03\n"
     ]
    },
    {
     "name": "stderr",
     "output_type": "stream",
     "text": [
      "/opt/conda/lib/python3.10/site-packages/statsmodels/base/model.py:604: ConvergenceWarning:\n",
      "\n",
      "Maximum Likelihood optimization failed to converge. Check mle_retvals\n",
      "\n"
     ]
    },
    {
     "name": "stdout",
     "output_type": "stream",
     "text": [
      "\n",
      "At iterate   50    f=  4.44402D+00    |proj g|=  1.95020D-03\n",
      "\n",
      "           * * *\n",
      "\n",
      "Tit   = total number of iterations\n",
      "Tnf   = total number of function evaluations\n",
      "Tnint = total number of segments explored during Cauchy searches\n",
      "Skip  = number of BFGS updates skipped\n",
      "Nact  = number of active bounds at final generalized Cauchy point\n",
      "Projg = norm of the final projected gradient\n",
      "F     = final function value\n",
      "\n",
      "           * * *\n",
      "\n",
      "   N    Tit     Tnf  Tnint  Skip  Nact     Projg        F\n",
      "   18     50     61      1     0     0   1.950D-03   4.444D+00\n",
      "  F =   4.4440246830632324     \n",
      "\n",
      "STOP: TOTAL NO. of ITERATIONS REACHED LIMIT                 \n"
     ]
    },
    {
     "name": "stderr",
     "output_type": "stream",
     "text": [
      "/opt/conda/lib/python3.10/site-packages/statsmodels/tsa/statespace/sarimax.py:1009: UserWarning:\n",
      "\n",
      "Non-invertible starting seasonal moving average Using zeros as starting parameters.\n",
      "\n",
      " This problem is unconstrained.\n"
     ]
    },
    {
     "name": "stdout",
     "output_type": "stream",
     "text": [
      "RUNNING THE L-BFGS-B CODE\n",
      "\n",
      "           * * *\n",
      "\n",
      "Machine precision = 2.220D-16\n",
      " N =           18     M =           10\n",
      "\n",
      "At X0         0 variables are exactly at the bounds\n",
      "\n",
      "At iterate    0    f=  4.86516D+00    |proj g|=  1.40249D-01\n",
      "\n",
      "At iterate    5    f=  4.77412D+00    |proj g|=  1.71000D-02\n",
      "\n",
      "At iterate   10    f=  4.47585D+00    |proj g|=  4.91668D-02\n",
      "\n",
      "At iterate   15    f=  4.45207D+00    |proj g|=  1.90558D-02\n",
      "\n",
      "At iterate   20    f=  4.45136D+00    |proj g|=  7.22655D-04\n",
      "\n",
      "At iterate   25    f=  4.45104D+00    |proj g|=  2.71124D-03\n",
      "\n",
      "At iterate   30    f=  4.44995D+00    |proj g|=  8.04616D-03\n",
      "\n",
      "At iterate   35    f=  4.44921D+00    |proj g|=  1.77862D-03\n",
      "\n",
      "At iterate   40    f=  4.44846D+00    |proj g|=  3.18321D-03\n",
      "\n",
      "At iterate   45    f=  4.44778D+00    |proj g|=  1.82038D-03\n"
     ]
    },
    {
     "name": "stderr",
     "output_type": "stream",
     "text": [
      "/opt/conda/lib/python3.10/site-packages/statsmodels/base/model.py:604: ConvergenceWarning:\n",
      "\n",
      "Maximum Likelihood optimization failed to converge. Check mle_retvals\n",
      "\n"
     ]
    },
    {
     "name": "stdout",
     "output_type": "stream",
     "text": [
      "\n",
      "At iterate   50    f=  4.44736D+00    |proj g|=  7.99162D-04\n",
      "\n",
      "           * * *\n",
      "\n",
      "Tit   = total number of iterations\n",
      "Tnf   = total number of function evaluations\n",
      "Tnint = total number of segments explored during Cauchy searches\n",
      "Skip  = number of BFGS updates skipped\n",
      "Nact  = number of active bounds at final generalized Cauchy point\n",
      "Projg = norm of the final projected gradient\n",
      "F     = final function value\n",
      "\n",
      "           * * *\n",
      "\n",
      "   N    Tit     Tnf  Tnint  Skip  Nact     Projg        F\n",
      "   18     50     54      1     0     0   7.992D-04   4.447D+00\n",
      "  F =   4.4473595567622581     \n",
      "\n",
      "STOP: TOTAL NO. of ITERATIONS REACHED LIMIT                 \n",
      "RUNNING THE L-BFGS-B CODE\n",
      "\n",
      "           * * *\n",
      "\n",
      "Machine precision = 2.220D-16\n",
      " N =           18     M =           10\n",
      "\n",
      "At X0         0 variables are exactly at the bounds\n",
      "\n",
      "At iterate    0    f=  4.78668D+00    |proj g|=  4.06308D-02\n"
     ]
    },
    {
     "name": "stderr",
     "output_type": "stream",
     "text": [
      " This problem is unconstrained.\n"
     ]
    },
    {
     "name": "stdout",
     "output_type": "stream",
     "text": [
      "\n",
      "At iterate    5    f=  4.68358D+00    |proj g|=  5.12908D-02\n",
      "\n",
      "At iterate   10    f=  4.49627D+00    |proj g|=  4.86634D-02\n",
      "\n",
      "At iterate   15    f=  4.43634D+00    |proj g|=  6.39411D-02\n",
      "\n",
      "At iterate   20    f=  4.38174D+00    |proj g|=  2.62742D-02\n",
      "\n",
      "At iterate   25    f=  4.36795D+00    |proj g|=  4.37209D-03\n",
      "\n",
      "At iterate   30    f=  4.36650D+00    |proj g|=  3.17188D-02\n",
      "\n",
      "At iterate   35    f=  4.36230D+00    |proj g|=  2.78606D-02\n",
      "\n",
      "At iterate   40    f=  4.35908D+00    |proj g|=  8.07381D-03\n",
      "\n",
      "At iterate   45    f=  4.35590D+00    |proj g|=  4.01045D-03\n"
     ]
    },
    {
     "name": "stderr",
     "output_type": "stream",
     "text": [
      "/opt/conda/lib/python3.10/site-packages/statsmodels/base/model.py:604: ConvergenceWarning:\n",
      "\n",
      "Maximum Likelihood optimization failed to converge. Check mle_retvals\n",
      "\n"
     ]
    },
    {
     "name": "stdout",
     "output_type": "stream",
     "text": [
      "\n",
      "At iterate   50    f=  4.35434D+00    |proj g|=  4.26616D-03\n",
      "\n",
      "           * * *\n",
      "\n",
      "Tit   = total number of iterations\n",
      "Tnf   = total number of function evaluations\n",
      "Tnint = total number of segments explored during Cauchy searches\n",
      "Skip  = number of BFGS updates skipped\n",
      "Nact  = number of active bounds at final generalized Cauchy point\n",
      "Projg = norm of the final projected gradient\n",
      "F     = final function value\n",
      "\n",
      "           * * *\n",
      "\n",
      "   N    Tit     Tnf  Tnint  Skip  Nact     Projg        F\n",
      "   18     50     61      1     0     0   4.266D-03   4.354D+00\n",
      "  F =   4.3543387156887725     \n",
      "\n",
      "STOP: TOTAL NO. of ITERATIONS REACHED LIMIT                 \n",
      "RUNNING THE L-BFGS-B CODE\n",
      "\n",
      "           * * *\n",
      "\n",
      "Machine precision = 2.220D-16\n",
      " N =           18     M =           10\n",
      "\n",
      "At X0         0 variables are exactly at the bounds\n",
      "\n",
      "At iterate    0    f=  4.77927D+00    |proj g|=  4.02215D-02\n"
     ]
    },
    {
     "name": "stderr",
     "output_type": "stream",
     "text": [
      " This problem is unconstrained.\n"
     ]
    },
    {
     "name": "stdout",
     "output_type": "stream",
     "text": [
      "\n",
      "At iterate    5    f=  4.65131D+00    |proj g|=  2.45356D-01\n",
      "\n",
      "At iterate   10    f=  4.51697D+00    |proj g|=  1.30013D-02\n",
      "\n",
      "At iterate   15    f=  4.48110D+00    |proj g|=  1.01432D-02\n",
      "\n",
      "At iterate   20    f=  4.44376D+00    |proj g|=  1.38163D-01\n",
      "\n",
      "At iterate   25    f=  4.41723D+00    |proj g|=  7.39815D-03\n",
      "\n",
      "At iterate   30    f=  4.41669D+00    |proj g|=  4.72477D-03\n",
      "\n",
      "At iterate   35    f=  4.41637D+00    |proj g|=  4.02655D-03\n",
      "\n",
      "At iterate   40    f=  4.41629D+00    |proj g|=  5.18609D-03\n",
      "\n",
      "At iterate   45    f=  4.41614D+00    |proj g|=  6.67569D-03\n"
     ]
    },
    {
     "name": "stderr",
     "output_type": "stream",
     "text": [
      "/opt/conda/lib/python3.10/site-packages/statsmodels/base/model.py:604: ConvergenceWarning:\n",
      "\n",
      "Maximum Likelihood optimization failed to converge. Check mle_retvals\n",
      "\n"
     ]
    },
    {
     "name": "stdout",
     "output_type": "stream",
     "text": [
      "\n",
      "At iterate   50    f=  4.41574D+00    |proj g|=  4.01346D-03\n",
      "\n",
      "           * * *\n",
      "\n",
      "Tit   = total number of iterations\n",
      "Tnf   = total number of function evaluations\n",
      "Tnint = total number of segments explored during Cauchy searches\n",
      "Skip  = number of BFGS updates skipped\n",
      "Nact  = number of active bounds at final generalized Cauchy point\n",
      "Projg = norm of the final projected gradient\n",
      "F     = final function value\n",
      "\n",
      "           * * *\n",
      "\n",
      "   N    Tit     Tnf  Tnint  Skip  Nact     Projg        F\n",
      "   18     50     82      1     0     0   4.013D-03   4.416D+00\n",
      "  F =   4.4157431936654969     \n",
      "\n",
      "STOP: TOTAL NO. of ITERATIONS REACHED LIMIT                 \n"
     ]
    },
    {
     "name": "stderr",
     "output_type": "stream",
     "text": [
      " This problem is unconstrained.\n"
     ]
    },
    {
     "name": "stdout",
     "output_type": "stream",
     "text": [
      "RUNNING THE L-BFGS-B CODE\n",
      "\n",
      "           * * *\n",
      "\n",
      "Machine precision = 2.220D-16\n",
      " N =           18     M =           10\n",
      "\n",
      "At X0         0 variables are exactly at the bounds\n",
      "\n",
      "At iterate    0    f=  4.77589D+00    |proj g|=  3.45391D-02\n",
      "\n",
      "At iterate    5    f=  4.66037D+00    |proj g|=  1.19863D-01\n",
      "\n",
      "At iterate   10    f=  4.51584D+00    |proj g|=  6.79286D-02\n",
      "\n",
      "At iterate   15    f=  4.39804D+00    |proj g|=  5.06298D-02\n",
      "\n",
      "At iterate   20    f=  4.38729D+00    |proj g|=  1.60064D-02\n",
      "\n",
      "At iterate   25    f=  4.38254D+00    |proj g|=  5.93040D-03\n",
      "\n",
      "At iterate   30    f=  4.37755D+00    |proj g|=  2.14036D-02\n",
      "\n",
      "At iterate   35    f=  4.37275D+00    |proj g|=  2.83747D-03\n",
      "\n",
      "At iterate   40    f=  4.37075D+00    |proj g|=  5.04000D-03\n",
      "\n",
      "At iterate   45    f=  4.36951D+00    |proj g|=  4.58721D-03\n"
     ]
    },
    {
     "name": "stderr",
     "output_type": "stream",
     "text": [
      "/opt/conda/lib/python3.10/site-packages/statsmodels/base/model.py:604: ConvergenceWarning:\n",
      "\n",
      "Maximum Likelihood optimization failed to converge. Check mle_retvals\n",
      "\n"
     ]
    },
    {
     "name": "stdout",
     "output_type": "stream",
     "text": [
      "\n",
      "At iterate   50    f=  4.36935D+00    |proj g|=  2.20885D-03\n",
      "\n",
      "           * * *\n",
      "\n",
      "Tit   = total number of iterations\n",
      "Tnf   = total number of function evaluations\n",
      "Tnint = total number of segments explored during Cauchy searches\n",
      "Skip  = number of BFGS updates skipped\n",
      "Nact  = number of active bounds at final generalized Cauchy point\n",
      "Projg = norm of the final projected gradient\n",
      "F     = final function value\n",
      "\n",
      "           * * *\n",
      "\n",
      "   N    Tit     Tnf  Tnint  Skip  Nact     Projg        F\n",
      "   18     50     57      1     0     0   2.209D-03   4.369D+00\n",
      "  F =   4.3693532392179879     \n",
      "\n",
      "STOP: TOTAL NO. of ITERATIONS REACHED LIMIT                 \n"
     ]
    },
    {
     "name": "stderr",
     "output_type": "stream",
     "text": [
      " This problem is unconstrained.\n"
     ]
    },
    {
     "name": "stdout",
     "output_type": "stream",
     "text": [
      "RUNNING THE L-BFGS-B CODE\n",
      "\n",
      "           * * *\n",
      "\n",
      "Machine precision = 2.220D-16\n",
      " N =           18     M =           10\n",
      "\n",
      "At X0         0 variables are exactly at the bounds\n",
      "\n",
      "At iterate    0    f=  4.77952D+00    |proj g|=  3.65046D-02\n",
      "\n",
      "At iterate    5    f=  4.69057D+00    |proj g|=  1.71664D-01\n",
      "\n",
      "At iterate   10    f=  4.51312D+00    |proj g|=  1.50971D-01\n",
      "\n",
      "At iterate   15    f=  4.43609D+00    |proj g|=  1.52189D-01\n",
      "\n",
      "At iterate   20    f=  4.39933D+00    |proj g|=  6.22439D-03\n",
      "\n",
      "At iterate   25    f=  4.39232D+00    |proj g|=  6.26765D-03\n",
      "\n",
      "At iterate   30    f=  4.38316D+00    |proj g|=  4.24963D-02\n",
      "\n",
      "At iterate   35    f=  4.37507D+00    |proj g|=  4.56372D-03\n",
      "\n",
      "At iterate   40    f=  4.37313D+00    |proj g|=  1.66524D-03\n",
      "\n",
      "At iterate   45    f=  4.37203D+00    |proj g|=  4.19761D-03\n"
     ]
    },
    {
     "name": "stderr",
     "output_type": "stream",
     "text": [
      "/opt/conda/lib/python3.10/site-packages/statsmodels/base/model.py:604: ConvergenceWarning:\n",
      "\n",
      "Maximum Likelihood optimization failed to converge. Check mle_retvals\n",
      "\n"
     ]
    },
    {
     "name": "stdout",
     "output_type": "stream",
     "text": [
      "\n",
      "At iterate   50    f=  4.37182D+00    |proj g|=  2.62925D-03\n",
      "\n",
      "           * * *\n",
      "\n",
      "Tit   = total number of iterations\n",
      "Tnf   = total number of function evaluations\n",
      "Tnint = total number of segments explored during Cauchy searches\n",
      "Skip  = number of BFGS updates skipped\n",
      "Nact  = number of active bounds at final generalized Cauchy point\n",
      "Projg = norm of the final projected gradient\n",
      "F     = final function value\n",
      "\n",
      "           * * *\n",
      "\n",
      "   N    Tit     Tnf  Tnint  Skip  Nact     Projg        F\n",
      "   18     50     63      1     0     0   2.629D-03   4.372D+00\n",
      "  F =   4.3718246548485382     \n",
      "\n",
      "STOP: TOTAL NO. of ITERATIONS REACHED LIMIT                 \n"
     ]
    },
    {
     "name": "stderr",
     "output_type": "stream",
     "text": [
      " This problem is unconstrained.\n"
     ]
    },
    {
     "name": "stdout",
     "output_type": "stream",
     "text": [
      "RUNNING THE L-BFGS-B CODE\n",
      "\n",
      "           * * *\n",
      "\n",
      "Machine precision = 2.220D-16\n",
      " N =           18     M =           10\n",
      "\n",
      "At X0         0 variables are exactly at the bounds\n",
      "\n",
      "At iterate    0    f=  4.78584D+00    |proj g|=  3.57648D-02\n",
      "\n",
      "At iterate    5    f=  4.67794D+00    |proj g|=  1.10843D-01\n",
      "\n",
      "At iterate   10    f=  4.51143D+00    |proj g|=  3.00899D-02\n",
      "\n",
      "At iterate   15    f=  4.40779D+00    |proj g|=  1.03204D-01\n",
      "\n",
      "At iterate   20    f=  4.39549D+00    |proj g|=  1.00217D-02\n",
      "\n",
      "At iterate   25    f=  4.38997D+00    |proj g|=  1.21493D-02\n",
      "\n",
      "At iterate   30    f=  4.38051D+00    |proj g|=  5.60240D-03\n",
      "\n",
      "At iterate   35    f=  4.37708D+00    |proj g|=  4.76537D-03\n",
      "\n",
      "At iterate   40    f=  4.37630D+00    |proj g|=  2.69552D-03\n",
      "\n",
      "At iterate   45    f=  4.37570D+00    |proj g|=  7.07246D-03\n"
     ]
    },
    {
     "name": "stderr",
     "output_type": "stream",
     "text": [
      "/opt/conda/lib/python3.10/site-packages/statsmodels/base/model.py:604: ConvergenceWarning:\n",
      "\n",
      "Maximum Likelihood optimization failed to converge. Check mle_retvals\n",
      "\n"
     ]
    },
    {
     "name": "stdout",
     "output_type": "stream",
     "text": [
      "\n",
      "At iterate   50    f=  4.37555D+00    |proj g|=  2.69457D-03\n",
      "\n",
      "           * * *\n",
      "\n",
      "Tit   = total number of iterations\n",
      "Tnf   = total number of function evaluations\n",
      "Tnint = total number of segments explored during Cauchy searches\n",
      "Skip  = number of BFGS updates skipped\n",
      "Nact  = number of active bounds at final generalized Cauchy point\n",
      "Projg = norm of the final projected gradient\n",
      "F     = final function value\n",
      "\n",
      "           * * *\n",
      "\n",
      "   N    Tit     Tnf  Tnint  Skip  Nact     Projg        F\n",
      "   18     50     59      1     0     0   2.695D-03   4.376D+00\n",
      "  F =   4.3755501322189128     \n",
      "\n",
      "STOP: TOTAL NO. of ITERATIONS REACHED LIMIT                 \n"
     ]
    },
    {
     "name": "stderr",
     "output_type": "stream",
     "text": [
      " This problem is unconstrained.\n"
     ]
    },
    {
     "name": "stdout",
     "output_type": "stream",
     "text": [
      "RUNNING THE L-BFGS-B CODE\n",
      "\n",
      "           * * *\n",
      "\n",
      "Machine precision = 2.220D-16\n",
      " N =           18     M =           10\n",
      "\n",
      "At X0         0 variables are exactly at the bounds\n",
      "\n",
      "At iterate    0    f=  4.78279D+00    |proj g|=  3.80350D-02\n",
      "\n",
      "At iterate    5    f=  4.66017D+00    |proj g|=  1.15693D-01\n",
      "\n",
      "At iterate   10    f=  4.48848D+00    |proj g|=  6.19673D-02\n",
      "\n",
      "At iterate   15    f=  4.40022D+00    |proj g|=  3.97204D-02\n",
      "\n",
      "At iterate   20    f=  4.39572D+00    |proj g|=  1.23167D-02\n",
      "\n",
      "At iterate   25    f=  4.38355D+00    |proj g|=  7.21004D-03\n",
      "\n",
      "At iterate   30    f=  4.37861D+00    |proj g|=  9.12143D-03\n",
      "\n",
      "At iterate   35    f=  4.37732D+00    |proj g|=  8.64529D-03\n",
      "\n",
      "At iterate   40    f=  4.37636D+00    |proj g|=  3.38790D-03\n",
      "\n",
      "At iterate   45    f=  4.37615D+00    |proj g|=  5.47859D-03\n"
     ]
    },
    {
     "name": "stderr",
     "output_type": "stream",
     "text": [
      "/opt/conda/lib/python3.10/site-packages/statsmodels/base/model.py:604: ConvergenceWarning:\n",
      "\n",
      "Maximum Likelihood optimization failed to converge. Check mle_retvals\n",
      "\n"
     ]
    },
    {
     "name": "stdout",
     "output_type": "stream",
     "text": [
      "\n",
      "At iterate   50    f=  4.37606D+00    |proj g|=  2.73671D-03\n",
      "\n",
      "           * * *\n",
      "\n",
      "Tit   = total number of iterations\n",
      "Tnf   = total number of function evaluations\n",
      "Tnint = total number of segments explored during Cauchy searches\n",
      "Skip  = number of BFGS updates skipped\n",
      "Nact  = number of active bounds at final generalized Cauchy point\n",
      "Projg = norm of the final projected gradient\n",
      "F     = final function value\n",
      "\n",
      "           * * *\n",
      "\n",
      "   N    Tit     Tnf  Tnint  Skip  Nact     Projg        F\n",
      "   18     50     59      1     0     0   2.737D-03   4.376D+00\n",
      "  F =   4.3760602499107799     \n",
      "\n",
      "STOP: TOTAL NO. of ITERATIONS REACHED LIMIT                 \n",
      "RUNNING THE L-BFGS-B CODE\n",
      "\n",
      "           * * *\n",
      "\n",
      "Machine precision = 2.220D-16\n",
      " N =           18     M =           10\n",
      "\n",
      "At X0         0 variables are exactly at the bounds\n",
      "\n",
      "At iterate    0    f=  4.78545D+00    |proj g|=  3.56886D-02\n"
     ]
    },
    {
     "name": "stderr",
     "output_type": "stream",
     "text": [
      " This problem is unconstrained.\n"
     ]
    },
    {
     "name": "stdout",
     "output_type": "stream",
     "text": [
      "\n",
      "At iterate    5    f=  4.68472D+00    |proj g|=  9.71146D-02\n",
      "\n",
      "At iterate   10    f=  4.50558D+00    |proj g|=  1.33617D-01\n",
      "\n",
      "At iterate   15    f=  4.40938D+00    |proj g|=  2.62753D-02\n",
      "\n",
      "At iterate   20    f=  4.39640D+00    |proj g|=  4.41456D-03\n",
      "\n",
      "At iterate   25    f=  4.39183D+00    |proj g|=  4.34591D-02\n",
      "\n",
      "At iterate   30    f=  4.38336D+00    |proj g|=  1.64585D-02\n",
      "\n",
      "At iterate   35    f=  4.37841D+00    |proj g|=  6.40376D-03\n",
      "\n",
      "At iterate   40    f=  4.37716D+00    |proj g|=  3.26386D-03\n",
      "\n",
      "At iterate   45    f=  4.37614D+00    |proj g|=  1.90084D-03\n"
     ]
    },
    {
     "name": "stderr",
     "output_type": "stream",
     "text": [
      "/opt/conda/lib/python3.10/site-packages/statsmodels/base/model.py:604: ConvergenceWarning:\n",
      "\n",
      "Maximum Likelihood optimization failed to converge. Check mle_retvals\n",
      "\n"
     ]
    },
    {
     "name": "stdout",
     "output_type": "stream",
     "text": [
      "\n",
      "At iterate   50    f=  4.37587D+00    |proj g|=  1.29542D-03\n",
      "\n",
      "           * * *\n",
      "\n",
      "Tit   = total number of iterations\n",
      "Tnf   = total number of function evaluations\n",
      "Tnint = total number of segments explored during Cauchy searches\n",
      "Skip  = number of BFGS updates skipped\n",
      "Nact  = number of active bounds at final generalized Cauchy point\n",
      "Projg = norm of the final projected gradient\n",
      "F     = final function value\n",
      "\n",
      "           * * *\n",
      "\n",
      "   N    Tit     Tnf  Tnint  Skip  Nact     Projg        F\n",
      "   18     50     57      1     0     0   1.295D-03   4.376D+00\n",
      "  F =   4.3758659234219612     \n",
      "\n",
      "STOP: TOTAL NO. of ITERATIONS REACHED LIMIT                 \n"
     ]
    },
    {
     "name": "stderr",
     "output_type": "stream",
     "text": [
      " This problem is unconstrained.\n"
     ]
    },
    {
     "name": "stdout",
     "output_type": "stream",
     "text": [
      "RUNNING THE L-BFGS-B CODE\n",
      "\n",
      "           * * *\n",
      "\n",
      "Machine precision = 2.220D-16\n",
      " N =           18     M =           10\n",
      "\n",
      "At X0         0 variables are exactly at the bounds\n",
      "\n",
      "At iterate    0    f=  4.79407D+00    |proj g|=  3.50777D-02\n",
      "\n",
      "At iterate    5    f=  4.65708D+00    |proj g|=  1.51042D-01\n",
      "\n",
      "At iterate   10    f=  4.43088D+00    |proj g|=  2.13424D-02\n",
      "\n",
      "At iterate   15    f=  4.40911D+00    |proj g|=  2.33481D-02\n",
      "\n",
      "At iterate   20    f=  4.39770D+00    |proj g|=  1.61378D-02\n",
      "\n",
      "At iterate   25    f=  4.38437D+00    |proj g|=  9.15380D-03\n",
      "\n",
      "At iterate   30    f=  4.38170D+00    |proj g|=  1.93227D-02\n",
      "\n",
      "At iterate   35    f=  4.37994D+00    |proj g|=  1.12262D-02\n",
      "\n",
      "At iterate   40    f=  4.37813D+00    |proj g|=  1.08124D-02\n",
      "\n",
      "At iterate   45    f=  4.37761D+00    |proj g|=  4.24521D-03\n"
     ]
    },
    {
     "name": "stderr",
     "output_type": "stream",
     "text": [
      "/opt/conda/lib/python3.10/site-packages/statsmodels/base/model.py:604: ConvergenceWarning:\n",
      "\n",
      "Maximum Likelihood optimization failed to converge. Check mle_retvals\n",
      "\n"
     ]
    },
    {
     "name": "stdout",
     "output_type": "stream",
     "text": [
      "\n",
      "At iterate   50    f=  4.37745D+00    |proj g|=  2.86370D-03\n",
      "\n",
      "           * * *\n",
      "\n",
      "Tit   = total number of iterations\n",
      "Tnf   = total number of function evaluations\n",
      "Tnint = total number of segments explored during Cauchy searches\n",
      "Skip  = number of BFGS updates skipped\n",
      "Nact  = number of active bounds at final generalized Cauchy point\n",
      "Projg = norm of the final projected gradient\n",
      "F     = final function value\n",
      "\n",
      "           * * *\n",
      "\n",
      "   N    Tit     Tnf  Tnint  Skip  Nact     Projg        F\n",
      "   18     50     60      1     0     0   2.864D-03   4.377D+00\n",
      "  F =   4.3774467492159319     \n",
      "\n",
      "STOP: TOTAL NO. of ITERATIONS REACHED LIMIT                 \n",
      "RUNNING THE L-BFGS-B CODE\n",
      "\n",
      "           * * *\n",
      "\n",
      "Machine precision = 2.220D-16\n",
      " N =           18     M =           10\n",
      "\n",
      "At X0         0 variables are exactly at the bounds\n",
      "\n",
      "At iterate    0    f=  4.79080D+00    |proj g|=  3.53544D-02\n"
     ]
    },
    {
     "name": "stderr",
     "output_type": "stream",
     "text": [
      " This problem is unconstrained.\n"
     ]
    },
    {
     "name": "stdout",
     "output_type": "stream",
     "text": [
      "\n",
      "At iterate    5    f=  4.62375D+00    |proj g|=  1.00632D-01\n",
      "\n",
      "At iterate   10    f=  4.50624D+00    |proj g|=  1.08488D-01\n",
      "\n",
      "At iterate   15    f=  4.44141D+00    |proj g|=  1.20422D-01\n",
      "\n",
      "At iterate   20    f=  4.40628D+00    |proj g|=  8.85694D-03\n",
      "\n",
      "At iterate   25    f=  4.40067D+00    |proj g|=  6.63525D-03\n",
      "\n",
      "At iterate   30    f=  4.39149D+00    |proj g|=  3.02789D-02\n",
      "\n",
      "At iterate   35    f=  4.38661D+00    |proj g|=  2.66013D-02\n",
      "\n",
      "At iterate   40    f=  4.38441D+00    |proj g|=  2.62259D-03\n",
      "\n",
      "At iterate   45    f=  4.38318D+00    |proj g|=  1.72801D-03\n"
     ]
    },
    {
     "name": "stderr",
     "output_type": "stream",
     "text": [
      "/opt/conda/lib/python3.10/site-packages/statsmodels/base/model.py:604: ConvergenceWarning:\n",
      "\n",
      "Maximum Likelihood optimization failed to converge. Check mle_retvals\n",
      "\n"
     ]
    },
    {
     "name": "stdout",
     "output_type": "stream",
     "text": [
      "\n",
      "At iterate   50    f=  4.38290D+00    |proj g|=  3.22306D-03\n",
      "\n",
      "           * * *\n",
      "\n",
      "Tit   = total number of iterations\n",
      "Tnf   = total number of function evaluations\n",
      "Tnint = total number of segments explored during Cauchy searches\n",
      "Skip  = number of BFGS updates skipped\n",
      "Nact  = number of active bounds at final generalized Cauchy point\n",
      "Projg = norm of the final projected gradient\n",
      "F     = final function value\n",
      "\n",
      "           * * *\n",
      "\n",
      "   N    Tit     Tnf  Tnint  Skip  Nact     Projg        F\n",
      "   18     50     61      1     0     0   3.223D-03   4.383D+00\n",
      "  F =   4.3828956436314659     \n",
      "\n",
      "STOP: TOTAL NO. of ITERATIONS REACHED LIMIT                 \n"
     ]
    },
    {
     "name": "stderr",
     "output_type": "stream",
     "text": [
      " This problem is unconstrained.\n"
     ]
    },
    {
     "name": "stdout",
     "output_type": "stream",
     "text": [
      "RUNNING THE L-BFGS-B CODE\n",
      "\n",
      "           * * *\n",
      "\n",
      "Machine precision = 2.220D-16\n",
      " N =           18     M =           10\n",
      "\n",
      "At X0         0 variables are exactly at the bounds\n",
      "\n",
      "At iterate    0    f=  4.78748D+00    |proj g|=  3.58246D-02\n",
      "\n",
      "At iterate    5    f=  4.69576D+00    |proj g|=  4.49908D-01\n",
      "\n",
      "At iterate   10    f=  4.47825D+00    |proj g|=  1.38472D-01\n",
      "\n",
      "At iterate   15    f=  4.43510D+00    |proj g|=  8.58531D-02\n",
      "\n",
      "At iterate   20    f=  4.41796D+00    |proj g|=  1.31894D-02\n",
      "\n",
      "At iterate   25    f=  4.40679D+00    |proj g|=  2.49939D-02\n",
      "\n",
      "At iterate   30    f=  4.39666D+00    |proj g|=  1.00241D-02\n",
      "\n",
      "At iterate   35    f=  4.39338D+00    |proj g|=  3.20697D-03\n",
      "\n",
      "At iterate   40    f=  4.39220D+00    |proj g|=  2.25609D-03\n",
      "\n",
      "At iterate   45    f=  4.39148D+00    |proj g|=  1.01549D-02\n"
     ]
    },
    {
     "name": "stderr",
     "output_type": "stream",
     "text": [
      "/opt/conda/lib/python3.10/site-packages/statsmodels/base/model.py:604: ConvergenceWarning:\n",
      "\n",
      "Maximum Likelihood optimization failed to converge. Check mle_retvals\n",
      "\n"
     ]
    },
    {
     "name": "stdout",
     "output_type": "stream",
     "text": [
      "\n",
      "At iterate   50    f=  4.39089D+00    |proj g|=  7.06313D-03\n",
      "\n",
      "           * * *\n",
      "\n",
      "Tit   = total number of iterations\n",
      "Tnf   = total number of function evaluations\n",
      "Tnint = total number of segments explored during Cauchy searches\n",
      "Skip  = number of BFGS updates skipped\n",
      "Nact  = number of active bounds at final generalized Cauchy point\n",
      "Projg = norm of the final projected gradient\n",
      "F     = final function value\n",
      "\n",
      "           * * *\n",
      "\n",
      "   N    Tit     Tnf  Tnint  Skip  Nact     Projg        F\n",
      "   18     50     59      1     0     0   7.063D-03   4.391D+00\n",
      "  F =   4.3908871610936080     \n",
      "\n",
      "STOP: TOTAL NO. of ITERATIONS REACHED LIMIT                 \n"
     ]
    },
    {
     "name": "stderr",
     "output_type": "stream",
     "text": [
      " This problem is unconstrained.\n"
     ]
    },
    {
     "name": "stdout",
     "output_type": "stream",
     "text": [
      "RUNNING THE L-BFGS-B CODE\n",
      "\n",
      "           * * *\n",
      "\n",
      "Machine precision = 2.220D-16\n",
      " N =           18     M =           10\n",
      "\n",
      "At X0         0 variables are exactly at the bounds\n",
      "\n",
      "At iterate    0    f=  4.77796D+00    |proj g|=  3.37019D-02\n",
      "\n",
      "At iterate    5    f=  4.67703D+00    |proj g|=  1.86948D-01\n",
      "\n",
      "At iterate   10    f=  4.48766D+00    |proj g|=  5.02258D-02\n",
      "\n",
      "At iterate   15    f=  4.44306D+00    |proj g|=  9.21100D-02\n",
      "\n",
      "At iterate   20    f=  4.41921D+00    |proj g|=  9.36448D-03\n",
      "\n",
      "At iterate   25    f=  4.41144D+00    |proj g|=  1.90993D-02\n",
      "\n",
      "At iterate   30    f=  4.39412D+00    |proj g|=  7.02547D-03\n",
      "\n",
      "At iterate   35    f=  4.38870D+00    |proj g|=  1.97623D-03\n",
      "\n",
      "At iterate   40    f=  4.38757D+00    |proj g|=  4.61003D-03\n",
      "\n",
      "At iterate   45    f=  4.38740D+00    |proj g|=  1.63398D-03\n"
     ]
    },
    {
     "name": "stderr",
     "output_type": "stream",
     "text": [
      "/opt/conda/lib/python3.10/site-packages/statsmodels/base/model.py:604: ConvergenceWarning:\n",
      "\n",
      "Maximum Likelihood optimization failed to converge. Check mle_retvals\n",
      "\n"
     ]
    },
    {
     "name": "stdout",
     "output_type": "stream",
     "text": [
      "\n",
      "At iterate   50    f=  4.38735D+00    |proj g|=  1.13753D-03\n",
      "\n",
      "           * * *\n",
      "\n",
      "Tit   = total number of iterations\n",
      "Tnf   = total number of function evaluations\n",
      "Tnint = total number of segments explored during Cauchy searches\n",
      "Skip  = number of BFGS updates skipped\n",
      "Nact  = number of active bounds at final generalized Cauchy point\n",
      "Projg = norm of the final projected gradient\n",
      "F     = final function value\n",
      "\n",
      "           * * *\n",
      "\n",
      "   N    Tit     Tnf  Tnint  Skip  Nact     Projg        F\n",
      "   18     50     71      1     0     0   1.138D-03   4.387D+00\n",
      "  F =   4.3873516889352038     \n",
      "\n",
      "STOP: TOTAL NO. of ITERATIONS REACHED LIMIT                 \n",
      "RUNNING THE L-BFGS-B CODE\n",
      "\n",
      "           * * *\n",
      "\n",
      "Machine precision = 2.220D-16\n",
      " N =           18     M =           10\n",
      "\n",
      "At X0         0 variables are exactly at the bounds\n",
      "\n",
      "At iterate    0    f=  4.77070D+00    |proj g|=  3.53355D-02\n"
     ]
    },
    {
     "name": "stderr",
     "output_type": "stream",
     "text": [
      " This problem is unconstrained.\n"
     ]
    },
    {
     "name": "stdout",
     "output_type": "stream",
     "text": [
      "\n",
      "At iterate    5    f=  4.65046D+00    |proj g|=  1.40670D-01\n",
      "\n",
      "At iterate   10    f=  4.45537D+00    |proj g|=  8.64710D-02\n",
      "\n",
      "At iterate   15    f=  4.42543D+00    |proj g|=  3.78261D-02\n",
      "\n",
      "At iterate   20    f=  4.41529D+00    |proj g|=  8.84811D-03\n",
      "\n",
      "At iterate   25    f=  4.39761D+00    |proj g|=  1.94517D-02\n",
      "\n",
      "At iterate   30    f=  4.39120D+00    |proj g|=  8.47373D-03\n",
      "\n",
      "At iterate   35    f=  4.38867D+00    |proj g|=  1.23365D-02\n",
      "\n",
      "At iterate   40    f=  4.38623D+00    |proj g|=  3.18114D-03\n",
      "\n",
      "At iterate   45    f=  4.38515D+00    |proj g|=  8.01019D-03\n"
     ]
    },
    {
     "name": "stderr",
     "output_type": "stream",
     "text": [
      "/opt/conda/lib/python3.10/site-packages/statsmodels/base/model.py:604: ConvergenceWarning:\n",
      "\n",
      "Maximum Likelihood optimization failed to converge. Check mle_retvals\n",
      "\n"
     ]
    },
    {
     "name": "stdout",
     "output_type": "stream",
     "text": [
      "\n",
      "At iterate   50    f=  4.38458D+00    |proj g|=  5.86420D-03\n",
      "\n",
      "           * * *\n",
      "\n",
      "Tit   = total number of iterations\n",
      "Tnf   = total number of function evaluations\n",
      "Tnint = total number of segments explored during Cauchy searches\n",
      "Skip  = number of BFGS updates skipped\n",
      "Nact  = number of active bounds at final generalized Cauchy point\n",
      "Projg = norm of the final projected gradient\n",
      "F     = final function value\n",
      "\n",
      "           * * *\n",
      "\n",
      "   N    Tit     Tnf  Tnint  Skip  Nact     Projg        F\n",
      "   18     50     65      1     0     0   5.864D-03   4.385D+00\n",
      "  F =   4.3845795860098171     \n",
      "\n",
      "STOP: TOTAL NO. of ITERATIONS REACHED LIMIT                 \n"
     ]
    },
    {
     "name": "stderr",
     "output_type": "stream",
     "text": [
      " This problem is unconstrained.\n"
     ]
    },
    {
     "name": "stdout",
     "output_type": "stream",
     "text": [
      "RUNNING THE L-BFGS-B CODE\n",
      "\n",
      "           * * *\n",
      "\n",
      "Machine precision = 2.220D-16\n",
      " N =           18     M =           10\n",
      "\n",
      "At X0         0 variables are exactly at the bounds\n",
      "\n",
      "At iterate    0    f=  4.79344D+00    |proj g|=  3.01112D-02\n",
      "\n",
      "At iterate    5    f=  4.65101D+00    |proj g|=  5.03029D-02\n",
      "\n",
      "At iterate   10    f=  4.50463D+00    |proj g|=  2.82526D-02\n",
      "\n",
      "At iterate   15    f=  4.48800D+00    |proj g|=  9.64049D-04\n",
      "\n",
      "At iterate   20    f=  4.48712D+00    |proj g|=  6.05140D-03\n",
      "  ys=-1.519E-04  -gs= 2.997E-03 BFGS update SKIPPED\n",
      "\n",
      "At iterate   25    f=  4.46867D+00    |proj g|=  1.12087D-01\n",
      "\n",
      "At iterate   30    f=  4.43784D+00    |proj g|=  8.62916D-02\n",
      "\n",
      "At iterate   35    f=  4.41880D+00    |proj g|=  2.77483D-02\n",
      "\n",
      "At iterate   40    f=  4.41198D+00    |proj g|=  8.50150D-03\n",
      "\n",
      "At iterate   45    f=  4.40949D+00    |proj g|=  2.76435D-03\n"
     ]
    },
    {
     "name": "stderr",
     "output_type": "stream",
     "text": [
      "/opt/conda/lib/python3.10/site-packages/statsmodels/base/model.py:604: ConvergenceWarning:\n",
      "\n",
      "Maximum Likelihood optimization failed to converge. Check mle_retvals\n",
      "\n"
     ]
    },
    {
     "name": "stdout",
     "output_type": "stream",
     "text": [
      "\n",
      "At iterate   50    f=  4.40750D+00    |proj g|=  1.23438D-02\n",
      "\n",
      "           * * *\n",
      "\n",
      "Tit   = total number of iterations\n",
      "Tnf   = total number of function evaluations\n",
      "Tnint = total number of segments explored during Cauchy searches\n",
      "Skip  = number of BFGS updates skipped\n",
      "Nact  = number of active bounds at final generalized Cauchy point\n",
      "Projg = norm of the final projected gradient\n",
      "F     = final function value\n",
      "\n",
      "           * * *\n",
      "\n",
      "   N    Tit     Tnf  Tnint  Skip  Nact     Projg        F\n",
      "   18     50     67      1     1     0   1.234D-02   4.408D+00\n",
      "  F =   4.4075003763261043     \n",
      "\n",
      "STOP: TOTAL NO. of ITERATIONS REACHED LIMIT                 \n",
      "RUNNING THE L-BFGS-B CODE\n",
      "\n",
      "           * * *\n",
      "\n",
      "Machine precision = 2.220D-16\n",
      " N =           18     M =           10\n",
      "\n",
      "At X0         0 variables are exactly at the bounds\n",
      "\n",
      "At iterate    0    f=  4.79339D+00    |proj g|=  3.00399D-02\n"
     ]
    },
    {
     "name": "stderr",
     "output_type": "stream",
     "text": [
      " This problem is unconstrained.\n"
     ]
    },
    {
     "name": "stdout",
     "output_type": "stream",
     "text": [
      "\n",
      "At iterate    5    f=  4.66977D+00    |proj g|=  6.94833D-02\n",
      "\n",
      "At iterate   10    f=  4.51782D+00    |proj g|=  3.15130D-02\n",
      "\n",
      "At iterate   15    f=  4.48958D+00    |proj g|=  2.98435D-03\n",
      "\n",
      "At iterate   20    f=  4.47303D+00    |proj g|=  1.20443D-01\n",
      "\n",
      "At iterate   25    f=  4.43260D+00    |proj g|=  1.01152D-01\n",
      "\n",
      "At iterate   30    f=  4.41682D+00    |proj g|=  3.56388D-03\n",
      "\n",
      "At iterate   35    f=  4.41215D+00    |proj g|=  6.91231D-03\n",
      "\n",
      "At iterate   40    f=  4.41049D+00    |proj g|=  2.10693D-03\n",
      "\n",
      "At iterate   45    f=  4.40845D+00    |proj g|=  9.83823D-03\n"
     ]
    },
    {
     "name": "stderr",
     "output_type": "stream",
     "text": [
      "/opt/conda/lib/python3.10/site-packages/statsmodels/base/model.py:604: ConvergenceWarning:\n",
      "\n",
      "Maximum Likelihood optimization failed to converge. Check mle_retvals\n",
      "\n"
     ]
    },
    {
     "name": "stdout",
     "output_type": "stream",
     "text": [
      "\n",
      "At iterate   50    f=  4.40311D+00    |proj g|=  1.03652D-02\n",
      "\n",
      "           * * *\n",
      "\n",
      "Tit   = total number of iterations\n",
      "Tnf   = total number of function evaluations\n",
      "Tnint = total number of segments explored during Cauchy searches\n",
      "Skip  = number of BFGS updates skipped\n",
      "Nact  = number of active bounds at final generalized Cauchy point\n",
      "Projg = norm of the final projected gradient\n",
      "F     = final function value\n",
      "\n",
      "           * * *\n",
      "\n",
      "   N    Tit     Tnf  Tnint  Skip  Nact     Projg        F\n",
      "   18     50     70      1     0     0   1.037D-02   4.403D+00\n",
      "  F =   4.4031082777279185     \n",
      "\n",
      "STOP: TOTAL NO. of ITERATIONS REACHED LIMIT                 \n",
      "RUNNING THE L-BFGS-B CODE\n",
      "\n",
      "           * * *\n",
      "\n",
      "Machine precision = 2.220D-16\n",
      " N =           18     M =           10\n",
      "\n",
      "At X0         0 variables are exactly at the bounds\n",
      "\n",
      "At iterate    0    f=  4.79319D+00    |proj g|=  2.97649D-02\n"
     ]
    },
    {
     "name": "stderr",
     "output_type": "stream",
     "text": [
      " This problem is unconstrained.\n"
     ]
    },
    {
     "name": "stdout",
     "output_type": "stream",
     "text": [
      "\n",
      "At iterate    5    f=  4.67659D+00    |proj g|=  8.08367D-02\n",
      "\n",
      "At iterate   10    f=  4.52206D+00    |proj g|=  4.18236D-02\n",
      "\n",
      "At iterate   15    f=  4.49202D+00    |proj g|=  6.54001D-03\n",
      "\n",
      "At iterate   20    f=  4.48964D+00    |proj g|=  3.49124D-03\n",
      "  ys=-8.299E-03  -gs= 4.159E-03 BFGS update SKIPPED\n",
      "\n",
      "At iterate   25    f=  4.47504D+00    |proj g|=  1.37660D-01\n",
      "\n",
      "At iterate   30    f=  4.42688D+00    |proj g|=  2.53331D-02\n",
      "\n",
      "At iterate   35    f=  4.41594D+00    |proj g|=  2.22999D-02\n",
      "\n",
      "At iterate   40    f=  4.41369D+00    |proj g|=  1.50852D-02\n",
      "\n",
      "At iterate   45    f=  4.41120D+00    |proj g|=  1.14617D-02\n"
     ]
    },
    {
     "name": "stderr",
     "output_type": "stream",
     "text": [
      "/opt/conda/lib/python3.10/site-packages/statsmodels/base/model.py:604: ConvergenceWarning:\n",
      "\n",
      "Maximum Likelihood optimization failed to converge. Check mle_retvals\n",
      "\n"
     ]
    },
    {
     "name": "stdout",
     "output_type": "stream",
     "text": [
      "\n",
      "At iterate   50    f=  4.40917D+00    |proj g|=  1.75647D-03\n",
      "\n",
      "           * * *\n",
      "\n",
      "Tit   = total number of iterations\n",
      "Tnf   = total number of function evaluations\n",
      "Tnint = total number of segments explored during Cauchy searches\n",
      "Skip  = number of BFGS updates skipped\n",
      "Nact  = number of active bounds at final generalized Cauchy point\n",
      "Projg = norm of the final projected gradient\n",
      "F     = final function value\n",
      "\n",
      "           * * *\n",
      "\n",
      "   N    Tit     Tnf  Tnint  Skip  Nact     Projg        F\n",
      "   18     50     70      1     1     0   1.756D-03   4.409D+00\n",
      "  F =   4.4091714187252897     \n",
      "\n",
      "STOP: TOTAL NO. of ITERATIONS REACHED LIMIT                 \n"
     ]
    },
    {
     "name": "stderr",
     "output_type": "stream",
     "text": [
      " This problem is unconstrained.\n"
     ]
    },
    {
     "name": "stdout",
     "output_type": "stream",
     "text": [
      "RUNNING THE L-BFGS-B CODE\n",
      "\n",
      "           * * *\n",
      "\n",
      "Machine precision = 2.220D-16\n",
      " N =           18     M =           10\n",
      "\n",
      "At X0         0 variables are exactly at the bounds\n",
      "\n",
      "At iterate    0    f=  4.79200D+00    |proj g|=  3.20420D-02\n",
      "\n",
      "At iterate    5    f=  4.69925D+00    |proj g|=  2.31796D-01\n",
      "\n",
      "At iterate   10    f=  4.52259D+00    |proj g|=  1.59725D-01\n",
      "\n",
      "At iterate   15    f=  4.44456D+00    |proj g|=  6.25703D-02\n",
      "\n",
      "At iterate   20    f=  4.43337D+00    |proj g|=  1.91210D-02\n",
      "\n",
      "At iterate   25    f=  4.41812D+00    |proj g|=  2.16447D-02\n",
      "\n",
      "At iterate   30    f=  4.40736D+00    |proj g|=  1.86304D-02\n",
      "\n",
      "At iterate   35    f=  4.40279D+00    |proj g|=  1.21981D-02\n",
      "\n",
      "At iterate   40    f=  4.37360D+00    |proj g|=  3.55573D-02\n",
      "\n",
      "At iterate   45    f=  4.36521D+00    |proj g|=  2.45133D-02\n"
     ]
    },
    {
     "name": "stderr",
     "output_type": "stream",
     "text": [
      "/opt/conda/lib/python3.10/site-packages/statsmodels/base/model.py:604: ConvergenceWarning:\n",
      "\n",
      "Maximum Likelihood optimization failed to converge. Check mle_retvals\n",
      "\n"
     ]
    },
    {
     "name": "stdout",
     "output_type": "stream",
     "text": [
      "\n",
      "At iterate   50    f=  4.35652D+00    |proj g|=  1.45697D-02\n",
      "\n",
      "           * * *\n",
      "\n",
      "Tit   = total number of iterations\n",
      "Tnf   = total number of function evaluations\n",
      "Tnint = total number of segments explored during Cauchy searches\n",
      "Skip  = number of BFGS updates skipped\n",
      "Nact  = number of active bounds at final generalized Cauchy point\n",
      "Projg = norm of the final projected gradient\n",
      "F     = final function value\n",
      "\n",
      "           * * *\n",
      "\n",
      "   N    Tit     Tnf  Tnint  Skip  Nact     Projg        F\n",
      "   18     50     69      1     0     0   1.457D-02   4.357D+00\n",
      "  F =   4.3565152632438133     \n",
      "\n",
      "STOP: TOTAL NO. of ITERATIONS REACHED LIMIT                 \n",
      "RUNNING THE L-BFGS-B CODE\n",
      "\n",
      "           * * *\n",
      "\n",
      "Machine precision = 2.220D-16\n",
      " N =           18     M =           10\n",
      "\n",
      "At X0         0 variables are exactly at the bounds\n",
      "\n",
      "At iterate    0    f=  4.80729D+00    |proj g|=  2.89908D-02\n"
     ]
    },
    {
     "name": "stderr",
     "output_type": "stream",
     "text": [
      " This problem is unconstrained.\n"
     ]
    },
    {
     "name": "stdout",
     "output_type": "stream",
     "text": [
      "\n",
      "At iterate    5    f=  4.68446D+00    |proj g|=  3.51881D-01\n",
      "\n",
      "At iterate   10    f=  4.51276D+00    |proj g|=  1.14228D-01\n",
      "\n",
      "At iterate   15    f=  4.46448D+00    |proj g|=  6.61744D-02\n",
      "\n",
      "At iterate   20    f=  4.44630D+00    |proj g|=  6.02799D-03\n",
      "\n",
      "At iterate   25    f=  4.44020D+00    |proj g|=  3.26911D-02\n",
      "\n",
      "At iterate   30    f=  4.42929D+00    |proj g|=  1.25841D-02\n",
      "\n",
      "At iterate   35    f=  4.42341D+00    |proj g|=  1.35943D-02\n",
      "\n",
      "At iterate   40    f=  4.42089D+00    |proj g|=  9.71153D-03\n",
      "\n",
      "At iterate   45    f=  4.41959D+00    |proj g|=  1.09632D-02\n"
     ]
    },
    {
     "name": "stderr",
     "output_type": "stream",
     "text": [
      "/opt/conda/lib/python3.10/site-packages/statsmodels/base/model.py:604: ConvergenceWarning:\n",
      "\n",
      "Maximum Likelihood optimization failed to converge. Check mle_retvals\n",
      "\n"
     ]
    },
    {
     "name": "stdout",
     "output_type": "stream",
     "text": [
      "\n",
      "At iterate   50    f=  4.41860D+00    |proj g|=  1.20714D-02\n",
      "\n",
      "           * * *\n",
      "\n",
      "Tit   = total number of iterations\n",
      "Tnf   = total number of function evaluations\n",
      "Tnint = total number of segments explored during Cauchy searches\n",
      "Skip  = number of BFGS updates skipped\n",
      "Nact  = number of active bounds at final generalized Cauchy point\n",
      "Projg = norm of the final projected gradient\n",
      "F     = final function value\n",
      "\n",
      "           * * *\n",
      "\n",
      "   N    Tit     Tnf  Tnint  Skip  Nact     Projg        F\n",
      "   18     50     59      1     0     0   1.207D-02   4.419D+00\n",
      "  F =   4.4186029244941860     \n",
      "\n",
      "STOP: TOTAL NO. of ITERATIONS REACHED LIMIT                 \n"
     ]
    },
    {
     "name": "stderr",
     "output_type": "stream",
     "text": [
      " This problem is unconstrained.\n"
     ]
    },
    {
     "name": "stdout",
     "output_type": "stream",
     "text": [
      "RUNNING THE L-BFGS-B CODE\n",
      "\n",
      "           * * *\n",
      "\n",
      "Machine precision = 2.220D-16\n",
      " N =           18     M =           10\n",
      "\n",
      "At X0         0 variables are exactly at the bounds\n",
      "\n",
      "At iterate    0    f=  4.81066D+00    |proj g|=  2.72099D-02\n",
      "\n",
      "At iterate    5    f=  4.69617D+00    |proj g|=  1.39895D-01\n",
      "\n",
      "At iterate   10    f=  4.51792D+00    |proj g|=  2.84128D-02\n",
      "\n",
      "At iterate   15    f=  4.50488D+00    |proj g|=  5.63375D-03\n",
      "\n",
      "At iterate   20    f=  4.49265D+00    |proj g|=  8.46356D-02\n",
      "\n",
      "At iterate   25    f=  4.46096D+00    |proj g|=  9.08439D-02\n",
      "\n",
      "At iterate   30    f=  4.43992D+00    |proj g|=  2.07499D-02\n",
      "\n",
      "At iterate   35    f=  4.43344D+00    |proj g|=  1.09533D-02\n",
      "\n",
      "At iterate   40    f=  4.43084D+00    |proj g|=  1.17952D-02\n",
      "\n",
      "At iterate   45    f=  4.42790D+00    |proj g|=  1.48540D-02\n"
     ]
    },
    {
     "name": "stderr",
     "output_type": "stream",
     "text": [
      "/opt/conda/lib/python3.10/site-packages/statsmodels/base/model.py:604: ConvergenceWarning:\n",
      "\n",
      "Maximum Likelihood optimization failed to converge. Check mle_retvals\n",
      "\n"
     ]
    },
    {
     "name": "stdout",
     "output_type": "stream",
     "text": [
      "\n",
      "At iterate   50    f=  4.42602D+00    |proj g|=  7.22803D-03\n",
      "\n",
      "           * * *\n",
      "\n",
      "Tit   = total number of iterations\n",
      "Tnf   = total number of function evaluations\n",
      "Tnint = total number of segments explored during Cauchy searches\n",
      "Skip  = number of BFGS updates skipped\n",
      "Nact  = number of active bounds at final generalized Cauchy point\n",
      "Projg = norm of the final projected gradient\n",
      "F     = final function value\n",
      "\n",
      "           * * *\n",
      "\n",
      "   N    Tit     Tnf  Tnint  Skip  Nact     Projg        F\n",
      "   18     50     67      1     0     0   7.228D-03   4.426D+00\n",
      "  F =   4.4260211159889691     \n",
      "\n",
      "STOP: TOTAL NO. of ITERATIONS REACHED LIMIT                 \n"
     ]
    },
    {
     "name": "stderr",
     "output_type": "stream",
     "text": [
      " This problem is unconstrained.\n"
     ]
    },
    {
     "name": "stdout",
     "output_type": "stream",
     "text": [
      "RUNNING THE L-BFGS-B CODE\n",
      "\n",
      "           * * *\n",
      "\n",
      "Machine precision = 2.220D-16\n",
      " N =           18     M =           10\n",
      "\n",
      "At X0         0 variables are exactly at the bounds\n",
      "\n",
      "At iterate    0    f=  4.81739D+00    |proj g|=  2.76842D-02\n",
      "\n",
      "At iterate    5    f=  4.67861D+00    |proj g|=  6.78724D-02\n",
      "\n",
      "At iterate   10    f=  4.53185D+00    |proj g|=  2.96068D-02\n",
      "\n",
      "At iterate   15    f=  4.50665D+00    |proj g|=  3.13161D-03\n",
      "\n",
      "At iterate   20    f=  4.50555D+00    |proj g|=  2.69011D-03\n",
      "\n",
      "At iterate   25    f=  4.50491D+00    |proj g|=  6.21931D-03\n",
      "\n",
      "At iterate   30    f=  4.50162D+00    |proj g|=  1.08937D-01\n",
      "\n",
      "At iterate   35    f=  4.46196D+00    |proj g|=  8.75467D-02\n",
      "\n",
      "At iterate   40    f=  4.43948D+00    |proj g|=  3.34299D-02\n",
      "\n",
      "At iterate   45    f=  4.43514D+00    |proj g|=  7.85135D-03\n"
     ]
    },
    {
     "name": "stderr",
     "output_type": "stream",
     "text": [
      "/opt/conda/lib/python3.10/site-packages/statsmodels/base/model.py:604: ConvergenceWarning:\n",
      "\n",
      "Maximum Likelihood optimization failed to converge. Check mle_retvals\n",
      "\n"
     ]
    },
    {
     "name": "stdout",
     "output_type": "stream",
     "text": [
      "\n",
      "At iterate   50    f=  4.43384D+00    |proj g|=  2.78121D-03\n",
      "\n",
      "           * * *\n",
      "\n",
      "Tit   = total number of iterations\n",
      "Tnf   = total number of function evaluations\n",
      "Tnint = total number of segments explored during Cauchy searches\n",
      "Skip  = number of BFGS updates skipped\n",
      "Nact  = number of active bounds at final generalized Cauchy point\n",
      "Projg = norm of the final projected gradient\n",
      "F     = final function value\n",
      "\n",
      "           * * *\n",
      "\n",
      "   N    Tit     Tnf  Tnint  Skip  Nact     Projg        F\n",
      "   18     50     68      1     0     0   2.781D-03   4.434D+00\n",
      "  F =   4.4338427256846291     \n",
      "\n",
      "STOP: TOTAL NO. of ITERATIONS REACHED LIMIT                 \n",
      "RUNNING THE L-BFGS-B CODE\n",
      "\n",
      "           * * *\n",
      "\n",
      "Machine precision = 2.220D-16\n",
      " N =           18     M =           10\n",
      "\n",
      "At X0         0 variables are exactly at the bounds\n",
      "\n",
      "At iterate    0    f=  4.80217D+00    |proj g|=  3.06331D-02\n"
     ]
    },
    {
     "name": "stderr",
     "output_type": "stream",
     "text": [
      " This problem is unconstrained.\n"
     ]
    },
    {
     "name": "stdout",
     "output_type": "stream",
     "text": [
      "\n",
      "At iterate    5    f=  4.71564D+00    |proj g|=  3.05878D-01\n",
      "\n",
      "At iterate   10    f=  4.49578D+00    |proj g|=  5.07442D-02\n",
      "\n",
      "At iterate   15    f=  4.44854D+00    |proj g|=  1.54354D-02\n",
      "\n",
      "At iterate   20    f=  4.44166D+00    |proj g|=  1.33408D-02\n",
      "\n",
      "At iterate   25    f=  4.42575D+00    |proj g|=  9.49881D-03\n",
      "\n",
      "At iterate   30    f=  4.41744D+00    |proj g|=  1.41475D-02\n",
      "\n",
      "At iterate   35    f=  4.41374D+00    |proj g|=  1.12485D-02\n",
      "\n",
      "           * * *\n",
      "\n",
      "Tit   = total number of iterations\n",
      "Tnf   = total number of function evaluations\n",
      "Tnint = total number of segments explored during Cauchy searches\n",
      "Skip  = number of BFGS updates skipped\n",
      "Nact  = number of active bounds at final generalized Cauchy point\n",
      "Projg = norm of the final projected gradient\n",
      "F     = final function value\n",
      "\n",
      "           * * *\n",
      "\n",
      "   N    Tit     Tnf  Tnint  Skip  Nact     Projg        F\n",
      "   18     36     57      1     0     0   1.129D-02   4.414D+00\n",
      "  F =   4.4137352684459712     \n",
      "\n",
      "CONVERGENCE: REL_REDUCTION_OF_F_<=_FACTR*EPSMCH             \n"
     ]
    },
    {
     "name": "stderr",
     "output_type": "stream",
     "text": [
      "\n",
      " Warning:  more than 10 function and gradient\n",
      "   evaluations in the last line search.  Termination\n",
      "   may possibly be caused by a bad search direction.\n"
     ]
    },
    {
     "name": "stdout",
     "output_type": "stream",
     "text": [
      "RUNNING THE L-BFGS-B CODE\n",
      "\n",
      "           * * *\n",
      "\n",
      "Machine precision = 2.220D-16\n",
      " N =           18     M =           10\n",
      "\n",
      "At X0         0 variables are exactly at the bounds\n",
      "\n",
      "At iterate    0    f=  4.79630D+00    |proj g|=  3.18180D-02\n"
     ]
    },
    {
     "name": "stderr",
     "output_type": "stream",
     "text": [
      " This problem is unconstrained.\n"
     ]
    },
    {
     "name": "stdout",
     "output_type": "stream",
     "text": [
      "\n",
      "At iterate    5    f=  4.69498D+00    |proj g|=  2.93330D-01\n",
      "\n",
      "At iterate   10    f=  4.50945D+00    |proj g|=  1.46266D-01\n",
      "\n",
      "At iterate   15    f=  4.47385D+00    |proj g|=  2.96650D-02\n",
      "\n",
      "At iterate   20    f=  4.44758D+00    |proj g|=  7.42711D-03\n",
      "\n",
      "At iterate   25    f=  4.43269D+00    |proj g|=  1.06013D-02\n",
      "\n",
      "At iterate   30    f=  4.41848D+00    |proj g|=  2.81689D-02\n",
      "\n",
      "At iterate   35    f=  4.41615D+00    |proj g|=  1.29872D-02\n",
      "\n",
      "At iterate   40    f=  4.41109D+00    |proj g|=  1.34893D-02\n",
      "\n",
      "At iterate   45    f=  4.40091D+00    |proj g|=  6.02598D-02\n"
     ]
    },
    {
     "name": "stderr",
     "output_type": "stream",
     "text": [
      "/opt/conda/lib/python3.10/site-packages/statsmodels/base/model.py:604: ConvergenceWarning:\n",
      "\n",
      "Maximum Likelihood optimization failed to converge. Check mle_retvals\n",
      "\n"
     ]
    },
    {
     "name": "stdout",
     "output_type": "stream",
     "text": [
      "\n",
      "At iterate   50    f=  4.38382D+00    |proj g|=  4.09671D-02\n",
      "\n",
      "           * * *\n",
      "\n",
      "Tit   = total number of iterations\n",
      "Tnf   = total number of function evaluations\n",
      "Tnint = total number of segments explored during Cauchy searches\n",
      "Skip  = number of BFGS updates skipped\n",
      "Nact  = number of active bounds at final generalized Cauchy point\n",
      "Projg = norm of the final projected gradient\n",
      "F     = final function value\n",
      "\n",
      "           * * *\n",
      "\n",
      "   N    Tit     Tnf  Tnint  Skip  Nact     Projg        F\n",
      "   18     50     65      1     0     0   4.097D-02   4.384D+00\n",
      "  F =   4.3838247416640410     \n",
      "\n",
      "STOP: TOTAL NO. of ITERATIONS REACHED LIMIT                 \n"
     ]
    },
    {
     "name": "stderr",
     "output_type": "stream",
     "text": [
      " This problem is unconstrained.\n"
     ]
    },
    {
     "name": "stdout",
     "output_type": "stream",
     "text": [
      "RUNNING THE L-BFGS-B CODE\n",
      "\n",
      "           * * *\n",
      "\n",
      "Machine precision = 2.220D-16\n",
      " N =           18     M =           10\n",
      "\n",
      "At X0         0 variables are exactly at the bounds\n",
      "\n",
      "At iterate    0    f=  4.80716D+00    |proj g|=  2.82475D-02\n",
      "\n",
      "At iterate    5    f=  4.67763D+00    |proj g|=  6.63711D-02\n",
      "\n",
      "At iterate   10    f=  4.53202D+00    |proj g|=  2.91685D-02\n",
      "\n",
      "At iterate   15    f=  4.49965D+00    |proj g|=  1.30073D-03\n",
      "\n",
      "At iterate   20    f=  4.49799D+00    |proj g|=  1.06155D-02\n",
      "\n",
      "At iterate   25    f=  4.47520D+00    |proj g|=  4.83257D-02\n",
      "\n",
      "At iterate   35    f=  4.43371D+00    |proj g|=  6.13104D-03\n",
      "\n",
      "At iterate   40    f=  4.42931D+00    |proj g|=  1.81107D-02\n",
      "\n",
      "At iterate   45    f=  4.42684D+00    |proj g|=  5.98112D-03\n"
     ]
    },
    {
     "name": "stderr",
     "output_type": "stream",
     "text": [
      "/opt/conda/lib/python3.10/site-packages/statsmodels/base/model.py:604: ConvergenceWarning:\n",
      "\n",
      "Maximum Likelihood optimization failed to converge. Check mle_retvals\n",
      "\n"
     ]
    },
    {
     "name": "stdout",
     "output_type": "stream",
     "text": [
      "\n",
      "At iterate   50    f=  4.42617D+00    |proj g|=  1.22700D-02\n",
      "\n",
      "           * * *\n",
      "\n",
      "Tit   = total number of iterations\n",
      "Tnf   = total number of function evaluations\n",
      "Tnint = total number of segments explored during Cauchy searches\n",
      "Skip  = number of BFGS updates skipped\n",
      "Nact  = number of active bounds at final generalized Cauchy point\n",
      "Projg = norm of the final projected gradient\n",
      "F     = final function value\n",
      "\n",
      "           * * *\n",
      "\n",
      "   N    Tit     Tnf  Tnint  Skip  Nact     Projg        F\n",
      "   18     50     72      1     0     0   1.227D-02   4.426D+00\n",
      "  F =   4.4261712535332300     \n",
      "\n",
      "STOP: TOTAL NO. of ITERATIONS REACHED LIMIT                 \n"
     ]
    },
    {
     "name": "stderr",
     "output_type": "stream",
     "text": [
      " This problem is unconstrained.\n"
     ]
    },
    {
     "name": "stdout",
     "output_type": "stream",
     "text": [
      "RUNNING THE L-BFGS-B CODE\n",
      "\n",
      "           * * *\n",
      "\n",
      "Machine precision = 2.220D-16\n",
      " N =           18     M =           10\n",
      "\n",
      "At X0         0 variables are exactly at the bounds\n",
      "\n",
      "At iterate    0    f=  4.80304D+00    |proj g|=  3.32515D-02\n",
      "\n",
      "At iterate    5    f=  4.70462D+00    |proj g|=  1.26627D-01\n",
      "\n",
      "At iterate   10    f=  4.58944D+00    |proj g|=  6.35544D-02\n",
      "\n",
      "At iterate   15    f=  4.42340D+00    |proj g|=  1.43004D-02\n",
      "\n",
      "At iterate   20    f=  4.39092D+00    |proj g|=  6.34103D-02\n",
      "\n",
      "At iterate   25    f=  4.37350D+00    |proj g|=  1.55199D-02\n",
      "\n",
      "At iterate   30    f=  4.37037D+00    |proj g|=  3.92627D-02\n",
      "\n",
      "At iterate   35    f=  4.36694D+00    |proj g|=  2.42419D-02\n",
      "\n",
      "At iterate   40    f=  4.36272D+00    |proj g|=  7.72328D-03\n",
      "\n",
      "At iterate   45    f=  4.35921D+00    |proj g|=  7.35906D-03\n"
     ]
    },
    {
     "name": "stderr",
     "output_type": "stream",
     "text": [
      "/opt/conda/lib/python3.10/site-packages/statsmodels/base/model.py:604: ConvergenceWarning:\n",
      "\n",
      "Maximum Likelihood optimization failed to converge. Check mle_retvals\n",
      "\n"
     ]
    },
    {
     "name": "stdout",
     "output_type": "stream",
     "text": [
      "\n",
      "At iterate   50    f=  4.35688D+00    |proj g|=  6.35081D-03\n",
      "\n",
      "           * * *\n",
      "\n",
      "Tit   = total number of iterations\n",
      "Tnf   = total number of function evaluations\n",
      "Tnint = total number of segments explored during Cauchy searches\n",
      "Skip  = number of BFGS updates skipped\n",
      "Nact  = number of active bounds at final generalized Cauchy point\n",
      "Projg = norm of the final projected gradient\n",
      "F     = final function value\n",
      "\n",
      "           * * *\n",
      "\n",
      "   N    Tit     Tnf  Tnint  Skip  Nact     Projg        F\n",
      "   18     50     67      1     0     0   6.351D-03   4.357D+00\n",
      "  F =   4.3568789205055278     \n",
      "\n",
      "STOP: TOTAL NO. of ITERATIONS REACHED LIMIT                 \n"
     ]
    },
    {
     "name": "stderr",
     "output_type": "stream",
     "text": [
      " This problem is unconstrained.\n"
     ]
    },
    {
     "name": "stdout",
     "output_type": "stream",
     "text": [
      "RUNNING THE L-BFGS-B CODE\n",
      "\n",
      "           * * *\n",
      "\n",
      "Machine precision = 2.220D-16\n",
      " N =           18     M =           10\n",
      "\n",
      "At X0         0 variables are exactly at the bounds\n",
      "\n",
      "At iterate    0    f=  4.79116D+00    |proj g|=  3.10831D-02\n",
      "\n",
      "At iterate    5    f=  4.64563D+00    |proj g|=  1.55484D-01\n",
      "\n",
      "At iterate   10    f=  4.50378D+00    |proj g|=  6.07364D-02\n",
      "\n",
      "At iterate   15    f=  4.45032D+00    |proj g|=  3.96267D-02\n",
      "\n",
      "At iterate   20    f=  4.43818D+00    |proj g|=  2.26662D-02\n",
      "\n",
      "At iterate   25    f=  4.42330D+00    |proj g|=  3.64431D-02\n",
      "\n",
      "At iterate   30    f=  4.37760D+00    |proj g|=  1.87281D-02\n",
      "\n",
      "At iterate   35    f=  4.36232D+00    |proj g|=  3.36719D-02\n",
      "\n",
      "At iterate   40    f=  4.35829D+00    |proj g|=  1.22520D-02\n",
      "\n",
      "At iterate   45    f=  4.35700D+00    |proj g|=  1.34213D-02\n"
     ]
    },
    {
     "name": "stderr",
     "output_type": "stream",
     "text": [
      "/opt/conda/lib/python3.10/site-packages/statsmodels/base/model.py:604: ConvergenceWarning:\n",
      "\n",
      "Maximum Likelihood optimization failed to converge. Check mle_retvals\n",
      "\n"
     ]
    },
    {
     "name": "stdout",
     "output_type": "stream",
     "text": [
      "\n",
      "At iterate   50    f=  4.35524D+00    |proj g|=  4.29319D-03\n",
      "\n",
      "           * * *\n",
      "\n",
      "Tit   = total number of iterations\n",
      "Tnf   = total number of function evaluations\n",
      "Tnint = total number of segments explored during Cauchy searches\n",
      "Skip  = number of BFGS updates skipped\n",
      "Nact  = number of active bounds at final generalized Cauchy point\n",
      "Projg = norm of the final projected gradient\n",
      "F     = final function value\n",
      "\n",
      "           * * *\n",
      "\n",
      "   N    Tit     Tnf  Tnint  Skip  Nact     Projg        F\n",
      "   18     50     65      1     0     0   4.293D-03   4.355D+00\n",
      "  F =   4.3552380662013324     \n",
      "\n",
      "STOP: TOTAL NO. of ITERATIONS REACHED LIMIT                 \n",
      "RUNNING THE L-BFGS-B CODE\n",
      "\n",
      "           * * *\n",
      "\n",
      "Machine precision = 2.220D-16\n",
      " N =           18     M =           10\n",
      "\n",
      "At X0         0 variables are exactly at the bounds\n",
      "\n",
      "At iterate    0    f=  4.78375D+00    |proj g|=  3.05114D-02\n"
     ]
    },
    {
     "name": "stderr",
     "output_type": "stream",
     "text": [
      " This problem is unconstrained.\n"
     ]
    },
    {
     "name": "stdout",
     "output_type": "stream",
     "text": [
      "\n",
      "At iterate    5    f=  4.66524D+00    |proj g|=  2.34688D-01\n",
      "\n",
      "At iterate   10    f=  4.47428D+00    |proj g|=  4.15368D-02\n",
      "\n",
      "At iterate   15    f=  4.44308D+00    |proj g|=  3.95258D-02\n",
      "\n",
      "At iterate   20    f=  4.43659D+00    |proj g|=  1.31177D-02\n",
      "\n",
      "At iterate   25    f=  4.42866D+00    |proj g|=  3.30515D-02\n",
      "\n",
      "At iterate   30    f=  4.41781D+00    |proj g|=  1.10737D-02\n",
      "\n",
      "At iterate   35    f=  4.41309D+00    |proj g|=  9.84607D-03\n",
      "\n",
      "At iterate   40    f=  4.41068D+00    |proj g|=  2.81161D-02\n",
      "\n",
      "At iterate   45    f=  4.40820D+00    |proj g|=  1.11196D-02\n"
     ]
    },
    {
     "name": "stderr",
     "output_type": "stream",
     "text": [
      "/opt/conda/lib/python3.10/site-packages/statsmodels/base/model.py:604: ConvergenceWarning:\n",
      "\n",
      "Maximum Likelihood optimization failed to converge. Check mle_retvals\n",
      "\n"
     ]
    },
    {
     "name": "stdout",
     "output_type": "stream",
     "text": [
      "\n",
      "At iterate   50    f=  4.40668D+00    |proj g|=  2.74777D-03\n",
      "\n",
      "           * * *\n",
      "\n",
      "Tit   = total number of iterations\n",
      "Tnf   = total number of function evaluations\n",
      "Tnint = total number of segments explored during Cauchy searches\n",
      "Skip  = number of BFGS updates skipped\n",
      "Nact  = number of active bounds at final generalized Cauchy point\n",
      "Projg = norm of the final projected gradient\n",
      "F     = final function value\n",
      "\n",
      "           * * *\n",
      "\n",
      "   N    Tit     Tnf  Tnint  Skip  Nact     Projg        F\n",
      "   18     50     55      1     0     0   2.748D-03   4.407D+00\n",
      "  F =   4.4066809166887282     \n",
      "\n",
      "STOP: TOTAL NO. of ITERATIONS REACHED LIMIT                 \n"
     ]
    },
    {
     "name": "stderr",
     "output_type": "stream",
     "text": [
      " This problem is unconstrained.\n"
     ]
    },
    {
     "name": "stdout",
     "output_type": "stream",
     "text": [
      "RUNNING THE L-BFGS-B CODE\n",
      "\n",
      "           * * *\n",
      "\n",
      "Machine precision = 2.220D-16\n",
      " N =           18     M =           10\n",
      "\n",
      "At X0         0 variables are exactly at the bounds\n",
      "\n",
      "At iterate    0    f=  4.78352D+00    |proj g|=  3.30838D-02\n",
      "\n",
      "At iterate    5    f=  4.68348D+00    |proj g|=  2.32761D-01\n",
      "\n",
      "At iterate   10    f=  4.46841D+00    |proj g|=  2.36643D-02\n",
      "\n",
      "At iterate   15    f=  4.43670D+00    |proj g|=  2.69556D-02\n",
      "\n",
      "At iterate   20    f=  4.42871D+00    |proj g|=  2.08867D-02\n",
      "\n",
      "At iterate   25    f=  4.41594D+00    |proj g|=  5.88191D-03\n",
      "\n",
      "At iterate   30    f=  4.41310D+00    |proj g|=  3.81781D-03\n",
      "\n",
      "At iterate   35    f=  4.41155D+00    |proj g|=  3.10308D-02\n",
      "\n",
      "At iterate   40    f=  4.41050D+00    |proj g|=  3.35458D-03\n",
      "\n",
      "At iterate   45    f=  4.40990D+00    |proj g|=  2.49751D-03\n"
     ]
    },
    {
     "name": "stderr",
     "output_type": "stream",
     "text": [
      "/opt/conda/lib/python3.10/site-packages/statsmodels/base/model.py:604: ConvergenceWarning:\n",
      "\n",
      "Maximum Likelihood optimization failed to converge. Check mle_retvals\n",
      "\n"
     ]
    },
    {
     "name": "stdout",
     "output_type": "stream",
     "text": [
      "\n",
      "At iterate   50    f=  4.40937D+00    |proj g|=  1.85212D-03\n",
      "\n",
      "           * * *\n",
      "\n",
      "Tit   = total number of iterations\n",
      "Tnf   = total number of function evaluations\n",
      "Tnint = total number of segments explored during Cauchy searches\n",
      "Skip  = number of BFGS updates skipped\n",
      "Nact  = number of active bounds at final generalized Cauchy point\n",
      "Projg = norm of the final projected gradient\n",
      "F     = final function value\n",
      "\n",
      "           * * *\n",
      "\n",
      "   N    Tit     Tnf  Tnint  Skip  Nact     Projg        F\n",
      "   18     50     57      1     0     0   1.852D-03   4.409D+00\n",
      "  F =   4.4093682472959843     \n",
      "\n",
      "STOP: TOTAL NO. of ITERATIONS REACHED LIMIT                 \n",
      "RUNNING THE L-BFGS-B CODE\n",
      "\n",
      "           * * *\n",
      "\n",
      "Machine precision = 2.220D-16\n",
      " N =           18     M =           10\n",
      "\n",
      "At X0         0 variables are exactly at the bounds\n",
      "\n",
      "At iterate    0    f=  4.80611D+00    |proj g|=  2.81206D-02\n"
     ]
    },
    {
     "name": "stderr",
     "output_type": "stream",
     "text": [
      " This problem is unconstrained.\n"
     ]
    },
    {
     "name": "stdout",
     "output_type": "stream",
     "text": [
      "\n",
      "At iterate    5    f=  4.71094D+00    |proj g|=  4.83307D-02\n",
      "\n",
      "At iterate   10    f=  4.51633D+00    |proj g|=  2.45755D-02\n",
      "\n",
      "At iterate   15    f=  4.49200D+00    |proj g|=  1.67190D-03\n",
      "\n",
      "At iterate   20    f=  4.49075D+00    |proj g|=  1.06554D-02\n",
      "  ys=-5.786E-03  -gs= 2.861E-03 BFGS update SKIPPED\n",
      "\n",
      "At iterate   25    f=  4.46147D+00    |proj g|=  5.19410D-02\n",
      "\n",
      "At iterate   30    f=  4.43505D+00    |proj g|=  1.64574D-02\n",
      "\n",
      "At iterate   35    f=  4.43108D+00    |proj g|=  2.70757D-02\n",
      "\n",
      "At iterate   40    f=  4.42667D+00    |proj g|=  5.44968D-03\n",
      "\n",
      "At iterate   45    f=  4.42554D+00    |proj g|=  4.41602D-03\n"
     ]
    },
    {
     "name": "stderr",
     "output_type": "stream",
     "text": [
      "/opt/conda/lib/python3.10/site-packages/statsmodels/base/model.py:604: ConvergenceWarning:\n",
      "\n",
      "Maximum Likelihood optimization failed to converge. Check mle_retvals\n",
      "\n"
     ]
    },
    {
     "name": "stdout",
     "output_type": "stream",
     "text": [
      "\n",
      "At iterate   50    f=  4.42315D+00    |proj g|=  7.06776D-03\n",
      "\n",
      "           * * *\n",
      "\n",
      "Tit   = total number of iterations\n",
      "Tnf   = total number of function evaluations\n",
      "Tnint = total number of segments explored during Cauchy searches\n",
      "Skip  = number of BFGS updates skipped\n",
      "Nact  = number of active bounds at final generalized Cauchy point\n",
      "Projg = norm of the final projected gradient\n",
      "F     = final function value\n",
      "\n",
      "           * * *\n",
      "\n",
      "   N    Tit     Tnf  Tnint  Skip  Nact     Projg        F\n",
      "   18     50     72      1     1     0   7.068D-03   4.423D+00\n",
      "  F =   4.4231466372570667     \n",
      "\n",
      "STOP: TOTAL NO. of ITERATIONS REACHED LIMIT                 \n",
      "RUNNING THE L-BFGS-B CODE\n",
      "\n",
      "           * * *\n",
      "\n",
      "Machine precision = 2.220D-16\n",
      " N =           18     M =           10\n",
      "\n",
      "At X0         0 variables are exactly at the bounds\n",
      "\n",
      "At iterate    0    f=  4.80181D+00    |proj g|=  2.84837D-02\n"
     ]
    },
    {
     "name": "stderr",
     "output_type": "stream",
     "text": [
      " This problem is unconstrained.\n"
     ]
    },
    {
     "name": "stdout",
     "output_type": "stream",
     "text": [
      "\n",
      "At iterate    5    f=  4.71236D+00    |proj g|=  1.14957D-01\n",
      "\n",
      "At iterate   10    f=  4.50689D+00    |proj g|=  3.61957D-02\n",
      "\n",
      "At iterate   15    f=  4.48465D+00    |proj g|=  2.67562D-02\n",
      "\n",
      "At iterate   20    f=  4.47578D+00    |proj g|=  8.65804D-02\n",
      "\n",
      "At iterate   25    f=  4.43617D+00    |proj g|=  5.85476D-02\n",
      "\n",
      "At iterate   30    f=  4.43087D+00    |proj g|=  1.14225D-02\n",
      "\n",
      "At iterate   35    f=  4.42885D+00    |proj g|=  5.84421D-03\n",
      "\n",
      "At iterate   40    f=  4.42394D+00    |proj g|=  3.86858D-03\n",
      "\n",
      "At iterate   45    f=  4.42141D+00    |proj g|=  6.34541D-03\n"
     ]
    },
    {
     "name": "stderr",
     "output_type": "stream",
     "text": [
      "/opt/conda/lib/python3.10/site-packages/statsmodels/base/model.py:604: ConvergenceWarning:\n",
      "\n",
      "Maximum Likelihood optimization failed to converge. Check mle_retvals\n",
      "\n"
     ]
    },
    {
     "name": "stdout",
     "output_type": "stream",
     "text": [
      "\n",
      "At iterate   50    f=  4.41746D+00    |proj g|=  6.95138D-03\n",
      "\n",
      "           * * *\n",
      "\n",
      "Tit   = total number of iterations\n",
      "Tnf   = total number of function evaluations\n",
      "Tnint = total number of segments explored during Cauchy searches\n",
      "Skip  = number of BFGS updates skipped\n",
      "Nact  = number of active bounds at final generalized Cauchy point\n",
      "Projg = norm of the final projected gradient\n",
      "F     = final function value\n",
      "\n",
      "           * * *\n",
      "\n",
      "   N    Tit     Tnf  Tnint  Skip  Nact     Projg        F\n",
      "   18     50     58      1     0     0   6.951D-03   4.417D+00\n",
      "  F =   4.4174552137424339     \n",
      "\n",
      "STOP: TOTAL NO. of ITERATIONS REACHED LIMIT                 \n"
     ]
    },
    {
     "name": "stderr",
     "output_type": "stream",
     "text": [
      " This problem is unconstrained.\n"
     ]
    },
    {
     "name": "stdout",
     "output_type": "stream",
     "text": [
      "RUNNING THE L-BFGS-B CODE\n",
      "\n",
      "           * * *\n",
      "\n",
      "Machine precision = 2.220D-16\n",
      " N =           18     M =           10\n",
      "\n",
      "At X0         0 variables are exactly at the bounds\n",
      "\n",
      "At iterate    0    f=  4.80699D+00    |proj g|=  2.72602D-02\n",
      "\n",
      "At iterate    5    f=  4.70116D+00    |proj g|=  4.31292D-02\n",
      "\n",
      "At iterate   10    f=  4.51237D+00    |proj g|=  2.55852D-02\n",
      "\n",
      "At iterate   15    f=  4.49272D+00    |proj g|=  6.87994D-03\n",
      "\n",
      "At iterate   20    f=  4.48961D+00    |proj g|=  2.06935D-03\n",
      "\n",
      "At iterate   25    f=  4.48924D+00    |proj g|=  4.26353D-03\n",
      "  ys=-6.027E-03  -gs= 1.983E-03 BFGS update SKIPPED\n",
      "\n",
      "At iterate   30    f=  4.47896D+00    |proj g|=  6.16545D-02\n",
      "\n",
      "At iterate   35    f=  4.45578D+00    |proj g|=  7.88012D-02\n",
      "\n",
      "At iterate   40    f=  4.43949D+00    |proj g|=  1.62415D-02\n",
      "\n",
      "At iterate   45    f=  4.42646D+00    |proj g|=  1.29363D-02\n"
     ]
    },
    {
     "name": "stderr",
     "output_type": "stream",
     "text": [
      "/opt/conda/lib/python3.10/site-packages/statsmodels/base/model.py:604: ConvergenceWarning:\n",
      "\n",
      "Maximum Likelihood optimization failed to converge. Check mle_retvals\n",
      "\n"
     ]
    },
    {
     "name": "stdout",
     "output_type": "stream",
     "text": [
      "\n",
      "At iterate   50    f=  4.42483D+00    |proj g|=  4.45689D-03\n",
      "\n",
      "           * * *\n",
      "\n",
      "Tit   = total number of iterations\n",
      "Tnf   = total number of function evaluations\n",
      "Tnint = total number of segments explored during Cauchy searches\n",
      "Skip  = number of BFGS updates skipped\n",
      "Nact  = number of active bounds at final generalized Cauchy point\n",
      "Projg = norm of the final projected gradient\n",
      "F     = final function value\n",
      "\n",
      "           * * *\n",
      "\n",
      "   N    Tit     Tnf  Tnint  Skip  Nact     Projg        F\n",
      "   18     50     76      1     1     0   4.457D-03   4.425D+00\n",
      "  F =   4.4248342940713776     \n",
      "\n",
      "STOP: TOTAL NO. of ITERATIONS REACHED LIMIT                 \n"
     ]
    },
    {
     "name": "stderr",
     "output_type": "stream",
     "text": [
      "/opt/conda/lib/python3.10/site-packages/statsmodels/tsa/statespace/sarimax.py:1009: UserWarning:\n",
      "\n",
      "Non-invertible starting seasonal moving average Using zeros as starting parameters.\n",
      "\n"
     ]
    },
    {
     "name": "stdout",
     "output_type": "stream",
     "text": [
      "RUNNING THE L-BFGS-B CODE\n",
      "\n",
      "           * * *\n",
      "\n",
      "Machine precision = 2.220D-16\n",
      " N =           18     M =           10\n",
      "\n",
      "At X0         0 variables are exactly at the bounds\n",
      "\n",
      "At iterate    0    f=  4.88378D+00    |proj g|=  1.41302D-01\n"
     ]
    },
    {
     "name": "stderr",
     "output_type": "stream",
     "text": [
      " This problem is unconstrained.\n"
     ]
    },
    {
     "name": "stdout",
     "output_type": "stream",
     "text": [
      "\n",
      "At iterate    5    f=  4.79513D+00    |proj g|=  1.65790D-02\n",
      "\n",
      "At iterate   10    f=  4.54174D+00    |proj g|=  9.40488D-02\n",
      "\n",
      "At iterate   15    f=  4.52463D+00    |proj g|=  2.67817D-02\n",
      "\n",
      "At iterate   20    f=  4.51462D+00    |proj g|=  6.03962D-03\n",
      "\n",
      "At iterate   25    f=  4.51298D+00    |proj g|=  8.48637D-03\n",
      "\n",
      "At iterate   30    f=  4.51049D+00    |proj g|=  1.16162D-02\n",
      "\n",
      "At iterate   35    f=  4.50349D+00    |proj g|=  6.33233D-03\n",
      "\n",
      "At iterate   40    f=  4.50195D+00    |proj g|=  2.74164D-03\n",
      "\n",
      "At iterate   45    f=  4.50180D+00    |proj g|=  1.53681D-03\n"
     ]
    },
    {
     "name": "stderr",
     "output_type": "stream",
     "text": [
      "/opt/conda/lib/python3.10/site-packages/statsmodels/base/model.py:604: ConvergenceWarning:\n",
      "\n",
      "Maximum Likelihood optimization failed to converge. Check mle_retvals\n",
      "\n"
     ]
    },
    {
     "name": "stdout",
     "output_type": "stream",
     "text": [
      "\n",
      "At iterate   50    f=  4.50175D+00    |proj g|=  1.75786D-04\n",
      "\n",
      "           * * *\n",
      "\n",
      "Tit   = total number of iterations\n",
      "Tnf   = total number of function evaluations\n",
      "Tnint = total number of segments explored during Cauchy searches\n",
      "Skip  = number of BFGS updates skipped\n",
      "Nact  = number of active bounds at final generalized Cauchy point\n",
      "Projg = norm of the final projected gradient\n",
      "F     = final function value\n",
      "\n",
      "           * * *\n",
      "\n",
      "   N    Tit     Tnf  Tnint  Skip  Nact     Projg        F\n",
      "   18     50     58      1     0     0   1.758D-04   4.502D+00\n",
      "  F =   4.5017498392638968     \n",
      "\n",
      "STOP: TOTAL NO. of ITERATIONS REACHED LIMIT                 \n"
     ]
    },
    {
     "name": "stderr",
     "output_type": "stream",
     "text": [
      " This problem is unconstrained.\n"
     ]
    },
    {
     "name": "stdout",
     "output_type": "stream",
     "text": [
      "RUNNING THE L-BFGS-B CODE\n",
      "\n",
      "           * * *\n",
      "\n",
      "Machine precision = 2.220D-16\n",
      " N =           18     M =           10\n",
      "\n",
      "At X0         0 variables are exactly at the bounds\n",
      "\n",
      "At iterate    0    f=  4.79862D+00    |proj g|=  3.63144D-02\n",
      "\n",
      "At iterate    5    f=  4.69232D+00    |proj g|=  1.03109D-01\n",
      "\n",
      "At iterate   10    f=  4.57610D+00    |proj g|=  5.82225D-02\n",
      "\n",
      "At iterate   15    f=  4.48161D+00    |proj g|=  1.03943D-01\n",
      "\n",
      "At iterate   20    f=  4.43807D+00    |proj g|=  3.13533D-02\n",
      "\n",
      "At iterate   25    f=  4.43207D+00    |proj g|=  6.69666D-03\n",
      "\n",
      "At iterate   30    f=  4.42569D+00    |proj g|=  2.23479D-02\n",
      "\n",
      "At iterate   35    f=  4.41990D+00    |proj g|=  2.47622D-02\n",
      "\n",
      "At iterate   40    f=  4.41335D+00    |proj g|=  3.05563D-02\n",
      "\n",
      "At iterate   45    f=  4.38831D+00    |proj g|=  4.32991D-02\n"
     ]
    },
    {
     "name": "stderr",
     "output_type": "stream",
     "text": [
      "/opt/conda/lib/python3.10/site-packages/statsmodels/base/model.py:604: ConvergenceWarning:\n",
      "\n",
      "Maximum Likelihood optimization failed to converge. Check mle_retvals\n",
      "\n"
     ]
    },
    {
     "name": "stdout",
     "output_type": "stream",
     "text": [
      "\n",
      "At iterate   50    f=  4.37382D+00    |proj g|=  3.39678D-02\n",
      "\n",
      "           * * *\n",
      "\n",
      "Tit   = total number of iterations\n",
      "Tnf   = total number of function evaluations\n",
      "Tnint = total number of segments explored during Cauchy searches\n",
      "Skip  = number of BFGS updates skipped\n",
      "Nact  = number of active bounds at final generalized Cauchy point\n",
      "Projg = norm of the final projected gradient\n",
      "F     = final function value\n",
      "\n",
      "           * * *\n",
      "\n",
      "   N    Tit     Tnf  Tnint  Skip  Nact     Projg        F\n",
      "   18     50     59      1     0     0   3.397D-02   4.374D+00\n",
      "  F =   4.3738214274723735     \n",
      "\n",
      "STOP: TOTAL NO. of ITERATIONS REACHED LIMIT                 \n"
     ]
    },
    {
     "name": "stderr",
     "output_type": "stream",
     "text": [
      " This problem is unconstrained.\n"
     ]
    },
    {
     "name": "stdout",
     "output_type": "stream",
     "text": [
      "RUNNING THE L-BFGS-B CODE\n",
      "\n",
      "           * * *\n",
      "\n",
      "Machine precision = 2.220D-16\n",
      " N =           18     M =           10\n",
      "\n",
      "At X0         0 variables are exactly at the bounds\n",
      "\n",
      "At iterate    0    f=  4.81063D+00    |proj g|=  3.48249D-02\n",
      "\n",
      "At iterate    5    f=  4.69804D+00    |proj g|=  2.08800D-01\n",
      "\n",
      "At iterate   10    f=  4.51714D+00    |proj g|=  6.21337D-02\n",
      "\n",
      "At iterate   15    f=  4.46517D+00    |proj g|=  8.19336D-02\n",
      "\n",
      "At iterate   20    f=  4.44890D+00    |proj g|=  2.12154D-02\n",
      "\n",
      "At iterate   25    f=  4.44506D+00    |proj g|=  2.14054D-02\n",
      "\n",
      "At iterate   30    f=  4.43497D+00    |proj g|=  5.34581D-03\n",
      "\n",
      "At iterate   35    f=  4.43126D+00    |proj g|=  5.64496D-03\n",
      "\n",
      "At iterate   40    f=  4.42871D+00    |proj g|=  8.23794D-03\n",
      "\n",
      "At iterate   45    f=  4.42784D+00    |proj g|=  1.50005D-02\n"
     ]
    },
    {
     "name": "stderr",
     "output_type": "stream",
     "text": [
      "/opt/conda/lib/python3.10/site-packages/statsmodels/base/model.py:604: ConvergenceWarning:\n",
      "\n",
      "Maximum Likelihood optimization failed to converge. Check mle_retvals\n",
      "\n"
     ]
    },
    {
     "name": "stdout",
     "output_type": "stream",
     "text": [
      "\n",
      "At iterate   50    f=  4.42704D+00    |proj g|=  1.07909D-02\n",
      "\n",
      "           * * *\n",
      "\n",
      "Tit   = total number of iterations\n",
      "Tnf   = total number of function evaluations\n",
      "Tnint = total number of segments explored during Cauchy searches\n",
      "Skip  = number of BFGS updates skipped\n",
      "Nact  = number of active bounds at final generalized Cauchy point\n",
      "Projg = norm of the final projected gradient\n",
      "F     = final function value\n",
      "\n",
      "           * * *\n",
      "\n",
      "   N    Tit     Tnf  Tnint  Skip  Nact     Projg        F\n",
      "   18     50     59      1     0     0   1.079D-02   4.427D+00\n",
      "  F =   4.4270395954298589     \n",
      "\n",
      "STOP: TOTAL NO. of ITERATIONS REACHED LIMIT                 \n"
     ]
    },
    {
     "name": "stderr",
     "output_type": "stream",
     "text": [
      " This problem is unconstrained.\n"
     ]
    },
    {
     "name": "stdout",
     "output_type": "stream",
     "text": [
      "RUNNING THE L-BFGS-B CODE\n",
      "\n",
      "           * * *\n",
      "\n",
      "Machine precision = 2.220D-16\n",
      " N =           18     M =           10\n",
      "\n",
      "At X0         0 variables are exactly at the bounds\n",
      "\n",
      "At iterate    0    f=  4.80723D+00    |proj g|=  3.50986D-02\n",
      "\n",
      "At iterate    5    f=  4.67006D+00    |proj g|=  1.56537D-01\n",
      "\n",
      "At iterate   10    f=  4.57776D+00    |proj g|=  2.29713D-01\n",
      "\n",
      "At iterate   15    f=  4.47023D+00    |proj g|=  4.90222D-02\n",
      "\n",
      "At iterate   20    f=  4.44167D+00    |proj g|=  6.17415D-03\n",
      "\n",
      "At iterate   25    f=  4.43603D+00    |proj g|=  1.43248D-02\n",
      "\n",
      "At iterate   30    f=  4.42899D+00    |proj g|=  6.58861D-03\n",
      "\n",
      "At iterate   35    f=  4.42668D+00    |proj g|=  1.63060D-02\n",
      "\n",
      "At iterate   40    f=  4.42447D+00    |proj g|=  9.32655D-03\n",
      "\n",
      "At iterate   45    f=  4.42307D+00    |proj g|=  2.88480D-03\n"
     ]
    },
    {
     "name": "stderr",
     "output_type": "stream",
     "text": [
      "/opt/conda/lib/python3.10/site-packages/statsmodels/base/model.py:604: ConvergenceWarning:\n",
      "\n",
      "Maximum Likelihood optimization failed to converge. Check mle_retvals\n",
      "\n"
     ]
    },
    {
     "name": "stdout",
     "output_type": "stream",
     "text": [
      "\n",
      "At iterate   50    f=  4.42229D+00    |proj g|=  9.83670D-03\n",
      "\n",
      "           * * *\n",
      "\n",
      "Tit   = total number of iterations\n",
      "Tnf   = total number of function evaluations\n",
      "Tnint = total number of segments explored during Cauchy searches\n",
      "Skip  = number of BFGS updates skipped\n",
      "Nact  = number of active bounds at final generalized Cauchy point\n",
      "Projg = norm of the final projected gradient\n",
      "F     = final function value\n",
      "\n",
      "           * * *\n",
      "\n",
      "   N    Tit     Tnf  Tnint  Skip  Nact     Projg        F\n",
      "   18     50     60      1     0     0   9.837D-03   4.422D+00\n",
      "  F =   4.4222946892749588     \n",
      "\n",
      "STOP: TOTAL NO. of ITERATIONS REACHED LIMIT                 \n",
      "RUNNING THE L-BFGS-B CODE\n",
      "\n",
      "           * * *\n",
      "\n",
      "Machine precision = 2.220D-16\n",
      " N =           18     M =           10\n",
      "\n",
      "At X0         0 variables are exactly at the bounds\n",
      "\n",
      "At iterate    0    f=  4.81242D+00    |proj g|=  3.17567D-02\n"
     ]
    },
    {
     "name": "stderr",
     "output_type": "stream",
     "text": [
      " This problem is unconstrained.\n"
     ]
    },
    {
     "name": "stdout",
     "output_type": "stream",
     "text": [
      "\n",
      "At iterate    5    f=  4.71726D+00    |proj g|=  2.83452D-01\n",
      "\n",
      "At iterate   10    f=  4.47435D+00    |proj g|=  2.92369D-02\n",
      "\n",
      "At iterate   15    f=  4.45180D+00    |proj g|=  5.37934D-03\n",
      "\n",
      "At iterate   20    f=  4.44696D+00    |proj g|=  3.05940D-02\n",
      "\n",
      "At iterate   25    f=  4.43893D+00    |proj g|=  4.77183D-03\n",
      "\n",
      "At iterate   30    f=  4.43569D+00    |proj g|=  2.35972D-03\n",
      "\n",
      "At iterate   35    f=  4.43310D+00    |proj g|=  3.49022D-03\n",
      "\n",
      "At iterate   40    f=  4.43134D+00    |proj g|=  8.88856D-03\n",
      "\n",
      "At iterate   45    f=  4.43063D+00    |proj g|=  2.83088D-03\n"
     ]
    },
    {
     "name": "stderr",
     "output_type": "stream",
     "text": [
      "/opt/conda/lib/python3.10/site-packages/statsmodels/base/model.py:604: ConvergenceWarning:\n",
      "\n",
      "Maximum Likelihood optimization failed to converge. Check mle_retvals\n",
      "\n"
     ]
    },
    {
     "name": "stdout",
     "output_type": "stream",
     "text": [
      "\n",
      "At iterate   50    f=  4.43033D+00    |proj g|=  2.32351D-03\n",
      "\n",
      "           * * *\n",
      "\n",
      "Tit   = total number of iterations\n",
      "Tnf   = total number of function evaluations\n",
      "Tnint = total number of segments explored during Cauchy searches\n",
      "Skip  = number of BFGS updates skipped\n",
      "Nact  = number of active bounds at final generalized Cauchy point\n",
      "Projg = norm of the final projected gradient\n",
      "F     = final function value\n",
      "\n",
      "           * * *\n",
      "\n",
      "   N    Tit     Tnf  Tnint  Skip  Nact     Projg        F\n",
      "   18     50     57      1     0     0   2.324D-03   4.430D+00\n",
      "  F =   4.4303278544160989     \n",
      "\n",
      "STOP: TOTAL NO. of ITERATIONS REACHED LIMIT                 \n",
      "RUNNING THE L-BFGS-B CODE\n",
      "\n",
      "           * * *\n",
      "\n",
      "Machine precision = 2.220D-16\n",
      " N =           18     M =           10\n",
      "\n",
      "At X0         0 variables are exactly at the bounds\n",
      "\n",
      "At iterate    0    f=  4.80764D+00    |proj g|=  3.68583D-02\n"
     ]
    },
    {
     "name": "stderr",
     "output_type": "stream",
     "text": [
      " This problem is unconstrained.\n"
     ]
    },
    {
     "name": "stdout",
     "output_type": "stream",
     "text": [
      "\n",
      "At iterate    5    f=  4.72903D+00    |proj g|=  2.30639D-01\n",
      "\n",
      "At iterate   10    f=  4.49771D+00    |proj g|=  1.17231D-01\n",
      "\n",
      "At iterate   15    f=  4.45313D+00    |proj g|=  2.55707D-02\n",
      "\n",
      "At iterate   20    f=  4.44667D+00    |proj g|=  4.64930D-03\n",
      "\n",
      "At iterate   25    f=  4.43640D+00    |proj g|=  1.74588D-02\n",
      "\n",
      "At iterate   30    f=  4.43286D+00    |proj g|=  6.16698D-03\n",
      "\n",
      "At iterate   35    f=  4.43124D+00    |proj g|=  5.56937D-03\n",
      "\n",
      "At iterate   40    f=  4.42818D+00    |proj g|=  2.25371D-03\n",
      "\n",
      "At iterate   45    f=  4.42801D+00    |proj g|=  1.78002D-03\n"
     ]
    },
    {
     "name": "stderr",
     "output_type": "stream",
     "text": [
      "/opt/conda/lib/python3.10/site-packages/statsmodels/base/model.py:604: ConvergenceWarning:\n",
      "\n",
      "Maximum Likelihood optimization failed to converge. Check mle_retvals\n",
      "\n"
     ]
    },
    {
     "name": "stdout",
     "output_type": "stream",
     "text": [
      "\n",
      "At iterate   50    f=  4.42791D+00    |proj g|=  2.11455D-03\n",
      "\n",
      "           * * *\n",
      "\n",
      "Tit   = total number of iterations\n",
      "Tnf   = total number of function evaluations\n",
      "Tnint = total number of segments explored during Cauchy searches\n",
      "Skip  = number of BFGS updates skipped\n",
      "Nact  = number of active bounds at final generalized Cauchy point\n",
      "Projg = norm of the final projected gradient\n",
      "F     = final function value\n",
      "\n",
      "           * * *\n",
      "\n",
      "   N    Tit     Tnf  Tnint  Skip  Nact     Projg        F\n",
      "   18     50     67      1     0     0   2.115D-03   4.428D+00\n",
      "  F =   4.4279127682045134     \n",
      "\n",
      "STOP: TOTAL NO. of ITERATIONS REACHED LIMIT                 \n"
     ]
    }
   ],
   "source": [
    "from statsmodels.tsa.statespace.sarimax import SARIMAX\n",
    "\n",
    "treino=amarelos_adm\n",
    "teste=amarelos_Outubro\n",
    "\n",
    "array_pred=[]\n",
    "array=[]\n",
    "num_prev=[]\n",
    "z=1\n",
    "for x in range(len(teste)-15):\n",
    "    y_treino=teste[0:z]\n",
    "    h=pd.merge(treino,y_treino,on='DTA_ADMISSAO',how='outer').replace(np.nan,0)\n",
    "    h['URG_EPISODIO']=h['URG_EPISODIO_x']+h['URG_EPISODIO_y']\n",
    "    h['dia_semana']=h['dia_semana_x']+h['dia_semana_y']\n",
    "    h['feriado']=h['feriado_x']+h['feriado_y']\n",
    "    h['festas']=h['festas_x']+h['festas_y']\n",
    "    h['feriado - dia anterior']=h['feriado - dia anterior_x']+h['feriado - dia anterior_y']\n",
    "    h['feriado - 2 dias anteriores']=h['feriado - 2 dias anteriores_x']+h['feriado - 2 dias anteriores_y']\n",
    "    h['feriado - dia seguinte']=h['feriado - dia seguinte_x']+h['feriado - dia seguinte_y']\n",
    "    h['feriado - daqui a 2 dias']=h['feriado - daqui a 2 dias_x']+h['feriado - daqui a 2 dias_y']\n",
    "    h['festas - dia anterior']=h['festas - dia anterior_x']+h['festas - dia anterior_y']\n",
    "    h['festas - 2 dias anteriores']=h['festas - 2 dias anteriores_x']+h['festas - 2 dias anteriores_y']\n",
    "    h['festas - dia seguinte']=h['festas - dia seguinte_x']+h['festas - dia seguinte_y']\n",
    "    h['festas - daqui a 2 dias']=h['festas - daqui a 2 dias_x']+h['festas - daqui a 2 dias_y']\n",
    "    y_treino=h[['DTA_ADMISSAO','URG_EPISODIO']]\n",
    "    best_model = SARIMAX(y_treino['URG_EPISODIO'],exog=h[['dia_semana','feriado',\n",
    "       'feriado - dia anterior', 'feriado - 2 dias anteriores','feriado - dia seguinte', 'feriado - daqui a 2 dias', 'festas',\n",
    "       'festas - dia anterior', 'festas - 2 dias anteriores','festas - dia seguinte', 'festas - daqui a 2 dias']],order=(1, 1, 1), seasonal_order=(2, 2, 2, 7)).fit()\n",
    "    pred=best_model.forecast(steps=15,exog=teste[['dia_semana','feriado','feriado - dia anterior', 'feriado - 2 dias anteriores',\n",
    "       'feriado - dia seguinte', 'feriado - daqui a 2 dias', 'festas','festas - dia anterior', 'festas - 2 dias anteriores',\n",
    "       'festas - dia seguinte', 'festas - daqui a 2 dias']].iloc[z:z+15])\n",
    "    for y in pred.iloc:\n",
    "        array_pred.append(y)\n",
    "    t=teste[z:z+15]['URG_EPISODIO']\n",
    "    for s in t.iloc:\n",
    "        array.append(s)\n",
    "    for x in range(15):\n",
    "        num_prev.append(z)\n",
    "    z=z+1"
   ]
  },
  {
   "cell_type": "code",
   "execution_count": 67,
   "metadata": {
    "scrolled": true,
    "tags": []
   },
   "outputs": [
    {
     "name": "stdout",
     "output_type": "stream",
     "text": [
      "RUNNING THE L-BFGS-B CODE\n",
      "\n",
      "           * * *\n",
      "\n",
      "Machine precision = 2.220D-16\n",
      " N =           14     M =           10\n",
      "\n",
      "At X0         0 variables are exactly at the bounds\n",
      "\n",
      "At iterate    0    f=  4.44358D+00    |proj g|=  5.58680D-02\n"
     ]
    },
    {
     "name": "stderr",
     "output_type": "stream",
     "text": [
      " This problem is unconstrained.\n"
     ]
    },
    {
     "name": "stdout",
     "output_type": "stream",
     "text": [
      "\n",
      "At iterate    5    f=  4.27389D+00    |proj g|=  1.06476D-02\n",
      "\n",
      "At iterate   10    f=  4.27190D+00    |proj g|=  4.70154D-04\n",
      "\n",
      "At iterate   15    f=  4.27180D+00    |proj g|=  1.29467D-04\n",
      "\n",
      "At iterate   20    f=  4.27168D+00    |proj g|=  2.90004D-04\n",
      "\n",
      "At iterate   25    f=  4.27163D+00    |proj g|=  6.57616D-04\n",
      "\n",
      "At iterate   30    f=  4.27159D+00    |proj g|=  1.21598D-04\n",
      "\n",
      "At iterate   35    f=  4.27159D+00    |proj g|=  3.29423D-05\n",
      "\n",
      "At iterate   40    f=  4.27158D+00    |proj g|=  6.23203D-05\n",
      "\n",
      "At iterate   45    f=  4.27158D+00    |proj g|=  5.47093D-05\n"
     ]
    },
    {
     "name": "stderr",
     "output_type": "stream",
     "text": [
      "/opt/conda/lib/python3.10/site-packages/statsmodels/base/model.py:604: ConvergenceWarning:\n",
      "\n",
      "Maximum Likelihood optimization failed to converge. Check mle_retvals\n",
      "\n"
     ]
    },
    {
     "name": "stdout",
     "output_type": "stream",
     "text": [
      "\n",
      "At iterate   50    f=  4.27158D+00    |proj g|=  5.02895D-05\n",
      "\n",
      "           * * *\n",
      "\n",
      "Tit   = total number of iterations\n",
      "Tnf   = total number of function evaluations\n",
      "Tnint = total number of segments explored during Cauchy searches\n",
      "Skip  = number of BFGS updates skipped\n",
      "Nact  = number of active bounds at final generalized Cauchy point\n",
      "Projg = norm of the final projected gradient\n",
      "F     = final function value\n",
      "\n",
      "           * * *\n",
      "\n",
      "   N    Tit     Tnf  Tnint  Skip  Nact     Projg        F\n",
      "   14     50     56      1     0     0   5.029D-05   4.272D+00\n",
      "  F =   4.2715778640182291     \n",
      "\n",
      "STOP: TOTAL NO. of ITERATIONS REACHED LIMIT                 \n",
      "RUNNING THE L-BFGS-B CODE\n",
      "\n",
      "           * * *\n",
      "\n",
      "Machine precision = 2.220D-16\n",
      " N =           14     M =           10\n",
      "\n",
      "At X0         0 variables are exactly at the bounds\n",
      "\n",
      "At iterate    0    f=  4.46648D+00    |proj g|=  6.47376D-02\n"
     ]
    },
    {
     "name": "stderr",
     "output_type": "stream",
     "text": [
      " This problem is unconstrained.\n"
     ]
    },
    {
     "name": "stdout",
     "output_type": "stream",
     "text": [
      "\n",
      "At iterate    5    f=  4.29343D+00    |proj g|=  1.13485D-02\n",
      "\n",
      "At iterate   10    f=  4.28965D+00    |proj g|=  3.45329D-04\n",
      "\n",
      "At iterate   15    f=  4.28952D+00    |proj g|=  1.24964D-04\n",
      "\n",
      "At iterate   20    f=  4.28943D+00    |proj g|=  2.03298D-04\n",
      "\n",
      "At iterate   25    f=  4.28940D+00    |proj g|=  5.02545D-04\n",
      "\n",
      "At iterate   30    f=  4.28937D+00    |proj g|=  7.00895D-05\n",
      "\n",
      "At iterate   35    f=  4.28936D+00    |proj g|=  4.55862D-05\n",
      "\n",
      "At iterate   40    f=  4.28935D+00    |proj g|=  7.04457D-05\n",
      "\n",
      "At iterate   45    f=  4.28935D+00    |proj g|=  4.91577D-05\n"
     ]
    },
    {
     "name": "stderr",
     "output_type": "stream",
     "text": [
      "/opt/conda/lib/python3.10/site-packages/statsmodels/base/model.py:604: ConvergenceWarning:\n",
      "\n",
      "Maximum Likelihood optimization failed to converge. Check mle_retvals\n",
      "\n"
     ]
    },
    {
     "name": "stdout",
     "output_type": "stream",
     "text": [
      "\n",
      "At iterate   50    f=  4.28934D+00    |proj g|=  2.37912D-05\n",
      "\n",
      "           * * *\n",
      "\n",
      "Tit   = total number of iterations\n",
      "Tnf   = total number of function evaluations\n",
      "Tnint = total number of segments explored during Cauchy searches\n",
      "Skip  = number of BFGS updates skipped\n",
      "Nact  = number of active bounds at final generalized Cauchy point\n",
      "Projg = norm of the final projected gradient\n",
      "F     = final function value\n",
      "\n",
      "           * * *\n",
      "\n",
      "   N    Tit     Tnf  Tnint  Skip  Nact     Projg        F\n",
      "   14     50     53      1     0     0   2.379D-05   4.289D+00\n",
      "  F =   4.2893447362007109     \n",
      "\n",
      "STOP: TOTAL NO. of ITERATIONS REACHED LIMIT                 \n"
     ]
    },
    {
     "name": "stderr",
     "output_type": "stream",
     "text": [
      " This problem is unconstrained.\n"
     ]
    },
    {
     "name": "stdout",
     "output_type": "stream",
     "text": [
      "RUNNING THE L-BFGS-B CODE\n",
      "\n",
      "           * * *\n",
      "\n",
      "Machine precision = 2.220D-16\n",
      " N =           14     M =           10\n",
      "\n",
      "At X0         0 variables are exactly at the bounds\n",
      "\n",
      "At iterate    0    f=  4.47255D+00    |proj g|=  6.27123D-02\n",
      "\n",
      "At iterate    5    f=  4.30335D+00    |proj g|=  5.71413D-03\n",
      "\n",
      "At iterate   10    f=  4.30177D+00    |proj g|=  3.93303D-04\n",
      "\n",
      "At iterate   15    f=  4.30169D+00    |proj g|=  2.48128D-04\n",
      "\n",
      "At iterate   20    f=  4.30163D+00    |proj g|=  7.06020D-05\n",
      "\n",
      "At iterate   25    f=  4.30158D+00    |proj g|=  1.78055D-04\n",
      "\n",
      "At iterate   30    f=  4.30156D+00    |proj g|=  2.60502D-04\n",
      "\n",
      "At iterate   35    f=  4.30155D+00    |proj g|=  1.11652D-04\n",
      "\n",
      "At iterate   40    f=  4.30154D+00    |proj g|=  9.58898D-05\n",
      "\n",
      "At iterate   45    f=  4.30154D+00    |proj g|=  5.88924D-05\n"
     ]
    },
    {
     "name": "stderr",
     "output_type": "stream",
     "text": [
      "/opt/conda/lib/python3.10/site-packages/statsmodels/base/model.py:604: ConvergenceWarning:\n",
      "\n",
      "Maximum Likelihood optimization failed to converge. Check mle_retvals\n",
      "\n"
     ]
    },
    {
     "name": "stdout",
     "output_type": "stream",
     "text": [
      "\n",
      "At iterate   50    f=  4.30154D+00    |proj g|=  2.78654D-05\n",
      "\n",
      "           * * *\n",
      "\n",
      "Tit   = total number of iterations\n",
      "Tnf   = total number of function evaluations\n",
      "Tnint = total number of segments explored during Cauchy searches\n",
      "Skip  = number of BFGS updates skipped\n",
      "Nact  = number of active bounds at final generalized Cauchy point\n",
      "Projg = norm of the final projected gradient\n",
      "F     = final function value\n",
      "\n",
      "           * * *\n",
      "\n",
      "   N    Tit     Tnf  Tnint  Skip  Nact     Projg        F\n",
      "   14     50     54      1     0     0   2.787D-05   4.302D+00\n",
      "  F =   4.3015412512432185     \n",
      "\n",
      "STOP: TOTAL NO. of ITERATIONS REACHED LIMIT                 \n",
      "RUNNING THE L-BFGS-B CODE\n",
      "\n",
      "           * * *\n",
      "\n",
      "Machine precision = 2.220D-16\n",
      " N =           14     M =           10\n",
      "\n",
      "At X0         0 variables are exactly at the bounds\n",
      "\n",
      "At iterate    0    f=  4.47234D+00    |proj g|=  6.01905D-02\n"
     ]
    },
    {
     "name": "stderr",
     "output_type": "stream",
     "text": [
      " This problem is unconstrained.\n"
     ]
    },
    {
     "name": "stdout",
     "output_type": "stream",
     "text": [
      "\n",
      "At iterate    5    f=  4.30773D+00    |proj g|=  6.19323D-03\n",
      "\n",
      "At iterate   10    f=  4.30584D+00    |proj g|=  4.43734D-04\n",
      "\n",
      "At iterate   15    f=  4.30578D+00    |proj g|=  3.20911D-04\n",
      "\n",
      "At iterate   20    f=  4.30572D+00    |proj g|=  7.47399D-05\n",
      "\n",
      "At iterate   25    f=  4.30570D+00    |proj g|=  6.59128D-04\n",
      "\n",
      "At iterate   30    f=  4.30567D+00    |proj g|=  6.37902D-04\n",
      "\n",
      "At iterate   35    f=  4.30563D+00    |proj g|=  6.77037D-05\n",
      "\n",
      "At iterate   40    f=  4.30562D+00    |proj g|=  4.13199D-05\n",
      "\n",
      "At iterate   45    f=  4.30562D+00    |proj g|=  7.99059D-06\n",
      "\n",
      "           * * *\n",
      "\n",
      "Tit   = total number of iterations\n",
      "Tnf   = total number of function evaluations\n",
      "Tnint = total number of segments explored during Cauchy searches\n",
      "Skip  = number of BFGS updates skipped\n",
      "Nact  = number of active bounds at final generalized Cauchy point\n",
      "Projg = norm of the final projected gradient\n",
      "F     = final function value\n",
      "\n",
      "           * * *\n",
      "\n",
      "   N    Tit     Tnf  Tnint  Skip  Nact     Projg        F\n",
      "   14     45     48      1     0     0   7.991D-06   4.306D+00\n",
      "  F =   4.3056171461947157     \n",
      "\n",
      "CONVERGENCE: NORM_OF_PROJECTED_GRADIENT_<=_PGTOL            \n",
      "RUNNING THE L-BFGS-B CODE\n",
      "\n",
      "           * * *\n",
      "\n",
      "Machine precision = 2.220D-16\n",
      " N =           14     M =           10\n",
      "\n",
      "At X0         0 variables are exactly at the bounds\n",
      "\n",
      "At iterate    0    f=  4.47666D+00    |proj g|=  5.35217D-02\n"
     ]
    },
    {
     "name": "stderr",
     "output_type": "stream",
     "text": [
      " This problem is unconstrained.\n"
     ]
    },
    {
     "name": "stdout",
     "output_type": "stream",
     "text": [
      "\n",
      "At iterate    5    f=  4.31941D+00    |proj g|=  1.01193D-02\n",
      "\n",
      "At iterate   10    f=  4.31759D+00    |proj g|=  5.95222D-04\n",
      "\n",
      "At iterate   15    f=  4.31748D+00    |proj g|=  8.90672D-05\n",
      "\n",
      "At iterate   20    f=  4.31741D+00    |proj g|=  5.83826D-05\n",
      "\n",
      "At iterate   25    f=  4.31738D+00    |proj g|=  2.34594D-04\n",
      "\n",
      "At iterate   30    f=  4.31735D+00    |proj g|=  1.24212D-04\n",
      "\n",
      "At iterate   35    f=  4.31734D+00    |proj g|=  1.28794D-04\n",
      "\n",
      "At iterate   40    f=  4.31733D+00    |proj g|=  4.83734D-05\n",
      "\n",
      "           * * *\n",
      "\n",
      "Tit   = total number of iterations\n",
      "Tnf   = total number of function evaluations\n",
      "Tnint = total number of segments explored during Cauchy searches\n",
      "Skip  = number of BFGS updates skipped\n",
      "Nact  = number of active bounds at final generalized Cauchy point\n",
      "Projg = norm of the final projected gradient\n",
      "F     = final function value\n",
      "\n",
      "           * * *\n",
      "\n",
      "   N    Tit     Tnf  Tnint  Skip  Nact     Projg        F\n",
      "   14     44     47      1     0     0   8.115D-06   4.317D+00\n",
      "  F =   4.3173329800997813     \n",
      "\n",
      "CONVERGENCE: NORM_OF_PROJECTED_GRADIENT_<=_PGTOL            \n"
     ]
    },
    {
     "name": "stderr",
     "output_type": "stream",
     "text": [
      " This problem is unconstrained.\n"
     ]
    },
    {
     "name": "stdout",
     "output_type": "stream",
     "text": [
      "RUNNING THE L-BFGS-B CODE\n",
      "\n",
      "           * * *\n",
      "\n",
      "Machine precision = 2.220D-16\n",
      " N =           14     M =           10\n",
      "\n",
      "At X0         0 variables are exactly at the bounds\n",
      "\n",
      "At iterate    0    f=  4.47093D+00    |proj g|=  5.36832D-02\n",
      "\n",
      "At iterate    5    f=  4.32583D+00    |proj g|=  4.82919D-02\n",
      "\n",
      "At iterate   10    f=  4.31306D+00    |proj g|=  9.08491D-04\n",
      "\n",
      "At iterate   15    f=  4.31288D+00    |proj g|=  1.28557D-04\n",
      "\n",
      "At iterate   20    f=  4.31281D+00    |proj g|=  1.62015D-04\n",
      "\n",
      "At iterate   25    f=  4.31280D+00    |proj g|=  2.48525D-04\n",
      "\n",
      "At iterate   30    f=  4.31276D+00    |proj g|=  1.60232D-04\n",
      "\n",
      "At iterate   35    f=  4.31275D+00    |proj g|=  7.73596D-05\n",
      "\n",
      "At iterate   40    f=  4.31274D+00    |proj g|=  7.80185D-05\n",
      "\n",
      "At iterate   45    f=  4.31273D+00    |proj g|=  5.21984D-05\n"
     ]
    },
    {
     "name": "stderr",
     "output_type": "stream",
     "text": [
      "/opt/conda/lib/python3.10/site-packages/statsmodels/base/model.py:604: ConvergenceWarning:\n",
      "\n",
      "Maximum Likelihood optimization failed to converge. Check mle_retvals\n",
      "\n"
     ]
    },
    {
     "name": "stdout",
     "output_type": "stream",
     "text": [
      "\n",
      "At iterate   50    f=  4.31273D+00    |proj g|=  2.59291D-05\n",
      "\n",
      "           * * *\n",
      "\n",
      "Tit   = total number of iterations\n",
      "Tnf   = total number of function evaluations\n",
      "Tnint = total number of segments explored during Cauchy searches\n",
      "Skip  = number of BFGS updates skipped\n",
      "Nact  = number of active bounds at final generalized Cauchy point\n",
      "Projg = norm of the final projected gradient\n",
      "F     = final function value\n",
      "\n",
      "           * * *\n",
      "\n",
      "   N    Tit     Tnf  Tnint  Skip  Nact     Projg        F\n",
      "   14     50     52      1     0     0   2.593D-05   4.313D+00\n",
      "  F =   4.3127277559009585     \n",
      "\n",
      "STOP: TOTAL NO. of ITERATIONS REACHED LIMIT                 \n",
      "RUNNING THE L-BFGS-B CODE\n",
      "\n",
      "           * * *\n",
      "\n",
      "Machine precision = 2.220D-16\n",
      " N =           14     M =           10\n",
      "\n",
      "At X0         0 variables are exactly at the bounds\n",
      "\n",
      "At iterate    0    f=  4.46196D+00    |proj g|=  4.80484D-02\n"
     ]
    },
    {
     "name": "stderr",
     "output_type": "stream",
     "text": [
      " This problem is unconstrained.\n"
     ]
    },
    {
     "name": "stdout",
     "output_type": "stream",
     "text": [
      "\n",
      "At iterate    5    f=  4.30944D+00    |proj g|=  4.51505D-03\n",
      "\n",
      "At iterate   10    f=  4.30903D+00    |proj g|=  2.51814D-03\n",
      "\n",
      "At iterate   15    f=  4.30893D+00    |proj g|=  3.38846D-04\n",
      "\n",
      "At iterate   20    f=  4.30889D+00    |proj g|=  7.24731D-04\n",
      "\n",
      "At iterate   25    f=  4.30887D+00    |proj g|=  2.41162D-04\n",
      "\n",
      "At iterate   30    f=  4.30884D+00    |proj g|=  6.10559D-05\n",
      "\n",
      "At iterate   35    f=  4.30882D+00    |proj g|=  1.19857D-04\n",
      "\n",
      "At iterate   40    f=  4.30881D+00    |proj g|=  3.91944D-05\n",
      "\n",
      "At iterate   45    f=  4.30880D+00    |proj g|=  7.93449D-05\n"
     ]
    },
    {
     "name": "stderr",
     "output_type": "stream",
     "text": [
      "/opt/conda/lib/python3.10/site-packages/statsmodels/base/model.py:604: ConvergenceWarning:\n",
      "\n",
      "Maximum Likelihood optimization failed to converge. Check mle_retvals\n",
      "\n"
     ]
    },
    {
     "name": "stdout",
     "output_type": "stream",
     "text": [
      "\n",
      "At iterate   50    f=  4.30880D+00    |proj g|=  1.03463D-04\n",
      "\n",
      "           * * *\n",
      "\n",
      "Tit   = total number of iterations\n",
      "Tnf   = total number of function evaluations\n",
      "Tnint = total number of segments explored during Cauchy searches\n",
      "Skip  = number of BFGS updates skipped\n",
      "Nact  = number of active bounds at final generalized Cauchy point\n",
      "Projg = norm of the final projected gradient\n",
      "F     = final function value\n",
      "\n",
      "           * * *\n",
      "\n",
      "   N    Tit     Tnf  Tnint  Skip  Nact     Projg        F\n",
      "   14     50     58      1     0     0   1.035D-04   4.309D+00\n",
      "  F =   4.3087989249576317     \n",
      "\n",
      "STOP: TOTAL NO. of ITERATIONS REACHED LIMIT                 \n"
     ]
    },
    {
     "name": "stderr",
     "output_type": "stream",
     "text": [
      " This problem is unconstrained.\n"
     ]
    },
    {
     "name": "stdout",
     "output_type": "stream",
     "text": [
      "RUNNING THE L-BFGS-B CODE\n",
      "\n",
      "           * * *\n",
      "\n",
      "Machine precision = 2.220D-16\n",
      " N =           14     M =           10\n",
      "\n",
      "At X0         0 variables are exactly at the bounds\n",
      "\n",
      "At iterate    0    f=  4.46264D+00    |proj g|=  4.77546D-02\n",
      "\n",
      "At iterate    5    f=  4.31344D+00    |proj g|=  4.50688D-03\n",
      "\n",
      "At iterate   10    f=  4.31310D+00    |proj g|=  2.53028D-03\n",
      "\n",
      "At iterate   15    f=  4.31302D+00    |proj g|=  3.33788D-04\n",
      "\n",
      "At iterate   20    f=  4.31299D+00    |proj g|=  1.76375D-04\n",
      "\n",
      "At iterate   25    f=  4.31298D+00    |proj g|=  1.43121D-04\n",
      "\n",
      "At iterate   30    f=  4.31297D+00    |proj g|=  4.33059D-05\n",
      "\n",
      "At iterate   35    f=  4.31296D+00    |proj g|=  1.31415D-04\n",
      "\n",
      "At iterate   40    f=  4.31296D+00    |proj g|=  5.98031D-05\n",
      "\n",
      "At iterate   45    f=  4.31296D+00    |proj g|=  3.44260D-05\n",
      "\n",
      "           * * *\n",
      "\n",
      "Tit   = total number of iterations\n",
      "Tnf   = total number of function evaluations\n",
      "Tnint = total number of segments explored during Cauchy searches\n",
      "Skip  = number of BFGS updates skipped\n",
      "Nact  = number of active bounds at final generalized Cauchy point\n",
      "Projg = norm of the final projected gradient\n",
      "F     = final function value\n",
      "\n",
      "           * * *\n",
      "\n",
      "   N    Tit     Tnf  Tnint  Skip  Nact     Projg        F\n",
      "   14     48     56      1     0     0   7.189D-06   4.313D+00\n",
      "  F =   4.3129549507190408     \n",
      "\n",
      "CONVERGENCE: NORM_OF_PROJECTED_GRADIENT_<=_PGTOL            \n",
      "RUNNING THE L-BFGS-B CODE\n",
      "\n",
      "           * * *\n",
      "\n",
      "Machine precision = 2.220D-16\n",
      " N =           14     M =           10\n",
      "\n",
      "At X0         0 variables are exactly at the bounds\n",
      "\n",
      "At iterate    0    f=  4.47290D+00    |proj g|=  4.99892D-02\n"
     ]
    },
    {
     "name": "stderr",
     "output_type": "stream",
     "text": [
      " This problem is unconstrained.\n"
     ]
    },
    {
     "name": "stdout",
     "output_type": "stream",
     "text": [
      "\n",
      "At iterate    5    f=  4.32448D+00    |proj g|=  1.58826D-02\n",
      "\n",
      "At iterate   10    f=  4.32298D+00    |proj g|=  2.97181D-04\n",
      "\n",
      "At iterate   15    f=  4.32290D+00    |proj g|=  3.19041D-04\n",
      "\n",
      "At iterate   20    f=  4.32287D+00    |proj g|=  5.37664D-05\n",
      "\n",
      "At iterate   25    f=  4.32284D+00    |proj g|=  1.19062D-04\n",
      "\n",
      "At iterate   30    f=  4.32282D+00    |proj g|=  2.06265D-04\n",
      "\n",
      "At iterate   35    f=  4.32281D+00    |proj g|=  6.86546D-05\n",
      "\n",
      "At iterate   40    f=  4.32281D+00    |proj g|=  1.52148D-04\n",
      "\n",
      "           * * *\n",
      "\n",
      "Tit   = total number of iterations\n",
      "Tnf   = total number of function evaluations\n",
      "Tnint = total number of segments explored during Cauchy searches\n",
      "Skip  = number of BFGS updates skipped\n",
      "Nact  = number of active bounds at final generalized Cauchy point\n",
      "Projg = norm of the final projected gradient\n",
      "F     = final function value\n",
      "\n",
      "           * * *\n",
      "\n",
      "   N    Tit     Tnf  Tnint  Skip  Nact     Projg        F\n",
      "   14     44     55      1     0     0   7.970D-06   4.323D+00\n",
      "  F =   4.3228039471878121     \n",
      "\n",
      "CONVERGENCE: NORM_OF_PROJECTED_GRADIENT_<=_PGTOL            \n"
     ]
    },
    {
     "name": "stderr",
     "output_type": "stream",
     "text": [
      " This problem is unconstrained.\n"
     ]
    },
    {
     "name": "stdout",
     "output_type": "stream",
     "text": [
      "RUNNING THE L-BFGS-B CODE\n",
      "\n",
      "           * * *\n",
      "\n",
      "Machine precision = 2.220D-16\n",
      " N =           14     M =           10\n",
      "\n",
      "At X0         0 variables are exactly at the bounds\n",
      "\n",
      "At iterate    0    f=  4.48024D+00    |proj g|=  5.08689D-02\n",
      "\n",
      "At iterate    5    f=  4.33171D+00    |proj g|=  3.59884D-03\n",
      "\n",
      "At iterate   10    f=  4.33101D+00    |proj g|=  1.18903D-03\n",
      "\n",
      "At iterate   15    f=  4.33096D+00    |proj g|=  1.01649D-03\n",
      "\n",
      "At iterate   20    f=  4.33086D+00    |proj g|=  6.82738D-05\n",
      "\n",
      "At iterate   25    f=  4.33082D+00    |proj g|=  7.56062D-04\n",
      "\n",
      "At iterate   30    f=  4.33079D+00    |proj g|=  7.46364D-05\n",
      "\n",
      "At iterate   35    f=  4.33078D+00    |proj g|=  8.35958D-05\n",
      "\n",
      "At iterate   40    f=  4.33078D+00    |proj g|=  8.29958D-05\n",
      "\n",
      "At iterate   45    f=  4.33077D+00    |proj g|=  6.30593D-05\n"
     ]
    },
    {
     "name": "stderr",
     "output_type": "stream",
     "text": [
      "/opt/conda/lib/python3.10/site-packages/statsmodels/base/model.py:604: ConvergenceWarning:\n",
      "\n",
      "Maximum Likelihood optimization failed to converge. Check mle_retvals\n",
      "\n"
     ]
    },
    {
     "name": "stdout",
     "output_type": "stream",
     "text": [
      "\n",
      "At iterate   50    f=  4.33077D+00    |proj g|=  1.78818D-05\n",
      "\n",
      "           * * *\n",
      "\n",
      "Tit   = total number of iterations\n",
      "Tnf   = total number of function evaluations\n",
      "Tnint = total number of segments explored during Cauchy searches\n",
      "Skip  = number of BFGS updates skipped\n",
      "Nact  = number of active bounds at final generalized Cauchy point\n",
      "Projg = norm of the final projected gradient\n",
      "F     = final function value\n",
      "\n",
      "           * * *\n",
      "\n",
      "   N    Tit     Tnf  Tnint  Skip  Nact     Projg        F\n",
      "   14     50     56      1     0     0   1.788D-05   4.331D+00\n",
      "  F =   4.3307704857983422     \n",
      "\n",
      "STOP: TOTAL NO. of ITERATIONS REACHED LIMIT                 \n"
     ]
    },
    {
     "name": "stderr",
     "output_type": "stream",
     "text": [
      " This problem is unconstrained.\n"
     ]
    },
    {
     "name": "stdout",
     "output_type": "stream",
     "text": [
      "RUNNING THE L-BFGS-B CODE\n",
      "\n",
      "           * * *\n",
      "\n",
      "Machine precision = 2.220D-16\n",
      " N =           14     M =           10\n",
      "\n",
      "At X0         0 variables are exactly at the bounds\n",
      "\n",
      "At iterate    0    f=  4.48092D+00    |proj g|=  5.02428D-02\n",
      "\n",
      "At iterate    5    f=  4.35490D+00    |proj g|=  2.11083D-02\n",
      "\n",
      "At iterate   10    f=  4.33462D+00    |proj g|=  4.91570D-04\n",
      "\n",
      "At iterate   15    f=  4.33435D+00    |proj g|=  8.12935D-05\n",
      "\n",
      "At iterate   20    f=  4.33431D+00    |proj g|=  1.86908D-04\n",
      "\n",
      "At iterate   25    f=  4.33429D+00    |proj g|=  1.94794D-04\n",
      "\n",
      "At iterate   30    f=  4.33427D+00    |proj g|=  5.30762D-05\n",
      "\n",
      "At iterate   35    f=  4.33426D+00    |proj g|=  9.84142D-05\n",
      "\n",
      "At iterate   40    f=  4.33425D+00    |proj g|=  4.34801D-05\n",
      "\n",
      "At iterate   45    f=  4.33425D+00    |proj g|=  3.00162D-05\n"
     ]
    },
    {
     "name": "stderr",
     "output_type": "stream",
     "text": [
      "/opt/conda/lib/python3.10/site-packages/statsmodels/base/model.py:604: ConvergenceWarning:\n",
      "\n",
      "Maximum Likelihood optimization failed to converge. Check mle_retvals\n",
      "\n"
     ]
    },
    {
     "name": "stdout",
     "output_type": "stream",
     "text": [
      "\n",
      "At iterate   50    f=  4.33425D+00    |proj g|=  1.62675D-05\n",
      "\n",
      "           * * *\n",
      "\n",
      "Tit   = total number of iterations\n",
      "Tnf   = total number of function evaluations\n",
      "Tnint = total number of segments explored during Cauchy searches\n",
      "Skip  = number of BFGS updates skipped\n",
      "Nact  = number of active bounds at final generalized Cauchy point\n",
      "Projg = norm of the final projected gradient\n",
      "F     = final function value\n",
      "\n",
      "           * * *\n",
      "\n",
      "   N    Tit     Tnf  Tnint  Skip  Nact     Projg        F\n",
      "   14     50     54      1     0     0   1.627D-05   4.334D+00\n",
      "  F =   4.3342456096183133     \n",
      "\n",
      "STOP: TOTAL NO. of ITERATIONS REACHED LIMIT                 \n"
     ]
    },
    {
     "name": "stderr",
     "output_type": "stream",
     "text": [
      " This problem is unconstrained.\n"
     ]
    },
    {
     "name": "stdout",
     "output_type": "stream",
     "text": [
      "RUNNING THE L-BFGS-B CODE\n",
      "\n",
      "           * * *\n",
      "\n",
      "Machine precision = 2.220D-16\n",
      " N =           14     M =           10\n",
      "\n",
      "At X0         0 variables are exactly at the bounds\n",
      "\n",
      "At iterate    0    f=  4.48777D+00    |proj g|=  4.76614D-02\n",
      "\n",
      "At iterate    5    f=  4.37855D+00    |proj g|=  2.78026D-02\n",
      "\n",
      "At iterate   10    f=  4.34434D+00    |proj g|=  5.05483D-04\n",
      "\n",
      "At iterate   15    f=  4.34407D+00    |proj g|=  8.08020D-05\n",
      "\n",
      "At iterate   20    f=  4.34405D+00    |proj g|=  5.36597D-04\n",
      "\n",
      "At iterate   25    f=  4.34404D+00    |proj g|=  9.56786D-05\n",
      "\n",
      "At iterate   30    f=  4.34402D+00    |proj g|=  5.64199D-04\n",
      "\n",
      "At iterate   35    f=  4.34400D+00    |proj g|=  1.28648D-04\n",
      "\n",
      "At iterate   40    f=  4.34399D+00    |proj g|=  2.19929D-04\n",
      "\n",
      "At iterate   45    f=  4.34397D+00    |proj g|=  4.83393D-05\n"
     ]
    },
    {
     "name": "stderr",
     "output_type": "stream",
     "text": [
      "/opt/conda/lib/python3.10/site-packages/statsmodels/base/model.py:604: ConvergenceWarning:\n",
      "\n",
      "Maximum Likelihood optimization failed to converge. Check mle_retvals\n",
      "\n"
     ]
    },
    {
     "name": "stdout",
     "output_type": "stream",
     "text": [
      "\n",
      "At iterate   50    f=  4.34397D+00    |proj g|=  4.92005D-05\n",
      "\n",
      "           * * *\n",
      "\n",
      "Tit   = total number of iterations\n",
      "Tnf   = total number of function evaluations\n",
      "Tnint = total number of segments explored during Cauchy searches\n",
      "Skip  = number of BFGS updates skipped\n",
      "Nact  = number of active bounds at final generalized Cauchy point\n",
      "Projg = norm of the final projected gradient\n",
      "F     = final function value\n",
      "\n",
      "           * * *\n",
      "\n",
      "   N    Tit     Tnf  Tnint  Skip  Nact     Projg        F\n",
      "   14     50     54      1     0     0   4.920D-05   4.344D+00\n",
      "  F =   4.3439711105633014     \n",
      "\n",
      "STOP: TOTAL NO. of ITERATIONS REACHED LIMIT                 \n",
      "RUNNING THE L-BFGS-B CODE\n",
      "\n",
      "           * * *\n",
      "\n",
      "Machine precision = 2.220D-16\n",
      " N =           14     M =           10\n",
      "\n",
      "At X0         0 variables are exactly at the bounds\n",
      "\n",
      "At iterate    0    f=  4.48485D+00    |proj g|=  4.85832D-02\n"
     ]
    },
    {
     "name": "stderr",
     "output_type": "stream",
     "text": [
      " This problem is unconstrained.\n"
     ]
    },
    {
     "name": "stdout",
     "output_type": "stream",
     "text": [
      "\n",
      "At iterate    5    f=  4.37269D+00    |proj g|=  1.63333D-02\n",
      "\n",
      "At iterate   10    f=  4.34504D+00    |proj g|=  5.75636D-04\n",
      "\n",
      "At iterate   15    f=  4.34483D+00    |proj g|=  6.98790D-04\n",
      "\n",
      "At iterate   20    f=  4.34482D+00    |proj g|=  2.09289D-04\n",
      "\n",
      "At iterate   25    f=  4.34481D+00    |proj g|=  4.11229D-05\n",
      "\n",
      "At iterate   30    f=  4.34481D+00    |proj g|=  3.00812D-05\n",
      "\n",
      "At iterate   35    f=  4.34481D+00    |proj g|=  5.10893D-05\n",
      "\n",
      "At iterate   40    f=  4.34481D+00    |proj g|=  2.03887D-05\n",
      "\n",
      "At iterate   45    f=  4.34481D+00    |proj g|=  8.47601D-05\n"
     ]
    },
    {
     "name": "stderr",
     "output_type": "stream",
     "text": [
      "/opt/conda/lib/python3.10/site-packages/statsmodels/base/model.py:604: ConvergenceWarning:\n",
      "\n",
      "Maximum Likelihood optimization failed to converge. Check mle_retvals\n",
      "\n"
     ]
    },
    {
     "name": "stdout",
     "output_type": "stream",
     "text": [
      "\n",
      "At iterate   50    f=  4.34480D+00    |proj g|=  2.82202D-05\n",
      "\n",
      "           * * *\n",
      "\n",
      "Tit   = total number of iterations\n",
      "Tnf   = total number of function evaluations\n",
      "Tnint = total number of segments explored during Cauchy searches\n",
      "Skip  = number of BFGS updates skipped\n",
      "Nact  = number of active bounds at final generalized Cauchy point\n",
      "Projg = norm of the final projected gradient\n",
      "F     = final function value\n",
      "\n",
      "           * * *\n",
      "\n",
      "   N    Tit     Tnf  Tnint  Skip  Nact     Projg        F\n",
      "   14     50     56      1     0     0   2.822D-05   4.345D+00\n",
      "  F =   4.3448043949951183     \n",
      "\n",
      "STOP: TOTAL NO. of ITERATIONS REACHED LIMIT                 \n"
     ]
    },
    {
     "name": "stderr",
     "output_type": "stream",
     "text": [
      " This problem is unconstrained.\n"
     ]
    },
    {
     "name": "stdout",
     "output_type": "stream",
     "text": [
      "RUNNING THE L-BFGS-B CODE\n",
      "\n",
      "           * * *\n",
      "\n",
      "Machine precision = 2.220D-16\n",
      " N =           14     M =           10\n",
      "\n",
      "At X0         0 variables are exactly at the bounds\n",
      "\n",
      "At iterate    0    f=  4.48294D+00    |proj g|=  4.54963D-02\n",
      "\n",
      "At iterate    5    f=  4.37466D+00    |proj g|=  1.35176D-02\n",
      "\n",
      "At iterate   10    f=  4.34659D+00    |proj g|=  3.94865D-04\n",
      "\n",
      "At iterate   15    f=  4.34639D+00    |proj g|=  8.99689D-04\n",
      "\n",
      "At iterate   20    f=  4.34639D+00    |proj g|=  5.26178D-04\n",
      "\n",
      "At iterate   25    f=  4.34638D+00    |proj g|=  1.64266D-05\n",
      "\n",
      "At iterate   30    f=  4.34638D+00    |proj g|=  3.05958D-04\n",
      "\n",
      "At iterate   35    f=  4.34638D+00    |proj g|=  4.36118D-05\n",
      "\n",
      "At iterate   40    f=  4.34637D+00    |proj g|=  4.31334D-05\n",
      "\n",
      "At iterate   45    f=  4.34637D+00    |proj g|=  3.72355D-05\n"
     ]
    },
    {
     "name": "stderr",
     "output_type": "stream",
     "text": [
      "/opt/conda/lib/python3.10/site-packages/statsmodels/base/model.py:604: ConvergenceWarning:\n",
      "\n",
      "Maximum Likelihood optimization failed to converge. Check mle_retvals\n",
      "\n"
     ]
    },
    {
     "name": "stdout",
     "output_type": "stream",
     "text": [
      "\n",
      "At iterate   50    f=  4.34637D+00    |proj g|=  9.55461D-05\n",
      "\n",
      "           * * *\n",
      "\n",
      "Tit   = total number of iterations\n",
      "Tnf   = total number of function evaluations\n",
      "Tnint = total number of segments explored during Cauchy searches\n",
      "Skip  = number of BFGS updates skipped\n",
      "Nact  = number of active bounds at final generalized Cauchy point\n",
      "Projg = norm of the final projected gradient\n",
      "F     = final function value\n",
      "\n",
      "           * * *\n",
      "\n",
      "   N    Tit     Tnf  Tnint  Skip  Nact     Projg        F\n",
      "   14     50     53      1     0     0   9.555D-05   4.346D+00\n",
      "  F =   4.3463663105165562     \n",
      "\n",
      "STOP: TOTAL NO. of ITERATIONS REACHED LIMIT                 \n"
     ]
    },
    {
     "name": "stderr",
     "output_type": "stream",
     "text": [
      " This problem is unconstrained.\n"
     ]
    },
    {
     "name": "stdout",
     "output_type": "stream",
     "text": [
      "RUNNING THE L-BFGS-B CODE\n",
      "\n",
      "           * * *\n",
      "\n",
      "Machine precision = 2.220D-16\n",
      " N =           14     M =           10\n",
      "\n",
      "At X0         0 variables are exactly at the bounds\n",
      "\n",
      "At iterate    0    f=  4.47692D+00    |proj g|=  4.54144D-02\n",
      "\n",
      "At iterate    5    f=  4.37720D+00    |proj g|=  1.29757D-02\n",
      "\n",
      "At iterate   10    f=  4.33977D+00    |proj g|=  4.93463D-04\n",
      "\n",
      "At iterate   15    f=  4.33960D+00    |proj g|=  2.45872D-04\n",
      "\n",
      "At iterate   20    f=  4.33959D+00    |proj g|=  1.07038D-04\n",
      "\n",
      "At iterate   25    f=  4.33958D+00    |proj g|=  1.61918D-05\n",
      "\n",
      "At iterate   30    f=  4.33958D+00    |proj g|=  2.57387D-05\n",
      "\n",
      "At iterate   35    f=  4.33958D+00    |proj g|=  3.88025D-05\n",
      "\n",
      "At iterate   40    f=  4.33958D+00    |proj g|=  1.76121D-04\n",
      "\n",
      "At iterate   45    f=  4.33958D+00    |proj g|=  3.88943D-05\n"
     ]
    },
    {
     "name": "stderr",
     "output_type": "stream",
     "text": [
      "/opt/conda/lib/python3.10/site-packages/statsmodels/base/model.py:604: ConvergenceWarning:\n",
      "\n",
      "Maximum Likelihood optimization failed to converge. Check mle_retvals\n",
      "\n"
     ]
    },
    {
     "name": "stdout",
     "output_type": "stream",
     "text": [
      "\n",
      "At iterate   50    f=  4.33957D+00    |proj g|=  1.29207D-04\n",
      "\n",
      "           * * *\n",
      "\n",
      "Tit   = total number of iterations\n",
      "Tnf   = total number of function evaluations\n",
      "Tnint = total number of segments explored during Cauchy searches\n",
      "Skip  = number of BFGS updates skipped\n",
      "Nact  = number of active bounds at final generalized Cauchy point\n",
      "Projg = norm of the final projected gradient\n",
      "F     = final function value\n",
      "\n",
      "           * * *\n",
      "\n",
      "   N    Tit     Tnf  Tnint  Skip  Nact     Projg        F\n",
      "   14     50     54      1     0     0   1.292D-04   4.340D+00\n",
      "  F =   4.3395724577802728     \n",
      "\n",
      "STOP: TOTAL NO. of ITERATIONS REACHED LIMIT                 \n",
      "RUNNING THE L-BFGS-B CODE\n",
      "\n",
      "           * * *\n",
      "\n",
      "Machine precision = 2.220D-16\n",
      " N =           14     M =           10\n",
      "\n",
      "At X0         0 variables are exactly at the bounds\n",
      "\n",
      "At iterate    0    f=  4.48503D+00    |proj g|=  4.19388D-02\n"
     ]
    },
    {
     "name": "stderr",
     "output_type": "stream",
     "text": [
      " This problem is unconstrained.\n"
     ]
    },
    {
     "name": "stdout",
     "output_type": "stream",
     "text": [
      "\n",
      "At iterate    5    f=  4.39507D+00    |proj g|=  1.42982D-02\n",
      "\n",
      "At iterate   10    f=  4.34830D+00    |proj g|=  7.21674D-04\n",
      "\n",
      "At iterate   15    f=  4.34805D+00    |proj g|=  1.31191D-04\n",
      "\n",
      "At iterate   20    f=  4.34804D+00    |proj g|=  2.70570D-04\n",
      "\n",
      "At iterate   25    f=  4.34801D+00    |proj g|=  2.25058D-05\n",
      "\n",
      "At iterate   30    f=  4.34801D+00    |proj g|=  4.73342D-05\n",
      "\n",
      "At iterate   35    f=  4.34801D+00    |proj g|=  5.52317D-05\n",
      "\n",
      "At iterate   40    f=  4.34800D+00    |proj g|=  8.90545D-05\n",
      "\n",
      "At iterate   45    f=  4.34799D+00    |proj g|=  2.42936D-05\n"
     ]
    },
    {
     "name": "stderr",
     "output_type": "stream",
     "text": [
      "/opt/conda/lib/python3.10/site-packages/statsmodels/base/model.py:604: ConvergenceWarning:\n",
      "\n",
      "Maximum Likelihood optimization failed to converge. Check mle_retvals\n",
      "\n"
     ]
    },
    {
     "name": "stdout",
     "output_type": "stream",
     "text": [
      "\n",
      "At iterate   50    f=  4.34798D+00    |proj g|=  2.41261D-04\n",
      "\n",
      "           * * *\n",
      "\n",
      "Tit   = total number of iterations\n",
      "Tnf   = total number of function evaluations\n",
      "Tnint = total number of segments explored during Cauchy searches\n",
      "Skip  = number of BFGS updates skipped\n",
      "Nact  = number of active bounds at final generalized Cauchy point\n",
      "Projg = norm of the final projected gradient\n",
      "F     = final function value\n",
      "\n",
      "           * * *\n",
      "\n",
      "   N    Tit     Tnf  Tnint  Skip  Nact     Projg        F\n",
      "   14     50     57      1     0     0   2.413D-04   4.348D+00\n",
      "  F =   4.3479839892557699     \n",
      "\n",
      "STOP: TOTAL NO. of ITERATIONS REACHED LIMIT                 \n",
      "RUNNING THE L-BFGS-B CODE\n",
      "\n",
      "           * * *\n",
      "\n",
      "Machine precision = 2.220D-16\n",
      " N =           14     M =           10\n",
      "\n",
      "At X0         0 variables are exactly at the bounds\n",
      "\n",
      "At iterate    0    f=  4.48203D+00    |proj g|=  4.23855D-02\n"
     ]
    },
    {
     "name": "stderr",
     "output_type": "stream",
     "text": [
      " This problem is unconstrained.\n"
     ]
    },
    {
     "name": "stdout",
     "output_type": "stream",
     "text": [
      "\n",
      "At iterate    5    f=  4.38703D+00    |proj g|=  1.38988D-02\n",
      "\n",
      "At iterate   10    f=  4.34300D+00    |proj g|=  5.16001D-04\n",
      "\n",
      "At iterate   15    f=  4.34263D+00    |proj g|=  2.68162D-04\n",
      "\n",
      "At iterate   20    f=  4.34261D+00    |proj g|=  2.13407D-04\n",
      "\n",
      "At iterate   25    f=  4.34260D+00    |proj g|=  7.41888D-05\n",
      "\n",
      "At iterate   30    f=  4.34259D+00    |proj g|=  7.05786D-05\n",
      "\n",
      "At iterate   35    f=  4.34258D+00    |proj g|=  1.30889D-04\n",
      "\n",
      "At iterate   40    f=  4.34257D+00    |proj g|=  5.25386D-05\n",
      "\n",
      "At iterate   45    f=  4.34256D+00    |proj g|=  4.92018D-05\n"
     ]
    },
    {
     "name": "stderr",
     "output_type": "stream",
     "text": [
      "/opt/conda/lib/python3.10/site-packages/statsmodels/base/model.py:604: ConvergenceWarning:\n",
      "\n",
      "Maximum Likelihood optimization failed to converge. Check mle_retvals\n",
      "\n"
     ]
    },
    {
     "name": "stdout",
     "output_type": "stream",
     "text": [
      "\n",
      "At iterate   50    f=  4.34255D+00    |proj g|=  5.31430D-05\n",
      "\n",
      "           * * *\n",
      "\n",
      "Tit   = total number of iterations\n",
      "Tnf   = total number of function evaluations\n",
      "Tnint = total number of segments explored during Cauchy searches\n",
      "Skip  = number of BFGS updates skipped\n",
      "Nact  = number of active bounds at final generalized Cauchy point\n",
      "Projg = norm of the final projected gradient\n",
      "F     = final function value\n",
      "\n",
      "           * * *\n",
      "\n",
      "   N    Tit     Tnf  Tnint  Skip  Nact     Projg        F\n",
      "   14     50     55      1     0     0   5.314D-05   4.343D+00\n",
      "  F =   4.3425545572201019     \n",
      "\n",
      "STOP: TOTAL NO. of ITERATIONS REACHED LIMIT                 \n",
      "RUNNING THE L-BFGS-B CODE\n",
      "\n",
      "           * * *\n",
      "\n",
      "Machine precision = 2.220D-16\n",
      " N =           14     M =           10\n",
      "\n",
      "At X0         0 variables are exactly at the bounds\n",
      "\n",
      "At iterate    0    f=  4.47735D+00    |proj g|=  4.45905D-02\n"
     ]
    },
    {
     "name": "stderr",
     "output_type": "stream",
     "text": [
      " This problem is unconstrained.\n"
     ]
    },
    {
     "name": "stdout",
     "output_type": "stream",
     "text": [
      "\n",
      "At iterate    5    f=  4.37594D+00    |proj g|=  1.21918D-02\n",
      "\n",
      "At iterate   10    f=  4.34065D+00    |proj g|=  6.46517D-04\n",
      "\n",
      "At iterate   15    f=  4.34017D+00    |proj g|=  1.45370D-04\n",
      "\n",
      "At iterate   20    f=  4.34016D+00    |proj g|=  6.39006D-05\n",
      "\n",
      "At iterate   25    f=  4.34015D+00    |proj g|=  2.86402D-04\n",
      "\n",
      "At iterate   30    f=  4.34014D+00    |proj g|=  6.69746D-05\n",
      "\n",
      "At iterate   35    f=  4.34014D+00    |proj g|=  1.54713D-04\n",
      "\n",
      "At iterate   40    f=  4.34014D+00    |proj g|=  9.99565D-05\n",
      "\n",
      "At iterate   45    f=  4.34012D+00    |proj g|=  7.50876D-05\n"
     ]
    },
    {
     "name": "stderr",
     "output_type": "stream",
     "text": [
      "/opt/conda/lib/python3.10/site-packages/statsmodels/base/model.py:604: ConvergenceWarning:\n",
      "\n",
      "Maximum Likelihood optimization failed to converge. Check mle_retvals\n",
      "\n"
     ]
    },
    {
     "name": "stdout",
     "output_type": "stream",
     "text": [
      "\n",
      "At iterate   50    f=  4.34011D+00    |proj g|=  2.37375D-04\n",
      "\n",
      "           * * *\n",
      "\n",
      "Tit   = total number of iterations\n",
      "Tnf   = total number of function evaluations\n",
      "Tnint = total number of segments explored during Cauchy searches\n",
      "Skip  = number of BFGS updates skipped\n",
      "Nact  = number of active bounds at final generalized Cauchy point\n",
      "Projg = norm of the final projected gradient\n",
      "F     = final function value\n",
      "\n",
      "           * * *\n",
      "\n",
      "   N    Tit     Tnf  Tnint  Skip  Nact     Projg        F\n",
      "   14     50     54      1     0     0   2.374D-04   4.340D+00\n",
      "  F =   4.3401136111039991     \n",
      "\n",
      "STOP: TOTAL NO. of ITERATIONS REACHED LIMIT                 \n"
     ]
    },
    {
     "name": "stderr",
     "output_type": "stream",
     "text": [
      " This problem is unconstrained.\n"
     ]
    },
    {
     "name": "stdout",
     "output_type": "stream",
     "text": [
      "RUNNING THE L-BFGS-B CODE\n",
      "\n",
      "           * * *\n",
      "\n",
      "Machine precision = 2.220D-16\n",
      " N =           14     M =           10\n",
      "\n",
      "At X0         0 variables are exactly at the bounds\n",
      "\n",
      "At iterate    0    f=  4.50408D+00    |proj g|=  4.10179D-02\n",
      "\n",
      "At iterate    5    f=  4.40525D+00    |proj g|=  1.25401D-02\n",
      "\n",
      "At iterate   10    f=  4.36722D+00    |proj g|=  8.55166D-04\n",
      "\n",
      "At iterate   15    f=  4.36655D+00    |proj g|=  2.03540D-04\n",
      "\n",
      "At iterate   20    f=  4.36650D+00    |proj g|=  3.12405D-04\n",
      "\n",
      "At iterate   25    f=  4.36649D+00    |proj g|=  1.14225D-04\n",
      "\n",
      "At iterate   30    f=  4.36649D+00    |proj g|=  2.86018D-04\n",
      "\n",
      "At iterate   35    f=  4.36648D+00    |proj g|=  1.46803D-04\n",
      "\n",
      "At iterate   40    f=  4.36648D+00    |proj g|=  4.64210D-05\n",
      "\n",
      "At iterate   45    f=  4.36648D+00    |proj g|=  5.00959D-04\n"
     ]
    },
    {
     "name": "stderr",
     "output_type": "stream",
     "text": [
      "/opt/conda/lib/python3.10/site-packages/statsmodels/base/model.py:604: ConvergenceWarning:\n",
      "\n",
      "Maximum Likelihood optimization failed to converge. Check mle_retvals\n",
      "\n"
     ]
    },
    {
     "name": "stdout",
     "output_type": "stream",
     "text": [
      "\n",
      "At iterate   50    f=  4.36647D+00    |proj g|=  6.28398D-05\n",
      "\n",
      "           * * *\n",
      "\n",
      "Tit   = total number of iterations\n",
      "Tnf   = total number of function evaluations\n",
      "Tnint = total number of segments explored during Cauchy searches\n",
      "Skip  = number of BFGS updates skipped\n",
      "Nact  = number of active bounds at final generalized Cauchy point\n",
      "Projg = norm of the final projected gradient\n",
      "F     = final function value\n",
      "\n",
      "           * * *\n",
      "\n",
      "   N    Tit     Tnf  Tnint  Skip  Nact     Projg        F\n",
      "   14     50     54      1     0     0   6.284D-05   4.366D+00\n",
      "  F =   4.3664690519507170     \n",
      "\n",
      "STOP: TOTAL NO. of ITERATIONS REACHED LIMIT                 \n",
      "RUNNING THE L-BFGS-B CODE\n",
      "\n",
      "           * * *\n",
      "\n",
      "Machine precision = 2.220D-16\n",
      " N =           14     M =           10\n",
      "\n",
      "At X0         0 variables are exactly at the bounds\n",
      "\n",
      "At iterate    0    f=  4.51722D+00    |proj g|=  4.39733D-02\n"
     ]
    },
    {
     "name": "stderr",
     "output_type": "stream",
     "text": [
      " This problem is unconstrained.\n"
     ]
    },
    {
     "name": "stdout",
     "output_type": "stream",
     "text": [
      "\n",
      "At iterate    5    f=  4.41668D+00    |proj g|=  1.20572D-02\n",
      "\n",
      "At iterate   10    f=  4.38131D+00    |proj g|=  4.10304D-04\n",
      "\n",
      "At iterate   15    f=  4.38114D+00    |proj g|=  1.26291D-03\n",
      "\n",
      "At iterate   20    f=  4.38112D+00    |proj g|=  2.50060D-04\n",
      "\n",
      "At iterate   25    f=  4.38110D+00    |proj g|=  1.45369D-04\n",
      "\n",
      "At iterate   30    f=  4.38110D+00    |proj g|=  1.54762D-05\n",
      "\n",
      "At iterate   35    f=  4.38110D+00    |proj g|=  1.76410D-05\n",
      "\n",
      "At iterate   40    f=  4.38110D+00    |proj g|=  2.38751D-04\n",
      "\n",
      "At iterate   45    f=  4.38109D+00    |proj g|=  1.50069D-04\n"
     ]
    },
    {
     "name": "stderr",
     "output_type": "stream",
     "text": [
      "/opt/conda/lib/python3.10/site-packages/statsmodels/base/model.py:604: ConvergenceWarning:\n",
      "\n",
      "Maximum Likelihood optimization failed to converge. Check mle_retvals\n",
      "\n"
     ]
    },
    {
     "name": "stdout",
     "output_type": "stream",
     "text": [
      "\n",
      "At iterate   50    f=  4.38109D+00    |proj g|=  3.38519D-05\n",
      "\n",
      "           * * *\n",
      "\n",
      "Tit   = total number of iterations\n",
      "Tnf   = total number of function evaluations\n",
      "Tnint = total number of segments explored during Cauchy searches\n",
      "Skip  = number of BFGS updates skipped\n",
      "Nact  = number of active bounds at final generalized Cauchy point\n",
      "Projg = norm of the final projected gradient\n",
      "F     = final function value\n",
      "\n",
      "           * * *\n",
      "\n",
      "   N    Tit     Tnf  Tnint  Skip  Nact     Projg        F\n",
      "   14     50     54      1     0     0   3.385D-05   4.381D+00\n",
      "  F =   4.3810944585932674     \n",
      "\n",
      "STOP: TOTAL NO. of ITERATIONS REACHED LIMIT                 \n",
      "RUNNING THE L-BFGS-B CODE\n",
      "\n",
      "           * * *\n",
      "\n",
      "Machine precision = 2.220D-16\n",
      " N =           14     M =           10\n",
      "\n",
      "At X0         0 variables are exactly at the bounds\n",
      "\n",
      "At iterate    0    f=  4.50332D+00    |proj g|=  4.48159D-02\n"
     ]
    },
    {
     "name": "stderr",
     "output_type": "stream",
     "text": [
      " This problem is unconstrained.\n"
     ]
    },
    {
     "name": "stdout",
     "output_type": "stream",
     "text": [
      "\n",
      "At iterate    5    f=  4.39594D+00    |proj g|=  1.03266D-02\n",
      "\n",
      "At iterate   10    f=  4.37066D+00    |proj g|=  4.49463D-04\n",
      "\n",
      "At iterate   15    f=  4.37039D+00    |proj g|=  1.21712D-03\n",
      "\n",
      "At iterate   20    f=  4.37037D+00    |proj g|=  5.51943D-04\n",
      "\n",
      "At iterate   25    f=  4.37034D+00    |proj g|=  8.31140D-05\n",
      "\n",
      "At iterate   30    f=  4.37033D+00    |proj g|=  1.46797D-04\n",
      "\n",
      "At iterate   35    f=  4.37033D+00    |proj g|=  4.87640D-05\n",
      "\n",
      "At iterate   40    f=  4.37033D+00    |proj g|=  9.65017D-05\n",
      "\n",
      "At iterate   45    f=  4.37033D+00    |proj g|=  5.98228D-05\n"
     ]
    },
    {
     "name": "stderr",
     "output_type": "stream",
     "text": [
      "/opt/conda/lib/python3.10/site-packages/statsmodels/base/model.py:604: ConvergenceWarning:\n",
      "\n",
      "Maximum Likelihood optimization failed to converge. Check mle_retvals\n",
      "\n"
     ]
    },
    {
     "name": "stdout",
     "output_type": "stream",
     "text": [
      "\n",
      "At iterate   50    f=  4.37033D+00    |proj g|=  1.07093D-04\n",
      "\n",
      "           * * *\n",
      "\n",
      "Tit   = total number of iterations\n",
      "Tnf   = total number of function evaluations\n",
      "Tnint = total number of segments explored during Cauchy searches\n",
      "Skip  = number of BFGS updates skipped\n",
      "Nact  = number of active bounds at final generalized Cauchy point\n",
      "Projg = norm of the final projected gradient\n",
      "F     = final function value\n",
      "\n",
      "           * * *\n",
      "\n",
      "   N    Tit     Tnf  Tnint  Skip  Nact     Projg        F\n",
      "   14     50     56      1     0     0   1.071D-04   4.370D+00\n",
      "  F =   4.3703307856420803     \n",
      "\n",
      "STOP: TOTAL NO. of ITERATIONS REACHED LIMIT                 \n"
     ]
    },
    {
     "name": "stderr",
     "output_type": "stream",
     "text": [
      " This problem is unconstrained.\n"
     ]
    },
    {
     "name": "stdout",
     "output_type": "stream",
     "text": [
      "RUNNING THE L-BFGS-B CODE\n",
      "\n",
      "           * * *\n",
      "\n",
      "Machine precision = 2.220D-16\n",
      " N =           14     M =           10\n",
      "\n",
      "At X0         0 variables are exactly at the bounds\n",
      "\n",
      "At iterate    0    f=  4.49467D+00    |proj g|=  4.62365D-02\n",
      "\n",
      "At iterate    5    f=  4.36693D+00    |proj g|=  2.94920D-02\n",
      "\n",
      "At iterate   10    f=  4.35938D+00    |proj g|=  9.78440D-04\n",
      "\n",
      "At iterate   15    f=  4.35920D+00    |proj g|=  6.87741D-04\n",
      "\n",
      "At iterate   20    f=  4.35916D+00    |proj g|=  2.13580D-04\n",
      "\n",
      "At iterate   25    f=  4.35916D+00    |proj g|=  2.77294D-04\n",
      "\n",
      "At iterate   30    f=  4.35915D+00    |proj g|=  3.77496D-04\n",
      "\n",
      "At iterate   35    f=  4.35913D+00    |proj g|=  1.75118D-04\n",
      "\n",
      "At iterate   40    f=  4.35912D+00    |proj g|=  7.55182D-04\n",
      "\n",
      "At iterate   45    f=  4.35911D+00    |proj g|=  3.14941D-04\n"
     ]
    },
    {
     "name": "stderr",
     "output_type": "stream",
     "text": [
      "/opt/conda/lib/python3.10/site-packages/statsmodels/base/model.py:604: ConvergenceWarning:\n",
      "\n",
      "Maximum Likelihood optimization failed to converge. Check mle_retvals\n",
      "\n"
     ]
    },
    {
     "name": "stdout",
     "output_type": "stream",
     "text": [
      "\n",
      "At iterate   50    f=  4.35910D+00    |proj g|=  9.79157D-05\n",
      "\n",
      "           * * *\n",
      "\n",
      "Tit   = total number of iterations\n",
      "Tnf   = total number of function evaluations\n",
      "Tnint = total number of segments explored during Cauchy searches\n",
      "Skip  = number of BFGS updates skipped\n",
      "Nact  = number of active bounds at final generalized Cauchy point\n",
      "Projg = norm of the final projected gradient\n",
      "F     = final function value\n",
      "\n",
      "           * * *\n",
      "\n",
      "   N    Tit     Tnf  Tnint  Skip  Nact     Projg        F\n",
      "   14     50     59      1     0     0   9.792D-05   4.359D+00\n",
      "  F =   4.3591043827665352     \n",
      "\n",
      "STOP: TOTAL NO. of ITERATIONS REACHED LIMIT                 \n"
     ]
    },
    {
     "name": "stderr",
     "output_type": "stream",
     "text": [
      " This problem is unconstrained.\n"
     ]
    },
    {
     "name": "stdout",
     "output_type": "stream",
     "text": [
      "RUNNING THE L-BFGS-B CODE\n",
      "\n",
      "           * * *\n",
      "\n",
      "Machine precision = 2.220D-16\n",
      " N =           14     M =           10\n",
      "\n",
      "At X0         0 variables are exactly at the bounds\n",
      "\n",
      "At iterate    0    f=  4.50738D+00    |proj g|=  4.07518D-02\n",
      "\n",
      "At iterate    5    f=  4.38771D+00    |proj g|=  4.08382D-02\n",
      "\n",
      "At iterate   10    f=  4.37778D+00    |proj g|=  4.03916D-04\n",
      "\n",
      "At iterate   15    f=  4.37752D+00    |proj g|=  9.05900D-04\n",
      "\n",
      "At iterate   20    f=  4.37751D+00    |proj g|=  4.02782D-04\n",
      "\n",
      "At iterate   25    f=  4.37749D+00    |proj g|=  8.62221D-05\n",
      "\n",
      "At iterate   30    f=  4.37749D+00    |proj g|=  3.53193D-05\n",
      "\n",
      "At iterate   35    f=  4.37748D+00    |proj g|=  2.30806D-04\n",
      "\n",
      "At iterate   40    f=  4.37747D+00    |proj g|=  4.71885D-04\n",
      "\n",
      "At iterate   45    f=  4.37745D+00    |proj g|=  1.58657D-04\n"
     ]
    },
    {
     "name": "stderr",
     "output_type": "stream",
     "text": [
      "/opt/conda/lib/python3.10/site-packages/statsmodels/base/model.py:604: ConvergenceWarning:\n",
      "\n",
      "Maximum Likelihood optimization failed to converge. Check mle_retvals\n",
      "\n"
     ]
    },
    {
     "name": "stdout",
     "output_type": "stream",
     "text": [
      "\n",
      "At iterate   50    f=  4.37744D+00    |proj g|=  1.65175D-04\n",
      "\n",
      "           * * *\n",
      "\n",
      "Tit   = total number of iterations\n",
      "Tnf   = total number of function evaluations\n",
      "Tnint = total number of segments explored during Cauchy searches\n",
      "Skip  = number of BFGS updates skipped\n",
      "Nact  = number of active bounds at final generalized Cauchy point\n",
      "Projg = norm of the final projected gradient\n",
      "F     = final function value\n",
      "\n",
      "           * * *\n",
      "\n",
      "   N    Tit     Tnf  Tnint  Skip  Nact     Projg        F\n",
      "   14     50     52      1     0     0   1.652D-04   4.377D+00\n",
      "  F =   4.3774407967988997     \n",
      "\n",
      "STOP: TOTAL NO. of ITERATIONS REACHED LIMIT                 \n",
      "RUNNING THE L-BFGS-B CODE\n",
      "\n",
      "           * * *\n",
      "\n",
      "Machine precision = 2.220D-16\n",
      " N =           14     M =           10\n",
      "\n",
      "At X0         0 variables are exactly at the bounds\n",
      "\n",
      "At iterate    0    f=  4.50092D+00    |proj g|=  3.90233D-02\n"
     ]
    },
    {
     "name": "stderr",
     "output_type": "stream",
     "text": [
      " This problem is unconstrained.\n"
     ]
    },
    {
     "name": "stdout",
     "output_type": "stream",
     "text": [
      "\n",
      "At iterate    5    f=  4.38767D+00    |proj g|=  1.73264D-02\n",
      "\n",
      "At iterate   10    f=  4.37460D+00    |proj g|=  1.74293D-03\n",
      "\n",
      "At iterate   15    f=  4.37440D+00    |proj g|=  1.23494D-04\n",
      "\n",
      "At iterate   20    f=  4.37436D+00    |proj g|=  9.24201D-04\n",
      "\n",
      "At iterate   25    f=  4.37436D+00    |proj g|=  5.67021D-05\n",
      "\n",
      "At iterate   30    f=  4.37435D+00    |proj g|=  9.12287D-05\n",
      "\n",
      "At iterate   35    f=  4.37435D+00    |proj g|=  1.07437D-04\n",
      "\n",
      "At iterate   40    f=  4.37434D+00    |proj g|=  2.28311D-04\n",
      "\n",
      "At iterate   45    f=  4.37433D+00    |proj g|=  6.19401D-05\n"
     ]
    },
    {
     "name": "stderr",
     "output_type": "stream",
     "text": [
      "/opt/conda/lib/python3.10/site-packages/statsmodels/base/model.py:604: ConvergenceWarning:\n",
      "\n",
      "Maximum Likelihood optimization failed to converge. Check mle_retvals\n",
      "\n"
     ]
    },
    {
     "name": "stdout",
     "output_type": "stream",
     "text": [
      "\n",
      "At iterate   50    f=  4.37432D+00    |proj g|=  7.91883D-05\n",
      "\n",
      "           * * *\n",
      "\n",
      "Tit   = total number of iterations\n",
      "Tnf   = total number of function evaluations\n",
      "Tnint = total number of segments explored during Cauchy searches\n",
      "Skip  = number of BFGS updates skipped\n",
      "Nact  = number of active bounds at final generalized Cauchy point\n",
      "Projg = norm of the final projected gradient\n",
      "F     = final function value\n",
      "\n",
      "           * * *\n",
      "\n",
      "   N    Tit     Tnf  Tnint  Skip  Nact     Projg        F\n",
      "   14     50     58      1     0     0   7.919D-05   4.374D+00\n",
      "  F =   4.3743223022244910     \n",
      "\n",
      "STOP: TOTAL NO. of ITERATIONS REACHED LIMIT                 \n"
     ]
    },
    {
     "name": "stderr",
     "output_type": "stream",
     "text": [
      " This problem is unconstrained.\n"
     ]
    },
    {
     "name": "stdout",
     "output_type": "stream",
     "text": [
      "RUNNING THE L-BFGS-B CODE\n",
      "\n",
      "           * * *\n",
      "\n",
      "Machine precision = 2.220D-16\n",
      " N =           14     M =           10\n",
      "\n",
      "At X0         0 variables are exactly at the bounds\n",
      "\n",
      "At iterate    0    f=  4.49840D+00    |proj g|=  3.91134D-02\n",
      "\n",
      "At iterate    5    f=  4.40045D+00    |proj g|=  1.52261D-02\n",
      "\n",
      "At iterate   10    f=  4.37755D+00    |proj g|=  5.80780D-04\n",
      "\n",
      "At iterate   15    f=  4.37726D+00    |proj g|=  1.89360D-04\n",
      "\n",
      "At iterate   20    f=  4.37722D+00    |proj g|=  1.46968D-04\n",
      "\n",
      "At iterate   25    f=  4.37721D+00    |proj g|=  1.68142D-05\n",
      "\n",
      "At iterate   30    f=  4.37721D+00    |proj g|=  1.59747D-04\n",
      "\n",
      "At iterate   35    f=  4.37721D+00    |proj g|=  3.77396D-05\n",
      "\n",
      "At iterate   40    f=  4.37721D+00    |proj g|=  1.38783D-04\n",
      "\n",
      "At iterate   45    f=  4.37721D+00    |proj g|=  1.84711D-04\n"
     ]
    },
    {
     "name": "stderr",
     "output_type": "stream",
     "text": [
      "/opt/conda/lib/python3.10/site-packages/statsmodels/base/model.py:604: ConvergenceWarning:\n",
      "\n",
      "Maximum Likelihood optimization failed to converge. Check mle_retvals\n",
      "\n"
     ]
    },
    {
     "name": "stdout",
     "output_type": "stream",
     "text": [
      "\n",
      "At iterate   50    f=  4.37720D+00    |proj g|=  6.95688D-05\n",
      "\n",
      "           * * *\n",
      "\n",
      "Tit   = total number of iterations\n",
      "Tnf   = total number of function evaluations\n",
      "Tnint = total number of segments explored during Cauchy searches\n",
      "Skip  = number of BFGS updates skipped\n",
      "Nact  = number of active bounds at final generalized Cauchy point\n",
      "Projg = norm of the final projected gradient\n",
      "F     = final function value\n",
      "\n",
      "           * * *\n",
      "\n",
      "   N    Tit     Tnf  Tnint  Skip  Nact     Projg        F\n",
      "   14     50     53      1     0     0   6.957D-05   4.377D+00\n",
      "  F =   4.3771994400481029     \n",
      "\n",
      "STOP: TOTAL NO. of ITERATIONS REACHED LIMIT                 \n",
      "RUNNING THE L-BFGS-B CODE\n",
      "\n",
      "           * * *\n",
      "\n",
      "Machine precision = 2.220D-16\n",
      " N =           14     M =           10\n",
      "\n",
      "At X0         0 variables are exactly at the bounds\n",
      "\n",
      "At iterate    0    f=  4.49435D+00    |proj g|=  4.08409D-02\n"
     ]
    },
    {
     "name": "stderr",
     "output_type": "stream",
     "text": [
      " This problem is unconstrained.\n"
     ]
    },
    {
     "name": "stdout",
     "output_type": "stream",
     "text": [
      "\n",
      "At iterate    5    f=  4.39879D+00    |proj g|=  1.90829D-02\n",
      "\n",
      "At iterate   10    f=  4.37082D+00    |proj g|=  8.86404D-04\n",
      "\n",
      "At iterate   15    f=  4.37066D+00    |proj g|=  1.06921D-04\n",
      "\n",
      "At iterate   20    f=  4.37065D+00    |proj g|=  2.85082D-04\n",
      "\n",
      "At iterate   25    f=  4.37064D+00    |proj g|=  1.50926D-04\n",
      "\n",
      "At iterate   30    f=  4.37064D+00    |proj g|=  2.90227D-05\n",
      "\n",
      "At iterate   35    f=  4.37064D+00    |proj g|=  6.41860D-05\n",
      "\n",
      "At iterate   40    f=  4.37063D+00    |proj g|=  1.25008D-04\n",
      "\n",
      "At iterate   45    f=  4.37063D+00    |proj g|=  2.05795D-04\n"
     ]
    },
    {
     "name": "stderr",
     "output_type": "stream",
     "text": [
      "/opt/conda/lib/python3.10/site-packages/statsmodels/base/model.py:604: ConvergenceWarning:\n",
      "\n",
      "Maximum Likelihood optimization failed to converge. Check mle_retvals\n",
      "\n"
     ]
    },
    {
     "name": "stdout",
     "output_type": "stream",
     "text": [
      "\n",
      "At iterate   50    f=  4.37062D+00    |proj g|=  1.08694D-04\n",
      "\n",
      "           * * *\n",
      "\n",
      "Tit   = total number of iterations\n",
      "Tnf   = total number of function evaluations\n",
      "Tnint = total number of segments explored during Cauchy searches\n",
      "Skip  = number of BFGS updates skipped\n",
      "Nact  = number of active bounds at final generalized Cauchy point\n",
      "Projg = norm of the final projected gradient\n",
      "F     = final function value\n",
      "\n",
      "           * * *\n",
      "\n",
      "   N    Tit     Tnf  Tnint  Skip  Nact     Projg        F\n",
      "   14     50     57      1     0     0   1.087D-04   4.371D+00\n",
      "  F =   4.3706199596973354     \n",
      "\n",
      "STOP: TOTAL NO. of ITERATIONS REACHED LIMIT                 \n"
     ]
    },
    {
     "name": "stderr",
     "output_type": "stream",
     "text": [
      " This problem is unconstrained.\n"
     ]
    },
    {
     "name": "stdout",
     "output_type": "stream",
     "text": [
      "RUNNING THE L-BFGS-B CODE\n",
      "\n",
      "           * * *\n",
      "\n",
      "Machine precision = 2.220D-16\n",
      " N =           14     M =           10\n",
      "\n",
      "At X0         0 variables are exactly at the bounds\n",
      "\n",
      "At iterate    0    f=  4.49774D+00    |proj g|=  4.09947D-02\n",
      "\n",
      "At iterate    5    f=  4.40200D+00    |proj g|=  1.93328D-02\n",
      "\n",
      "At iterate   10    f=  4.37201D+00    |proj g|=  3.35208D-04\n",
      "\n",
      "At iterate   15    f=  4.37182D+00    |proj g|=  3.49810D-04\n",
      "\n",
      "At iterate   20    f=  4.37179D+00    |proj g|=  1.36637D-04\n",
      "\n",
      "At iterate   25    f=  4.37179D+00    |proj g|=  2.31085D-04\n",
      "\n",
      "At iterate   30    f=  4.37178D+00    |proj g|=  1.96268D-05\n",
      "\n",
      "At iterate   35    f=  4.37178D+00    |proj g|=  6.82596D-05\n",
      "\n",
      "At iterate   40    f=  4.37178D+00    |proj g|=  4.36621D-04\n",
      "\n",
      "At iterate   45    f=  4.37177D+00    |proj g|=  1.76669D-04\n"
     ]
    },
    {
     "name": "stderr",
     "output_type": "stream",
     "text": [
      "/opt/conda/lib/python3.10/site-packages/statsmodels/base/model.py:604: ConvergenceWarning:\n",
      "\n",
      "Maximum Likelihood optimization failed to converge. Check mle_retvals\n",
      "\n"
     ]
    },
    {
     "name": "stdout",
     "output_type": "stream",
     "text": [
      "\n",
      "At iterate   50    f=  4.37177D+00    |proj g|=  5.76947D-05\n",
      "\n",
      "           * * *\n",
      "\n",
      "Tit   = total number of iterations\n",
      "Tnf   = total number of function evaluations\n",
      "Tnint = total number of segments explored during Cauchy searches\n",
      "Skip  = number of BFGS updates skipped\n",
      "Nact  = number of active bounds at final generalized Cauchy point\n",
      "Projg = norm of the final projected gradient\n",
      "F     = final function value\n",
      "\n",
      "           * * *\n",
      "\n",
      "   N    Tit     Tnf  Tnint  Skip  Nact     Projg        F\n",
      "   14     50     55      1     0     0   5.769D-05   4.372D+00\n",
      "  F =   4.3717652317415201     \n",
      "\n",
      "STOP: TOTAL NO. of ITERATIONS REACHED LIMIT                 \n",
      "RUNNING THE L-BFGS-B CODE\n",
      "\n",
      "           * * *\n",
      "\n",
      "Machine precision = 2.220D-16\n",
      " N =           14     M =           10\n",
      "\n",
      "At X0         0 variables are exactly at the bounds\n",
      "\n",
      "At iterate    0    f=  4.49632D+00    |proj g|=  3.84413D-02\n"
     ]
    },
    {
     "name": "stderr",
     "output_type": "stream",
     "text": [
      " This problem is unconstrained.\n"
     ]
    },
    {
     "name": "stdout",
     "output_type": "stream",
     "text": [
      "\n",
      "At iterate    5    f=  4.39763D+00    |proj g|=  1.60725D-02\n",
      "\n",
      "At iterate   10    f=  4.36902D+00    |proj g|=  3.47823D-04\n",
      "\n",
      "At iterate   15    f=  4.36883D+00    |proj g|=  2.39379D-03\n",
      "\n",
      "At iterate   20    f=  4.36875D+00    |proj g|=  1.16299D-03\n",
      "\n",
      "At iterate   25    f=  4.36873D+00    |proj g|=  3.72169D-04\n",
      "\n",
      "At iterate   30    f=  4.36873D+00    |proj g|=  2.33801D-05\n",
      "\n",
      "At iterate   35    f=  4.36873D+00    |proj g|=  3.35006D-05\n",
      "\n",
      "At iterate   40    f=  4.36872D+00    |proj g|=  5.07963D-05\n",
      "\n",
      "At iterate   45    f=  4.36871D+00    |proj g|=  6.49632D-05\n"
     ]
    },
    {
     "name": "stderr",
     "output_type": "stream",
     "text": [
      "/opt/conda/lib/python3.10/site-packages/statsmodels/base/model.py:604: ConvergenceWarning:\n",
      "\n",
      "Maximum Likelihood optimization failed to converge. Check mle_retvals\n",
      "\n"
     ]
    },
    {
     "name": "stdout",
     "output_type": "stream",
     "text": [
      "\n",
      "At iterate   50    f=  4.36870D+00    |proj g|=  8.09690D-05\n",
      "\n",
      "           * * *\n",
      "\n",
      "Tit   = total number of iterations\n",
      "Tnf   = total number of function evaluations\n",
      "Tnint = total number of segments explored during Cauchy searches\n",
      "Skip  = number of BFGS updates skipped\n",
      "Nact  = number of active bounds at final generalized Cauchy point\n",
      "Projg = norm of the final projected gradient\n",
      "F     = final function value\n",
      "\n",
      "           * * *\n",
      "\n",
      "   N    Tit     Tnf  Tnint  Skip  Nact     Projg        F\n",
      "   14     50     60      1     0     0   8.097D-05   4.369D+00\n",
      "  F =   4.3686962611267237     \n",
      "\n",
      "STOP: TOTAL NO. of ITERATIONS REACHED LIMIT                 \n"
     ]
    },
    {
     "name": "stderr",
     "output_type": "stream",
     "text": [
      " This problem is unconstrained.\n"
     ]
    },
    {
     "name": "stdout",
     "output_type": "stream",
     "text": [
      "RUNNING THE L-BFGS-B CODE\n",
      "\n",
      "           * * *\n",
      "\n",
      "Machine precision = 2.220D-16\n",
      " N =           14     M =           10\n",
      "\n",
      "At X0         0 variables are exactly at the bounds\n",
      "\n",
      "At iterate    0    f=  4.49863D+00    |proj g|=  4.12211D-02\n",
      "\n",
      "At iterate    5    f=  4.39847D+00    |proj g|=  1.74337D-02\n",
      "\n",
      "At iterate   10    f=  4.36290D+00    |proj g|=  3.60893D-04\n",
      "\n",
      "At iterate   15    f=  4.36278D+00    |proj g|=  1.01806D-04\n",
      "\n",
      "At iterate   20    f=  4.36276D+00    |proj g|=  4.34895D-04\n",
      "\n",
      "At iterate   25    f=  4.36275D+00    |proj g|=  2.82740D-05\n",
      "\n",
      "At iterate   30    f=  4.36274D+00    |proj g|=  5.70058D-05\n",
      "\n",
      "At iterate   35    f=  4.36273D+00    |proj g|=  4.10223D-04\n",
      "\n",
      "At iterate   40    f=  4.36271D+00    |proj g|=  7.37208D-05\n",
      "\n",
      "At iterate   45    f=  4.36271D+00    |proj g|=  1.09033D-04\n"
     ]
    },
    {
     "name": "stderr",
     "output_type": "stream",
     "text": [
      "/opt/conda/lib/python3.10/site-packages/statsmodels/base/model.py:604: ConvergenceWarning:\n",
      "\n",
      "Maximum Likelihood optimization failed to converge. Check mle_retvals\n",
      "\n"
     ]
    },
    {
     "name": "stdout",
     "output_type": "stream",
     "text": [
      "\n",
      "At iterate   50    f=  4.36270D+00    |proj g|=  9.62186D-05\n",
      "\n",
      "           * * *\n",
      "\n",
      "Tit   = total number of iterations\n",
      "Tnf   = total number of function evaluations\n",
      "Tnint = total number of segments explored during Cauchy searches\n",
      "Skip  = number of BFGS updates skipped\n",
      "Nact  = number of active bounds at final generalized Cauchy point\n",
      "Projg = norm of the final projected gradient\n",
      "F     = final function value\n",
      "\n",
      "           * * *\n",
      "\n",
      "   N    Tit     Tnf  Tnint  Skip  Nact     Projg        F\n",
      "   14     50     55      1     0     0   9.622D-05   4.363D+00\n",
      "  F =   4.3627018078693087     \n",
      "\n",
      "STOP: TOTAL NO. of ITERATIONS REACHED LIMIT                 \n",
      "RUNNING THE L-BFGS-B CODE\n",
      "\n",
      "           * * *\n",
      "\n",
      "Machine precision = 2.220D-16\n",
      " N =           14     M =           10\n",
      "\n",
      "At X0         0 variables are exactly at the bounds\n",
      "\n",
      "At iterate    0    f=  4.49873D+00    |proj g|=  3.72267D-02\n"
     ]
    },
    {
     "name": "stderr",
     "output_type": "stream",
     "text": [
      " This problem is unconstrained.\n"
     ]
    },
    {
     "name": "stdout",
     "output_type": "stream",
     "text": [
      "\n",
      "At iterate    5    f=  4.39114D+00    |proj g|=  1.84372D-02\n",
      "\n",
      "At iterate   10    f=  4.35652D+00    |proj g|=  3.79893D-04\n",
      "\n",
      "At iterate   15    f=  4.35629D+00    |proj g|=  1.05894D-04\n",
      "\n",
      "At iterate   20    f=  4.35625D+00    |proj g|=  6.58853D-04\n",
      "\n",
      "At iterate   25    f=  4.35625D+00    |proj g|=  7.22759D-05\n",
      "\n",
      "At iterate   30    f=  4.35624D+00    |proj g|=  1.06332D-03\n",
      "\n",
      "At iterate   35    f=  4.35622D+00    |proj g|=  8.45649D-04\n",
      "\n",
      "At iterate   40    f=  4.35622D+00    |proj g|=  3.99578D-04\n",
      "\n",
      "At iterate   45    f=  4.35621D+00    |proj g|=  6.60409D-05\n"
     ]
    },
    {
     "name": "stderr",
     "output_type": "stream",
     "text": [
      "/opt/conda/lib/python3.10/site-packages/statsmodels/base/model.py:604: ConvergenceWarning:\n",
      "\n",
      "Maximum Likelihood optimization failed to converge. Check mle_retvals\n",
      "\n"
     ]
    },
    {
     "name": "stdout",
     "output_type": "stream",
     "text": [
      "\n",
      "At iterate   50    f=  4.35620D+00    |proj g|=  8.78317D-05\n",
      "\n",
      "           * * *\n",
      "\n",
      "Tit   = total number of iterations\n",
      "Tnf   = total number of function evaluations\n",
      "Tnint = total number of segments explored during Cauchy searches\n",
      "Skip  = number of BFGS updates skipped\n",
      "Nact  = number of active bounds at final generalized Cauchy point\n",
      "Projg = norm of the final projected gradient\n",
      "F     = final function value\n",
      "\n",
      "           * * *\n",
      "\n",
      "   N    Tit     Tnf  Tnint  Skip  Nact     Projg        F\n",
      "   14     50     55      1     0     0   8.783D-05   4.356D+00\n",
      "  F =   4.3562018528021582     \n",
      "\n",
      "STOP: TOTAL NO. of ITERATIONS REACHED LIMIT                 \n"
     ]
    },
    {
     "name": "stderr",
     "output_type": "stream",
     "text": [
      " This problem is unconstrained.\n"
     ]
    },
    {
     "name": "stdout",
     "output_type": "stream",
     "text": [
      "RUNNING THE L-BFGS-B CODE\n",
      "\n",
      "           * * *\n",
      "\n",
      "Machine precision = 2.220D-16\n",
      " N =           14     M =           10\n",
      "\n",
      "At X0         0 variables are exactly at the bounds\n",
      "\n",
      "At iterate    0    f=  4.48903D+00    |proj g|=  4.11486D-02\n",
      "\n",
      "At iterate    5    f=  4.39110D+00    |proj g|=  1.93507D-02\n",
      "\n",
      "At iterate   10    f=  4.34948D+00    |proj g|=  4.21742D-04\n",
      "\n",
      "At iterate   15    f=  4.34922D+00    |proj g|=  1.14427D-04\n",
      "\n",
      "At iterate   20    f=  4.34918D+00    |proj g|=  7.16829D-05\n",
      "\n",
      "At iterate   25    f=  4.34918D+00    |proj g|=  4.62716D-05\n",
      "\n",
      "At iterate   30    f=  4.34916D+00    |proj g|=  1.48795D-03\n",
      "\n",
      "At iterate   35    f=  4.34914D+00    |proj g|=  8.79234D-05\n",
      "\n",
      "At iterate   40    f=  4.34913D+00    |proj g|=  1.96740D-04\n",
      "\n",
      "At iterate   45    f=  4.34912D+00    |proj g|=  6.50605D-05\n"
     ]
    },
    {
     "name": "stderr",
     "output_type": "stream",
     "text": [
      "/opt/conda/lib/python3.10/site-packages/statsmodels/base/model.py:604: ConvergenceWarning:\n",
      "\n",
      "Maximum Likelihood optimization failed to converge. Check mle_retvals\n",
      "\n"
     ]
    },
    {
     "name": "stdout",
     "output_type": "stream",
     "text": [
      "\n",
      "At iterate   50    f=  4.34912D+00    |proj g|=  1.09839D-04\n",
      "\n",
      "           * * *\n",
      "\n",
      "Tit   = total number of iterations\n",
      "Tnf   = total number of function evaluations\n",
      "Tnint = total number of segments explored during Cauchy searches\n",
      "Skip  = number of BFGS updates skipped\n",
      "Nact  = number of active bounds at final generalized Cauchy point\n",
      "Projg = norm of the final projected gradient\n",
      "F     = final function value\n",
      "\n",
      "           * * *\n",
      "\n",
      "   N    Tit     Tnf  Tnint  Skip  Nact     Projg        F\n",
      "   14     50     55      1     0     0   1.098D-04   4.349D+00\n",
      "  F =   4.3491151139587050     \n",
      "\n",
      "STOP: TOTAL NO. of ITERATIONS REACHED LIMIT                 \n",
      "RUNNING THE L-BFGS-B CODE\n",
      "\n",
      "           * * *\n",
      "\n",
      "Machine precision = 2.220D-16\n",
      " N =           14     M =           10\n",
      "\n",
      "At X0         0 variables are exactly at the bounds\n",
      "\n",
      "At iterate    0    f=  4.48489D+00    |proj g|=  4.16965D-02\n"
     ]
    },
    {
     "name": "stderr",
     "output_type": "stream",
     "text": [
      " This problem is unconstrained.\n"
     ]
    },
    {
     "name": "stdout",
     "output_type": "stream",
     "text": [
      "\n",
      "At iterate    5    f=  4.39075D+00    |proj g|=  3.01483D-02\n",
      "\n",
      "At iterate   10    f=  4.35082D+00    |proj g|=  3.75683D-04\n",
      "\n",
      "At iterate   15    f=  4.35063D+00    |proj g|=  1.12408D-04\n",
      "\n",
      "At iterate   20    f=  4.35060D+00    |proj g|=  7.19390D-04\n",
      "\n",
      "At iterate   25    f=  4.35059D+00    |proj g|=  1.66718D-04\n",
      "\n",
      "At iterate   30    f=  4.35059D+00    |proj g|=  3.81780D-05\n",
      "\n",
      "At iterate   35    f=  4.35059D+00    |proj g|=  1.75091D-04\n",
      "\n",
      "At iterate   40    f=  4.35058D+00    |proj g|=  1.46289D-04\n",
      "\n",
      "At iterate   45    f=  4.35058D+00    |proj g|=  3.42485D-04\n"
     ]
    },
    {
     "name": "stderr",
     "output_type": "stream",
     "text": [
      "/opt/conda/lib/python3.10/site-packages/statsmodels/base/model.py:604: ConvergenceWarning:\n",
      "\n",
      "Maximum Likelihood optimization failed to converge. Check mle_retvals\n",
      "\n"
     ]
    },
    {
     "name": "stdout",
     "output_type": "stream",
     "text": [
      "\n",
      "At iterate   50    f=  4.35058D+00    |proj g|=  1.99063D-04\n",
      "\n",
      "           * * *\n",
      "\n",
      "Tit   = total number of iterations\n",
      "Tnf   = total number of function evaluations\n",
      "Tnint = total number of segments explored during Cauchy searches\n",
      "Skip  = number of BFGS updates skipped\n",
      "Nact  = number of active bounds at final generalized Cauchy point\n",
      "Projg = norm of the final projected gradient\n",
      "F     = final function value\n",
      "\n",
      "           * * *\n",
      "\n",
      "   N    Tit     Tnf  Tnint  Skip  Nact     Projg        F\n",
      "   14     50     59      1     0     0   1.991D-04   4.351D+00\n",
      "  F =   4.3505750781606043     \n",
      "\n",
      "STOP: TOTAL NO. of ITERATIONS REACHED LIMIT                 \n"
     ]
    },
    {
     "name": "stderr",
     "output_type": "stream",
     "text": [
      " This problem is unconstrained.\n"
     ]
    },
    {
     "name": "stdout",
     "output_type": "stream",
     "text": [
      "RUNNING THE L-BFGS-B CODE\n",
      "\n",
      "           * * *\n",
      "\n",
      "Machine precision = 2.220D-16\n",
      " N =           14     M =           10\n",
      "\n",
      "At X0         0 variables are exactly at the bounds\n",
      "\n",
      "At iterate    0    f=  4.49955D+00    |proj g|=  4.51627D-02\n",
      "\n",
      "At iterate    5    f=  4.41337D+00    |proj g|=  3.55815D-02\n",
      "\n",
      "At iterate   10    f=  4.37103D+00    |proj g|=  3.52742D-04\n",
      "\n",
      "At iterate   15    f=  4.37088D+00    |proj g|=  2.56184D-03\n",
      "\n",
      "At iterate   20    f=  4.37083D+00    |proj g|=  2.27271D-04\n",
      "\n",
      "At iterate   25    f=  4.37080D+00    |proj g|=  2.23393D-04\n",
      "\n",
      "At iterate   30    f=  4.37080D+00    |proj g|=  1.70192D-04\n",
      "\n",
      "At iterate   35    f=  4.37079D+00    |proj g|=  2.83888D-05\n",
      "\n",
      "At iterate   40    f=  4.37079D+00    |proj g|=  2.70807D-04\n",
      "\n",
      "At iterate   45    f=  4.37079D+00    |proj g|=  5.39974D-04\n"
     ]
    },
    {
     "name": "stderr",
     "output_type": "stream",
     "text": [
      "/opt/conda/lib/python3.10/site-packages/statsmodels/base/model.py:604: ConvergenceWarning:\n",
      "\n",
      "Maximum Likelihood optimization failed to converge. Check mle_retvals\n",
      "\n"
     ]
    },
    {
     "name": "stdout",
     "output_type": "stream",
     "text": [
      "\n",
      "At iterate   50    f=  4.37078D+00    |proj g|=  2.62846D-04\n",
      "\n",
      "           * * *\n",
      "\n",
      "Tit   = total number of iterations\n",
      "Tnf   = total number of function evaluations\n",
      "Tnint = total number of segments explored during Cauchy searches\n",
      "Skip  = number of BFGS updates skipped\n",
      "Nact  = number of active bounds at final generalized Cauchy point\n",
      "Projg = norm of the final projected gradient\n",
      "F     = final function value\n",
      "\n",
      "           * * *\n",
      "\n",
      "   N    Tit     Tnf  Tnint  Skip  Nact     Projg        F\n",
      "   14     50     56      1     0     0   2.628D-04   4.371D+00\n",
      "  F =   4.3707765231031601     \n",
      "\n",
      "STOP: TOTAL NO. of ITERATIONS REACHED LIMIT                 \n",
      "RUNNING THE L-BFGS-B CODE\n",
      "\n",
      "           * * *\n",
      "\n",
      "Machine precision = 2.220D-16\n",
      " N =           14     M =           10\n",
      "\n",
      "At X0         0 variables are exactly at the bounds\n",
      "\n",
      "At iterate    0    f=  4.49967D+00    |proj g|=  3.86631D-02\n"
     ]
    },
    {
     "name": "stderr",
     "output_type": "stream",
     "text": [
      " This problem is unconstrained.\n"
     ]
    },
    {
     "name": "stdout",
     "output_type": "stream",
     "text": [
      "\n",
      "At iterate    5    f=  4.41807D+00    |proj g|=  3.42343D-02\n",
      "\n",
      "At iterate   10    f=  4.37554D+00    |proj g|=  3.67189D-04\n",
      "\n",
      "At iterate   15    f=  4.37532D+00    |proj g|=  1.07931D-03\n",
      "\n",
      "At iterate   20    f=  4.37527D+00    |proj g|=  2.78779D-04\n",
      "\n",
      "At iterate   25    f=  4.37526D+00    |proj g|=  3.10192D-05\n",
      "\n",
      "At iterate   30    f=  4.37526D+00    |proj g|=  4.30477D-05\n",
      "\n",
      "At iterate   35    f=  4.37525D+00    |proj g|=  6.47415D-05\n",
      "\n",
      "At iterate   40    f=  4.37525D+00    |proj g|=  4.38177D-05\n",
      "\n",
      "At iterate   45    f=  4.37524D+00    |proj g|=  3.44279D-04\n"
     ]
    },
    {
     "name": "stderr",
     "output_type": "stream",
     "text": [
      "/opt/conda/lib/python3.10/site-packages/statsmodels/base/model.py:604: ConvergenceWarning:\n",
      "\n",
      "Maximum Likelihood optimization failed to converge. Check mle_retvals\n",
      "\n"
     ]
    },
    {
     "name": "stdout",
     "output_type": "stream",
     "text": [
      "\n",
      "At iterate   50    f=  4.37523D+00    |proj g|=  3.06022D-04\n",
      "\n",
      "           * * *\n",
      "\n",
      "Tit   = total number of iterations\n",
      "Tnf   = total number of function evaluations\n",
      "Tnint = total number of segments explored during Cauchy searches\n",
      "Skip  = number of BFGS updates skipped\n",
      "Nact  = number of active bounds at final generalized Cauchy point\n",
      "Projg = norm of the final projected gradient\n",
      "F     = final function value\n",
      "\n",
      "           * * *\n",
      "\n",
      "   N    Tit     Tnf  Tnint  Skip  Nact     Projg        F\n",
      "   14     50     57      1     0     0   3.060D-04   4.375D+00\n",
      "  F =   4.3752319878151278     \n",
      "\n",
      "STOP: TOTAL NO. of ITERATIONS REACHED LIMIT                 \n",
      "RUNNING THE L-BFGS-B CODE\n",
      "\n",
      "           * * *\n",
      "\n",
      "Machine precision = 2.220D-16\n",
      " N =           14     M =           10\n",
      "\n",
      "At X0         0 variables are exactly at the bounds\n",
      "\n",
      "At iterate    0    f=  4.50011D+00    |proj g|=  4.09608D-02\n"
     ]
    },
    {
     "name": "stderr",
     "output_type": "stream",
     "text": [
      " This problem is unconstrained.\n"
     ]
    },
    {
     "name": "stdout",
     "output_type": "stream",
     "text": [
      "\n",
      "At iterate    5    f=  4.42098D+00    |proj g|=  3.55205D-02\n",
      "\n",
      "At iterate   10    f=  4.37706D+00    |proj g|=  7.47846D-04\n",
      "\n",
      "At iterate   15    f=  4.37689D+00    |proj g|=  1.10768D-04\n",
      "\n",
      "At iterate   20    f=  4.37685D+00    |proj g|=  2.87379D-04\n",
      "\n",
      "At iterate   25    f=  4.37685D+00    |proj g|=  2.51998D-05\n",
      "\n",
      "At iterate   30    f=  4.37685D+00    |proj g|=  9.69985D-05\n",
      "\n",
      "At iterate   35    f=  4.37683D+00    |proj g|=  3.78501D-04\n",
      "\n",
      "At iterate   40    f=  4.37683D+00    |proj g|=  2.34618D-04\n",
      "\n",
      "At iterate   45    f=  4.37682D+00    |proj g|=  1.11400D-04\n"
     ]
    },
    {
     "name": "stderr",
     "output_type": "stream",
     "text": [
      "/opt/conda/lib/python3.10/site-packages/statsmodels/base/model.py:604: ConvergenceWarning:\n",
      "\n",
      "Maximum Likelihood optimization failed to converge. Check mle_retvals\n",
      "\n"
     ]
    },
    {
     "name": "stdout",
     "output_type": "stream",
     "text": [
      "\n",
      "At iterate   50    f=  4.37681D+00    |proj g|=  1.31175D-04\n",
      "\n",
      "           * * *\n",
      "\n",
      "Tit   = total number of iterations\n",
      "Tnf   = total number of function evaluations\n",
      "Tnint = total number of segments explored during Cauchy searches\n",
      "Skip  = number of BFGS updates skipped\n",
      "Nact  = number of active bounds at final generalized Cauchy point\n",
      "Projg = norm of the final projected gradient\n",
      "F     = final function value\n",
      "\n",
      "           * * *\n",
      "\n",
      "   N    Tit     Tnf  Tnint  Skip  Nact     Projg        F\n",
      "   14     50     56      1     0     0   1.312D-04   4.377D+00\n",
      "  F =   4.3768142837488186     \n",
      "\n",
      "STOP: TOTAL NO. of ITERATIONS REACHED LIMIT                 \n",
      "RUNNING THE L-BFGS-B CODE\n",
      "\n",
      "           * * *\n",
      "\n",
      "Machine precision = 2.220D-16\n",
      " N =           14     M =           10\n",
      "\n",
      "At X0         0 variables are exactly at the bounds\n",
      "\n",
      "At iterate    0    f=  4.50081D+00    |proj g|=  4.18337D-02\n"
     ]
    },
    {
     "name": "stderr",
     "output_type": "stream",
     "text": [
      " This problem is unconstrained.\n"
     ]
    },
    {
     "name": "stdout",
     "output_type": "stream",
     "text": [
      "\n",
      "At iterate    5    f=  4.41703D+00    |proj g|=  3.62186D-02\n",
      "\n",
      "At iterate   10    f=  4.37335D+00    |proj g|=  6.90053D-04\n",
      "\n",
      "At iterate   15    f=  4.37323D+00    |proj g|=  4.90566D-04\n",
      "\n",
      "At iterate   20    f=  4.37319D+00    |proj g|=  6.44734D-04\n",
      "\n",
      "At iterate   25    f=  4.37318D+00    |proj g|=  1.75233D-05\n",
      "\n",
      "At iterate   30    f=  4.37318D+00    |proj g|=  4.66992D-05\n",
      "\n",
      "At iterate   35    f=  4.37317D+00    |proj g|=  2.96364D-04\n",
      "\n",
      "At iterate   40    f=  4.37316D+00    |proj g|=  7.58253D-05\n",
      "\n",
      "At iterate   45    f=  4.37315D+00    |proj g|=  3.31187D-04\n"
     ]
    },
    {
     "name": "stderr",
     "output_type": "stream",
     "text": [
      "/opt/conda/lib/python3.10/site-packages/statsmodels/base/model.py:604: ConvergenceWarning:\n",
      "\n",
      "Maximum Likelihood optimization failed to converge. Check mle_retvals\n",
      "\n"
     ]
    },
    {
     "name": "stdout",
     "output_type": "stream",
     "text": [
      "\n",
      "At iterate   50    f=  4.37315D+00    |proj g|=  5.39401D-05\n",
      "\n",
      "           * * *\n",
      "\n",
      "Tit   = total number of iterations\n",
      "Tnf   = total number of function evaluations\n",
      "Tnint = total number of segments explored during Cauchy searches\n",
      "Skip  = number of BFGS updates skipped\n",
      "Nact  = number of active bounds at final generalized Cauchy point\n",
      "Projg = norm of the final projected gradient\n",
      "F     = final function value\n",
      "\n",
      "           * * *\n",
      "\n",
      "   N    Tit     Tnf  Tnint  Skip  Nact     Projg        F\n",
      "   14     50     54      1     0     0   5.394D-05   4.373D+00\n",
      "  F =   4.3731471438713649     \n",
      "\n",
      "STOP: TOTAL NO. of ITERATIONS REACHED LIMIT                 \n"
     ]
    },
    {
     "name": "stderr",
     "output_type": "stream",
     "text": [
      " This problem is unconstrained.\n"
     ]
    },
    {
     "name": "stdout",
     "output_type": "stream",
     "text": [
      "RUNNING THE L-BFGS-B CODE\n",
      "\n",
      "           * * *\n",
      "\n",
      "Machine precision = 2.220D-16\n",
      " N =           14     M =           10\n",
      "\n",
      "At X0         0 variables are exactly at the bounds\n",
      "\n",
      "At iterate    0    f=  4.49976D+00    |proj g|=  4.34267D-02\n",
      "\n",
      "At iterate    5    f=  4.41161D+00    |proj g|=  3.57175D-02\n",
      "\n",
      "At iterate   10    f=  4.36696D+00    |proj g|=  3.29256D-04\n",
      "\n",
      "At iterate   15    f=  4.36682D+00    |proj g|=  7.11763D-04\n",
      "\n",
      "At iterate   20    f=  4.36676D+00    |proj g|=  1.21669D-04\n",
      "\n",
      "At iterate   25    f=  4.36675D+00    |proj g|=  1.26605D-05\n",
      "\n",
      "At iterate   30    f=  4.36675D+00    |proj g|=  1.35578D-05\n",
      "\n",
      "           * * *\n",
      "\n",
      "Tit   = total number of iterations\n",
      "Tnf   = total number of function evaluations\n",
      "Tnint = total number of segments explored during Cauchy searches\n",
      "Skip  = number of BFGS updates skipped\n",
      "Nact  = number of active bounds at final generalized Cauchy point\n",
      "Projg = norm of the final projected gradient\n",
      "F     = final function value\n",
      "\n",
      "           * * *\n",
      "\n",
      "   N    Tit     Tnf  Tnint  Skip  Nact     Projg        F\n",
      "   14     31     36      1     0     0   9.575D-06   4.367D+00\n",
      "  F =   4.3667454306780646     \n",
      "\n",
      "CONVERGENCE: NORM_OF_PROJECTED_GRADIENT_<=_PGTOL            \n"
     ]
    },
    {
     "name": "stderr",
     "output_type": "stream",
     "text": [
      " This problem is unconstrained.\n"
     ]
    },
    {
     "name": "stdout",
     "output_type": "stream",
     "text": [
      "RUNNING THE L-BFGS-B CODE\n",
      "\n",
      "           * * *\n",
      "\n",
      "Machine precision = 2.220D-16\n",
      " N =           14     M =           10\n",
      "\n",
      "At X0         0 variables are exactly at the bounds\n",
      "\n",
      "At iterate    0    f=  4.50498D+00    |proj g|=  4.26592D-02\n",
      "\n",
      "At iterate    5    f=  4.41735D+00    |proj g|=  2.96068D-02\n",
      "\n",
      "At iterate   10    f=  4.37527D+00    |proj g|=  3.43680D-04\n",
      "\n",
      "At iterate   15    f=  4.37508D+00    |proj g|=  2.48782D-04\n",
      "\n",
      "At iterate   20    f=  4.37506D+00    |proj g|=  6.76764D-04\n",
      "\n",
      "           * * *\n",
      "\n",
      "Tit   = total number of iterations\n",
      "Tnf   = total number of function evaluations\n",
      "Tnint = total number of segments explored during Cauchy searches\n",
      "Skip  = number of BFGS updates skipped\n",
      "Nact  = number of active bounds at final generalized Cauchy point\n",
      "Projg = norm of the final projected gradient\n",
      "F     = final function value\n",
      "\n",
      "           * * *\n",
      "\n",
      "   N    Tit     Tnf  Tnint  Skip  Nact     Projg        F\n",
      "   14     24     28      1     0     0   8.998D-06   4.375D+00\n",
      "  F =   4.3750531079392347     \n",
      "\n",
      "CONVERGENCE: NORM_OF_PROJECTED_GRADIENT_<=_PGTOL            \n",
      "RUNNING THE L-BFGS-B CODE\n",
      "\n",
      "           * * *\n",
      "\n",
      "Machine precision = 2.220D-16\n",
      " N =           14     M =           10\n",
      "\n",
      "At X0         0 variables are exactly at the bounds\n",
      "\n",
      "At iterate    0    f=  4.49668D+00    |proj g|=  3.98976D-02\n"
     ]
    },
    {
     "name": "stderr",
     "output_type": "stream",
     "text": [
      " This problem is unconstrained.\n"
     ]
    },
    {
     "name": "stdout",
     "output_type": "stream",
     "text": [
      "\n",
      "At iterate    5    f=  4.40934D+00    |proj g|=  2.76172D-02\n",
      "\n",
      "At iterate   10    f=  4.36791D+00    |proj g|=  3.71931D-04\n",
      "\n",
      "At iterate   15    f=  4.36771D+00    |proj g|=  1.03952D-03\n",
      "\n",
      "At iterate   20    f=  4.36768D+00    |proj g|=  2.58062D-04\n",
      "\n",
      "At iterate   25    f=  4.36767D+00    |proj g|=  2.47550D-05\n",
      "\n",
      "           * * *\n",
      "\n",
      "Tit   = total number of iterations\n",
      "Tnf   = total number of function evaluations\n",
      "Tnint = total number of segments explored during Cauchy searches\n",
      "Skip  = number of BFGS updates skipped\n",
      "Nact  = number of active bounds at final generalized Cauchy point\n",
      "Projg = norm of the final projected gradient\n",
      "F     = final function value\n",
      "\n",
      "           * * *\n",
      "\n",
      "   N    Tit     Tnf  Tnint  Skip  Nact     Projg        F\n",
      "   14     28     32      1     0     0   3.000D-05   4.368D+00\n",
      "  F =   4.3676714311088345     \n",
      "\n",
      "CONVERGENCE: REL_REDUCTION_OF_F_<=_FACTR*EPSMCH             \n",
      "RUNNING THE L-BFGS-B CODE\n",
      "\n",
      "           * * *\n",
      "\n",
      "Machine precision = 2.220D-16\n",
      " N =           14     M =           10\n",
      "\n",
      "At X0         0 variables are exactly at the bounds\n",
      "\n",
      "At iterate    0    f=  4.51200D+00    |proj g|=  4.33063D-02\n"
     ]
    },
    {
     "name": "stderr",
     "output_type": "stream",
     "text": [
      " This problem is unconstrained.\n"
     ]
    },
    {
     "name": "stdout",
     "output_type": "stream",
     "text": [
      "\n",
      "At iterate    5    f=  4.42750D+00    |proj g|=  2.48739D-02\n",
      "\n",
      "At iterate   10    f=  4.38894D+00    |proj g|=  5.85028D-04\n",
      "\n",
      "At iterate   15    f=  4.38874D+00    |proj g|=  1.67604D-03\n",
      "\n",
      "At iterate   20    f=  4.38872D+00    |proj g|=  8.19792D-04\n",
      "\n",
      "At iterate   25    f=  4.38870D+00    |proj g|=  5.50054D-05\n",
      "\n",
      "At iterate   30    f=  4.38870D+00    |proj g|=  2.37995D-05\n",
      "\n",
      "At iterate   35    f=  4.38870D+00    |proj g|=  2.82575D-05\n",
      "\n",
      "At iterate   40    f=  4.38869D+00    |proj g|=  6.52664D-05\n",
      "\n",
      "At iterate   45    f=  4.38869D+00    |proj g|=  1.72412D-04\n"
     ]
    },
    {
     "name": "stderr",
     "output_type": "stream",
     "text": [
      "/opt/conda/lib/python3.10/site-packages/statsmodels/base/model.py:604: ConvergenceWarning:\n",
      "\n",
      "Maximum Likelihood optimization failed to converge. Check mle_retvals\n",
      "\n"
     ]
    },
    {
     "name": "stdout",
     "output_type": "stream",
     "text": [
      "\n",
      "At iterate   50    f=  4.38869D+00    |proj g|=  1.50015D-04\n",
      "\n",
      "           * * *\n",
      "\n",
      "Tit   = total number of iterations\n",
      "Tnf   = total number of function evaluations\n",
      "Tnint = total number of segments explored during Cauchy searches\n",
      "Skip  = number of BFGS updates skipped\n",
      "Nact  = number of active bounds at final generalized Cauchy point\n",
      "Projg = norm of the final projected gradient\n",
      "F     = final function value\n",
      "\n",
      "           * * *\n",
      "\n",
      "   N    Tit     Tnf  Tnint  Skip  Nact     Projg        F\n",
      "   14     50     54      1     0     0   1.500D-04   4.389D+00\n",
      "  F =   4.3886891573235749     \n",
      "\n",
      "STOP: TOTAL NO. of ITERATIONS REACHED LIMIT                 \n",
      "RUNNING THE L-BFGS-B CODE\n",
      "\n",
      "           * * *\n",
      "\n",
      "Machine precision = 2.220D-16\n",
      " N =           14     M =           10\n",
      "\n",
      "At X0         0 variables are exactly at the bounds\n",
      "\n",
      "At iterate    0    f=  4.51292D+00    |proj g|=  4.15601D-02\n"
     ]
    },
    {
     "name": "stderr",
     "output_type": "stream",
     "text": [
      " This problem is unconstrained.\n"
     ]
    },
    {
     "name": "stdout",
     "output_type": "stream",
     "text": [
      "\n",
      "At iterate    5    f=  4.42861D+00    |proj g|=  2.37082D-02\n",
      "\n",
      "At iterate   10    f=  4.39203D+00    |proj g|=  5.59708D-04\n",
      "\n",
      "At iterate   15    f=  4.39184D+00    |proj g|=  1.16032D-03\n",
      "\n",
      "At iterate   20    f=  4.39182D+00    |proj g|=  6.99349D-04\n",
      "\n",
      "At iterate   25    f=  4.39180D+00    |proj g|=  5.38996D-05\n",
      "\n",
      "At iterate   30    f=  4.39180D+00    |proj g|=  3.24806D-05\n",
      "\n",
      "           * * *\n",
      "\n",
      "Tit   = total number of iterations\n",
      "Tnf   = total number of function evaluations\n",
      "Tnint = total number of segments explored during Cauchy searches\n",
      "Skip  = number of BFGS updates skipped\n",
      "Nact  = number of active bounds at final generalized Cauchy point\n",
      "Projg = norm of the final projected gradient\n",
      "F     = final function value\n",
      "\n",
      "           * * *\n",
      "\n",
      "   N    Tit     Tnf  Tnint  Skip  Nact     Projg        F\n",
      "   14     31     37      1     0     0   8.440D-06   4.392D+00\n",
      "  F =   4.3917989725204096     \n",
      "\n",
      "CONVERGENCE: NORM_OF_PROJECTED_GRADIENT_<=_PGTOL            \n"
     ]
    }
   ],
   "source": [
    "from statsmodels.tsa.statespace.sarimax import SARIMAX\n",
    "\n",
    "treino=amarelos_adm\n",
    "teste=amarelos_Outubro\n",
    "\n",
    "array_pred_m=[]\n",
    "array=[]\n",
    "num_prev=[]\n",
    "z=1\n",
    "for x in range(len(teste)-15):\n",
    "    y_treino=teste[0:z]\n",
    "    h=pd.merge(treino,y_treino,on='DTA_ADMISSAO',how='outer').replace(np.nan,0)\n",
    "    h['URG_EPISODIO']=h['URG_EPISODIO_x']+h['URG_EPISODIO_y']\n",
    "    h['dia_semana']=h['dia_semana_x']+h['dia_semana_y']\n",
    "    h['feriado']=h['feriado_x']+h['feriado_y']\n",
    "    h['festas']=h['festas_x']+h['festas_y']\n",
    "    h['feriado - dia anterior']=h['feriado - dia anterior_x']+h['feriado - dia anterior_y']\n",
    "    h['feriado - 2 dias anteriores']=h['feriado - 2 dias anteriores_x']+h['feriado - 2 dias anteriores_y']\n",
    "    h['feriado - dia seguinte']=h['feriado - dia seguinte_x']+h['feriado - dia seguinte_y']\n",
    "    h['feriado - daqui a 2 dias']=h['feriado - daqui a 2 dias_x']+h['feriado - daqui a 2 dias_y']\n",
    "    h['festas - dia anterior']=h['festas - dia anterior_x']+h['festas - dia anterior_y']\n",
    "    h['festas - 2 dias anteriores']=h['festas - 2 dias anteriores_x']+h['festas - 2 dias anteriores_y']\n",
    "    h['festas - dia seguinte']=h['festas - dia seguinte_x']+h['festas - dia seguinte_y']\n",
    "    h['festas - daqui a 2 dias']=h['festas - daqui a 2 dias_x']+h['festas - daqui a 2 dias_y']\n",
    "    y_treino=h[['DTA_ADMISSAO','URG_EPISODIO']]\n",
    "    best_model = SARIMAX(y_treino['URG_EPISODIO'],exog=h[['dia_semana','feriado',\n",
    "       'feriado - dia anterior', 'feriado - 2 dias anteriores','feriado - dia seguinte', 'feriado - daqui a 2 dias', 'festas',\n",
    "       'festas - dia anterior', 'festas - 2 dias anteriores','festas - dia seguinte', 'festas - daqui a 2 dias']],order=(0, 1, 1), seasonal_order=(0, 1, 1, 30)).fit()\n",
    "    pred=best_model.forecast(steps=15,exog=teste[['dia_semana','feriado','feriado - dia anterior', 'feriado - 2 dias anteriores',\n",
    "       'feriado - dia seguinte', 'feriado - daqui a 2 dias', 'festas','festas - dia anterior', 'festas - 2 dias anteriores',\n",
    "       'festas - dia seguinte', 'festas - daqui a 2 dias']].iloc[z:z+15])\n",
    "    for y in pred.iloc:\n",
    "        array_pred_m.append(y)\n",
    "    t=teste[z:z+15]['URG_EPISODIO']\n",
    "    for s in t.iloc:\n",
    "        array.append(s)\n",
    "    for x in range(15):\n",
    "        num_prev.append(z)\n",
    "    z=z+1"
   ]
  },
  {
   "cell_type": "code",
   "execution_count": 84,
   "metadata": {},
   "outputs": [],
   "source": [
    "df = pd.DataFrame({'y':array, 'y_previsto':array_pred, 'y_previsto_m':array_pred_m,'previsao':num_prev})"
   ]
  },
  {
   "cell_type": "code",
   "execution_count": 75,
   "metadata": {},
   "outputs": [],
   "source": [
    "med=df['y'].mean()\n",
    "z=0\n",
    "for x in df.iloc:\n",
    "    y=abs(x['y']-x['y_previsto_m'])\n",
    "    z=z+y\n",
    "erro_m=z/len(df)"
   ]
  },
  {
   "cell_type": "code",
   "execution_count": 85,
   "metadata": {},
   "outputs": [],
   "source": [
    "import math\n",
    "\n",
    "z=0\n",
    "z2=0\n",
    "\n",
    "for x in df.iloc:\n",
    "    y=abs(x['y']-x['y_previsto'])\n",
    "    y2=(x['y_previsto']-x['y'])**2\n",
    "    z2=z2+y2\n",
    "    z=z+y\n",
    "    \n",
    "erro_s=z/len(df)\n",
    "erro2=math.sqrt(z2/len(df))"
   ]
  },
  {
   "cell_type": "code",
   "execution_count": 86,
   "metadata": {},
   "outputs": [
    {
     "data": {
      "text/plain": [
       "20.59931047728458"
      ]
     },
     "execution_count": 86,
     "metadata": {},
     "output_type": "execute_result"
    }
   ],
   "source": [
    "erro_m"
   ]
  },
  {
   "cell_type": "code",
   "execution_count": 77,
   "metadata": {},
   "outputs": [
    {
     "data": {
      "text/plain": [
       "20.99812833072389"
      ]
     },
     "execution_count": 77,
     "metadata": {},
     "output_type": "execute_result"
    }
   ],
   "source": [
    "erro_m"
   ]
  },
  {
   "cell_type": "code",
   "execution_count": 191,
   "metadata": {},
   "outputs": [
    {
     "data": {
      "text/plain": [
       "18.50180439737957"
      ]
     },
     "execution_count": 191,
     "metadata": {},
     "output_type": "execute_result"
    }
   ],
   "source": [
    "erro_s"
   ]
  },
  {
   "cell_type": "code",
   "execution_count": 86,
   "metadata": {},
   "outputs": [
    {
     "data": {
      "text/plain": [
       "64.34978421234888"
      ]
     },
     "execution_count": 86,
     "metadata": {},
     "output_type": "execute_result"
    }
   ],
   "source": [
    "erro_s"
   ]
  },
  {
   "cell_type": "code",
   "execution_count": 78,
   "metadata": {},
   "outputs": [
    {
     "data": {
      "text/plain": [
       "43.75151859173656"
      ]
     },
     "execution_count": 78,
     "metadata": {},
     "output_type": "execute_result"
    }
   ],
   "source": [
    "erro_s"
   ]
  },
  {
   "cell_type": "code",
   "execution_count": 88,
   "metadata": {},
   "outputs": [
    {
     "data": {
      "text/plain": [
       "23.157637466388135"
      ]
     },
     "execution_count": 88,
     "metadata": {},
     "output_type": "execute_result"
    }
   ],
   "source": [
    "erro2"
   ]
  },
  {
   "cell_type": "code",
   "execution_count": 89,
   "metadata": {},
   "outputs": [
    {
     "data": {
      "text/plain": [
       "10.999033073037896"
      ]
     },
     "execution_count": 89,
     "metadata": {},
     "output_type": "execute_result"
    }
   ],
   "source": [
    "erro_s/med*100"
   ]
  },
  {
   "cell_type": "code",
   "execution_count": 79,
   "metadata": {},
   "outputs": [
    {
     "data": {
      "text/plain": [
       "26.00959288350812"
      ]
     },
     "execution_count": 79,
     "metadata": {},
     "output_type": "execute_result"
    }
   ],
   "source": [
    "erro_s/med*100"
   ]
  },
  {
   "cell_type": "code",
   "execution_count": 80,
   "metadata": {},
   "outputs": [
    {
     "data": {
      "text/plain": [
       "168.2130081300813"
      ]
     },
     "execution_count": 80,
     "metadata": {},
     "output_type": "execute_result"
    }
   ],
   "source": [
    "med"
   ]
  },
  {
   "cell_type": "code",
   "execution_count": 81,
   "metadata": {},
   "outputs": [],
   "source": [
    "med=df['y'].mean()\n",
    "z=0\n",
    "erro_max_semana=0\n",
    "a=[]\n",
    "for x in df.iloc:\n",
    "    y=abs(x['y']-x['y_previsto'])\n",
    "    a.append(y)\n",
    "    z=z+y\n",
    "erro_s=z/len(df)\n",
    "\n",
    "df['erro']=a"
   ]
  },
  {
   "cell_type": "code",
   "execution_count": 82,
   "metadata": {},
   "outputs": [
    {
     "data": {
      "text/html": [
       "<div>\n",
       "<style scoped>\n",
       "    .dataframe tbody tr th:only-of-type {\n",
       "        vertical-align: middle;\n",
       "    }\n",
       "\n",
       "    .dataframe tbody tr th {\n",
       "        vertical-align: top;\n",
       "    }\n",
       "\n",
       "    .dataframe thead th {\n",
       "        text-align: right;\n",
       "    }\n",
       "</style>\n",
       "<table border=\"1\" class=\"dataframe\">\n",
       "  <thead>\n",
       "    <tr style=\"text-align: right;\">\n",
       "      <th></th>\n",
       "      <th>y</th>\n",
       "      <th>y_previsto</th>\n",
       "      <th>y_previsto_m</th>\n",
       "      <th>previsao</th>\n",
       "      <th>erro</th>\n",
       "    </tr>\n",
       "  </thead>\n",
       "  <tbody>\n",
       "    <tr>\n",
       "      <th>4</th>\n",
       "      <td>121</td>\n",
       "      <td>183.763808</td>\n",
       "      <td>159.945769</td>\n",
       "      <td>1</td>\n",
       "      <td>62.763808</td>\n",
       "    </tr>\n",
       "    <tr>\n",
       "      <th>5</th>\n",
       "      <td>125</td>\n",
       "      <td>170.952567</td>\n",
       "      <td>149.620585</td>\n",
       "      <td>1</td>\n",
       "      <td>45.952567</td>\n",
       "    </tr>\n",
       "    <tr>\n",
       "      <th>15</th>\n",
       "      <td>139</td>\n",
       "      <td>47.224773</td>\n",
       "      <td>167.488996</td>\n",
       "      <td>2</td>\n",
       "      <td>91.775227</td>\n",
       "    </tr>\n",
       "    <tr>\n",
       "      <th>16</th>\n",
       "      <td>121</td>\n",
       "      <td>43.505942</td>\n",
       "      <td>166.875085</td>\n",
       "      <td>2</td>\n",
       "      <td>77.494058</td>\n",
       "    </tr>\n",
       "    <tr>\n",
       "      <th>17</th>\n",
       "      <td>154</td>\n",
       "      <td>31.737124</td>\n",
       "      <td>159.318832</td>\n",
       "      <td>2</td>\n",
       "      <td>122.262876</td>\n",
       "    </tr>\n",
       "    <tr>\n",
       "      <th>...</th>\n",
       "      <td>...</td>\n",
       "      <td>...</td>\n",
       "      <td>...</td>\n",
       "      <td>...</td>\n",
       "      <td>...</td>\n",
       "    </tr>\n",
       "    <tr>\n",
       "      <th>608</th>\n",
       "      <td>187</td>\n",
       "      <td>127.028552</td>\n",
       "      <td>171.045559</td>\n",
       "      <td>41</td>\n",
       "      <td>59.971448</td>\n",
       "    </tr>\n",
       "    <tr>\n",
       "      <th>609</th>\n",
       "      <td>174</td>\n",
       "      <td>111.878038</td>\n",
       "      <td>167.334948</td>\n",
       "      <td>41</td>\n",
       "      <td>62.121962</td>\n",
       "    </tr>\n",
       "    <tr>\n",
       "      <th>610</th>\n",
       "      <td>162</td>\n",
       "      <td>100.958659</td>\n",
       "      <td>164.963257</td>\n",
       "      <td>41</td>\n",
       "      <td>61.041341</td>\n",
       "    </tr>\n",
       "    <tr>\n",
       "      <th>611</th>\n",
       "      <td>171</td>\n",
       "      <td>216.867698</td>\n",
       "      <td>161.864022</td>\n",
       "      <td>41</td>\n",
       "      <td>45.867698</td>\n",
       "    </tr>\n",
       "    <tr>\n",
       "      <th>614</th>\n",
       "      <td>119</td>\n",
       "      <td>201.457221</td>\n",
       "      <td>148.247737</td>\n",
       "      <td>41</td>\n",
       "      <td>82.457221</td>\n",
       "    </tr>\n",
       "  </tbody>\n",
       "</table>\n",
       "<p>237 rows × 5 columns</p>\n",
       "</div>"
      ],
      "text/plain": [
       "       y  y_previsto  y_previsto_m  previsao        erro\n",
       "4    121  183.763808    159.945769         1   62.763808\n",
       "5    125  170.952567    149.620585         1   45.952567\n",
       "15   139   47.224773    167.488996         2   91.775227\n",
       "16   121   43.505942    166.875085         2   77.494058\n",
       "17   154   31.737124    159.318832         2  122.262876\n",
       "..   ...         ...           ...       ...         ...\n",
       "608  187  127.028552    171.045559        41   59.971448\n",
       "609  174  111.878038    167.334948        41   62.121962\n",
       "610  162  100.958659    164.963257        41   61.041341\n",
       "611  171  216.867698    161.864022        41   45.867698\n",
       "614  119  201.457221    148.247737        41   82.457221\n",
       "\n",
       "[237 rows x 5 columns]"
      ]
     },
     "execution_count": 82,
     "metadata": {},
     "output_type": "execute_result"
    }
   ],
   "source": [
    "df[df['erro']>(erro_s)]"
   ]
  },
  {
   "cell_type": "code",
   "execution_count": 92,
   "metadata": {},
   "outputs": [
    {
     "data": {
      "text/html": [
       "<div>\n",
       "<style scoped>\n",
       "    .dataframe tbody tr th:only-of-type {\n",
       "        vertical-align: middle;\n",
       "    }\n",
       "\n",
       "    .dataframe tbody tr th {\n",
       "        vertical-align: top;\n",
       "    }\n",
       "\n",
       "    .dataframe thead th {\n",
       "        text-align: right;\n",
       "    }\n",
       "</style>\n",
       "<table border=\"1\" class=\"dataframe\">\n",
       "  <thead>\n",
       "    <tr style=\"text-align: right;\">\n",
       "      <th></th>\n",
       "      <th>y</th>\n",
       "      <th>y_previsto</th>\n",
       "      <th>y_previsto_m</th>\n",
       "      <th>previsao</th>\n",
       "      <th>erro</th>\n",
       "    </tr>\n",
       "  </thead>\n",
       "  <tbody>\n",
       "    <tr>\n",
       "      <th>0</th>\n",
       "      <td>146</td>\n",
       "      <td>168.040944</td>\n",
       "      <td>159.125694</td>\n",
       "      <td>1</td>\n",
       "      <td>22.040944</td>\n",
       "    </tr>\n",
       "    <tr>\n",
       "      <th>2</th>\n",
       "      <td>121</td>\n",
       "      <td>148.504649</td>\n",
       "      <td>153.449968</td>\n",
       "      <td>1</td>\n",
       "      <td>27.504649</td>\n",
       "    </tr>\n",
       "    <tr>\n",
       "      <th>10</th>\n",
       "      <td>180</td>\n",
       "      <td>151.475434</td>\n",
       "      <td>148.162682</td>\n",
       "      <td>1</td>\n",
       "      <td>28.524566</td>\n",
       "    </tr>\n",
       "    <tr>\n",
       "      <th>11</th>\n",
       "      <td>167</td>\n",
       "      <td>137.732038</td>\n",
       "      <td>146.571356</td>\n",
       "      <td>1</td>\n",
       "      <td>29.267962</td>\n",
       "    </tr>\n",
       "    <tr>\n",
       "      <th>12</th>\n",
       "      <td>164</td>\n",
       "      <td>135.360226</td>\n",
       "      <td>138.349118</td>\n",
       "      <td>1</td>\n",
       "      <td>28.639774</td>\n",
       "    </tr>\n",
       "    <tr>\n",
       "      <th>...</th>\n",
       "      <td>...</td>\n",
       "      <td>...</td>\n",
       "      <td>...</td>\n",
       "      <td>...</td>\n",
       "      <td>...</td>\n",
       "    </tr>\n",
       "    <tr>\n",
       "      <th>591</th>\n",
       "      <td>165</td>\n",
       "      <td>191.882819</td>\n",
       "      <td>168.016704</td>\n",
       "      <td>40</td>\n",
       "      <td>26.882819</td>\n",
       "    </tr>\n",
       "    <tr>\n",
       "      <th>593</th>\n",
       "      <td>152</td>\n",
       "      <td>174.676901</td>\n",
       "      <td>163.306352</td>\n",
       "      <td>40</td>\n",
       "      <td>22.676901</td>\n",
       "    </tr>\n",
       "    <tr>\n",
       "      <th>605</th>\n",
       "      <td>165</td>\n",
       "      <td>194.605124</td>\n",
       "      <td>172.263568</td>\n",
       "      <td>41</td>\n",
       "      <td>29.605124</td>\n",
       "    </tr>\n",
       "    <tr>\n",
       "      <th>607</th>\n",
       "      <td>152</td>\n",
       "      <td>177.469787</td>\n",
       "      <td>167.564855</td>\n",
       "      <td>41</td>\n",
       "      <td>25.469787</td>\n",
       "    </tr>\n",
       "    <tr>\n",
       "      <th>614</th>\n",
       "      <td>119</td>\n",
       "      <td>177.670461</td>\n",
       "      <td>164.547958</td>\n",
       "      <td>41</td>\n",
       "      <td>58.670461</td>\n",
       "    </tr>\n",
       "  </tbody>\n",
       "</table>\n",
       "<p>271 rows × 5 columns</p>\n",
       "</div>"
      ],
      "text/plain": [
       "       y  y_previsto  y_previsto_m  previsao       erro\n",
       "0    146  168.040944    159.125694         1  22.040944\n",
       "2    121  148.504649    153.449968         1  27.504649\n",
       "10   180  151.475434    148.162682         1  28.524566\n",
       "11   167  137.732038    146.571356         1  29.267962\n",
       "12   164  135.360226    138.349118         1  28.639774\n",
       "..   ...         ...           ...       ...        ...\n",
       "591  165  191.882819    168.016704        40  26.882819\n",
       "593  152  174.676901    163.306352        40  22.676901\n",
       "605  165  194.605124    172.263568        41  29.605124\n",
       "607  152  177.469787    167.564855        41  25.469787\n",
       "614  119  177.670461    164.547958        41  58.670461\n",
       "\n",
       "[271 rows x 5 columns]"
      ]
     },
     "execution_count": 92,
     "metadata": {},
     "output_type": "execute_result"
    }
   ],
   "source": [
    "df[df['erro']>(erro_s)]"
   ]
  },
  {
   "cell_type": "code",
   "execution_count": 198,
   "metadata": {},
   "outputs": [
    {
     "data": {
      "text/html": [
       "<div>\n",
       "<style scoped>\n",
       "    .dataframe tbody tr th:only-of-type {\n",
       "        vertical-align: middle;\n",
       "    }\n",
       "\n",
       "    .dataframe tbody tr th {\n",
       "        vertical-align: top;\n",
       "    }\n",
       "\n",
       "    .dataframe thead th {\n",
       "        text-align: right;\n",
       "    }\n",
       "</style>\n",
       "<table border=\"1\" class=\"dataframe\">\n",
       "  <thead>\n",
       "    <tr style=\"text-align: right;\">\n",
       "      <th></th>\n",
       "      <th>y</th>\n",
       "      <th>y_previsto</th>\n",
       "      <th>previsao</th>\n",
       "      <th>erro</th>\n",
       "    </tr>\n",
       "  </thead>\n",
       "  <tbody>\n",
       "    <tr>\n",
       "      <th>2</th>\n",
       "      <td>121</td>\n",
       "      <td>148.504649</td>\n",
       "      <td>1</td>\n",
       "      <td>27.504649</td>\n",
       "    </tr>\n",
       "    <tr>\n",
       "      <th>10</th>\n",
       "      <td>180</td>\n",
       "      <td>151.475434</td>\n",
       "      <td>1</td>\n",
       "      <td>28.524566</td>\n",
       "    </tr>\n",
       "    <tr>\n",
       "      <th>11</th>\n",
       "      <td>167</td>\n",
       "      <td>137.732038</td>\n",
       "      <td>1</td>\n",
       "      <td>29.267962</td>\n",
       "    </tr>\n",
       "    <tr>\n",
       "      <th>12</th>\n",
       "      <td>164</td>\n",
       "      <td>135.360226</td>\n",
       "      <td>1</td>\n",
       "      <td>28.639774</td>\n",
       "    </tr>\n",
       "    <tr>\n",
       "      <th>18</th>\n",
       "      <td>121</td>\n",
       "      <td>151.837737</td>\n",
       "      <td>2</td>\n",
       "      <td>30.837737</td>\n",
       "    </tr>\n",
       "    <tr>\n",
       "      <th>...</th>\n",
       "      <td>...</td>\n",
       "      <td>...</td>\n",
       "      <td>...</td>\n",
       "      <td>...</td>\n",
       "    </tr>\n",
       "    <tr>\n",
       "      <th>578</th>\n",
       "      <td>195</td>\n",
       "      <td>170.885316</td>\n",
       "      <td>39</td>\n",
       "      <td>24.114684</td>\n",
       "    </tr>\n",
       "    <tr>\n",
       "      <th>591</th>\n",
       "      <td>165</td>\n",
       "      <td>191.882819</td>\n",
       "      <td>40</td>\n",
       "      <td>26.882819</td>\n",
       "    </tr>\n",
       "    <tr>\n",
       "      <th>605</th>\n",
       "      <td>165</td>\n",
       "      <td>194.605124</td>\n",
       "      <td>41</td>\n",
       "      <td>29.605124</td>\n",
       "    </tr>\n",
       "    <tr>\n",
       "      <th>607</th>\n",
       "      <td>152</td>\n",
       "      <td>177.469787</td>\n",
       "      <td>41</td>\n",
       "      <td>25.469787</td>\n",
       "    </tr>\n",
       "    <tr>\n",
       "      <th>614</th>\n",
       "      <td>119</td>\n",
       "      <td>177.670461</td>\n",
       "      <td>41</td>\n",
       "      <td>58.670461</td>\n",
       "    </tr>\n",
       "  </tbody>\n",
       "</table>\n",
       "<p>204 rows × 4 columns</p>\n",
       "</div>"
      ],
      "text/plain": [
       "       y  y_previsto  previsao       erro\n",
       "2    121  148.504649         1  27.504649\n",
       "10   180  151.475434         1  28.524566\n",
       "11   167  137.732038         1  29.267962\n",
       "12   164  135.360226         1  28.639774\n",
       "18   121  151.837737         2  30.837737\n",
       "..   ...         ...       ...        ...\n",
       "578  195  170.885316        39  24.114684\n",
       "591  165  191.882819        40  26.882819\n",
       "605  165  194.605124        41  29.605124\n",
       "607  152  177.469787        41  25.469787\n",
       "614  119  177.670461        41  58.670461\n",
       "\n",
       "[204 rows x 4 columns]"
      ]
     },
     "execution_count": 198,
     "metadata": {},
     "output_type": "execute_result"
    }
   ],
   "source": [
    "df[df['erro']>(erro2)]"
   ]
  },
  {
   "cell_type": "code",
   "execution_count": 93,
   "metadata": {},
   "outputs": [
    {
     "data": {
      "text/plain": [
       "45"
      ]
     },
     "execution_count": 93,
     "metadata": {},
     "output_type": "execute_result"
    }
   ],
   "source": [
    "len(df[df['erro']>2*(erro_s)])"
   ]
  },
  {
   "cell_type": "markdown",
   "metadata": {},
   "source": [
    "# Prophet"
   ]
  },
  {
   "cell_type": "code",
   "execution_count": 139,
   "metadata": {},
   "outputs": [],
   "source": [
    "data_prop=amarelos_adm\n",
    "\n",
    "data_prop['ds']=data_prop['DTA_ADMISSAO']\n",
    "data_prop['y']=data_prop['URG_EPISODIO']\n",
    "data_prop=data_prop[['ds','y']]\n",
    "\n",
    "amarelos['DTA_ADMISSAO']=pd.to_datetime(amarelos['DTA_ADMISSAO'])\n",
    "\n",
    "data_teste=amarelos_Outubro.rename(columns={\"DTA_ADMISSAO\": \"ds\", \"URG_EPISODIO\": \"y\"})\n",
    "data_teste=data_teste[['ds','y']]"
   ]
  },
  {
   "cell_type": "code",
   "execution_count": 140,
   "metadata": {},
   "outputs": [
    {
     "data": {
      "text/html": [
       "<div>\n",
       "<style scoped>\n",
       "    .dataframe tbody tr th:only-of-type {\n",
       "        vertical-align: middle;\n",
       "    }\n",
       "\n",
       "    .dataframe tbody tr th {\n",
       "        vertical-align: top;\n",
       "    }\n",
       "\n",
       "    .dataframe thead th {\n",
       "        text-align: right;\n",
       "    }\n",
       "</style>\n",
       "<table border=\"1\" class=\"dataframe\">\n",
       "  <thead>\n",
       "    <tr style=\"text-align: right;\">\n",
       "      <th></th>\n",
       "      <th>ds</th>\n",
       "      <th>y</th>\n",
       "    </tr>\n",
       "  </thead>\n",
       "  <tbody>\n",
       "    <tr>\n",
       "      <th>0</th>\n",
       "      <td>2022-09-01</td>\n",
       "      <td>171</td>\n",
       "    </tr>\n",
       "    <tr>\n",
       "      <th>1</th>\n",
       "      <td>2022-09-02</td>\n",
       "      <td>146</td>\n",
       "    </tr>\n",
       "    <tr>\n",
       "      <th>2</th>\n",
       "      <td>2022-09-03</td>\n",
       "      <td>139</td>\n",
       "    </tr>\n",
       "    <tr>\n",
       "      <th>3</th>\n",
       "      <td>2022-09-04</td>\n",
       "      <td>121</td>\n",
       "    </tr>\n",
       "    <tr>\n",
       "      <th>4</th>\n",
       "      <td>2022-09-05</td>\n",
       "      <td>154</td>\n",
       "    </tr>\n",
       "    <tr>\n",
       "      <th>5</th>\n",
       "      <td>2022-09-06</td>\n",
       "      <td>121</td>\n",
       "    </tr>\n",
       "    <tr>\n",
       "      <th>6</th>\n",
       "      <td>2022-09-07</td>\n",
       "      <td>125</td>\n",
       "    </tr>\n",
       "    <tr>\n",
       "      <th>7</th>\n",
       "      <td>2022-09-08</td>\n",
       "      <td>154</td>\n",
       "    </tr>\n",
       "    <tr>\n",
       "      <th>8</th>\n",
       "      <td>2022-09-09</td>\n",
       "      <td>163</td>\n",
       "    </tr>\n",
       "    <tr>\n",
       "      <th>9</th>\n",
       "      <td>2022-09-10</td>\n",
       "      <td>161</td>\n",
       "    </tr>\n",
       "    <tr>\n",
       "      <th>10</th>\n",
       "      <td>2022-09-11</td>\n",
       "      <td>152</td>\n",
       "    </tr>\n",
       "    <tr>\n",
       "      <th>11</th>\n",
       "      <td>2022-09-12</td>\n",
       "      <td>180</td>\n",
       "    </tr>\n",
       "    <tr>\n",
       "      <th>12</th>\n",
       "      <td>2022-09-13</td>\n",
       "      <td>167</td>\n",
       "    </tr>\n",
       "    <tr>\n",
       "      <th>13</th>\n",
       "      <td>2022-09-14</td>\n",
       "      <td>164</td>\n",
       "    </tr>\n",
       "    <tr>\n",
       "      <th>14</th>\n",
       "      <td>2022-09-15</td>\n",
       "      <td>155</td>\n",
       "    </tr>\n",
       "    <tr>\n",
       "      <th>15</th>\n",
       "      <td>2022-09-16</td>\n",
       "      <td>179</td>\n",
       "    </tr>\n",
       "    <tr>\n",
       "      <th>16</th>\n",
       "      <td>2022-09-17</td>\n",
       "      <td>150</td>\n",
       "    </tr>\n",
       "    <tr>\n",
       "      <th>17</th>\n",
       "      <td>2022-09-18</td>\n",
       "      <td>151</td>\n",
       "    </tr>\n",
       "    <tr>\n",
       "      <th>18</th>\n",
       "      <td>2022-09-19</td>\n",
       "      <td>216</td>\n",
       "    </tr>\n",
       "    <tr>\n",
       "      <th>19</th>\n",
       "      <td>2022-09-20</td>\n",
       "      <td>201</td>\n",
       "    </tr>\n",
       "    <tr>\n",
       "      <th>20</th>\n",
       "      <td>2022-09-21</td>\n",
       "      <td>152</td>\n",
       "    </tr>\n",
       "    <tr>\n",
       "      <th>21</th>\n",
       "      <td>2022-09-22</td>\n",
       "      <td>152</td>\n",
       "    </tr>\n",
       "    <tr>\n",
       "      <th>22</th>\n",
       "      <td>2022-09-23</td>\n",
       "      <td>201</td>\n",
       "    </tr>\n",
       "    <tr>\n",
       "      <th>23</th>\n",
       "      <td>2022-09-24</td>\n",
       "      <td>161</td>\n",
       "    </tr>\n",
       "    <tr>\n",
       "      <th>24</th>\n",
       "      <td>2022-09-25</td>\n",
       "      <td>162</td>\n",
       "    </tr>\n",
       "    <tr>\n",
       "      <th>25</th>\n",
       "      <td>2022-09-26</td>\n",
       "      <td>157</td>\n",
       "    </tr>\n",
       "    <tr>\n",
       "      <th>26</th>\n",
       "      <td>2022-09-27</td>\n",
       "      <td>164</td>\n",
       "    </tr>\n",
       "    <tr>\n",
       "      <th>27</th>\n",
       "      <td>2022-09-28</td>\n",
       "      <td>154</td>\n",
       "    </tr>\n",
       "    <tr>\n",
       "      <th>28</th>\n",
       "      <td>2022-09-29</td>\n",
       "      <td>148</td>\n",
       "    </tr>\n",
       "    <tr>\n",
       "      <th>29</th>\n",
       "      <td>2022-09-30</td>\n",
       "      <td>141</td>\n",
       "    </tr>\n",
       "    <tr>\n",
       "      <th>30</th>\n",
       "      <td>2022-10-01</td>\n",
       "      <td>137</td>\n",
       "    </tr>\n",
       "    <tr>\n",
       "      <th>31</th>\n",
       "      <td>2022-10-02</td>\n",
       "      <td>151</td>\n",
       "    </tr>\n",
       "    <tr>\n",
       "      <th>32</th>\n",
       "      <td>2022-10-03</td>\n",
       "      <td>207</td>\n",
       "    </tr>\n",
       "    <tr>\n",
       "      <th>33</th>\n",
       "      <td>2022-10-04</td>\n",
       "      <td>177</td>\n",
       "    </tr>\n",
       "    <tr>\n",
       "      <th>34</th>\n",
       "      <td>2022-10-05</td>\n",
       "      <td>162</td>\n",
       "    </tr>\n",
       "    <tr>\n",
       "      <th>35</th>\n",
       "      <td>2022-10-06</td>\n",
       "      <td>176</td>\n",
       "    </tr>\n",
       "    <tr>\n",
       "      <th>36</th>\n",
       "      <td>2022-10-07</td>\n",
       "      <td>161</td>\n",
       "    </tr>\n",
       "    <tr>\n",
       "      <th>37</th>\n",
       "      <td>2022-10-08</td>\n",
       "      <td>184</td>\n",
       "    </tr>\n",
       "    <tr>\n",
       "      <th>38</th>\n",
       "      <td>2022-10-09</td>\n",
       "      <td>149</td>\n",
       "    </tr>\n",
       "    <tr>\n",
       "      <th>39</th>\n",
       "      <td>2022-10-10</td>\n",
       "      <td>216</td>\n",
       "    </tr>\n",
       "    <tr>\n",
       "      <th>40</th>\n",
       "      <td>2022-10-11</td>\n",
       "      <td>191</td>\n",
       "    </tr>\n",
       "    <tr>\n",
       "      <th>41</th>\n",
       "      <td>2022-10-12</td>\n",
       "      <td>190</td>\n",
       "    </tr>\n",
       "    <tr>\n",
       "      <th>42</th>\n",
       "      <td>2022-10-13</td>\n",
       "      <td>195</td>\n",
       "    </tr>\n",
       "    <tr>\n",
       "      <th>43</th>\n",
       "      <td>2022-10-14</td>\n",
       "      <td>175</td>\n",
       "    </tr>\n",
       "    <tr>\n",
       "      <th>44</th>\n",
       "      <td>2022-10-15</td>\n",
       "      <td>175</td>\n",
       "    </tr>\n",
       "    <tr>\n",
       "      <th>45</th>\n",
       "      <td>2022-10-16</td>\n",
       "      <td>143</td>\n",
       "    </tr>\n",
       "    <tr>\n",
       "      <th>46</th>\n",
       "      <td>2022-10-17</td>\n",
       "      <td>165</td>\n",
       "    </tr>\n",
       "    <tr>\n",
       "      <th>47</th>\n",
       "      <td>2022-10-18</td>\n",
       "      <td>195</td>\n",
       "    </tr>\n",
       "    <tr>\n",
       "      <th>48</th>\n",
       "      <td>2022-10-19</td>\n",
       "      <td>152</td>\n",
       "    </tr>\n",
       "    <tr>\n",
       "      <th>49</th>\n",
       "      <td>2022-10-20</td>\n",
       "      <td>187</td>\n",
       "    </tr>\n",
       "    <tr>\n",
       "      <th>50</th>\n",
       "      <td>2022-10-21</td>\n",
       "      <td>174</td>\n",
       "    </tr>\n",
       "    <tr>\n",
       "      <th>51</th>\n",
       "      <td>2022-10-22</td>\n",
       "      <td>162</td>\n",
       "    </tr>\n",
       "    <tr>\n",
       "      <th>52</th>\n",
       "      <td>2022-10-23</td>\n",
       "      <td>171</td>\n",
       "    </tr>\n",
       "    <tr>\n",
       "      <th>53</th>\n",
       "      <td>2022-10-24</td>\n",
       "      <td>203</td>\n",
       "    </tr>\n",
       "    <tr>\n",
       "      <th>54</th>\n",
       "      <td>2022-10-25</td>\n",
       "      <td>166</td>\n",
       "    </tr>\n",
       "    <tr>\n",
       "      <th>55</th>\n",
       "      <td>2022-10-26</td>\n",
       "      <td>119</td>\n",
       "    </tr>\n",
       "  </tbody>\n",
       "</table>\n",
       "</div>"
      ],
      "text/plain": [
       "           ds    y\n",
       "0  2022-09-01  171\n",
       "1  2022-09-02  146\n",
       "2  2022-09-03  139\n",
       "3  2022-09-04  121\n",
       "4  2022-09-05  154\n",
       "5  2022-09-06  121\n",
       "6  2022-09-07  125\n",
       "7  2022-09-08  154\n",
       "8  2022-09-09  163\n",
       "9  2022-09-10  161\n",
       "10 2022-09-11  152\n",
       "11 2022-09-12  180\n",
       "12 2022-09-13  167\n",
       "13 2022-09-14  164\n",
       "14 2022-09-15  155\n",
       "15 2022-09-16  179\n",
       "16 2022-09-17  150\n",
       "17 2022-09-18  151\n",
       "18 2022-09-19  216\n",
       "19 2022-09-20  201\n",
       "20 2022-09-21  152\n",
       "21 2022-09-22  152\n",
       "22 2022-09-23  201\n",
       "23 2022-09-24  161\n",
       "24 2022-09-25  162\n",
       "25 2022-09-26  157\n",
       "26 2022-09-27  164\n",
       "27 2022-09-28  154\n",
       "28 2022-09-29  148\n",
       "29 2022-09-30  141\n",
       "30 2022-10-01  137\n",
       "31 2022-10-02  151\n",
       "32 2022-10-03  207\n",
       "33 2022-10-04  177\n",
       "34 2022-10-05  162\n",
       "35 2022-10-06  176\n",
       "36 2022-10-07  161\n",
       "37 2022-10-08  184\n",
       "38 2022-10-09  149\n",
       "39 2022-10-10  216\n",
       "40 2022-10-11  191\n",
       "41 2022-10-12  190\n",
       "42 2022-10-13  195\n",
       "43 2022-10-14  175\n",
       "44 2022-10-15  175\n",
       "45 2022-10-16  143\n",
       "46 2022-10-17  165\n",
       "47 2022-10-18  195\n",
       "48 2022-10-19  152\n",
       "49 2022-10-20  187\n",
       "50 2022-10-21  174\n",
       "51 2022-10-22  162\n",
       "52 2022-10-23  171\n",
       "53 2022-10-24  203\n",
       "54 2022-10-25  166\n",
       "55 2022-10-26  119"
      ]
     },
     "execution_count": 140,
     "metadata": {},
     "output_type": "execute_result"
    }
   ],
   "source": [
    "data_teste"
   ]
  },
  {
   "cell_type": "code",
   "execution_count": 141,
   "metadata": {
    "scrolled": true
   },
   "outputs": [
    {
     "name": "stderr",
     "output_type": "stream",
     "text": [
      "18:15:48 - cmdstanpy - INFO - Chain [1] start processing\n",
      "18:15:48 - cmdstanpy - INFO - Chain [1] done processing\n",
      "18:15:49 - cmdstanpy - INFO - Chain [1] start processing\n",
      "18:15:49 - cmdstanpy - INFO - Chain [1] done processing\n",
      "18:15:50 - cmdstanpy - INFO - Chain [1] start processing\n",
      "18:15:50 - cmdstanpy - INFO - Chain [1] done processing\n",
      "18:15:52 - cmdstanpy - INFO - Chain [1] start processing\n",
      "18:15:52 - cmdstanpy - INFO - Chain [1] done processing\n",
      "18:15:53 - cmdstanpy - INFO - Chain [1] start processing\n",
      "18:15:53 - cmdstanpy - INFO - Chain [1] done processing\n",
      "18:15:53 - cmdstanpy - INFO - Chain [1] start processing\n",
      "18:15:54 - cmdstanpy - INFO - Chain [1] done processing\n",
      "18:15:54 - cmdstanpy - INFO - Chain [1] start processing\n",
      "18:15:55 - cmdstanpy - INFO - Chain [1] done processing\n",
      "18:15:56 - cmdstanpy - INFO - Chain [1] start processing\n",
      "18:15:56 - cmdstanpy - INFO - Chain [1] done processing\n",
      "18:15:57 - cmdstanpy - INFO - Chain [1] start processing\n",
      "18:15:57 - cmdstanpy - INFO - Chain [1] done processing\n",
      "18:15:58 - cmdstanpy - INFO - Chain [1] start processing\n",
      "18:15:58 - cmdstanpy - INFO - Chain [1] done processing\n",
      "18:15:59 - cmdstanpy - INFO - Chain [1] start processing\n",
      "18:15:59 - cmdstanpy - INFO - Chain [1] done processing\n",
      "18:16:00 - cmdstanpy - INFO - Chain [1] start processing\n",
      "18:16:00 - cmdstanpy - INFO - Chain [1] done processing\n",
      "18:16:01 - cmdstanpy - INFO - Chain [1] start processing\n",
      "18:16:01 - cmdstanpy - INFO - Chain [1] done processing\n",
      "18:16:02 - cmdstanpy - INFO - Chain [1] start processing\n",
      "18:16:02 - cmdstanpy - INFO - Chain [1] done processing\n",
      "18:16:03 - cmdstanpy - INFO - Chain [1] start processing\n",
      "18:16:03 - cmdstanpy - INFO - Chain [1] done processing\n",
      "18:16:05 - cmdstanpy - INFO - Chain [1] start processing\n",
      "18:16:05 - cmdstanpy - INFO - Chain [1] done processing\n",
      "18:16:06 - cmdstanpy - INFO - Chain [1] start processing\n",
      "18:16:06 - cmdstanpy - INFO - Chain [1] done processing\n",
      "18:16:06 - cmdstanpy - INFO - Chain [1] start processing\n",
      "18:16:07 - cmdstanpy - INFO - Chain [1] done processing\n",
      "18:16:07 - cmdstanpy - INFO - Chain [1] start processing\n",
      "18:16:08 - cmdstanpy - INFO - Chain [1] done processing\n",
      "18:16:09 - cmdstanpy - INFO - Chain [1] start processing\n",
      "18:16:09 - cmdstanpy - INFO - Chain [1] done processing\n",
      "18:16:10 - cmdstanpy - INFO - Chain [1] start processing\n",
      "18:16:10 - cmdstanpy - INFO - Chain [1] done processing\n",
      "18:16:10 - cmdstanpy - INFO - Chain [1] start processing\n",
      "18:16:11 - cmdstanpy - INFO - Chain [1] done processing\n",
      "18:16:12 - cmdstanpy - INFO - Chain [1] start processing\n",
      "18:16:12 - cmdstanpy - INFO - Chain [1] done processing\n",
      "18:16:13 - cmdstanpy - INFO - Chain [1] start processing\n",
      "18:16:13 - cmdstanpy - INFO - Chain [1] done processing\n",
      "18:16:13 - cmdstanpy - INFO - Chain [1] start processing\n",
      "18:16:14 - cmdstanpy - INFO - Chain [1] done processing\n",
      "18:16:14 - cmdstanpy - INFO - Chain [1] start processing\n",
      "18:16:15 - cmdstanpy - INFO - Chain [1] done processing\n",
      "18:16:15 - cmdstanpy - INFO - Chain [1] start processing\n",
      "18:16:16 - cmdstanpy - INFO - Chain [1] done processing\n",
      "18:16:17 - cmdstanpy - INFO - Chain [1] start processing\n",
      "18:16:17 - cmdstanpy - INFO - Chain [1] done processing\n",
      "18:16:18 - cmdstanpy - INFO - Chain [1] start processing\n",
      "18:16:18 - cmdstanpy - INFO - Chain [1] done processing\n",
      "18:16:19 - cmdstanpy - INFO - Chain [1] start processing\n",
      "18:16:19 - cmdstanpy - INFO - Chain [1] done processing\n",
      "18:16:20 - cmdstanpy - INFO - Chain [1] start processing\n",
      "18:16:20 - cmdstanpy - INFO - Chain [1] done processing\n",
      "18:16:21 - cmdstanpy - INFO - Chain [1] start processing\n",
      "18:16:21 - cmdstanpy - INFO - Chain [1] done processing\n",
      "18:16:22 - cmdstanpy - INFO - Chain [1] start processing\n",
      "18:16:22 - cmdstanpy - INFO - Chain [1] done processing\n",
      "18:16:23 - cmdstanpy - INFO - Chain [1] start processing\n",
      "18:16:23 - cmdstanpy - INFO - Chain [1] done processing\n",
      "18:16:24 - cmdstanpy - INFO - Chain [1] start processing\n",
      "18:16:24 - cmdstanpy - INFO - Chain [1] done processing\n",
      "18:16:25 - cmdstanpy - INFO - Chain [1] start processing\n",
      "18:16:25 - cmdstanpy - INFO - Chain [1] done processing\n",
      "18:16:26 - cmdstanpy - INFO - Chain [1] start processing\n",
      "18:16:26 - cmdstanpy - INFO - Chain [1] done processing\n",
      "18:16:27 - cmdstanpy - INFO - Chain [1] start processing\n",
      "18:16:27 - cmdstanpy - INFO - Chain [1] done processing\n",
      "18:16:28 - cmdstanpy - INFO - Chain [1] start processing\n",
      "18:16:28 - cmdstanpy - INFO - Chain [1] done processing\n",
      "18:16:29 - cmdstanpy - INFO - Chain [1] start processing\n",
      "18:16:29 - cmdstanpy - INFO - Chain [1] done processing\n",
      "18:16:30 - cmdstanpy - INFO - Chain [1] start processing\n",
      "18:16:30 - cmdstanpy - INFO - Chain [1] done processing\n"
     ]
    }
   ],
   "source": [
    "from prophet import Prophet\n",
    "\n",
    "treino=data_prop\n",
    "teste=data_teste\n",
    "\n",
    "array_pred_m=[]\n",
    "array=[]\n",
    "num_prev=[]\n",
    "z=1\n",
    "dia=[]\n",
    "maxi=[]\n",
    "mini=[]\n",
    "\n",
    "for x in range(len(teste)-15):\n",
    "    y_treino=teste[0:z]\n",
    "    h=pd.merge(treino,y_treino,on='ds',how='outer').replace(np.nan,0)\n",
    "    h['y']=h['y_x']+h['y_y']\n",
    "    y_treino=h[['ds','y']]\n",
    "    m = Prophet()\n",
    "    best_model = m.fit(y_treino)\n",
    "    future=m.make_future_dataframe(periods=15)\n",
    "    pred_m=m.predict(future)\n",
    "    \n",
    "    for y in pred_m[-15:].iloc:\n",
    "        array_pred_m.append(y['yhat'])\n",
    "        maxi.append(y['yhat_upper'])\n",
    "        mini.append(y['yhat_lower'])\n",
    "    t=teste[z:z+15]['y']\n",
    "    \n",
    "    for s in t.iloc:\n",
    "        array.append(s)\n",
    "    \n",
    "    for x in range(15):\n",
    "        num_prev.append(z)\n",
    "    \n",
    "    t=0\n",
    "    for x in range(15):\n",
    "        t=t+1\n",
    "        dia.append(t)\n",
    "    z=z+1"
   ]
  },
  {
   "cell_type": "code",
   "execution_count": 142,
   "metadata": {},
   "outputs": [],
   "source": [
    "previsao = pd.DataFrame({'y':array, 'y_previsto':array_pred_m, 'y_max':maxi, 'y_min':mini, 'dia':dia, 'previsao':num_prev})"
   ]
  },
  {
   "cell_type": "code",
   "execution_count": 143,
   "metadata": {},
   "outputs": [
    {
     "data": {
      "text/html": [
       "<div>\n",
       "<style scoped>\n",
       "    .dataframe tbody tr th:only-of-type {\n",
       "        vertical-align: middle;\n",
       "    }\n",
       "\n",
       "    .dataframe tbody tr th {\n",
       "        vertical-align: top;\n",
       "    }\n",
       "\n",
       "    .dataframe thead th {\n",
       "        text-align: right;\n",
       "    }\n",
       "</style>\n",
       "<table border=\"1\" class=\"dataframe\">\n",
       "  <thead>\n",
       "    <tr style=\"text-align: right;\">\n",
       "      <th></th>\n",
       "      <th>y</th>\n",
       "      <th>y_previsto</th>\n",
       "      <th>y_max</th>\n",
       "      <th>y_min</th>\n",
       "      <th>dia</th>\n",
       "      <th>previsao</th>\n",
       "    </tr>\n",
       "  </thead>\n",
       "  <tbody>\n",
       "    <tr>\n",
       "      <th>0</th>\n",
       "      <td>146</td>\n",
       "      <td>172.514650</td>\n",
       "      <td>196.779470</td>\n",
       "      <td>146.377566</td>\n",
       "      <td>1</td>\n",
       "      <td>1</td>\n",
       "    </tr>\n",
       "    <tr>\n",
       "      <th>1</th>\n",
       "      <td>139</td>\n",
       "      <td>167.756945</td>\n",
       "      <td>192.067489</td>\n",
       "      <td>142.645782</td>\n",
       "      <td>2</td>\n",
       "      <td>1</td>\n",
       "    </tr>\n",
       "    <tr>\n",
       "      <th>2</th>\n",
       "      <td>121</td>\n",
       "      <td>154.917330</td>\n",
       "      <td>180.170194</td>\n",
       "      <td>128.480057</td>\n",
       "      <td>3</td>\n",
       "      <td>1</td>\n",
       "    </tr>\n",
       "    <tr>\n",
       "      <th>3</th>\n",
       "      <td>154</td>\n",
       "      <td>146.608957</td>\n",
       "      <td>169.976271</td>\n",
       "      <td>122.166698</td>\n",
       "      <td>4</td>\n",
       "      <td>1</td>\n",
       "    </tr>\n",
       "    <tr>\n",
       "      <th>4</th>\n",
       "      <td>121</td>\n",
       "      <td>179.372025</td>\n",
       "      <td>202.748501</td>\n",
       "      <td>154.734040</td>\n",
       "      <td>5</td>\n",
       "      <td>1</td>\n",
       "    </tr>\n",
       "    <tr>\n",
       "      <th>...</th>\n",
       "      <td>...</td>\n",
       "      <td>...</td>\n",
       "      <td>...</td>\n",
       "      <td>...</td>\n",
       "      <td>...</td>\n",
       "      <td>...</td>\n",
       "    </tr>\n",
       "    <tr>\n",
       "      <th>610</th>\n",
       "      <td>162</td>\n",
       "      <td>189.954156</td>\n",
       "      <td>226.590646</td>\n",
       "      <td>153.820690</td>\n",
       "      <td>11</td>\n",
       "      <td>41</td>\n",
       "    </tr>\n",
       "    <tr>\n",
       "      <th>611</th>\n",
       "      <td>171</td>\n",
       "      <td>224.984519</td>\n",
       "      <td>259.039807</td>\n",
       "      <td>190.693747</td>\n",
       "      <td>12</td>\n",
       "      <td>41</td>\n",
       "    </tr>\n",
       "    <tr>\n",
       "      <th>612</th>\n",
       "      <td>203</td>\n",
       "      <td>212.193225</td>\n",
       "      <td>247.655261</td>\n",
       "      <td>177.889553</td>\n",
       "      <td>13</td>\n",
       "      <td>41</td>\n",
       "    </tr>\n",
       "    <tr>\n",
       "      <th>613</th>\n",
       "      <td>166</td>\n",
       "      <td>208.346840</td>\n",
       "      <td>243.856244</td>\n",
       "      <td>174.108414</td>\n",
       "      <td>14</td>\n",
       "      <td>41</td>\n",
       "    </tr>\n",
       "    <tr>\n",
       "      <th>614</th>\n",
       "      <td>119</td>\n",
       "      <td>214.589303</td>\n",
       "      <td>250.425067</td>\n",
       "      <td>180.723488</td>\n",
       "      <td>15</td>\n",
       "      <td>41</td>\n",
       "    </tr>\n",
       "  </tbody>\n",
       "</table>\n",
       "<p>615 rows × 6 columns</p>\n",
       "</div>"
      ],
      "text/plain": [
       "       y  y_previsto       y_max       y_min  dia  previsao\n",
       "0    146  172.514650  196.779470  146.377566    1         1\n",
       "1    139  167.756945  192.067489  142.645782    2         1\n",
       "2    121  154.917330  180.170194  128.480057    3         1\n",
       "3    154  146.608957  169.976271  122.166698    4         1\n",
       "4    121  179.372025  202.748501  154.734040    5         1\n",
       "..   ...         ...         ...         ...  ...       ...\n",
       "610  162  189.954156  226.590646  153.820690   11        41\n",
       "611  171  224.984519  259.039807  190.693747   12        41\n",
       "612  203  212.193225  247.655261  177.889553   13        41\n",
       "613  166  208.346840  243.856244  174.108414   14        41\n",
       "614  119  214.589303  250.425067  180.723488   15        41\n",
       "\n",
       "[615 rows x 6 columns]"
      ]
     },
     "execution_count": 143,
     "metadata": {},
     "output_type": "execute_result"
    }
   ],
   "source": [
    "previsao"
   ]
  },
  {
   "cell_type": "code",
   "execution_count": 144,
   "metadata": {},
   "outputs": [
    {
     "data": {
      "text/html": [
       "<div>\n",
       "<style scoped>\n",
       "    .dataframe tbody tr th:only-of-type {\n",
       "        vertical-align: middle;\n",
       "    }\n",
       "\n",
       "    .dataframe tbody tr th {\n",
       "        vertical-align: top;\n",
       "    }\n",
       "\n",
       "    .dataframe thead th {\n",
       "        text-align: right;\n",
       "    }\n",
       "</style>\n",
       "<table border=\"1\" class=\"dataframe\">\n",
       "  <thead>\n",
       "    <tr style=\"text-align: right;\">\n",
       "      <th></th>\n",
       "      <th>y</th>\n",
       "      <th>y_previsto</th>\n",
       "      <th>y_max</th>\n",
       "      <th>y_min</th>\n",
       "      <th>dia</th>\n",
       "      <th>previsao</th>\n",
       "    </tr>\n",
       "  </thead>\n",
       "  <tbody>\n",
       "    <tr>\n",
       "      <th>0</th>\n",
       "      <td>146</td>\n",
       "      <td>172.514650</td>\n",
       "      <td>196.779470</td>\n",
       "      <td>146.377566</td>\n",
       "      <td>1</td>\n",
       "      <td>1</td>\n",
       "    </tr>\n",
       "    <tr>\n",
       "      <th>1</th>\n",
       "      <td>139</td>\n",
       "      <td>167.756945</td>\n",
       "      <td>192.067489</td>\n",
       "      <td>142.645782</td>\n",
       "      <td>2</td>\n",
       "      <td>1</td>\n",
       "    </tr>\n",
       "    <tr>\n",
       "      <th>2</th>\n",
       "      <td>121</td>\n",
       "      <td>154.917330</td>\n",
       "      <td>180.170194</td>\n",
       "      <td>128.480057</td>\n",
       "      <td>3</td>\n",
       "      <td>1</td>\n",
       "    </tr>\n",
       "    <tr>\n",
       "      <th>4</th>\n",
       "      <td>121</td>\n",
       "      <td>179.372025</td>\n",
       "      <td>202.748501</td>\n",
       "      <td>154.734040</td>\n",
       "      <td>5</td>\n",
       "      <td>1</td>\n",
       "    </tr>\n",
       "    <tr>\n",
       "      <th>5</th>\n",
       "      <td>125</td>\n",
       "      <td>165.684571</td>\n",
       "      <td>191.298571</td>\n",
       "      <td>139.417091</td>\n",
       "      <td>6</td>\n",
       "      <td>1</td>\n",
       "    </tr>\n",
       "    <tr>\n",
       "      <th>...</th>\n",
       "      <td>...</td>\n",
       "      <td>...</td>\n",
       "      <td>...</td>\n",
       "      <td>...</td>\n",
       "      <td>...</td>\n",
       "      <td>...</td>\n",
       "    </tr>\n",
       "    <tr>\n",
       "      <th>605</th>\n",
       "      <td>165</td>\n",
       "      <td>210.740850</td>\n",
       "      <td>247.137913</td>\n",
       "      <td>177.107165</td>\n",
       "      <td>6</td>\n",
       "      <td>41</td>\n",
       "    </tr>\n",
       "    <tr>\n",
       "      <th>607</th>\n",
       "      <td>152</td>\n",
       "      <td>211.905758</td>\n",
       "      <td>247.622638</td>\n",
       "      <td>175.481467</td>\n",
       "      <td>8</td>\n",
       "      <td>41</td>\n",
       "    </tr>\n",
       "    <tr>\n",
       "      <th>611</th>\n",
       "      <td>171</td>\n",
       "      <td>224.984519</td>\n",
       "      <td>259.039807</td>\n",
       "      <td>190.693747</td>\n",
       "      <td>12</td>\n",
       "      <td>41</td>\n",
       "    </tr>\n",
       "    <tr>\n",
       "      <th>613</th>\n",
       "      <td>166</td>\n",
       "      <td>208.346840</td>\n",
       "      <td>243.856244</td>\n",
       "      <td>174.108414</td>\n",
       "      <td>14</td>\n",
       "      <td>41</td>\n",
       "    </tr>\n",
       "    <tr>\n",
       "      <th>614</th>\n",
       "      <td>119</td>\n",
       "      <td>214.589303</td>\n",
       "      <td>250.425067</td>\n",
       "      <td>180.723488</td>\n",
       "      <td>15</td>\n",
       "      <td>41</td>\n",
       "    </tr>\n",
       "  </tbody>\n",
       "</table>\n",
       "<p>221 rows × 6 columns</p>\n",
       "</div>"
      ],
      "text/plain": [
       "       y  y_previsto       y_max       y_min  dia  previsao\n",
       "0    146  172.514650  196.779470  146.377566    1         1\n",
       "1    139  167.756945  192.067489  142.645782    2         1\n",
       "2    121  154.917330  180.170194  128.480057    3         1\n",
       "4    121  179.372025  202.748501  154.734040    5         1\n",
       "5    125  165.684571  191.298571  139.417091    6         1\n",
       "..   ...         ...         ...         ...  ...       ...\n",
       "605  165  210.740850  247.137913  177.107165    6        41\n",
       "607  152  211.905758  247.622638  175.481467    8        41\n",
       "611  171  224.984519  259.039807  190.693747   12        41\n",
       "613  166  208.346840  243.856244  174.108414   14        41\n",
       "614  119  214.589303  250.425067  180.723488   15        41\n",
       "\n",
       "[221 rows x 6 columns]"
      ]
     },
     "execution_count": 144,
     "metadata": {},
     "output_type": "execute_result"
    }
   ],
   "source": [
    "previsao[(previsao['y']>previsao['y_max'])|(previsao['y']<previsao['y_min'])]"
   ]
  },
  {
   "cell_type": "code",
   "execution_count": 130,
   "metadata": {},
   "outputs": [],
   "source": [
    "import math\n",
    "\n",
    "med=previsao['y'].mean()\n",
    "z=0\n",
    "z2=0\n",
    "\n",
    "for x in previsao.iloc:\n",
    "    y=abs(x['y_previsto']-x['y'])\n",
    "    y2=(x['y_previsto']-x['y'])**2\n",
    "    z2=z2+y2\n",
    "    z=z+y\n",
    "    \n",
    "    \n",
    "erro=z/len(previsao)\n",
    "erro2=math.sqrt(z2/len(previsao))"
   ]
  },
  {
   "cell_type": "code",
   "execution_count": 131,
   "metadata": {},
   "outputs": [
    {
     "data": {
      "text/plain": [
       "16.705650766615022"
      ]
     },
     "execution_count": 131,
     "metadata": {},
     "output_type": "execute_result"
    }
   ],
   "source": [
    "erro"
   ]
  },
  {
   "cell_type": "code",
   "execution_count": 132,
   "metadata": {},
   "outputs": [
    {
     "data": {
      "text/plain": [
       "19.909024349203943"
      ]
     },
     "execution_count": 132,
     "metadata": {},
     "output_type": "execute_result"
    }
   ],
   "source": [
    "erro2"
   ]
  },
  {
   "cell_type": "code",
   "execution_count": 133,
   "metadata": {},
   "outputs": [
    {
     "data": {
      "text/plain": [
       "9.931247857892373"
      ]
     },
     "execution_count": 133,
     "metadata": {},
     "output_type": "execute_result"
    }
   ],
   "source": [
    "erro/med*100"
   ]
  },
  {
   "cell_type": "code",
   "execution_count": null,
   "metadata": {},
   "outputs": [],
   "source": []
  },
  {
   "cell_type": "code",
   "execution_count": null,
   "metadata": {},
   "outputs": [],
   "source": []
  }
 ],
 "metadata": {
  "kernelspec": {
   "display_name": "Python 3 (ipykernel)",
   "language": "python",
   "name": "python3"
  },
  "language_info": {
   "codemirror_mode": {
    "name": "ipython",
    "version": 3
   },
   "file_extension": ".py",
   "mimetype": "text/x-python",
   "name": "python",
   "nbconvert_exporter": "python",
   "pygments_lexer": "ipython3",
   "version": "3.10.5"
  }
 },
 "nbformat": 4,
 "nbformat_minor": 4
}
