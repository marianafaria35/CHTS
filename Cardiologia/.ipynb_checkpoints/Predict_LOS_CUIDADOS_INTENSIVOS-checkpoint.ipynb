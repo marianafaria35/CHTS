{
 "cells": [
  {
   "cell_type": "code",
   "execution_count": 124,
   "metadata": {},
   "outputs": [],
   "source": [
    "import datetime\n",
    "import math\n",
    "import numpy as np\n",
    "import pandas as pd\n",
    "\n",
    "dataset=pd.read_csv('CI_adm_dataset/INT_CI_Afluencias_LOS.csv', sep=',')\n",
    "adm=pd.read_excel('CI_adm_dataset/INT_ADMISSOES.xlsx')"
   ]
  },
  {
   "cell_type": "code",
   "execution_count": 125,
   "metadata": {},
   "outputs": [],
   "source": [
    "datas=[]\n",
    "for x in dataset.iloc:\n",
    "    e=pd.date_range(start =x['DTA_ENTRADA'], \n",
    "            end =x['DTA_SAIDA'])\n",
    "    datas.append(e)\n",
    "    \n",
    "dataset['INTERVALO']=datas"
   ]
  },
  {
   "cell_type": "code",
   "execution_count": 127,
   "metadata": {},
   "outputs": [],
   "source": [
    "teste=dataset.explode('INTERVALO')"
   ]
  },
  {
   "cell_type": "code",
   "execution_count": 130,
   "metadata": {},
   "outputs": [],
   "source": [
    "dias = teste.groupby('INTERVALO')['INT_EPISODIO'].count().reset_index()"
   ]
  },
  {
   "cell_type": "code",
   "execution_count": 137,
   "metadata": {},
   "outputs": [],
   "source": [
    "dias['ANO']=dias['INTERVALO'].apply(lambda x: x.year)"
   ]
  },
  {
   "cell_type": "code",
   "execution_count": null,
   "metadata": {},
   "outputs": [],
   "source": []
  },
  {
   "cell_type": "code",
   "execution_count": 162,
   "metadata": {},
   "outputs": [
    {
     "data": {
      "text/html": [
       "<div>\n",
       "<style scoped>\n",
       "    .dataframe tbody tr th:only-of-type {\n",
       "        vertical-align: middle;\n",
       "    }\n",
       "\n",
       "    .dataframe tbody tr th {\n",
       "        vertical-align: top;\n",
       "    }\n",
       "\n",
       "    .dataframe thead th {\n",
       "        text-align: right;\n",
       "    }\n",
       "</style>\n",
       "<table border=\"1\" class=\"dataframe\">\n",
       "  <thead>\n",
       "    <tr style=\"text-align: right;\">\n",
       "      <th></th>\n",
       "      <th>INTERVALO</th>\n",
       "      <th>INT_EPISODIO</th>\n",
       "      <th>ANO</th>\n",
       "    </tr>\n",
       "  </thead>\n",
       "  <tbody>\n",
       "    <tr>\n",
       "      <th>1688</th>\n",
       "      <td>2021-08-22</td>\n",
       "      <td>8</td>\n",
       "      <td>2021</td>\n",
       "    </tr>\n",
       "  </tbody>\n",
       "</table>\n",
       "</div>"
      ],
      "text/plain": [
       "      INTERVALO  INT_EPISODIO   ANO\n",
       "1688 2021-08-22             8  2021"
      ]
     },
     "execution_count": 162,
     "metadata": {},
     "output_type": "execute_result"
    }
   ],
   "source": [
    "dias[dias['INTERVALO']=='2021-08-22']"
   ]
  },
  {
   "cell_type": "code",
   "execution_count": 141,
   "metadata": {},
   "outputs": [],
   "source": [
    "dias17=dias[dias['ANO']==2017]\n",
    "dias18=dias[dias['ANO']==2018]\n",
    "dias19=dias[dias['ANO']==2019]\n",
    "dias20=dias[dias['ANO']==2020]\n",
    "dias21=dias[dias['ANO']==2021]"
   ]
  },
  {
   "cell_type": "code",
   "execution_count": null,
   "metadata": {},
   "outputs": [],
   "source": []
  },
  {
   "cell_type": "code",
   "execution_count": 140,
   "metadata": {},
   "outputs": [
    {
     "data": {
      "text/plain": [
       "8"
      ]
     },
     "execution_count": 140,
     "metadata": {},
     "output_type": "execute_result"
    }
   ],
   "source": [
    "dias17['INT_EPISODIO'].max()"
   ]
  },
  {
   "cell_type": "code",
   "execution_count": 142,
   "metadata": {},
   "outputs": [
    {
     "data": {
      "text/plain": [
       "8"
      ]
     },
     "execution_count": 142,
     "metadata": {},
     "output_type": "execute_result"
    }
   ],
   "source": [
    "dias18['INT_EPISODIO'].max()"
   ]
  },
  {
   "cell_type": "code",
   "execution_count": 163,
   "metadata": {},
   "outputs": [
    {
     "data": {
      "text/plain": [
       "5     398\n",
       "6     330\n",
       "4     303\n",
       "3     223\n",
       "7     179\n",
       "2      90\n",
       "8      90\n",
       "9      41\n",
       "1      32\n",
       "10     15\n",
       "11      1\n",
       "Name: INT_EPISODIO, dtype: int64"
      ]
     },
     "execution_count": 163,
     "metadata": {},
     "output_type": "execute_result"
    }
   ],
   "source": [
    "dias['INT_EPISODIO'].value_counts()"
   ]
  },
  {
   "cell_type": "code",
   "execution_count": 144,
   "metadata": {},
   "outputs": [
    {
     "data": {
      "text/plain": [
       "10"
      ]
     },
     "execution_count": 144,
     "metadata": {},
     "output_type": "execute_result"
    }
   ],
   "source": [
    "dias20['INT_EPISODIO'].max()"
   ]
  },
  {
   "cell_type": "code",
   "execution_count": 145,
   "metadata": {},
   "outputs": [
    {
     "data": {
      "text/plain": [
       "11"
      ]
     },
     "execution_count": 145,
     "metadata": {},
     "output_type": "execute_result"
    }
   ],
   "source": [
    "dias21['INT_EPISODIO'].max()"
   ]
  },
  {
   "cell_type": "code",
   "execution_count": 146,
   "metadata": {},
   "outputs": [
    {
     "data": {
      "text/plain": [
       "5    93\n",
       "3    74\n",
       "6    71\n",
       "4    58\n",
       "2    30\n",
       "7    22\n",
       "8     8\n",
       "1     7\n",
       "Name: INT_EPISODIO, dtype: int64"
      ]
     },
     "execution_count": 146,
     "metadata": {},
     "output_type": "execute_result"
    }
   ],
   "source": [
    "dias17['INT_EPISODIO'].value_counts()"
   ]
  },
  {
   "cell_type": "code",
   "execution_count": null,
   "metadata": {},
   "outputs": [],
   "source": []
  },
  {
   "cell_type": "code",
   "execution_count": 116,
   "metadata": {},
   "outputs": [
    {
     "data": {
      "text/html": [
       "<div>\n",
       "<style scoped>\n",
       "    .dataframe tbody tr th:only-of-type {\n",
       "        vertical-align: middle;\n",
       "    }\n",
       "\n",
       "    .dataframe tbody tr th {\n",
       "        vertical-align: top;\n",
       "    }\n",
       "\n",
       "    .dataframe thead th {\n",
       "        text-align: right;\n",
       "    }\n",
       "</style>\n",
       "<table border=\"1\" class=\"dataframe\">\n",
       "  <thead>\n",
       "    <tr style=\"text-align: right;\">\n",
       "      <th></th>\n",
       "      <th>DTA_ENTRADA</th>\n",
       "      <th>DTA_SAIDA</th>\n",
       "    </tr>\n",
       "  </thead>\n",
       "  <tbody>\n",
       "    <tr>\n",
       "      <th>592</th>\n",
       "      <td>2018-11-02</td>\n",
       "      <td>2018-12-03</td>\n",
       "    </tr>\n",
       "    <tr>\n",
       "      <th>603</th>\n",
       "      <td>2018-11-26</td>\n",
       "      <td>2018-12-03</td>\n",
       "    </tr>\n",
       "    <tr>\n",
       "      <th>608</th>\n",
       "      <td>2018-11-25</td>\n",
       "      <td>2018-12-03</td>\n",
       "    </tr>\n",
       "  </tbody>\n",
       "</table>\n",
       "</div>"
      ],
      "text/plain": [
       "    DTA_ENTRADA  DTA_SAIDA\n",
       "592  2018-11-02 2018-12-03\n",
       "603  2018-11-26 2018-12-03\n",
       "608  2018-11-25 2018-12-03"
      ]
     },
     "execution_count": 116,
     "metadata": {},
     "output_type": "execute_result"
    }
   ],
   "source": [
    "dataset[(dataset['DTA_ENTRADA']<'2018-12-02')&(dataset['DTA_SAIDA']>='2018-12-02')][['DTA_ENTRADA','DTA_SAIDA']]"
   ]
  },
  {
   "cell_type": "code",
   "execution_count": null,
   "metadata": {},
   "outputs": [],
   "source": []
  },
  {
   "cell_type": "code",
   "execution_count": 99,
   "metadata": {},
   "outputs": [
    {
     "data": {
      "text/html": [
       "<div>\n",
       "<style scoped>\n",
       "    .dataframe tbody tr th:only-of-type {\n",
       "        vertical-align: middle;\n",
       "    }\n",
       "\n",
       "    .dataframe tbody tr th {\n",
       "        vertical-align: top;\n",
       "    }\n",
       "\n",
       "    .dataframe thead th {\n",
       "        text-align: right;\n",
       "    }\n",
       "</style>\n",
       "<table border=\"1\" class=\"dataframe\">\n",
       "  <thead>\n",
       "    <tr style=\"text-align: right;\">\n",
       "      <th></th>\n",
       "      <th>INT_EPISODIO</th>\n",
       "      <th>DTA_NASCIMENTO</th>\n",
       "      <th>SEXO</th>\n",
       "      <th>NUM_TRANSFERENCIA</th>\n",
       "      <th>COD_ESPECIALIDADE</th>\n",
       "      <th>DES_ESPECIALIDADE</th>\n",
       "      <th>MOTIVO_ENTRADA</th>\n",
       "      <th>COD_DIAGNOSTICO_ADM</th>\n",
       "      <th>DTA_ENTRADA</th>\n",
       "      <th>HORA_ENTRADA</th>\n",
       "      <th>...</th>\n",
       "      <th>NUM_SEQUENCIAL</th>\n",
       "      <th>NUM_INTERNAMENTOS</th>\n",
       "      <th>ULT_INTERNAMENTO</th>\n",
       "      <th>Tempo</th>\n",
       "      <th>NUM_INT_MESMO_DIG</th>\n",
       "      <th>ULT_INT_MESMO_DIG</th>\n",
       "      <th>Tempo_ULT_INT_MESMO_DIG</th>\n",
       "      <th>PERIODO</th>\n",
       "      <th>PERIODO_MESMO_DIG</th>\n",
       "      <th>Outlier</th>\n",
       "    </tr>\n",
       "  </thead>\n",
       "  <tbody>\n",
       "    <tr>\n",
       "      <th>0</th>\n",
       "      <td>89106394680</td>\n",
       "      <td>1936-01-06</td>\n",
       "      <td>2</td>\n",
       "      <td>454127</td>\n",
       "      <td>30104</td>\n",
       "      <td>UCIP UPA (INT)</td>\n",
       "      <td>T</td>\n",
       "      <td>0</td>\n",
       "      <td>2017-01-04</td>\n",
       "      <td>58200</td>\n",
       "      <td>...</td>\n",
       "      <td>2798123161</td>\n",
       "      <td>0</td>\n",
       "      <td>NaT</td>\n",
       "      <td>NaN</td>\n",
       "      <td>0</td>\n",
       "      <td>NaT</td>\n",
       "      <td>NaN</td>\n",
       "      <td>1</td>\n",
       "      <td>1</td>\n",
       "      <td>1</td>\n",
       "    </tr>\n",
       "    <tr>\n",
       "      <th>1</th>\n",
       "      <td>89107184342</td>\n",
       "      <td>1949-03-02</td>\n",
       "      <td>1</td>\n",
       "      <td>454217</td>\n",
       "      <td>30104</td>\n",
       "      <td>UCIP UPA (INT)</td>\n",
       "      <td>T</td>\n",
       "      <td>0</td>\n",
       "      <td>2017-01-05</td>\n",
       "      <td>62160</td>\n",
       "      <td>...</td>\n",
       "      <td>1314442800</td>\n",
       "      <td>0</td>\n",
       "      <td>NaT</td>\n",
       "      <td>NaN</td>\n",
       "      <td>0</td>\n",
       "      <td>NaT</td>\n",
       "      <td>NaN</td>\n",
       "      <td>1</td>\n",
       "      <td>1</td>\n",
       "      <td>-1</td>\n",
       "    </tr>\n",
       "    <tr>\n",
       "      <th>2</th>\n",
       "      <td>89107429026</td>\n",
       "      <td>1967-12-19</td>\n",
       "      <td>2</td>\n",
       "      <td>456940</td>\n",
       "      <td>30104</td>\n",
       "      <td>UCIP UPA (INT)</td>\n",
       "      <td>T</td>\n",
       "      <td>0</td>\n",
       "      <td>2017-02-09</td>\n",
       "      <td>45060</td>\n",
       "      <td>...</td>\n",
       "      <td>222857427</td>\n",
       "      <td>0</td>\n",
       "      <td>NaT</td>\n",
       "      <td>NaN</td>\n",
       "      <td>0</td>\n",
       "      <td>NaT</td>\n",
       "      <td>NaN</td>\n",
       "      <td>1</td>\n",
       "      <td>3</td>\n",
       "      <td>1</td>\n",
       "    </tr>\n",
       "    <tr>\n",
       "      <th>3</th>\n",
       "      <td>94537033718</td>\n",
       "      <td>1951-08-15</td>\n",
       "      <td>2</td>\n",
       "      <td>453801</td>\n",
       "      <td>30104</td>\n",
       "      <td>UCIP UPA (INT)</td>\n",
       "      <td>U</td>\n",
       "      <td>0</td>\n",
       "      <td>2017-01-01</td>\n",
       "      <td>7920</td>\n",
       "      <td>...</td>\n",
       "      <td>1573429692</td>\n",
       "      <td>0</td>\n",
       "      <td>NaT</td>\n",
       "      <td>NaN</td>\n",
       "      <td>0</td>\n",
       "      <td>NaT</td>\n",
       "      <td>NaN</td>\n",
       "      <td>1</td>\n",
       "      <td>1</td>\n",
       "      <td>1</td>\n",
       "    </tr>\n",
       "    <tr>\n",
       "      <th>4</th>\n",
       "      <td>94537106011</td>\n",
       "      <td>1995-09-15</td>\n",
       "      <td>1</td>\n",
       "      <td>453814</td>\n",
       "      <td>30104</td>\n",
       "      <td>UCIP UPA (INT)</td>\n",
       "      <td>U</td>\n",
       "      <td>0</td>\n",
       "      <td>2017-01-01</td>\n",
       "      <td>37920</td>\n",
       "      <td>...</td>\n",
       "      <td>1009405267</td>\n",
       "      <td>0</td>\n",
       "      <td>NaT</td>\n",
       "      <td>NaN</td>\n",
       "      <td>0</td>\n",
       "      <td>NaT</td>\n",
       "      <td>NaN</td>\n",
       "      <td>1</td>\n",
       "      <td>1</td>\n",
       "      <td>1</td>\n",
       "    </tr>\n",
       "    <tr>\n",
       "      <th>...</th>\n",
       "      <td>...</td>\n",
       "      <td>...</td>\n",
       "      <td>...</td>\n",
       "      <td>...</td>\n",
       "      <td>...</td>\n",
       "      <td>...</td>\n",
       "      <td>...</td>\n",
       "      <td>...</td>\n",
       "      <td>...</td>\n",
       "      <td>...</td>\n",
       "      <td>...</td>\n",
       "      <td>...</td>\n",
       "      <td>...</td>\n",
       "      <td>...</td>\n",
       "      <td>...</td>\n",
       "      <td>...</td>\n",
       "      <td>...</td>\n",
       "      <td>...</td>\n",
       "      <td>...</td>\n",
       "      <td>...</td>\n",
       "      <td>...</td>\n",
       "    </tr>\n",
       "    <tr>\n",
       "      <th>1451</th>\n",
       "      <td>444995046320</td>\n",
       "      <td>1949-04-26</td>\n",
       "      <td>1</td>\n",
       "      <td>560441</td>\n",
       "      <td>30104</td>\n",
       "      <td>UCIP UPA (INT)</td>\n",
       "      <td>T</td>\n",
       "      <td>0</td>\n",
       "      <td>2020-12-25</td>\n",
       "      <td>69720</td>\n",
       "      <td>...</td>\n",
       "      <td>4158910983</td>\n",
       "      <td>0</td>\n",
       "      <td>NaT</td>\n",
       "      <td>NaN</td>\n",
       "      <td>0</td>\n",
       "      <td>NaT</td>\n",
       "      <td>NaN</td>\n",
       "      <td>1</td>\n",
       "      <td>1</td>\n",
       "      <td>-1</td>\n",
       "    </tr>\n",
       "    <tr>\n",
       "      <th>1452</th>\n",
       "      <td>444996458814</td>\n",
       "      <td>1952-02-15</td>\n",
       "      <td>1</td>\n",
       "      <td>560492</td>\n",
       "      <td>30104</td>\n",
       "      <td>UCIP UPA (INT)</td>\n",
       "      <td>T</td>\n",
       "      <td>0</td>\n",
       "      <td>2020-12-26</td>\n",
       "      <td>57780</td>\n",
       "      <td>...</td>\n",
       "      <td>1703929679</td>\n",
       "      <td>0</td>\n",
       "      <td>NaT</td>\n",
       "      <td>NaN</td>\n",
       "      <td>0</td>\n",
       "      <td>NaT</td>\n",
       "      <td>NaN</td>\n",
       "      <td>1</td>\n",
       "      <td>1</td>\n",
       "      <td>-1</td>\n",
       "    </tr>\n",
       "    <tr>\n",
       "      <th>1453</th>\n",
       "      <td>444997254037</td>\n",
       "      <td>1966-09-19</td>\n",
       "      <td>1</td>\n",
       "      <td>560946</td>\n",
       "      <td>30104</td>\n",
       "      <td>UCIP UPA (INT)</td>\n",
       "      <td>T</td>\n",
       "      <td>0</td>\n",
       "      <td>2020-12-31</td>\n",
       "      <td>70440</td>\n",
       "      <td>...</td>\n",
       "      <td>3804024646</td>\n",
       "      <td>0</td>\n",
       "      <td>NaT</td>\n",
       "      <td>NaN</td>\n",
       "      <td>0</td>\n",
       "      <td>NaT</td>\n",
       "      <td>NaN</td>\n",
       "      <td>1</td>\n",
       "      <td>1</td>\n",
       "      <td>1</td>\n",
       "    </tr>\n",
       "    <tr>\n",
       "      <th>1454</th>\n",
       "      <td>444997370818</td>\n",
       "      <td>1973-04-12</td>\n",
       "      <td>2</td>\n",
       "      <td>560556</td>\n",
       "      <td>30104</td>\n",
       "      <td>UCIP UPA (INT)</td>\n",
       "      <td>U</td>\n",
       "      <td>0</td>\n",
       "      <td>2020-12-27</td>\n",
       "      <td>51600</td>\n",
       "      <td>...</td>\n",
       "      <td>2375303648</td>\n",
       "      <td>0</td>\n",
       "      <td>NaT</td>\n",
       "      <td>NaN</td>\n",
       "      <td>0</td>\n",
       "      <td>NaT</td>\n",
       "      <td>NaN</td>\n",
       "      <td>1</td>\n",
       "      <td>1</td>\n",
       "      <td>1</td>\n",
       "    </tr>\n",
       "    <tr>\n",
       "      <th>1455</th>\n",
       "      <td>444998955703</td>\n",
       "      <td>1982-06-17</td>\n",
       "      <td>1</td>\n",
       "      <td>561015</td>\n",
       "      <td>30104</td>\n",
       "      <td>UCIP UPA (INT)</td>\n",
       "      <td>T</td>\n",
       "      <td>0</td>\n",
       "      <td>2021-01-01</td>\n",
       "      <td>68400</td>\n",
       "      <td>...</td>\n",
       "      <td>2179239471</td>\n",
       "      <td>0</td>\n",
       "      <td>NaT</td>\n",
       "      <td>NaN</td>\n",
       "      <td>0</td>\n",
       "      <td>NaT</td>\n",
       "      <td>NaN</td>\n",
       "      <td>1</td>\n",
       "      <td>1</td>\n",
       "      <td>1</td>\n",
       "    </tr>\n",
       "  </tbody>\n",
       "</table>\n",
       "<p>1456 rows × 36 columns</p>\n",
       "</div>"
      ],
      "text/plain": [
       "      INT_EPISODIO DTA_NASCIMENTO  SEXO  NUM_TRANSFERENCIA  COD_ESPECIALIDADE  \\\n",
       "0      89106394680     1936-01-06     2             454127              30104   \n",
       "1      89107184342     1949-03-02     1             454217              30104   \n",
       "2      89107429026     1967-12-19     2             456940              30104   \n",
       "3      94537033718     1951-08-15     2             453801              30104   \n",
       "4      94537106011     1995-09-15     1             453814              30104   \n",
       "...            ...            ...   ...                ...                ...   \n",
       "1451  444995046320     1949-04-26     1             560441              30104   \n",
       "1452  444996458814     1952-02-15     1             560492              30104   \n",
       "1453  444997254037     1966-09-19     1             560946              30104   \n",
       "1454  444997370818     1973-04-12     2             560556              30104   \n",
       "1455  444998955703     1982-06-17     1             561015              30104   \n",
       "\n",
       "     DES_ESPECIALIDADE MOTIVO_ENTRADA COD_DIAGNOSTICO_ADM DTA_ENTRADA  \\\n",
       "0       UCIP UPA (INT)              T                   0  2017-01-04   \n",
       "1       UCIP UPA (INT)              T                   0  2017-01-05   \n",
       "2       UCIP UPA (INT)              T                   0  2017-02-09   \n",
       "3       UCIP UPA (INT)              U                   0  2017-01-01   \n",
       "4       UCIP UPA (INT)              U                   0  2017-01-01   \n",
       "...                ...            ...                 ...         ...   \n",
       "1451    UCIP UPA (INT)              T                   0  2020-12-25   \n",
       "1452    UCIP UPA (INT)              T                   0  2020-12-26   \n",
       "1453    UCIP UPA (INT)              T                   0  2020-12-31   \n",
       "1454    UCIP UPA (INT)              U                   0  2020-12-27   \n",
       "1455    UCIP UPA (INT)              T                   0  2021-01-01   \n",
       "\n",
       "      HORA_ENTRADA  ... NUM_SEQUENCIAL  NUM_INTERNAMENTOS ULT_INTERNAMENTO  \\\n",
       "0            58200  ...     2798123161                  0              NaT   \n",
       "1            62160  ...     1314442800                  0              NaT   \n",
       "2            45060  ...      222857427                  0              NaT   \n",
       "3             7920  ...     1573429692                  0              NaT   \n",
       "4            37920  ...     1009405267                  0              NaT   \n",
       "...            ...  ...            ...                ...              ...   \n",
       "1451         69720  ...     4158910983                  0              NaT   \n",
       "1452         57780  ...     1703929679                  0              NaT   \n",
       "1453         70440  ...     3804024646                  0              NaT   \n",
       "1454         51600  ...     2375303648                  0              NaT   \n",
       "1455         68400  ...     2179239471                  0              NaT   \n",
       "\n",
       "      Tempo NUM_INT_MESMO_DIG ULT_INT_MESMO_DIG  Tempo_ULT_INT_MESMO_DIG  \\\n",
       "0       NaN                 0               NaT                      NaN   \n",
       "1       NaN                 0               NaT                      NaN   \n",
       "2       NaN                 0               NaT                      NaN   \n",
       "3       NaN                 0               NaT                      NaN   \n",
       "4       NaN                 0               NaT                      NaN   \n",
       "...     ...               ...               ...                      ...   \n",
       "1451    NaN                 0               NaT                      NaN   \n",
       "1452    NaN                 0               NaT                      NaN   \n",
       "1453    NaN                 0               NaT                      NaN   \n",
       "1454    NaN                 0               NaT                      NaN   \n",
       "1455    NaN                 0               NaT                      NaN   \n",
       "\n",
       "      PERIODO  PERIODO_MESMO_DIG Outlier  \n",
       "0           1                  1       1  \n",
       "1           1                  1      -1  \n",
       "2           1                  3       1  \n",
       "3           1                  1       1  \n",
       "4           1                  1       1  \n",
       "...       ...                ...     ...  \n",
       "1451        1                  1      -1  \n",
       "1452        1                  1      -1  \n",
       "1453        1                  1       1  \n",
       "1454        1                  1       1  \n",
       "1455        1                  1       1  \n",
       "\n",
       "[1456 rows x 36 columns]"
      ]
     },
     "execution_count": 99,
     "metadata": {},
     "output_type": "execute_result"
    }
   ],
   "source": [
    "dataset"
   ]
  },
  {
   "cell_type": "code",
   "execution_count": 147,
   "metadata": {},
   "outputs": [],
   "source": [
    "trans=pd.read_excel('CI_adm_dataset/INT_TRANSFERENCIAS.xlsx')"
   ]
  },
  {
   "cell_type": "code",
   "execution_count": 153,
   "metadata": {},
   "outputs": [],
   "source": [
    "ci = trans[(trans['COD_ESPECIALIDADE']==30104)&(trans['COD_ESPECIALIDADE_PREV']!=trans['COD_ESPECIALIDADE'])]"
   ]
  },
  {
   "cell_type": "code",
   "execution_count": 154,
   "metadata": {},
   "outputs": [
    {
     "data": {
      "text/html": [
       "<div>\n",
       "<style scoped>\n",
       "    .dataframe tbody tr th:only-of-type {\n",
       "        vertical-align: middle;\n",
       "    }\n",
       "\n",
       "    .dataframe tbody tr th {\n",
       "        vertical-align: top;\n",
       "    }\n",
       "\n",
       "    .dataframe thead th {\n",
       "        text-align: right;\n",
       "    }\n",
       "</style>\n",
       "<table border=\"1\" class=\"dataframe\">\n",
       "  <thead>\n",
       "    <tr style=\"text-align: right;\">\n",
       "      <th></th>\n",
       "      <th>COD_ESPECIALIDADE_PREV</th>\n",
       "      <th>COD_ESPECIALIDADE</th>\n",
       "      <th>DTA_ENTRADA</th>\n",
       "    </tr>\n",
       "  </thead>\n",
       "  <tbody>\n",
       "    <tr>\n",
       "      <th>65806</th>\n",
       "      <td>30125</td>\n",
       "      <td>30104</td>\n",
       "      <td>2012-07-04 00:00:00</td>\n",
       "    </tr>\n",
       "    <tr>\n",
       "      <th>167443</th>\n",
       "      <td>30052</td>\n",
       "      <td>30104</td>\n",
       "      <td>2016-07-29 00:00:00</td>\n",
       "    </tr>\n",
       "    <tr>\n",
       "      <th>238486</th>\n",
       "      <td>30051</td>\n",
       "      <td>30104</td>\n",
       "      <td>2019-04-02 00:00:00</td>\n",
       "    </tr>\n",
       "    <tr>\n",
       "      <th>266085</th>\n",
       "      <td>30144</td>\n",
       "      <td>30104</td>\n",
       "      <td>2020-04-18 00:00:00</td>\n",
       "    </tr>\n",
       "    <tr>\n",
       "      <th>306458</th>\n",
       "      <td>30064</td>\n",
       "      <td>30104</td>\n",
       "      <td>2021-08-22 00:00:00</td>\n",
       "    </tr>\n",
       "  </tbody>\n",
       "</table>\n",
       "</div>"
      ],
      "text/plain": [
       "        COD_ESPECIALIDADE_PREV  COD_ESPECIALIDADE          DTA_ENTRADA\n",
       "65806                    30125              30104  2012-07-04 00:00:00\n",
       "167443                   30052              30104  2016-07-29 00:00:00\n",
       "238486                   30051              30104  2019-04-02 00:00:00\n",
       "266085                   30144              30104  2020-04-18 00:00:00\n",
       "306458                   30064              30104  2021-08-22 00:00:00"
      ]
     },
     "execution_count": 154,
     "metadata": {},
     "output_type": "execute_result"
    }
   ],
   "source": [
    "ci[['COD_ESPECIALIDADE_PREV','COD_ESPECIALIDADE','DTA_ENTRADA']]"
   ]
  },
  {
   "cell_type": "code",
   "execution_count": 19,
   "metadata": {},
   "outputs": [],
   "source": [
    "trans = trans[['INT_EPISODIO','DTA_ENTRADA','COD_ESPECIALIDADE','COD_EDIFICIO', 'COD_PISO','COD_UNIDADE_INTER']]"
   ]
  },
  {
   "cell_type": "code",
   "execution_count": 20,
   "metadata": {},
   "outputs": [
    {
     "data": {
      "text/plain": [
       "Index(['INT_EPISODIO', 'DTA_NASCIMENTO', 'SEXO', 'NUM_TRANSFERENCIA',\n",
       "       'COD_ESPECIALIDADE', 'DES_ESPECIALIDADE', 'MOTIVO_ENTRADA',\n",
       "       'COD_DIAGNOSTICO_ADM', 'DTA_ENTRADA', 'HORA_ENTRADA', 'DTA_SAIDA',\n",
       "       'HORA_SAIDA', 'sequencia', 'proximo', 'des_sequencia', 'des_proximo',\n",
       "       'LOS', 'IDADE', 'afluencia'],\n",
       "      dtype='object')"
      ]
     },
     "execution_count": 20,
     "metadata": {},
     "output_type": "execute_result"
    }
   ],
   "source": [
    "dataset.columns"
   ]
  },
  {
   "cell_type": "code",
   "execution_count": 21,
   "metadata": {},
   "outputs": [
    {
     "data": {
      "text/plain": [
       "Index(['INT_EPISODIO', 'NUM_MECANOGRAFICO', 'NUM_SEQUENCIAL',\n",
       "       'DTA_INTERNAMENTO', 'HORA_INTERNAMENTO', 'TIPO_ADMISSAO',\n",
       "       'COD_PROVENIENCIA', 'COD_UNID_SAUDE_PROV', 'COD_ESPECIALIDADE_PROV',\n",
       "       'NUM_EPISODIO_PROV', 'COD_SUBSISTEMA_RESP', 'REINTERN', 'NUM_REINTERN',\n",
       "       'NUM_TAXA', 'NUM_AVISO', 'DIAS_INT_PROV'],\n",
       "      dtype='object')"
      ]
     },
     "execution_count": 21,
     "metadata": {},
     "output_type": "execute_result"
    }
   ],
   "source": [
    "adm.columns"
   ]
  },
  {
   "cell_type": "code",
   "execution_count": 22,
   "metadata": {},
   "outputs": [],
   "source": [
    "adm=adm[['INT_EPISODIO', 'DTA_INTERNAMENTO', 'HORA_INTERNAMENTO', 'TIPO_ADMISSAO', 'COD_PROVENIENCIA']]"
   ]
  },
  {
   "cell_type": "code",
   "execution_count": 23,
   "metadata": {},
   "outputs": [],
   "source": [
    "dataset1=pd.merge(dataset, adm, on='INT_EPISODIO')"
   ]
  },
  {
   "cell_type": "code",
   "execution_count": 24,
   "metadata": {},
   "outputs": [
    {
     "data": {
      "text/html": [
       "<div>\n",
       "<style scoped>\n",
       "    .dataframe tbody tr th:only-of-type {\n",
       "        vertical-align: middle;\n",
       "    }\n",
       "\n",
       "    .dataframe tbody tr th {\n",
       "        vertical-align: top;\n",
       "    }\n",
       "\n",
       "    .dataframe thead th {\n",
       "        text-align: right;\n",
       "    }\n",
       "</style>\n",
       "<table border=\"1\" class=\"dataframe\">\n",
       "  <thead>\n",
       "    <tr style=\"text-align: right;\">\n",
       "      <th></th>\n",
       "      <th>INT_EPISODIO</th>\n",
       "      <th>DTA_NASCIMENTO</th>\n",
       "      <th>SEXO</th>\n",
       "      <th>NUM_TRANSFERENCIA</th>\n",
       "      <th>COD_ESPECIALIDADE</th>\n",
       "      <th>DES_ESPECIALIDADE</th>\n",
       "      <th>MOTIVO_ENTRADA</th>\n",
       "      <th>COD_DIAGNOSTICO_ADM</th>\n",
       "      <th>DTA_ENTRADA</th>\n",
       "      <th>HORA_ENTRADA</th>\n",
       "      <th>...</th>\n",
       "      <th>proximo</th>\n",
       "      <th>des_sequencia</th>\n",
       "      <th>des_proximo</th>\n",
       "      <th>LOS</th>\n",
       "      <th>IDADE</th>\n",
       "      <th>afluencia</th>\n",
       "      <th>DTA_INTERNAMENTO</th>\n",
       "      <th>HORA_INTERNAMENTO</th>\n",
       "      <th>TIPO_ADMISSAO</th>\n",
       "      <th>COD_PROVENIENCIA</th>\n",
       "    </tr>\n",
       "  </thead>\n",
       "  <tbody>\n",
       "    <tr>\n",
       "      <th>0</th>\n",
       "      <td>89106394680</td>\n",
       "      <td>1936-01-06</td>\n",
       "      <td>2</td>\n",
       "      <td>454127</td>\n",
       "      <td>30104</td>\n",
       "      <td>UCIP UPA (INT)</td>\n",
       "      <td>T</td>\n",
       "      <td>0</td>\n",
       "      <td>2017-01-04</td>\n",
       "      <td>58200</td>\n",
       "      <td>...</td>\n",
       "      <td>30051</td>\n",
       "      <td>CIRURGIA UPA (INT) - UCIP UPA (INT)</td>\n",
       "      <td>CIRURGIA UPA (INT)</td>\n",
       "      <td>436020.0</td>\n",
       "      <td>86</td>\n",
       "      <td>5</td>\n",
       "      <td>2016-12-27 00:00:00</td>\n",
       "      <td>32400</td>\n",
       "      <td>P</td>\n",
       "      <td>2</td>\n",
       "    </tr>\n",
       "    <tr>\n",
       "      <th>1</th>\n",
       "      <td>89107184342</td>\n",
       "      <td>1949-03-02</td>\n",
       "      <td>1</td>\n",
       "      <td>454217</td>\n",
       "      <td>30104</td>\n",
       "      <td>UCIP UPA (INT)</td>\n",
       "      <td>T</td>\n",
       "      <td>0</td>\n",
       "      <td>2017-01-05</td>\n",
       "      <td>62160</td>\n",
       "      <td>...</td>\n",
       "      <td>30125</td>\n",
       "      <td>MEDICINA INTERNA UPA (INT) - UCIP UPA (INT)</td>\n",
       "      <td>UCIPSU UPA (INT)</td>\n",
       "      <td>1712820.0</td>\n",
       "      <td>73</td>\n",
       "      <td>5</td>\n",
       "      <td>2016-12-29 00:00:00</td>\n",
       "      <td>11160</td>\n",
       "      <td>U</td>\n",
       "      <td>1</td>\n",
       "    </tr>\n",
       "    <tr>\n",
       "      <th>2</th>\n",
       "      <td>89107429026</td>\n",
       "      <td>1967-12-19</td>\n",
       "      <td>2</td>\n",
       "      <td>456940</td>\n",
       "      <td>30104</td>\n",
       "      <td>UCIP UPA (INT)</td>\n",
       "      <td>T</td>\n",
       "      <td>0</td>\n",
       "      <td>2017-02-09</td>\n",
       "      <td>45060</td>\n",
       "      <td>...</td>\n",
       "      <td>30051</td>\n",
       "      <td>CIRURGIA UPA (INT) - UCIP UPA (INT)</td>\n",
       "      <td>CIRURGIA UPA (INT)</td>\n",
       "      <td>174300.0</td>\n",
       "      <td>54</td>\n",
       "      <td>4</td>\n",
       "      <td>2016-12-29 00:00:00</td>\n",
       "      <td>54787</td>\n",
       "      <td>P</td>\n",
       "      <td>2</td>\n",
       "    </tr>\n",
       "    <tr>\n",
       "      <th>3</th>\n",
       "      <td>94537033718</td>\n",
       "      <td>1951-08-15</td>\n",
       "      <td>2</td>\n",
       "      <td>453801</td>\n",
       "      <td>30104</td>\n",
       "      <td>UCIP UPA (INT)</td>\n",
       "      <td>U</td>\n",
       "      <td>0</td>\n",
       "      <td>2017-01-01</td>\n",
       "      <td>7920</td>\n",
       "      <td>...</td>\n",
       "      <td>30062</td>\n",
       "      <td>UCIP UPA (INT)</td>\n",
       "      <td>MEDICINA INTERNA UPA (INT)</td>\n",
       "      <td>469140.0</td>\n",
       "      <td>70</td>\n",
       "      <td>0</td>\n",
       "      <td>2017-01-01 00:00:00</td>\n",
       "      <td>7920</td>\n",
       "      <td>U</td>\n",
       "      <td>1</td>\n",
       "    </tr>\n",
       "    <tr>\n",
       "      <th>4</th>\n",
       "      <td>94537106011</td>\n",
       "      <td>1995-09-15</td>\n",
       "      <td>1</td>\n",
       "      <td>453814</td>\n",
       "      <td>30104</td>\n",
       "      <td>UCIP UPA (INT)</td>\n",
       "      <td>U</td>\n",
       "      <td>0</td>\n",
       "      <td>2017-01-01</td>\n",
       "      <td>37920</td>\n",
       "      <td>...</td>\n",
       "      <td>30062</td>\n",
       "      <td>UCIP UPA (INT)</td>\n",
       "      <td>MEDICINA INTERNA UPA (INT)</td>\n",
       "      <td>109020.0</td>\n",
       "      <td>26</td>\n",
       "      <td>1</td>\n",
       "      <td>2017-01-01 00:00:00</td>\n",
       "      <td>37920</td>\n",
       "      <td>U</td>\n",
       "      <td>1</td>\n",
       "    </tr>\n",
       "    <tr>\n",
       "      <th>...</th>\n",
       "      <td>...</td>\n",
       "      <td>...</td>\n",
       "      <td>...</td>\n",
       "      <td>...</td>\n",
       "      <td>...</td>\n",
       "      <td>...</td>\n",
       "      <td>...</td>\n",
       "      <td>...</td>\n",
       "      <td>...</td>\n",
       "      <td>...</td>\n",
       "      <td>...</td>\n",
       "      <td>...</td>\n",
       "      <td>...</td>\n",
       "      <td>...</td>\n",
       "      <td>...</td>\n",
       "      <td>...</td>\n",
       "      <td>...</td>\n",
       "      <td>...</td>\n",
       "      <td>...</td>\n",
       "      <td>...</td>\n",
       "      <td>...</td>\n",
       "    </tr>\n",
       "    <tr>\n",
       "      <th>1451</th>\n",
       "      <td>444995046320</td>\n",
       "      <td>1949-04-26</td>\n",
       "      <td>1</td>\n",
       "      <td>560441</td>\n",
       "      <td>30104</td>\n",
       "      <td>UCIP UPA (INT)</td>\n",
       "      <td>T</td>\n",
       "      <td>0</td>\n",
       "      <td>2020-12-25</td>\n",
       "      <td>69720</td>\n",
       "      <td>...</td>\n",
       "      <td>0</td>\n",
       "      <td>MEDICINA INTERNA UPA (INT) - UCIPSU 2 UPA (INT...</td>\n",
       "      <td>ALTA</td>\n",
       "      <td>1468680.0</td>\n",
       "      <td>72</td>\n",
       "      <td>4</td>\n",
       "      <td>2020-12-20 00:00:00</td>\n",
       "      <td>9900</td>\n",
       "      <td>U</td>\n",
       "      <td>1</td>\n",
       "    </tr>\n",
       "    <tr>\n",
       "      <th>1452</th>\n",
       "      <td>444996458814</td>\n",
       "      <td>1952-02-15</td>\n",
       "      <td>1</td>\n",
       "      <td>560492</td>\n",
       "      <td>30104</td>\n",
       "      <td>UCIP UPA (INT)</td>\n",
       "      <td>T</td>\n",
       "      <td>0</td>\n",
       "      <td>2020-12-26</td>\n",
       "      <td>57780</td>\n",
       "      <td>...</td>\n",
       "      <td>30062</td>\n",
       "      <td>UCIPSU 2 UPA (INT) - UCIP UPA (INT)</td>\n",
       "      <td>MEDICINA INTERNA UPA (INT)</td>\n",
       "      <td>2947260.0</td>\n",
       "      <td>70</td>\n",
       "      <td>4</td>\n",
       "      <td>2020-12-23 00:00:00</td>\n",
       "      <td>74760</td>\n",
       "      <td>U</td>\n",
       "      <td>1</td>\n",
       "    </tr>\n",
       "    <tr>\n",
       "      <th>1453</th>\n",
       "      <td>444997254037</td>\n",
       "      <td>1966-09-19</td>\n",
       "      <td>1</td>\n",
       "      <td>560946</td>\n",
       "      <td>30104</td>\n",
       "      <td>UCIP UPA (INT)</td>\n",
       "      <td>T</td>\n",
       "      <td>0</td>\n",
       "      <td>2020-12-31</td>\n",
       "      <td>70440</td>\n",
       "      <td>...</td>\n",
       "      <td>30062</td>\n",
       "      <td>MEDICINA INTERNA UPA (INT) - UCIP UPA (INT)</td>\n",
       "      <td>MEDICINA INTERNA UPA (INT)</td>\n",
       "      <td>520560.0</td>\n",
       "      <td>55</td>\n",
       "      <td>4</td>\n",
       "      <td>2020-12-27 00:00:00</td>\n",
       "      <td>840</td>\n",
       "      <td>U</td>\n",
       "      <td>1</td>\n",
       "    </tr>\n",
       "    <tr>\n",
       "      <th>1454</th>\n",
       "      <td>444997370818</td>\n",
       "      <td>1973-04-12</td>\n",
       "      <td>2</td>\n",
       "      <td>560556</td>\n",
       "      <td>30104</td>\n",
       "      <td>UCIP UPA (INT)</td>\n",
       "      <td>U</td>\n",
       "      <td>0</td>\n",
       "      <td>2020-12-27</td>\n",
       "      <td>51600</td>\n",
       "      <td>...</td>\n",
       "      <td>0</td>\n",
       "      <td>UCIP UPA (INT)</td>\n",
       "      <td>ALTA</td>\n",
       "      <td>52980.0</td>\n",
       "      <td>48</td>\n",
       "      <td>5</td>\n",
       "      <td>2020-12-27 00:00:00</td>\n",
       "      <td>51600</td>\n",
       "      <td>U</td>\n",
       "      <td>1</td>\n",
       "    </tr>\n",
       "    <tr>\n",
       "      <th>1455</th>\n",
       "      <td>444998955703</td>\n",
       "      <td>1982-06-17</td>\n",
       "      <td>1</td>\n",
       "      <td>561015</td>\n",
       "      <td>30104</td>\n",
       "      <td>UCIP UPA (INT)</td>\n",
       "      <td>T</td>\n",
       "      <td>0</td>\n",
       "      <td>2021-01-01</td>\n",
       "      <td>68400</td>\n",
       "      <td>...</td>\n",
       "      <td>30062</td>\n",
       "      <td>MEDICINA INTERNA UPA (INT) - UCIP UPA (INT)</td>\n",
       "      <td>MEDICINA INTERNA UPA (INT)</td>\n",
       "      <td>337740.0</td>\n",
       "      <td>39</td>\n",
       "      <td>5</td>\n",
       "      <td>2020-12-31 00:00:00</td>\n",
       "      <td>68160</td>\n",
       "      <td>U</td>\n",
       "      <td>1</td>\n",
       "    </tr>\n",
       "  </tbody>\n",
       "</table>\n",
       "<p>1456 rows × 23 columns</p>\n",
       "</div>"
      ],
      "text/plain": [
       "      INT_EPISODIO DTA_NASCIMENTO  SEXO  NUM_TRANSFERENCIA  COD_ESPECIALIDADE  \\\n",
       "0      89106394680     1936-01-06     2             454127              30104   \n",
       "1      89107184342     1949-03-02     1             454217              30104   \n",
       "2      89107429026     1967-12-19     2             456940              30104   \n",
       "3      94537033718     1951-08-15     2             453801              30104   \n",
       "4      94537106011     1995-09-15     1             453814              30104   \n",
       "...            ...            ...   ...                ...                ...   \n",
       "1451  444995046320     1949-04-26     1             560441              30104   \n",
       "1452  444996458814     1952-02-15     1             560492              30104   \n",
       "1453  444997254037     1966-09-19     1             560946              30104   \n",
       "1454  444997370818     1973-04-12     2             560556              30104   \n",
       "1455  444998955703     1982-06-17     1             561015              30104   \n",
       "\n",
       "     DES_ESPECIALIDADE MOTIVO_ENTRADA COD_DIAGNOSTICO_ADM DTA_ENTRADA  \\\n",
       "0       UCIP UPA (INT)              T                   0  2017-01-04   \n",
       "1       UCIP UPA (INT)              T                   0  2017-01-05   \n",
       "2       UCIP UPA (INT)              T                   0  2017-02-09   \n",
       "3       UCIP UPA (INT)              U                   0  2017-01-01   \n",
       "4       UCIP UPA (INT)              U                   0  2017-01-01   \n",
       "...                ...            ...                 ...         ...   \n",
       "1451    UCIP UPA (INT)              T                   0  2020-12-25   \n",
       "1452    UCIP UPA (INT)              T                   0  2020-12-26   \n",
       "1453    UCIP UPA (INT)              T                   0  2020-12-31   \n",
       "1454    UCIP UPA (INT)              U                   0  2020-12-27   \n",
       "1455    UCIP UPA (INT)              T                   0  2021-01-01   \n",
       "\n",
       "      HORA_ENTRADA  ... proximo  \\\n",
       "0            58200  ...   30051   \n",
       "1            62160  ...   30125   \n",
       "2            45060  ...   30051   \n",
       "3             7920  ...   30062   \n",
       "4            37920  ...   30062   \n",
       "...            ...  ...     ...   \n",
       "1451         69720  ...       0   \n",
       "1452         57780  ...   30062   \n",
       "1453         70440  ...   30062   \n",
       "1454         51600  ...       0   \n",
       "1455         68400  ...   30062   \n",
       "\n",
       "                                          des_sequencia  \\\n",
       "0                   CIRURGIA UPA (INT) - UCIP UPA (INT)   \n",
       "1           MEDICINA INTERNA UPA (INT) - UCIP UPA (INT)   \n",
       "2                   CIRURGIA UPA (INT) - UCIP UPA (INT)   \n",
       "3                                        UCIP UPA (INT)   \n",
       "4                                        UCIP UPA (INT)   \n",
       "...                                                 ...   \n",
       "1451  MEDICINA INTERNA UPA (INT) - UCIPSU 2 UPA (INT...   \n",
       "1452                UCIPSU 2 UPA (INT) - UCIP UPA (INT)   \n",
       "1453        MEDICINA INTERNA UPA (INT) - UCIP UPA (INT)   \n",
       "1454                                     UCIP UPA (INT)   \n",
       "1455        MEDICINA INTERNA UPA (INT) - UCIP UPA (INT)   \n",
       "\n",
       "                     des_proximo        LOS IDADE afluencia  \\\n",
       "0             CIRURGIA UPA (INT)   436020.0    86         5   \n",
       "1               UCIPSU UPA (INT)  1712820.0    73         5   \n",
       "2             CIRURGIA UPA (INT)   174300.0    54         4   \n",
       "3     MEDICINA INTERNA UPA (INT)   469140.0    70         0   \n",
       "4     MEDICINA INTERNA UPA (INT)   109020.0    26         1   \n",
       "...                          ...        ...   ...       ...   \n",
       "1451                        ALTA  1468680.0    72         4   \n",
       "1452  MEDICINA INTERNA UPA (INT)  2947260.0    70         4   \n",
       "1453  MEDICINA INTERNA UPA (INT)   520560.0    55         4   \n",
       "1454                        ALTA    52980.0    48         5   \n",
       "1455  MEDICINA INTERNA UPA (INT)   337740.0    39         5   \n",
       "\n",
       "         DTA_INTERNAMENTO  HORA_INTERNAMENTO  TIPO_ADMISSAO COD_PROVENIENCIA  \n",
       "0     2016-12-27 00:00:00              32400              P                2  \n",
       "1     2016-12-29 00:00:00              11160              U                1  \n",
       "2     2016-12-29 00:00:00              54787              P                2  \n",
       "3     2017-01-01 00:00:00               7920              U                1  \n",
       "4     2017-01-01 00:00:00              37920              U                1  \n",
       "...                   ...                ...            ...              ...  \n",
       "1451  2020-12-20 00:00:00               9900              U                1  \n",
       "1452  2020-12-23 00:00:00              74760              U                1  \n",
       "1453  2020-12-27 00:00:00                840              U                1  \n",
       "1454  2020-12-27 00:00:00              51600              U                1  \n",
       "1455  2020-12-31 00:00:00              68160              U                1  \n",
       "\n",
       "[1456 rows x 23 columns]"
      ]
     },
     "execution_count": 24,
     "metadata": {},
     "output_type": "execute_result"
    }
   ],
   "source": [
    "dataset1"
   ]
  },
  {
   "cell_type": "code",
   "execution_count": 25,
   "metadata": {},
   "outputs": [
    {
     "data": {
      "text/plain": [
       "INT_EPISODIO             int64\n",
       "DTA_NASCIMENTO          object\n",
       "SEXO                     int64\n",
       "NUM_TRANSFERENCIA        int64\n",
       "COD_ESPECIALIDADE        int64\n",
       "DES_ESPECIALIDADE       object\n",
       "MOTIVO_ENTRADA          object\n",
       "COD_DIAGNOSTICO_ADM     object\n",
       "DTA_ENTRADA             object\n",
       "HORA_ENTRADA             int64\n",
       "DTA_SAIDA               object\n",
       "HORA_SAIDA             float64\n",
       "sequencia               object\n",
       "proximo                  int64\n",
       "des_sequencia           object\n",
       "des_proximo             object\n",
       "LOS                    float64\n",
       "IDADE                    int64\n",
       "afluencia                int64\n",
       "DTA_INTERNAMENTO        object\n",
       "HORA_INTERNAMENTO        int64\n",
       "TIPO_ADMISSAO           object\n",
       "COD_PROVENIENCIA         int64\n",
       "dtype: object"
      ]
     },
     "execution_count": 25,
     "metadata": {},
     "output_type": "execute_result"
    }
   ],
   "source": [
    "dataset1.dtypes"
   ]
  },
  {
   "cell_type": "code",
   "execution_count": 26,
   "metadata": {},
   "outputs": [],
   "source": [
    "dataset1['HORAS_INT']=dataset1['HORA_ENTRADA']-dataset1['HORA_INTERNAMENTO']\n",
    "dataset1['DTA_ENTRADA'] = pd.to_datetime(dataset1['DTA_ENTRADA'])\n",
    "dataset1['DTA_INTERNAMENTO'] = pd.to_datetime(dataset1['DTA_INTERNAMENTO'])\n",
    "dataset1['DIAS_INT']=dataset1['DTA_ENTRADA']-dataset1['DTA_INTERNAMENTO']\n",
    "dataset1['DIAS_INT']=dataset1['DIAS_INT'].dt.total_seconds()\n",
    "dataset1['LOS_ANTERIOR']=dataset1['DIAS_INT']+dataset1['HORAS_INT']"
   ]
  },
  {
   "cell_type": "code",
   "execution_count": 27,
   "metadata": {},
   "outputs": [
    {
     "data": {
      "text/html": [
       "<div>\n",
       "<style scoped>\n",
       "    .dataframe tbody tr th:only-of-type {\n",
       "        vertical-align: middle;\n",
       "    }\n",
       "\n",
       "    .dataframe tbody tr th {\n",
       "        vertical-align: top;\n",
       "    }\n",
       "\n",
       "    .dataframe thead th {\n",
       "        text-align: right;\n",
       "    }\n",
       "</style>\n",
       "<table border=\"1\" class=\"dataframe\">\n",
       "  <thead>\n",
       "    <tr style=\"text-align: right;\">\n",
       "      <th></th>\n",
       "      <th>INT_EPISODIO</th>\n",
       "      <th>DTA_NASCIMENTO</th>\n",
       "      <th>SEXO</th>\n",
       "      <th>NUM_TRANSFERENCIA</th>\n",
       "      <th>COD_ESPECIALIDADE</th>\n",
       "      <th>DES_ESPECIALIDADE</th>\n",
       "      <th>MOTIVO_ENTRADA</th>\n",
       "      <th>COD_DIAGNOSTICO_ADM</th>\n",
       "      <th>DTA_ENTRADA</th>\n",
       "      <th>HORA_ENTRADA</th>\n",
       "      <th>...</th>\n",
       "      <th>LOS</th>\n",
       "      <th>IDADE</th>\n",
       "      <th>afluencia</th>\n",
       "      <th>DTA_INTERNAMENTO</th>\n",
       "      <th>HORA_INTERNAMENTO</th>\n",
       "      <th>TIPO_ADMISSAO</th>\n",
       "      <th>COD_PROVENIENCIA</th>\n",
       "      <th>HORAS_INT</th>\n",
       "      <th>DIAS_INT</th>\n",
       "      <th>LOS_ANTERIOR</th>\n",
       "    </tr>\n",
       "  </thead>\n",
       "  <tbody>\n",
       "    <tr>\n",
       "      <th>0</th>\n",
       "      <td>89106394680</td>\n",
       "      <td>1936-01-06</td>\n",
       "      <td>2</td>\n",
       "      <td>454127</td>\n",
       "      <td>30104</td>\n",
       "      <td>UCIP UPA (INT)</td>\n",
       "      <td>T</td>\n",
       "      <td>0</td>\n",
       "      <td>2017-01-04</td>\n",
       "      <td>58200</td>\n",
       "      <td>...</td>\n",
       "      <td>436020.0</td>\n",
       "      <td>86</td>\n",
       "      <td>5</td>\n",
       "      <td>2016-12-27</td>\n",
       "      <td>32400</td>\n",
       "      <td>P</td>\n",
       "      <td>2</td>\n",
       "      <td>25800</td>\n",
       "      <td>691200.0</td>\n",
       "      <td>717000.0</td>\n",
       "    </tr>\n",
       "    <tr>\n",
       "      <th>1</th>\n",
       "      <td>89107184342</td>\n",
       "      <td>1949-03-02</td>\n",
       "      <td>1</td>\n",
       "      <td>454217</td>\n",
       "      <td>30104</td>\n",
       "      <td>UCIP UPA (INT)</td>\n",
       "      <td>T</td>\n",
       "      <td>0</td>\n",
       "      <td>2017-01-05</td>\n",
       "      <td>62160</td>\n",
       "      <td>...</td>\n",
       "      <td>1712820.0</td>\n",
       "      <td>73</td>\n",
       "      <td>5</td>\n",
       "      <td>2016-12-29</td>\n",
       "      <td>11160</td>\n",
       "      <td>U</td>\n",
       "      <td>1</td>\n",
       "      <td>51000</td>\n",
       "      <td>604800.0</td>\n",
       "      <td>655800.0</td>\n",
       "    </tr>\n",
       "    <tr>\n",
       "      <th>2</th>\n",
       "      <td>89107429026</td>\n",
       "      <td>1967-12-19</td>\n",
       "      <td>2</td>\n",
       "      <td>456940</td>\n",
       "      <td>30104</td>\n",
       "      <td>UCIP UPA (INT)</td>\n",
       "      <td>T</td>\n",
       "      <td>0</td>\n",
       "      <td>2017-02-09</td>\n",
       "      <td>45060</td>\n",
       "      <td>...</td>\n",
       "      <td>174300.0</td>\n",
       "      <td>54</td>\n",
       "      <td>4</td>\n",
       "      <td>2016-12-29</td>\n",
       "      <td>54787</td>\n",
       "      <td>P</td>\n",
       "      <td>2</td>\n",
       "      <td>-9727</td>\n",
       "      <td>3628800.0</td>\n",
       "      <td>3619073.0</td>\n",
       "    </tr>\n",
       "    <tr>\n",
       "      <th>3</th>\n",
       "      <td>94537033718</td>\n",
       "      <td>1951-08-15</td>\n",
       "      <td>2</td>\n",
       "      <td>453801</td>\n",
       "      <td>30104</td>\n",
       "      <td>UCIP UPA (INT)</td>\n",
       "      <td>U</td>\n",
       "      <td>0</td>\n",
       "      <td>2017-01-01</td>\n",
       "      <td>7920</td>\n",
       "      <td>...</td>\n",
       "      <td>469140.0</td>\n",
       "      <td>70</td>\n",
       "      <td>0</td>\n",
       "      <td>2017-01-01</td>\n",
       "      <td>7920</td>\n",
       "      <td>U</td>\n",
       "      <td>1</td>\n",
       "      <td>0</td>\n",
       "      <td>0.0</td>\n",
       "      <td>0.0</td>\n",
       "    </tr>\n",
       "    <tr>\n",
       "      <th>4</th>\n",
       "      <td>94537106011</td>\n",
       "      <td>1995-09-15</td>\n",
       "      <td>1</td>\n",
       "      <td>453814</td>\n",
       "      <td>30104</td>\n",
       "      <td>UCIP UPA (INT)</td>\n",
       "      <td>U</td>\n",
       "      <td>0</td>\n",
       "      <td>2017-01-01</td>\n",
       "      <td>37920</td>\n",
       "      <td>...</td>\n",
       "      <td>109020.0</td>\n",
       "      <td>26</td>\n",
       "      <td>1</td>\n",
       "      <td>2017-01-01</td>\n",
       "      <td>37920</td>\n",
       "      <td>U</td>\n",
       "      <td>1</td>\n",
       "      <td>0</td>\n",
       "      <td>0.0</td>\n",
       "      <td>0.0</td>\n",
       "    </tr>\n",
       "    <tr>\n",
       "      <th>...</th>\n",
       "      <td>...</td>\n",
       "      <td>...</td>\n",
       "      <td>...</td>\n",
       "      <td>...</td>\n",
       "      <td>...</td>\n",
       "      <td>...</td>\n",
       "      <td>...</td>\n",
       "      <td>...</td>\n",
       "      <td>...</td>\n",
       "      <td>...</td>\n",
       "      <td>...</td>\n",
       "      <td>...</td>\n",
       "      <td>...</td>\n",
       "      <td>...</td>\n",
       "      <td>...</td>\n",
       "      <td>...</td>\n",
       "      <td>...</td>\n",
       "      <td>...</td>\n",
       "      <td>...</td>\n",
       "      <td>...</td>\n",
       "      <td>...</td>\n",
       "    </tr>\n",
       "    <tr>\n",
       "      <th>1451</th>\n",
       "      <td>444995046320</td>\n",
       "      <td>1949-04-26</td>\n",
       "      <td>1</td>\n",
       "      <td>560441</td>\n",
       "      <td>30104</td>\n",
       "      <td>UCIP UPA (INT)</td>\n",
       "      <td>T</td>\n",
       "      <td>0</td>\n",
       "      <td>2020-12-25</td>\n",
       "      <td>69720</td>\n",
       "      <td>...</td>\n",
       "      <td>1468680.0</td>\n",
       "      <td>72</td>\n",
       "      <td>4</td>\n",
       "      <td>2020-12-20</td>\n",
       "      <td>9900</td>\n",
       "      <td>U</td>\n",
       "      <td>1</td>\n",
       "      <td>59820</td>\n",
       "      <td>432000.0</td>\n",
       "      <td>491820.0</td>\n",
       "    </tr>\n",
       "    <tr>\n",
       "      <th>1452</th>\n",
       "      <td>444996458814</td>\n",
       "      <td>1952-02-15</td>\n",
       "      <td>1</td>\n",
       "      <td>560492</td>\n",
       "      <td>30104</td>\n",
       "      <td>UCIP UPA (INT)</td>\n",
       "      <td>T</td>\n",
       "      <td>0</td>\n",
       "      <td>2020-12-26</td>\n",
       "      <td>57780</td>\n",
       "      <td>...</td>\n",
       "      <td>2947260.0</td>\n",
       "      <td>70</td>\n",
       "      <td>4</td>\n",
       "      <td>2020-12-23</td>\n",
       "      <td>74760</td>\n",
       "      <td>U</td>\n",
       "      <td>1</td>\n",
       "      <td>-16980</td>\n",
       "      <td>259200.0</td>\n",
       "      <td>242220.0</td>\n",
       "    </tr>\n",
       "    <tr>\n",
       "      <th>1453</th>\n",
       "      <td>444997254037</td>\n",
       "      <td>1966-09-19</td>\n",
       "      <td>1</td>\n",
       "      <td>560946</td>\n",
       "      <td>30104</td>\n",
       "      <td>UCIP UPA (INT)</td>\n",
       "      <td>T</td>\n",
       "      <td>0</td>\n",
       "      <td>2020-12-31</td>\n",
       "      <td>70440</td>\n",
       "      <td>...</td>\n",
       "      <td>520560.0</td>\n",
       "      <td>55</td>\n",
       "      <td>4</td>\n",
       "      <td>2020-12-27</td>\n",
       "      <td>840</td>\n",
       "      <td>U</td>\n",
       "      <td>1</td>\n",
       "      <td>69600</td>\n",
       "      <td>345600.0</td>\n",
       "      <td>415200.0</td>\n",
       "    </tr>\n",
       "    <tr>\n",
       "      <th>1454</th>\n",
       "      <td>444997370818</td>\n",
       "      <td>1973-04-12</td>\n",
       "      <td>2</td>\n",
       "      <td>560556</td>\n",
       "      <td>30104</td>\n",
       "      <td>UCIP UPA (INT)</td>\n",
       "      <td>U</td>\n",
       "      <td>0</td>\n",
       "      <td>2020-12-27</td>\n",
       "      <td>51600</td>\n",
       "      <td>...</td>\n",
       "      <td>52980.0</td>\n",
       "      <td>48</td>\n",
       "      <td>5</td>\n",
       "      <td>2020-12-27</td>\n",
       "      <td>51600</td>\n",
       "      <td>U</td>\n",
       "      <td>1</td>\n",
       "      <td>0</td>\n",
       "      <td>0.0</td>\n",
       "      <td>0.0</td>\n",
       "    </tr>\n",
       "    <tr>\n",
       "      <th>1455</th>\n",
       "      <td>444998955703</td>\n",
       "      <td>1982-06-17</td>\n",
       "      <td>1</td>\n",
       "      <td>561015</td>\n",
       "      <td>30104</td>\n",
       "      <td>UCIP UPA (INT)</td>\n",
       "      <td>T</td>\n",
       "      <td>0</td>\n",
       "      <td>2021-01-01</td>\n",
       "      <td>68400</td>\n",
       "      <td>...</td>\n",
       "      <td>337740.0</td>\n",
       "      <td>39</td>\n",
       "      <td>5</td>\n",
       "      <td>2020-12-31</td>\n",
       "      <td>68160</td>\n",
       "      <td>U</td>\n",
       "      <td>1</td>\n",
       "      <td>240</td>\n",
       "      <td>86400.0</td>\n",
       "      <td>86640.0</td>\n",
       "    </tr>\n",
       "  </tbody>\n",
       "</table>\n",
       "<p>1456 rows × 26 columns</p>\n",
       "</div>"
      ],
      "text/plain": [
       "      INT_EPISODIO DTA_NASCIMENTO  SEXO  NUM_TRANSFERENCIA  COD_ESPECIALIDADE  \\\n",
       "0      89106394680     1936-01-06     2             454127              30104   \n",
       "1      89107184342     1949-03-02     1             454217              30104   \n",
       "2      89107429026     1967-12-19     2             456940              30104   \n",
       "3      94537033718     1951-08-15     2             453801              30104   \n",
       "4      94537106011     1995-09-15     1             453814              30104   \n",
       "...            ...            ...   ...                ...                ...   \n",
       "1451  444995046320     1949-04-26     1             560441              30104   \n",
       "1452  444996458814     1952-02-15     1             560492              30104   \n",
       "1453  444997254037     1966-09-19     1             560946              30104   \n",
       "1454  444997370818     1973-04-12     2             560556              30104   \n",
       "1455  444998955703     1982-06-17     1             561015              30104   \n",
       "\n",
       "     DES_ESPECIALIDADE MOTIVO_ENTRADA COD_DIAGNOSTICO_ADM DTA_ENTRADA  \\\n",
       "0       UCIP UPA (INT)              T                   0  2017-01-04   \n",
       "1       UCIP UPA (INT)              T                   0  2017-01-05   \n",
       "2       UCIP UPA (INT)              T                   0  2017-02-09   \n",
       "3       UCIP UPA (INT)              U                   0  2017-01-01   \n",
       "4       UCIP UPA (INT)              U                   0  2017-01-01   \n",
       "...                ...            ...                 ...         ...   \n",
       "1451    UCIP UPA (INT)              T                   0  2020-12-25   \n",
       "1452    UCIP UPA (INT)              T                   0  2020-12-26   \n",
       "1453    UCIP UPA (INT)              T                   0  2020-12-31   \n",
       "1454    UCIP UPA (INT)              U                   0  2020-12-27   \n",
       "1455    UCIP UPA (INT)              T                   0  2021-01-01   \n",
       "\n",
       "      HORA_ENTRADA  ...        LOS  IDADE afluencia  DTA_INTERNAMENTO  \\\n",
       "0            58200  ...   436020.0     86         5        2016-12-27   \n",
       "1            62160  ...  1712820.0     73         5        2016-12-29   \n",
       "2            45060  ...   174300.0     54         4        2016-12-29   \n",
       "3             7920  ...   469140.0     70         0        2017-01-01   \n",
       "4            37920  ...   109020.0     26         1        2017-01-01   \n",
       "...            ...  ...        ...    ...       ...               ...   \n",
       "1451         69720  ...  1468680.0     72         4        2020-12-20   \n",
       "1452         57780  ...  2947260.0     70         4        2020-12-23   \n",
       "1453         70440  ...   520560.0     55         4        2020-12-27   \n",
       "1454         51600  ...    52980.0     48         5        2020-12-27   \n",
       "1455         68400  ...   337740.0     39         5        2020-12-31   \n",
       "\n",
       "     HORA_INTERNAMENTO TIPO_ADMISSAO  COD_PROVENIENCIA  HORAS_INT   DIAS_INT  \\\n",
       "0                32400             P                 2      25800   691200.0   \n",
       "1                11160             U                 1      51000   604800.0   \n",
       "2                54787             P                 2      -9727  3628800.0   \n",
       "3                 7920             U                 1          0        0.0   \n",
       "4                37920             U                 1          0        0.0   \n",
       "...                ...           ...               ...        ...        ...   \n",
       "1451              9900             U                 1      59820   432000.0   \n",
       "1452             74760             U                 1     -16980   259200.0   \n",
       "1453               840             U                 1      69600   345600.0   \n",
       "1454             51600             U                 1          0        0.0   \n",
       "1455             68160             U                 1        240    86400.0   \n",
       "\n",
       "     LOS_ANTERIOR  \n",
       "0        717000.0  \n",
       "1        655800.0  \n",
       "2       3619073.0  \n",
       "3             0.0  \n",
       "4             0.0  \n",
       "...           ...  \n",
       "1451     491820.0  \n",
       "1452     242220.0  \n",
       "1453     415200.0  \n",
       "1454          0.0  \n",
       "1455      86640.0  \n",
       "\n",
       "[1456 rows x 26 columns]"
      ]
     },
     "execution_count": 27,
     "metadata": {},
     "output_type": "execute_result"
    }
   ],
   "source": [
    "dataset1"
   ]
  },
  {
   "cell_type": "code",
   "execution_count": 28,
   "metadata": {},
   "outputs": [],
   "source": [
    "doentes=pd.read_excel('CI_adm_dataset/ide_doentes.xlsx')\n",
    "doentes=doentes[['INT_EPISODIO','NUM_SEQUENCIAL']]"
   ]
  },
  {
   "cell_type": "code",
   "execution_count": 29,
   "metadata": {},
   "outputs": [],
   "source": [
    "dataset=pd.merge(dataset1, doentes, on='INT_EPISODIO')"
   ]
  },
  {
   "cell_type": "code",
   "execution_count": 30,
   "metadata": {},
   "outputs": [],
   "source": [
    "#dataset['DTA_ENTRADA'] = pd.to_datetime(dataset['DTA_ENTRADA'])\n",
    "dataset['DTA_SAIDA'] = pd.to_datetime(dataset['DTA_SAIDA'])"
   ]
  },
  {
   "cell_type": "code",
   "execution_count": 31,
   "metadata": {},
   "outputs": [],
   "source": [
    "num_int=[]\n",
    "ult=[]\n",
    "for x in dataset.iloc:\n",
    "    z=dataset[(dataset['NUM_SEQUENCIAL']==x['NUM_SEQUENCIAL'])&(dataset['DTA_ENTRADA']<x['DTA_ENTRADA'])]\n",
    "    t=len(z)\n",
    "    ult_int=z['DTA_SAIDA'].max()\n",
    "    num_int.append(t)\n",
    "    ult.append(ult_int)\n",
    "    \n",
    "dataset['NUM_INTERNAMENTOS']=num_int\n",
    "dataset['ULT_INTERNAMENTO']=ult"
   ]
  },
  {
   "cell_type": "code",
   "execution_count": 32,
   "metadata": {},
   "outputs": [],
   "source": [
    "dataset['ULT_INTERNAMENTO'] = pd.to_datetime(dataset['ULT_INTERNAMENTO'])\n",
    "dataset['Tempo']=dataset['DTA_ENTRADA']-dataset['ULT_INTERNAMENTO']"
   ]
  },
  {
   "cell_type": "code",
   "execution_count": 33,
   "metadata": {},
   "outputs": [],
   "source": [
    "num_int=[]\n",
    "ult=[]\n",
    "for x in dataset.iloc:\n",
    "    z=dataset[(dataset['NUM_SEQUENCIAL']==x['NUM_SEQUENCIAL'])&(dataset['DTA_ENTRADA']<x['DTA_ENTRADA'])&(dataset['COD_DIAGNOSTICO_ADM']==x['COD_DIAGNOSTICO_ADM'])&(x['COD_DIAGNOSTICO_ADM']!='0')]\n",
    "    t=len(z)\n",
    "    ult_int=z['DTA_SAIDA'].max()\n",
    "    num_int.append(t)\n",
    "    ult.append(ult_int)\n",
    "    \n",
    "dataset['NUM_INT_MESMO_DIG']=num_int\n",
    "dataset['ULT_INT_MESMO_DIG']=ult"
   ]
  },
  {
   "cell_type": "code",
   "execution_count": 34,
   "metadata": {},
   "outputs": [],
   "source": [
    "dataset['ULT_INT_MESMO_DIG'] = pd.to_datetime(dataset['ULT_INT_MESMO_DIG'])\n",
    "dataset['Tempo_ULT_INT_MESMO_DIG']=dataset['DTA_ENTRADA']-dataset['ULT_INT_MESMO_DIG']"
   ]
  },
  {
   "cell_type": "code",
   "execution_count": 35,
   "metadata": {},
   "outputs": [
    {
     "name": "stdout",
     "output_type": "stream",
     "text": [
      "<class 'pandas.core.frame.DataFrame'>\n",
      "Int64Index: 1456 entries, 0 to 1455\n",
      "Data columns (total 33 columns):\n",
      " #   Column                   Non-Null Count  Dtype          \n",
      "---  ------                   --------------  -----          \n",
      " 0   INT_EPISODIO             1456 non-null   int64          \n",
      " 1   DTA_NASCIMENTO           1456 non-null   object         \n",
      " 2   SEXO                     1456 non-null   int64          \n",
      " 3   NUM_TRANSFERENCIA        1456 non-null   int64          \n",
      " 4   COD_ESPECIALIDADE        1456 non-null   int64          \n",
      " 5   DES_ESPECIALIDADE        1456 non-null   object         \n",
      " 6   MOTIVO_ENTRADA           1456 non-null   object         \n",
      " 7   COD_DIAGNOSTICO_ADM      1456 non-null   object         \n",
      " 8   DTA_ENTRADA              1456 non-null   datetime64[ns] \n",
      " 9   HORA_ENTRADA             1456 non-null   int64          \n",
      " 10  DTA_SAIDA                1456 non-null   datetime64[ns] \n",
      " 11  HORA_SAIDA               1456 non-null   float64        \n",
      " 12  sequencia                1456 non-null   object         \n",
      " 13  proximo                  1456 non-null   int64          \n",
      " 14  des_sequencia            1456 non-null   object         \n",
      " 15  des_proximo              1456 non-null   object         \n",
      " 16  LOS                      1456 non-null   float64        \n",
      " 17  IDADE                    1456 non-null   int64          \n",
      " 18  afluencia                1456 non-null   int64          \n",
      " 19  DTA_INTERNAMENTO         1456 non-null   datetime64[ns] \n",
      " 20  HORA_INTERNAMENTO        1456 non-null   int64          \n",
      " 21  TIPO_ADMISSAO            1456 non-null   object         \n",
      " 22  COD_PROVENIENCIA         1456 non-null   int64          \n",
      " 23  HORAS_INT                1456 non-null   int64          \n",
      " 24  DIAS_INT                 1456 non-null   float64        \n",
      " 25  LOS_ANTERIOR             1456 non-null   float64        \n",
      " 26  NUM_SEQUENCIAL           1456 non-null   int64          \n",
      " 27  NUM_INTERNAMENTOS        1456 non-null   int64          \n",
      " 28  ULT_INTERNAMENTO         90 non-null     datetime64[ns] \n",
      " 29  Tempo                    90 non-null     timedelta64[ns]\n",
      " 30  NUM_INT_MESMO_DIG        1456 non-null   int64          \n",
      " 31  ULT_INT_MESMO_DIG        0 non-null      datetime64[ns] \n",
      " 32  Tempo_ULT_INT_MESMO_DIG  0 non-null      timedelta64[ns]\n",
      "dtypes: datetime64[ns](5), float64(4), int64(14), object(8), timedelta64[ns](2)\n",
      "memory usage: 386.8+ KB\n"
     ]
    }
   ],
   "source": [
    "dataset.info()"
   ]
  },
  {
   "cell_type": "code",
   "execution_count": 36,
   "metadata": {},
   "outputs": [],
   "source": [
    "dataset['Tempo']=dataset['Tempo'].apply(lambda x: x.total_seconds())"
   ]
  },
  {
   "cell_type": "code",
   "execution_count": 37,
   "metadata": {},
   "outputs": [],
   "source": [
    "periodo=[]\n",
    "\n",
    "for x in dataset.iloc:\n",
    "    if x[22]<=2592000:\n",
    "        periodo.append('1')\n",
    "    else:\n",
    "        if x[22]<=7776000:\n",
    "            periodo.append('3')\n",
    "        else:\n",
    "            if x[22]<=15552000:\n",
    "                periodo.append('6')\n",
    "            else:\n",
    "                if x[22]<=31104000:\n",
    "                    periodo.append('12')\n",
    "                else:\n",
    "                    periodo.append('0')\n",
    "\n",
    "\n",
    "dataset['PERIODO']=periodo\n",
    "dataset['PERIODO']=dataset['PERIODO'].astype(int)"
   ]
  },
  {
   "cell_type": "code",
   "execution_count": 38,
   "metadata": {},
   "outputs": [],
   "source": [
    "dataset['Tempo_ULT_INT_MESMO_DIG']=dataset['Tempo_ULT_INT_MESMO_DIG'].apply(lambda x: x.total_seconds())"
   ]
  },
  {
   "cell_type": "code",
   "execution_count": 39,
   "metadata": {},
   "outputs": [],
   "source": [
    "periodo=[]\n",
    "\n",
    "for x in dataset.iloc:\n",
    "    if x[25]<=2592000:\n",
    "        periodo.append('1')\n",
    "    else:\n",
    "        if x[25]<=7776000:\n",
    "            periodo.append('3')\n",
    "        else:\n",
    "            if x[25]<=15552000:\n",
    "                periodo.append('6')\n",
    "            else:\n",
    "                if x[25]<=31104000:\n",
    "                    periodo.append('12')\n",
    "                else:\n",
    "                    periodo.append('0')\n",
    "\n",
    "\n",
    "dataset['PERIODO_MESMO_DIG']=periodo\n",
    "dataset['PERIODO_MESMO_DIG']=dataset['PERIODO_MESMO_DIG'].astype(int)"
   ]
  },
  {
   "cell_type": "code",
   "execution_count": 40,
   "metadata": {},
   "outputs": [],
   "source": [
    "dataset=dataset[dataset.LOS.notnull()]\n",
    "h=dataset['LOS']"
   ]
  },
  {
   "cell_type": "code",
   "execution_count": 41,
   "metadata": {},
   "outputs": [],
   "source": [
    "from sklearn.ensemble import IsolationForest\n",
    "h=h.values.reshape(-1,1)\n",
    "clf = IsolationForest(random_state=0).fit(h)"
   ]
  },
  {
   "cell_type": "code",
   "execution_count": 42,
   "metadata": {},
   "outputs": [],
   "source": [
    "dataset['Outlier']=clf.predict(h)"
   ]
  },
  {
   "cell_type": "code",
   "execution_count": 43,
   "metadata": {},
   "outputs": [
    {
     "data": {
      "text/plain": [
       " 1    1198\n",
       "-1     258\n",
       "Name: Outlier, dtype: int64"
      ]
     },
     "execution_count": 43,
     "metadata": {},
     "output_type": "execute_result"
    }
   ],
   "source": [
    "dataset['Outlier'].value_counts()"
   ]
  },
  {
   "cell_type": "code",
   "execution_count": 44,
   "metadata": {},
   "outputs": [
    {
     "data": {
      "text/plain": [
       "13.816666666666666"
      ]
     },
     "execution_count": 44,
     "metadata": {},
     "output_type": "execute_result"
    }
   ],
   "source": [
    "dataset[dataset['Outlier']==1]['LOS'].min()/3600"
   ]
  },
  {
   "cell_type": "code",
   "execution_count": 45,
   "metadata": {},
   "outputs": [
    {
     "data": {
      "text/plain": [
       "215.96666666666667"
      ]
     },
     "execution_count": 45,
     "metadata": {},
     "output_type": "execute_result"
    }
   ],
   "source": [
    "dataset[dataset['Outlier']==1]['LOS'].max()/3600"
   ]
  },
  {
   "cell_type": "code",
   "execution_count": 46,
   "metadata": {},
   "outputs": [],
   "source": [
    "final=dataset[dataset['Outlier']==1]"
   ]
  },
  {
   "cell_type": "code",
   "execution_count": 47,
   "metadata": {},
   "outputs": [
    {
     "data": {
      "text/plain": [
       "49740.0"
      ]
     },
     "execution_count": 47,
     "metadata": {},
     "output_type": "execute_result"
    }
   ],
   "source": [
    "final['LOS'].min()"
   ]
  },
  {
   "cell_type": "code",
   "execution_count": 48,
   "metadata": {},
   "outputs": [],
   "source": [
    "q1=np.percentile(final.LOS, 25)\n",
    "q3=np.percentile(final.LOS, 75)\n",
    "med_quartil=final[(final['LOS']>=q1)&(final['LOS']<=q3)]['LOS'].mean()\n",
    "med=final['LOS'].mean()"
   ]
  },
  {
   "cell_type": "code",
   "execution_count": 49,
   "metadata": {},
   "outputs": [
    {
     "data": {
      "text/plain": [
       "100095.0"
      ]
     },
     "execution_count": 49,
     "metadata": {},
     "output_type": "execute_result"
    }
   ],
   "source": [
    "q1"
   ]
  },
  {
   "cell_type": "code",
   "execution_count": 50,
   "metadata": {},
   "outputs": [
    {
     "data": {
      "text/plain": [
       "213324.79598662208"
      ]
     },
     "execution_count": 50,
     "metadata": {},
     "output_type": "execute_result"
    }
   ],
   "source": [
    "med_quartil"
   ]
  },
  {
   "cell_type": "code",
   "execution_count": 51,
   "metadata": {},
   "outputs": [
    {
     "data": {
      "text/plain": [
       "3.069966050670871"
      ]
     },
     "execution_count": 51,
     "metadata": {},
     "output_type": "execute_result"
    }
   ],
   "source": [
    "med/3600/24"
   ]
  },
  {
   "cell_type": "code",
   "execution_count": 52,
   "metadata": {},
   "outputs": [],
   "source": [
    "classe_quartil=med_quartil+med_quartil*0.3\n",
    "classe_med=med+med*0.3"
   ]
  },
  {
   "cell_type": "code",
   "execution_count": 53,
   "metadata": {},
   "outputs": [
    {
     "data": {
      "text/plain": [
       "277322.2347826087"
      ]
     },
     "execution_count": 53,
     "metadata": {},
     "output_type": "execute_result"
    }
   ],
   "source": [
    "classe_quartil"
   ]
  },
  {
   "cell_type": "code",
   "execution_count": 54,
   "metadata": {},
   "outputs": [
    {
     "data": {
      "text/plain": [
       "3.9909558658721322"
      ]
     },
     "execution_count": 54,
     "metadata": {},
     "output_type": "execute_result"
    }
   ],
   "source": [
    "classe_med/3600/24"
   ]
  },
  {
   "cell_type": "code",
   "execution_count": 55,
   "metadata": {},
   "outputs": [
    {
     "name": "stderr",
     "output_type": "stream",
     "text": [
      "/tmp/ipykernel_1447/2953206274.py:4: SettingWithCopyWarning: \n",
      "A value is trying to be set on a copy of a slice from a DataFrame.\n",
      "Try using .loc[row_indexer,col_indexer] = value instead\n",
      "\n",
      "See the caveats in the documentation: https://pandas.pydata.org/pandas-docs/stable/user_guide/indexing.html#returning-a-view-versus-a-copy\n",
      "  final['LOS Dia']=final['LOS'].apply(arrendondar)\n"
     ]
    }
   ],
   "source": [
    "import math\n",
    "def arrendondar(t):\n",
    "    return math.ceil(t/3600/24)\n",
    "final['LOS Dia']=final['LOS'].apply(arrendondar)"
   ]
  },
  {
   "cell_type": "code",
   "execution_count": 56,
   "metadata": {},
   "outputs": [
    {
     "name": "stderr",
     "output_type": "stream",
     "text": [
      "/tmp/ipykernel_1447/1688264652.py:1: SettingWithCopyWarning: \n",
      "A value is trying to be set on a copy of a slice from a DataFrame.\n",
      "Try using .loc[row_indexer,col_indexer] = value instead\n",
      "\n",
      "See the caveats in the documentation: https://pandas.pydata.org/pandas-docs/stable/user_guide/indexing.html#returning-a-view-versus-a-copy\n",
      "  final['LOS Anterior Dia']=final['LOS_ANTERIOR'].apply(arrendondar)\n"
     ]
    }
   ],
   "source": [
    "final['LOS Anterior Dia']=final['LOS_ANTERIOR'].apply(arrendondar)"
   ]
  },
  {
   "cell_type": "code",
   "execution_count": 57,
   "metadata": {},
   "outputs": [
    {
     "data": {
      "text/html": [
       "<div>\n",
       "<style scoped>\n",
       "    .dataframe tbody tr th:only-of-type {\n",
       "        vertical-align: middle;\n",
       "    }\n",
       "\n",
       "    .dataframe tbody tr th {\n",
       "        vertical-align: top;\n",
       "    }\n",
       "\n",
       "    .dataframe thead th {\n",
       "        text-align: right;\n",
       "    }\n",
       "</style>\n",
       "<table border=\"1\" class=\"dataframe\">\n",
       "  <thead>\n",
       "    <tr style=\"text-align: right;\">\n",
       "      <th></th>\n",
       "      <th>INT_EPISODIO</th>\n",
       "      <th>DTA_NASCIMENTO</th>\n",
       "      <th>SEXO</th>\n",
       "      <th>NUM_TRANSFERENCIA</th>\n",
       "      <th>COD_ESPECIALIDADE</th>\n",
       "      <th>DES_ESPECIALIDADE</th>\n",
       "      <th>MOTIVO_ENTRADA</th>\n",
       "      <th>COD_DIAGNOSTICO_ADM</th>\n",
       "      <th>DTA_ENTRADA</th>\n",
       "      <th>HORA_ENTRADA</th>\n",
       "      <th>...</th>\n",
       "      <th>ULT_INTERNAMENTO</th>\n",
       "      <th>Tempo</th>\n",
       "      <th>NUM_INT_MESMO_DIG</th>\n",
       "      <th>ULT_INT_MESMO_DIG</th>\n",
       "      <th>Tempo_ULT_INT_MESMO_DIG</th>\n",
       "      <th>PERIODO</th>\n",
       "      <th>PERIODO_MESMO_DIG</th>\n",
       "      <th>Outlier</th>\n",
       "      <th>LOS Dia</th>\n",
       "      <th>LOS Anterior Dia</th>\n",
       "    </tr>\n",
       "  </thead>\n",
       "  <tbody>\n",
       "    <tr>\n",
       "      <th>0</th>\n",
       "      <td>89106394680</td>\n",
       "      <td>1936-01-06</td>\n",
       "      <td>2</td>\n",
       "      <td>454127</td>\n",
       "      <td>30104</td>\n",
       "      <td>UCIP UPA (INT)</td>\n",
       "      <td>T</td>\n",
       "      <td>0</td>\n",
       "      <td>2017-01-04</td>\n",
       "      <td>58200</td>\n",
       "      <td>...</td>\n",
       "      <td>NaT</td>\n",
       "      <td>NaN</td>\n",
       "      <td>0</td>\n",
       "      <td>NaT</td>\n",
       "      <td>NaN</td>\n",
       "      <td>1</td>\n",
       "      <td>1</td>\n",
       "      <td>1</td>\n",
       "      <td>6</td>\n",
       "      <td>9</td>\n",
       "    </tr>\n",
       "    <tr>\n",
       "      <th>2</th>\n",
       "      <td>89107429026</td>\n",
       "      <td>1967-12-19</td>\n",
       "      <td>2</td>\n",
       "      <td>456940</td>\n",
       "      <td>30104</td>\n",
       "      <td>UCIP UPA (INT)</td>\n",
       "      <td>T</td>\n",
       "      <td>0</td>\n",
       "      <td>2017-02-09</td>\n",
       "      <td>45060</td>\n",
       "      <td>...</td>\n",
       "      <td>NaT</td>\n",
       "      <td>NaN</td>\n",
       "      <td>0</td>\n",
       "      <td>NaT</td>\n",
       "      <td>NaN</td>\n",
       "      <td>1</td>\n",
       "      <td>3</td>\n",
       "      <td>1</td>\n",
       "      <td>3</td>\n",
       "      <td>42</td>\n",
       "    </tr>\n",
       "    <tr>\n",
       "      <th>3</th>\n",
       "      <td>94537033718</td>\n",
       "      <td>1951-08-15</td>\n",
       "      <td>2</td>\n",
       "      <td>453801</td>\n",
       "      <td>30104</td>\n",
       "      <td>UCIP UPA (INT)</td>\n",
       "      <td>U</td>\n",
       "      <td>0</td>\n",
       "      <td>2017-01-01</td>\n",
       "      <td>7920</td>\n",
       "      <td>...</td>\n",
       "      <td>NaT</td>\n",
       "      <td>NaN</td>\n",
       "      <td>0</td>\n",
       "      <td>NaT</td>\n",
       "      <td>NaN</td>\n",
       "      <td>1</td>\n",
       "      <td>1</td>\n",
       "      <td>1</td>\n",
       "      <td>6</td>\n",
       "      <td>0</td>\n",
       "    </tr>\n",
       "    <tr>\n",
       "      <th>4</th>\n",
       "      <td>94537106011</td>\n",
       "      <td>1995-09-15</td>\n",
       "      <td>1</td>\n",
       "      <td>453814</td>\n",
       "      <td>30104</td>\n",
       "      <td>UCIP UPA (INT)</td>\n",
       "      <td>U</td>\n",
       "      <td>0</td>\n",
       "      <td>2017-01-01</td>\n",
       "      <td>37920</td>\n",
       "      <td>...</td>\n",
       "      <td>NaT</td>\n",
       "      <td>NaN</td>\n",
       "      <td>0</td>\n",
       "      <td>NaT</td>\n",
       "      <td>NaN</td>\n",
       "      <td>1</td>\n",
       "      <td>1</td>\n",
       "      <td>1</td>\n",
       "      <td>2</td>\n",
       "      <td>0</td>\n",
       "    </tr>\n",
       "    <tr>\n",
       "      <th>5</th>\n",
       "      <td>94538145918</td>\n",
       "      <td>1991-06-22</td>\n",
       "      <td>2</td>\n",
       "      <td>454118</td>\n",
       "      <td>30104</td>\n",
       "      <td>UCIP UPA (INT)</td>\n",
       "      <td>T</td>\n",
       "      <td>0</td>\n",
       "      <td>2017-01-04</td>\n",
       "      <td>47880</td>\n",
       "      <td>...</td>\n",
       "      <td>NaT</td>\n",
       "      <td>NaN</td>\n",
       "      <td>0</td>\n",
       "      <td>NaT</td>\n",
       "      <td>NaN</td>\n",
       "      <td>1</td>\n",
       "      <td>1</td>\n",
       "      <td>1</td>\n",
       "      <td>2</td>\n",
       "      <td>2</td>\n",
       "    </tr>\n",
       "    <tr>\n",
       "      <th>...</th>\n",
       "      <td>...</td>\n",
       "      <td>...</td>\n",
       "      <td>...</td>\n",
       "      <td>...</td>\n",
       "      <td>...</td>\n",
       "      <td>...</td>\n",
       "      <td>...</td>\n",
       "      <td>...</td>\n",
       "      <td>...</td>\n",
       "      <td>...</td>\n",
       "      <td>...</td>\n",
       "      <td>...</td>\n",
       "      <td>...</td>\n",
       "      <td>...</td>\n",
       "      <td>...</td>\n",
       "      <td>...</td>\n",
       "      <td>...</td>\n",
       "      <td>...</td>\n",
       "      <td>...</td>\n",
       "      <td>...</td>\n",
       "      <td>...</td>\n",
       "    </tr>\n",
       "    <tr>\n",
       "      <th>1448</th>\n",
       "      <td>444991120254</td>\n",
       "      <td>1974-05-11</td>\n",
       "      <td>2</td>\n",
       "      <td>558993</td>\n",
       "      <td>30104</td>\n",
       "      <td>UCIP UPA (INT)</td>\n",
       "      <td>T</td>\n",
       "      <td>0</td>\n",
       "      <td>2020-12-09</td>\n",
       "      <td>45780</td>\n",
       "      <td>...</td>\n",
       "      <td>NaT</td>\n",
       "      <td>NaN</td>\n",
       "      <td>0</td>\n",
       "      <td>NaT</td>\n",
       "      <td>NaN</td>\n",
       "      <td>1</td>\n",
       "      <td>1</td>\n",
       "      <td>1</td>\n",
       "      <td>3</td>\n",
       "      <td>2</td>\n",
       "    </tr>\n",
       "    <tr>\n",
       "      <th>1450</th>\n",
       "      <td>444994234414</td>\n",
       "      <td>1961-05-03</td>\n",
       "      <td>1</td>\n",
       "      <td>559873</td>\n",
       "      <td>30104</td>\n",
       "      <td>UCIP UPA (INT)</td>\n",
       "      <td>T</td>\n",
       "      <td>0</td>\n",
       "      <td>2020-12-18</td>\n",
       "      <td>84240</td>\n",
       "      <td>...</td>\n",
       "      <td>NaT</td>\n",
       "      <td>NaN</td>\n",
       "      <td>0</td>\n",
       "      <td>NaT</td>\n",
       "      <td>NaN</td>\n",
       "      <td>1</td>\n",
       "      <td>1</td>\n",
       "      <td>1</td>\n",
       "      <td>5</td>\n",
       "      <td>2</td>\n",
       "    </tr>\n",
       "    <tr>\n",
       "      <th>1453</th>\n",
       "      <td>444997254037</td>\n",
       "      <td>1966-09-19</td>\n",
       "      <td>1</td>\n",
       "      <td>560946</td>\n",
       "      <td>30104</td>\n",
       "      <td>UCIP UPA (INT)</td>\n",
       "      <td>T</td>\n",
       "      <td>0</td>\n",
       "      <td>2020-12-31</td>\n",
       "      <td>70440</td>\n",
       "      <td>...</td>\n",
       "      <td>NaT</td>\n",
       "      <td>NaN</td>\n",
       "      <td>0</td>\n",
       "      <td>NaT</td>\n",
       "      <td>NaN</td>\n",
       "      <td>1</td>\n",
       "      <td>1</td>\n",
       "      <td>1</td>\n",
       "      <td>7</td>\n",
       "      <td>5</td>\n",
       "    </tr>\n",
       "    <tr>\n",
       "      <th>1454</th>\n",
       "      <td>444997370818</td>\n",
       "      <td>1973-04-12</td>\n",
       "      <td>2</td>\n",
       "      <td>560556</td>\n",
       "      <td>30104</td>\n",
       "      <td>UCIP UPA (INT)</td>\n",
       "      <td>U</td>\n",
       "      <td>0</td>\n",
       "      <td>2020-12-27</td>\n",
       "      <td>51600</td>\n",
       "      <td>...</td>\n",
       "      <td>NaT</td>\n",
       "      <td>NaN</td>\n",
       "      <td>0</td>\n",
       "      <td>NaT</td>\n",
       "      <td>NaN</td>\n",
       "      <td>1</td>\n",
       "      <td>1</td>\n",
       "      <td>1</td>\n",
       "      <td>1</td>\n",
       "      <td>0</td>\n",
       "    </tr>\n",
       "    <tr>\n",
       "      <th>1455</th>\n",
       "      <td>444998955703</td>\n",
       "      <td>1982-06-17</td>\n",
       "      <td>1</td>\n",
       "      <td>561015</td>\n",
       "      <td>30104</td>\n",
       "      <td>UCIP UPA (INT)</td>\n",
       "      <td>T</td>\n",
       "      <td>0</td>\n",
       "      <td>2021-01-01</td>\n",
       "      <td>68400</td>\n",
       "      <td>...</td>\n",
       "      <td>NaT</td>\n",
       "      <td>NaN</td>\n",
       "      <td>0</td>\n",
       "      <td>NaT</td>\n",
       "      <td>NaN</td>\n",
       "      <td>1</td>\n",
       "      <td>1</td>\n",
       "      <td>1</td>\n",
       "      <td>4</td>\n",
       "      <td>2</td>\n",
       "    </tr>\n",
       "  </tbody>\n",
       "</table>\n",
       "<p>1198 rows × 38 columns</p>\n",
       "</div>"
      ],
      "text/plain": [
       "      INT_EPISODIO DTA_NASCIMENTO  SEXO  NUM_TRANSFERENCIA  COD_ESPECIALIDADE  \\\n",
       "0      89106394680     1936-01-06     2             454127              30104   \n",
       "2      89107429026     1967-12-19     2             456940              30104   \n",
       "3      94537033718     1951-08-15     2             453801              30104   \n",
       "4      94537106011     1995-09-15     1             453814              30104   \n",
       "5      94538145918     1991-06-22     2             454118              30104   \n",
       "...            ...            ...   ...                ...                ...   \n",
       "1448  444991120254     1974-05-11     2             558993              30104   \n",
       "1450  444994234414     1961-05-03     1             559873              30104   \n",
       "1453  444997254037     1966-09-19     1             560946              30104   \n",
       "1454  444997370818     1973-04-12     2             560556              30104   \n",
       "1455  444998955703     1982-06-17     1             561015              30104   \n",
       "\n",
       "     DES_ESPECIALIDADE MOTIVO_ENTRADA COD_DIAGNOSTICO_ADM DTA_ENTRADA  \\\n",
       "0       UCIP UPA (INT)              T                   0  2017-01-04   \n",
       "2       UCIP UPA (INT)              T                   0  2017-02-09   \n",
       "3       UCIP UPA (INT)              U                   0  2017-01-01   \n",
       "4       UCIP UPA (INT)              U                   0  2017-01-01   \n",
       "5       UCIP UPA (INT)              T                   0  2017-01-04   \n",
       "...                ...            ...                 ...         ...   \n",
       "1448    UCIP UPA (INT)              T                   0  2020-12-09   \n",
       "1450    UCIP UPA (INT)              T                   0  2020-12-18   \n",
       "1453    UCIP UPA (INT)              T                   0  2020-12-31   \n",
       "1454    UCIP UPA (INT)              U                   0  2020-12-27   \n",
       "1455    UCIP UPA (INT)              T                   0  2021-01-01   \n",
       "\n",
       "      HORA_ENTRADA  ... ULT_INTERNAMENTO  Tempo NUM_INT_MESMO_DIG  \\\n",
       "0            58200  ...              NaT    NaN                 0   \n",
       "2            45060  ...              NaT    NaN                 0   \n",
       "3             7920  ...              NaT    NaN                 0   \n",
       "4            37920  ...              NaT    NaN                 0   \n",
       "5            47880  ...              NaT    NaN                 0   \n",
       "...            ...  ...              ...    ...               ...   \n",
       "1448         45780  ...              NaT    NaN                 0   \n",
       "1450         84240  ...              NaT    NaN                 0   \n",
       "1453         70440  ...              NaT    NaN                 0   \n",
       "1454         51600  ...              NaT    NaN                 0   \n",
       "1455         68400  ...              NaT    NaN                 0   \n",
       "\n",
       "      ULT_INT_MESMO_DIG Tempo_ULT_INT_MESMO_DIG PERIODO  PERIODO_MESMO_DIG  \\\n",
       "0                   NaT                     NaN       1                  1   \n",
       "2                   NaT                     NaN       1                  3   \n",
       "3                   NaT                     NaN       1                  1   \n",
       "4                   NaT                     NaN       1                  1   \n",
       "5                   NaT                     NaN       1                  1   \n",
       "...                 ...                     ...     ...                ...   \n",
       "1448                NaT                     NaN       1                  1   \n",
       "1450                NaT                     NaN       1                  1   \n",
       "1453                NaT                     NaN       1                  1   \n",
       "1454                NaT                     NaN       1                  1   \n",
       "1455                NaT                     NaN       1                  1   \n",
       "\n",
       "      Outlier  LOS Dia LOS Anterior Dia  \n",
       "0           1        6                9  \n",
       "2           1        3               42  \n",
       "3           1        6                0  \n",
       "4           1        2                0  \n",
       "5           1        2                2  \n",
       "...       ...      ...              ...  \n",
       "1448        1        3                2  \n",
       "1450        1        5                2  \n",
       "1453        1        7                5  \n",
       "1454        1        1                0  \n",
       "1455        1        4                2  \n",
       "\n",
       "[1198 rows x 38 columns]"
      ]
     },
     "execution_count": 57,
     "metadata": {},
     "output_type": "execute_result"
    }
   ],
   "source": [
    "final"
   ]
  },
  {
   "cell_type": "code",
   "execution_count": 58,
   "metadata": {},
   "outputs": [
    {
     "data": {
      "text/html": [
       "<div>\n",
       "<style scoped>\n",
       "    .dataframe tbody tr th:only-of-type {\n",
       "        vertical-align: middle;\n",
       "    }\n",
       "\n",
       "    .dataframe tbody tr th {\n",
       "        vertical-align: top;\n",
       "    }\n",
       "\n",
       "    .dataframe thead th {\n",
       "        text-align: right;\n",
       "    }\n",
       "</style>\n",
       "<table border=\"1\" class=\"dataframe\">\n",
       "  <thead>\n",
       "    <tr style=\"text-align: right;\">\n",
       "      <th></th>\n",
       "      <th>LOS_ANTERIOR</th>\n",
       "      <th>LOS Anterior Dia</th>\n",
       "    </tr>\n",
       "  </thead>\n",
       "  <tbody>\n",
       "    <tr>\n",
       "      <th>0</th>\n",
       "      <td>717000.0</td>\n",
       "      <td>9</td>\n",
       "    </tr>\n",
       "    <tr>\n",
       "      <th>2</th>\n",
       "      <td>3619073.0</td>\n",
       "      <td>42</td>\n",
       "    </tr>\n",
       "    <tr>\n",
       "      <th>3</th>\n",
       "      <td>0.0</td>\n",
       "      <td>0</td>\n",
       "    </tr>\n",
       "    <tr>\n",
       "      <th>4</th>\n",
       "      <td>0.0</td>\n",
       "      <td>0</td>\n",
       "    </tr>\n",
       "    <tr>\n",
       "      <th>5</th>\n",
       "      <td>94705.0</td>\n",
       "      <td>2</td>\n",
       "    </tr>\n",
       "    <tr>\n",
       "      <th>...</th>\n",
       "      <td>...</td>\n",
       "      <td>...</td>\n",
       "    </tr>\n",
       "    <tr>\n",
       "      <th>1448</th>\n",
       "      <td>124560.0</td>\n",
       "      <td>2</td>\n",
       "    </tr>\n",
       "    <tr>\n",
       "      <th>1450</th>\n",
       "      <td>141360.0</td>\n",
       "      <td>2</td>\n",
       "    </tr>\n",
       "    <tr>\n",
       "      <th>1453</th>\n",
       "      <td>415200.0</td>\n",
       "      <td>5</td>\n",
       "    </tr>\n",
       "    <tr>\n",
       "      <th>1454</th>\n",
       "      <td>0.0</td>\n",
       "      <td>0</td>\n",
       "    </tr>\n",
       "    <tr>\n",
       "      <th>1455</th>\n",
       "      <td>86640.0</td>\n",
       "      <td>2</td>\n",
       "    </tr>\n",
       "  </tbody>\n",
       "</table>\n",
       "<p>1198 rows × 2 columns</p>\n",
       "</div>"
      ],
      "text/plain": [
       "      LOS_ANTERIOR  LOS Anterior Dia\n",
       "0         717000.0                 9\n",
       "2        3619073.0                42\n",
       "3              0.0                 0\n",
       "4              0.0                 0\n",
       "5          94705.0                 2\n",
       "...            ...               ...\n",
       "1448      124560.0                 2\n",
       "1450      141360.0                 2\n",
       "1453      415200.0                 5\n",
       "1454           0.0                 0\n",
       "1455       86640.0                 2\n",
       "\n",
       "[1198 rows x 2 columns]"
      ]
     },
     "execution_count": 58,
     "metadata": {},
     "output_type": "execute_result"
    }
   ],
   "source": [
    "final[['LOS_ANTERIOR','LOS Anterior Dia']]"
   ]
  },
  {
   "cell_type": "code",
   "execution_count": 59,
   "metadata": {},
   "outputs": [
    {
     "data": {
      "text/plain": [
       "<AxesSubplot:ylabel='Frequency'>"
      ]
     },
     "execution_count": 59,
     "metadata": {},
     "output_type": "execute_result"
    },
    {
     "data": {
      "image/png": "[encoded data removed]",
      "text/plain": [
       "<Figure size 432x288 with 1 Axes>"
      ]
     },
     "metadata": {
      "needs_background": "light"
     },
     "output_type": "display_data"
    }
   ],
   "source": [
    "final['LOS Dia'].plot.hist(bins=9, alpha=1)"
   ]
  },
  {
   "cell_type": "code",
   "execution_count": 60,
   "metadata": {},
   "outputs": [
    {
     "data": {
      "text/plain": [
       "2    377\n",
       "3    181\n",
       "1    163\n",
       "4    145\n",
       "5     94\n",
       "6     78\n",
       "8     62\n",
       "7     54\n",
       "9     44\n",
       "Name: LOS Dia, dtype: int64"
      ]
     },
     "execution_count": 60,
     "metadata": {},
     "output_type": "execute_result"
    }
   ],
   "source": [
    "final['LOS Dia'].value_counts()"
   ]
  },
  {
   "cell_type": "code",
   "execution_count": 61,
   "metadata": {},
   "outputs": [
    {
     "name": "stderr",
     "output_type": "stream",
     "text": [
      "/tmp/ipykernel_1447/2557268889.py:6: SettingWithCopyWarning: \n",
      "A value is trying to be set on a copy of a slice from a DataFrame.\n",
      "Try using .loc[row_indexer,col_indexer] = value instead\n",
      "\n",
      "See the caveats in the documentation: https://pandas.pydata.org/pandas-docs/stable/user_guide/indexing.html#returning-a-view-versus-a-copy\n",
      "  final['Classe Media']=final['LOS'].apply(cl_med)\n",
      "/tmp/ipykernel_1447/2557268889.py:13: SettingWithCopyWarning: \n",
      "A value is trying to be set on a copy of a slice from a DataFrame.\n",
      "Try using .loc[row_indexer,col_indexer] = value instead\n",
      "\n",
      "See the caveats in the documentation: https://pandas.pydata.org/pandas-docs/stable/user_guide/indexing.html#returning-a-view-versus-a-copy\n",
      "  final['Classe Quartil']=final['LOS'].apply(cl_quartil)\n"
     ]
    }
   ],
   "source": [
    "def cl_med(m):\n",
    "    if m > classe_med:\n",
    "        return 1\n",
    "    else:\n",
    "        return 0\n",
    "final['Classe Media']=final['LOS'].apply(cl_med)\n",
    "\n",
    "def cl_quartil(m):\n",
    "    if m > classe_quartil:\n",
    "        return 1\n",
    "    else:\n",
    "        return 0\n",
    "final['Classe Quartil']=final['LOS'].apply(cl_quartil)"
   ]
  },
  {
   "cell_type": "code",
   "execution_count": 62,
   "metadata": {},
   "outputs": [
    {
     "data": {
      "text/plain": [
       "Index(['INT_EPISODIO', 'DTA_NASCIMENTO', 'SEXO', 'NUM_TRANSFERENCIA',\n",
       "       'COD_ESPECIALIDADE', 'DES_ESPECIALIDADE', 'MOTIVO_ENTRADA',\n",
       "       'COD_DIAGNOSTICO_ADM', 'DTA_ENTRADA', 'HORA_ENTRADA', 'DTA_SAIDA',\n",
       "       'HORA_SAIDA', 'sequencia', 'proximo', 'des_sequencia', 'des_proximo',\n",
       "       'LOS', 'IDADE', 'afluencia', 'DTA_INTERNAMENTO', 'HORA_INTERNAMENTO',\n",
       "       'TIPO_ADMISSAO', 'COD_PROVENIENCIA', 'HORAS_INT', 'DIAS_INT',\n",
       "       'LOS_ANTERIOR', 'NUM_SEQUENCIAL', 'NUM_INTERNAMENTOS',\n",
       "       'ULT_INTERNAMENTO', 'Tempo', 'NUM_INT_MESMO_DIG', 'ULT_INT_MESMO_DIG',\n",
       "       'Tempo_ULT_INT_MESMO_DIG', 'PERIODO', 'PERIODO_MESMO_DIG', 'Outlier',\n",
       "       'LOS Dia', 'LOS Anterior Dia', 'Classe Media', 'Classe Quartil'],\n",
       "      dtype='object')"
      ]
     },
     "execution_count": 62,
     "metadata": {},
     "output_type": "execute_result"
    }
   ],
   "source": [
    "final.columns"
   ]
  },
  {
   "cell_type": "code",
   "execution_count": 63,
   "metadata": {},
   "outputs": [
    {
     "name": "stderr",
     "output_type": "stream",
     "text": [
      "/tmp/ipykernel_1447/3879122329.py:10: SettingWithCopyWarning: \n",
      "A value is trying to be set on a copy of a slice from a DataFrame.\n",
      "Try using .loc[row_indexer,col_indexer] = value instead\n",
      "\n",
      "See the caveats in the documentation: https://pandas.pydata.org/pandas-docs/stable/user_guide/indexing.html#returning-a-view-versus-a-copy\n",
      "  final['MOTIVO']=mot\n"
     ]
    }
   ],
   "source": [
    "mot=[]\n",
    "for x in final.iloc:\n",
    "    if x[5]=='U':\n",
    "        mot.append('1')\n",
    "    else:\n",
    "        if x[5]=='T':\n",
    "            mot.append('2')\n",
    "        else:\n",
    "            mot.append('3')\n",
    "final['MOTIVO']=mot\n",
    "\n",
    "s = final['sequencia'].unique()\n",
    "contador = 0\n",
    "id_seq = []\n",
    "\n",
    "for y in range(final['sequencia'].nunique()):\n",
    "    contador = contador + 1\n",
    "    id_seq.append(contador)\n",
    "    y = y + 1\n",
    "seq_id=pd.DataFrame({'sequencia':s, 'ID_SEQ':id_seq})\n",
    "final = pd.merge(final, seq_id, on = 'sequencia', how='left')\n",
    "\n",
    "d_s = final['COD_DIAGNOSTICO_ADM'].unique()\n",
    "contador = 0\n",
    "id_dig = []\n",
    "\n",
    "for y in range(final['COD_DIAGNOSTICO_ADM'].nunique()):\n",
    "    contador = contador + 1\n",
    "    id_dig.append(contador)\n",
    "    y = y + 1\n",
    "    \n",
    "seq_dig=pd.DataFrame({'COD_DIAGNOSTICO_ADM':d_s, 'ID_DIG':id_dig})\n",
    "final = pd.merge(final, seq_dig, on = 'COD_DIAGNOSTICO_ADM', how='left')"
   ]
  },
  {
   "cell_type": "code",
   "execution_count": 64,
   "metadata": {},
   "outputs": [
    {
     "data": {
      "text/plain": [
       "Index(['INT_EPISODIO', 'DTA_NASCIMENTO', 'SEXO', 'NUM_TRANSFERENCIA',\n",
       "       'COD_ESPECIALIDADE', 'DES_ESPECIALIDADE', 'MOTIVO_ENTRADA',\n",
       "       'COD_DIAGNOSTICO_ADM', 'DTA_ENTRADA', 'HORA_ENTRADA', 'DTA_SAIDA',\n",
       "       'HORA_SAIDA', 'sequencia', 'proximo', 'des_sequencia', 'des_proximo',\n",
       "       'LOS', 'IDADE', 'afluencia', 'DTA_INTERNAMENTO', 'HORA_INTERNAMENTO',\n",
       "       'TIPO_ADMISSAO', 'COD_PROVENIENCIA', 'HORAS_INT', 'DIAS_INT',\n",
       "       'LOS_ANTERIOR', 'NUM_SEQUENCIAL', 'NUM_INTERNAMENTOS',\n",
       "       'ULT_INTERNAMENTO', 'Tempo', 'NUM_INT_MESMO_DIG', 'ULT_INT_MESMO_DIG',\n",
       "       'Tempo_ULT_INT_MESMO_DIG', 'PERIODO', 'PERIODO_MESMO_DIG', 'Outlier',\n",
       "       'LOS Dia', 'LOS Anterior Dia', 'Classe Media', 'Classe Quartil',\n",
       "       'MOTIVO', 'ID_SEQ', 'ID_DIG'],\n",
       "      dtype='object')"
      ]
     },
     "execution_count": 64,
     "metadata": {},
     "output_type": "execute_result"
    }
   ],
   "source": [
    "final.columns"
   ]
  },
  {
   "cell_type": "code",
   "execution_count": 231,
   "metadata": {},
   "outputs": [],
   "source": [
    "def classe_target(x):\n",
    "    if x <=3:\n",
    "        return 1\n",
    "    else:\n",
    "        return x\n",
    "\n",
    "final['Classe_LOS_RES']=final['LOS Dia'].apply(classe_target)"
   ]
  },
  {
   "cell_type": "code",
   "execution_count": 254,
   "metadata": {},
   "outputs": [
    {
     "name": "stdout",
     "output_type": "stream",
     "text": [
      "<class 'pandas.core.frame.DataFrame'>\n",
      "Int64Index: 1198 entries, 0 to 1197\n",
      "Data columns (total 44 columns):\n",
      " #   Column                   Non-Null Count  Dtype         \n",
      "---  ------                   --------------  -----         \n",
      " 0   INT_EPISODIO             1198 non-null   int64         \n",
      " 1   DTA_NASCIMENTO           1198 non-null   object        \n",
      " 2   SEXO                     1198 non-null   int64         \n",
      " 3   NUM_TRANSFERENCIA        1198 non-null   int64         \n",
      " 4   COD_ESPECIALIDADE        1198 non-null   int64         \n",
      " 5   DES_ESPECIALIDADE        1198 non-null   object        \n",
      " 6   MOTIVO_ENTRADA           1198 non-null   object        \n",
      " 7   COD_DIAGNOSTICO_ADM      1198 non-null   object        \n",
      " 8   DTA_ENTRADA              1198 non-null   datetime64[ns]\n",
      " 9   HORA_ENTRADA             1198 non-null   int64         \n",
      " 10  DTA_SAIDA                1198 non-null   datetime64[ns]\n",
      " 11  HORA_SAIDA               1198 non-null   float64       \n",
      " 12  sequencia                1198 non-null   object        \n",
      " 13  proximo                  1198 non-null   int64         \n",
      " 14  des_sequencia            1198 non-null   object        \n",
      " 15  des_proximo              1198 non-null   object        \n",
      " 16  LOS                      1198 non-null   float64       \n",
      " 17  IDADE                    1198 non-null   int64         \n",
      " 18  afluencia                1198 non-null   int64         \n",
      " 19  DTA_INTERNAMENTO         1198 non-null   datetime64[ns]\n",
      " 20  HORA_INTERNAMENTO        1198 non-null   int64         \n",
      " 21  TIPO_ADMISSAO            1198 non-null   object        \n",
      " 22  COD_PROVENIENCIA         1198 non-null   int64         \n",
      " 23  HORAS_INT                1198 non-null   int64         \n",
      " 24  DIAS_INT                 1198 non-null   float64       \n",
      " 25  LOS_ANTERIOR             1198 non-null   float64       \n",
      " 26  NUM_SEQUENCIAL           1198 non-null   int64         \n",
      " 27  NUM_INTERNAMENTOS        1198 non-null   int64         \n",
      " 28  ULT_INTERNAMENTO         77 non-null     datetime64[ns]\n",
      " 29  Tempo                    77 non-null     float64       \n",
      " 30  NUM_INT_MESMO_DIG        1198 non-null   int64         \n",
      " 31  ULT_INT_MESMO_DIG        0 non-null      datetime64[ns]\n",
      " 32  Tempo_ULT_INT_MESMO_DIG  0 non-null      float64       \n",
      " 33  PERIODO                  1198 non-null   int64         \n",
      " 34  PERIODO_MESMO_DIG        1198 non-null   int64         \n",
      " 35  Outlier                  1198 non-null   int64         \n",
      " 36  LOS Dia                  1198 non-null   int64         \n",
      " 37  LOS Anterior Dia         1198 non-null   int64         \n",
      " 38  Classe Media             1198 non-null   int64         \n",
      " 39  Classe Quartil           1198 non-null   int64         \n",
      " 40  MOTIVO                   1198 non-null   object        \n",
      " 41  ID_SEQ                   1198 non-null   int64         \n",
      " 42  ID_DIG                   1198 non-null   int64         \n",
      " 43  Classe_LOS_RES           1198 non-null   int64         \n",
      "dtypes: datetime64[ns](5), float64(6), int64(24), object(9)\n",
      "memory usage: 421.2+ KB\n"
     ]
    }
   ],
   "source": [
    "final.info()"
   ]
  },
  {
   "cell_type": "code",
   "execution_count": 256,
   "metadata": {},
   "outputs": [],
   "source": [
    "final['NUM_ESP_ANTERIORES']=final['sequencia'].apply(lambda x: len(x)/5-1)"
   ]
  },
  {
   "cell_type": "code",
   "execution_count": 269,
   "metadata": {},
   "outputs": [],
   "source": [
    "#classificação\n",
    "X = final[['NUM_ESP_ANTERIORES','IDADE','afluencia','ID_DIG','SEXO','NUM_INTERNAMENTOS','LOS_ANTERIOR','COD_PROVENIENCIA','TIPO_ADMISSAO']]\n",
    "y_med = final['Classe_LOS_RES']"
   ]
  },
  {
   "cell_type": "code",
   "execution_count": 270,
   "metadata": {},
   "outputs": [
    {
     "name": "stderr",
     "output_type": "stream",
     "text": [
      "/tmp/ipykernel_1447/1145628292.py:3: SettingWithCopyWarning: \n",
      "A value is trying to be set on a copy of a slice from a DataFrame.\n",
      "Try using .loc[row_indexer,col_indexer] = value instead\n",
      "\n",
      "See the caveats in the documentation: https://pandas.pydata.org/pandas-docs/stable/user_guide/indexing.html#returning-a-view-versus-a-copy\n",
      "  X['TIPO_ADMISSAO'] = [temp[ele] for ele in X['TIPO_ADMISSAO']]\n"
     ]
    }
   ],
   "source": [
    "from collections import defaultdict\n",
    "temp = defaultdict(lambda: len(temp))\n",
    "X['TIPO_ADMISSAO'] = [temp[ele] for ele in X['TIPO_ADMISSAO']]"
   ]
  },
  {
   "cell_type": "code",
   "execution_count": 271,
   "metadata": {},
   "outputs": [],
   "source": [
    "X=X.replace(np.nan,0)"
   ]
  },
  {
   "cell_type": "code",
   "execution_count": 272,
   "metadata": {},
   "outputs": [],
   "source": [
    "X_med=X\n",
    "X_quartil=X"
   ]
  },
  {
   "cell_type": "code",
   "execution_count": 273,
   "metadata": {},
   "outputs": [],
   "source": [
    "from imblearn.over_sampling import RandomOverSampler \n",
    "over_sampler = RandomOverSampler() \n",
    "X_med, y_med = over_sampler.fit_resample(X_med, y_med) "
   ]
  },
  {
   "cell_type": "code",
   "execution_count": 274,
   "metadata": {},
   "outputs": [
    {
     "data": {
      "text/plain": [
       "6    721\n",
       "1    721\n",
       "4    721\n",
       "5    721\n",
       "9    721\n",
       "8    721\n",
       "7    721\n",
       "Name: Classe_LOS_RES, dtype: int64"
      ]
     },
     "execution_count": 274,
     "metadata": {},
     "output_type": "execute_result"
    }
   ],
   "source": [
    "y_med.value_counts()"
   ]
  },
  {
   "cell_type": "code",
   "execution_count": 275,
   "metadata": {},
   "outputs": [],
   "source": [
    "from sklearn.model_selection import train_test_split\n",
    "from sklearn.model_selection import KFold\n",
    "from sklearn.model_selection import cross_val_score\n",
    "from sklearn.ensemble import RandomForestClassifier\n",
    "from sklearn.ensemble import RandomForestRegressor\n",
    "from sklearn.linear_model import LogisticRegression\n",
    "from sklearn.tree import DecisionTreeClassifier\n",
    "from sklearn.ensemble import GradientBoostingClassifier\n",
    "from sklearn.neighbors import KNeighborsClassifier\n",
    "from sklearn.svm import SVC\n",
    "\n",
    "from numpy import mean\n",
    "from numpy import absolute\n",
    "from numpy import sqrt\n",
    "from numpy import std\n",
    "from sklearn.metrics import accuracy_score\n",
    "from sklearn.metrics import roc_auc_score\n",
    "from sklearn.metrics import f1_score\n",
    "from sklearn.metrics import precision_score\n",
    "from sklearn.metrics import confusion_matrix\n",
    "from sklearn.metrics import balanced_accuracy_score\n",
    "from sklearn.metrics import classification_report\n",
    "from sklearn.metrics import cohen_kappa_score\n",
    "from sklearn.metrics import recall_score"
   ]
  },
  {
   "cell_type": "markdown",
   "metadata": {},
   "source": [
    "# CLASSIFICAÇÃO"
   ]
  },
  {
   "cell_type": "code",
   "execution_count": 276,
   "metadata": {},
   "outputs": [],
   "source": [
    "model1= DecisionTreeClassifier(max_depth=45, random_state=42)\n",
    "model2 = RandomForestClassifier(max_depth=45,random_state=42)\n",
    "model3= GradientBoostingClassifier(max_depth=45,random_state=42)\n",
    "model4= KNeighborsClassifier()"
   ]
  },
  {
   "cell_type": "code",
   "execution_count": 277,
   "metadata": {},
   "outputs": [],
   "source": [
    "cv = KFold(n_splits=5, random_state=1, shuffle=True)"
   ]
  },
  {
   "cell_type": "code",
   "execution_count": 278,
   "metadata": {},
   "outputs": [],
   "source": [
    "from sklearn.model_selection import cross_val_predict\n",
    "\n",
    "predicted1 = cross_val_predict(model1, X_med, y_med, cv=cv)"
   ]
  },
  {
   "cell_type": "code",
   "execution_count": 279,
   "metadata": {},
   "outputs": [],
   "source": [
    "predicted2 = cross_val_predict(model2, X_med, y_med, cv=cv)"
   ]
  },
  {
   "cell_type": "code",
   "execution_count": 280,
   "metadata": {},
   "outputs": [],
   "source": [
    "predicted3 = cross_val_predict(model3, X_med, y_med, cv=cv)"
   ]
  },
  {
   "cell_type": "code",
   "execution_count": 281,
   "metadata": {},
   "outputs": [],
   "source": [
    "predicted4 = cross_val_predict(model4, X_med, y_med, cv=cv)"
   ]
  },
  {
   "cell_type": "code",
   "execution_count": 267,
   "metadata": {},
   "outputs": [
    {
     "data": {
      "text/plain": [
       "0.9084604715672677"
      ]
     },
     "execution_count": 267,
     "metadata": {},
     "output_type": "execute_result"
    }
   ],
   "source": [
    "accuracy_score(y_med, predicted1)"
   ]
  },
  {
   "cell_type": "code",
   "execution_count": 282,
   "metadata": {},
   "outputs": [
    {
     "data": {
      "text/plain": [
       "0.9165841093719042"
      ]
     },
     "execution_count": 282,
     "metadata": {},
     "output_type": "execute_result"
    }
   ],
   "source": [
    "accuracy_score(y_med, predicted2)"
   ]
  },
  {
   "cell_type": "code",
   "execution_count": 283,
   "metadata": {},
   "outputs": [
    {
     "data": {
      "text/plain": [
       "0.9191598969684961"
      ]
     },
     "execution_count": 283,
     "metadata": {},
     "output_type": "execute_result"
    }
   ],
   "source": [
    "accuracy_score(y_med, predicted3)"
   ]
  },
  {
   "cell_type": "code",
   "execution_count": 284,
   "metadata": {},
   "outputs": [
    {
     "data": {
      "text/plain": [
       "0.829205468595205"
      ]
     },
     "execution_count": 284,
     "metadata": {},
     "output_type": "execute_result"
    }
   ],
   "source": [
    "accuracy_score(y_med, predicted4)"
   ]
  },
  {
   "cell_type": "code",
   "execution_count": 285,
   "metadata": {},
   "outputs": [
    {
     "data": {
      "text/plain": [
       "0.8871937124364309"
      ]
     },
     "execution_count": 285,
     "metadata": {},
     "output_type": "execute_result"
    }
   ],
   "source": [
    "cohen_kappa_score(y_med, predicted1)"
   ]
  },
  {
   "cell_type": "code",
   "execution_count": 286,
   "metadata": {},
   "outputs": [
    {
     "data": {
      "text/plain": [
       "0.9026814609338881"
      ]
     },
     "execution_count": 286,
     "metadata": {},
     "output_type": "execute_result"
    }
   ],
   "source": [
    "cohen_kappa_score(y_med, predicted2)"
   ]
  },
  {
   "cell_type": "code",
   "execution_count": 287,
   "metadata": {},
   "outputs": [
    {
     "data": {
      "text/plain": [
       "0.9056865464632455"
      ]
     },
     "execution_count": 287,
     "metadata": {},
     "output_type": "execute_result"
    }
   ],
   "source": [
    "cohen_kappa_score(y_med, predicted3)"
   ]
  },
  {
   "cell_type": "code",
   "execution_count": 288,
   "metadata": {},
   "outputs": [
    {
     "data": {
      "text/plain": [
       "0.8007397133610725"
      ]
     },
     "execution_count": 288,
     "metadata": {},
     "output_type": "execute_result"
    }
   ],
   "source": [
    "cohen_kappa_score(y_med, predicted4)"
   ]
  },
  {
   "cell_type": "code",
   "execution_count": 289,
   "metadata": {},
   "outputs": [
    {
     "data": {
      "text/plain": [
       "0.8984088674516174"
      ]
     },
     "execution_count": 289,
     "metadata": {},
     "output_type": "execute_result"
    }
   ],
   "source": [
    "f1_score(y_med, predicted1, average='macro')"
   ]
  },
  {
   "cell_type": "code",
   "execution_count": 290,
   "metadata": {},
   "outputs": [
    {
     "data": {
      "text/plain": [
       "0.9137648267720121"
      ]
     },
     "execution_count": 290,
     "metadata": {},
     "output_type": "execute_result"
    }
   ],
   "source": [
    "f1_score(y_med, predicted2, average='macro')"
   ]
  },
  {
   "cell_type": "code",
   "execution_count": 291,
   "metadata": {},
   "outputs": [
    {
     "data": {
      "text/plain": [
       "0.9169553783256957"
      ]
     },
     "execution_count": 291,
     "metadata": {},
     "output_type": "execute_result"
    }
   ],
   "source": [
    "f1_score(y_med, predicted3, average='macro')"
   ]
  },
  {
   "cell_type": "code",
   "execution_count": 292,
   "metadata": {},
   "outputs": [
    {
     "data": {
      "text/plain": [
       "0.8113985225214418"
      ]
     },
     "execution_count": 292,
     "metadata": {},
     "output_type": "execute_result"
    }
   ],
   "source": [
    "f1_score(y_med, predicted4, average='macro')"
   ]
  },
  {
   "cell_type": "code",
   "execution_count": 293,
   "metadata": {},
   "outputs": [
    {
     "data": {
      "text/plain": [
       "0.9078381653945107"
      ]
     },
     "execution_count": 293,
     "metadata": {},
     "output_type": "execute_result"
    }
   ],
   "source": [
    "precision_score(y_med, predicted1, average='macro')"
   ]
  },
  {
   "cell_type": "code",
   "execution_count": 294,
   "metadata": {},
   "outputs": [
    {
     "data": {
      "text/plain": [
       "0.9202021606448089"
      ]
     },
     "execution_count": 294,
     "metadata": {},
     "output_type": "execute_result"
    }
   ],
   "source": [
    "precision_score(y_med, predicted2, average='macro')"
   ]
  },
  {
   "cell_type": "code",
   "execution_count": 295,
   "metadata": {},
   "outputs": [
    {
     "data": {
      "text/plain": [
       "0.9220828311154051"
      ]
     },
     "execution_count": 295,
     "metadata": {},
     "output_type": "execute_result"
    }
   ],
   "source": [
    "precision_score(y_med, predicted3, average='macro')"
   ]
  },
  {
   "cell_type": "code",
   "execution_count": 296,
   "metadata": {},
   "outputs": [
    {
     "data": {
      "text/plain": [
       "0.8323616956608896"
      ]
     },
     "execution_count": 296,
     "metadata": {},
     "output_type": "execute_result"
    }
   ],
   "source": [
    "precision_score(y_med, predicted4, average='macro')"
   ]
  },
  {
   "cell_type": "code",
   "execution_count": 297,
   "metadata": {},
   "outputs": [
    {
     "data": {
      "text/plain": [
       "0.9033088963740836"
      ]
     },
     "execution_count": 297,
     "metadata": {},
     "output_type": "execute_result"
    }
   ],
   "source": [
    "recall_score(y_med, predicted1, average='macro')"
   ]
  },
  {
   "cell_type": "code",
   "execution_count": 298,
   "metadata": {},
   "outputs": [
    {
     "data": {
      "text/plain": [
       "0.916584109371904"
      ]
     },
     "execution_count": 298,
     "metadata": {},
     "output_type": "execute_result"
    }
   ],
   "source": [
    "recall_score(y_med, predicted2, average='macro')"
   ]
  },
  {
   "cell_type": "code",
   "execution_count": 299,
   "metadata": {},
   "outputs": [
    {
     "data": {
      "text/plain": [
       "0.829205468595205"
      ]
     },
     "execution_count": 299,
     "metadata": {},
     "output_type": "execute_result"
    }
   ],
   "source": [
    "recall_score(y_med, predicted4, average='macro')"
   ]
  },
  {
   "cell_type": "code",
   "execution_count": 300,
   "metadata": {},
   "outputs": [
    {
     "data": {
      "text/plain": [
       "0.9191598969684962"
      ]
     },
     "execution_count": 300,
     "metadata": {},
     "output_type": "execute_result"
    }
   ],
   "source": [
    "recall_score(y_med, predicted3, average='macro')"
   ]
  },
  {
   "cell_type": "code",
   "execution_count": 301,
   "metadata": {},
   "outputs": [
    {
     "data": {
      "text/html": [
       "<style>#sk-container-id-8 {color: black;background-color: white;}#sk-container-id-8 pre{padding: 0;}#sk-container-id-8 div.sk-toggleable {background-color: white;}#sk-container-id-8 label.sk-toggleable__label {cursor: pointer;display: block;width: 100%;margin-bottom: 0;padding: 0.3em;box-sizing: border-box;text-align: center;}#sk-container-id-8 label.sk-toggleable__label-arrow:before {content: \"▸\";float: left;margin-right: 0.25em;color: #696969;}#sk-container-id-8 label.sk-toggleable__label-arrow:hover:before {color: black;}#sk-container-id-8 div.sk-estimator:hover label.sk-toggleable__label-arrow:before {color: black;}#sk-container-id-8 div.sk-toggleable__content {max-height: 0;max-width: 0;overflow: hidden;text-align: left;background-color: #f0f8ff;}#sk-container-id-8 div.sk-toggleable__content pre {margin: 0.2em;color: black;border-radius: 0.25em;background-color: #f0f8ff;}#sk-container-id-8 input.sk-toggleable__control:checked~div.sk-toggleable__content {max-height: 200px;max-width: 100%;overflow: auto;}#sk-container-id-8 input.sk-toggleable__control:checked~label.sk-toggleable__label-arrow:before {content: \"▾\";}#sk-container-id-8 div.sk-estimator input.sk-toggleable__control:checked~label.sk-toggleable__label {background-color: #d4ebff;}#sk-container-id-8 div.sk-label input.sk-toggleable__control:checked~label.sk-toggleable__label {background-color: #d4ebff;}#sk-container-id-8 input.sk-hidden--visually {border: 0;clip: rect(1px 1px 1px 1px);clip: rect(1px, 1px, 1px, 1px);height: 1px;margin: -1px;overflow: hidden;padding: 0;position: absolute;width: 1px;}#sk-container-id-8 div.sk-estimator {font-family: monospace;background-color: #f0f8ff;border: 1px dotted black;border-radius: 0.25em;box-sizing: border-box;margin-bottom: 0.5em;}#sk-container-id-8 div.sk-estimator:hover {background-color: #d4ebff;}#sk-container-id-8 div.sk-parallel-item::after {content: \"\";width: 100%;border-bottom: 1px solid gray;flex-grow: 1;}#sk-container-id-8 div.sk-label:hover label.sk-toggleable__label {background-color: #d4ebff;}#sk-container-id-8 div.sk-serial::before {content: \"\";position: absolute;border-left: 1px solid gray;box-sizing: border-box;top: 0;bottom: 0;left: 50%;z-index: 0;}#sk-container-id-8 div.sk-serial {display: flex;flex-direction: column;align-items: center;background-color: white;padding-right: 0.2em;padding-left: 0.2em;position: relative;}#sk-container-id-8 div.sk-item {position: relative;z-index: 1;}#sk-container-id-8 div.sk-parallel {display: flex;align-items: stretch;justify-content: center;background-color: white;position: relative;}#sk-container-id-8 div.sk-item::before, #sk-container-id-8 div.sk-parallel-item::before {content: \"\";position: absolute;border-left: 1px solid gray;box-sizing: border-box;top: 0;bottom: 0;left: 50%;z-index: -1;}#sk-container-id-8 div.sk-parallel-item {display: flex;flex-direction: column;z-index: 1;position: relative;background-color: white;}#sk-container-id-8 div.sk-parallel-item:first-child::after {align-self: flex-end;width: 50%;}#sk-container-id-8 div.sk-parallel-item:last-child::after {align-self: flex-start;width: 50%;}#sk-container-id-8 div.sk-parallel-item:only-child::after {width: 0;}#sk-container-id-8 div.sk-dashed-wrapped {border: 1px dashed gray;margin: 0 0.4em 0.5em 0.4em;box-sizing: border-box;padding-bottom: 0.4em;background-color: white;}#sk-container-id-8 div.sk-label label {font-family: monospace;font-weight: bold;display: inline-block;line-height: 1.2em;}#sk-container-id-8 div.sk-label-container {text-align: center;}#sk-container-id-8 div.sk-container {/* jupyter's `normalize.less` sets `[hidden] { display: none; }` but bootstrap.min.css set `[hidden] { display: none !important; }` so we also need the `!important` here to be able to override the default hidden behavior on the sphinx rendered scikit-learn.org. See: https://github.com/scikit-learn/scikit-learn/issues/21755 */display: inline-block !important;position: relative;}#sk-container-id-8 div.sk-text-repr-fallback {display: none;}</style><div id=\"sk-container-id-8\" class=\"sk-top-container\"><div class=\"sk-text-repr-fallback\"><pre>DecisionTreeClassifier(max_depth=45, random_state=42)</pre><b>In a Jupyter environment, please rerun this cell to show the HTML representation or trust the notebook. <br />On GitHub, the HTML representation is unable to render, please try loading this page with nbviewer.org.</b></div><div class=\"sk-container\" hidden><div class=\"sk-item\"><div class=\"sk-estimator sk-toggleable\"><input class=\"sk-toggleable__control sk-hidden--visually\" id=\"sk-estimator-id-8\" type=\"checkbox\" checked><label for=\"sk-estimator-id-8\" class=\"sk-toggleable__label sk-toggleable__label-arrow\">DecisionTreeClassifier</label><div class=\"sk-toggleable__content\"><pre>DecisionTreeClassifier(max_depth=45, random_state=42)</pre></div></div></div></div></div>"
      ],
      "text/plain": [
       "DecisionTreeClassifier(max_depth=45, random_state=42)"
      ]
     },
     "execution_count": 301,
     "metadata": {},
     "output_type": "execute_result"
    }
   ],
   "source": [
    "model1.fit(X_med,y_med)"
   ]
  },
  {
   "cell_type": "code",
   "execution_count": 302,
   "metadata": {},
   "outputs": [
    {
     "data": {
      "text/html": [
       "<style>#sk-container-id-9 {color: black;background-color: white;}#sk-container-id-9 pre{padding: 0;}#sk-container-id-9 div.sk-toggleable {background-color: white;}#sk-container-id-9 label.sk-toggleable__label {cursor: pointer;display: block;width: 100%;margin-bottom: 0;padding: 0.3em;box-sizing: border-box;text-align: center;}#sk-container-id-9 label.sk-toggleable__label-arrow:before {content: \"▸\";float: left;margin-right: 0.25em;color: #696969;}#sk-container-id-9 label.sk-toggleable__label-arrow:hover:before {color: black;}#sk-container-id-9 div.sk-estimator:hover label.sk-toggleable__label-arrow:before {color: black;}#sk-container-id-9 div.sk-toggleable__content {max-height: 0;max-width: 0;overflow: hidden;text-align: left;background-color: #f0f8ff;}#sk-container-id-9 div.sk-toggleable__content pre {margin: 0.2em;color: black;border-radius: 0.25em;background-color: #f0f8ff;}#sk-container-id-9 input.sk-toggleable__control:checked~div.sk-toggleable__content {max-height: 200px;max-width: 100%;overflow: auto;}#sk-container-id-9 input.sk-toggleable__control:checked~label.sk-toggleable__label-arrow:before {content: \"▾\";}#sk-container-id-9 div.sk-estimator input.sk-toggleable__control:checked~label.sk-toggleable__label {background-color: #d4ebff;}#sk-container-id-9 div.sk-label input.sk-toggleable__control:checked~label.sk-toggleable__label {background-color: #d4ebff;}#sk-container-id-9 input.sk-hidden--visually {border: 0;clip: rect(1px 1px 1px 1px);clip: rect(1px, 1px, 1px, 1px);height: 1px;margin: -1px;overflow: hidden;padding: 0;position: absolute;width: 1px;}#sk-container-id-9 div.sk-estimator {font-family: monospace;background-color: #f0f8ff;border: 1px dotted black;border-radius: 0.25em;box-sizing: border-box;margin-bottom: 0.5em;}#sk-container-id-9 div.sk-estimator:hover {background-color: #d4ebff;}#sk-container-id-9 div.sk-parallel-item::after {content: \"\";width: 100%;border-bottom: 1px solid gray;flex-grow: 1;}#sk-container-id-9 div.sk-label:hover label.sk-toggleable__label {background-color: #d4ebff;}#sk-container-id-9 div.sk-serial::before {content: \"\";position: absolute;border-left: 1px solid gray;box-sizing: border-box;top: 0;bottom: 0;left: 50%;z-index: 0;}#sk-container-id-9 div.sk-serial {display: flex;flex-direction: column;align-items: center;background-color: white;padding-right: 0.2em;padding-left: 0.2em;position: relative;}#sk-container-id-9 div.sk-item {position: relative;z-index: 1;}#sk-container-id-9 div.sk-parallel {display: flex;align-items: stretch;justify-content: center;background-color: white;position: relative;}#sk-container-id-9 div.sk-item::before, #sk-container-id-9 div.sk-parallel-item::before {content: \"\";position: absolute;border-left: 1px solid gray;box-sizing: border-box;top: 0;bottom: 0;left: 50%;z-index: -1;}#sk-container-id-9 div.sk-parallel-item {display: flex;flex-direction: column;z-index: 1;position: relative;background-color: white;}#sk-container-id-9 div.sk-parallel-item:first-child::after {align-self: flex-end;width: 50%;}#sk-container-id-9 div.sk-parallel-item:last-child::after {align-self: flex-start;width: 50%;}#sk-container-id-9 div.sk-parallel-item:only-child::after {width: 0;}#sk-container-id-9 div.sk-dashed-wrapped {border: 1px dashed gray;margin: 0 0.4em 0.5em 0.4em;box-sizing: border-box;padding-bottom: 0.4em;background-color: white;}#sk-container-id-9 div.sk-label label {font-family: monospace;font-weight: bold;display: inline-block;line-height: 1.2em;}#sk-container-id-9 div.sk-label-container {text-align: center;}#sk-container-id-9 div.sk-container {/* jupyter's `normalize.less` sets `[hidden] { display: none; }` but bootstrap.min.css set `[hidden] { display: none !important; }` so we also need the `!important` here to be able to override the default hidden behavior on the sphinx rendered scikit-learn.org. See: https://github.com/scikit-learn/scikit-learn/issues/21755 */display: inline-block !important;position: relative;}#sk-container-id-9 div.sk-text-repr-fallback {display: none;}</style><div id=\"sk-container-id-9\" class=\"sk-top-container\"><div class=\"sk-text-repr-fallback\"><pre>RandomForestClassifier(max_depth=45, random_state=42)</pre><b>In a Jupyter environment, please rerun this cell to show the HTML representation or trust the notebook. <br />On GitHub, the HTML representation is unable to render, please try loading this page with nbviewer.org.</b></div><div class=\"sk-container\" hidden><div class=\"sk-item\"><div class=\"sk-estimator sk-toggleable\"><input class=\"sk-toggleable__control sk-hidden--visually\" id=\"sk-estimator-id-9\" type=\"checkbox\" checked><label for=\"sk-estimator-id-9\" class=\"sk-toggleable__label sk-toggleable__label-arrow\">RandomForestClassifier</label><div class=\"sk-toggleable__content\"><pre>RandomForestClassifier(max_depth=45, random_state=42)</pre></div></div></div></div></div>"
      ],
      "text/plain": [
       "RandomForestClassifier(max_depth=45, random_state=42)"
      ]
     },
     "execution_count": 302,
     "metadata": {},
     "output_type": "execute_result"
    }
   ],
   "source": [
    "model2.fit(X_med,y_med)"
   ]
  },
  {
   "cell_type": "code",
   "execution_count": 303,
   "metadata": {},
   "outputs": [
    {
     "data": {
      "text/html": [
       "<style>#sk-container-id-10 {color: black;background-color: white;}#sk-container-id-10 pre{padding: 0;}#sk-container-id-10 div.sk-toggleable {background-color: white;}#sk-container-id-10 label.sk-toggleable__label {cursor: pointer;display: block;width: 100%;margin-bottom: 0;padding: 0.3em;box-sizing: border-box;text-align: center;}#sk-container-id-10 label.sk-toggleable__label-arrow:before {content: \"▸\";float: left;margin-right: 0.25em;color: #696969;}#sk-container-id-10 label.sk-toggleable__label-arrow:hover:before {color: black;}#sk-container-id-10 div.sk-estimator:hover label.sk-toggleable__label-arrow:before {color: black;}#sk-container-id-10 div.sk-toggleable__content {max-height: 0;max-width: 0;overflow: hidden;text-align: left;background-color: #f0f8ff;}#sk-container-id-10 div.sk-toggleable__content pre {margin: 0.2em;color: black;border-radius: 0.25em;background-color: #f0f8ff;}#sk-container-id-10 input.sk-toggleable__control:checked~div.sk-toggleable__content {max-height: 200px;max-width: 100%;overflow: auto;}#sk-container-id-10 input.sk-toggleable__control:checked~label.sk-toggleable__label-arrow:before {content: \"▾\";}#sk-container-id-10 div.sk-estimator input.sk-toggleable__control:checked~label.sk-toggleable__label {background-color: #d4ebff;}#sk-container-id-10 div.sk-label input.sk-toggleable__control:checked~label.sk-toggleable__label {background-color: #d4ebff;}#sk-container-id-10 input.sk-hidden--visually {border: 0;clip: rect(1px 1px 1px 1px);clip: rect(1px, 1px, 1px, 1px);height: 1px;margin: -1px;overflow: hidden;padding: 0;position: absolute;width: 1px;}#sk-container-id-10 div.sk-estimator {font-family: monospace;background-color: #f0f8ff;border: 1px dotted black;border-radius: 0.25em;box-sizing: border-box;margin-bottom: 0.5em;}#sk-container-id-10 div.sk-estimator:hover {background-color: #d4ebff;}#sk-container-id-10 div.sk-parallel-item::after {content: \"\";width: 100%;border-bottom: 1px solid gray;flex-grow: 1;}#sk-container-id-10 div.sk-label:hover label.sk-toggleable__label {background-color: #d4ebff;}#sk-container-id-10 div.sk-serial::before {content: \"\";position: absolute;border-left: 1px solid gray;box-sizing: border-box;top: 0;bottom: 0;left: 50%;z-index: 0;}#sk-container-id-10 div.sk-serial {display: flex;flex-direction: column;align-items: center;background-color: white;padding-right: 0.2em;padding-left: 0.2em;position: relative;}#sk-container-id-10 div.sk-item {position: relative;z-index: 1;}#sk-container-id-10 div.sk-parallel {display: flex;align-items: stretch;justify-content: center;background-color: white;position: relative;}#sk-container-id-10 div.sk-item::before, #sk-container-id-10 div.sk-parallel-item::before {content: \"\";position: absolute;border-left: 1px solid gray;box-sizing: border-box;top: 0;bottom: 0;left: 50%;z-index: -1;}#sk-container-id-10 div.sk-parallel-item {display: flex;flex-direction: column;z-index: 1;position: relative;background-color: white;}#sk-container-id-10 div.sk-parallel-item:first-child::after {align-self: flex-end;width: 50%;}#sk-container-id-10 div.sk-parallel-item:last-child::after {align-self: flex-start;width: 50%;}#sk-container-id-10 div.sk-parallel-item:only-child::after {width: 0;}#sk-container-id-10 div.sk-dashed-wrapped {border: 1px dashed gray;margin: 0 0.4em 0.5em 0.4em;box-sizing: border-box;padding-bottom: 0.4em;background-color: white;}#sk-container-id-10 div.sk-label label {font-family: monospace;font-weight: bold;display: inline-block;line-height: 1.2em;}#sk-container-id-10 div.sk-label-container {text-align: center;}#sk-container-id-10 div.sk-container {/* jupyter's `normalize.less` sets `[hidden] { display: none; }` but bootstrap.min.css set `[hidden] { display: none !important; }` so we also need the `!important` here to be able to override the default hidden behavior on the sphinx rendered scikit-learn.org. See: https://github.com/scikit-learn/scikit-learn/issues/21755 */display: inline-block !important;position: relative;}#sk-container-id-10 div.sk-text-repr-fallback {display: none;}</style><div id=\"sk-container-id-10\" class=\"sk-top-container\"><div class=\"sk-text-repr-fallback\"><pre>GradientBoostingClassifier(max_depth=45, random_state=42)</pre><b>In a Jupyter environment, please rerun this cell to show the HTML representation or trust the notebook. <br />On GitHub, the HTML representation is unable to render, please try loading this page with nbviewer.org.</b></div><div class=\"sk-container\" hidden><div class=\"sk-item\"><div class=\"sk-estimator sk-toggleable\"><input class=\"sk-toggleable__control sk-hidden--visually\" id=\"sk-estimator-id-10\" type=\"checkbox\" checked><label for=\"sk-estimator-id-10\" class=\"sk-toggleable__label sk-toggleable__label-arrow\">GradientBoostingClassifier</label><div class=\"sk-toggleable__content\"><pre>GradientBoostingClassifier(max_depth=45, random_state=42)</pre></div></div></div></div></div>"
      ],
      "text/plain": [
       "GradientBoostingClassifier(max_depth=45, random_state=42)"
      ]
     },
     "execution_count": 303,
     "metadata": {},
     "output_type": "execute_result"
    }
   ],
   "source": [
    "model3.fit(X_med,y_med)"
   ]
  },
  {
   "cell_type": "code",
   "execution_count": 304,
   "metadata": {},
   "outputs": [
    {
     "data": {
      "text/html": [
       "<style>#sk-container-id-11 {color: black;background-color: white;}#sk-container-id-11 pre{padding: 0;}#sk-container-id-11 div.sk-toggleable {background-color: white;}#sk-container-id-11 label.sk-toggleable__label {cursor: pointer;display: block;width: 100%;margin-bottom: 0;padding: 0.3em;box-sizing: border-box;text-align: center;}#sk-container-id-11 label.sk-toggleable__label-arrow:before {content: \"▸\";float: left;margin-right: 0.25em;color: #696969;}#sk-container-id-11 label.sk-toggleable__label-arrow:hover:before {color: black;}#sk-container-id-11 div.sk-estimator:hover label.sk-toggleable__label-arrow:before {color: black;}#sk-container-id-11 div.sk-toggleable__content {max-height: 0;max-width: 0;overflow: hidden;text-align: left;background-color: #f0f8ff;}#sk-container-id-11 div.sk-toggleable__content pre {margin: 0.2em;color: black;border-radius: 0.25em;background-color: #f0f8ff;}#sk-container-id-11 input.sk-toggleable__control:checked~div.sk-toggleable__content {max-height: 200px;max-width: 100%;overflow: auto;}#sk-container-id-11 input.sk-toggleable__control:checked~label.sk-toggleable__label-arrow:before {content: \"▾\";}#sk-container-id-11 div.sk-estimator input.sk-toggleable__control:checked~label.sk-toggleable__label {background-color: #d4ebff;}#sk-container-id-11 div.sk-label input.sk-toggleable__control:checked~label.sk-toggleable__label {background-color: #d4ebff;}#sk-container-id-11 input.sk-hidden--visually {border: 0;clip: rect(1px 1px 1px 1px);clip: rect(1px, 1px, 1px, 1px);height: 1px;margin: -1px;overflow: hidden;padding: 0;position: absolute;width: 1px;}#sk-container-id-11 div.sk-estimator {font-family: monospace;background-color: #f0f8ff;border: 1px dotted black;border-radius: 0.25em;box-sizing: border-box;margin-bottom: 0.5em;}#sk-container-id-11 div.sk-estimator:hover {background-color: #d4ebff;}#sk-container-id-11 div.sk-parallel-item::after {content: \"\";width: 100%;border-bottom: 1px solid gray;flex-grow: 1;}#sk-container-id-11 div.sk-label:hover label.sk-toggleable__label {background-color: #d4ebff;}#sk-container-id-11 div.sk-serial::before {content: \"\";position: absolute;border-left: 1px solid gray;box-sizing: border-box;top: 0;bottom: 0;left: 50%;z-index: 0;}#sk-container-id-11 div.sk-serial {display: flex;flex-direction: column;align-items: center;background-color: white;padding-right: 0.2em;padding-left: 0.2em;position: relative;}#sk-container-id-11 div.sk-item {position: relative;z-index: 1;}#sk-container-id-11 div.sk-parallel {display: flex;align-items: stretch;justify-content: center;background-color: white;position: relative;}#sk-container-id-11 div.sk-item::before, #sk-container-id-11 div.sk-parallel-item::before {content: \"\";position: absolute;border-left: 1px solid gray;box-sizing: border-box;top: 0;bottom: 0;left: 50%;z-index: -1;}#sk-container-id-11 div.sk-parallel-item {display: flex;flex-direction: column;z-index: 1;position: relative;background-color: white;}#sk-container-id-11 div.sk-parallel-item:first-child::after {align-self: flex-end;width: 50%;}#sk-container-id-11 div.sk-parallel-item:last-child::after {align-self: flex-start;width: 50%;}#sk-container-id-11 div.sk-parallel-item:only-child::after {width: 0;}#sk-container-id-11 div.sk-dashed-wrapped {border: 1px dashed gray;margin: 0 0.4em 0.5em 0.4em;box-sizing: border-box;padding-bottom: 0.4em;background-color: white;}#sk-container-id-11 div.sk-label label {font-family: monospace;font-weight: bold;display: inline-block;line-height: 1.2em;}#sk-container-id-11 div.sk-label-container {text-align: center;}#sk-container-id-11 div.sk-container {/* jupyter's `normalize.less` sets `[hidden] { display: none; }` but bootstrap.min.css set `[hidden] { display: none !important; }` so we also need the `!important` here to be able to override the default hidden behavior on the sphinx rendered scikit-learn.org. See: https://github.com/scikit-learn/scikit-learn/issues/21755 */display: inline-block !important;position: relative;}#sk-container-id-11 div.sk-text-repr-fallback {display: none;}</style><div id=\"sk-container-id-11\" class=\"sk-top-container\"><div class=\"sk-text-repr-fallback\"><pre>KNeighborsClassifier()</pre><b>In a Jupyter environment, please rerun this cell to show the HTML representation or trust the notebook. <br />On GitHub, the HTML representation is unable to render, please try loading this page with nbviewer.org.</b></div><div class=\"sk-container\" hidden><div class=\"sk-item\"><div class=\"sk-estimator sk-toggleable\"><input class=\"sk-toggleable__control sk-hidden--visually\" id=\"sk-estimator-id-11\" type=\"checkbox\" checked><label for=\"sk-estimator-id-11\" class=\"sk-toggleable__label sk-toggleable__label-arrow\">KNeighborsClassifier</label><div class=\"sk-toggleable__content\"><pre>KNeighborsClassifier()</pre></div></div></div></div></div>"
      ],
      "text/plain": [
       "KNeighborsClassifier()"
      ]
     },
     "execution_count": 304,
     "metadata": {},
     "output_type": "execute_result"
    }
   ],
   "source": [
    "model4.fit(X_med,y_med)"
   ]
  },
  {
   "cell_type": "code",
   "execution_count": 305,
   "metadata": {},
   "outputs": [
    {
     "name": "stdout",
     "output_type": "stream",
     "text": [
      "[[0.         0.         0.         ... 0.         0.         0.        ]\n",
      " [0.         0.         1.         ... 0.         0.         0.        ]\n",
      " [0.         0.         0.         ... 0.         0.         0.        ]\n",
      " ...\n",
      " [0.         0.         0.         ... 0.         0.         1.        ]\n",
      " [0.         0.         0.         ... 0.         0.         1.        ]\n",
      " [0.         0.         0.         ... 0.         0.26315789 0.57894737]]\n"
     ]
    }
   ],
   "source": [
    "predictions1 = model1.predict_proba(X_med)\n",
    "print(predictions)"
   ]
  },
  {
   "cell_type": "code",
   "execution_count": 306,
   "metadata": {},
   "outputs": [
    {
     "data": {
      "text/plain": [
       "0.9994161218343228"
      ]
     },
     "execution_count": 306,
     "metadata": {},
     "output_type": "execute_result"
    }
   ],
   "source": [
    "roc_auc_score(y_med, predictions1, multi_class='ovr')"
   ]
  },
  {
   "cell_type": "code",
   "execution_count": 307,
   "metadata": {},
   "outputs": [],
   "source": [
    "predictions2= model2.predict_proba(X_med)\n",
    "\n",
    "predictions3 = model3.predict_proba(X_med)\n",
    "\n",
    "predictions4 = model4.predict_proba(X_med)\n",
    "\n"
   ]
  },
  {
   "cell_type": "code",
   "execution_count": 308,
   "metadata": {},
   "outputs": [
    {
     "data": {
      "text/plain": [
       "0.9993809462435446"
      ]
     },
     "execution_count": 308,
     "metadata": {},
     "output_type": "execute_result"
    }
   ],
   "source": [
    "roc_auc_score(y_med, predictions2, multi_class='ovr')"
   ]
  },
  {
   "cell_type": "code",
   "execution_count": 309,
   "metadata": {},
   "outputs": [
    {
     "data": {
      "text/plain": [
       "0.9994161218343228"
      ]
     },
     "execution_count": 309,
     "metadata": {},
     "output_type": "execute_result"
    }
   ],
   "source": [
    "roc_auc_score(y_med, predictions3, multi_class='ovr')"
   ]
  },
  {
   "cell_type": "code",
   "execution_count": 310,
   "metadata": {},
   "outputs": [
    {
     "data": {
      "text/plain": [
       "0.9951130661655609"
      ]
     },
     "execution_count": 310,
     "metadata": {},
     "output_type": "execute_result"
    }
   ],
   "source": [
    "roc_auc_score(y_med, predictions4, multi_class='ovr')"
   ]
  },
  {
   "cell_type": "markdown",
   "metadata": {},
   "source": [
    "# PROBABILIDADE"
   ]
  },
  {
   "cell_type": "code",
   "execution_count": 58,
   "metadata": {},
   "outputs": [
    {
     "name": "stdout",
     "output_type": "stream",
     "text": [
      "[[0.9        0.1       ]\n",
      " [0.83       0.17      ]\n",
      " [0.92       0.08      ]\n",
      " ...\n",
      " [0.0655495  0.9344505 ]\n",
      " [0.         1.        ]\n",
      " [0.49173738 0.50826262]]\n"
     ]
    }
   ],
   "source": [
    "model = RandomForestClassifier(max_depth=27,random_state=42)\n",
    "classifier = model.fit(X_med,y_med)\n",
    "predictions = classifier.predict_proba(X_med)\n",
    "print(predictions)"
   ]
  },
  {
   "cell_type": "code",
   "execution_count": 59,
   "metadata": {},
   "outputs": [],
   "source": [
    "testar=X_med"
   ]
  },
  {
   "cell_type": "code",
   "execution_count": 60,
   "metadata": {},
   "outputs": [],
   "source": [
    "predict=cross_val_predict(model, X_med, y_med, cv=cv)\n",
    "testar['predict']=predict\n",
    "testar['real']=y_med"
   ]
  },
  {
   "cell_type": "code",
   "execution_count": 61,
   "metadata": {},
   "outputs": [],
   "source": [
    "prob_0=[]\n",
    "prob_1=[]\n",
    "\n",
    "for d in predictions:\n",
    "    prob_0.append(d[0])\n",
    "    prob_1.append(d[1])\n",
    "testar['probabilidade0']=prob_0\n",
    "testar['probabilidade1']=prob_1"
   ]
  },
  {
   "cell_type": "code",
   "execution_count": 62,
   "metadata": {},
   "outputs": [
    {
     "data": {
      "text/html": [
       "<div>\n",
       "<style scoped>\n",
       "    .dataframe tbody tr th:only-of-type {\n",
       "        vertical-align: middle;\n",
       "    }\n",
       "\n",
       "    .dataframe tbody tr th {\n",
       "        vertical-align: top;\n",
       "    }\n",
       "\n",
       "    .dataframe thead th {\n",
       "        text-align: right;\n",
       "    }\n",
       "</style>\n",
       "<table border=\"1\" class=\"dataframe\">\n",
       "  <thead>\n",
       "    <tr style=\"text-align: right;\">\n",
       "      <th></th>\n",
       "      <th>ID_SEQ</th>\n",
       "      <th>IDADE</th>\n",
       "      <th>afluencia</th>\n",
       "      <th>ID_DIG</th>\n",
       "      <th>MOTIVO</th>\n",
       "      <th>SEXO</th>\n",
       "      <th>NUM_INTERNAMENTOS</th>\n",
       "      <th>PERIODO</th>\n",
       "      <th>NUM_INT_MESMO_DIG</th>\n",
       "      <th>PERIODO_MESMO_DIG</th>\n",
       "      <th>LOS_ANTERIOR</th>\n",
       "      <th>predict</th>\n",
       "      <th>real</th>\n",
       "      <th>probabilidade0</th>\n",
       "      <th>probabilidade1</th>\n",
       "    </tr>\n",
       "  </thead>\n",
       "  <tbody>\n",
       "    <tr>\n",
       "      <th>0</th>\n",
       "      <td>1</td>\n",
       "      <td>84</td>\n",
       "      <td>20</td>\n",
       "      <td>1</td>\n",
       "      <td>3</td>\n",
       "      <td>2</td>\n",
       "      <td>0</td>\n",
       "      <td>1</td>\n",
       "      <td>0</td>\n",
       "      <td>1</td>\n",
       "      <td>766380.0</td>\n",
       "      <td>0</td>\n",
       "      <td>0</td>\n",
       "      <td>0.900000</td>\n",
       "      <td>0.100000</td>\n",
       "    </tr>\n",
       "    <tr>\n",
       "      <th>1</th>\n",
       "      <td>2</td>\n",
       "      <td>90</td>\n",
       "      <td>60</td>\n",
       "      <td>1</td>\n",
       "      <td>3</td>\n",
       "      <td>2</td>\n",
       "      <td>0</td>\n",
       "      <td>1</td>\n",
       "      <td>0</td>\n",
       "      <td>1</td>\n",
       "      <td>795960.0</td>\n",
       "      <td>0</td>\n",
       "      <td>0</td>\n",
       "      <td>0.830000</td>\n",
       "      <td>0.170000</td>\n",
       "    </tr>\n",
       "    <tr>\n",
       "      <th>2</th>\n",
       "      <td>2</td>\n",
       "      <td>62</td>\n",
       "      <td>7</td>\n",
       "      <td>1</td>\n",
       "      <td>3</td>\n",
       "      <td>2</td>\n",
       "      <td>0</td>\n",
       "      <td>1</td>\n",
       "      <td>0</td>\n",
       "      <td>1</td>\n",
       "      <td>325440.0</td>\n",
       "      <td>0</td>\n",
       "      <td>0</td>\n",
       "      <td>0.920000</td>\n",
       "      <td>0.080000</td>\n",
       "    </tr>\n",
       "    <tr>\n",
       "      <th>3</th>\n",
       "      <td>3</td>\n",
       "      <td>55</td>\n",
       "      <td>105</td>\n",
       "      <td>1</td>\n",
       "      <td>3</td>\n",
       "      <td>2</td>\n",
       "      <td>0</td>\n",
       "      <td>1</td>\n",
       "      <td>0</td>\n",
       "      <td>3</td>\n",
       "      <td>5482739.0</td>\n",
       "      <td>0</td>\n",
       "      <td>1</td>\n",
       "      <td>0.220000</td>\n",
       "      <td>0.780000</td>\n",
       "    </tr>\n",
       "    <tr>\n",
       "      <th>4</th>\n",
       "      <td>2</td>\n",
       "      <td>63</td>\n",
       "      <td>73</td>\n",
       "      <td>2</td>\n",
       "      <td>3</td>\n",
       "      <td>1</td>\n",
       "      <td>0</td>\n",
       "      <td>1</td>\n",
       "      <td>0</td>\n",
       "      <td>1</td>\n",
       "      <td>763560.0</td>\n",
       "      <td>0</td>\n",
       "      <td>0</td>\n",
       "      <td>0.940000</td>\n",
       "      <td>0.060000</td>\n",
       "    </tr>\n",
       "    <tr>\n",
       "      <th>...</th>\n",
       "      <td>...</td>\n",
       "      <td>...</td>\n",
       "      <td>...</td>\n",
       "      <td>...</td>\n",
       "      <td>...</td>\n",
       "      <td>...</td>\n",
       "      <td>...</td>\n",
       "      <td>...</td>\n",
       "      <td>...</td>\n",
       "      <td>...</td>\n",
       "      <td>...</td>\n",
       "      <td>...</td>\n",
       "      <td>...</td>\n",
       "      <td>...</td>\n",
       "      <td>...</td>\n",
       "    </tr>\n",
       "    <tr>\n",
       "      <th>25163</th>\n",
       "      <td>5</td>\n",
       "      <td>90</td>\n",
       "      <td>112</td>\n",
       "      <td>1</td>\n",
       "      <td>3</td>\n",
       "      <td>2</td>\n",
       "      <td>0</td>\n",
       "      <td>1</td>\n",
       "      <td>0</td>\n",
       "      <td>1</td>\n",
       "      <td>0.0</td>\n",
       "      <td>1</td>\n",
       "      <td>1</td>\n",
       "      <td>0.393258</td>\n",
       "      <td>0.606742</td>\n",
       "    </tr>\n",
       "    <tr>\n",
       "      <th>25164</th>\n",
       "      <td>5</td>\n",
       "      <td>66</td>\n",
       "      <td>111</td>\n",
       "      <td>1</td>\n",
       "      <td>3</td>\n",
       "      <td>1</td>\n",
       "      <td>0</td>\n",
       "      <td>1</td>\n",
       "      <td>0</td>\n",
       "      <td>1</td>\n",
       "      <td>0.0</td>\n",
       "      <td>1</td>\n",
       "      <td>1</td>\n",
       "      <td>0.323251</td>\n",
       "      <td>0.676749</td>\n",
       "    </tr>\n",
       "    <tr>\n",
       "      <th>25165</th>\n",
       "      <td>5</td>\n",
       "      <td>93</td>\n",
       "      <td>118</td>\n",
       "      <td>17</td>\n",
       "      <td>3</td>\n",
       "      <td>1</td>\n",
       "      <td>0</td>\n",
       "      <td>1</td>\n",
       "      <td>0</td>\n",
       "      <td>1</td>\n",
       "      <td>0.0</td>\n",
       "      <td>1</td>\n",
       "      <td>1</td>\n",
       "      <td>0.065549</td>\n",
       "      <td>0.934451</td>\n",
       "    </tr>\n",
       "    <tr>\n",
       "      <th>25166</th>\n",
       "      <td>63</td>\n",
       "      <td>66</td>\n",
       "      <td>68</td>\n",
       "      <td>1</td>\n",
       "      <td>3</td>\n",
       "      <td>1</td>\n",
       "      <td>1</td>\n",
       "      <td>1</td>\n",
       "      <td>0</td>\n",
       "      <td>1</td>\n",
       "      <td>1885991.0</td>\n",
       "      <td>1</td>\n",
       "      <td>1</td>\n",
       "      <td>0.000000</td>\n",
       "      <td>1.000000</td>\n",
       "    </tr>\n",
       "    <tr>\n",
       "      <th>25167</th>\n",
       "      <td>5</td>\n",
       "      <td>84</td>\n",
       "      <td>109</td>\n",
       "      <td>1</td>\n",
       "      <td>3</td>\n",
       "      <td>2</td>\n",
       "      <td>0</td>\n",
       "      <td>1</td>\n",
       "      <td>0</td>\n",
       "      <td>1</td>\n",
       "      <td>0.0</td>\n",
       "      <td>1</td>\n",
       "      <td>1</td>\n",
       "      <td>0.491737</td>\n",
       "      <td>0.508263</td>\n",
       "    </tr>\n",
       "  </tbody>\n",
       "</table>\n",
       "<p>25168 rows × 15 columns</p>\n",
       "</div>"
      ],
      "text/plain": [
       "       ID_SEQ  IDADE  afluencia  ID_DIG MOTIVO  SEXO  NUM_INTERNAMENTOS  \\\n",
       "0           1     84         20       1      3     2                  0   \n",
       "1           2     90         60       1      3     2                  0   \n",
       "2           2     62          7       1      3     2                  0   \n",
       "3           3     55        105       1      3     2                  0   \n",
       "4           2     63         73       2      3     1                  0   \n",
       "...       ...    ...        ...     ...    ...   ...                ...   \n",
       "25163       5     90        112       1      3     2                  0   \n",
       "25164       5     66        111       1      3     1                  0   \n",
       "25165       5     93        118      17      3     1                  0   \n",
       "25166      63     66         68       1      3     1                  1   \n",
       "25167       5     84        109       1      3     2                  0   \n",
       "\n",
       "       PERIODO  NUM_INT_MESMO_DIG  PERIODO_MESMO_DIG  LOS_ANTERIOR  predict  \\\n",
       "0            1                  0                  1      766380.0        0   \n",
       "1            1                  0                  1      795960.0        0   \n",
       "2            1                  0                  1      325440.0        0   \n",
       "3            1                  0                  3     5482739.0        0   \n",
       "4            1                  0                  1      763560.0        0   \n",
       "...        ...                ...                ...           ...      ...   \n",
       "25163        1                  0                  1           0.0        1   \n",
       "25164        1                  0                  1           0.0        1   \n",
       "25165        1                  0                  1           0.0        1   \n",
       "25166        1                  0                  1     1885991.0        1   \n",
       "25167        1                  0                  1           0.0        1   \n",
       "\n",
       "       real  probabilidade0  probabilidade1  \n",
       "0         0        0.900000        0.100000  \n",
       "1         0        0.830000        0.170000  \n",
       "2         0        0.920000        0.080000  \n",
       "3         1        0.220000        0.780000  \n",
       "4         0        0.940000        0.060000  \n",
       "...     ...             ...             ...  \n",
       "25163     1        0.393258        0.606742  \n",
       "25164     1        0.323251        0.676749  \n",
       "25165     1        0.065549        0.934451  \n",
       "25166     1        0.000000        1.000000  \n",
       "25167     1        0.491737        0.508263  \n",
       "\n",
       "[25168 rows x 15 columns]"
      ]
     },
     "execution_count": 62,
     "metadata": {},
     "output_type": "execute_result"
    }
   ],
   "source": [
    "testar"
   ]
  },
  {
   "cell_type": "code",
   "execution_count": 66,
   "metadata": {},
   "outputs": [
    {
     "data": {
      "text/html": [
       "<div>\n",
       "<style scoped>\n",
       "    .dataframe tbody tr th:only-of-type {\n",
       "        vertical-align: middle;\n",
       "    }\n",
       "\n",
       "    .dataframe tbody tr th {\n",
       "        vertical-align: top;\n",
       "    }\n",
       "\n",
       "    .dataframe thead th {\n",
       "        text-align: right;\n",
       "    }\n",
       "</style>\n",
       "<table border=\"1\" class=\"dataframe\">\n",
       "  <thead>\n",
       "    <tr style=\"text-align: right;\">\n",
       "      <th></th>\n",
       "      <th>ID_SEQ</th>\n",
       "      <th>IDADE</th>\n",
       "      <th>afluencia</th>\n",
       "      <th>ID_DIG</th>\n",
       "      <th>MOTIVO</th>\n",
       "      <th>SEXO</th>\n",
       "      <th>NUM_INTERNAMENTOS</th>\n",
       "      <th>PERIODO</th>\n",
       "      <th>NUM_INT_MESMO_DIG</th>\n",
       "      <th>PERIODO_MESMO_DIG</th>\n",
       "      <th>LOS_ANTERIOR</th>\n",
       "      <th>predict</th>\n",
       "      <th>real</th>\n",
       "      <th>probabilidade0</th>\n",
       "      <th>probabilidade1</th>\n",
       "    </tr>\n",
       "  </thead>\n",
       "  <tbody>\n",
       "    <tr>\n",
       "      <th>3</th>\n",
       "      <td>3</td>\n",
       "      <td>55</td>\n",
       "      <td>105</td>\n",
       "      <td>1</td>\n",
       "      <td>3</td>\n",
       "      <td>2</td>\n",
       "      <td>0</td>\n",
       "      <td>1</td>\n",
       "      <td>0</td>\n",
       "      <td>3</td>\n",
       "      <td>5482739.0</td>\n",
       "      <td>0</td>\n",
       "      <td>1</td>\n",
       "      <td>0.220000</td>\n",
       "      <td>0.780000</td>\n",
       "    </tr>\n",
       "    <tr>\n",
       "      <th>8</th>\n",
       "      <td>2</td>\n",
       "      <td>68</td>\n",
       "      <td>58</td>\n",
       "      <td>1</td>\n",
       "      <td>3</td>\n",
       "      <td>2</td>\n",
       "      <td>0</td>\n",
       "      <td>1</td>\n",
       "      <td>0</td>\n",
       "      <td>1</td>\n",
       "      <td>320580.0</td>\n",
       "      <td>1</td>\n",
       "      <td>0</td>\n",
       "      <td>0.840000</td>\n",
       "      <td>0.160000</td>\n",
       "    </tr>\n",
       "    <tr>\n",
       "      <th>11</th>\n",
       "      <td>5</td>\n",
       "      <td>80</td>\n",
       "      <td>2</td>\n",
       "      <td>1</td>\n",
       "      <td>3</td>\n",
       "      <td>2</td>\n",
       "      <td>0</td>\n",
       "      <td>1</td>\n",
       "      <td>0</td>\n",
       "      <td>1</td>\n",
       "      <td>0.0</td>\n",
       "      <td>1</td>\n",
       "      <td>0</td>\n",
       "      <td>0.833434</td>\n",
       "      <td>0.166566</td>\n",
       "    </tr>\n",
       "    <tr>\n",
       "      <th>21</th>\n",
       "      <td>5</td>\n",
       "      <td>84</td>\n",
       "      <td>12</td>\n",
       "      <td>1</td>\n",
       "      <td>3</td>\n",
       "      <td>2</td>\n",
       "      <td>0</td>\n",
       "      <td>1</td>\n",
       "      <td>0</td>\n",
       "      <td>1</td>\n",
       "      <td>0.0</td>\n",
       "      <td>1</td>\n",
       "      <td>0</td>\n",
       "      <td>0.683434</td>\n",
       "      <td>0.316566</td>\n",
       "    </tr>\n",
       "    <tr>\n",
       "      <th>25</th>\n",
       "      <td>5</td>\n",
       "      <td>60</td>\n",
       "      <td>18</td>\n",
       "      <td>1</td>\n",
       "      <td>3</td>\n",
       "      <td>1</td>\n",
       "      <td>0</td>\n",
       "      <td>1</td>\n",
       "      <td>0</td>\n",
       "      <td>1</td>\n",
       "      <td>0.0</td>\n",
       "      <td>1</td>\n",
       "      <td>0</td>\n",
       "      <td>0.662776</td>\n",
       "      <td>0.337224</td>\n",
       "    </tr>\n",
       "    <tr>\n",
       "      <th>...</th>\n",
       "      <td>...</td>\n",
       "      <td>...</td>\n",
       "      <td>...</td>\n",
       "      <td>...</td>\n",
       "      <td>...</td>\n",
       "      <td>...</td>\n",
       "      <td>...</td>\n",
       "      <td>...</td>\n",
       "      <td>...</td>\n",
       "      <td>...</td>\n",
       "      <td>...</td>\n",
       "      <td>...</td>\n",
       "      <td>...</td>\n",
       "      <td>...</td>\n",
       "      <td>...</td>\n",
       "    </tr>\n",
       "    <tr>\n",
       "      <th>25123</th>\n",
       "      <td>2</td>\n",
       "      <td>93</td>\n",
       "      <td>77</td>\n",
       "      <td>1</td>\n",
       "      <td>3</td>\n",
       "      <td>2</td>\n",
       "      <td>0</td>\n",
       "      <td>1</td>\n",
       "      <td>0</td>\n",
       "      <td>1</td>\n",
       "      <td>333840.0</td>\n",
       "      <td>0</td>\n",
       "      <td>1</td>\n",
       "      <td>0.062500</td>\n",
       "      <td>0.937500</td>\n",
       "    </tr>\n",
       "    <tr>\n",
       "      <th>25138</th>\n",
       "      <td>5</td>\n",
       "      <td>85</td>\n",
       "      <td>101</td>\n",
       "      <td>1</td>\n",
       "      <td>3</td>\n",
       "      <td>2</td>\n",
       "      <td>0</td>\n",
       "      <td>1</td>\n",
       "      <td>0</td>\n",
       "      <td>1</td>\n",
       "      <td>0.0</td>\n",
       "      <td>0</td>\n",
       "      <td>1</td>\n",
       "      <td>0.489622</td>\n",
       "      <td>0.510378</td>\n",
       "    </tr>\n",
       "    <tr>\n",
       "      <th>25139</th>\n",
       "      <td>5</td>\n",
       "      <td>81</td>\n",
       "      <td>165</td>\n",
       "      <td>1</td>\n",
       "      <td>3</td>\n",
       "      <td>1</td>\n",
       "      <td>0</td>\n",
       "      <td>1</td>\n",
       "      <td>0</td>\n",
       "      <td>1</td>\n",
       "      <td>0.0</td>\n",
       "      <td>0</td>\n",
       "      <td>1</td>\n",
       "      <td>0.213492</td>\n",
       "      <td>0.786508</td>\n",
       "    </tr>\n",
       "    <tr>\n",
       "      <th>25147</th>\n",
       "      <td>5</td>\n",
       "      <td>84</td>\n",
       "      <td>91</td>\n",
       "      <td>1</td>\n",
       "      <td>3</td>\n",
       "      <td>2</td>\n",
       "      <td>0</td>\n",
       "      <td>1</td>\n",
       "      <td>0</td>\n",
       "      <td>1</td>\n",
       "      <td>0.0</td>\n",
       "      <td>0</td>\n",
       "      <td>1</td>\n",
       "      <td>0.577671</td>\n",
       "      <td>0.422329</td>\n",
       "    </tr>\n",
       "    <tr>\n",
       "      <th>25160</th>\n",
       "      <td>5</td>\n",
       "      <td>95</td>\n",
       "      <td>122</td>\n",
       "      <td>1</td>\n",
       "      <td>3</td>\n",
       "      <td>2</td>\n",
       "      <td>0</td>\n",
       "      <td>1</td>\n",
       "      <td>0</td>\n",
       "      <td>1</td>\n",
       "      <td>0.0</td>\n",
       "      <td>0</td>\n",
       "      <td>1</td>\n",
       "      <td>0.570467</td>\n",
       "      <td>0.429533</td>\n",
       "    </tr>\n",
       "  </tbody>\n",
       "</table>\n",
       "<p>5714 rows × 15 columns</p>\n",
       "</div>"
      ],
      "text/plain": [
       "       ID_SEQ  IDADE  afluencia  ID_DIG MOTIVO  SEXO  NUM_INTERNAMENTOS  \\\n",
       "3           3     55        105       1      3     2                  0   \n",
       "8           2     68         58       1      3     2                  0   \n",
       "11          5     80          2       1      3     2                  0   \n",
       "21          5     84         12       1      3     2                  0   \n",
       "25          5     60         18       1      3     1                  0   \n",
       "...       ...    ...        ...     ...    ...   ...                ...   \n",
       "25123       2     93         77       1      3     2                  0   \n",
       "25138       5     85        101       1      3     2                  0   \n",
       "25139       5     81        165       1      3     1                  0   \n",
       "25147       5     84         91       1      3     2                  0   \n",
       "25160       5     95        122       1      3     2                  0   \n",
       "\n",
       "       PERIODO  NUM_INT_MESMO_DIG  PERIODO_MESMO_DIG  LOS_ANTERIOR  predict  \\\n",
       "3            1                  0                  3     5482739.0        0   \n",
       "8            1                  0                  1      320580.0        1   \n",
       "11           1                  0                  1           0.0        1   \n",
       "21           1                  0                  1           0.0        1   \n",
       "25           1                  0                  1           0.0        1   \n",
       "...        ...                ...                ...           ...      ...   \n",
       "25123        1                  0                  1      333840.0        0   \n",
       "25138        1                  0                  1           0.0        0   \n",
       "25139        1                  0                  1           0.0        0   \n",
       "25147        1                  0                  1           0.0        0   \n",
       "25160        1                  0                  1           0.0        0   \n",
       "\n",
       "       real  probabilidade0  probabilidade1  \n",
       "3         1        0.220000        0.780000  \n",
       "8         0        0.840000        0.160000  \n",
       "11        0        0.833434        0.166566  \n",
       "21        0        0.683434        0.316566  \n",
       "25        0        0.662776        0.337224  \n",
       "...     ...             ...             ...  \n",
       "25123     1        0.062500        0.937500  \n",
       "25138     1        0.489622        0.510378  \n",
       "25139     1        0.213492        0.786508  \n",
       "25147     1        0.577671        0.422329  \n",
       "25160     1        0.570467        0.429533  \n",
       "\n",
       "[5714 rows x 15 columns]"
      ]
     },
     "execution_count": 66,
     "metadata": {},
     "output_type": "execute_result"
    }
   ],
   "source": [
    "testar[testar['predict']!=testar['real']]"
   ]
  },
  {
   "cell_type": "code",
   "execution_count": 65,
   "metadata": {},
   "outputs": [
    {
     "data": {
      "text/plain": [
       "0.22703432930705658"
      ]
     },
     "execution_count": 65,
     "metadata": {},
     "output_type": "execute_result"
    }
   ],
   "source": [
    "5714/25168"
   ]
  },
  {
   "cell_type": "code",
   "execution_count": null,
   "metadata": {},
   "outputs": [],
   "source": []
  }
 ],
 "metadata": {
  "kernelspec": {
   "display_name": "Python 3 (ipykernel)",
   "language": "python",
   "name": "python3"
  },
  "language_info": {
   "codemirror_mode": {
    "name": "ipython",
    "version": 3
   },
   "file_extension": ".py",
   "mimetype": "text/x-python",
   "name": "python",
   "nbconvert_exporter": "python",
   "pygments_lexer": "ipython3",
   "version": "3.10.5"
  }
 },
 "nbformat": 4,
 "nbformat_minor": 4
}
